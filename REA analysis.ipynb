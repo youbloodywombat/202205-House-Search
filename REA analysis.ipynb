{
 "cells": [
  {
   "cell_type": "code",
   "execution_count": 3,
   "id": "15359e4b",
   "metadata": {},
   "outputs": [],
   "source": [
    "import numpy as np \n",
    "import pandas as pd \n",
    "import os\n",
    "#from chart_studio.plotly.offline import init_notebook_mode, iplot\n",
    "#import chart_studio.plotly.plotly as py\n",
    "#import chart_studio.plotly.figure_factory as FF\n",
    "#import chart_studio.plotly.plotly as py\n",
    "#from chart_studio.plotly import tools\n",
    "#from chart_studio.plotly import tools\n",
    "#import chart_studio.plotly.graph_objs as go\n",
    "\n",
    "import chart_studio.plotly as py\n",
    "\n",
    "import plotly.graph_objects as go\n",
    "import plotly.express as px\n",
    "from plotly.subplots import make_subplots\n",
    "\n",
    "import matplotlib.pyplot as plt\n",
    "import seaborn as sns\n",
    "import folium\n",
    "from folium.features import DivIcon\n",
    "from folium.plugins import HeatMap\n",
    "import warnings\n",
    "import datetime\n",
    "import squarify\n",
    "warnings.filterwarnings(\"ignore\")\n",
    "# init_notebook_mode(connected=True)\n",
    "\n",
    "from datetime import date\n",
    "dtm = datetime.datetime(2021, 1, 1, 0, 0, 0, 000000)\n",
    "\n",
    "pd.set_option('display.max_colwidth', 100)"
   ]
  },
  {
   "cell_type": "code",
   "execution_count": 4,
   "id": "a57f62bd",
   "metadata": {},
   "outputs": [],
   "source": [
    "from realestate_com_au import RealestateComAu\n",
    "\n",
    "api = RealestateComAu()"
   ]
  },
  {
   "cell_type": "code",
   "execution_count": 5,
   "id": "5882d1cb",
   "metadata": {},
   "outputs": [
    {
     "name": "stdout",
     "output_type": "stream",
     "text": [
      "Help on method search in module realestate_com_au.realestate_com_au:\n",
      "\n",
      "search(limit=-1, channel='buy', locations=[], surrounding_suburbs=True, exclude_no_sale_price=False, furnished=False, pets_allowed=False, ex_under_contract=False, min_price=0, max_price=-1, min_bedrooms=0, max_bedrooms=-1, property_types=[], min_bathrooms=0, min_carspaces=0, min_land_size=0, construction_status=None, keywords=[], exclude_keywords=[]) method of realestate_com_au.realestate_com_au.RealestateComAu instance\n",
      "\n"
     ]
    }
   ],
   "source": [
    "#listings = api.search(locations=[\"north rocks\"], channel=\"sold\",bedrooms=4, exclude_keywords=[\"pool\"])\n",
    "\n",
    "help(api.search)\n"
   ]
  },
  {
   "cell_type": "code",
   "execution_count": null,
   "id": "a754d19a",
   "metadata": {},
   "outputs": [],
   "source": [
    "epping  = api.search(locations=[\"Epping\"], property_types=[\"townhouse\",\"house\"], channel=\"sold\", exclude_keywords=[\"pool\"])\n",
    "northrocks  = api.search(locations=[\"North Rocks\"], property_types=[\"townhouse\",\"house\"], channel=\"sold\", exclude_keywords=[\"pool\"])\n",
    "eastwood  = api.search(locations=[\"Eastwood\"], property_types=[\"townhouse\",\"house\"], channel=\"sold\", exclude_keywords=[\"pool\"])\n",
    "baulkham  = api.search(locations=[\"Baulkham Hills\"], property_types=[\"townhouse\",\"house\"], channel=\"sold\", exclude_keywords=[\"pool\"])\n",
    "winston  = api.search(locations=[\"Winston Hills\"], property_types=[\"townhouse\",\"house\"], channel=\"sold\", exclude_keywords=[\"pool\"])\n",
    "kellyville  = api.search(locations=[\"Kellyville\"], property_types=[\"townhouse\",\"house\"], channel=\"sold\", exclude_keywords=[\"pool\"])\n",
    "blacktown  = api.search(locations=[\"Blacktown\"], property_types=[\"townhouse\",\"house\"], channel=\"sold\", exclude_keywords=[\"pool\"])\n",
    "castle  = api.search(locations=[\"Castle Hill\"], property_types=[\"townhouse\",\"house\"], channel=\"sold\", exclude_keywords=[\"pool\"])\n",
    "ryde  = api.search(locations=[\"Ryde\"], property_types=[\"townhouse\",\"house\"], channel=\"sold\", exclude_keywords=[\"pool\"])\n",
    "rouse  = api.search(locations=[\"Rouse Hill\"], property_types=[\"townhouse\",\"house\"], channel=\"sold\", exclude_keywords=[\"pool\"])\n",
    "beecroft  = api.search(locations=[\"Beecroft\"], property_types=[\"townhouse\",\"house\"], channel=\"sold\", exclude_keywords=[\"pool\"])\n",
    "ermington  = api.search(locations=[\"Ermington\"], property_types=[\"townhouse\",\"house\"], channel=\"sold\", exclude_keywords=[\"pool\"])\n",
    "northmead  = api.search(locations=[\"Northmead\"], property_types=[\"townhouse\",\"house\"], channel=\"sold\", exclude_keywords=[\"pool\"])\n",
    "newington  = api.search(locations=[\"Newington\"], property_types=[\"townhouse\",\"house\"], channel=\"sold\", exclude_keywords=[\"pool\"])\n",
    "concord  = api.search(locations=[\"Concord\"], property_types=[\"townhouse\",\"house\"], channel=\"sold\", exclude_keywords=[\"pool\"])\n",
    "marsfield  = api.search(locations=[\"Marsfield\"], property_types=[\"townhouse\",\"house\"], channel=\"sold\", exclude_keywords=[\"pool\"])\n",
    "hornsby  = api.search(locations=[\"Hornsby\"], property_types=[\"townhouse\",\"house\"], channel=\"sold\", exclude_keywords=[\"pool\"])\n",
    "Lidcombe  = api.search(locations=[\"Lidcombe\"], property_types=[\"townhouse\",\"house\"], channel=\"sold\", exclude_keywords=[\"pool\"])\n",
    "Homebush  = api.search(locations=[\"Homebush\"], property_types=[\"townhouse\",\"house\"], channel=\"sold\", exclude_keywords=[\"pool\"])\n",
    "Straithfield  = api.search(locations=[\"Straithfield\"], property_types=[\"townhouse\",\"house\"], channel=\"sold\", exclude_keywords=[\"pool\"])\n",
    "Ashfield  = api.search(locations=[\"Ashfield\"], property_types=[\"townhouse\",\"house\"], channel=\"sold\", exclude_keywords=[\"pool\"])\n",
    "Leichhardt  = api.search(locations=[\"Leichhardt\"], property_types=[\"townhouse\",\"house\"], channel=\"sold\", exclude_keywords=[\"pool\"])\n",
    "Annandale  = api.search(locations=[\"Annandale\"], property_types=[\"townhouse\",\"house\"], channel=\"sold\", exclude_keywords=[\"pool\"])\n",
    "AllambieHeights  = api.search(locations=[\"Allambie Heights\"], property_types=[\"townhouse\",\"house\"], channel=\"sold\", exclude_keywords=[\"pool\"])\n",
    "Forestville  = api.search(locations=[\"Forestville\"], property_types=[\"townhouse\",\"house\"], channel=\"sold\", exclude_keywords=[\"pool\"])\n",
    "Lindfield  = api.search(locations=[\"Lindfield\"], property_types=[\"townhouse\",\"house\"], channel=\"sold\", exclude_keywords=[\"pool\"])\n",
    "Gordon  = api.search(locations=[\"Gordon\"], property_types=[\"townhouse\",\"house\"], channel=\"sold\", exclude_keywords=[\"pool\"])\n",
    "Pymble  = api.search(locations=[\"Pymble\"], property_types=[\"townhouse\",\"house\"], channel=\"sold\", exclude_keywords=[\"pool\"])\n",
    "LaneCove  = api.search(locations=[\"Lane Cove\"], property_types=[\"townhouse\",\"house\"], channel=\"sold\", exclude_keywords=[\"pool\"])\n",
    "Meadowbank  = api.search(locations=[\"Meadowbank\"], property_types=[\"townhouse\",\"house\"], channel=\"sold\", exclude_keywords=[\"pool\"])\n",
    "SummerHill  = api.search(locations=[\"Summer Hill\"], property_types=[\"townhouse\",\"house\"], channel=\"sold\", exclude_keywords=[\"pool\"])\n",
    "Rydalmere  = api.search(locations=[\"Rydalmere\"], property_types=[\"townhouse\",\"house\"], channel=\"sold\", exclude_keywords=[\"pool\"])\n",
    "Rosehill  = api.search(locations=[\"Rosehill\"], property_types=[\"townhouse\",\"house\"], channel=\"sold\", exclude_keywords=[\"pool\"])\n",
    "Westmead  = api.search(locations=[\"Westmead\"], property_types=[\"townhouse\",\"house\"], channel=\"sold\", exclude_keywords=[\"pool\"])\n",
    "Girraween  = api.search(locations=[\"Girraween\"], property_types=[\"townhouse\",\"house\"], channel=\"sold\", exclude_keywords=[\"pool\"])\n",
    "BeaumontHills  = api.search(locations=[\"Beaumont Hills\"], property_types=[\"townhouse\",\"house\"], channel=\"sold\", exclude_keywords=[\"pool\"])\n",
    "KellyvilleRidge  = api.search(locations=[\"Kellyville Ridge\"], property_types=[\"townhouse\",\"house\"], channel=\"sold\", exclude_keywords=[\"pool\"])\n",
    "ThePonds  = api.search(locations=[\"The Ponds\"], property_types=[\"townhouse\",\"house\"], channel=\"sold\", exclude_keywords=[\"pool\"])\n",
    "Schofields  = api.search(locations=[\"Schofields\"], property_types=[\"townhouse\",\"house\"], channel=\"sold\", exclude_keywords=[\"pool\"])\n",
    "MarsdenPark  = api.search(locations=[\"Marsden Park\"], property_types=[\"townhouse\",\"house\"], channel=\"sold\", exclude_keywords=[\"pool\"])\n",
    "KingsLangley  = api.search(locations=[\"Kings Langley\"], property_types=[\"townhouse\",\"house\"], channel=\"sold\", exclude_keywords=[\"pool\"])\n",
    "BellaVista  = api.search(locations=[\"Bella Vista\"], property_types=[\"townhouse\",\"house\"], channel=\"sold\", exclude_keywords=[\"pool\"])\n",
    "BoxHill  = api.search(locations=[\"Box Hill\"], property_types=[\"townhouse\",\"house\"], channel=\"sold\", exclude_keywords=[\"pool\"])\n",
    "PennantHills  = api.search(locations=[\"Pennant Hills\"], property_types=[\"townhouse\",\"house\"], channel=\"sold\", exclude_keywords=[\"pool\"])\n",
    "Earlwood  = api.search(locations=[\"Earlwood\"], property_types=[\"townhouse\",\"house\"], channel=\"sold\", exclude_keywords=[\"pool\"])\n",
    "Marrickville  = api.search(locations=[\"Marrickville\"], property_types=[\"townhouse\",\"house\"], channel=\"sold\", exclude_keywords=[\"pool\"])\n",
    "Dulwich  = api.search(locations=[\"Dulwich\"], property_types=[\"townhouse\",\"house\"], channel=\"sold\", exclude_keywords=[\"pool\"])\n",
    "Petersham  = api.search(locations=[\"Petersham\"], property_types=[\"townhouse\",\"house\"], channel=\"sold\", exclude_keywords=[\"pool\"])\n",
    "Campsie  = api.search(locations=[\"Campsie\"], property_types=[\"townhouse\",\"house\"], channel=\"sold\", exclude_keywords=[\"pool\"])\n",
    "Canterbury  = api.search(locations=[\"Canterbury\"], property_types=[\"townhouse\",\"house\"], channel=\"sold\", exclude_keywords=[\"pool\"])\n",
    "Berala  = api.search(locations=[\"Berala\"], property_types=[\"townhouse\",\"house\"], channel=\"sold\", exclude_keywords=[\"pool\"])\n",
    "Leppington  = api.search(locations=[\"Leppington\"], property_types=[\"townhouse\",\"house\"], channel=\"sold\", exclude_keywords=[\"pool\"])\n",
    "EdmondsonPark  = api.search(locations=[\"Edmondson Park\"], property_types=[\"townhouse\",\"house\"], channel=\"sold\", exclude_keywords=[\"pool\"])\n",
    "MacquariePark  = api.search(locations=[\"Macquarie Park\"], property_types=[\"townhouse\",\"house\"], channel=\"sold\", exclude_keywords=[\"pool\"])\n",
    "Chatswood  = api.search(locations=[\"Chatswood\"], property_types=[\"townhouse\",\"house\"], channel=\"sold\", exclude_keywords=[\"pool\"])\n",
    "Carlingford  = api.search(locations=[\"Carlingford\"], property_types=[\"townhouse\",\"house\"], channel=\"sold\", exclude_keywords=[\"pool\"])\n",
    "Kogarah  = api.search(locations=[\"Kogarah\"], property_types=[\"townhouse\",\"house\"], channel=\"sold\", exclude_keywords=[\"pool\"])\n",
    "Rockdale  = api.search(locations=[\"Rockdale\"], property_types=[\"townhouse\",\"house\"], channel=\"sold\", exclude_keywords=[\"pool\"])\n",
    "Cherrybrook  = api.search(locations=[\"Cherrybrook\"], property_types=[\"townhouse\",\"house\"], channel=\"sold\", exclude_keywords=[\"pool\"])\n",
    "Eastwood  = api.search(locations=[\"Eastwood\"], property_types=[\"townhouse\",\"house\"], channel=\"sold\", exclude_keywords=[\"pool\"])\n",
    "Homebush  = api.search(locations=[\"Homebush\"], property_types=[\"townhouse\",\"house\"], channel=\"sold\", exclude_keywords=[\"pool\"])\n",
    "Minto  = api.search(locations=[\"Minto\"], property_types=[\"townhouse\",\"house\"], channel=\"sold\", exclude_keywords=[\"pool\"])\n",
    "QuakersHill  = api.search(locations=[\"Quakers Hill\"], property_types=[\"townhouse\",\"house\"], channel=\"sold\", exclude_keywords=[\"pool\"])\n",
    "Revesby  = api.search(locations=[\"Revesby\"], property_types=[\"townhouse\",\"house\"], channel=\"sold\", exclude_keywords=[\"pool\"])\n",
    "SevenHills  = api.search(locations=[\"Seven Hills\"], property_types=[\"townhouse\",\"house\"], channel=\"sold\", exclude_keywords=[\"pool\"])\n",
    "StanhopeGardens  = api.search(locations=[\"Stanhope Gardens\"], property_types=[\"townhouse\",\"house\"], channel=\"sold\", exclude_keywords=[\"pool\"])\n",
    "Waterloo  = api.search(locations=[\"Waterloo\"], property_types=[\"townhouse\",\"house\"], channel=\"sold\", exclude_keywords=[\"pool\"])\n",
    "DulwichHill  = api.search(locations=[\"Dulwich Hill\"], property_types=[\"townhouse\",\"house\"], channel=\"sold\", exclude_keywords=[\"pool\"])\n",
    "NorthRyde  = api.search(locations=[\"North Ryde\"], property_types=[\"townhouse\",\"house\"], channel=\"sold\", exclude_keywords=[\"pool\"])\n",
    "Straithfield  = api.search(locations=[\"Straithfield\"], property_types=[\"townhouse\",\"house\"], channel=\"sold\", exclude_keywords=[\"pool\"])\n",
    "NorthStraithfield  = api.search(locations=[\"North Straithfield\"], property_types=[\"townhouse\",\"house\"], channel=\"sold\", exclude_keywords=[\"pool\"])\n",
    "Manly  = api.search(locations=[\"Manly\"], property_types=[\"townhouse\",\"house\"], channel=\"sold\", exclude_keywords=[\"pool\"])\n",
    "Randwick  = api.search(locations=[\"Randwick\"], property_types=[\"townhouse\",\"house\"], channel=\"sold\", exclude_keywords=[\"pool\"])\n",
    "Kensington  = api.search(locations=[\"Kensington\"], property_types=[\"townhouse\",\"house\"], channel=\"sold\", exclude_keywords=[\"pool\"])"
   ]
  },
  {
   "cell_type": "code",
   "execution_count": null,
   "id": "22f1ad24",
   "metadata": {},
   "outputs": [],
   "source": [
    "priority_suburbs = [epping,northrocks,eastwood,baulkham,winston,kellyville,blacktown,castle,ryde,rouse,beecroft,ermington,northmead,newington,concord,marsfield,hornsby,Lidcombe,Homebush,Straithfield,Ashfield,Leichhardt,Annandale,AllambieHeights,Forestville,Lindfield,Gordon,Pymble,LaneCove,Meadowbank,SummerHill,Rydalmere,Rosehill,Westmead,Girraween,BeaumontHills,KellyvilleRidge,ThePonds,Schofields,MarsdenPark,KingsLangley,BellaVista,BoxHill,PennantHills,Earlwood,Marrickville,Dulwich,Petersham,Campsie,Canterbury,Berala,Leppington,EdmondsonPark,MacquariePark,Chatswood,Carlingford,Kogarah,Rockdale,Cherrybrook,Eastwood,Homebush,Minto,QuakersHill,Revesby,SevenHills,StanhopeGardens,Waterloo,DulwichHill,NorthRyde,Straithfield,NorthStraithfield,Manly,Randwick,Kensington]\n",
    "dfs = []\n",
    "for name in priority_suburbs:\n",
    "    df = pd.DataFrame(name)\n",
    "    dfs.append(df)\n",
    "final = pd.concat(dfs, ignore_index=True)\n",
    "final.to_csv(\"/home/youwombat/202205-House-Search/REA_extract_2.csv\")"
   ]
  },
  {
   "cell_type": "code",
   "execution_count": 201,
   "id": "b3ac480f",
   "metadata": {},
   "outputs": [
    {
     "data": {
      "text/html": [
       "<div>\n",
       "<style scoped>\n",
       "    .dataframe tbody tr th:only-of-type {\n",
       "        vertical-align: middle;\n",
       "    }\n",
       "\n",
       "    .dataframe tbody tr th {\n",
       "        vertical-align: top;\n",
       "    }\n",
       "\n",
       "    .dataframe thead th {\n",
       "        text-align: right;\n",
       "    }\n",
       "</style>\n",
       "<table border=\"1\" class=\"dataframe\">\n",
       "  <thead>\n",
       "    <tr style=\"text-align: right;\">\n",
       "      <th></th>\n",
       "      <th>id</th>\n",
       "      <th>url</th>\n",
       "      <th>suburb</th>\n",
       "      <th>state</th>\n",
       "      <th>postcode</th>\n",
       "      <th>short_address</th>\n",
       "      <th>full_address</th>\n",
       "      <th>property_type</th>\n",
       "      <th>price</th>\n",
       "      <th>bedrooms</th>\n",
       "      <th>...</th>\n",
       "      <th>building_size_unit</th>\n",
       "      <th>land_size</th>\n",
       "      <th>land_size_unit</th>\n",
       "      <th>listing_company_id</th>\n",
       "      <th>listing_company_name</th>\n",
       "      <th>listing_company_phone</th>\n",
       "      <th>auction_date</th>\n",
       "      <th>sold_date</th>\n",
       "      <th>description</th>\n",
       "      <th>listers</th>\n",
       "    </tr>\n",
       "  </thead>\n",
       "  <tbody>\n",
       "    <tr>\n",
       "      <th>0</th>\n",
       "      <td>139180083</td>\n",
       "      <td>https://www.realestate.com.au/sold/property-house-nsw-epping-139180083</td>\n",
       "      <td>Epping</td>\n",
       "      <td>NSW</td>\n",
       "      <td>2121</td>\n",
       "      <td>50 Downing Street</td>\n",
       "      <td>50 Downing Street, Epping, NSW 2121</td>\n",
       "      <td>house</td>\n",
       "      <td>2700000.0</td>\n",
       "      <td>3</td>\n",
       "      <td>...</td>\n",
       "      <td>None</td>\n",
       "      <td>-1.0</td>\n",
       "      <td>None</td>\n",
       "      <td>BIJYFL</td>\n",
       "      <td>Century 21 Masterpiece - LANE COVE</td>\n",
       "      <td>0406857777</td>\n",
       "      <td>None</td>\n",
       "      <td>12 May 2022</td>\n",
       "      <td>Capitalize on this once in a lifetime chance to secure a 733sqm block with over 18m frontage in ...</td>\n",
       "      <td>[{'id': '2572966', 'name': 'Felix Han', 'agent_id': None, 'job_title': 'Sales Executive', 'url':...</td>\n",
       "    </tr>\n",
       "    <tr>\n",
       "      <th>1</th>\n",
       "      <td>139095587</td>\n",
       "      <td>https://www.realestate.com.au/sold/property-duplex+semi-detached-nsw-epping-139095587</td>\n",
       "      <td>Epping</td>\n",
       "      <td>NSW</td>\n",
       "      <td>2121</td>\n",
       "      <td>123C Carlingford Road</td>\n",
       "      <td>123C Carlingford Road, Epping, NSW 2121</td>\n",
       "      <td>duplex-semi-detached</td>\n",
       "      <td>1850000.0</td>\n",
       "      <td>5</td>\n",
       "      <td>...</td>\n",
       "      <td>None</td>\n",
       "      <td>-1.0</td>\n",
       "      <td>None</td>\n",
       "      <td>XRWEPS</td>\n",
       "      <td>Ray White - Epping</td>\n",
       "      <td>(02)98763133</td>\n",
       "      <td>None</td>\n",
       "      <td>04 May 2022</td>\n",
       "      <td>Emanating impeccable craftsmanship and exquisite opulence, this bespoke architect-designed duple...</td>\n",
       "      <td>[{'id': '50770', 'name': 'Catherine Li', 'agent_id': None, 'job_title': 'Principal | Elite Sales...</td>\n",
       "    </tr>\n",
       "    <tr>\n",
       "      <th>2</th>\n",
       "      <td>139181663</td>\n",
       "      <td>https://www.realestate.com.au/sold/property-house-nsw-epping-139181663</td>\n",
       "      <td>Epping</td>\n",
       "      <td>NSW</td>\n",
       "      <td>2121</td>\n",
       "      <td>15 Ormonde Avenue</td>\n",
       "      <td>15 Ormonde Avenue, Epping, NSW 2121</td>\n",
       "      <td>house</td>\n",
       "      <td>3025000.0</td>\n",
       "      <td>4</td>\n",
       "      <td>...</td>\n",
       "      <td>None</td>\n",
       "      <td>701.9</td>\n",
       "      <td>m²</td>\n",
       "      <td>PZDDKW</td>\n",
       "      <td>MyProperty - Epping</td>\n",
       "      <td>0298684888</td>\n",
       "      <td>None</td>\n",
       "      <td>02 May 2022</td>\n",
       "      <td>Premier Address in a Tightly-Held Quiet Cul-De-Sac (701.9m2).&lt;br/&gt;&lt;br/&gt;Enjoying a Blue Ribbon lo...</td>\n",
       "      <td>[{'id': '1035567', 'name': 'Peter Horozakis', 'agent_id': '6cda12ae-64d4-46ea-800e-78e5758209a4'...</td>\n",
       "    </tr>\n",
       "    <tr>\n",
       "      <th>3</th>\n",
       "      <td>138926967</td>\n",
       "      <td>https://www.realestate.com.au/sold/property-house-nsw-epping-138926967</td>\n",
       "      <td>Epping</td>\n",
       "      <td>NSW</td>\n",
       "      <td>2121</td>\n",
       "      <td>54 Gloucester Road</td>\n",
       "      <td>54 Gloucester Road, Epping, NSW 2121</td>\n",
       "      <td>house</td>\n",
       "      <td>2350000.0</td>\n",
       "      <td>3</td>\n",
       "      <td>...</td>\n",
       "      <td>None</td>\n",
       "      <td>2396.0</td>\n",
       "      <td>m²</td>\n",
       "      <td>THNEPP</td>\n",
       "      <td>Hunt Real Estate - Epping</td>\n",
       "      <td>0298694677</td>\n",
       "      <td>None</td>\n",
       "      <td>30 Apr 2022</td>\n",
       "      <td>North east facing and set overlooking the bushland of Lucknow Park this character home boasts an...</td>\n",
       "      <td>[{'id': '1218423', 'name': 'Peter Hunt', 'agent_id': 'a0ad1288-9479-4966-a0ef-5961a15e02f4', 'jo...</td>\n",
       "    </tr>\n",
       "    <tr>\n",
       "      <th>4</th>\n",
       "      <td>138941627</td>\n",
       "      <td>https://www.realestate.com.au/sold/property-house-nsw-epping-138941627</td>\n",
       "      <td>Epping</td>\n",
       "      <td>NSW</td>\n",
       "      <td>2121</td>\n",
       "      <td>46 Norfolk Road</td>\n",
       "      <td>46 Norfolk Road, Epping, NSW 2121</td>\n",
       "      <td>house</td>\n",
       "      <td>2200000.0</td>\n",
       "      <td>3</td>\n",
       "      <td>...</td>\n",
       "      <td>None</td>\n",
       "      <td>733.0</td>\n",
       "      <td>m²</td>\n",
       "      <td>XRWNEU</td>\n",
       "      <td>The Agency - North</td>\n",
       "      <td>(02)99537333</td>\n",
       "      <td>None</td>\n",
       "      <td>30 Apr 2022</td>\n",
       "      <td>Encased by privacy hedging and opening to a blissfully tranquil sanctuary of natural light and s...</td>\n",
       "      <td>[{'id': '1861410', 'name': 'Catherine Murphy', 'agent_id': '4bca31a8-2584-4aa0-be38-e3b12faffbe5...</td>\n",
       "    </tr>\n",
       "  </tbody>\n",
       "</table>\n",
       "<p>5 rows × 23 columns</p>\n",
       "</div>"
      ],
      "text/plain": [
       "          id  \\\n",
       "0  139180083   \n",
       "1  139095587   \n",
       "2  139181663   \n",
       "3  138926967   \n",
       "4  138941627   \n",
       "\n",
       "                                                                                     url  \\\n",
       "0                 https://www.realestate.com.au/sold/property-house-nsw-epping-139180083   \n",
       "1  https://www.realestate.com.au/sold/property-duplex+semi-detached-nsw-epping-139095587   \n",
       "2                 https://www.realestate.com.au/sold/property-house-nsw-epping-139181663   \n",
       "3                 https://www.realestate.com.au/sold/property-house-nsw-epping-138926967   \n",
       "4                 https://www.realestate.com.au/sold/property-house-nsw-epping-138941627   \n",
       "\n",
       "   suburb state postcode          short_address  \\\n",
       "0  Epping   NSW     2121      50 Downing Street   \n",
       "1  Epping   NSW     2121  123C Carlingford Road   \n",
       "2  Epping   NSW     2121      15 Ormonde Avenue   \n",
       "3  Epping   NSW     2121     54 Gloucester Road   \n",
       "4  Epping   NSW     2121        46 Norfolk Road   \n",
       "\n",
       "                              full_address         property_type      price  \\\n",
       "0      50 Downing Street, Epping, NSW 2121                 house  2700000.0   \n",
       "1  123C Carlingford Road, Epping, NSW 2121  duplex-semi-detached  1850000.0   \n",
       "2      15 Ormonde Avenue, Epping, NSW 2121                 house  3025000.0   \n",
       "3     54 Gloucester Road, Epping, NSW 2121                 house  2350000.0   \n",
       "4        46 Norfolk Road, Epping, NSW 2121                 house  2200000.0   \n",
       "\n",
       "   bedrooms  ...  building_size_unit  land_size land_size_unit  \\\n",
       "0         3  ...                None       -1.0           None   \n",
       "1         5  ...                None       -1.0           None   \n",
       "2         4  ...                None      701.9             m²   \n",
       "3         3  ...                None     2396.0             m²   \n",
       "4         3  ...                None      733.0             m²   \n",
       "\n",
       "  listing_company_id                listing_company_name  \\\n",
       "0             BIJYFL  Century 21 Masterpiece - LANE COVE   \n",
       "1             XRWEPS                  Ray White - Epping   \n",
       "2             PZDDKW                 MyProperty - Epping   \n",
       "3             THNEPP           Hunt Real Estate - Epping   \n",
       "4             XRWNEU                  The Agency - North   \n",
       "\n",
       "  listing_company_phone auction_date    sold_date  \\\n",
       "0            0406857777         None  12 May 2022   \n",
       "1          (02)98763133         None  04 May 2022   \n",
       "2            0298684888         None  02 May 2022   \n",
       "3            0298694677         None  30 Apr 2022   \n",
       "4          (02)99537333         None  30 Apr 2022   \n",
       "\n",
       "                                                                                           description  \\\n",
       "0  Capitalize on this once in a lifetime chance to secure a 733sqm block with over 18m frontage in ...   \n",
       "1  Emanating impeccable craftsmanship and exquisite opulence, this bespoke architect-designed duple...   \n",
       "2  Premier Address in a Tightly-Held Quiet Cul-De-Sac (701.9m2).<br/><br/>Enjoying a Blue Ribbon lo...   \n",
       "3  North east facing and set overlooking the bushland of Lucknow Park this character home boasts an...   \n",
       "4  Encased by privacy hedging and opening to a blissfully tranquil sanctuary of natural light and s...   \n",
       "\n",
       "                                                                                               listers  \n",
       "0  [{'id': '2572966', 'name': 'Felix Han', 'agent_id': None, 'job_title': 'Sales Executive', 'url':...  \n",
       "1  [{'id': '50770', 'name': 'Catherine Li', 'agent_id': None, 'job_title': 'Principal | Elite Sales...  \n",
       "2  [{'id': '1035567', 'name': 'Peter Horozakis', 'agent_id': '6cda12ae-64d4-46ea-800e-78e5758209a4'...  \n",
       "3  [{'id': '1218423', 'name': 'Peter Hunt', 'agent_id': 'a0ad1288-9479-4966-a0ef-5961a15e02f4', 'jo...  \n",
       "4  [{'id': '1861410', 'name': 'Catherine Murphy', 'agent_id': '4bca31a8-2584-4aa0-be38-e3b12faffbe5...  \n",
       "\n",
       "[5 rows x 23 columns]"
      ]
     },
     "execution_count": 201,
     "metadata": {},
     "output_type": "execute_result"
    }
   ],
   "source": [
    "final.head()"
   ]
  },
  {
   "cell_type": "code",
   "execution_count": 198,
   "id": "aa608289",
   "metadata": {},
   "outputs": [
    {
     "data": {
      "text/plain": [
       "id                       53551\n",
       "url                      53551\n",
       "suburb                   53551\n",
       "state                    53551\n",
       "postcode                 53551\n",
       "short_address            52411\n",
       "full_address             52411\n",
       "property_type            53551\n",
       "price                    51269\n",
       "bedrooms                 53551\n",
       "bathrooms                53551\n",
       "parking_spaces           53551\n",
       "building_size             4242\n",
       "building_size_unit        4242\n",
       "land_size                53551\n",
       "land_size_unit           30726\n",
       "listing_company_id       51333\n",
       "listing_company_name     51333\n",
       "listing_company_phone    51333\n",
       "auction_date                 0\n",
       "sold_date                53386\n",
       "description              53551\n",
       "listers                  53551\n",
       "dtype: int64"
      ]
     },
     "execution_count": 198,
     "metadata": {},
     "output_type": "execute_result"
    }
   ],
   "source": [
    "# test_df = pd.DataFrame(test)\n",
    "# test_df.count()\n",
    "# test_df.groupby(\"suburb\").count()[\"id\"].sort_values(ascending=False)\n",
    "\n",
    "final.count()\n",
    "# final.groupby(\"suburb\").count()[\"id\"].sort_values(ascending=False)\n",
    "# final[final[\"suburb\"]==\"Eastwood\"][\"full_address\"].value_counts()\n",
    "\n",
    "# final[final[\"full_address\"] == \"Lot N8 Avondale Way, Eastwood, NSW 2122\"].sort_values(\"sold_date\")\n"
   ]
  },
  {
   "cell_type": "code",
   "execution_count": null,
   "id": "e3caa619",
   "metadata": {},
   "outputs": [],
   "source": [
    "# final2 = final.drop_duplicates()\n",
    "final2= final.loc[final.astype(str).drop_duplicates().index]\n",
    "final2.count()"
   ]
  },
  {
   "cell_type": "code",
   "execution_count": null,
   "id": "8d850a3d",
   "metadata": {
    "scrolled": true
   },
   "outputs": [],
   "source": [
    "# df = pd.DataFrame(listings)\n",
    "# df.head(2)"
   ]
  },
  {
   "cell_type": "code",
   "execution_count": null,
   "id": "a87d5fba",
   "metadata": {},
   "outputs": [],
   "source": [
    "#average(listings.bedrooms)\n",
    "#average(listings.bedrooms)\n",
    "final2[\"sold_date_dt\"] = pd.to_datetime(final2[\"sold_date\"])\n",
    "final2[\"sold_date_dt\"]\n",
    "final2.describe()\n",
    "final2.isnull().sum().sort_values(ascending=False)\n",
    "#df.info()"
   ]
  },
  {
   "cell_type": "code",
   "execution_count": null,
   "id": "ca1a0737",
   "metadata": {},
   "outputs": [],
   "source": [
    "epping_listings = final2[final2[\"suburb\"]== \"Epping\"]\n",
    "northrocks_listings = final2[final2[\"suburb\"]== \"North Rocks\"]\n",
    "eastwood_listings = final2[final2[\"suburb\"]==   \"Eastwood\"]\n",
    "baulkham_listings = final2[final2[\"suburb\"]==   \"Baulkham Hills\"]\n",
    "winston_listings = final2[final2[\"suburb\"]==    \"Winston Hills\"]\n",
    "kellyville_listings = final2[final2[\"suburb\"]== \"Kellyville\"]\n",
    "blacktown_listings = final2[final2[\"suburb\"]==  \"Blacktown\"]\n",
    "castle_listings = final2[final2[\"suburb\"]== \"Castle Hill\"]\n",
    "ryde_listings = final2[final2[\"suburb\"]==   \"Ryde\"]\n",
    "rouse_listings = final2[final2[\"suburb\"]==  \"Rouse Hill\"]\n",
    "beecroft_listings = final2[final2[\"suburb\"]==   \"Beecroft\"]\n",
    "ermington_listings = final2[final2[\"suburb\"]==  \"Ermington\"]\n",
    "northmead_listings = final2[final2[\"suburb\"]==  \"Northmead\"]\n",
    "newington_listings = final2[final2[\"suburb\"]==  \"Newington\"]\n",
    "concord_listings = final2[final2[\"suburb\"]==    \"Concord\"]\n",
    "marsfield_listings = final2[final2[\"suburb\"]==  \"Marsfield\"]\n",
    "hornsby_listings = final2[final2[\"suburb\"]==    \"Hornsby\"]\n",
    "Lidcombe_listings = final2[final2[\"suburb\"]==   \"Lidcombe\"]\n",
    "Homebush_listings = final2[final2[\"suburb\"]==   \"Homebush\"]\n",
    "Straithfield_listings = final2[final2[\"suburb\"]==   \"Straithfield\"]\n",
    "Ashfield_listings = final2[final2[\"suburb\"]==   \"Ashfield\"]\n",
    "Leichhardt_listings = final2[final2[\"suburb\"]== \"Leichhardt\"]\n",
    "Annandale_listings = final2[final2[\"suburb\"]==  \"Annandale\"]\n",
    "AllambieHeights_listings = final2[final2[\"suburb\"]==    \"Allambie Heights\"]\n",
    "Forestville_listings = final2[final2[\"suburb\"]==    \"Forestville\"]\n",
    "Lindfield_listings = final2[final2[\"suburb\"]==  \"Lindfield\"]\n",
    "Gordon_listings = final2[final2[\"suburb\"]== \"Gordon\"]\n",
    "Pymble_listings = final2[final2[\"suburb\"]== \"Pymble\"]\n",
    "LaneCove_listings = final2[final2[\"suburb\"]==   \"Lane Cove\"]\n",
    "Meadowbank_listings = final2[final2[\"suburb\"]== \"Meadowbank\"]\n",
    "SummerHill_listings = final2[final2[\"suburb\"]== \"Summer Hill\"]\n",
    "Rydalmere_listings = final2[final2[\"suburb\"]==  \"Rydalmere\"]\n",
    "Rosehill_listings = final2[final2[\"suburb\"]==   \"Rosehill\"]\n",
    "Westmead_listings = final2[final2[\"suburb\"]==   \"Westmead\"]\n",
    "Girraween_listings = final2[final2[\"suburb\"]==  \"Girraween\"]\n",
    "BeaumontHills_listings = final2[final2[\"suburb\"]==  \"Beaumont Hills\"]\n",
    "KellyvilleRidge_listings = final2[final2[\"suburb\"]==    \"Kellyville Ridge\"]\n",
    "ThePonds_listings = final2[final2[\"suburb\"]==   \"The Ponds\"]\n",
    "Schofields_listings = final2[final2[\"suburb\"]== \"Schofields\"]\n",
    "MarsdenPark_listings = final2[final2[\"suburb\"]==    \"Marsden Park\"]\n",
    "KingsLangley_listings = final2[final2[\"suburb\"]==   \"Kings Langley\"]\n",
    "BellaVista_listings = final2[final2[\"suburb\"]== \"Bella Vista\"]\n",
    "BoxHill_listings = final2[final2[\"suburb\"]==    \"Box Hill\"]\n",
    "PennantHills_listings = final2[final2[\"suburb\"]==   \"Pennant Hills\"]\n",
    "Earlwood_listings = final2[final2[\"suburb\"]==   \"Earlwood\"]\n",
    "Marrickville_listings = final2[final2[\"suburb\"]==   \"Marrickville\"]\n",
    "Dulwich_listings = final2[final2[\"suburb\"]==    \"Dulwich\"]\n",
    "Petersham_listings = final2[final2[\"suburb\"]==  \"Petersham\"]\n",
    "Campsie_listings = final2[final2[\"suburb\"]==    \"Campsie\"]\n",
    "Canterbury_listings = final2[final2[\"suburb\"]== \"Canterbury\"]\n",
    "Berala_listings = final2[final2[\"suburb\"]== \"Berala\"]\n",
    "Leppington_listings = final2[final2[\"suburb\"]== \"Leppington\"]\n",
    "EdmondsonPark_listings = final2[final2[\"suburb\"]==  \"Edmondson Park\"]\n",
    "MacquariePark_listings = final2[final2[\"suburb\"]==  \"Macquarie Park\"]\n",
    "Chatswood_listings = final2[final2[\"suburb\"]==  \"Chatswood\"]\n",
    "Carlingford_listings = final2[final2[\"suburb\"]==    \"Carlingford\"]\n",
    "Kogarah_listings = final2[final2[\"suburb\"]==    \"Kogarah\"]\n",
    "Rockdale_listings = final2[final2[\"suburb\"]==   \"Rockdale\"]\n",
    "Cherrybrook_listings = final2[final2[\"suburb\"]==    \"Cherrybrook\"]\n",
    "Eastwood_listings = final2[final2[\"suburb\"]==   \"Eastwood\"]\n",
    "Homebush_listings = final2[final2[\"suburb\"]==   \"Homebush\"]\n",
    "Minto_listings = final2[final2[\"suburb\"]==  \"Minto\"]\n",
    "QuakersHill_listings = final2[final2[\"suburb\"]==    \"Quakers Hill\"]\n",
    "Revesby_listings = final2[final2[\"suburb\"]==    \"Revesby\"]\n",
    "SevenHills_listings = final2[final2[\"suburb\"]== \"Seven Hills\"]\n",
    "StanhopeGardens_listings = final2[final2[\"suburb\"]==    \"Stanhope Gardens\"]\n",
    "Waterloo_listings = final2[final2[\"suburb\"]==   \"Waterloo\"]\n",
    "DulwichHill = final2[final2[\"suburb\"]==\"Dulwich Hill\"]\n",
    "NorthRyde = final2[final2[\"suburb\"]==\"North Ryde\"]\n",
    "Straithfield = final2[final2[\"suburb\"]==\"Straithfield\"]\n",
    "NorthStraithfield = final2[final2[\"suburb\"]==\"North Straithfield\"]\n",
    "Manly = final2[final2[\"suburb\"]==\"Manly\"]\n",
    "Randwick = final2[final2[\"suburb\"]==\"Randwick\"]\n",
    "Kensington = final2[final2[\"suburb\"]==\"Kensington\"]"
   ]
  },
  {
   "cell_type": "code",
   "execution_count": null,
   "id": "5d9e206b",
   "metadata": {},
   "outputs": [],
   "source": [
    "#Price distributions pt1-3\n",
    "\n",
    "suburb_list = [epping_listings, northrocks_listings, eastwood_listings, baulkham_listings, winston_listings, kellyville_listings, blacktown_listings, castle_listings, ryde_listings, rouse_listings, beecroft_listings, ermington_listings, northmead_listings, newington_listings, concord_listings, marsfield_listings, hornsby_listings, Lidcombe_listings, Homebush_listings, Straithfield_listings, Ashfield_listings, Leichhardt_listings, Annandale_listings, AllambieHeights_listings, Forestville_listings, Lindfield_listings, Gordon_listings, Pymble_listings, LaneCove_listings, Meadowbank_listings, SummerHill_listings, Rydalmere_listings, Rosehill_listings, Westmead_listings, Girraween_listings, BeaumontHills_listings, KellyvilleRidge_listings, ThePonds_listings, Schofields_listings, MarsdenPark_listings, KingsLangley_listings, BellaVista_listings, BoxHill_listings, PennantHills_listings, Earlwood_listings, Marrickville_listings, Dulwich_listings, Petersham_listings, Campsie_listings, Canterbury_listings, Berala_listings, Leppington_listings, EdmondsonPark_listings, MacquariePark_listings, Chatswood_listings, Carlingford_listings, Kogarah_listings, Rockdale_listings, Cherrybrook_listings, Eastwood_listings, Homebush_listings, Minto_listings, QuakersHill_listings, Revesby_listings, SevenHills_listings, StanhopeGardens_listings, Waterloo_listings]\n",
    "\n",
    "fig = make_subplots(\n",
    "    rows=5, cols=5\n",
    "    #     ,subplot_titles=(\"Plot 1\", \"Plot 2\", \"Plot 3\", \"Plot 4\")\n",
    "    ,shared_yaxes=True\n",
    "    ,shared_xaxes=True)\n",
    "\n",
    "df_numb=0\n",
    "for row in range(1,6):\n",
    "    for col in range(1,6):\n",
    "        suburb_df = suburb_list[df_numb]\n",
    "        suburb_df_price = suburb_df[suburb_df[\"sold_date_dt\"] >= dtm][\"price\"]\n",
    "                \n",
    "        if suburb_list[df_numb][\"suburb\"].count()>=1:\n",
    "#             print('df_numb'+str(df_numb))\n",
    "#             print('row='+str(row))\n",
    "#             print('col='+str(col))\n",
    "            name = suburb_list[df_numb][\"suburb\"].unique()[0]\n",
    "#             print(name)\n",
    "#             print(type(name))\n",
    "            fig.update_xaxes(range=[0, 4000000], row=row, col=col)\n",
    "            fig.update_yaxes(range=[0, 150], row=row, col=col)\n",
    "            fig.add_trace(go.Histogram(x=suburb_df_price,xbins=dict(size=500000),autobinx = False, name=name),row =row, col=col)\n",
    "            \n",
    "        df_numb=df_numb+1                   \n",
    "          \n",
    "# Histograms\n",
    "#px.histogram(x=df[\"price\"].values)\n",
    "# fig.add_trace(go.Histogram(x=df[\"price\"])\n",
    "#         ,row =1, col=1\n",
    "#     )\n",
    "\n",
    "fig.show()\n",
    "\n",
    "\n",
    "# go.Figure(data=[go.Histogram(x=df[\"price\"].values)]).show()"
   ]
  },
  {
   "cell_type": "code",
   "execution_count": null,
   "id": "ec022acc",
   "metadata": {},
   "outputs": [],
   "source": [
    "fig = make_subplots(\n",
    "    rows=5, cols=5\n",
    "    #     ,subplot_titles=(\"Plot 1\", \"Plot 2\", \"Plot 3\", \"Plot 4\")\n",
    "    ,shared_yaxes=True\n",
    "    ,shared_xaxes=True)\n",
    "\n",
    "df_numb=25\n",
    "for row in range(1,6):\n",
    "    for col in range(1,6):\n",
    "        suburb_df = suburb_list[df_numb]\n",
    "        suburb_df_price = suburb_df[suburb_df[\"sold_date_dt\"] >= dtm][\"price\"]\n",
    "                \n",
    "        if suburb_list[df_numb][\"suburb\"].count()>=1:\n",
    "            name = suburb_list[df_numb][\"suburb\"].unique()[0]\n",
    "            fig.update_xaxes(range=[0, 4000000], row=row, col=col)\n",
    "            fig.update_yaxes(range=[0, 150], row=row, col=col)\n",
    "            fig.add_trace(go.Histogram(x=suburb_df_price,xbins=dict(size=500000),autobinx = False, name=name),row =row, col=col)\n",
    "            \n",
    "        df_numb=df_numb+1                   \n",
    "\n",
    "fig.show()"
   ]
  },
  {
   "cell_type": "code",
   "execution_count": null,
   "id": "a522a34f",
   "metadata": {},
   "outputs": [],
   "source": [
    "fig = make_subplots(\n",
    "    rows=5, cols=5\n",
    "    #     ,subplot_titles=(\"Plot 1\", \"Plot 2\", \"Plot 3\", \"Plot 4\")\n",
    "    ,shared_yaxes=True\n",
    "    ,shared_xaxes=True)\n",
    "\n",
    "df_numb=51\n",
    "for row in range(1,6):\n",
    "    for col in range(1,6):\n",
    "        suburb_df = suburb_list[df_numb]\n",
    "        suburb_df_price = suburb_df[suburb_df[\"sold_date_dt\"] >= dtm][\"price\"]\n",
    "        \n",
    "        if df_numb == 73:\n",
    "            break\n",
    "        if suburb_list[df_numb][\"suburb\"].count()>=1:\n",
    "            name = suburb_list[df_numb][\"suburb\"].unique()[0]\n",
    "            fig.update_xaxes(range=[0, 4000000], row=row, col=col)\n",
    "            fig.update_yaxes(range=[0, 150], row=row, col=col)\n",
    "            fig.add_trace(go.Histogram(x=suburb_df_price,xbins=dict(size=500000),autobinx = False, name=name),row =row, col=col)\n",
    "            \n",
    "        df_numb=df_numb+1                   \n",
    "\n",
    "fig.show()"
   ]
  },
  {
   "cell_type": "code",
   "execution_count": null,
   "id": "0eb10d8f",
   "metadata": {},
   "outputs": [],
   "source": [
    "suburb_list = [epping_listings, northrocks_listings, eastwood_listings, baulkham_listings, winston_listings, kellyville_listings, blacktown_listings, castle_listings, ryde_listings, rouse_listings, beecroft_listings, ermington_listings, northmead_listings, newington_listings, concord_listings, marsfield_listings, hornsby_listings, Lidcombe_listings, Homebush_listings, Straithfield_listings, Ashfield_listings, Leichhardt_listings, Annandale_listings, AllambieHeights_listings, Forestville_listings, Lindfield_listings, Gordon_listings, Pymble_listings, LaneCove_listings, Meadowbank_listings, SummerHill_listings, Rydalmere_listings, Rosehill_listings, Westmead_listings, Girraween_listings, BeaumontHills_listings, KellyvilleRidge_listings, ThePonds_listings, Schofields_listings, MarsdenPark_listings, KingsLangley_listings, BellaVista_listings, BoxHill_listings, PennantHills_listings, Earlwood_listings, Marrickville_listings, Dulwich_listings, Petersham_listings, Campsie_listings, Canterbury_listings, Berala_listings, Leppington_listings, EdmondsonPark_listings, MacquariePark_listings, Chatswood_listings, Carlingford_listings, Kogarah_listings, Rockdale_listings, Cherrybrook_listings, Eastwood_listings, Homebush_listings, Minto_listings, QuakersHill_listings, Revesby_listings, SevenHills_listings, StanhopeGardens_listings, Waterloo_listings]\n",
    "\n",
    "fig = make_subplots(\n",
    "    rows=5, cols=5\n",
    "    ,\n",
    "    #     ,subplot_titles=(\"Plot 1\", \"Plot 2\", \"Plot 3\", \"Plot 4\")\n",
    "    ,shared_yaxes=True\n",
    "    ,shared_xaxes=True)\n",
    "\n",
    "df_numb=0\n",
    "for row in range(1,6):\n",
    "    for col in range(1,6):\n",
    "        suburb_df = suburb_list[df_numb]\n",
    "        suburb_df_price = suburb_df[suburb_df[\"sold_date_dt\"] >= dtm][\"land_size\"]\n",
    "                \n",
    "        if suburb_list[df_numb][\"suburb\"].count()>=1:\n",
    "            name = suburb_list[df_numb][\"suburb\"].unique()[0]\n",
    "            fig.update_xaxes(range=[0, 1200], row=row, col=col)\n",
    "            fig.update_yaxes(range=[0, 125], row=row, col=col)\n",
    "            fig.add_trace(go.Histogram(x=suburb_df_price,xbins=dict(size=100),autobinx = False, name=name),row =row, col=col)\n",
    "            \n",
    "        df_numb=df_numb+1                   \n",
    "        \n",
    "fig.show()"
   ]
  },
  {
   "cell_type": "code",
   "execution_count": null,
   "id": "72a8ed9f",
   "metadata": {
    "scrolled": true
   },
   "outputs": [],
   "source": [
    "fig = make_subplots(\n",
    "    rows=5, cols=5\n",
    "    #     ,subplot_titles=(\"Plot 1\", \"Plot 2\", \"Plot 3\", \"Plot 4\")\n",
    "    ,shared_yaxes=True\n",
    "    ,shared_xaxes=True)\n",
    "\n",
    "df_numb=25\n",
    "for row in range(1,6):\n",
    "    for col in range(1,6):\n",
    "        suburb_df = suburb_list[df_numb]\n",
    "        suburb_df_price = suburb_df[suburb_df[\"sold_date_dt\"] >= dtm][\"land_size\"]\n",
    "                \n",
    "        if suburb_list[df_numb][\"suburb\"].count()>=1:\n",
    "            name = suburb_list[df_numb][\"suburb\"].unique()[0]\n",
    "            fig.update_xaxes(range=[0, 1200], row=row, col=col)\n",
    "            fig.update_yaxes(range=[0, 125], row=row, col=col)\n",
    "            fig.add_trace(go.Histogram(x=suburb_df_price,xbins=dict(size=100),autobinx = False, name=name),row =row, col=col)\n",
    "            \n",
    "        df_numb=df_numb+1                   \n",
    "        \n",
    "fig.show()"
   ]
  },
  {
   "cell_type": "code",
   "execution_count": null,
   "id": "685ffd39",
   "metadata": {
    "scrolled": false
   },
   "outputs": [],
   "source": [
    "fig = make_subplots(\n",
    "    rows=5, cols=5\n",
    "    #     ,subplot_titles=(\"Plot 1\", \"Plot 2\", \"Plot 3\", \"Plot 4\")\n",
    "    ,shared_yaxes=True\n",
    "    ,shared_xaxes=True)\n",
    "\n",
    "df_numb=50\n",
    "for row in range(1,6):\n",
    "    for col in range(1,6):\n",
    "        suburb_df = suburb_list[df_numb]\n",
    "        suburb_df_price = suburb_df[suburb_df[\"sold_date_dt\"] >= dtm][\"land_size\"]\n",
    "        if df_numb == 73:\n",
    "            break        \n",
    "        if suburb_list[df_numb][\"suburb\"].count()>=1:\n",
    "            name = suburb_list[df_numb][\"suburb\"].unique()[0]\n",
    "            fig.update_xaxes(range=[0, 1200], row=row, col=col)\n",
    "            fig.update_yaxes(range=[0, 125], row=row, col=col)\n",
    "            fig.add_trace(go.Histogram(x=suburb_df_price,xbins=dict(size=100),autobinx = False, name=name),row =row, col=col)\n",
    "            \n",
    "        df_numb=df_numb+1                   \n",
    "        \n",
    "fig.show()"
   ]
  },
  {
   "cell_type": "code",
   "execution_count": null,
   "id": "93a7d534",
   "metadata": {},
   "outputs": [],
   "source": [
    "main_suburbs = [\"Epping\",\"North Rocks\",\"Eastwood\",\"Baulkham Hills\",\"Winston Hills\",\"Kellyville\",\"Blacktown\",\"Castle Hill\",\"Ryde\",\"Rouse Hill\",\"Beecroft\",\"Ermington\",\"Northmead\",\"Newington\",\"Concord\",\"Marsfield\",\"Hornsby\",\"Lidcombe\",\"Homebush\",\"Straithfield\",\"Ashfield\",\"Leichhardt\",\"Annandale\",\"Allambie Heights\",\"Forestville\",\"Lindfield\",\"Gordon\",\"Pymble\",\"Lane Cove\",\"Meadowbank\",\"Summer Hill\",\"Rydalmere\",\"Rosehill\",\"Westmead\",\"Girraween\",\"Beaumont Hills\",\"Kellyville Ridge\",\"The Ponds\",\"Schofields\",\"Marsden Park\",\"Kings Langley\",\"Bella Vista\",\"Box Hill\",\"Pennant Hills\",\"Earlwood\",\"Marrickville\",\"Dulwich\",\"Petersham\",\"Campsie\",\"Canterbury\",\"Berala\",\"Leppington\",\"Edmondson Park\",\"Macquarie Park\",\"Chatswood\",\"Carlingford\",\"Kogarah\",\"Rockdale\",\"Cherrybrook\",\"Eastwood\",\"Homebush\",\"Minto\",\"Quakers Hill\",\"Revesby\",\"Seven Hills\",\"Stanhope Gardens\",\"Waterloo\",\"Dulwich Hill\",\"North Ryde\",\"Straithfield\",\"North Straithfield\",\"Manly\",\"Randwick\",\"Kensington\"]\n",
    "\n",
    "final_2021_2022 = final2[final2[\"sold_date_dt\"] >= dtm]\n",
    "final_2021_2022_1 = final_2021_2022[final_2021_2022[\"suburb\"].isin(main_suburbs)]\n",
    "\n",
    "final_2021_2022_2 = final_2021_2022_1[(final_2021_2022_1[\"land_size\"]>=200)&(final_2021_2022_1[\"land_size\"]<=400)]\n",
    "final_2021_2022_median_200_400 = final_2021_2022_2.groupby(\"suburb\").median().reset_index()\n",
    "\n",
    "counts = final_2021_2022_2.groupby(\"suburb\").count().reset_index()\n",
    "counts2=counts[\"id\"]>15\n",
    "\n",
    "final_2021_2022_median_200_400\n",
    "final_2021_2022_median_200_400_2 = final_2021_2022_median_200_400[counts2].sort_values(\"price\")\n",
    "\n",
    "\n",
    "# final_2021_2022_2.groupby(\"suburb\").agg({\"price\": ['median','count']}).reset_index().sort_values({\"price\":\"median\"})\n",
    "final_2021_2022_stats = final_2021_2022_2.groupby(\"suburb\")[\"price\"].describe().reset_index()"
   ]
  },
  {
   "cell_type": "code",
   "execution_count": null,
   "id": "373e9a96",
   "metadata": {},
   "outputs": [],
   "source": [
    "fig = px.bar(x=final_2021_2022_median_200_400_2[\"price\"],y=final_2021_2022_median_200_400_2[\"suburb\"]\n",
    "            ,width=800, height=1500)\n",
    "fig.show()\n",
    "# Epping, Marrickville"
   ]
  },
  {
   "cell_type": "code",
   "execution_count": null,
   "id": "ce560619",
   "metadata": {},
   "outputs": [],
   "source": [
    "final_2021_2022[\"land_size_bin\"] = pd.cut(final_2021_2022[\"land_size\"],[0,200,400,600,800,1000,1200]).map(lambda x: x.left)\n",
    "final_2021_2022_stats = final_2021_2022.groupby([\"suburb\",\"land_size_bin\"])[\"price\"].describe().reset_index()\n",
    "final_2021_2022_stats.head()\n",
    "final_2021_2022_stats_2 = final_2021_2022_stats[final_2021_2022_stats[\"suburb\"].isin(main_suburbs)]\n",
    "final_2021_2022_stats_3 = final_2021_2022_stats_2[final_2021_2022_stats_2[\"count\"]>5]\n",
    "fig = px.scatter(final_2021_2022_stats_3, x=\"50%\", y=\"land_size_bin\",color=\"suburb\",size=\"count\")\n",
    "fig.show()\n",
    "# straith, north ryde, manly, randwick, kensington\n",
    "# like: castle hill, cherrybrook, north rocks, ryde, marrickville, baulkhim hills , epping, eastwood, carlingford, summer hill"
   ]
  },
  {
   "cell_type": "code",
   "execution_count": null,
   "id": "f49fa338",
   "metadata": {},
   "outputs": [],
   "source": []
  },
  {
   "cell_type": "code",
   "execution_count": 426,
   "id": "f36225ea",
   "metadata": {},
   "outputs": [
    {
     "name": "stdout",
     "output_type": "stream",
     "text": [
      "<class 'pandas.core.frame.DataFrame'>\n",
      "RangeIndex: 1194 entries, 0 to 1193\n",
      "Data columns (total 3 columns):\n",
      " #   Column         Non-Null Count  Dtype  \n",
      "---  ------         --------------  -----  \n",
      " 0   suburb         1194 non-null   object \n",
      " 1   land_size_bin  1194 non-null   object \n",
      " 2   price          723 non-null    float64\n",
      "dtypes: float64(1), object(2)\n",
      "memory usage: 28.1+ KB\n"
     ]
    },
    {
     "data": {
      "text/html": [
       "<div>\n",
       "<style scoped>\n",
       "    .dataframe tbody tr th:only-of-type {\n",
       "        vertical-align: middle;\n",
       "    }\n",
       "\n",
       "    .dataframe tbody tr th {\n",
       "        vertical-align: top;\n",
       "    }\n",
       "\n",
       "    .dataframe thead th {\n",
       "        text-align: right;\n",
       "    }\n",
       "</style>\n",
       "<table border=\"1\" class=\"dataframe\">\n",
       "  <thead>\n",
       "    <tr style=\"text-align: right;\">\n",
       "      <th></th>\n",
       "      <th>suburb</th>\n",
       "      <th>land_size_bin</th>\n",
       "      <th>count</th>\n",
       "      <th>mean</th>\n",
       "      <th>std</th>\n",
       "      <th>min</th>\n",
       "      <th>25%</th>\n",
       "      <th>50%</th>\n",
       "      <th>75%</th>\n",
       "      <th>max</th>\n",
       "    </tr>\n",
       "  </thead>\n",
       "  <tbody>\n",
       "    <tr>\n",
       "      <th>0</th>\n",
       "      <td>Adelaide</td>\n",
       "      <td>0</td>\n",
       "      <td>49.0</td>\n",
       "      <td>8.050337e+05</td>\n",
       "      <td>242496.886916</td>\n",
       "      <td>500000.0</td>\n",
       "      <td>627250.0</td>\n",
       "      <td>735501.0</td>\n",
       "      <td>900000.0</td>\n",
       "      <td>1610000.0</td>\n",
       "    </tr>\n",
       "    <tr>\n",
       "      <th>1</th>\n",
       "      <td>Adelaide</td>\n",
       "      <td>200</td>\n",
       "      <td>12.0</td>\n",
       "      <td>1.152292e+06</td>\n",
       "      <td>311604.094553</td>\n",
       "      <td>730000.0</td>\n",
       "      <td>901250.0</td>\n",
       "      <td>1117500.0</td>\n",
       "      <td>1386875.0</td>\n",
       "      <td>1800000.0</td>\n",
       "    </tr>\n",
       "    <tr>\n",
       "      <th>2</th>\n",
       "      <td>Alexandria</td>\n",
       "      <td>0</td>\n",
       "      <td>23.0</td>\n",
       "      <td>1.960995e+06</td>\n",
       "      <td>467292.197277</td>\n",
       "      <td>781000.0</td>\n",
       "      <td>1720000.0</td>\n",
       "      <td>1910000.0</td>\n",
       "      <td>2285000.0</td>\n",
       "      <td>2750000.0</td>\n",
       "    </tr>\n",
       "    <tr>\n",
       "      <th>3</th>\n",
       "      <td>Alexandria</td>\n",
       "      <td>200</td>\n",
       "      <td>7.0</td>\n",
       "      <td>2.252857e+06</td>\n",
       "      <td>683293.843226</td>\n",
       "      <td>1530000.0</td>\n",
       "      <td>1925000.0</td>\n",
       "      <td>2050000.0</td>\n",
       "      <td>2340000.0</td>\n",
       "      <td>3660000.0</td>\n",
       "    </tr>\n",
       "    <tr>\n",
       "      <th>4</th>\n",
       "      <td>Allambie Heights</td>\n",
       "      <td>200</td>\n",
       "      <td>4.0</td>\n",
       "      <td>1.796250e+06</td>\n",
       "      <td>264145.635335</td>\n",
       "      <td>1515000.0</td>\n",
       "      <td>1601250.0</td>\n",
       "      <td>1807500.0</td>\n",
       "      <td>2002500.0</td>\n",
       "      <td>2055000.0</td>\n",
       "    </tr>\n",
       "    <tr>\n",
       "      <th>...</th>\n",
       "      <td>...</td>\n",
       "      <td>...</td>\n",
       "      <td>...</td>\n",
       "      <td>...</td>\n",
       "      <td>...</td>\n",
       "      <td>...</td>\n",
       "      <td>...</td>\n",
       "      <td>...</td>\n",
       "      <td>...</td>\n",
       "      <td>...</td>\n",
       "    </tr>\n",
       "    <tr>\n",
       "      <th>723</th>\n",
       "      <td>Yagoona</td>\n",
       "      <td>200</td>\n",
       "      <td>13.0</td>\n",
       "      <td>1.063684e+06</td>\n",
       "      <td>193495.954108</td>\n",
       "      <td>688886.0</td>\n",
       "      <td>1000000.0</td>\n",
       "      <td>1115000.0</td>\n",
       "      <td>1175000.0</td>\n",
       "      <td>1320000.0</td>\n",
       "    </tr>\n",
       "    <tr>\n",
       "      <th>724</th>\n",
       "      <td>Yagoona</td>\n",
       "      <td>400</td>\n",
       "      <td>27.0</td>\n",
       "      <td>1.139156e+06</td>\n",
       "      <td>214323.381802</td>\n",
       "      <td>900000.0</td>\n",
       "      <td>993750.0</td>\n",
       "      <td>1100000.0</td>\n",
       "      <td>1199500.0</td>\n",
       "      <td>1880000.0</td>\n",
       "    </tr>\n",
       "    <tr>\n",
       "      <th>725</th>\n",
       "      <td>Yagoona</td>\n",
       "      <td>600</td>\n",
       "      <td>13.0</td>\n",
       "      <td>1.182808e+06</td>\n",
       "      <td>173069.776206</td>\n",
       "      <td>885000.0</td>\n",
       "      <td>1063000.0</td>\n",
       "      <td>1170000.0</td>\n",
       "      <td>1310000.0</td>\n",
       "      <td>1458500.0</td>\n",
       "    </tr>\n",
       "    <tr>\n",
       "      <th>726</th>\n",
       "      <td>Yagoona</td>\n",
       "      <td>800</td>\n",
       "      <td>3.0</td>\n",
       "      <td>1.481000e+06</td>\n",
       "      <td>281426.722256</td>\n",
       "      <td>1272000.0</td>\n",
       "      <td>1321000.0</td>\n",
       "      <td>1370000.0</td>\n",
       "      <td>1585500.0</td>\n",
       "      <td>1801000.0</td>\n",
       "    </tr>\n",
       "    <tr>\n",
       "      <th>727</th>\n",
       "      <td>Zetland</td>\n",
       "      <td>0</td>\n",
       "      <td>7.0</td>\n",
       "      <td>2.015857e+06</td>\n",
       "      <td>254780.577865</td>\n",
       "      <td>1677000.0</td>\n",
       "      <td>1870000.0</td>\n",
       "      <td>1978000.0</td>\n",
       "      <td>2158000.0</td>\n",
       "      <td>2400000.0</td>\n",
       "    </tr>\n",
       "  </tbody>\n",
       "</table>\n",
       "<p>728 rows × 10 columns</p>\n",
       "</div>"
      ],
      "text/plain": [
       "               suburb land_size_bin  count          mean            std  \\\n",
       "0            Adelaide             0   49.0  8.050337e+05  242496.886916   \n",
       "1            Adelaide           200   12.0  1.152292e+06  311604.094553   \n",
       "2          Alexandria             0   23.0  1.960995e+06  467292.197277   \n",
       "3          Alexandria           200    7.0  2.252857e+06  683293.843226   \n",
       "4    Allambie Heights           200    4.0  1.796250e+06  264145.635335   \n",
       "..                ...           ...    ...           ...            ...   \n",
       "723           Yagoona           200   13.0  1.063684e+06  193495.954108   \n",
       "724           Yagoona           400   27.0  1.139156e+06  214323.381802   \n",
       "725           Yagoona           600   13.0  1.182808e+06  173069.776206   \n",
       "726           Yagoona           800    3.0  1.481000e+06  281426.722256   \n",
       "727           Zetland             0    7.0  2.015857e+06  254780.577865   \n",
       "\n",
       "           min        25%        50%        75%        max  \n",
       "0     500000.0   627250.0   735501.0   900000.0  1610000.0  \n",
       "1     730000.0   901250.0  1117500.0  1386875.0  1800000.0  \n",
       "2     781000.0  1720000.0  1910000.0  2285000.0  2750000.0  \n",
       "3    1530000.0  1925000.0  2050000.0  2340000.0  3660000.0  \n",
       "4    1515000.0  1601250.0  1807500.0  2002500.0  2055000.0  \n",
       "..         ...        ...        ...        ...        ...  \n",
       "723   688886.0  1000000.0  1115000.0  1175000.0  1320000.0  \n",
       "724   900000.0   993750.0  1100000.0  1199500.0  1880000.0  \n",
       "725   885000.0  1063000.0  1170000.0  1310000.0  1458500.0  \n",
       "726  1272000.0  1321000.0  1370000.0  1585500.0  1801000.0  \n",
       "727  1677000.0  1870000.0  1978000.0  2158000.0  2400000.0  \n",
       "\n",
       "[728 rows x 10 columns]"
      ]
     },
     "execution_count": 426,
     "metadata": {},
     "output_type": "execute_result"
    }
   ],
   "source": [
    "final_2021_2022[\"land_size_bin\"] = pd.cut(final_2021_2022[\"land_size\"],[0,200,400,600,800,1000,1200])\n",
    "final_2021_2022_summ = final_2021_2022.groupby([\"suburb\",\"land_size_bin\"])[\"price\"].median().reset_index()\n",
    "final_2021_2022_summ[\"land_size_bin\"]=final_2021_2022_summ[\"land_size_bin\"].astype('str')\n",
    "final_2021_2022_summ.info()\n"
   ]
  },
  {
   "cell_type": "code",
   "execution_count": 353,
   "id": "0d5b3044",
   "metadata": {},
   "outputs": [
    {
     "data": {
      "application/vnd.plotly.v1+json": {
       "config": {
        "plotlyServerURL": "https://plot.ly"
       },
       "data": [
        {
         "alignmentgroup": "True",
         "hovertemplate": "suburb=Adelaide<br>land_size_bin=%{x}<br>price=%{y}<extra></extra>",
         "legendgroup": "",
         "marker": {
          "color": "#636efa",
          "pattern": {
           "shape": ""
          }
         },
         "name": "",
         "offsetgroup": "",
         "orientation": "v",
         "showlegend": false,
         "textposition": "auto",
         "type": "bar",
         "x": [
          "(0, 200]",
          "(200, 400]",
          "(400, 600]",
          "(600, 800]",
          "(800, 1000]",
          "(1000, 1200]"
         ],
         "xaxis": "x9",
         "y": [
          735501,
          1117500,
          null,
          null,
          null,
          null
         ],
         "yaxis": "y9"
        },
        {
         "alignmentgroup": "True",
         "hovertemplate": "suburb=Alexandria<br>land_size_bin=%{x}<br>price=%{y}<extra></extra>",
         "legendgroup": "",
         "marker": {
          "color": "#636efa",
          "pattern": {
           "shape": ""
          }
         },
         "name": "",
         "offsetgroup": "",
         "orientation": "v",
         "showlegend": false,
         "textposition": "auto",
         "type": "bar",
         "x": [
          "(0, 200]",
          "(200, 400]",
          "(400, 600]",
          "(600, 800]",
          "(800, 1000]",
          "(1000, 1200]"
         ],
         "xaxis": "x8",
         "y": [
          1910000,
          2050000,
          null,
          null,
          null,
          null
         ],
         "yaxis": "y8"
        },
        {
         "alignmentgroup": "True",
         "hovertemplate": "suburb=Allambie Heights<br>land_size_bin=%{x}<br>price=%{y}<extra></extra>",
         "legendgroup": "",
         "marker": {
          "color": "#636efa",
          "pattern": {
           "shape": ""
          }
         },
         "name": "",
         "offsetgroup": "",
         "orientation": "v",
         "showlegend": false,
         "textposition": "auto",
         "type": "bar",
         "x": [
          "(0, 200]",
          "(200, 400]",
          "(400, 600]",
          "(600, 800]",
          "(800, 1000]",
          "(1000, 1200]"
         ],
         "xaxis": "x7",
         "y": [
          null,
          1807500,
          2507500,
          2732500,
          2865000,
          3200000
         ],
         "yaxis": "y7"
        },
        {
         "alignmentgroup": "True",
         "hovertemplate": "suburb=Allawah<br>land_size_bin=%{x}<br>price=%{y}<extra></extra>",
         "legendgroup": "",
         "marker": {
          "color": "#636efa",
          "pattern": {
           "shape": ""
          }
         },
         "name": "",
         "offsetgroup": "",
         "orientation": "v",
         "showlegend": false,
         "textposition": "auto",
         "type": "bar",
         "x": [
          "(0, 200]",
          "(200, 400]",
          "(400, 600]",
          "(600, 800]",
          "(800, 1000]",
          "(1000, 1200]"
         ],
         "xaxis": "x6",
         "y": [
          null,
          1070000,
          1578000,
          null,
          null,
          null
         ],
         "yaxis": "y6"
        },
        {
         "alignmentgroup": "True",
         "hovertemplate": "suburb=Annandale<br>land_size_bin=%{x}<br>price=%{y}<extra></extra>",
         "legendgroup": "",
         "marker": {
          "color": "#636efa",
          "pattern": {
           "shape": ""
          }
         },
         "name": "",
         "offsetgroup": "",
         "orientation": "v",
         "showlegend": false,
         "textposition": "auto",
         "type": "bar",
         "x": [
          "(0, 200]",
          "(200, 400]",
          "(400, 600]",
          "(600, 800]",
          "(800, 1000]",
          "(1000, 1200]"
         ],
         "xaxis": "x5",
         "y": [
          1791000,
          2670000,
          3950000,
          6225000,
          null,
          null
         ],
         "yaxis": "y5"
        },
        {
         "alignmentgroup": "True",
         "hovertemplate": "suburb=Arncliffe<br>land_size_bin=%{x}<br>price=%{y}<extra></extra>",
         "legendgroup": "",
         "marker": {
          "color": "#636efa",
          "pattern": {
           "shape": ""
          }
         },
         "name": "",
         "offsetgroup": "",
         "orientation": "v",
         "showlegend": false,
         "textposition": "auto",
         "type": "bar",
         "x": [
          "(0, 200]",
          "(200, 400]",
          "(400, 600]",
          "(600, 800]",
          "(800, 1000]",
          "(1000, 1200]"
         ],
         "xaxis": "x4",
         "y": [
          1125000,
          1476000,
          1542500,
          1900000,
          2280000,
          null
         ],
         "yaxis": "y4"
        },
        {
         "alignmentgroup": "True",
         "hovertemplate": "suburb=Ashbury<br>land_size_bin=%{x}<br>price=%{y}<extra></extra>",
         "legendgroup": "",
         "marker": {
          "color": "#636efa",
          "pattern": {
           "shape": ""
          }
         },
         "name": "",
         "offsetgroup": "",
         "orientation": "v",
         "showlegend": false,
         "textposition": "auto",
         "type": "bar",
         "x": [
          "(0, 200]",
          "(200, 400]",
          "(400, 600]",
          "(600, 800]",
          "(800, 1000]",
          "(1000, 1200]"
         ],
         "xaxis": "x3",
         "y": [
          null,
          null,
          2425000,
          2600000,
          null,
          null
         ],
         "yaxis": "y3"
        },
        {
         "alignmentgroup": "True",
         "hovertemplate": "suburb=Ashfield<br>land_size_bin=%{x}<br>price=%{y}<extra></extra>",
         "legendgroup": "",
         "marker": {
          "color": "#636efa",
          "pattern": {
           "shape": ""
          }
         },
         "name": "",
         "offsetgroup": "",
         "orientation": "v",
         "showlegend": false,
         "textposition": "auto",
         "type": "bar",
         "x": [
          "(0, 200]",
          "(200, 400]",
          "(400, 600]",
          "(600, 800]",
          "(800, 1000]",
          "(1000, 1200]"
         ],
         "xaxis": "x2",
         "y": [
          1305150,
          1790000,
          2150000,
          2430000,
          3750000,
          null
         ],
         "yaxis": "y2"
        },
        {
         "alignmentgroup": "True",
         "hovertemplate": "suburb=Auburn<br>land_size_bin=%{x}<br>price=%{y}<extra></extra>",
         "legendgroup": "",
         "marker": {
          "color": "#636efa",
          "pattern": {
           "shape": ""
          }
         },
         "name": "",
         "offsetgroup": "",
         "orientation": "v",
         "showlegend": false,
         "textposition": "auto",
         "type": "bar",
         "x": [
          "(0, 200]",
          "(200, 400]"
         ],
         "xaxis": "x",
         "y": [
          715000,
          858750
         ],
         "yaxis": "y"
        }
       ],
       "layout": {
        "annotations": [
         {
          "font": {},
          "showarrow": false,
          "text": "suburb=Auburn",
          "textangle": 90,
          "x": 0.98,
          "xanchor": "left",
          "xref": "paper",
          "y": 0.042222222222222223,
          "yanchor": "middle",
          "yref": "paper"
         },
         {
          "font": {},
          "showarrow": false,
          "text": "suburb=Ashfield",
          "textangle": 90,
          "x": 0.98,
          "xanchor": "left",
          "xref": "paper",
          "y": 0.15666666666666668,
          "yanchor": "middle",
          "yref": "paper"
         },
         {
          "font": {},
          "showarrow": false,
          "text": "suburb=Ashbury",
          "textangle": 90,
          "x": 0.98,
          "xanchor": "left",
          "xref": "paper",
          "y": 0.27111111111111114,
          "yanchor": "middle",
          "yref": "paper"
         },
         {
          "font": {},
          "showarrow": false,
          "text": "suburb=Arncliffe",
          "textangle": 90,
          "x": 0.98,
          "xanchor": "left",
          "xref": "paper",
          "y": 0.3855555555555556,
          "yanchor": "middle",
          "yref": "paper"
         },
         {
          "font": {},
          "showarrow": false,
          "text": "suburb=Annandale",
          "textangle": 90,
          "x": 0.98,
          "xanchor": "left",
          "xref": "paper",
          "y": 0.5,
          "yanchor": "middle",
          "yref": "paper"
         },
         {
          "font": {},
          "showarrow": false,
          "text": "suburb=Allawah",
          "textangle": 90,
          "x": 0.98,
          "xanchor": "left",
          "xref": "paper",
          "y": 0.6144444444444443,
          "yanchor": "middle",
          "yref": "paper"
         },
         {
          "font": {},
          "showarrow": false,
          "text": "suburb=Allambie Heights",
          "textangle": 90,
          "x": 0.98,
          "xanchor": "left",
          "xref": "paper",
          "y": 0.7288888888888889,
          "yanchor": "middle",
          "yref": "paper"
         },
         {
          "font": {},
          "showarrow": false,
          "text": "suburb=Alexandria",
          "textangle": 90,
          "x": 0.98,
          "xanchor": "left",
          "xref": "paper",
          "y": 0.8433333333333333,
          "yanchor": "middle",
          "yref": "paper"
         },
         {
          "font": {},
          "showarrow": false,
          "text": "suburb=Adelaide",
          "textangle": 90,
          "x": 0.98,
          "xanchor": "left",
          "xref": "paper",
          "y": 0.9577777777777778,
          "yanchor": "middle",
          "yref": "paper"
         }
        ],
        "barmode": "relative",
        "legend": {
         "tracegroupgap": 0
        },
        "margin": {
         "t": 60
        },
        "template": {
         "data": {
          "bar": [
           {
            "error_x": {
             "color": "#2a3f5f"
            },
            "error_y": {
             "color": "#2a3f5f"
            },
            "marker": {
             "line": {
              "color": "#E5ECF6",
              "width": 0.5
             },
             "pattern": {
              "fillmode": "overlay",
              "size": 10,
              "solidity": 0.2
             }
            },
            "type": "bar"
           }
          ],
          "barpolar": [
           {
            "marker": {
             "line": {
              "color": "#E5ECF6",
              "width": 0.5
             },
             "pattern": {
              "fillmode": "overlay",
              "size": 10,
              "solidity": 0.2
             }
            },
            "type": "barpolar"
           }
          ],
          "carpet": [
           {
            "aaxis": {
             "endlinecolor": "#2a3f5f",
             "gridcolor": "white",
             "linecolor": "white",
             "minorgridcolor": "white",
             "startlinecolor": "#2a3f5f"
            },
            "baxis": {
             "endlinecolor": "#2a3f5f",
             "gridcolor": "white",
             "linecolor": "white",
             "minorgridcolor": "white",
             "startlinecolor": "#2a3f5f"
            },
            "type": "carpet"
           }
          ],
          "choropleth": [
           {
            "colorbar": {
             "outlinewidth": 0,
             "ticks": ""
            },
            "type": "choropleth"
           }
          ],
          "contour": [
           {
            "colorbar": {
             "outlinewidth": 0,
             "ticks": ""
            },
            "colorscale": [
             [
              0,
              "#0d0887"
             ],
             [
              0.1111111111111111,
              "#46039f"
             ],
             [
              0.2222222222222222,
              "#7201a8"
             ],
             [
              0.3333333333333333,
              "#9c179e"
             ],
             [
              0.4444444444444444,
              "#bd3786"
             ],
             [
              0.5555555555555556,
              "#d8576b"
             ],
             [
              0.6666666666666666,
              "#ed7953"
             ],
             [
              0.7777777777777778,
              "#fb9f3a"
             ],
             [
              0.8888888888888888,
              "#fdca26"
             ],
             [
              1,
              "#f0f921"
             ]
            ],
            "type": "contour"
           }
          ],
          "contourcarpet": [
           {
            "colorbar": {
             "outlinewidth": 0,
             "ticks": ""
            },
            "type": "contourcarpet"
           }
          ],
          "heatmap": [
           {
            "colorbar": {
             "outlinewidth": 0,
             "ticks": ""
            },
            "colorscale": [
             [
              0,
              "#0d0887"
             ],
             [
              0.1111111111111111,
              "#46039f"
             ],
             [
              0.2222222222222222,
              "#7201a8"
             ],
             [
              0.3333333333333333,
              "#9c179e"
             ],
             [
              0.4444444444444444,
              "#bd3786"
             ],
             [
              0.5555555555555556,
              "#d8576b"
             ],
             [
              0.6666666666666666,
              "#ed7953"
             ],
             [
              0.7777777777777778,
              "#fb9f3a"
             ],
             [
              0.8888888888888888,
              "#fdca26"
             ],
             [
              1,
              "#f0f921"
             ]
            ],
            "type": "heatmap"
           }
          ],
          "heatmapgl": [
           {
            "colorbar": {
             "outlinewidth": 0,
             "ticks": ""
            },
            "colorscale": [
             [
              0,
              "#0d0887"
             ],
             [
              0.1111111111111111,
              "#46039f"
             ],
             [
              0.2222222222222222,
              "#7201a8"
             ],
             [
              0.3333333333333333,
              "#9c179e"
             ],
             [
              0.4444444444444444,
              "#bd3786"
             ],
             [
              0.5555555555555556,
              "#d8576b"
             ],
             [
              0.6666666666666666,
              "#ed7953"
             ],
             [
              0.7777777777777778,
              "#fb9f3a"
             ],
             [
              0.8888888888888888,
              "#fdca26"
             ],
             [
              1,
              "#f0f921"
             ]
            ],
            "type": "heatmapgl"
           }
          ],
          "histogram": [
           {
            "marker": {
             "pattern": {
              "fillmode": "overlay",
              "size": 10,
              "solidity": 0.2
             }
            },
            "type": "histogram"
           }
          ],
          "histogram2d": [
           {
            "colorbar": {
             "outlinewidth": 0,
             "ticks": ""
            },
            "colorscale": [
             [
              0,
              "#0d0887"
             ],
             [
              0.1111111111111111,
              "#46039f"
             ],
             [
              0.2222222222222222,
              "#7201a8"
             ],
             [
              0.3333333333333333,
              "#9c179e"
             ],
             [
              0.4444444444444444,
              "#bd3786"
             ],
             [
              0.5555555555555556,
              "#d8576b"
             ],
             [
              0.6666666666666666,
              "#ed7953"
             ],
             [
              0.7777777777777778,
              "#fb9f3a"
             ],
             [
              0.8888888888888888,
              "#fdca26"
             ],
             [
              1,
              "#f0f921"
             ]
            ],
            "type": "histogram2d"
           }
          ],
          "histogram2dcontour": [
           {
            "colorbar": {
             "outlinewidth": 0,
             "ticks": ""
            },
            "colorscale": [
             [
              0,
              "#0d0887"
             ],
             [
              0.1111111111111111,
              "#46039f"
             ],
             [
              0.2222222222222222,
              "#7201a8"
             ],
             [
              0.3333333333333333,
              "#9c179e"
             ],
             [
              0.4444444444444444,
              "#bd3786"
             ],
             [
              0.5555555555555556,
              "#d8576b"
             ],
             [
              0.6666666666666666,
              "#ed7953"
             ],
             [
              0.7777777777777778,
              "#fb9f3a"
             ],
             [
              0.8888888888888888,
              "#fdca26"
             ],
             [
              1,
              "#f0f921"
             ]
            ],
            "type": "histogram2dcontour"
           }
          ],
          "mesh3d": [
           {
            "colorbar": {
             "outlinewidth": 0,
             "ticks": ""
            },
            "type": "mesh3d"
           }
          ],
          "parcoords": [
           {
            "line": {
             "colorbar": {
              "outlinewidth": 0,
              "ticks": ""
             }
            },
            "type": "parcoords"
           }
          ],
          "pie": [
           {
            "automargin": true,
            "type": "pie"
           }
          ],
          "scatter": [
           {
            "marker": {
             "colorbar": {
              "outlinewidth": 0,
              "ticks": ""
             }
            },
            "type": "scatter"
           }
          ],
          "scatter3d": [
           {
            "line": {
             "colorbar": {
              "outlinewidth": 0,
              "ticks": ""
             }
            },
            "marker": {
             "colorbar": {
              "outlinewidth": 0,
              "ticks": ""
             }
            },
            "type": "scatter3d"
           }
          ],
          "scattercarpet": [
           {
            "marker": {
             "colorbar": {
              "outlinewidth": 0,
              "ticks": ""
             }
            },
            "type": "scattercarpet"
           }
          ],
          "scattergeo": [
           {
            "marker": {
             "colorbar": {
              "outlinewidth": 0,
              "ticks": ""
             }
            },
            "type": "scattergeo"
           }
          ],
          "scattergl": [
           {
            "marker": {
             "colorbar": {
              "outlinewidth": 0,
              "ticks": ""
             }
            },
            "type": "scattergl"
           }
          ],
          "scattermapbox": [
           {
            "marker": {
             "colorbar": {
              "outlinewidth": 0,
              "ticks": ""
             }
            },
            "type": "scattermapbox"
           }
          ],
          "scatterpolar": [
           {
            "marker": {
             "colorbar": {
              "outlinewidth": 0,
              "ticks": ""
             }
            },
            "type": "scatterpolar"
           }
          ],
          "scatterpolargl": [
           {
            "marker": {
             "colorbar": {
              "outlinewidth": 0,
              "ticks": ""
             }
            },
            "type": "scatterpolargl"
           }
          ],
          "scatterternary": [
           {
            "marker": {
             "colorbar": {
              "outlinewidth": 0,
              "ticks": ""
             }
            },
            "type": "scatterternary"
           }
          ],
          "surface": [
           {
            "colorbar": {
             "outlinewidth": 0,
             "ticks": ""
            },
            "colorscale": [
             [
              0,
              "#0d0887"
             ],
             [
              0.1111111111111111,
              "#46039f"
             ],
             [
              0.2222222222222222,
              "#7201a8"
             ],
             [
              0.3333333333333333,
              "#9c179e"
             ],
             [
              0.4444444444444444,
              "#bd3786"
             ],
             [
              0.5555555555555556,
              "#d8576b"
             ],
             [
              0.6666666666666666,
              "#ed7953"
             ],
             [
              0.7777777777777778,
              "#fb9f3a"
             ],
             [
              0.8888888888888888,
              "#fdca26"
             ],
             [
              1,
              "#f0f921"
             ]
            ],
            "type": "surface"
           }
          ],
          "table": [
           {
            "cells": {
             "fill": {
              "color": "#EBF0F8"
             },
             "line": {
              "color": "white"
             }
            },
            "header": {
             "fill": {
              "color": "#C8D4E3"
             },
             "line": {
              "color": "white"
             }
            },
            "type": "table"
           }
          ]
         },
         "layout": {
          "annotationdefaults": {
           "arrowcolor": "#2a3f5f",
           "arrowhead": 0,
           "arrowwidth": 1
          },
          "autotypenumbers": "strict",
          "coloraxis": {
           "colorbar": {
            "outlinewidth": 0,
            "ticks": ""
           }
          },
          "colorscale": {
           "diverging": [
            [
             0,
             "#8e0152"
            ],
            [
             0.1,
             "#c51b7d"
            ],
            [
             0.2,
             "#de77ae"
            ],
            [
             0.3,
             "#f1b6da"
            ],
            [
             0.4,
             "#fde0ef"
            ],
            [
             0.5,
             "#f7f7f7"
            ],
            [
             0.6,
             "#e6f5d0"
            ],
            [
             0.7,
             "#b8e186"
            ],
            [
             0.8,
             "#7fbc41"
            ],
            [
             0.9,
             "#4d9221"
            ],
            [
             1,
             "#276419"
            ]
           ],
           "sequential": [
            [
             0,
             "#0d0887"
            ],
            [
             0.1111111111111111,
             "#46039f"
            ],
            [
             0.2222222222222222,
             "#7201a8"
            ],
            [
             0.3333333333333333,
             "#9c179e"
            ],
            [
             0.4444444444444444,
             "#bd3786"
            ],
            [
             0.5555555555555556,
             "#d8576b"
            ],
            [
             0.6666666666666666,
             "#ed7953"
            ],
            [
             0.7777777777777778,
             "#fb9f3a"
            ],
            [
             0.8888888888888888,
             "#fdca26"
            ],
            [
             1,
             "#f0f921"
            ]
           ],
           "sequentialminus": [
            [
             0,
             "#0d0887"
            ],
            [
             0.1111111111111111,
             "#46039f"
            ],
            [
             0.2222222222222222,
             "#7201a8"
            ],
            [
             0.3333333333333333,
             "#9c179e"
            ],
            [
             0.4444444444444444,
             "#bd3786"
            ],
            [
             0.5555555555555556,
             "#d8576b"
            ],
            [
             0.6666666666666666,
             "#ed7953"
            ],
            [
             0.7777777777777778,
             "#fb9f3a"
            ],
            [
             0.8888888888888888,
             "#fdca26"
            ],
            [
             1,
             "#f0f921"
            ]
           ]
          },
          "colorway": [
           "#636efa",
           "#EF553B",
           "#00cc96",
           "#ab63fa",
           "#FFA15A",
           "#19d3f3",
           "#FF6692",
           "#B6E880",
           "#FF97FF",
           "#FECB52"
          ],
          "font": {
           "color": "#2a3f5f"
          },
          "geo": {
           "bgcolor": "white",
           "lakecolor": "white",
           "landcolor": "#E5ECF6",
           "showlakes": true,
           "showland": true,
           "subunitcolor": "white"
          },
          "hoverlabel": {
           "align": "left"
          },
          "hovermode": "closest",
          "mapbox": {
           "style": "light"
          },
          "paper_bgcolor": "white",
          "plot_bgcolor": "#E5ECF6",
          "polar": {
           "angularaxis": {
            "gridcolor": "white",
            "linecolor": "white",
            "ticks": ""
           },
           "bgcolor": "#E5ECF6",
           "radialaxis": {
            "gridcolor": "white",
            "linecolor": "white",
            "ticks": ""
           }
          },
          "scene": {
           "xaxis": {
            "backgroundcolor": "#E5ECF6",
            "gridcolor": "white",
            "gridwidth": 2,
            "linecolor": "white",
            "showbackground": true,
            "ticks": "",
            "zerolinecolor": "white"
           },
           "yaxis": {
            "backgroundcolor": "#E5ECF6",
            "gridcolor": "white",
            "gridwidth": 2,
            "linecolor": "white",
            "showbackground": true,
            "ticks": "",
            "zerolinecolor": "white"
           },
           "zaxis": {
            "backgroundcolor": "#E5ECF6",
            "gridcolor": "white",
            "gridwidth": 2,
            "linecolor": "white",
            "showbackground": true,
            "ticks": "",
            "zerolinecolor": "white"
           }
          },
          "shapedefaults": {
           "line": {
            "color": "#2a3f5f"
           }
          },
          "ternary": {
           "aaxis": {
            "gridcolor": "white",
            "linecolor": "white",
            "ticks": ""
           },
           "baxis": {
            "gridcolor": "white",
            "linecolor": "white",
            "ticks": ""
           },
           "bgcolor": "#E5ECF6",
           "caxis": {
            "gridcolor": "white",
            "linecolor": "white",
            "ticks": ""
           }
          },
          "title": {
           "x": 0.05
          },
          "xaxis": {
           "automargin": true,
           "gridcolor": "white",
           "linecolor": "white",
           "ticks": "",
           "title": {
            "standoff": 15
           },
           "zerolinecolor": "white",
           "zerolinewidth": 2
          },
          "yaxis": {
           "automargin": true,
           "gridcolor": "white",
           "linecolor": "white",
           "ticks": "",
           "title": {
            "standoff": 15
           },
           "zerolinecolor": "white",
           "zerolinewidth": 2
          }
         }
        },
        "xaxis": {
         "anchor": "y",
         "domain": [
          0,
          0.98
         ],
         "title": {
          "text": "land_size_bin"
         }
        },
        "xaxis2": {
         "anchor": "y2",
         "domain": [
          0,
          0.98
         ],
         "matches": "x",
         "showticklabels": false
        },
        "xaxis3": {
         "anchor": "y3",
         "domain": [
          0,
          0.98
         ],
         "matches": "x",
         "showticklabels": false
        },
        "xaxis4": {
         "anchor": "y4",
         "domain": [
          0,
          0.98
         ],
         "matches": "x",
         "showticklabels": false
        },
        "xaxis5": {
         "anchor": "y5",
         "domain": [
          0,
          0.98
         ],
         "matches": "x",
         "showticklabels": false
        },
        "xaxis6": {
         "anchor": "y6",
         "domain": [
          0,
          0.98
         ],
         "matches": "x",
         "showticklabels": false
        },
        "xaxis7": {
         "anchor": "y7",
         "domain": [
          0,
          0.98
         ],
         "matches": "x",
         "showticklabels": false
        },
        "xaxis8": {
         "anchor": "y8",
         "domain": [
          0,
          0.98
         ],
         "matches": "x",
         "showticklabels": false
        },
        "xaxis9": {
         "anchor": "y9",
         "domain": [
          0,
          0.98
         ],
         "matches": "x",
         "showticklabels": false
        },
        "yaxis": {
         "anchor": "x",
         "domain": [
          0,
          0.08444444444444445
         ],
         "title": {
          "text": "price"
         }
        },
        "yaxis2": {
         "anchor": "x2",
         "domain": [
          0.11444444444444445,
          0.1988888888888889
         ],
         "matches": "y",
         "title": {
          "text": "price"
         }
        },
        "yaxis3": {
         "anchor": "x3",
         "domain": [
          0.2288888888888889,
          0.31333333333333335
         ],
         "matches": "y",
         "title": {
          "text": "price"
         }
        },
        "yaxis4": {
         "anchor": "x4",
         "domain": [
          0.3433333333333334,
          0.4277777777777778
         ],
         "matches": "y",
         "title": {
          "text": "price"
         }
        },
        "yaxis5": {
         "anchor": "x5",
         "domain": [
          0.4577777777777778,
          0.5422222222222223
         ],
         "matches": "y",
         "title": {
          "text": "price"
         }
        },
        "yaxis6": {
         "anchor": "x6",
         "domain": [
          0.5722222222222222,
          0.6566666666666666
         ],
         "matches": "y",
         "title": {
          "text": "price"
         }
        },
        "yaxis7": {
         "anchor": "x7",
         "domain": [
          0.6866666666666668,
          0.7711111111111112
         ],
         "matches": "y",
         "title": {
          "text": "price"
         }
        },
        "yaxis8": {
         "anchor": "x8",
         "domain": [
          0.8011111111111111,
          0.8855555555555555
         ],
         "matches": "y",
         "title": {
          "text": "price"
         }
        },
        "yaxis9": {
         "anchor": "x9",
         "domain": [
          0.9155555555555556,
          1
         ],
         "matches": "y",
         "title": {
          "text": "price"
         }
        }
       }
      },
      "text/html": [
       "<div>                            <div id=\"3f41e6e4-3e62-440f-8359-55d22135b605\" class=\"plotly-graph-div\" style=\"height:525px; width:100%;\"></div>            <script type=\"text/javascript\">                require([\"plotly\"], function(Plotly) {                    window.PLOTLYENV=window.PLOTLYENV || {};                                    if (document.getElementById(\"3f41e6e4-3e62-440f-8359-55d22135b605\")) {                    Plotly.newPlot(                        \"3f41e6e4-3e62-440f-8359-55d22135b605\",                        [{\"alignmentgroup\":\"True\",\"hovertemplate\":\"suburb=Adelaide<br>land_size_bin=%{x}<br>price=%{y}<extra></extra>\",\"legendgroup\":\"\",\"marker\":{\"color\":\"#636efa\",\"pattern\":{\"shape\":\"\"}},\"name\":\"\",\"offsetgroup\":\"\",\"orientation\":\"v\",\"showlegend\":false,\"textposition\":\"auto\",\"x\":[\"(0, 200]\",\"(200, 400]\",\"(400, 600]\",\"(600, 800]\",\"(800, 1000]\",\"(1000, 1200]\"],\"xaxis\":\"x9\",\"y\":[735501.0,1117500.0,null,null,null,null],\"yaxis\":\"y9\",\"type\":\"bar\"},{\"alignmentgroup\":\"True\",\"hovertemplate\":\"suburb=Alexandria<br>land_size_bin=%{x}<br>price=%{y}<extra></extra>\",\"legendgroup\":\"\",\"marker\":{\"color\":\"#636efa\",\"pattern\":{\"shape\":\"\"}},\"name\":\"\",\"offsetgroup\":\"\",\"orientation\":\"v\",\"showlegend\":false,\"textposition\":\"auto\",\"x\":[\"(0, 200]\",\"(200, 400]\",\"(400, 600]\",\"(600, 800]\",\"(800, 1000]\",\"(1000, 1200]\"],\"xaxis\":\"x8\",\"y\":[1910000.0,2050000.0,null,null,null,null],\"yaxis\":\"y8\",\"type\":\"bar\"},{\"alignmentgroup\":\"True\",\"hovertemplate\":\"suburb=Allambie Heights<br>land_size_bin=%{x}<br>price=%{y}<extra></extra>\",\"legendgroup\":\"\",\"marker\":{\"color\":\"#636efa\",\"pattern\":{\"shape\":\"\"}},\"name\":\"\",\"offsetgroup\":\"\",\"orientation\":\"v\",\"showlegend\":false,\"textposition\":\"auto\",\"x\":[\"(0, 200]\",\"(200, 400]\",\"(400, 600]\",\"(600, 800]\",\"(800, 1000]\",\"(1000, 1200]\"],\"xaxis\":\"x7\",\"y\":[null,1807500.0,2507500.0,2732500.0,2865000.0,3200000.0],\"yaxis\":\"y7\",\"type\":\"bar\"},{\"alignmentgroup\":\"True\",\"hovertemplate\":\"suburb=Allawah<br>land_size_bin=%{x}<br>price=%{y}<extra></extra>\",\"legendgroup\":\"\",\"marker\":{\"color\":\"#636efa\",\"pattern\":{\"shape\":\"\"}},\"name\":\"\",\"offsetgroup\":\"\",\"orientation\":\"v\",\"showlegend\":false,\"textposition\":\"auto\",\"x\":[\"(0, 200]\",\"(200, 400]\",\"(400, 600]\",\"(600, 800]\",\"(800, 1000]\",\"(1000, 1200]\"],\"xaxis\":\"x6\",\"y\":[null,1070000.0,1578000.0,null,null,null],\"yaxis\":\"y6\",\"type\":\"bar\"},{\"alignmentgroup\":\"True\",\"hovertemplate\":\"suburb=Annandale<br>land_size_bin=%{x}<br>price=%{y}<extra></extra>\",\"legendgroup\":\"\",\"marker\":{\"color\":\"#636efa\",\"pattern\":{\"shape\":\"\"}},\"name\":\"\",\"offsetgroup\":\"\",\"orientation\":\"v\",\"showlegend\":false,\"textposition\":\"auto\",\"x\":[\"(0, 200]\",\"(200, 400]\",\"(400, 600]\",\"(600, 800]\",\"(800, 1000]\",\"(1000, 1200]\"],\"xaxis\":\"x5\",\"y\":[1791000.0,2670000.0,3950000.0,6225000.0,null,null],\"yaxis\":\"y5\",\"type\":\"bar\"},{\"alignmentgroup\":\"True\",\"hovertemplate\":\"suburb=Arncliffe<br>land_size_bin=%{x}<br>price=%{y}<extra></extra>\",\"legendgroup\":\"\",\"marker\":{\"color\":\"#636efa\",\"pattern\":{\"shape\":\"\"}},\"name\":\"\",\"offsetgroup\":\"\",\"orientation\":\"v\",\"showlegend\":false,\"textposition\":\"auto\",\"x\":[\"(0, 200]\",\"(200, 400]\",\"(400, 600]\",\"(600, 800]\",\"(800, 1000]\",\"(1000, 1200]\"],\"xaxis\":\"x4\",\"y\":[1125000.0,1476000.0,1542500.0,1900000.0,2280000.0,null],\"yaxis\":\"y4\",\"type\":\"bar\"},{\"alignmentgroup\":\"True\",\"hovertemplate\":\"suburb=Ashbury<br>land_size_bin=%{x}<br>price=%{y}<extra></extra>\",\"legendgroup\":\"\",\"marker\":{\"color\":\"#636efa\",\"pattern\":{\"shape\":\"\"}},\"name\":\"\",\"offsetgroup\":\"\",\"orientation\":\"v\",\"showlegend\":false,\"textposition\":\"auto\",\"x\":[\"(0, 200]\",\"(200, 400]\",\"(400, 600]\",\"(600, 800]\",\"(800, 1000]\",\"(1000, 1200]\"],\"xaxis\":\"x3\",\"y\":[null,null,2425000.0,2600000.0,null,null],\"yaxis\":\"y3\",\"type\":\"bar\"},{\"alignmentgroup\":\"True\",\"hovertemplate\":\"suburb=Ashfield<br>land_size_bin=%{x}<br>price=%{y}<extra></extra>\",\"legendgroup\":\"\",\"marker\":{\"color\":\"#636efa\",\"pattern\":{\"shape\":\"\"}},\"name\":\"\",\"offsetgroup\":\"\",\"orientation\":\"v\",\"showlegend\":false,\"textposition\":\"auto\",\"x\":[\"(0, 200]\",\"(200, 400]\",\"(400, 600]\",\"(600, 800]\",\"(800, 1000]\",\"(1000, 1200]\"],\"xaxis\":\"x2\",\"y\":[1305150.0,1790000.0,2150000.0,2430000.0,3750000.0,null],\"yaxis\":\"y2\",\"type\":\"bar\"},{\"alignmentgroup\":\"True\",\"hovertemplate\":\"suburb=Auburn<br>land_size_bin=%{x}<br>price=%{y}<extra></extra>\",\"legendgroup\":\"\",\"marker\":{\"color\":\"#636efa\",\"pattern\":{\"shape\":\"\"}},\"name\":\"\",\"offsetgroup\":\"\",\"orientation\":\"v\",\"showlegend\":false,\"textposition\":\"auto\",\"x\":[\"(0, 200]\",\"(200, 400]\"],\"xaxis\":\"x\",\"y\":[715000.0,858750.0],\"yaxis\":\"y\",\"type\":\"bar\"}],                        {\"template\":{\"data\":{\"bar\":[{\"error_x\":{\"color\":\"#2a3f5f\"},\"error_y\":{\"color\":\"#2a3f5f\"},\"marker\":{\"line\":{\"color\":\"#E5ECF6\",\"width\":0.5},\"pattern\":{\"fillmode\":\"overlay\",\"size\":10,\"solidity\":0.2}},\"type\":\"bar\"}],\"barpolar\":[{\"marker\":{\"line\":{\"color\":\"#E5ECF6\",\"width\":0.5},\"pattern\":{\"fillmode\":\"overlay\",\"size\":10,\"solidity\":0.2}},\"type\":\"barpolar\"}],\"carpet\":[{\"aaxis\":{\"endlinecolor\":\"#2a3f5f\",\"gridcolor\":\"white\",\"linecolor\":\"white\",\"minorgridcolor\":\"white\",\"startlinecolor\":\"#2a3f5f\"},\"baxis\":{\"endlinecolor\":\"#2a3f5f\",\"gridcolor\":\"white\",\"linecolor\":\"white\",\"minorgridcolor\":\"white\",\"startlinecolor\":\"#2a3f5f\"},\"type\":\"carpet\"}],\"choropleth\":[{\"colorbar\":{\"outlinewidth\":0,\"ticks\":\"\"},\"type\":\"choropleth\"}],\"contour\":[{\"colorbar\":{\"outlinewidth\":0,\"ticks\":\"\"},\"colorscale\":[[0.0,\"#0d0887\"],[0.1111111111111111,\"#46039f\"],[0.2222222222222222,\"#7201a8\"],[0.3333333333333333,\"#9c179e\"],[0.4444444444444444,\"#bd3786\"],[0.5555555555555556,\"#d8576b\"],[0.6666666666666666,\"#ed7953\"],[0.7777777777777778,\"#fb9f3a\"],[0.8888888888888888,\"#fdca26\"],[1.0,\"#f0f921\"]],\"type\":\"contour\"}],\"contourcarpet\":[{\"colorbar\":{\"outlinewidth\":0,\"ticks\":\"\"},\"type\":\"contourcarpet\"}],\"heatmap\":[{\"colorbar\":{\"outlinewidth\":0,\"ticks\":\"\"},\"colorscale\":[[0.0,\"#0d0887\"],[0.1111111111111111,\"#46039f\"],[0.2222222222222222,\"#7201a8\"],[0.3333333333333333,\"#9c179e\"],[0.4444444444444444,\"#bd3786\"],[0.5555555555555556,\"#d8576b\"],[0.6666666666666666,\"#ed7953\"],[0.7777777777777778,\"#fb9f3a\"],[0.8888888888888888,\"#fdca26\"],[1.0,\"#f0f921\"]],\"type\":\"heatmap\"}],\"heatmapgl\":[{\"colorbar\":{\"outlinewidth\":0,\"ticks\":\"\"},\"colorscale\":[[0.0,\"#0d0887\"],[0.1111111111111111,\"#46039f\"],[0.2222222222222222,\"#7201a8\"],[0.3333333333333333,\"#9c179e\"],[0.4444444444444444,\"#bd3786\"],[0.5555555555555556,\"#d8576b\"],[0.6666666666666666,\"#ed7953\"],[0.7777777777777778,\"#fb9f3a\"],[0.8888888888888888,\"#fdca26\"],[1.0,\"#f0f921\"]],\"type\":\"heatmapgl\"}],\"histogram\":[{\"marker\":{\"pattern\":{\"fillmode\":\"overlay\",\"size\":10,\"solidity\":0.2}},\"type\":\"histogram\"}],\"histogram2d\":[{\"colorbar\":{\"outlinewidth\":0,\"ticks\":\"\"},\"colorscale\":[[0.0,\"#0d0887\"],[0.1111111111111111,\"#46039f\"],[0.2222222222222222,\"#7201a8\"],[0.3333333333333333,\"#9c179e\"],[0.4444444444444444,\"#bd3786\"],[0.5555555555555556,\"#d8576b\"],[0.6666666666666666,\"#ed7953\"],[0.7777777777777778,\"#fb9f3a\"],[0.8888888888888888,\"#fdca26\"],[1.0,\"#f0f921\"]],\"type\":\"histogram2d\"}],\"histogram2dcontour\":[{\"colorbar\":{\"outlinewidth\":0,\"ticks\":\"\"},\"colorscale\":[[0.0,\"#0d0887\"],[0.1111111111111111,\"#46039f\"],[0.2222222222222222,\"#7201a8\"],[0.3333333333333333,\"#9c179e\"],[0.4444444444444444,\"#bd3786\"],[0.5555555555555556,\"#d8576b\"],[0.6666666666666666,\"#ed7953\"],[0.7777777777777778,\"#fb9f3a\"],[0.8888888888888888,\"#fdca26\"],[1.0,\"#f0f921\"]],\"type\":\"histogram2dcontour\"}],\"mesh3d\":[{\"colorbar\":{\"outlinewidth\":0,\"ticks\":\"\"},\"type\":\"mesh3d\"}],\"parcoords\":[{\"line\":{\"colorbar\":{\"outlinewidth\":0,\"ticks\":\"\"}},\"type\":\"parcoords\"}],\"pie\":[{\"automargin\":true,\"type\":\"pie\"}],\"scatter\":[{\"marker\":{\"colorbar\":{\"outlinewidth\":0,\"ticks\":\"\"}},\"type\":\"scatter\"}],\"scatter3d\":[{\"line\":{\"colorbar\":{\"outlinewidth\":0,\"ticks\":\"\"}},\"marker\":{\"colorbar\":{\"outlinewidth\":0,\"ticks\":\"\"}},\"type\":\"scatter3d\"}],\"scattercarpet\":[{\"marker\":{\"colorbar\":{\"outlinewidth\":0,\"ticks\":\"\"}},\"type\":\"scattercarpet\"}],\"scattergeo\":[{\"marker\":{\"colorbar\":{\"outlinewidth\":0,\"ticks\":\"\"}},\"type\":\"scattergeo\"}],\"scattergl\":[{\"marker\":{\"colorbar\":{\"outlinewidth\":0,\"ticks\":\"\"}},\"type\":\"scattergl\"}],\"scattermapbox\":[{\"marker\":{\"colorbar\":{\"outlinewidth\":0,\"ticks\":\"\"}},\"type\":\"scattermapbox\"}],\"scatterpolar\":[{\"marker\":{\"colorbar\":{\"outlinewidth\":0,\"ticks\":\"\"}},\"type\":\"scatterpolar\"}],\"scatterpolargl\":[{\"marker\":{\"colorbar\":{\"outlinewidth\":0,\"ticks\":\"\"}},\"type\":\"scatterpolargl\"}],\"scatterternary\":[{\"marker\":{\"colorbar\":{\"outlinewidth\":0,\"ticks\":\"\"}},\"type\":\"scatterternary\"}],\"surface\":[{\"colorbar\":{\"outlinewidth\":0,\"ticks\":\"\"},\"colorscale\":[[0.0,\"#0d0887\"],[0.1111111111111111,\"#46039f\"],[0.2222222222222222,\"#7201a8\"],[0.3333333333333333,\"#9c179e\"],[0.4444444444444444,\"#bd3786\"],[0.5555555555555556,\"#d8576b\"],[0.6666666666666666,\"#ed7953\"],[0.7777777777777778,\"#fb9f3a\"],[0.8888888888888888,\"#fdca26\"],[1.0,\"#f0f921\"]],\"type\":\"surface\"}],\"table\":[{\"cells\":{\"fill\":{\"color\":\"#EBF0F8\"},\"line\":{\"color\":\"white\"}},\"header\":{\"fill\":{\"color\":\"#C8D4E3\"},\"line\":{\"color\":\"white\"}},\"type\":\"table\"}]},\"layout\":{\"annotationdefaults\":{\"arrowcolor\":\"#2a3f5f\",\"arrowhead\":0,\"arrowwidth\":1},\"autotypenumbers\":\"strict\",\"coloraxis\":{\"colorbar\":{\"outlinewidth\":0,\"ticks\":\"\"}},\"colorscale\":{\"diverging\":[[0,\"#8e0152\"],[0.1,\"#c51b7d\"],[0.2,\"#de77ae\"],[0.3,\"#f1b6da\"],[0.4,\"#fde0ef\"],[0.5,\"#f7f7f7\"],[0.6,\"#e6f5d0\"],[0.7,\"#b8e186\"],[0.8,\"#7fbc41\"],[0.9,\"#4d9221\"],[1,\"#276419\"]],\"sequential\":[[0.0,\"#0d0887\"],[0.1111111111111111,\"#46039f\"],[0.2222222222222222,\"#7201a8\"],[0.3333333333333333,\"#9c179e\"],[0.4444444444444444,\"#bd3786\"],[0.5555555555555556,\"#d8576b\"],[0.6666666666666666,\"#ed7953\"],[0.7777777777777778,\"#fb9f3a\"],[0.8888888888888888,\"#fdca26\"],[1.0,\"#f0f921\"]],\"sequentialminus\":[[0.0,\"#0d0887\"],[0.1111111111111111,\"#46039f\"],[0.2222222222222222,\"#7201a8\"],[0.3333333333333333,\"#9c179e\"],[0.4444444444444444,\"#bd3786\"],[0.5555555555555556,\"#d8576b\"],[0.6666666666666666,\"#ed7953\"],[0.7777777777777778,\"#fb9f3a\"],[0.8888888888888888,\"#fdca26\"],[1.0,\"#f0f921\"]]},\"colorway\":[\"#636efa\",\"#EF553B\",\"#00cc96\",\"#ab63fa\",\"#FFA15A\",\"#19d3f3\",\"#FF6692\",\"#B6E880\",\"#FF97FF\",\"#FECB52\"],\"font\":{\"color\":\"#2a3f5f\"},\"geo\":{\"bgcolor\":\"white\",\"lakecolor\":\"white\",\"landcolor\":\"#E5ECF6\",\"showlakes\":true,\"showland\":true,\"subunitcolor\":\"white\"},\"hoverlabel\":{\"align\":\"left\"},\"hovermode\":\"closest\",\"mapbox\":{\"style\":\"light\"},\"paper_bgcolor\":\"white\",\"plot_bgcolor\":\"#E5ECF6\",\"polar\":{\"angularaxis\":{\"gridcolor\":\"white\",\"linecolor\":\"white\",\"ticks\":\"\"},\"bgcolor\":\"#E5ECF6\",\"radialaxis\":{\"gridcolor\":\"white\",\"linecolor\":\"white\",\"ticks\":\"\"}},\"scene\":{\"xaxis\":{\"backgroundcolor\":\"#E5ECF6\",\"gridcolor\":\"white\",\"gridwidth\":2,\"linecolor\":\"white\",\"showbackground\":true,\"ticks\":\"\",\"zerolinecolor\":\"white\"},\"yaxis\":{\"backgroundcolor\":\"#E5ECF6\",\"gridcolor\":\"white\",\"gridwidth\":2,\"linecolor\":\"white\",\"showbackground\":true,\"ticks\":\"\",\"zerolinecolor\":\"white\"},\"zaxis\":{\"backgroundcolor\":\"#E5ECF6\",\"gridcolor\":\"white\",\"gridwidth\":2,\"linecolor\":\"white\",\"showbackground\":true,\"ticks\":\"\",\"zerolinecolor\":\"white\"}},\"shapedefaults\":{\"line\":{\"color\":\"#2a3f5f\"}},\"ternary\":{\"aaxis\":{\"gridcolor\":\"white\",\"linecolor\":\"white\",\"ticks\":\"\"},\"baxis\":{\"gridcolor\":\"white\",\"linecolor\":\"white\",\"ticks\":\"\"},\"bgcolor\":\"#E5ECF6\",\"caxis\":{\"gridcolor\":\"white\",\"linecolor\":\"white\",\"ticks\":\"\"}},\"title\":{\"x\":0.05},\"xaxis\":{\"automargin\":true,\"gridcolor\":\"white\",\"linecolor\":\"white\",\"ticks\":\"\",\"title\":{\"standoff\":15},\"zerolinecolor\":\"white\",\"zerolinewidth\":2},\"yaxis\":{\"automargin\":true,\"gridcolor\":\"white\",\"linecolor\":\"white\",\"ticks\":\"\",\"title\":{\"standoff\":15},\"zerolinecolor\":\"white\",\"zerolinewidth\":2}}},\"xaxis\":{\"anchor\":\"y\",\"domain\":[0.0,0.98],\"title\":{\"text\":\"land_size_bin\"}},\"yaxis\":{\"anchor\":\"x\",\"domain\":[0.0,0.08444444444444445],\"title\":{\"text\":\"price\"}},\"xaxis2\":{\"anchor\":\"y2\",\"domain\":[0.0,0.98],\"matches\":\"x\",\"showticklabels\":false},\"yaxis2\":{\"anchor\":\"x2\",\"domain\":[0.11444444444444445,0.1988888888888889],\"matches\":\"y\",\"title\":{\"text\":\"price\"}},\"xaxis3\":{\"anchor\":\"y3\",\"domain\":[0.0,0.98],\"matches\":\"x\",\"showticklabels\":false},\"yaxis3\":{\"anchor\":\"x3\",\"domain\":[0.2288888888888889,0.31333333333333335],\"matches\":\"y\",\"title\":{\"text\":\"price\"}},\"xaxis4\":{\"anchor\":\"y4\",\"domain\":[0.0,0.98],\"matches\":\"x\",\"showticklabels\":false},\"yaxis4\":{\"anchor\":\"x4\",\"domain\":[0.3433333333333334,0.4277777777777778],\"matches\":\"y\",\"title\":{\"text\":\"price\"}},\"xaxis5\":{\"anchor\":\"y5\",\"domain\":[0.0,0.98],\"matches\":\"x\",\"showticklabels\":false},\"yaxis5\":{\"anchor\":\"x5\",\"domain\":[0.4577777777777778,0.5422222222222223],\"matches\":\"y\",\"title\":{\"text\":\"price\"}},\"xaxis6\":{\"anchor\":\"y6\",\"domain\":[0.0,0.98],\"matches\":\"x\",\"showticklabels\":false},\"yaxis6\":{\"anchor\":\"x6\",\"domain\":[0.5722222222222222,0.6566666666666666],\"matches\":\"y\",\"title\":{\"text\":\"price\"}},\"xaxis7\":{\"anchor\":\"y7\",\"domain\":[0.0,0.98],\"matches\":\"x\",\"showticklabels\":false},\"yaxis7\":{\"anchor\":\"x7\",\"domain\":[0.6866666666666668,0.7711111111111112],\"matches\":\"y\",\"title\":{\"text\":\"price\"}},\"xaxis8\":{\"anchor\":\"y8\",\"domain\":[0.0,0.98],\"matches\":\"x\",\"showticklabels\":false},\"yaxis8\":{\"anchor\":\"x8\",\"domain\":[0.8011111111111111,0.8855555555555555],\"matches\":\"y\",\"title\":{\"text\":\"price\"}},\"xaxis9\":{\"anchor\":\"y9\",\"domain\":[0.0,0.98],\"matches\":\"x\",\"showticklabels\":false},\"yaxis9\":{\"anchor\":\"x9\",\"domain\":[0.9155555555555556,1.0],\"matches\":\"y\",\"title\":{\"text\":\"price\"}},\"annotations\":[{\"font\":{},\"showarrow\":false,\"text\":\"suburb=Auburn\",\"textangle\":90,\"x\":0.98,\"xanchor\":\"left\",\"xref\":\"paper\",\"y\":0.042222222222222223,\"yanchor\":\"middle\",\"yref\":\"paper\"},{\"font\":{},\"showarrow\":false,\"text\":\"suburb=Ashfield\",\"textangle\":90,\"x\":0.98,\"xanchor\":\"left\",\"xref\":\"paper\",\"y\":0.15666666666666668,\"yanchor\":\"middle\",\"yref\":\"paper\"},{\"font\":{},\"showarrow\":false,\"text\":\"suburb=Ashbury\",\"textangle\":90,\"x\":0.98,\"xanchor\":\"left\",\"xref\":\"paper\",\"y\":0.27111111111111114,\"yanchor\":\"middle\",\"yref\":\"paper\"},{\"font\":{},\"showarrow\":false,\"text\":\"suburb=Arncliffe\",\"textangle\":90,\"x\":0.98,\"xanchor\":\"left\",\"xref\":\"paper\",\"y\":0.3855555555555556,\"yanchor\":\"middle\",\"yref\":\"paper\"},{\"font\":{},\"showarrow\":false,\"text\":\"suburb=Annandale\",\"textangle\":90,\"x\":0.98,\"xanchor\":\"left\",\"xref\":\"paper\",\"y\":0.5,\"yanchor\":\"middle\",\"yref\":\"paper\"},{\"font\":{},\"showarrow\":false,\"text\":\"suburb=Allawah\",\"textangle\":90,\"x\":0.98,\"xanchor\":\"left\",\"xref\":\"paper\",\"y\":0.6144444444444443,\"yanchor\":\"middle\",\"yref\":\"paper\"},{\"font\":{},\"showarrow\":false,\"text\":\"suburb=Allambie Heights\",\"textangle\":90,\"x\":0.98,\"xanchor\":\"left\",\"xref\":\"paper\",\"y\":0.7288888888888889,\"yanchor\":\"middle\",\"yref\":\"paper\"},{\"font\":{},\"showarrow\":false,\"text\":\"suburb=Alexandria\",\"textangle\":90,\"x\":0.98,\"xanchor\":\"left\",\"xref\":\"paper\",\"y\":0.8433333333333333,\"yanchor\":\"middle\",\"yref\":\"paper\"},{\"font\":{},\"showarrow\":false,\"text\":\"suburb=Adelaide\",\"textangle\":90,\"x\":0.98,\"xanchor\":\"left\",\"xref\":\"paper\",\"y\":0.9577777777777778,\"yanchor\":\"middle\",\"yref\":\"paper\"}],\"legend\":{\"tracegroupgap\":0},\"margin\":{\"t\":60},\"barmode\":\"relative\"},                        {\"responsive\": true}                    ).then(function(){\n",
       "                            \n",
       "var gd = document.getElementById('3f41e6e4-3e62-440f-8359-55d22135b605');\n",
       "var x = new MutationObserver(function (mutations, observer) {{\n",
       "        var display = window.getComputedStyle(gd).display;\n",
       "        if (!display || display === 'none') {{\n",
       "            console.log([gd, 'removed!']);\n",
       "            Plotly.purge(gd);\n",
       "            observer.disconnect();\n",
       "        }}\n",
       "}});\n",
       "\n",
       "// Listen for the removal of the full notebook cells\n",
       "var notebookContainer = gd.closest('#notebook-container');\n",
       "if (notebookContainer) {{\n",
       "    x.observe(notebookContainer, {childList: true});\n",
       "}}\n",
       "\n",
       "// Listen for the clearing of the current output cell\n",
       "var outputEl = gd.closest('.output');\n",
       "if (outputEl) {{\n",
       "    x.observe(outputEl, {childList: true});\n",
       "}}\n",
       "\n",
       "                        })                };                });            </script>        </div>"
      ]
     },
     "metadata": {},
     "output_type": "display_data"
    }
   ],
   "source": [
    "fig = px.bar(final_2021_2022_summ[0:50], x=\"land_size_bin\", y=\"price\", facet_row=\"suburb\")\n",
    "\n",
    "# fig = make_subplots(\n",
    "#     rows=5, cols=1\n",
    "#     ,subplot_titles=(\"Plot 1\", \"Plot 2\", \"Plot 3\", \"Plot 4\")\n",
    "#     ,shared_yaxes=True\n",
    "#     ,shared_xaxes=True)\n",
    "\n",
    "\n",
    "# final_2021_2022_summ = suburb_df[suburb_df[\"sold_date_dt\"] >= dtm][\"land_size\"]\n",
    "\n",
    "# fig.add_trace(go.,row =1, col=1)\n",
    "\n",
    "\n",
    "# fig.update_xaxes(range=[0, 1200], row=1, col=1)\n",
    "# fig.update_xaxes(range=[0, 1200], row=2, col=1)\n",
    "# fig.update_xaxes(range=[0, 1200], row=3, col=1)\n",
    "# fig.update_xaxes(range=[0, 1200], row=4, col=1)\n",
    "# fig.update_xaxes(range=[0, 1200], row=5, col=1)\n",
    "\n",
    "# fig.update_yaxes(range=[0, 125], row=row, col=col)\n",
    "# fig.add_trace(go.Histogram(x=suburb_df_price,xbins=dict(size=100),autobinx = False, name=name),row =row, col=col)\n",
    "        \n",
    "\n",
    "fig.show()"
   ]
  },
  {
   "cell_type": "code",
   "execution_count": null,
   "id": "2cd565e6",
   "metadata": {},
   "outputs": [],
   "source": []
  },
  {
   "cell_type": "code",
   "execution_count": null,
   "id": "febf8e95",
   "metadata": {},
   "outputs": [],
   "source": []
  },
  {
   "cell_type": "code",
   "execution_count": null,
   "id": "92903f32",
   "metadata": {},
   "outputs": [],
   "source": []
  },
  {
   "cell_type": "code",
   "execution_count": 156,
   "id": "12a36070",
   "metadata": {},
   "outputs": [
    {
     "data": {
      "application/vnd.plotly.v1+json": {
       "config": {
        "plotlyServerURL": "https://plot.ly"
       },
       "data": [
        {
         "opacity": 0.75,
         "type": "histogram",
         "x": [
          2700000,
          1850000,
          3025000,
          2350000,
          2200000,
          1930000,
          2604000,
          2967000,
          2482000,
          1805000,
          2630000,
          2700000,
          2765000,
          2275000,
          1100000,
          2000000,
          2535000,
          2280000,
          1490000,
          2498000,
          2300000,
          2275000,
          1310000,
          1510000,
          2650000,
          2560000,
          2489000,
          2075000,
          4000000,
          2680000,
          2100000,
          2720000,
          2600000,
          2000000,
          2300000,
          1851000,
          1805000,
          1650000,
          1300000,
          3060000,
          2400000,
          2010000,
          2960000,
          2050000,
          4500000,
          2900000,
          2750000,
          2300000,
          2450000,
          1700000,
          1870000,
          2612888,
          1710000
         ]
        },
        {
         "opacity": 0.75,
         "type": "histogram",
         "x": [
          1500000,
          1637000,
          1307000,
          1625000,
          2010000,
          960000,
          1660000,
          1545000,
          1835000,
          1590000,
          970000,
          1850000,
          1802000,
          835000,
          1805000,
          1480000,
          1280000,
          1550000,
          2003000,
          1830000,
          1312500,
          1665000
         ]
        }
       ],
       "layout": {
        "barmode": "overlay",
        "template": {
         "data": {
          "bar": [
           {
            "error_x": {
             "color": "#2a3f5f"
            },
            "error_y": {
             "color": "#2a3f5f"
            },
            "marker": {
             "line": {
              "color": "#E5ECF6",
              "width": 0.5
             },
             "pattern": {
              "fillmode": "overlay",
              "size": 10,
              "solidity": 0.2
             }
            },
            "type": "bar"
           }
          ],
          "barpolar": [
           {
            "marker": {
             "line": {
              "color": "#E5ECF6",
              "width": 0.5
             },
             "pattern": {
              "fillmode": "overlay",
              "size": 10,
              "solidity": 0.2
             }
            },
            "type": "barpolar"
           }
          ],
          "carpet": [
           {
            "aaxis": {
             "endlinecolor": "#2a3f5f",
             "gridcolor": "white",
             "linecolor": "white",
             "minorgridcolor": "white",
             "startlinecolor": "#2a3f5f"
            },
            "baxis": {
             "endlinecolor": "#2a3f5f",
             "gridcolor": "white",
             "linecolor": "white",
             "minorgridcolor": "white",
             "startlinecolor": "#2a3f5f"
            },
            "type": "carpet"
           }
          ],
          "choropleth": [
           {
            "colorbar": {
             "outlinewidth": 0,
             "ticks": ""
            },
            "type": "choropleth"
           }
          ],
          "contour": [
           {
            "colorbar": {
             "outlinewidth": 0,
             "ticks": ""
            },
            "colorscale": [
             [
              0,
              "#0d0887"
             ],
             [
              0.1111111111111111,
              "#46039f"
             ],
             [
              0.2222222222222222,
              "#7201a8"
             ],
             [
              0.3333333333333333,
              "#9c179e"
             ],
             [
              0.4444444444444444,
              "#bd3786"
             ],
             [
              0.5555555555555556,
              "#d8576b"
             ],
             [
              0.6666666666666666,
              "#ed7953"
             ],
             [
              0.7777777777777778,
              "#fb9f3a"
             ],
             [
              0.8888888888888888,
              "#fdca26"
             ],
             [
              1,
              "#f0f921"
             ]
            ],
            "type": "contour"
           }
          ],
          "contourcarpet": [
           {
            "colorbar": {
             "outlinewidth": 0,
             "ticks": ""
            },
            "type": "contourcarpet"
           }
          ],
          "heatmap": [
           {
            "colorbar": {
             "outlinewidth": 0,
             "ticks": ""
            },
            "colorscale": [
             [
              0,
              "#0d0887"
             ],
             [
              0.1111111111111111,
              "#46039f"
             ],
             [
              0.2222222222222222,
              "#7201a8"
             ],
             [
              0.3333333333333333,
              "#9c179e"
             ],
             [
              0.4444444444444444,
              "#bd3786"
             ],
             [
              0.5555555555555556,
              "#d8576b"
             ],
             [
              0.6666666666666666,
              "#ed7953"
             ],
             [
              0.7777777777777778,
              "#fb9f3a"
             ],
             [
              0.8888888888888888,
              "#fdca26"
             ],
             [
              1,
              "#f0f921"
             ]
            ],
            "type": "heatmap"
           }
          ],
          "heatmapgl": [
           {
            "colorbar": {
             "outlinewidth": 0,
             "ticks": ""
            },
            "colorscale": [
             [
              0,
              "#0d0887"
             ],
             [
              0.1111111111111111,
              "#46039f"
             ],
             [
              0.2222222222222222,
              "#7201a8"
             ],
             [
              0.3333333333333333,
              "#9c179e"
             ],
             [
              0.4444444444444444,
              "#bd3786"
             ],
             [
              0.5555555555555556,
              "#d8576b"
             ],
             [
              0.6666666666666666,
              "#ed7953"
             ],
             [
              0.7777777777777778,
              "#fb9f3a"
             ],
             [
              0.8888888888888888,
              "#fdca26"
             ],
             [
              1,
              "#f0f921"
             ]
            ],
            "type": "heatmapgl"
           }
          ],
          "histogram": [
           {
            "marker": {
             "pattern": {
              "fillmode": "overlay",
              "size": 10,
              "solidity": 0.2
             }
            },
            "type": "histogram"
           }
          ],
          "histogram2d": [
           {
            "colorbar": {
             "outlinewidth": 0,
             "ticks": ""
            },
            "colorscale": [
             [
              0,
              "#0d0887"
             ],
             [
              0.1111111111111111,
              "#46039f"
             ],
             [
              0.2222222222222222,
              "#7201a8"
             ],
             [
              0.3333333333333333,
              "#9c179e"
             ],
             [
              0.4444444444444444,
              "#bd3786"
             ],
             [
              0.5555555555555556,
              "#d8576b"
             ],
             [
              0.6666666666666666,
              "#ed7953"
             ],
             [
              0.7777777777777778,
              "#fb9f3a"
             ],
             [
              0.8888888888888888,
              "#fdca26"
             ],
             [
              1,
              "#f0f921"
             ]
            ],
            "type": "histogram2d"
           }
          ],
          "histogram2dcontour": [
           {
            "colorbar": {
             "outlinewidth": 0,
             "ticks": ""
            },
            "colorscale": [
             [
              0,
              "#0d0887"
             ],
             [
              0.1111111111111111,
              "#46039f"
             ],
             [
              0.2222222222222222,
              "#7201a8"
             ],
             [
              0.3333333333333333,
              "#9c179e"
             ],
             [
              0.4444444444444444,
              "#bd3786"
             ],
             [
              0.5555555555555556,
              "#d8576b"
             ],
             [
              0.6666666666666666,
              "#ed7953"
             ],
             [
              0.7777777777777778,
              "#fb9f3a"
             ],
             [
              0.8888888888888888,
              "#fdca26"
             ],
             [
              1,
              "#f0f921"
             ]
            ],
            "type": "histogram2dcontour"
           }
          ],
          "mesh3d": [
           {
            "colorbar": {
             "outlinewidth": 0,
             "ticks": ""
            },
            "type": "mesh3d"
           }
          ],
          "parcoords": [
           {
            "line": {
             "colorbar": {
              "outlinewidth": 0,
              "ticks": ""
             }
            },
            "type": "parcoords"
           }
          ],
          "pie": [
           {
            "automargin": true,
            "type": "pie"
           }
          ],
          "scatter": [
           {
            "marker": {
             "colorbar": {
              "outlinewidth": 0,
              "ticks": ""
             }
            },
            "type": "scatter"
           }
          ],
          "scatter3d": [
           {
            "line": {
             "colorbar": {
              "outlinewidth": 0,
              "ticks": ""
             }
            },
            "marker": {
             "colorbar": {
              "outlinewidth": 0,
              "ticks": ""
             }
            },
            "type": "scatter3d"
           }
          ],
          "scattercarpet": [
           {
            "marker": {
             "colorbar": {
              "outlinewidth": 0,
              "ticks": ""
             }
            },
            "type": "scattercarpet"
           }
          ],
          "scattergeo": [
           {
            "marker": {
             "colorbar": {
              "outlinewidth": 0,
              "ticks": ""
             }
            },
            "type": "scattergeo"
           }
          ],
          "scattergl": [
           {
            "marker": {
             "colorbar": {
              "outlinewidth": 0,
              "ticks": ""
             }
            },
            "type": "scattergl"
           }
          ],
          "scattermapbox": [
           {
            "marker": {
             "colorbar": {
              "outlinewidth": 0,
              "ticks": ""
             }
            },
            "type": "scattermapbox"
           }
          ],
          "scatterpolar": [
           {
            "marker": {
             "colorbar": {
              "outlinewidth": 0,
              "ticks": ""
             }
            },
            "type": "scatterpolar"
           }
          ],
          "scatterpolargl": [
           {
            "marker": {
             "colorbar": {
              "outlinewidth": 0,
              "ticks": ""
             }
            },
            "type": "scatterpolargl"
           }
          ],
          "scatterternary": [
           {
            "marker": {
             "colorbar": {
              "outlinewidth": 0,
              "ticks": ""
             }
            },
            "type": "scatterternary"
           }
          ],
          "surface": [
           {
            "colorbar": {
             "outlinewidth": 0,
             "ticks": ""
            },
            "colorscale": [
             [
              0,
              "#0d0887"
             ],
             [
              0.1111111111111111,
              "#46039f"
             ],
             [
              0.2222222222222222,
              "#7201a8"
             ],
             [
              0.3333333333333333,
              "#9c179e"
             ],
             [
              0.4444444444444444,
              "#bd3786"
             ],
             [
              0.5555555555555556,
              "#d8576b"
             ],
             [
              0.6666666666666666,
              "#ed7953"
             ],
             [
              0.7777777777777778,
              "#fb9f3a"
             ],
             [
              0.8888888888888888,
              "#fdca26"
             ],
             [
              1,
              "#f0f921"
             ]
            ],
            "type": "surface"
           }
          ],
          "table": [
           {
            "cells": {
             "fill": {
              "color": "#EBF0F8"
             },
             "line": {
              "color": "white"
             }
            },
            "header": {
             "fill": {
              "color": "#C8D4E3"
             },
             "line": {
              "color": "white"
             }
            },
            "type": "table"
           }
          ]
         },
         "layout": {
          "annotationdefaults": {
           "arrowcolor": "#2a3f5f",
           "arrowhead": 0,
           "arrowwidth": 1
          },
          "autotypenumbers": "strict",
          "coloraxis": {
           "colorbar": {
            "outlinewidth": 0,
            "ticks": ""
           }
          },
          "colorscale": {
           "diverging": [
            [
             0,
             "#8e0152"
            ],
            [
             0.1,
             "#c51b7d"
            ],
            [
             0.2,
             "#de77ae"
            ],
            [
             0.3,
             "#f1b6da"
            ],
            [
             0.4,
             "#fde0ef"
            ],
            [
             0.5,
             "#f7f7f7"
            ],
            [
             0.6,
             "#e6f5d0"
            ],
            [
             0.7,
             "#b8e186"
            ],
            [
             0.8,
             "#7fbc41"
            ],
            [
             0.9,
             "#4d9221"
            ],
            [
             1,
             "#276419"
            ]
           ],
           "sequential": [
            [
             0,
             "#0d0887"
            ],
            [
             0.1111111111111111,
             "#46039f"
            ],
            [
             0.2222222222222222,
             "#7201a8"
            ],
            [
             0.3333333333333333,
             "#9c179e"
            ],
            [
             0.4444444444444444,
             "#bd3786"
            ],
            [
             0.5555555555555556,
             "#d8576b"
            ],
            [
             0.6666666666666666,
             "#ed7953"
            ],
            [
             0.7777777777777778,
             "#fb9f3a"
            ],
            [
             0.8888888888888888,
             "#fdca26"
            ],
            [
             1,
             "#f0f921"
            ]
           ],
           "sequentialminus": [
            [
             0,
             "#0d0887"
            ],
            [
             0.1111111111111111,
             "#46039f"
            ],
            [
             0.2222222222222222,
             "#7201a8"
            ],
            [
             0.3333333333333333,
             "#9c179e"
            ],
            [
             0.4444444444444444,
             "#bd3786"
            ],
            [
             0.5555555555555556,
             "#d8576b"
            ],
            [
             0.6666666666666666,
             "#ed7953"
            ],
            [
             0.7777777777777778,
             "#fb9f3a"
            ],
            [
             0.8888888888888888,
             "#fdca26"
            ],
            [
             1,
             "#f0f921"
            ]
           ]
          },
          "colorway": [
           "#636efa",
           "#EF553B",
           "#00cc96",
           "#ab63fa",
           "#FFA15A",
           "#19d3f3",
           "#FF6692",
           "#B6E880",
           "#FF97FF",
           "#FECB52"
          ],
          "font": {
           "color": "#2a3f5f"
          },
          "geo": {
           "bgcolor": "white",
           "lakecolor": "white",
           "landcolor": "#E5ECF6",
           "showlakes": true,
           "showland": true,
           "subunitcolor": "white"
          },
          "hoverlabel": {
           "align": "left"
          },
          "hovermode": "closest",
          "mapbox": {
           "style": "light"
          },
          "paper_bgcolor": "white",
          "plot_bgcolor": "#E5ECF6",
          "polar": {
           "angularaxis": {
            "gridcolor": "white",
            "linecolor": "white",
            "ticks": ""
           },
           "bgcolor": "#E5ECF6",
           "radialaxis": {
            "gridcolor": "white",
            "linecolor": "white",
            "ticks": ""
           }
          },
          "scene": {
           "xaxis": {
            "backgroundcolor": "#E5ECF6",
            "gridcolor": "white",
            "gridwidth": 2,
            "linecolor": "white",
            "showbackground": true,
            "ticks": "",
            "zerolinecolor": "white"
           },
           "yaxis": {
            "backgroundcolor": "#E5ECF6",
            "gridcolor": "white",
            "gridwidth": 2,
            "linecolor": "white",
            "showbackground": true,
            "ticks": "",
            "zerolinecolor": "white"
           },
           "zaxis": {
            "backgroundcolor": "#E5ECF6",
            "gridcolor": "white",
            "gridwidth": 2,
            "linecolor": "white",
            "showbackground": true,
            "ticks": "",
            "zerolinecolor": "white"
           }
          },
          "shapedefaults": {
           "line": {
            "color": "#2a3f5f"
           }
          },
          "ternary": {
           "aaxis": {
            "gridcolor": "white",
            "linecolor": "white",
            "ticks": ""
           },
           "baxis": {
            "gridcolor": "white",
            "linecolor": "white",
            "ticks": ""
           },
           "bgcolor": "#E5ECF6",
           "caxis": {
            "gridcolor": "white",
            "linecolor": "white",
            "ticks": ""
           }
          },
          "title": {
           "x": 0.05
          },
          "xaxis": {
           "automargin": true,
           "gridcolor": "white",
           "linecolor": "white",
           "ticks": "",
           "title": {
            "standoff": 15
           },
           "zerolinecolor": "white",
           "zerolinewidth": 2
          },
          "yaxis": {
           "automargin": true,
           "gridcolor": "white",
           "linecolor": "white",
           "ticks": "",
           "title": {
            "standoff": 15
           },
           "zerolinecolor": "white",
           "zerolinewidth": 2
          }
         }
        }
       }
      },
      "text/html": [
       "<div>                            <div id=\"9cb11b3f-c997-4efa-8cc2-2f23f79b0845\" class=\"plotly-graph-div\" style=\"height:525px; width:100%;\"></div>            <script type=\"text/javascript\">                require([\"plotly\"], function(Plotly) {                    window.PLOTLYENV=window.PLOTLYENV || {};                                    if (document.getElementById(\"9cb11b3f-c997-4efa-8cc2-2f23f79b0845\")) {                    Plotly.newPlot(                        \"9cb11b3f-c997-4efa-8cc2-2f23f79b0845\",                        [{\"x\":[2700000,1850000,3025000,2350000,2200000,1930000,2604000,2967000,2482000,1805000,2630000,2700000,2765000,2275000,1100000,2000000,2535000,2280000,1490000,2498000,2300000,2275000,1310000,1510000,2650000,2560000,2489000,2075000,4000000,2680000,2100000,2720000,2600000,2000000,2300000,1851000,1805000,1650000,1300000,3060000,2400000,2010000,2960000,2050000,4500000,2900000,2750000,2300000,2450000,1700000,1870000,2612888,1710000],\"type\":\"histogram\",\"opacity\":0.75},{\"x\":[1500000,1637000,1307000,1625000,2010000,960000,1660000,1545000,1835000,1590000,970000,1850000,1802000,835000,1805000,1480000,1280000,1550000,2003000,1830000,1312500,1665000],\"type\":\"histogram\",\"opacity\":0.75}],                        {\"template\":{\"data\":{\"bar\":[{\"error_x\":{\"color\":\"#2a3f5f\"},\"error_y\":{\"color\":\"#2a3f5f\"},\"marker\":{\"line\":{\"color\":\"#E5ECF6\",\"width\":0.5},\"pattern\":{\"fillmode\":\"overlay\",\"size\":10,\"solidity\":0.2}},\"type\":\"bar\"}],\"barpolar\":[{\"marker\":{\"line\":{\"color\":\"#E5ECF6\",\"width\":0.5},\"pattern\":{\"fillmode\":\"overlay\",\"size\":10,\"solidity\":0.2}},\"type\":\"barpolar\"}],\"carpet\":[{\"aaxis\":{\"endlinecolor\":\"#2a3f5f\",\"gridcolor\":\"white\",\"linecolor\":\"white\",\"minorgridcolor\":\"white\",\"startlinecolor\":\"#2a3f5f\"},\"baxis\":{\"endlinecolor\":\"#2a3f5f\",\"gridcolor\":\"white\",\"linecolor\":\"white\",\"minorgridcolor\":\"white\",\"startlinecolor\":\"#2a3f5f\"},\"type\":\"carpet\"}],\"choropleth\":[{\"colorbar\":{\"outlinewidth\":0,\"ticks\":\"\"},\"type\":\"choropleth\"}],\"contour\":[{\"colorbar\":{\"outlinewidth\":0,\"ticks\":\"\"},\"colorscale\":[[0.0,\"#0d0887\"],[0.1111111111111111,\"#46039f\"],[0.2222222222222222,\"#7201a8\"],[0.3333333333333333,\"#9c179e\"],[0.4444444444444444,\"#bd3786\"],[0.5555555555555556,\"#d8576b\"],[0.6666666666666666,\"#ed7953\"],[0.7777777777777778,\"#fb9f3a\"],[0.8888888888888888,\"#fdca26\"],[1.0,\"#f0f921\"]],\"type\":\"contour\"}],\"contourcarpet\":[{\"colorbar\":{\"outlinewidth\":0,\"ticks\":\"\"},\"type\":\"contourcarpet\"}],\"heatmap\":[{\"colorbar\":{\"outlinewidth\":0,\"ticks\":\"\"},\"colorscale\":[[0.0,\"#0d0887\"],[0.1111111111111111,\"#46039f\"],[0.2222222222222222,\"#7201a8\"],[0.3333333333333333,\"#9c179e\"],[0.4444444444444444,\"#bd3786\"],[0.5555555555555556,\"#d8576b\"],[0.6666666666666666,\"#ed7953\"],[0.7777777777777778,\"#fb9f3a\"],[0.8888888888888888,\"#fdca26\"],[1.0,\"#f0f921\"]],\"type\":\"heatmap\"}],\"heatmapgl\":[{\"colorbar\":{\"outlinewidth\":0,\"ticks\":\"\"},\"colorscale\":[[0.0,\"#0d0887\"],[0.1111111111111111,\"#46039f\"],[0.2222222222222222,\"#7201a8\"],[0.3333333333333333,\"#9c179e\"],[0.4444444444444444,\"#bd3786\"],[0.5555555555555556,\"#d8576b\"],[0.6666666666666666,\"#ed7953\"],[0.7777777777777778,\"#fb9f3a\"],[0.8888888888888888,\"#fdca26\"],[1.0,\"#f0f921\"]],\"type\":\"heatmapgl\"}],\"histogram\":[{\"marker\":{\"pattern\":{\"fillmode\":\"overlay\",\"size\":10,\"solidity\":0.2}},\"type\":\"histogram\"}],\"histogram2d\":[{\"colorbar\":{\"outlinewidth\":0,\"ticks\":\"\"},\"colorscale\":[[0.0,\"#0d0887\"],[0.1111111111111111,\"#46039f\"],[0.2222222222222222,\"#7201a8\"],[0.3333333333333333,\"#9c179e\"],[0.4444444444444444,\"#bd3786\"],[0.5555555555555556,\"#d8576b\"],[0.6666666666666666,\"#ed7953\"],[0.7777777777777778,\"#fb9f3a\"],[0.8888888888888888,\"#fdca26\"],[1.0,\"#f0f921\"]],\"type\":\"histogram2d\"}],\"histogram2dcontour\":[{\"colorbar\":{\"outlinewidth\":0,\"ticks\":\"\"},\"colorscale\":[[0.0,\"#0d0887\"],[0.1111111111111111,\"#46039f\"],[0.2222222222222222,\"#7201a8\"],[0.3333333333333333,\"#9c179e\"],[0.4444444444444444,\"#bd3786\"],[0.5555555555555556,\"#d8576b\"],[0.6666666666666666,\"#ed7953\"],[0.7777777777777778,\"#fb9f3a\"],[0.8888888888888888,\"#fdca26\"],[1.0,\"#f0f921\"]],\"type\":\"histogram2dcontour\"}],\"mesh3d\":[{\"colorbar\":{\"outlinewidth\":0,\"ticks\":\"\"},\"type\":\"mesh3d\"}],\"parcoords\":[{\"line\":{\"colorbar\":{\"outlinewidth\":0,\"ticks\":\"\"}},\"type\":\"parcoords\"}],\"pie\":[{\"automargin\":true,\"type\":\"pie\"}],\"scatter\":[{\"marker\":{\"colorbar\":{\"outlinewidth\":0,\"ticks\":\"\"}},\"type\":\"scatter\"}],\"scatter3d\":[{\"line\":{\"colorbar\":{\"outlinewidth\":0,\"ticks\":\"\"}},\"marker\":{\"colorbar\":{\"outlinewidth\":0,\"ticks\":\"\"}},\"type\":\"scatter3d\"}],\"scattercarpet\":[{\"marker\":{\"colorbar\":{\"outlinewidth\":0,\"ticks\":\"\"}},\"type\":\"scattercarpet\"}],\"scattergeo\":[{\"marker\":{\"colorbar\":{\"outlinewidth\":0,\"ticks\":\"\"}},\"type\":\"scattergeo\"}],\"scattergl\":[{\"marker\":{\"colorbar\":{\"outlinewidth\":0,\"ticks\":\"\"}},\"type\":\"scattergl\"}],\"scattermapbox\":[{\"marker\":{\"colorbar\":{\"outlinewidth\":0,\"ticks\":\"\"}},\"type\":\"scattermapbox\"}],\"scatterpolar\":[{\"marker\":{\"colorbar\":{\"outlinewidth\":0,\"ticks\":\"\"}},\"type\":\"scatterpolar\"}],\"scatterpolargl\":[{\"marker\":{\"colorbar\":{\"outlinewidth\":0,\"ticks\":\"\"}},\"type\":\"scatterpolargl\"}],\"scatterternary\":[{\"marker\":{\"colorbar\":{\"outlinewidth\":0,\"ticks\":\"\"}},\"type\":\"scatterternary\"}],\"surface\":[{\"colorbar\":{\"outlinewidth\":0,\"ticks\":\"\"},\"colorscale\":[[0.0,\"#0d0887\"],[0.1111111111111111,\"#46039f\"],[0.2222222222222222,\"#7201a8\"],[0.3333333333333333,\"#9c179e\"],[0.4444444444444444,\"#bd3786\"],[0.5555555555555556,\"#d8576b\"],[0.6666666666666666,\"#ed7953\"],[0.7777777777777778,\"#fb9f3a\"],[0.8888888888888888,\"#fdca26\"],[1.0,\"#f0f921\"]],\"type\":\"surface\"}],\"table\":[{\"cells\":{\"fill\":{\"color\":\"#EBF0F8\"},\"line\":{\"color\":\"white\"}},\"header\":{\"fill\":{\"color\":\"#C8D4E3\"},\"line\":{\"color\":\"white\"}},\"type\":\"table\"}]},\"layout\":{\"annotationdefaults\":{\"arrowcolor\":\"#2a3f5f\",\"arrowhead\":0,\"arrowwidth\":1},\"autotypenumbers\":\"strict\",\"coloraxis\":{\"colorbar\":{\"outlinewidth\":0,\"ticks\":\"\"}},\"colorscale\":{\"diverging\":[[0,\"#8e0152\"],[0.1,\"#c51b7d\"],[0.2,\"#de77ae\"],[0.3,\"#f1b6da\"],[0.4,\"#fde0ef\"],[0.5,\"#f7f7f7\"],[0.6,\"#e6f5d0\"],[0.7,\"#b8e186\"],[0.8,\"#7fbc41\"],[0.9,\"#4d9221\"],[1,\"#276419\"]],\"sequential\":[[0.0,\"#0d0887\"],[0.1111111111111111,\"#46039f\"],[0.2222222222222222,\"#7201a8\"],[0.3333333333333333,\"#9c179e\"],[0.4444444444444444,\"#bd3786\"],[0.5555555555555556,\"#d8576b\"],[0.6666666666666666,\"#ed7953\"],[0.7777777777777778,\"#fb9f3a\"],[0.8888888888888888,\"#fdca26\"],[1.0,\"#f0f921\"]],\"sequentialminus\":[[0.0,\"#0d0887\"],[0.1111111111111111,\"#46039f\"],[0.2222222222222222,\"#7201a8\"],[0.3333333333333333,\"#9c179e\"],[0.4444444444444444,\"#bd3786\"],[0.5555555555555556,\"#d8576b\"],[0.6666666666666666,\"#ed7953\"],[0.7777777777777778,\"#fb9f3a\"],[0.8888888888888888,\"#fdca26\"],[1.0,\"#f0f921\"]]},\"colorway\":[\"#636efa\",\"#EF553B\",\"#00cc96\",\"#ab63fa\",\"#FFA15A\",\"#19d3f3\",\"#FF6692\",\"#B6E880\",\"#FF97FF\",\"#FECB52\"],\"font\":{\"color\":\"#2a3f5f\"},\"geo\":{\"bgcolor\":\"white\",\"lakecolor\":\"white\",\"landcolor\":\"#E5ECF6\",\"showlakes\":true,\"showland\":true,\"subunitcolor\":\"white\"},\"hoverlabel\":{\"align\":\"left\"},\"hovermode\":\"closest\",\"mapbox\":{\"style\":\"light\"},\"paper_bgcolor\":\"white\",\"plot_bgcolor\":\"#E5ECF6\",\"polar\":{\"angularaxis\":{\"gridcolor\":\"white\",\"linecolor\":\"white\",\"ticks\":\"\"},\"bgcolor\":\"#E5ECF6\",\"radialaxis\":{\"gridcolor\":\"white\",\"linecolor\":\"white\",\"ticks\":\"\"}},\"scene\":{\"xaxis\":{\"backgroundcolor\":\"#E5ECF6\",\"gridcolor\":\"white\",\"gridwidth\":2,\"linecolor\":\"white\",\"showbackground\":true,\"ticks\":\"\",\"zerolinecolor\":\"white\"},\"yaxis\":{\"backgroundcolor\":\"#E5ECF6\",\"gridcolor\":\"white\",\"gridwidth\":2,\"linecolor\":\"white\",\"showbackground\":true,\"ticks\":\"\",\"zerolinecolor\":\"white\"},\"zaxis\":{\"backgroundcolor\":\"#E5ECF6\",\"gridcolor\":\"white\",\"gridwidth\":2,\"linecolor\":\"white\",\"showbackground\":true,\"ticks\":\"\",\"zerolinecolor\":\"white\"}},\"shapedefaults\":{\"line\":{\"color\":\"#2a3f5f\"}},\"ternary\":{\"aaxis\":{\"gridcolor\":\"white\",\"linecolor\":\"white\",\"ticks\":\"\"},\"baxis\":{\"gridcolor\":\"white\",\"linecolor\":\"white\",\"ticks\":\"\"},\"bgcolor\":\"#E5ECF6\",\"caxis\":{\"gridcolor\":\"white\",\"linecolor\":\"white\",\"ticks\":\"\"}},\"title\":{\"x\":0.05},\"xaxis\":{\"automargin\":true,\"gridcolor\":\"white\",\"linecolor\":\"white\",\"ticks\":\"\",\"title\":{\"standoff\":15},\"zerolinecolor\":\"white\",\"zerolinewidth\":2},\"yaxis\":{\"automargin\":true,\"gridcolor\":\"white\",\"linecolor\":\"white\",\"ticks\":\"\",\"title\":{\"standoff\":15},\"zerolinecolor\":\"white\",\"zerolinewidth\":2}}},\"barmode\":\"overlay\"},                        {\"responsive\": true}                    ).then(function(){\n",
       "                            \n",
       "var gd = document.getElementById('9cb11b3f-c997-4efa-8cc2-2f23f79b0845');\n",
       "var x = new MutationObserver(function (mutations, observer) {{\n",
       "        var display = window.getComputedStyle(gd).display;\n",
       "        if (!display || display === 'none') {{\n",
       "            console.log([gd, 'removed!']);\n",
       "            Plotly.purge(gd);\n",
       "            observer.disconnect();\n",
       "        }}\n",
       "}});\n",
       "\n",
       "// Listen for the removal of the full notebook cells\n",
       "var notebookContainer = gd.closest('#notebook-container');\n",
       "if (notebookContainer) {{\n",
       "    x.observe(notebookContainer, {childList: true});\n",
       "}}\n",
       "\n",
       "// Listen for the clearing of the current output cell\n",
       "var outputEl = gd.closest('.output');\n",
       "if (outputEl) {{\n",
       "    x.observe(outputEl, {childList: true});\n",
       "}}\n",
       "\n",
       "                        })                };                });            </script>        </div>"
      ]
     },
     "metadata": {},
     "output_type": "display_data"
    }
   ],
   "source": [
    "fig = go.Figure()\n",
    "fig.add_trace(go.Histogram(x=epping))\n",
    "fig.add_trace(go.Histogram(x=northrocks))\n",
    "\n",
    "# Overlay both histograms\n",
    "fig.update_layout(barmode='overlay')\n",
    "# Reduce opacity to see both histograms\n",
    "fig.update_traces(opacity=0.75)\n",
    "fig.show()"
   ]
  },
  {
   "cell_type": "code",
   "execution_count": null,
   "id": "2109601d",
   "metadata": {},
   "outputs": [],
   "source": []
  },
  {
   "cell_type": "code",
   "execution_count": 46,
   "id": "ac831086",
   "metadata": {},
   "outputs": [
    {
     "data": {
      "application/vnd.plotly.v1+json": {
       "config": {
        "plotlyServerURL": "https://plot.ly"
       },
       "data": [
        {
         "alignmentgroup": "True",
         "bingroup": "x",
         "hovertemplate": "x=%{x}<br>count=%{y}<extra></extra>",
         "legendgroup": "",
         "marker": {
          "color": "#636efa",
          "pattern": {
           "shape": ""
          }
         },
         "name": "",
         "offsetgroup": "",
         "orientation": "v",
         "showlegend": false,
         "type": "histogram",
         "x": [
          4,
          3,
          4,
          5,
          6,
          3,
          4,
          3,
          4,
          4,
          3,
          6,
          4,
          2,
          3,
          6,
          3,
          3,
          4,
          3,
          3,
          4,
          null,
          5,
          4,
          2,
          4,
          3,
          3,
          2,
          3,
          8,
          3,
          3,
          4,
          3,
          4,
          3,
          4,
          3,
          4,
          4,
          3,
          3,
          4,
          4,
          3,
          4,
          3,
          3,
          3,
          3,
          1,
          4,
          3,
          5,
          3,
          3,
          4,
          3,
          5,
          3,
          5,
          3,
          3,
          3,
          3,
          3,
          3,
          3,
          3,
          4,
          4,
          3,
          2,
          4,
          3,
          5,
          3,
          5,
          3,
          3,
          3,
          4,
          4,
          6,
          4,
          2,
          3,
          4,
          3,
          3,
          3,
          2,
          4,
          4,
          6,
          3,
          4,
          6,
          3,
          4,
          3,
          3,
          3,
          4,
          4,
          3,
          4,
          3,
          3,
          5,
          2,
          3,
          4,
          3,
          4,
          3,
          5,
          4,
          3,
          3,
          6,
          4,
          4,
          5,
          5,
          3,
          4,
          4,
          3,
          5,
          3,
          3,
          4,
          3,
          3,
          4,
          3,
          null,
          3,
          3,
          3,
          3,
          4,
          3,
          3,
          2,
          4,
          4,
          3,
          4,
          5,
          4,
          3,
          4,
          3,
          5,
          3,
          3,
          4,
          3,
          3,
          3,
          3,
          4,
          5,
          3,
          4,
          3,
          3,
          3,
          3,
          3,
          3,
          3,
          4,
          3,
          3,
          4,
          3,
          3,
          3,
          4,
          3,
          3,
          3,
          5,
          2,
          4,
          3,
          3,
          4,
          4,
          4,
          3,
          4,
          3,
          5,
          4,
          3,
          4,
          3,
          3,
          4,
          3,
          4,
          3,
          3,
          3,
          3,
          3,
          3,
          4,
          3,
          3,
          4,
          3,
          3,
          3,
          3,
          4,
          3,
          3,
          3,
          5,
          3,
          4,
          4,
          5,
          4,
          4,
          3,
          3,
          3,
          5,
          4,
          3,
          3,
          3,
          4,
          4,
          3,
          2,
          3,
          5,
          3,
          2,
          3,
          3,
          4,
          3,
          4,
          3,
          4,
          3,
          3,
          3,
          4,
          4,
          2,
          3,
          3,
          3,
          3,
          3,
          3,
          4,
          3,
          3,
          3,
          4,
          2,
          3,
          4,
          4,
          3,
          3,
          3,
          3,
          3,
          4,
          5,
          4,
          3,
          4,
          4,
          3,
          4,
          3,
          5,
          5,
          4,
          4,
          3,
          4,
          3,
          3,
          4,
          3,
          4,
          3,
          3,
          6,
          3,
          4,
          4,
          2,
          5,
          3,
          4,
          3,
          5,
          3,
          4,
          4,
          4,
          5,
          4,
          5,
          4,
          3,
          3,
          3,
          4,
          3,
          4,
          3,
          4,
          5,
          4,
          4,
          3,
          4,
          3,
          3,
          4,
          4,
          3,
          3,
          4,
          4,
          4,
          3,
          4,
          4,
          4,
          3,
          4,
          3,
          4,
          3,
          3,
          4,
          3,
          4,
          3,
          3,
          4,
          4,
          4,
          2,
          2,
          3,
          2,
          3,
          5,
          3,
          4,
          3,
          4,
          4,
          4,
          2,
          5,
          3,
          3,
          5,
          3,
          4,
          7,
          3,
          4,
          3,
          5,
          2,
          4,
          3,
          4,
          4,
          3,
          4,
          3,
          4,
          5,
          4,
          3,
          4,
          3,
          4,
          3,
          4,
          4,
          3,
          4,
          4,
          3,
          2,
          3,
          4,
          4,
          3,
          4,
          4,
          3,
          4,
          5,
          3,
          5,
          4,
          4,
          3,
          5,
          3,
          3,
          5,
          3,
          2,
          4,
          4,
          3,
          4,
          3,
          3,
          2,
          3,
          4,
          3,
          3,
          3,
          3,
          3,
          3,
          3,
          4,
          4,
          5,
          4,
          3,
          2,
          2,
          4,
          3,
          4,
          4,
          3,
          4,
          4,
          4,
          4,
          5,
          4,
          4,
          7,
          4,
          3,
          5,
          3,
          4,
          3,
          8,
          3,
          5,
          4,
          4,
          4,
          4,
          4,
          3,
          3,
          3,
          5,
          4,
          3,
          4,
          4,
          4,
          4,
          3,
          4,
          3,
          3,
          3,
          3,
          4,
          4,
          5,
          3,
          4,
          5,
          3,
          4,
          3,
          4,
          3,
          3,
          4,
          3,
          4,
          3,
          3,
          4,
          4,
          4,
          3,
          7,
          4,
          3,
          3,
          3,
          4,
          2,
          1,
          4,
          3,
          3,
          2,
          3,
          3,
          3,
          3,
          4,
          3,
          3,
          3,
          3,
          4,
          3,
          3,
          4,
          5,
          3,
          5,
          3,
          4,
          4,
          4,
          5,
          4,
          3,
          4,
          6,
          4,
          4,
          3,
          3,
          3,
          4,
          4,
          5,
          4,
          2,
          5,
          4,
          3,
          4,
          5,
          3,
          5,
          3,
          3,
          2,
          4,
          5,
          3,
          3,
          3,
          3,
          5,
          3,
          1,
          3,
          4,
          3,
          3,
          3,
          3,
          3,
          4,
          3,
          4,
          5,
          3,
          3,
          4,
          5,
          4,
          5,
          5,
          3,
          7,
          3,
          3,
          5,
          3,
          3,
          3,
          3,
          3,
          3,
          3,
          3,
          2,
          6,
          3,
          2,
          4,
          3,
          3,
          4,
          2,
          2,
          3,
          3,
          3,
          3,
          4,
          3,
          4,
          3,
          4,
          3,
          3,
          4,
          4,
          4,
          2,
          5,
          2,
          3,
          4,
          5,
          4,
          3,
          4,
          3,
          3,
          4,
          3,
          3,
          4,
          3,
          4,
          5,
          3,
          3,
          3,
          3
         ],
         "xaxis": "x",
         "yaxis": "y"
        }
       ],
       "layout": {
        "barmode": "relative",
        "legend": {
         "tracegroupgap": 0
        },
        "margin": {
         "t": 60
        },
        "template": {
         "data": {
          "bar": [
           {
            "error_x": {
             "color": "#2a3f5f"
            },
            "error_y": {
             "color": "#2a3f5f"
            },
            "marker": {
             "line": {
              "color": "#E5ECF6",
              "width": 0.5
             },
             "pattern": {
              "fillmode": "overlay",
              "size": 10,
              "solidity": 0.2
             }
            },
            "type": "bar"
           }
          ],
          "barpolar": [
           {
            "marker": {
             "line": {
              "color": "#E5ECF6",
              "width": 0.5
             },
             "pattern": {
              "fillmode": "overlay",
              "size": 10,
              "solidity": 0.2
             }
            },
            "type": "barpolar"
           }
          ],
          "carpet": [
           {
            "aaxis": {
             "endlinecolor": "#2a3f5f",
             "gridcolor": "white",
             "linecolor": "white",
             "minorgridcolor": "white",
             "startlinecolor": "#2a3f5f"
            },
            "baxis": {
             "endlinecolor": "#2a3f5f",
             "gridcolor": "white",
             "linecolor": "white",
             "minorgridcolor": "white",
             "startlinecolor": "#2a3f5f"
            },
            "type": "carpet"
           }
          ],
          "choropleth": [
           {
            "colorbar": {
             "outlinewidth": 0,
             "ticks": ""
            },
            "type": "choropleth"
           }
          ],
          "contour": [
           {
            "colorbar": {
             "outlinewidth": 0,
             "ticks": ""
            },
            "colorscale": [
             [
              0,
              "#0d0887"
             ],
             [
              0.1111111111111111,
              "#46039f"
             ],
             [
              0.2222222222222222,
              "#7201a8"
             ],
             [
              0.3333333333333333,
              "#9c179e"
             ],
             [
              0.4444444444444444,
              "#bd3786"
             ],
             [
              0.5555555555555556,
              "#d8576b"
             ],
             [
              0.6666666666666666,
              "#ed7953"
             ],
             [
              0.7777777777777778,
              "#fb9f3a"
             ],
             [
              0.8888888888888888,
              "#fdca26"
             ],
             [
              1,
              "#f0f921"
             ]
            ],
            "type": "contour"
           }
          ],
          "contourcarpet": [
           {
            "colorbar": {
             "outlinewidth": 0,
             "ticks": ""
            },
            "type": "contourcarpet"
           }
          ],
          "heatmap": [
           {
            "colorbar": {
             "outlinewidth": 0,
             "ticks": ""
            },
            "colorscale": [
             [
              0,
              "#0d0887"
             ],
             [
              0.1111111111111111,
              "#46039f"
             ],
             [
              0.2222222222222222,
              "#7201a8"
             ],
             [
              0.3333333333333333,
              "#9c179e"
             ],
             [
              0.4444444444444444,
              "#bd3786"
             ],
             [
              0.5555555555555556,
              "#d8576b"
             ],
             [
              0.6666666666666666,
              "#ed7953"
             ],
             [
              0.7777777777777778,
              "#fb9f3a"
             ],
             [
              0.8888888888888888,
              "#fdca26"
             ],
             [
              1,
              "#f0f921"
             ]
            ],
            "type": "heatmap"
           }
          ],
          "heatmapgl": [
           {
            "colorbar": {
             "outlinewidth": 0,
             "ticks": ""
            },
            "colorscale": [
             [
              0,
              "#0d0887"
             ],
             [
              0.1111111111111111,
              "#46039f"
             ],
             [
              0.2222222222222222,
              "#7201a8"
             ],
             [
              0.3333333333333333,
              "#9c179e"
             ],
             [
              0.4444444444444444,
              "#bd3786"
             ],
             [
              0.5555555555555556,
              "#d8576b"
             ],
             [
              0.6666666666666666,
              "#ed7953"
             ],
             [
              0.7777777777777778,
              "#fb9f3a"
             ],
             [
              0.8888888888888888,
              "#fdca26"
             ],
             [
              1,
              "#f0f921"
             ]
            ],
            "type": "heatmapgl"
           }
          ],
          "histogram": [
           {
            "marker": {
             "pattern": {
              "fillmode": "overlay",
              "size": 10,
              "solidity": 0.2
             }
            },
            "type": "histogram"
           }
          ],
          "histogram2d": [
           {
            "colorbar": {
             "outlinewidth": 0,
             "ticks": ""
            },
            "colorscale": [
             [
              0,
              "#0d0887"
             ],
             [
              0.1111111111111111,
              "#46039f"
             ],
             [
              0.2222222222222222,
              "#7201a8"
             ],
             [
              0.3333333333333333,
              "#9c179e"
             ],
             [
              0.4444444444444444,
              "#bd3786"
             ],
             [
              0.5555555555555556,
              "#d8576b"
             ],
             [
              0.6666666666666666,
              "#ed7953"
             ],
             [
              0.7777777777777778,
              "#fb9f3a"
             ],
             [
              0.8888888888888888,
              "#fdca26"
             ],
             [
              1,
              "#f0f921"
             ]
            ],
            "type": "histogram2d"
           }
          ],
          "histogram2dcontour": [
           {
            "colorbar": {
             "outlinewidth": 0,
             "ticks": ""
            },
            "colorscale": [
             [
              0,
              "#0d0887"
             ],
             [
              0.1111111111111111,
              "#46039f"
             ],
             [
              0.2222222222222222,
              "#7201a8"
             ],
             [
              0.3333333333333333,
              "#9c179e"
             ],
             [
              0.4444444444444444,
              "#bd3786"
             ],
             [
              0.5555555555555556,
              "#d8576b"
             ],
             [
              0.6666666666666666,
              "#ed7953"
             ],
             [
              0.7777777777777778,
              "#fb9f3a"
             ],
             [
              0.8888888888888888,
              "#fdca26"
             ],
             [
              1,
              "#f0f921"
             ]
            ],
            "type": "histogram2dcontour"
           }
          ],
          "mesh3d": [
           {
            "colorbar": {
             "outlinewidth": 0,
             "ticks": ""
            },
            "type": "mesh3d"
           }
          ],
          "parcoords": [
           {
            "line": {
             "colorbar": {
              "outlinewidth": 0,
              "ticks": ""
             }
            },
            "type": "parcoords"
           }
          ],
          "pie": [
           {
            "automargin": true,
            "type": "pie"
           }
          ],
          "scatter": [
           {
            "marker": {
             "colorbar": {
              "outlinewidth": 0,
              "ticks": ""
             }
            },
            "type": "scatter"
           }
          ],
          "scatter3d": [
           {
            "line": {
             "colorbar": {
              "outlinewidth": 0,
              "ticks": ""
             }
            },
            "marker": {
             "colorbar": {
              "outlinewidth": 0,
              "ticks": ""
             }
            },
            "type": "scatter3d"
           }
          ],
          "scattercarpet": [
           {
            "marker": {
             "colorbar": {
              "outlinewidth": 0,
              "ticks": ""
             }
            },
            "type": "scattercarpet"
           }
          ],
          "scattergeo": [
           {
            "marker": {
             "colorbar": {
              "outlinewidth": 0,
              "ticks": ""
             }
            },
            "type": "scattergeo"
           }
          ],
          "scattergl": [
           {
            "marker": {
             "colorbar": {
              "outlinewidth": 0,
              "ticks": ""
             }
            },
            "type": "scattergl"
           }
          ],
          "scattermapbox": [
           {
            "marker": {
             "colorbar": {
              "outlinewidth": 0,
              "ticks": ""
             }
            },
            "type": "scattermapbox"
           }
          ],
          "scatterpolar": [
           {
            "marker": {
             "colorbar": {
              "outlinewidth": 0,
              "ticks": ""
             }
            },
            "type": "scatterpolar"
           }
          ],
          "scatterpolargl": [
           {
            "marker": {
             "colorbar": {
              "outlinewidth": 0,
              "ticks": ""
             }
            },
            "type": "scatterpolargl"
           }
          ],
          "scatterternary": [
           {
            "marker": {
             "colorbar": {
              "outlinewidth": 0,
              "ticks": ""
             }
            },
            "type": "scatterternary"
           }
          ],
          "surface": [
           {
            "colorbar": {
             "outlinewidth": 0,
             "ticks": ""
            },
            "colorscale": [
             [
              0,
              "#0d0887"
             ],
             [
              0.1111111111111111,
              "#46039f"
             ],
             [
              0.2222222222222222,
              "#7201a8"
             ],
             [
              0.3333333333333333,
              "#9c179e"
             ],
             [
              0.4444444444444444,
              "#bd3786"
             ],
             [
              0.5555555555555556,
              "#d8576b"
             ],
             [
              0.6666666666666666,
              "#ed7953"
             ],
             [
              0.7777777777777778,
              "#fb9f3a"
             ],
             [
              0.8888888888888888,
              "#fdca26"
             ],
             [
              1,
              "#f0f921"
             ]
            ],
            "type": "surface"
           }
          ],
          "table": [
           {
            "cells": {
             "fill": {
              "color": "#EBF0F8"
             },
             "line": {
              "color": "white"
             }
            },
            "header": {
             "fill": {
              "color": "#C8D4E3"
             },
             "line": {
              "color": "white"
             }
            },
            "type": "table"
           }
          ]
         },
         "layout": {
          "annotationdefaults": {
           "arrowcolor": "#2a3f5f",
           "arrowhead": 0,
           "arrowwidth": 1
          },
          "autotypenumbers": "strict",
          "coloraxis": {
           "colorbar": {
            "outlinewidth": 0,
            "ticks": ""
           }
          },
          "colorscale": {
           "diverging": [
            [
             0,
             "#8e0152"
            ],
            [
             0.1,
             "#c51b7d"
            ],
            [
             0.2,
             "#de77ae"
            ],
            [
             0.3,
             "#f1b6da"
            ],
            [
             0.4,
             "#fde0ef"
            ],
            [
             0.5,
             "#f7f7f7"
            ],
            [
             0.6,
             "#e6f5d0"
            ],
            [
             0.7,
             "#b8e186"
            ],
            [
             0.8,
             "#7fbc41"
            ],
            [
             0.9,
             "#4d9221"
            ],
            [
             1,
             "#276419"
            ]
           ],
           "sequential": [
            [
             0,
             "#0d0887"
            ],
            [
             0.1111111111111111,
             "#46039f"
            ],
            [
             0.2222222222222222,
             "#7201a8"
            ],
            [
             0.3333333333333333,
             "#9c179e"
            ],
            [
             0.4444444444444444,
             "#bd3786"
            ],
            [
             0.5555555555555556,
             "#d8576b"
            ],
            [
             0.6666666666666666,
             "#ed7953"
            ],
            [
             0.7777777777777778,
             "#fb9f3a"
            ],
            [
             0.8888888888888888,
             "#fdca26"
            ],
            [
             1,
             "#f0f921"
            ]
           ],
           "sequentialminus": [
            [
             0,
             "#0d0887"
            ],
            [
             0.1111111111111111,
             "#46039f"
            ],
            [
             0.2222222222222222,
             "#7201a8"
            ],
            [
             0.3333333333333333,
             "#9c179e"
            ],
            [
             0.4444444444444444,
             "#bd3786"
            ],
            [
             0.5555555555555556,
             "#d8576b"
            ],
            [
             0.6666666666666666,
             "#ed7953"
            ],
            [
             0.7777777777777778,
             "#fb9f3a"
            ],
            [
             0.8888888888888888,
             "#fdca26"
            ],
            [
             1,
             "#f0f921"
            ]
           ]
          },
          "colorway": [
           "#636efa",
           "#EF553B",
           "#00cc96",
           "#ab63fa",
           "#FFA15A",
           "#19d3f3",
           "#FF6692",
           "#B6E880",
           "#FF97FF",
           "#FECB52"
          ],
          "font": {
           "color": "#2a3f5f"
          },
          "geo": {
           "bgcolor": "white",
           "lakecolor": "white",
           "landcolor": "#E5ECF6",
           "showlakes": true,
           "showland": true,
           "subunitcolor": "white"
          },
          "hoverlabel": {
           "align": "left"
          },
          "hovermode": "closest",
          "mapbox": {
           "style": "light"
          },
          "paper_bgcolor": "white",
          "plot_bgcolor": "#E5ECF6",
          "polar": {
           "angularaxis": {
            "gridcolor": "white",
            "linecolor": "white",
            "ticks": ""
           },
           "bgcolor": "#E5ECF6",
           "radialaxis": {
            "gridcolor": "white",
            "linecolor": "white",
            "ticks": ""
           }
          },
          "scene": {
           "xaxis": {
            "backgroundcolor": "#E5ECF6",
            "gridcolor": "white",
            "gridwidth": 2,
            "linecolor": "white",
            "showbackground": true,
            "ticks": "",
            "zerolinecolor": "white"
           },
           "yaxis": {
            "backgroundcolor": "#E5ECF6",
            "gridcolor": "white",
            "gridwidth": 2,
            "linecolor": "white",
            "showbackground": true,
            "ticks": "",
            "zerolinecolor": "white"
           },
           "zaxis": {
            "backgroundcolor": "#E5ECF6",
            "gridcolor": "white",
            "gridwidth": 2,
            "linecolor": "white",
            "showbackground": true,
            "ticks": "",
            "zerolinecolor": "white"
           }
          },
          "shapedefaults": {
           "line": {
            "color": "#2a3f5f"
           }
          },
          "ternary": {
           "aaxis": {
            "gridcolor": "white",
            "linecolor": "white",
            "ticks": ""
           },
           "baxis": {
            "gridcolor": "white",
            "linecolor": "white",
            "ticks": ""
           },
           "bgcolor": "#E5ECF6",
           "caxis": {
            "gridcolor": "white",
            "linecolor": "white",
            "ticks": ""
           }
          },
          "title": {
           "x": 0.05
          },
          "xaxis": {
           "automargin": true,
           "gridcolor": "white",
           "linecolor": "white",
           "ticks": "",
           "title": {
            "standoff": 15
           },
           "zerolinecolor": "white",
           "zerolinewidth": 2
          },
          "yaxis": {
           "automargin": true,
           "gridcolor": "white",
           "linecolor": "white",
           "ticks": "",
           "title": {
            "standoff": 15
           },
           "zerolinecolor": "white",
           "zerolinewidth": 2
          }
         }
        },
        "xaxis": {
         "anchor": "y",
         "domain": [
          0,
          1
         ],
         "title": {
          "text": "x"
         }
        },
        "yaxis": {
         "anchor": "x",
         "domain": [
          0,
          1
         ],
         "title": {
          "text": "count"
         }
        }
       }
      },
      "text/html": [
       "<div>                            <div id=\"17085fe3-fae6-48cf-9d21-97ff3dcff15c\" class=\"plotly-graph-div\" style=\"height:525px; width:100%;\"></div>            <script type=\"text/javascript\">                require([\"plotly\"], function(Plotly) {                    window.PLOTLYENV=window.PLOTLYENV || {};                                    if (document.getElementById(\"17085fe3-fae6-48cf-9d21-97ff3dcff15c\")) {                    Plotly.newPlot(                        \"17085fe3-fae6-48cf-9d21-97ff3dcff15c\",                        [{\"alignmentgroup\":\"True\",\"bingroup\":\"x\",\"hovertemplate\":\"x=%{x}<br>count=%{y}<extra></extra>\",\"legendgroup\":\"\",\"marker\":{\"color\":\"#636efa\",\"pattern\":{\"shape\":\"\"}},\"name\":\"\",\"offsetgroup\":\"\",\"orientation\":\"v\",\"showlegend\":false,\"x\":[4.0,3.0,4.0,5.0,6.0,3.0,4.0,3.0,4.0,4.0,3.0,6.0,4.0,2.0,3.0,6.0,3.0,3.0,4.0,3.0,3.0,4.0,null,5.0,4.0,2.0,4.0,3.0,3.0,2.0,3.0,8.0,3.0,3.0,4.0,3.0,4.0,3.0,4.0,3.0,4.0,4.0,3.0,3.0,4.0,4.0,3.0,4.0,3.0,3.0,3.0,3.0,1.0,4.0,3.0,5.0,3.0,3.0,4.0,3.0,5.0,3.0,5.0,3.0,3.0,3.0,3.0,3.0,3.0,3.0,3.0,4.0,4.0,3.0,2.0,4.0,3.0,5.0,3.0,5.0,3.0,3.0,3.0,4.0,4.0,6.0,4.0,2.0,3.0,4.0,3.0,3.0,3.0,2.0,4.0,4.0,6.0,3.0,4.0,6.0,3.0,4.0,3.0,3.0,3.0,4.0,4.0,3.0,4.0,3.0,3.0,5.0,2.0,3.0,4.0,3.0,4.0,3.0,5.0,4.0,3.0,3.0,6.0,4.0,4.0,5.0,5.0,3.0,4.0,4.0,3.0,5.0,3.0,3.0,4.0,3.0,3.0,4.0,3.0,null,3.0,3.0,3.0,3.0,4.0,3.0,3.0,2.0,4.0,4.0,3.0,4.0,5.0,4.0,3.0,4.0,3.0,5.0,3.0,3.0,4.0,3.0,3.0,3.0,3.0,4.0,5.0,3.0,4.0,3.0,3.0,3.0,3.0,3.0,3.0,3.0,4.0,3.0,3.0,4.0,3.0,3.0,3.0,4.0,3.0,3.0,3.0,5.0,2.0,4.0,3.0,3.0,4.0,4.0,4.0,3.0,4.0,3.0,5.0,4.0,3.0,4.0,3.0,3.0,4.0,3.0,4.0,3.0,3.0,3.0,3.0,3.0,3.0,4.0,3.0,3.0,4.0,3.0,3.0,3.0,3.0,4.0,3.0,3.0,3.0,5.0,3.0,4.0,4.0,5.0,4.0,4.0,3.0,3.0,3.0,5.0,4.0,3.0,3.0,3.0,4.0,4.0,3.0,2.0,3.0,5.0,3.0,2.0,3.0,3.0,4.0,3.0,4.0,3.0,4.0,3.0,3.0,3.0,4.0,4.0,2.0,3.0,3.0,3.0,3.0,3.0,3.0,4.0,3.0,3.0,3.0,4.0,2.0,3.0,4.0,4.0,3.0,3.0,3.0,3.0,3.0,4.0,5.0,4.0,3.0,4.0,4.0,3.0,4.0,3.0,5.0,5.0,4.0,4.0,3.0,4.0,3.0,3.0,4.0,3.0,4.0,3.0,3.0,6.0,3.0,4.0,4.0,2.0,5.0,3.0,4.0,3.0,5.0,3.0,4.0,4.0,4.0,5.0,4.0,5.0,4.0,3.0,3.0,3.0,4.0,3.0,4.0,3.0,4.0,5.0,4.0,4.0,3.0,4.0,3.0,3.0,4.0,4.0,3.0,3.0,4.0,4.0,4.0,3.0,4.0,4.0,4.0,3.0,4.0,3.0,4.0,3.0,3.0,4.0,3.0,4.0,3.0,3.0,4.0,4.0,4.0,2.0,2.0,3.0,2.0,3.0,5.0,3.0,4.0,3.0,4.0,4.0,4.0,2.0,5.0,3.0,3.0,5.0,3.0,4.0,7.0,3.0,4.0,3.0,5.0,2.0,4.0,3.0,4.0,4.0,3.0,4.0,3.0,4.0,5.0,4.0,3.0,4.0,3.0,4.0,3.0,4.0,4.0,3.0,4.0,4.0,3.0,2.0,3.0,4.0,4.0,3.0,4.0,4.0,3.0,4.0,5.0,3.0,5.0,4.0,4.0,3.0,5.0,3.0,3.0,5.0,3.0,2.0,4.0,4.0,3.0,4.0,3.0,3.0,2.0,3.0,4.0,3.0,3.0,3.0,3.0,3.0,3.0,3.0,4.0,4.0,5.0,4.0,3.0,2.0,2.0,4.0,3.0,4.0,4.0,3.0,4.0,4.0,4.0,4.0,5.0,4.0,4.0,7.0,4.0,3.0,5.0,3.0,4.0,3.0,8.0,3.0,5.0,4.0,4.0,4.0,4.0,4.0,3.0,3.0,3.0,5.0,4.0,3.0,4.0,4.0,4.0,4.0,3.0,4.0,3.0,3.0,3.0,3.0,4.0,4.0,5.0,3.0,4.0,5.0,3.0,4.0,3.0,4.0,3.0,3.0,4.0,3.0,4.0,3.0,3.0,4.0,4.0,4.0,3.0,7.0,4.0,3.0,3.0,3.0,4.0,2.0,1.0,4.0,3.0,3.0,2.0,3.0,3.0,3.0,3.0,4.0,3.0,3.0,3.0,3.0,4.0,3.0,3.0,4.0,5.0,3.0,5.0,3.0,4.0,4.0,4.0,5.0,4.0,3.0,4.0,6.0,4.0,4.0,3.0,3.0,3.0,4.0,4.0,5.0,4.0,2.0,5.0,4.0,3.0,4.0,5.0,3.0,5.0,3.0,3.0,2.0,4.0,5.0,3.0,3.0,3.0,3.0,5.0,3.0,1.0,3.0,4.0,3.0,3.0,3.0,3.0,3.0,4.0,3.0,4.0,5.0,3.0,3.0,4.0,5.0,4.0,5.0,5.0,3.0,7.0,3.0,3.0,5.0,3.0,3.0,3.0,3.0,3.0,3.0,3.0,3.0,2.0,6.0,3.0,2.0,4.0,3.0,3.0,4.0,2.0,2.0,3.0,3.0,3.0,3.0,4.0,3.0,4.0,3.0,4.0,3.0,3.0,4.0,4.0,4.0,2.0,5.0,2.0,3.0,4.0,5.0,4.0,3.0,4.0,3.0,3.0,4.0,3.0,3.0,4.0,3.0,4.0,5.0,3.0,3.0,3.0,3.0],\"xaxis\":\"x\",\"yaxis\":\"y\",\"type\":\"histogram\"}],                        {\"template\":{\"data\":{\"bar\":[{\"error_x\":{\"color\":\"#2a3f5f\"},\"error_y\":{\"color\":\"#2a3f5f\"},\"marker\":{\"line\":{\"color\":\"#E5ECF6\",\"width\":0.5},\"pattern\":{\"fillmode\":\"overlay\",\"size\":10,\"solidity\":0.2}},\"type\":\"bar\"}],\"barpolar\":[{\"marker\":{\"line\":{\"color\":\"#E5ECF6\",\"width\":0.5},\"pattern\":{\"fillmode\":\"overlay\",\"size\":10,\"solidity\":0.2}},\"type\":\"barpolar\"}],\"carpet\":[{\"aaxis\":{\"endlinecolor\":\"#2a3f5f\",\"gridcolor\":\"white\",\"linecolor\":\"white\",\"minorgridcolor\":\"white\",\"startlinecolor\":\"#2a3f5f\"},\"baxis\":{\"endlinecolor\":\"#2a3f5f\",\"gridcolor\":\"white\",\"linecolor\":\"white\",\"minorgridcolor\":\"white\",\"startlinecolor\":\"#2a3f5f\"},\"type\":\"carpet\"}],\"choropleth\":[{\"colorbar\":{\"outlinewidth\":0,\"ticks\":\"\"},\"type\":\"choropleth\"}],\"contour\":[{\"colorbar\":{\"outlinewidth\":0,\"ticks\":\"\"},\"colorscale\":[[0.0,\"#0d0887\"],[0.1111111111111111,\"#46039f\"],[0.2222222222222222,\"#7201a8\"],[0.3333333333333333,\"#9c179e\"],[0.4444444444444444,\"#bd3786\"],[0.5555555555555556,\"#d8576b\"],[0.6666666666666666,\"#ed7953\"],[0.7777777777777778,\"#fb9f3a\"],[0.8888888888888888,\"#fdca26\"],[1.0,\"#f0f921\"]],\"type\":\"contour\"}],\"contourcarpet\":[{\"colorbar\":{\"outlinewidth\":0,\"ticks\":\"\"},\"type\":\"contourcarpet\"}],\"heatmap\":[{\"colorbar\":{\"outlinewidth\":0,\"ticks\":\"\"},\"colorscale\":[[0.0,\"#0d0887\"],[0.1111111111111111,\"#46039f\"],[0.2222222222222222,\"#7201a8\"],[0.3333333333333333,\"#9c179e\"],[0.4444444444444444,\"#bd3786\"],[0.5555555555555556,\"#d8576b\"],[0.6666666666666666,\"#ed7953\"],[0.7777777777777778,\"#fb9f3a\"],[0.8888888888888888,\"#fdca26\"],[1.0,\"#f0f921\"]],\"type\":\"heatmap\"}],\"heatmapgl\":[{\"colorbar\":{\"outlinewidth\":0,\"ticks\":\"\"},\"colorscale\":[[0.0,\"#0d0887\"],[0.1111111111111111,\"#46039f\"],[0.2222222222222222,\"#7201a8\"],[0.3333333333333333,\"#9c179e\"],[0.4444444444444444,\"#bd3786\"],[0.5555555555555556,\"#d8576b\"],[0.6666666666666666,\"#ed7953\"],[0.7777777777777778,\"#fb9f3a\"],[0.8888888888888888,\"#fdca26\"],[1.0,\"#f0f921\"]],\"type\":\"heatmapgl\"}],\"histogram\":[{\"marker\":{\"pattern\":{\"fillmode\":\"overlay\",\"size\":10,\"solidity\":0.2}},\"type\":\"histogram\"}],\"histogram2d\":[{\"colorbar\":{\"outlinewidth\":0,\"ticks\":\"\"},\"colorscale\":[[0.0,\"#0d0887\"],[0.1111111111111111,\"#46039f\"],[0.2222222222222222,\"#7201a8\"],[0.3333333333333333,\"#9c179e\"],[0.4444444444444444,\"#bd3786\"],[0.5555555555555556,\"#d8576b\"],[0.6666666666666666,\"#ed7953\"],[0.7777777777777778,\"#fb9f3a\"],[0.8888888888888888,\"#fdca26\"],[1.0,\"#f0f921\"]],\"type\":\"histogram2d\"}],\"histogram2dcontour\":[{\"colorbar\":{\"outlinewidth\":0,\"ticks\":\"\"},\"colorscale\":[[0.0,\"#0d0887\"],[0.1111111111111111,\"#46039f\"],[0.2222222222222222,\"#7201a8\"],[0.3333333333333333,\"#9c179e\"],[0.4444444444444444,\"#bd3786\"],[0.5555555555555556,\"#d8576b\"],[0.6666666666666666,\"#ed7953\"],[0.7777777777777778,\"#fb9f3a\"],[0.8888888888888888,\"#fdca26\"],[1.0,\"#f0f921\"]],\"type\":\"histogram2dcontour\"}],\"mesh3d\":[{\"colorbar\":{\"outlinewidth\":0,\"ticks\":\"\"},\"type\":\"mesh3d\"}],\"parcoords\":[{\"line\":{\"colorbar\":{\"outlinewidth\":0,\"ticks\":\"\"}},\"type\":\"parcoords\"}],\"pie\":[{\"automargin\":true,\"type\":\"pie\"}],\"scatter\":[{\"marker\":{\"colorbar\":{\"outlinewidth\":0,\"ticks\":\"\"}},\"type\":\"scatter\"}],\"scatter3d\":[{\"line\":{\"colorbar\":{\"outlinewidth\":0,\"ticks\":\"\"}},\"marker\":{\"colorbar\":{\"outlinewidth\":0,\"ticks\":\"\"}},\"type\":\"scatter3d\"}],\"scattercarpet\":[{\"marker\":{\"colorbar\":{\"outlinewidth\":0,\"ticks\":\"\"}},\"type\":\"scattercarpet\"}],\"scattergeo\":[{\"marker\":{\"colorbar\":{\"outlinewidth\":0,\"ticks\":\"\"}},\"type\":\"scattergeo\"}],\"scattergl\":[{\"marker\":{\"colorbar\":{\"outlinewidth\":0,\"ticks\":\"\"}},\"type\":\"scattergl\"}],\"scattermapbox\":[{\"marker\":{\"colorbar\":{\"outlinewidth\":0,\"ticks\":\"\"}},\"type\":\"scattermapbox\"}],\"scatterpolar\":[{\"marker\":{\"colorbar\":{\"outlinewidth\":0,\"ticks\":\"\"}},\"type\":\"scatterpolar\"}],\"scatterpolargl\":[{\"marker\":{\"colorbar\":{\"outlinewidth\":0,\"ticks\":\"\"}},\"type\":\"scatterpolargl\"}],\"scatterternary\":[{\"marker\":{\"colorbar\":{\"outlinewidth\":0,\"ticks\":\"\"}},\"type\":\"scatterternary\"}],\"surface\":[{\"colorbar\":{\"outlinewidth\":0,\"ticks\":\"\"},\"colorscale\":[[0.0,\"#0d0887\"],[0.1111111111111111,\"#46039f\"],[0.2222222222222222,\"#7201a8\"],[0.3333333333333333,\"#9c179e\"],[0.4444444444444444,\"#bd3786\"],[0.5555555555555556,\"#d8576b\"],[0.6666666666666666,\"#ed7953\"],[0.7777777777777778,\"#fb9f3a\"],[0.8888888888888888,\"#fdca26\"],[1.0,\"#f0f921\"]],\"type\":\"surface\"}],\"table\":[{\"cells\":{\"fill\":{\"color\":\"#EBF0F8\"},\"line\":{\"color\":\"white\"}},\"header\":{\"fill\":{\"color\":\"#C8D4E3\"},\"line\":{\"color\":\"white\"}},\"type\":\"table\"}]},\"layout\":{\"annotationdefaults\":{\"arrowcolor\":\"#2a3f5f\",\"arrowhead\":0,\"arrowwidth\":1},\"autotypenumbers\":\"strict\",\"coloraxis\":{\"colorbar\":{\"outlinewidth\":0,\"ticks\":\"\"}},\"colorscale\":{\"diverging\":[[0,\"#8e0152\"],[0.1,\"#c51b7d\"],[0.2,\"#de77ae\"],[0.3,\"#f1b6da\"],[0.4,\"#fde0ef\"],[0.5,\"#f7f7f7\"],[0.6,\"#e6f5d0\"],[0.7,\"#b8e186\"],[0.8,\"#7fbc41\"],[0.9,\"#4d9221\"],[1,\"#276419\"]],\"sequential\":[[0.0,\"#0d0887\"],[0.1111111111111111,\"#46039f\"],[0.2222222222222222,\"#7201a8\"],[0.3333333333333333,\"#9c179e\"],[0.4444444444444444,\"#bd3786\"],[0.5555555555555556,\"#d8576b\"],[0.6666666666666666,\"#ed7953\"],[0.7777777777777778,\"#fb9f3a\"],[0.8888888888888888,\"#fdca26\"],[1.0,\"#f0f921\"]],\"sequentialminus\":[[0.0,\"#0d0887\"],[0.1111111111111111,\"#46039f\"],[0.2222222222222222,\"#7201a8\"],[0.3333333333333333,\"#9c179e\"],[0.4444444444444444,\"#bd3786\"],[0.5555555555555556,\"#d8576b\"],[0.6666666666666666,\"#ed7953\"],[0.7777777777777778,\"#fb9f3a\"],[0.8888888888888888,\"#fdca26\"],[1.0,\"#f0f921\"]]},\"colorway\":[\"#636efa\",\"#EF553B\",\"#00cc96\",\"#ab63fa\",\"#FFA15A\",\"#19d3f3\",\"#FF6692\",\"#B6E880\",\"#FF97FF\",\"#FECB52\"],\"font\":{\"color\":\"#2a3f5f\"},\"geo\":{\"bgcolor\":\"white\",\"lakecolor\":\"white\",\"landcolor\":\"#E5ECF6\",\"showlakes\":true,\"showland\":true,\"subunitcolor\":\"white\"},\"hoverlabel\":{\"align\":\"left\"},\"hovermode\":\"closest\",\"mapbox\":{\"style\":\"light\"},\"paper_bgcolor\":\"white\",\"plot_bgcolor\":\"#E5ECF6\",\"polar\":{\"angularaxis\":{\"gridcolor\":\"white\",\"linecolor\":\"white\",\"ticks\":\"\"},\"bgcolor\":\"#E5ECF6\",\"radialaxis\":{\"gridcolor\":\"white\",\"linecolor\":\"white\",\"ticks\":\"\"}},\"scene\":{\"xaxis\":{\"backgroundcolor\":\"#E5ECF6\",\"gridcolor\":\"white\",\"gridwidth\":2,\"linecolor\":\"white\",\"showbackground\":true,\"ticks\":\"\",\"zerolinecolor\":\"white\"},\"yaxis\":{\"backgroundcolor\":\"#E5ECF6\",\"gridcolor\":\"white\",\"gridwidth\":2,\"linecolor\":\"white\",\"showbackground\":true,\"ticks\":\"\",\"zerolinecolor\":\"white\"},\"zaxis\":{\"backgroundcolor\":\"#E5ECF6\",\"gridcolor\":\"white\",\"gridwidth\":2,\"linecolor\":\"white\",\"showbackground\":true,\"ticks\":\"\",\"zerolinecolor\":\"white\"}},\"shapedefaults\":{\"line\":{\"color\":\"#2a3f5f\"}},\"ternary\":{\"aaxis\":{\"gridcolor\":\"white\",\"linecolor\":\"white\",\"ticks\":\"\"},\"baxis\":{\"gridcolor\":\"white\",\"linecolor\":\"white\",\"ticks\":\"\"},\"bgcolor\":\"#E5ECF6\",\"caxis\":{\"gridcolor\":\"white\",\"linecolor\":\"white\",\"ticks\":\"\"}},\"title\":{\"x\":0.05},\"xaxis\":{\"automargin\":true,\"gridcolor\":\"white\",\"linecolor\":\"white\",\"ticks\":\"\",\"title\":{\"standoff\":15},\"zerolinecolor\":\"white\",\"zerolinewidth\":2},\"yaxis\":{\"automargin\":true,\"gridcolor\":\"white\",\"linecolor\":\"white\",\"ticks\":\"\",\"title\":{\"standoff\":15},\"zerolinecolor\":\"white\",\"zerolinewidth\":2}}},\"xaxis\":{\"anchor\":\"y\",\"domain\":[0.0,1.0],\"title\":{\"text\":\"x\"}},\"yaxis\":{\"anchor\":\"x\",\"domain\":[0.0,1.0],\"title\":{\"text\":\"count\"}},\"legend\":{\"tracegroupgap\":0},\"margin\":{\"t\":60},\"barmode\":\"relative\"},                        {\"responsive\": true}                    ).then(function(){\n",
       "                            \n",
       "var gd = document.getElementById('17085fe3-fae6-48cf-9d21-97ff3dcff15c');\n",
       "var x = new MutationObserver(function (mutations, observer) {{\n",
       "        var display = window.getComputedStyle(gd).display;\n",
       "        if (!display || display === 'none') {{\n",
       "            console.log([gd, 'removed!']);\n",
       "            Plotly.purge(gd);\n",
       "            observer.disconnect();\n",
       "        }}\n",
       "}});\n",
       "\n",
       "// Listen for the removal of the full notebook cells\n",
       "var notebookContainer = gd.closest('#notebook-container');\n",
       "if (notebookContainer) {{\n",
       "    x.observe(notebookContainer, {childList: true});\n",
       "}}\n",
       "\n",
       "// Listen for the clearing of the current output cell\n",
       "var outputEl = gd.closest('.output');\n",
       "if (outputEl) {{\n",
       "    x.observe(outputEl, {childList: true});\n",
       "}}\n",
       "\n",
       "                        })                };                });            </script>        </div>"
      ]
     },
     "metadata": {},
     "output_type": "display_data"
    }
   ],
   "source": [
    "#price = df[\"bedrooms\"].values\n",
    "# Histograms\n",
    "bedrooms = px.histogram(\n",
    "    x=df[\"bedrooms\"],\n",
    ")\n",
    "\n",
    "bedrooms.show()"
   ]
  },
  {
   "cell_type": "code",
   "execution_count": 79,
   "id": "dc9bbd4a",
   "metadata": {},
   "outputs": [
    {
     "data": {
      "application/vnd.plotly.v1+json": {
       "config": {
        "plotlyServerURL": "https://plot.ly"
       },
       "data": [
        {
         "alignmentgroup": "True",
         "bingroup": "x",
         "hovertemplate": "x=%{x}<br>count=%{y}<extra></extra>",
         "legendgroup": "",
         "marker": {
          "color": "#636efa",
          "pattern": {
           "shape": ""
          }
         },
         "name": "",
         "offsetgroup": "",
         "orientation": "v",
         "showlegend": false,
         "type": "histogram",
         "x": [
          1087.6,
          -1,
          715,
          721,
          -1,
          294,
          901.3,
          831,
          696,
          695.6,
          -1,
          -1,
          696,
          -1,
          696,
          325,
          739.5,
          -1,
          696,
          695,
          356,
          818,
          720,
          -1,
          -1,
          -1,
          708,
          695.6,
          -1,
          -1,
          -1,
          -1,
          696,
          695,
          797,
          -1,
          957,
          -1,
          695,
          -1,
          696,
          815,
          1296,
          708,
          695,
          721,
          242,
          -1,
          1676,
          1012,
          917,
          708,
          -1,
          717,
          768,
          789,
          -1,
          -1,
          885,
          -1,
          696,
          695,
          898,
          696,
          696,
          695,
          752,
          739,
          828.3,
          -1,
          -1,
          696,
          -1,
          1296,
          -1,
          1100,
          -1,
          706,
          765,
          695,
          -1,
          -1,
          -1,
          978,
          709,
          1393,
          753,
          834,
          695,
          695,
          715,
          697,
          -1,
          -1,
          -1,
          753,
          701,
          696,
          696,
          739.8,
          776.5,
          1309,
          -1,
          1384,
          708,
          767,
          695,
          -1,
          -1,
          -1,
          814,
          695.6,
          -1,
          -1,
          1082,
          696,
          900,
          695,
          900,
          695,
          -1,
          -1,
          787.1,
          -1,
          -1,
          714,
          -1,
          -1,
          -1,
          708,
          739.8,
          695.6,
          788,
          -1,
          783,
          -1,
          -1,
          695.6,
          -1,
          -1,
          -1,
          822,
          -1,
          904,
          746,
          -1,
          -1,
          708.2,
          847.3,
          936.2,
          -1,
          695.6,
          712,
          -1,
          720,
          695,
          -1,
          702.9,
          -1,
          1456.4,
          700,
          -1,
          889,
          -1,
          702,
          701.9,
          843,
          -1,
          695,
          -1,
          766,
          -1,
          739,
          -1,
          -1,
          733,
          696,
          769,
          820.3,
          707,
          766,
          733.5,
          695,
          695.6,
          727.2,
          -1,
          752,
          696,
          -1,
          -1,
          701,
          714,
          758,
          700,
          752,
          824,
          1048,
          -1,
          789,
          695,
          841,
          721,
          1296,
          701.9,
          695,
          -1,
          695.6,
          -1,
          -1,
          -1,
          -1,
          702,
          -1,
          -1,
          -1,
          695,
          1177,
          696,
          670,
          696,
          -1,
          787,
          767,
          1170,
          -1,
          1037,
          -1,
          875,
          900,
          891,
          717,
          847,
          404,
          873,
          -1,
          797,
          695,
          -1,
          696,
          -1,
          715,
          703,
          769,
          -1,
          696,
          -1,
          -1,
          858,
          -1,
          -1,
          696,
          -1,
          695,
          -1,
          695,
          -1,
          701,
          -1,
          696,
          765,
          727,
          701,
          -1,
          714,
          -1,
          695,
          789,
          950,
          -1,
          752,
          -1,
          695,
          708,
          696,
          806,
          695,
          253,
          695,
          -1,
          702,
          695.6,
          -1,
          739,
          696,
          695.6,
          720,
          720,
          710,
          904,
          900,
          -1,
          746,
          784,
          -1,
          -1,
          697,
          -1,
          -1,
          1170,
          695,
          772,
          695.6,
          695,
          -1,
          696,
          734,
          -1,
          734,
          720,
          695,
          -1,
          -1,
          1004,
          865,
          1303,
          708,
          734,
          695.6,
          815,
          714,
          910,
          -1,
          767,
          -1,
          695,
          -1,
          738,
          -1,
          784,
          -1,
          -1,
          698,
          729.2,
          696,
          -1,
          -1,
          776,
          -1,
          696,
          696,
          696,
          765,
          696,
          -1,
          710,
          830,
          696,
          900,
          776,
          -1,
          701.9,
          -1,
          1081,
          714,
          696,
          888,
          734,
          766.6,
          715,
          891.6,
          901,
          727,
          735.8,
          766.4,
          695,
          -1,
          714.5,
          695,
          695,
          -1,
          696,
          -1,
          752,
          727,
          822,
          695.6,
          -1,
          -1,
          231,
          -1,
          1349,
          695,
          708,
          701,
          787,
          1005,
          695,
          543,
          695.6,
          695.6,
          708,
          721,
          -1,
          1296,
          752,
          701,
          -1,
          721,
          696,
          1393,
          696,
          708,
          -1,
          721,
          695,
          519.1,
          -1,
          -1,
          -1,
          770,
          917,
          -1,
          902,
          696,
          -1,
          -1,
          746,
          -1,
          -1,
          440,
          727,
          695,
          911,
          202,
          -1,
          -1,
          696,
          163,
          900,
          -1,
          767,
          695,
          690,
          -1,
          -1,
          -1,
          700,
          -1,
          695,
          766,
          714,
          766,
          -1,
          708.2,
          -1,
          -1,
          922,
          -1,
          695,
          796,
          714,
          695,
          -1,
          -1,
          -1,
          999,
          956.9,
          -1,
          -1,
          708,
          901.3,
          -1,
          753,
          -1,
          695,
          720,
          695.6,
          -1,
          771,
          218,
          -1,
          695,
          1018,
          -1,
          -1,
          771,
          961.1,
          -1,
          -1,
          738,
          853.6,
          769,
          -1,
          -1,
          901,
          746.1,
          904.2,
          -1,
          -1,
          1182,
          714,
          1012,
          -1,
          798,
          -1,
          872.6,
          695.6,
          -1,
          -1,
          -1,
          -1,
          696,
          -1,
          741,
          -1,
          708,
          696,
          769,
          696,
          769,
          -1,
          -1,
          739.8,
          -1,
          733,
          -1,
          739,
          -1,
          -1,
          695,
          955,
          326,
          -1,
          771.4,
          866,
          -1,
          -1,
          -1,
          -1,
          -1,
          -1,
          -1,
          550,
          -1,
          816,
          -1,
          733,
          -1,
          -1,
          828,
          -1,
          -1,
          708,
          420,
          696,
          -1,
          -1,
          777,
          765,
          767,
          -1,
          -1,
          948,
          725,
          -1,
          -1,
          700,
          -1,
          746,
          -1,
          -1,
          -1,
          740,
          714,
          733,
          -1,
          -1,
          -1,
          -1,
          696,
          -1,
          -1,
          -1,
          695,
          -1,
          -1,
          854,
          1170,
          -1,
          746,
          1486,
          900,
          -1,
          -1,
          -1,
          -1,
          -1,
          -1,
          -1,
          696,
          695,
          1021,
          708,
          -1,
          1385,
          -1,
          843,
          -1,
          894,
          720,
          696,
          695.5,
          -1,
          -1,
          199,
          -1,
          769,
          696,
          -1,
          -1,
          695.6,
          -1,
          32,
          828,
          -1,
          -1,
          904,
          -1,
          -1,
          708,
          -1,
          727,
          701.9,
          -1,
          696,
          752.5,
          695,
          696,
          695.6,
          745,
          -1,
          757,
          970,
          854,
          900,
          -1,
          189,
          706.7,
          187,
          -1,
          -1,
          701,
          923,
          696,
          -1,
          1842,
          -1,
          708,
          828,
          739,
          -1,
          -1,
          -1,
          695.6,
          -1,
          695,
          269,
          696
         ],
         "xaxis": "x",
         "yaxis": "y"
        }
       ],
       "layout": {
        "barmode": "relative",
        "legend": {
         "tracegroupgap": 0
        },
        "margin": {
         "t": 60
        },
        "template": {
         "data": {
          "bar": [
           {
            "error_x": {
             "color": "#2a3f5f"
            },
            "error_y": {
             "color": "#2a3f5f"
            },
            "marker": {
             "line": {
              "color": "#E5ECF6",
              "width": 0.5
             },
             "pattern": {
              "fillmode": "overlay",
              "size": 10,
              "solidity": 0.2
             }
            },
            "type": "bar"
           }
          ],
          "barpolar": [
           {
            "marker": {
             "line": {
              "color": "#E5ECF6",
              "width": 0.5
             },
             "pattern": {
              "fillmode": "overlay",
              "size": 10,
              "solidity": 0.2
             }
            },
            "type": "barpolar"
           }
          ],
          "carpet": [
           {
            "aaxis": {
             "endlinecolor": "#2a3f5f",
             "gridcolor": "white",
             "linecolor": "white",
             "minorgridcolor": "white",
             "startlinecolor": "#2a3f5f"
            },
            "baxis": {
             "endlinecolor": "#2a3f5f",
             "gridcolor": "white",
             "linecolor": "white",
             "minorgridcolor": "white",
             "startlinecolor": "#2a3f5f"
            },
            "type": "carpet"
           }
          ],
          "choropleth": [
           {
            "colorbar": {
             "outlinewidth": 0,
             "ticks": ""
            },
            "type": "choropleth"
           }
          ],
          "contour": [
           {
            "colorbar": {
             "outlinewidth": 0,
             "ticks": ""
            },
            "colorscale": [
             [
              0,
              "#0d0887"
             ],
             [
              0.1111111111111111,
              "#46039f"
             ],
             [
              0.2222222222222222,
              "#7201a8"
             ],
             [
              0.3333333333333333,
              "#9c179e"
             ],
             [
              0.4444444444444444,
              "#bd3786"
             ],
             [
              0.5555555555555556,
              "#d8576b"
             ],
             [
              0.6666666666666666,
              "#ed7953"
             ],
             [
              0.7777777777777778,
              "#fb9f3a"
             ],
             [
              0.8888888888888888,
              "#fdca26"
             ],
             [
              1,
              "#f0f921"
             ]
            ],
            "type": "contour"
           }
          ],
          "contourcarpet": [
           {
            "colorbar": {
             "outlinewidth": 0,
             "ticks": ""
            },
            "type": "contourcarpet"
           }
          ],
          "heatmap": [
           {
            "colorbar": {
             "outlinewidth": 0,
             "ticks": ""
            },
            "colorscale": [
             [
              0,
              "#0d0887"
             ],
             [
              0.1111111111111111,
              "#46039f"
             ],
             [
              0.2222222222222222,
              "#7201a8"
             ],
             [
              0.3333333333333333,
              "#9c179e"
             ],
             [
              0.4444444444444444,
              "#bd3786"
             ],
             [
              0.5555555555555556,
              "#d8576b"
             ],
             [
              0.6666666666666666,
              "#ed7953"
             ],
             [
              0.7777777777777778,
              "#fb9f3a"
             ],
             [
              0.8888888888888888,
              "#fdca26"
             ],
             [
              1,
              "#f0f921"
             ]
            ],
            "type": "heatmap"
           }
          ],
          "heatmapgl": [
           {
            "colorbar": {
             "outlinewidth": 0,
             "ticks": ""
            },
            "colorscale": [
             [
              0,
              "#0d0887"
             ],
             [
              0.1111111111111111,
              "#46039f"
             ],
             [
              0.2222222222222222,
              "#7201a8"
             ],
             [
              0.3333333333333333,
              "#9c179e"
             ],
             [
              0.4444444444444444,
              "#bd3786"
             ],
             [
              0.5555555555555556,
              "#d8576b"
             ],
             [
              0.6666666666666666,
              "#ed7953"
             ],
             [
              0.7777777777777778,
              "#fb9f3a"
             ],
             [
              0.8888888888888888,
              "#fdca26"
             ],
             [
              1,
              "#f0f921"
             ]
            ],
            "type": "heatmapgl"
           }
          ],
          "histogram": [
           {
            "marker": {
             "pattern": {
              "fillmode": "overlay",
              "size": 10,
              "solidity": 0.2
             }
            },
            "type": "histogram"
           }
          ],
          "histogram2d": [
           {
            "colorbar": {
             "outlinewidth": 0,
             "ticks": ""
            },
            "colorscale": [
             [
              0,
              "#0d0887"
             ],
             [
              0.1111111111111111,
              "#46039f"
             ],
             [
              0.2222222222222222,
              "#7201a8"
             ],
             [
              0.3333333333333333,
              "#9c179e"
             ],
             [
              0.4444444444444444,
              "#bd3786"
             ],
             [
              0.5555555555555556,
              "#d8576b"
             ],
             [
              0.6666666666666666,
              "#ed7953"
             ],
             [
              0.7777777777777778,
              "#fb9f3a"
             ],
             [
              0.8888888888888888,
              "#fdca26"
             ],
             [
              1,
              "#f0f921"
             ]
            ],
            "type": "histogram2d"
           }
          ],
          "histogram2dcontour": [
           {
            "colorbar": {
             "outlinewidth": 0,
             "ticks": ""
            },
            "colorscale": [
             [
              0,
              "#0d0887"
             ],
             [
              0.1111111111111111,
              "#46039f"
             ],
             [
              0.2222222222222222,
              "#7201a8"
             ],
             [
              0.3333333333333333,
              "#9c179e"
             ],
             [
              0.4444444444444444,
              "#bd3786"
             ],
             [
              0.5555555555555556,
              "#d8576b"
             ],
             [
              0.6666666666666666,
              "#ed7953"
             ],
             [
              0.7777777777777778,
              "#fb9f3a"
             ],
             [
              0.8888888888888888,
              "#fdca26"
             ],
             [
              1,
              "#f0f921"
             ]
            ],
            "type": "histogram2dcontour"
           }
          ],
          "mesh3d": [
           {
            "colorbar": {
             "outlinewidth": 0,
             "ticks": ""
            },
            "type": "mesh3d"
           }
          ],
          "parcoords": [
           {
            "line": {
             "colorbar": {
              "outlinewidth": 0,
              "ticks": ""
             }
            },
            "type": "parcoords"
           }
          ],
          "pie": [
           {
            "automargin": true,
            "type": "pie"
           }
          ],
          "scatter": [
           {
            "marker": {
             "colorbar": {
              "outlinewidth": 0,
              "ticks": ""
             }
            },
            "type": "scatter"
           }
          ],
          "scatter3d": [
           {
            "line": {
             "colorbar": {
              "outlinewidth": 0,
              "ticks": ""
             }
            },
            "marker": {
             "colorbar": {
              "outlinewidth": 0,
              "ticks": ""
             }
            },
            "type": "scatter3d"
           }
          ],
          "scattercarpet": [
           {
            "marker": {
             "colorbar": {
              "outlinewidth": 0,
              "ticks": ""
             }
            },
            "type": "scattercarpet"
           }
          ],
          "scattergeo": [
           {
            "marker": {
             "colorbar": {
              "outlinewidth": 0,
              "ticks": ""
             }
            },
            "type": "scattergeo"
           }
          ],
          "scattergl": [
           {
            "marker": {
             "colorbar": {
              "outlinewidth": 0,
              "ticks": ""
             }
            },
            "type": "scattergl"
           }
          ],
          "scattermapbox": [
           {
            "marker": {
             "colorbar": {
              "outlinewidth": 0,
              "ticks": ""
             }
            },
            "type": "scattermapbox"
           }
          ],
          "scatterpolar": [
           {
            "marker": {
             "colorbar": {
              "outlinewidth": 0,
              "ticks": ""
             }
            },
            "type": "scatterpolar"
           }
          ],
          "scatterpolargl": [
           {
            "marker": {
             "colorbar": {
              "outlinewidth": 0,
              "ticks": ""
             }
            },
            "type": "scatterpolargl"
           }
          ],
          "scatterternary": [
           {
            "marker": {
             "colorbar": {
              "outlinewidth": 0,
              "ticks": ""
             }
            },
            "type": "scatterternary"
           }
          ],
          "surface": [
           {
            "colorbar": {
             "outlinewidth": 0,
             "ticks": ""
            },
            "colorscale": [
             [
              0,
              "#0d0887"
             ],
             [
              0.1111111111111111,
              "#46039f"
             ],
             [
              0.2222222222222222,
              "#7201a8"
             ],
             [
              0.3333333333333333,
              "#9c179e"
             ],
             [
              0.4444444444444444,
              "#bd3786"
             ],
             [
              0.5555555555555556,
              "#d8576b"
             ],
             [
              0.6666666666666666,
              "#ed7953"
             ],
             [
              0.7777777777777778,
              "#fb9f3a"
             ],
             [
              0.8888888888888888,
              "#fdca26"
             ],
             [
              1,
              "#f0f921"
             ]
            ],
            "type": "surface"
           }
          ],
          "table": [
           {
            "cells": {
             "fill": {
              "color": "#EBF0F8"
             },
             "line": {
              "color": "white"
             }
            },
            "header": {
             "fill": {
              "color": "#C8D4E3"
             },
             "line": {
              "color": "white"
             }
            },
            "type": "table"
           }
          ]
         },
         "layout": {
          "annotationdefaults": {
           "arrowcolor": "#2a3f5f",
           "arrowhead": 0,
           "arrowwidth": 1
          },
          "autotypenumbers": "strict",
          "coloraxis": {
           "colorbar": {
            "outlinewidth": 0,
            "ticks": ""
           }
          },
          "colorscale": {
           "diverging": [
            [
             0,
             "#8e0152"
            ],
            [
             0.1,
             "#c51b7d"
            ],
            [
             0.2,
             "#de77ae"
            ],
            [
             0.3,
             "#f1b6da"
            ],
            [
             0.4,
             "#fde0ef"
            ],
            [
             0.5,
             "#f7f7f7"
            ],
            [
             0.6,
             "#e6f5d0"
            ],
            [
             0.7,
             "#b8e186"
            ],
            [
             0.8,
             "#7fbc41"
            ],
            [
             0.9,
             "#4d9221"
            ],
            [
             1,
             "#276419"
            ]
           ],
           "sequential": [
            [
             0,
             "#0d0887"
            ],
            [
             0.1111111111111111,
             "#46039f"
            ],
            [
             0.2222222222222222,
             "#7201a8"
            ],
            [
             0.3333333333333333,
             "#9c179e"
            ],
            [
             0.4444444444444444,
             "#bd3786"
            ],
            [
             0.5555555555555556,
             "#d8576b"
            ],
            [
             0.6666666666666666,
             "#ed7953"
            ],
            [
             0.7777777777777778,
             "#fb9f3a"
            ],
            [
             0.8888888888888888,
             "#fdca26"
            ],
            [
             1,
             "#f0f921"
            ]
           ],
           "sequentialminus": [
            [
             0,
             "#0d0887"
            ],
            [
             0.1111111111111111,
             "#46039f"
            ],
            [
             0.2222222222222222,
             "#7201a8"
            ],
            [
             0.3333333333333333,
             "#9c179e"
            ],
            [
             0.4444444444444444,
             "#bd3786"
            ],
            [
             0.5555555555555556,
             "#d8576b"
            ],
            [
             0.6666666666666666,
             "#ed7953"
            ],
            [
             0.7777777777777778,
             "#fb9f3a"
            ],
            [
             0.8888888888888888,
             "#fdca26"
            ],
            [
             1,
             "#f0f921"
            ]
           ]
          },
          "colorway": [
           "#636efa",
           "#EF553B",
           "#00cc96",
           "#ab63fa",
           "#FFA15A",
           "#19d3f3",
           "#FF6692",
           "#B6E880",
           "#FF97FF",
           "#FECB52"
          ],
          "font": {
           "color": "#2a3f5f"
          },
          "geo": {
           "bgcolor": "white",
           "lakecolor": "white",
           "landcolor": "#E5ECF6",
           "showlakes": true,
           "showland": true,
           "subunitcolor": "white"
          },
          "hoverlabel": {
           "align": "left"
          },
          "hovermode": "closest",
          "mapbox": {
           "style": "light"
          },
          "paper_bgcolor": "white",
          "plot_bgcolor": "#E5ECF6",
          "polar": {
           "angularaxis": {
            "gridcolor": "white",
            "linecolor": "white",
            "ticks": ""
           },
           "bgcolor": "#E5ECF6",
           "radialaxis": {
            "gridcolor": "white",
            "linecolor": "white",
            "ticks": ""
           }
          },
          "scene": {
           "xaxis": {
            "backgroundcolor": "#E5ECF6",
            "gridcolor": "white",
            "gridwidth": 2,
            "linecolor": "white",
            "showbackground": true,
            "ticks": "",
            "zerolinecolor": "white"
           },
           "yaxis": {
            "backgroundcolor": "#E5ECF6",
            "gridcolor": "white",
            "gridwidth": 2,
            "linecolor": "white",
            "showbackground": true,
            "ticks": "",
            "zerolinecolor": "white"
           },
           "zaxis": {
            "backgroundcolor": "#E5ECF6",
            "gridcolor": "white",
            "gridwidth": 2,
            "linecolor": "white",
            "showbackground": true,
            "ticks": "",
            "zerolinecolor": "white"
           }
          },
          "shapedefaults": {
           "line": {
            "color": "#2a3f5f"
           }
          },
          "ternary": {
           "aaxis": {
            "gridcolor": "white",
            "linecolor": "white",
            "ticks": ""
           },
           "baxis": {
            "gridcolor": "white",
            "linecolor": "white",
            "ticks": ""
           },
           "bgcolor": "#E5ECF6",
           "caxis": {
            "gridcolor": "white",
            "linecolor": "white",
            "ticks": ""
           }
          },
          "title": {
           "x": 0.05
          },
          "xaxis": {
           "automargin": true,
           "gridcolor": "white",
           "linecolor": "white",
           "ticks": "",
           "title": {
            "standoff": 15
           },
           "zerolinecolor": "white",
           "zerolinewidth": 2
          },
          "yaxis": {
           "automargin": true,
           "gridcolor": "white",
           "linecolor": "white",
           "ticks": "",
           "title": {
            "standoff": 15
           },
           "zerolinecolor": "white",
           "zerolinewidth": 2
          }
         }
        },
        "xaxis": {
         "anchor": "y",
         "domain": [
          0,
          1
         ],
         "title": {
          "text": "x"
         }
        },
        "yaxis": {
         "anchor": "x",
         "domain": [
          0,
          1
         ],
         "title": {
          "text": "count"
         }
        }
       }
      },
      "text/html": [
       "<div>                            <div id=\"d27f59ae-90d6-4f8e-8e12-5555e8f86625\" class=\"plotly-graph-div\" style=\"height:525px; width:100%;\"></div>            <script type=\"text/javascript\">                require([\"plotly\"], function(Plotly) {                    window.PLOTLYENV=window.PLOTLYENV || {};                                    if (document.getElementById(\"d27f59ae-90d6-4f8e-8e12-5555e8f86625\")) {                    Plotly.newPlot(                        \"d27f59ae-90d6-4f8e-8e12-5555e8f86625\",                        [{\"alignmentgroup\":\"True\",\"bingroup\":\"x\",\"hovertemplate\":\"x=%{x}<br>count=%{y}<extra></extra>\",\"legendgroup\":\"\",\"marker\":{\"color\":\"#636efa\",\"pattern\":{\"shape\":\"\"}},\"name\":\"\",\"offsetgroup\":\"\",\"orientation\":\"v\",\"showlegend\":false,\"x\":[1087.6,-1.0,715.0,721.0,-1.0,294.0,901.3,831.0,696.0,695.6,-1.0,-1.0,696.0,-1.0,696.0,325.0,739.5,-1.0,696.0,695.0,356.0,818.0,720.0,-1.0,-1.0,-1.0,708.0,695.6,-1.0,-1.0,-1.0,-1.0,696.0,695.0,797.0,-1.0,957.0,-1.0,695.0,-1.0,696.0,815.0,1296.0,708.0,695.0,721.0,242.0,-1.0,1676.0,1012.0,917.0,708.0,-1.0,717.0,768.0,789.0,-1.0,-1.0,885.0,-1.0,696.0,695.0,898.0,696.0,696.0,695.0,752.0,739.0,828.3,-1.0,-1.0,696.0,-1.0,1296.0,-1.0,1100.0,-1.0,706.0,765.0,695.0,-1.0,-1.0,-1.0,978.0,709.0,1393.0,753.0,834.0,695.0,695.0,715.0,697.0,-1.0,-1.0,-1.0,753.0,701.0,696.0,696.0,739.8,776.5,1309.0,-1.0,1384.0,708.0,767.0,695.0,-1.0,-1.0,-1.0,814.0,695.6,-1.0,-1.0,1082.0,696.0,900.0,695.0,900.0,695.0,-1.0,-1.0,787.1,-1.0,-1.0,714.0,-1.0,-1.0,-1.0,708.0,739.8,695.6,788.0,-1.0,783.0,-1.0,-1.0,695.6,-1.0,-1.0,-1.0,822.0,-1.0,904.0,746.0,-1.0,-1.0,708.2,847.3,936.2,-1.0,695.6,712.0,-1.0,720.0,695.0,-1.0,702.9,-1.0,1456.4,700.0,-1.0,889.0,-1.0,702.0,701.9,843.0,-1.0,695.0,-1.0,766.0,-1.0,739.0,-1.0,-1.0,733.0,696.0,769.0,820.3,707.0,766.0,733.5,695.0,695.6,727.2,-1.0,752.0,696.0,-1.0,-1.0,701.0,714.0,758.0,700.0,752.0,824.0,1048.0,-1.0,789.0,695.0,841.0,721.0,1296.0,701.9,695.0,-1.0,695.6,-1.0,-1.0,-1.0,-1.0,702.0,-1.0,-1.0,-1.0,695.0,1177.0,696.0,670.0,696.0,-1.0,787.0,767.0,1170.0,-1.0,1037.0,-1.0,875.0,900.0,891.0,717.0,847.0,404.0,873.0,-1.0,797.0,695.0,-1.0,696.0,-1.0,715.0,703.0,769.0,-1.0,696.0,-1.0,-1.0,858.0,-1.0,-1.0,696.0,-1.0,695.0,-1.0,695.0,-1.0,701.0,-1.0,696.0,765.0,727.0,701.0,-1.0,714.0,-1.0,695.0,789.0,950.0,-1.0,752.0,-1.0,695.0,708.0,696.0,806.0,695.0,253.0,695.0,-1.0,702.0,695.6,-1.0,739.0,696.0,695.6,720.0,720.0,710.0,904.0,900.0,-1.0,746.0,784.0,-1.0,-1.0,697.0,-1.0,-1.0,1170.0,695.0,772.0,695.6,695.0,-1.0,696.0,734.0,-1.0,734.0,720.0,695.0,-1.0,-1.0,1004.0,865.0,1303.0,708.0,734.0,695.6,815.0,714.0,910.0,-1.0,767.0,-1.0,695.0,-1.0,738.0,-1.0,784.0,-1.0,-1.0,698.0,729.2,696.0,-1.0,-1.0,776.0,-1.0,696.0,696.0,696.0,765.0,696.0,-1.0,710.0,830.0,696.0,900.0,776.0,-1.0,701.9,-1.0,1081.0,714.0,696.0,888.0,734.0,766.6,715.0,891.6,901.0,727.0,735.8,766.4,695.0,-1.0,714.5,695.0,695.0,-1.0,696.0,-1.0,752.0,727.0,822.0,695.6,-1.0,-1.0,231.0,-1.0,1349.0,695.0,708.0,701.0,787.0,1005.0,695.0,543.0,695.6,695.6,708.0,721.0,-1.0,1296.0,752.0,701.0,-1.0,721.0,696.0,1393.0,696.0,708.0,-1.0,721.0,695.0,519.1,-1.0,-1.0,-1.0,770.0,917.0,-1.0,902.0,696.0,-1.0,-1.0,746.0,-1.0,-1.0,440.0,727.0,695.0,911.0,202.0,-1.0,-1.0,696.0,163.0,900.0,-1.0,767.0,695.0,690.0,-1.0,-1.0,-1.0,700.0,-1.0,695.0,766.0,714.0,766.0,-1.0,708.2,-1.0,-1.0,922.0,-1.0,695.0,796.0,714.0,695.0,-1.0,-1.0,-1.0,999.0,956.9,-1.0,-1.0,708.0,901.3,-1.0,753.0,-1.0,695.0,720.0,695.6,-1.0,771.0,218.0,-1.0,695.0,1018.0,-1.0,-1.0,771.0,961.1,-1.0,-1.0,738.0,853.6,769.0,-1.0,-1.0,901.0,746.1,904.2,-1.0,-1.0,1182.0,714.0,1012.0,-1.0,798.0,-1.0,872.6,695.6,-1.0,-1.0,-1.0,-1.0,696.0,-1.0,741.0,-1.0,708.0,696.0,769.0,696.0,769.0,-1.0,-1.0,739.8,-1.0,733.0,-1.0,739.0,-1.0,-1.0,695.0,955.0,326.0,-1.0,771.4,866.0,-1.0,-1.0,-1.0,-1.0,-1.0,-1.0,-1.0,550.0,-1.0,816.0,-1.0,733.0,-1.0,-1.0,828.0,-1.0,-1.0,708.0,420.0,696.0,-1.0,-1.0,777.0,765.0,767.0,-1.0,-1.0,948.0,725.0,-1.0,-1.0,700.0,-1.0,746.0,-1.0,-1.0,-1.0,740.0,714.0,733.0,-1.0,-1.0,-1.0,-1.0,696.0,-1.0,-1.0,-1.0,695.0,-1.0,-1.0,854.0,1170.0,-1.0,746.0,1486.0,900.0,-1.0,-1.0,-1.0,-1.0,-1.0,-1.0,-1.0,696.0,695.0,1021.0,708.0,-1.0,1385.0,-1.0,843.0,-1.0,894.0,720.0,696.0,695.5,-1.0,-1.0,199.0,-1.0,769.0,696.0,-1.0,-1.0,695.6,-1.0,32.0,828.0,-1.0,-1.0,904.0,-1.0,-1.0,708.0,-1.0,727.0,701.9,-1.0,696.0,752.5,695.0,696.0,695.6,745.0,-1.0,757.0,970.0,854.0,900.0,-1.0,189.0,706.7,187.0,-1.0,-1.0,701.0,923.0,696.0,-1.0,1842.0,-1.0,708.0,828.0,739.0,-1.0,-1.0,-1.0,695.6,-1.0,695.0,269.0,696.0],\"xaxis\":\"x\",\"yaxis\":\"y\",\"type\":\"histogram\"}],                        {\"template\":{\"data\":{\"bar\":[{\"error_x\":{\"color\":\"#2a3f5f\"},\"error_y\":{\"color\":\"#2a3f5f\"},\"marker\":{\"line\":{\"color\":\"#E5ECF6\",\"width\":0.5},\"pattern\":{\"fillmode\":\"overlay\",\"size\":10,\"solidity\":0.2}},\"type\":\"bar\"}],\"barpolar\":[{\"marker\":{\"line\":{\"color\":\"#E5ECF6\",\"width\":0.5},\"pattern\":{\"fillmode\":\"overlay\",\"size\":10,\"solidity\":0.2}},\"type\":\"barpolar\"}],\"carpet\":[{\"aaxis\":{\"endlinecolor\":\"#2a3f5f\",\"gridcolor\":\"white\",\"linecolor\":\"white\",\"minorgridcolor\":\"white\",\"startlinecolor\":\"#2a3f5f\"},\"baxis\":{\"endlinecolor\":\"#2a3f5f\",\"gridcolor\":\"white\",\"linecolor\":\"white\",\"minorgridcolor\":\"white\",\"startlinecolor\":\"#2a3f5f\"},\"type\":\"carpet\"}],\"choropleth\":[{\"colorbar\":{\"outlinewidth\":0,\"ticks\":\"\"},\"type\":\"choropleth\"}],\"contour\":[{\"colorbar\":{\"outlinewidth\":0,\"ticks\":\"\"},\"colorscale\":[[0.0,\"#0d0887\"],[0.1111111111111111,\"#46039f\"],[0.2222222222222222,\"#7201a8\"],[0.3333333333333333,\"#9c179e\"],[0.4444444444444444,\"#bd3786\"],[0.5555555555555556,\"#d8576b\"],[0.6666666666666666,\"#ed7953\"],[0.7777777777777778,\"#fb9f3a\"],[0.8888888888888888,\"#fdca26\"],[1.0,\"#f0f921\"]],\"type\":\"contour\"}],\"contourcarpet\":[{\"colorbar\":{\"outlinewidth\":0,\"ticks\":\"\"},\"type\":\"contourcarpet\"}],\"heatmap\":[{\"colorbar\":{\"outlinewidth\":0,\"ticks\":\"\"},\"colorscale\":[[0.0,\"#0d0887\"],[0.1111111111111111,\"#46039f\"],[0.2222222222222222,\"#7201a8\"],[0.3333333333333333,\"#9c179e\"],[0.4444444444444444,\"#bd3786\"],[0.5555555555555556,\"#d8576b\"],[0.6666666666666666,\"#ed7953\"],[0.7777777777777778,\"#fb9f3a\"],[0.8888888888888888,\"#fdca26\"],[1.0,\"#f0f921\"]],\"type\":\"heatmap\"}],\"heatmapgl\":[{\"colorbar\":{\"outlinewidth\":0,\"ticks\":\"\"},\"colorscale\":[[0.0,\"#0d0887\"],[0.1111111111111111,\"#46039f\"],[0.2222222222222222,\"#7201a8\"],[0.3333333333333333,\"#9c179e\"],[0.4444444444444444,\"#bd3786\"],[0.5555555555555556,\"#d8576b\"],[0.6666666666666666,\"#ed7953\"],[0.7777777777777778,\"#fb9f3a\"],[0.8888888888888888,\"#fdca26\"],[1.0,\"#f0f921\"]],\"type\":\"heatmapgl\"}],\"histogram\":[{\"marker\":{\"pattern\":{\"fillmode\":\"overlay\",\"size\":10,\"solidity\":0.2}},\"type\":\"histogram\"}],\"histogram2d\":[{\"colorbar\":{\"outlinewidth\":0,\"ticks\":\"\"},\"colorscale\":[[0.0,\"#0d0887\"],[0.1111111111111111,\"#46039f\"],[0.2222222222222222,\"#7201a8\"],[0.3333333333333333,\"#9c179e\"],[0.4444444444444444,\"#bd3786\"],[0.5555555555555556,\"#d8576b\"],[0.6666666666666666,\"#ed7953\"],[0.7777777777777778,\"#fb9f3a\"],[0.8888888888888888,\"#fdca26\"],[1.0,\"#f0f921\"]],\"type\":\"histogram2d\"}],\"histogram2dcontour\":[{\"colorbar\":{\"outlinewidth\":0,\"ticks\":\"\"},\"colorscale\":[[0.0,\"#0d0887\"],[0.1111111111111111,\"#46039f\"],[0.2222222222222222,\"#7201a8\"],[0.3333333333333333,\"#9c179e\"],[0.4444444444444444,\"#bd3786\"],[0.5555555555555556,\"#d8576b\"],[0.6666666666666666,\"#ed7953\"],[0.7777777777777778,\"#fb9f3a\"],[0.8888888888888888,\"#fdca26\"],[1.0,\"#f0f921\"]],\"type\":\"histogram2dcontour\"}],\"mesh3d\":[{\"colorbar\":{\"outlinewidth\":0,\"ticks\":\"\"},\"type\":\"mesh3d\"}],\"parcoords\":[{\"line\":{\"colorbar\":{\"outlinewidth\":0,\"ticks\":\"\"}},\"type\":\"parcoords\"}],\"pie\":[{\"automargin\":true,\"type\":\"pie\"}],\"scatter\":[{\"marker\":{\"colorbar\":{\"outlinewidth\":0,\"ticks\":\"\"}},\"type\":\"scatter\"}],\"scatter3d\":[{\"line\":{\"colorbar\":{\"outlinewidth\":0,\"ticks\":\"\"}},\"marker\":{\"colorbar\":{\"outlinewidth\":0,\"ticks\":\"\"}},\"type\":\"scatter3d\"}],\"scattercarpet\":[{\"marker\":{\"colorbar\":{\"outlinewidth\":0,\"ticks\":\"\"}},\"type\":\"scattercarpet\"}],\"scattergeo\":[{\"marker\":{\"colorbar\":{\"outlinewidth\":0,\"ticks\":\"\"}},\"type\":\"scattergeo\"}],\"scattergl\":[{\"marker\":{\"colorbar\":{\"outlinewidth\":0,\"ticks\":\"\"}},\"type\":\"scattergl\"}],\"scattermapbox\":[{\"marker\":{\"colorbar\":{\"outlinewidth\":0,\"ticks\":\"\"}},\"type\":\"scattermapbox\"}],\"scatterpolar\":[{\"marker\":{\"colorbar\":{\"outlinewidth\":0,\"ticks\":\"\"}},\"type\":\"scatterpolar\"}],\"scatterpolargl\":[{\"marker\":{\"colorbar\":{\"outlinewidth\":0,\"ticks\":\"\"}},\"type\":\"scatterpolargl\"}],\"scatterternary\":[{\"marker\":{\"colorbar\":{\"outlinewidth\":0,\"ticks\":\"\"}},\"type\":\"scatterternary\"}],\"surface\":[{\"colorbar\":{\"outlinewidth\":0,\"ticks\":\"\"},\"colorscale\":[[0.0,\"#0d0887\"],[0.1111111111111111,\"#46039f\"],[0.2222222222222222,\"#7201a8\"],[0.3333333333333333,\"#9c179e\"],[0.4444444444444444,\"#bd3786\"],[0.5555555555555556,\"#d8576b\"],[0.6666666666666666,\"#ed7953\"],[0.7777777777777778,\"#fb9f3a\"],[0.8888888888888888,\"#fdca26\"],[1.0,\"#f0f921\"]],\"type\":\"surface\"}],\"table\":[{\"cells\":{\"fill\":{\"color\":\"#EBF0F8\"},\"line\":{\"color\":\"white\"}},\"header\":{\"fill\":{\"color\":\"#C8D4E3\"},\"line\":{\"color\":\"white\"}},\"type\":\"table\"}]},\"layout\":{\"annotationdefaults\":{\"arrowcolor\":\"#2a3f5f\",\"arrowhead\":0,\"arrowwidth\":1},\"autotypenumbers\":\"strict\",\"coloraxis\":{\"colorbar\":{\"outlinewidth\":0,\"ticks\":\"\"}},\"colorscale\":{\"diverging\":[[0,\"#8e0152\"],[0.1,\"#c51b7d\"],[0.2,\"#de77ae\"],[0.3,\"#f1b6da\"],[0.4,\"#fde0ef\"],[0.5,\"#f7f7f7\"],[0.6,\"#e6f5d0\"],[0.7,\"#b8e186\"],[0.8,\"#7fbc41\"],[0.9,\"#4d9221\"],[1,\"#276419\"]],\"sequential\":[[0.0,\"#0d0887\"],[0.1111111111111111,\"#46039f\"],[0.2222222222222222,\"#7201a8\"],[0.3333333333333333,\"#9c179e\"],[0.4444444444444444,\"#bd3786\"],[0.5555555555555556,\"#d8576b\"],[0.6666666666666666,\"#ed7953\"],[0.7777777777777778,\"#fb9f3a\"],[0.8888888888888888,\"#fdca26\"],[1.0,\"#f0f921\"]],\"sequentialminus\":[[0.0,\"#0d0887\"],[0.1111111111111111,\"#46039f\"],[0.2222222222222222,\"#7201a8\"],[0.3333333333333333,\"#9c179e\"],[0.4444444444444444,\"#bd3786\"],[0.5555555555555556,\"#d8576b\"],[0.6666666666666666,\"#ed7953\"],[0.7777777777777778,\"#fb9f3a\"],[0.8888888888888888,\"#fdca26\"],[1.0,\"#f0f921\"]]},\"colorway\":[\"#636efa\",\"#EF553B\",\"#00cc96\",\"#ab63fa\",\"#FFA15A\",\"#19d3f3\",\"#FF6692\",\"#B6E880\",\"#FF97FF\",\"#FECB52\"],\"font\":{\"color\":\"#2a3f5f\"},\"geo\":{\"bgcolor\":\"white\",\"lakecolor\":\"white\",\"landcolor\":\"#E5ECF6\",\"showlakes\":true,\"showland\":true,\"subunitcolor\":\"white\"},\"hoverlabel\":{\"align\":\"left\"},\"hovermode\":\"closest\",\"mapbox\":{\"style\":\"light\"},\"paper_bgcolor\":\"white\",\"plot_bgcolor\":\"#E5ECF6\",\"polar\":{\"angularaxis\":{\"gridcolor\":\"white\",\"linecolor\":\"white\",\"ticks\":\"\"},\"bgcolor\":\"#E5ECF6\",\"radialaxis\":{\"gridcolor\":\"white\",\"linecolor\":\"white\",\"ticks\":\"\"}},\"scene\":{\"xaxis\":{\"backgroundcolor\":\"#E5ECF6\",\"gridcolor\":\"white\",\"gridwidth\":2,\"linecolor\":\"white\",\"showbackground\":true,\"ticks\":\"\",\"zerolinecolor\":\"white\"},\"yaxis\":{\"backgroundcolor\":\"#E5ECF6\",\"gridcolor\":\"white\",\"gridwidth\":2,\"linecolor\":\"white\",\"showbackground\":true,\"ticks\":\"\",\"zerolinecolor\":\"white\"},\"zaxis\":{\"backgroundcolor\":\"#E5ECF6\",\"gridcolor\":\"white\",\"gridwidth\":2,\"linecolor\":\"white\",\"showbackground\":true,\"ticks\":\"\",\"zerolinecolor\":\"white\"}},\"shapedefaults\":{\"line\":{\"color\":\"#2a3f5f\"}},\"ternary\":{\"aaxis\":{\"gridcolor\":\"white\",\"linecolor\":\"white\",\"ticks\":\"\"},\"baxis\":{\"gridcolor\":\"white\",\"linecolor\":\"white\",\"ticks\":\"\"},\"bgcolor\":\"#E5ECF6\",\"caxis\":{\"gridcolor\":\"white\",\"linecolor\":\"white\",\"ticks\":\"\"}},\"title\":{\"x\":0.05},\"xaxis\":{\"automargin\":true,\"gridcolor\":\"white\",\"linecolor\":\"white\",\"ticks\":\"\",\"title\":{\"standoff\":15},\"zerolinecolor\":\"white\",\"zerolinewidth\":2},\"yaxis\":{\"automargin\":true,\"gridcolor\":\"white\",\"linecolor\":\"white\",\"ticks\":\"\",\"title\":{\"standoff\":15},\"zerolinecolor\":\"white\",\"zerolinewidth\":2}}},\"xaxis\":{\"anchor\":\"y\",\"domain\":[0.0,1.0],\"title\":{\"text\":\"x\"}},\"yaxis\":{\"anchor\":\"x\",\"domain\":[0.0,1.0],\"title\":{\"text\":\"count\"}},\"legend\":{\"tracegroupgap\":0},\"margin\":{\"t\":60},\"barmode\":\"relative\"},                        {\"responsive\": true}                    ).then(function(){\n",
       "                            \n",
       "var gd = document.getElementById('d27f59ae-90d6-4f8e-8e12-5555e8f86625');\n",
       "var x = new MutationObserver(function (mutations, observer) {{\n",
       "        var display = window.getComputedStyle(gd).display;\n",
       "        if (!display || display === 'none') {{\n",
       "            console.log([gd, 'removed!']);\n",
       "            Plotly.purge(gd);\n",
       "            observer.disconnect();\n",
       "        }}\n",
       "}});\n",
       "\n",
       "// Listen for the removal of the full notebook cells\n",
       "var notebookContainer = gd.closest('#notebook-container');\n",
       "if (notebookContainer) {{\n",
       "    x.observe(notebookContainer, {childList: true});\n",
       "}}\n",
       "\n",
       "// Listen for the clearing of the current output cell\n",
       "var outputEl = gd.closest('.output');\n",
       "if (outputEl) {{\n",
       "    x.observe(outputEl, {childList: true});\n",
       "}}\n",
       "\n",
       "                        })                };                });            </script>        </div>"
      ]
     },
     "metadata": {},
     "output_type": "display_data"
    }
   ],
   "source": [
    "bedrooms = px.histogram(\n",
    "    x=df[\"land_size\"],\n",
    ")\n",
    "\n",
    "bedrooms.show()"
   ]
  },
  {
   "cell_type": "code",
   "execution_count": 81,
   "id": "c74578ee",
   "metadata": {},
   "outputs": [
    {
     "data": {
      "application/vnd.plotly.v1+json": {
       "config": {
        "plotlyServerURL": "https://plot.ly"
       },
       "data": [
        {
         "alignmentgroup": "True",
         "bingroup": "x",
         "hovertemplate": "x=%{x}<br>count=%{y}<extra></extra>",
         "legendgroup": "",
         "marker": {
          "color": "#636efa",
          "pattern": {
           "shape": ""
          }
         },
         "name": "",
         "offsetgroup": "",
         "orientation": "v",
         "showlegend": false,
         "type": "histogram",
         "x": [
          "2022-05-20T00:00:00",
          "2022-05-17T00:00:00",
          "2022-05-14T00:00:00",
          "2022-05-08T00:00:00",
          "2022-05-07T00:00:00",
          "2022-04-29T00:00:00",
          "2022-04-14T00:00:00",
          "2022-04-11T00:00:00",
          "2022-04-09T00:00:00",
          "2022-04-09T00:00:00",
          "2022-04-09T00:00:00",
          "2022-04-02T00:00:00",
          "2022-03-26T00:00:00",
          "2022-03-26T00:00:00",
          "2022-03-18T00:00:00",
          "2022-03-17T00:00:00",
          "2022-03-05T00:00:00",
          "2022-03-03T00:00:00",
          "2022-02-26T00:00:00",
          "2022-02-26T00:00:00",
          "2022-02-05T00:00:00",
          "2022-02-04T00:00:00",
          "2021-12-17T00:00:00",
          "2021-12-11T00:00:00",
          "2021-12-08T00:00:00",
          "2021-11-30T00:00:00",
          "2021-11-29T00:00:00",
          "2021-11-27T00:00:00",
          "2021-11-26T00:00:00",
          "2021-11-17T00:00:00",
          "2021-11-11T00:00:00",
          "2021-11-05T00:00:00",
          "2021-11-04T00:00:00",
          "2021-11-03T00:00:00",
          "2021-10-28T00:00:00",
          "2021-10-27T00:00:00",
          "2021-10-22T00:00:00",
          "2021-10-15T00:00:00",
          "2021-10-13T00:00:00",
          "2021-09-13T00:00:00",
          "2021-08-30T00:00:00",
          "2021-08-27T00:00:00",
          "2021-08-07T00:00:00",
          "2021-08-03T00:00:00",
          "2021-07-30T00:00:00",
          "2021-07-27T00:00:00",
          "2021-07-24T00:00:00",
          "2021-07-15T00:00:00",
          "2021-07-01T00:00:00",
          "2021-07-01T00:00:00",
          "2021-07-01T00:00:00",
          "2021-07-01T00:00:00",
          "2021-06-29T00:00:00",
          "2021-06-26T00:00:00",
          "2021-06-26T00:00:00",
          "2021-06-16T00:00:00",
          "2021-06-12T00:00:00",
          "2021-06-09T00:00:00",
          "2021-05-29T00:00:00",
          "2021-05-22T00:00:00",
          "2021-05-15T00:00:00",
          "2021-05-08T00:00:00",
          "2021-04-24T00:00:00",
          "2021-04-03T00:00:00",
          "2021-03-20T00:00:00",
          "2021-03-19T00:00:00",
          "2021-03-18T00:00:00",
          "2021-03-15T00:00:00",
          "2021-03-13T00:00:00",
          "2021-03-13T00:00:00",
          "2021-03-11T00:00:00",
          "2021-02-27T00:00:00",
          "2021-02-20T00:00:00",
          "2021-02-13T00:00:00",
          "2021-02-08T00:00:00",
          "2021-02-06T00:00:00",
          "2021-01-21T00:00:00",
          "2020-12-19T00:00:00",
          "2020-12-12T00:00:00",
          "2020-12-08T00:00:00",
          "2020-12-05T00:00:00",
          "2020-12-02T00:00:00",
          "2020-11-18T00:00:00",
          "2020-11-17T00:00:00",
          "2020-11-16T00:00:00",
          "2020-11-08T00:00:00",
          "2020-11-07T00:00:00",
          "2020-11-03T00:00:00",
          "2020-10-25T00:00:00",
          "2020-10-24T00:00:00",
          "2020-10-17T00:00:00",
          "2020-10-17T00:00:00",
          "2020-10-17T00:00:00",
          "2020-10-14T00:00:00",
          "2020-10-13T00:00:00",
          "2020-10-10T00:00:00",
          "2020-10-06T00:00:00",
          "2020-10-03T00:00:00",
          "2020-09-20T00:00:00",
          "2020-09-18T00:00:00",
          "2020-09-14T00:00:00",
          "2020-09-05T00:00:00",
          "2020-08-29T00:00:00",
          "2020-07-25T00:00:00",
          "2020-07-11T00:00:00",
          "2020-06-20T00:00:00",
          "2020-06-10T00:00:00",
          "2020-05-30T00:00:00",
          "2020-05-23T00:00:00",
          "2020-05-22T00:00:00",
          "2020-05-02T00:00:00",
          "2020-04-29T00:00:00",
          "2020-03-19T00:00:00",
          "2020-03-10T00:00:00",
          "2020-03-07T00:00:00",
          "2020-03-07T00:00:00",
          "2020-02-22T00:00:00",
          "2020-02-17T00:00:00",
          "2020-02-15T00:00:00",
          "2020-02-10T00:00:00",
          "2020-01-06T00:00:00",
          "2019-12-14T00:00:00",
          "2019-12-10T00:00:00",
          "2019-12-07T00:00:00",
          "2019-12-03T00:00:00",
          "2019-11-30T00:00:00",
          "2019-11-30T00:00:00",
          "2019-11-30T00:00:00",
          "2019-11-16T00:00:00",
          "2019-11-13T00:00:00",
          "2019-11-09T00:00:00",
          "2019-10-28T00:00:00",
          "2019-10-05T00:00:00",
          "2019-09-28T00:00:00",
          "2019-09-06T00:00:00",
          "2019-09-06T00:00:00",
          "2019-09-03T00:00:00",
          "2019-08-24T00:00:00",
          "2019-08-23T00:00:00",
          "2019-08-01T00:00:00",
          "2019-07-31T00:00:00",
          "2019-07-27T00:00:00",
          "2019-07-26T00:00:00",
          "2019-07-20T00:00:00",
          "2019-07-13T00:00:00",
          "2019-07-12T00:00:00",
          "2019-06-21T00:00:00",
          "2019-06-04T00:00:00",
          "2019-05-20T00:00:00",
          "2019-05-01T00:00:00",
          "2019-04-18T00:00:00",
          "2019-04-04T00:00:00",
          "2019-03-25T00:00:00",
          "2019-03-22T00:00:00",
          "2019-03-20T00:00:00",
          "2019-03-07T00:00:00",
          "2019-02-19T00:00:00",
          "2019-02-11T00:00:00",
          "2019-01-21T00:00:00",
          "2019-01-09T00:00:00",
          "2019-01-07T00:00:00",
          "2018-12-05T00:00:00",
          "2018-11-30T00:00:00",
          "2018-11-16T00:00:00",
          "2018-11-10T00:00:00",
          "2018-11-05T00:00:00",
          "2018-11-03T00:00:00",
          "2018-10-29T00:00:00",
          "2018-10-27T00:00:00",
          "2018-10-25T00:00:00",
          "2018-10-18T00:00:00",
          "2018-09-28T00:00:00",
          "2018-09-21T00:00:00",
          "2018-09-08T00:00:00",
          "2018-08-02T00:00:00",
          "2018-07-28T00:00:00",
          "2018-07-07T00:00:00",
          "2018-06-25T00:00:00",
          "2018-06-19T00:00:00",
          "2018-05-26T00:00:00",
          "2018-05-26T00:00:00",
          "2018-05-12T00:00:00",
          "2018-05-01T00:00:00",
          "2018-04-28T00:00:00",
          "2018-04-28T00:00:00",
          "2018-04-06T00:00:00",
          "2018-03-31T00:00:00",
          "2018-03-27T00:00:00",
          "2018-03-24T00:00:00",
          "2018-03-20T00:00:00",
          "2018-03-15T00:00:00",
          "2018-03-10T00:00:00",
          "2018-02-24T00:00:00",
          "2018-02-24T00:00:00",
          "2018-02-05T00:00:00",
          "2018-02-03T00:00:00",
          "2018-01-28T00:00:00",
          "2017-12-21T00:00:00",
          "2017-12-16T00:00:00",
          "2017-12-05T00:00:00",
          "2017-12-02T00:00:00",
          "2017-12-02T00:00:00",
          "2017-11-25T00:00:00",
          "2017-11-18T00:00:00",
          "2017-11-17T00:00:00",
          "2017-11-11T00:00:00",
          "2017-10-31T00:00:00",
          "2017-10-28T00:00:00",
          "2017-10-26T00:00:00",
          "2017-10-20T00:00:00",
          "2017-10-17T00:00:00",
          "2017-09-23T00:00:00",
          "2017-09-04T00:00:00",
          "2017-09-02T00:00:00",
          "2017-09-02T00:00:00",
          "2017-08-12T00:00:00",
          "2017-08-05T00:00:00",
          "2017-07-22T00:00:00",
          "2017-07-22T00:00:00",
          "2017-07-08T00:00:00",
          "2017-07-07T00:00:00",
          "2017-05-27T00:00:00",
          "2017-05-18T00:00:00",
          "2017-05-15T00:00:00",
          "2017-05-12T00:00:00",
          "2017-04-29T00:00:00",
          "2017-04-29T00:00:00",
          "2017-04-06T00:00:00",
          "2017-04-01T00:00:00",
          "2017-03-28T00:00:00",
          "2017-03-25T00:00:00",
          "2017-03-25T00:00:00",
          "2017-02-24T00:00:00",
          "2017-02-23T00:00:00",
          "2017-02-18T00:00:00",
          "2017-02-14T00:00:00",
          "2017-02-13T00:00:00",
          "2017-02-11T00:00:00",
          "2017-02-08T00:00:00",
          "2017-02-06T00:00:00",
          "2017-02-04T00:00:00",
          "2016-12-10T00:00:00",
          "2016-12-10T00:00:00",
          "2016-12-05T00:00:00",
          "2016-11-21T00:00:00",
          "2016-11-07T00:00:00",
          "2016-11-04T00:00:00",
          "2016-11-02T00:00:00",
          "2016-11-02T00:00:00",
          "2016-10-18T00:00:00",
          "2016-10-14T00:00:00",
          "2016-10-06T00:00:00",
          "2016-09-10T00:00:00",
          "2016-09-05T00:00:00",
          "2016-08-16T00:00:00",
          "2016-08-02T00:00:00",
          "2016-07-16T00:00:00",
          "2016-07-09T00:00:00",
          "2016-07-02T00:00:00",
          "2016-06-25T00:00:00",
          "2016-06-25T00:00:00",
          "2016-06-20T00:00:00",
          "2016-06-20T00:00:00",
          "2016-06-10T00:00:00",
          "2016-06-10T00:00:00",
          "2016-06-04T00:00:00",
          "2016-05-21T00:00:00",
          "2016-05-14T00:00:00",
          "2016-05-11T00:00:00",
          "2016-04-28T00:00:00",
          "2016-04-18T00:00:00",
          "2016-04-09T00:00:00",
          "2016-03-21T00:00:00",
          "2016-03-13T00:00:00",
          "2016-03-12T00:00:00",
          "2016-03-12T00:00:00",
          "2016-03-10T00:00:00",
          "2016-03-07T00:00:00",
          "2016-03-03T00:00:00",
          "2016-02-25T00:00:00",
          "2016-02-22T00:00:00",
          "2016-02-19T00:00:00",
          "2016-02-17T00:00:00",
          "2016-02-06T00:00:00",
          "2016-02-05T00:00:00",
          "2016-02-04T00:00:00",
          "2016-02-01T00:00:00",
          "2016-01-30T00:00:00",
          "2016-01-28T00:00:00",
          "2016-01-22T00:00:00",
          "2015-12-24T00:00:00",
          "2015-12-12T00:00:00",
          "2015-12-07T00:00:00",
          "2015-12-02T00:00:00",
          "2015-11-27T00:00:00",
          "2015-11-21T00:00:00",
          "2015-11-20T00:00:00",
          "2015-11-15T00:00:00",
          "2015-11-12T00:00:00",
          "2015-11-02T00:00:00",
          "2015-10-26T00:00:00",
          "2015-10-14T00:00:00",
          "2015-09-26T00:00:00",
          "2015-09-21T00:00:00",
          "2015-09-19T00:00:00",
          "2015-08-29T00:00:00",
          "2015-08-17T00:00:00",
          "2015-08-15T00:00:00",
          "2015-08-08T00:00:00",
          "2015-08-03T00:00:00",
          "2015-07-11T00:00:00",
          "2015-06-29T00:00:00",
          "2015-05-09T00:00:00",
          "2015-04-27T00:00:00",
          "2015-03-14T00:00:00",
          "2015-02-28T00:00:00",
          "2014-12-11T00:00:00",
          "2014-11-26T00:00:00",
          "2014-11-22T00:00:00",
          "2014-11-15T00:00:00",
          "2014-07-02T00:00:00",
          "2014-06-14T00:00:00",
          "2014-05-31T00:00:00",
          "2014-04-16T00:00:00",
          "2014-03-14T00:00:00",
          "2014-03-06T00:00:00",
          "2014-02-22T00:00:00",
          "2013-12-21T00:00:00",
          "2013-11-27T00:00:00",
          "2013-09-11T00:00:00",
          "2012-11-21T00:00:00",
          "2021-12-22T00:00:00",
          "2021-12-17T00:00:00",
          "2021-11-29T00:00:00",
          "2021-11-26T00:00:00",
          "2021-10-14T00:00:00",
          "2021-08-25T00:00:00",
          "2021-07-30T00:00:00",
          "2021-02-22T00:00:00",
          "2021-01-15T00:00:00",
          "2021-01-15T00:00:00",
          "2020-12-09T00:00:00",
          "2020-12-08T00:00:00",
          "2020-11-27T00:00:00",
          "2020-11-26T00:00:00",
          "2020-11-04T00:00:00",
          "2020-10-14T00:00:00",
          "2020-08-07T00:00:00",
          "2020-08-04T00:00:00",
          "2019-12-13T00:00:00",
          "2019-11-15T00:00:00",
          "2019-10-04T00:00:00",
          "2019-09-13T00:00:00",
          "2019-07-31T00:00:00",
          "2019-07-31T00:00:00",
          "2019-07-11T00:00:00",
          "2019-06-13T00:00:00",
          "2019-02-08T00:00:00",
          "2018-07-20T00:00:00",
          "2018-06-08T00:00:00",
          "2018-06-07T00:00:00",
          "2018-04-21T00:00:00",
          "2017-12-05T00:00:00",
          "2017-05-08T00:00:00",
          "2017-05-04T00:00:00",
          "2017-03-06T00:00:00",
          "2017-02-23T00:00:00",
          "2016-10-14T00:00:00",
          "2016-09-10T00:00:00",
          "2016-07-11T00:00:00",
          "2016-06-25T00:00:00",
          "2016-04-28T00:00:00",
          "2016-03-26T00:00:00",
          "2016-02-12T00:00:00",
          "2015-11-23T00:00:00",
          "2015-10-19T00:00:00",
          "2015-10-09T00:00:00",
          "2015-09-19T00:00:00",
          "2015-07-31T00:00:00",
          "2015-07-24T00:00:00",
          "2015-07-18T00:00:00",
          "2015-07-18T00:00:00",
          "2015-07-11T00:00:00",
          "2015-07-11T00:00:00",
          "2015-06-23T00:00:00",
          "2015-06-20T00:00:00",
          "2015-06-14T00:00:00",
          "2015-06-13T00:00:00",
          "2015-05-25T00:00:00",
          "2015-05-20T00:00:00",
          "2015-05-08T00:00:00",
          "2015-05-04T00:00:00",
          "2015-05-02T00:00:00",
          "2015-04-18T00:00:00",
          "2015-04-15T00:00:00",
          "2015-04-14T00:00:00",
          "2015-03-30T00:00:00",
          "2015-03-17T00:00:00",
          "2015-03-14T00:00:00",
          "2015-03-07T00:00:00",
          "2015-03-07T00:00:00",
          "2015-03-07T00:00:00",
          "2015-03-06T00:00:00",
          "2015-03-03T00:00:00",
          "2015-02-07T00:00:00",
          "2015-02-05T00:00:00",
          "2014-12-22T00:00:00",
          "2014-12-10T00:00:00",
          "2014-12-08T00:00:00",
          "2014-12-04T00:00:00",
          "2014-11-29T00:00:00",
          "2014-11-26T00:00:00",
          "2014-11-22T00:00:00",
          "2014-11-17T00:00:00",
          "2014-11-15T00:00:00",
          "2014-11-15T00:00:00",
          "2014-11-12T00:00:00",
          "2014-11-07T00:00:00",
          "2014-10-29T00:00:00",
          "2014-10-14T00:00:00",
          "2014-09-06T00:00:00",
          "2014-09-03T00:00:00",
          "2014-08-22T00:00:00",
          "2014-08-07T00:00:00",
          "2014-08-02T00:00:00",
          "2014-07-22T00:00:00",
          "2014-07-07T00:00:00",
          "2014-07-03T00:00:00",
          "2014-06-27T00:00:00",
          "2014-06-14T00:00:00",
          "2014-06-14T00:00:00",
          "2014-06-08T00:00:00",
          "2014-06-04T00:00:00",
          "2014-06-04T00:00:00",
          "2014-05-31T00:00:00",
          "2014-05-31T00:00:00",
          "2014-05-24T00:00:00",
          "2014-05-22T00:00:00",
          "2014-05-02T00:00:00",
          "2014-04-14T00:00:00",
          "2014-04-08T00:00:00",
          "2014-04-05T00:00:00",
          "2014-03-31T00:00:00",
          "2014-03-11T00:00:00",
          "2014-03-05T00:00:00",
          "2014-03-03T00:00:00",
          "2014-02-19T00:00:00",
          "2014-02-19T00:00:00",
          "2014-02-15T00:00:00",
          "2014-02-08T00:00:00",
          "2013-12-20T00:00:00",
          "2013-12-09T00:00:00",
          "2013-12-03T00:00:00",
          "2013-11-28T00:00:00",
          "2013-11-25T00:00:00",
          "2013-11-21T00:00:00",
          "2013-11-14T00:00:00",
          "2013-09-28T00:00:00",
          "2013-09-26T00:00:00",
          "2013-09-14T00:00:00",
          "2013-09-11T00:00:00",
          "2013-09-10T00:00:00",
          "2013-09-07T00:00:00",
          "2013-08-28T00:00:00",
          "2013-08-24T00:00:00",
          "2013-08-03T00:00:00",
          "2013-08-02T00:00:00",
          "2013-07-31T00:00:00",
          "2013-07-27T00:00:00",
          "2013-07-22T00:00:00",
          "2013-07-13T00:00:00",
          "2013-07-06T00:00:00",
          "2013-07-05T00:00:00",
          "2013-06-29T00:00:00",
          "2013-06-29T00:00:00",
          "2013-06-28T00:00:00",
          "2013-06-28T00:00:00",
          "2013-06-22T00:00:00",
          "2013-06-15T00:00:00",
          "2013-06-12T00:00:00",
          "2013-05-30T00:00:00",
          "2013-04-26T00:00:00",
          "2013-04-19T00:00:00",
          "2013-04-15T00:00:00",
          "2013-04-13T00:00:00",
          "2013-04-12T00:00:00",
          "2013-04-05T00:00:00",
          "2013-04-03T00:00:00",
          "2013-03-27T00:00:00",
          "2013-03-18T00:00:00",
          "2013-03-09T00:00:00",
          "2013-02-28T00:00:00",
          "2013-02-01T00:00:00",
          "2013-01-09T00:00:00",
          "2012-12-15T00:00:00",
          "2012-12-06T00:00:00",
          "2012-11-19T00:00:00",
          "2012-11-16T00:00:00",
          "2012-11-14T00:00:00",
          "2012-11-13T00:00:00",
          "2012-11-12T00:00:00",
          "2012-10-31T00:00:00",
          "2012-10-30T00:00:00",
          "2012-10-26T00:00:00",
          "2012-10-16T00:00:00",
          "2012-10-06T00:00:00",
          "2012-10-04T00:00:00",
          "2012-09-28T00:00:00",
          "2012-09-26T00:00:00",
          "2012-09-22T00:00:00",
          "2012-09-15T00:00:00",
          "2012-08-22T00:00:00",
          "2012-08-21T00:00:00",
          "2012-08-07T00:00:00",
          "2012-08-04T00:00:00",
          "2012-07-28T00:00:00",
          "2012-07-21T00:00:00",
          "2012-07-03T00:00:00",
          "2012-06-27T00:00:00",
          "2012-06-01T00:00:00",
          "2012-05-18T00:00:00",
          "2012-05-11T00:00:00",
          "2012-05-05T00:00:00",
          "2012-04-16T00:00:00",
          "2012-04-13T00:00:00",
          "2012-03-31T00:00:00",
          "2012-03-30T00:00:00",
          "2012-03-16T00:00:00",
          "2012-02-25T00:00:00",
          "2012-02-20T00:00:00",
          "2012-02-10T00:00:00",
          "2011-12-22T00:00:00",
          "2011-12-20T00:00:00",
          "2011-12-13T00:00:00",
          "2011-12-06T00:00:00",
          "2011-11-10T00:00:00",
          "2011-09-14T00:00:00",
          "2011-07-05T00:00:00",
          "2011-07-02T00:00:00",
          "2011-06-10T00:00:00",
          "2011-06-03T00:00:00",
          "2011-05-17T00:00:00",
          "2011-05-14T00:00:00",
          "2011-05-13T00:00:00",
          "2011-05-03T00:00:00",
          "2011-03-25T00:00:00",
          "2011-02-09T00:00:00",
          "2011-01-14T00:00:00",
          "2010-11-02T00:00:00",
          "2010-10-19T00:00:00",
          "2010-09-12T00:00:00",
          "2010-08-23T00:00:00",
          "2010-07-29T00:00:00",
          "2010-07-08T00:00:00",
          "2010-06-21T00:00:00",
          "2010-05-15T00:00:00",
          "2010-02-12T00:00:00",
          "2010-02-08T00:00:00",
          "2010-02-08T00:00:00",
          "2009-12-19T00:00:00",
          "2009-12-19T00:00:00",
          "2009-10-26T00:00:00",
          "2009-10-23T00:00:00",
          "2009-10-23T00:00:00",
          "2009-09-08T00:00:00",
          "2009-09-05T00:00:00",
          "2009-07-09T00:00:00",
          "2009-06-19T00:00:00",
          "2009-03-16T00:00:00",
          "2009-03-08T00:00:00",
          "2009-01-30T00:00:00",
          "2008-12-13T00:00:00",
          "2008-08-04T00:00:00",
          "2008-08-02T00:00:00",
          "2008-07-16T00:00:00",
          "2008-07-16T00:00:00",
          "2008-07-03T00:00:00",
          "2008-05-12T00:00:00",
          "2008-04-09T00:00:00",
          "2008-04-09T00:00:00",
          "2008-04-09T00:00:00",
          "2007-12-08T00:00:00",
          "2005-10-13T00:00:00",
          "2011-08-23T00:00:00",
          "2011-03-17T00:00:00",
          "2010-02-15T00:00:00",
          "2009-10-03T00:00:00",
          "2009-03-20T00:00:00",
          "2022-04-19T00:00:00",
          "2022-04-14T00:00:00",
          "2022-04-09T00:00:00",
          "2022-04-09T00:00:00",
          "2022-03-08T00:00:00",
          "2022-03-04T00:00:00",
          "2022-02-01T00:00:00",
          "2022-01-27T00:00:00",
          "2022-01-25T00:00:00",
          "2022-01-17T00:00:00",
          "2021-12-18T00:00:00",
          "2021-11-29T00:00:00",
          "2021-11-25T00:00:00",
          "2021-10-26T00:00:00",
          "2021-10-23T00:00:00",
          "2021-10-20T00:00:00",
          "2021-10-19T00:00:00",
          "2021-10-05T00:00:00",
          "2021-08-17T00:00:00",
          "2021-08-12T00:00:00",
          "2021-07-23T00:00:00",
          "2021-07-20T00:00:00",
          "2021-07-05T00:00:00",
          "2021-06-04T00:00:00",
          "2021-06-03T00:00:00",
          "2021-05-29T00:00:00",
          "2021-04-30T00:00:00",
          "2021-04-09T00:00:00",
          "2021-02-08T00:00:00",
          "2021-01-20T00:00:00",
          "2020-12-01T00:00:00",
          "2020-11-23T00:00:00",
          "2020-11-12T00:00:00",
          "2020-10-28T00:00:00",
          "2020-10-07T00:00:00",
          "2020-09-10T00:00:00",
          "2020-05-08T00:00:00",
          "2020-03-14T00:00:00",
          "2020-02-14T00:00:00",
          "2019-11-28T00:00:00",
          "2019-11-19T00:00:00",
          "2019-09-27T00:00:00",
          "2019-07-15T00:00:00",
          "2019-07-10T00:00:00",
          "2019-06-07T00:00:00",
          "2019-05-07T00:00:00",
          "2019-03-26T00:00:00",
          "2018-12-08T00:00:00",
          "2018-12-08T00:00:00",
          "2018-12-06T00:00:00",
          "2018-10-26T00:00:00",
          "2018-09-03T00:00:00",
          "2018-07-28T00:00:00",
          "2018-06-22T00:00:00",
          "2018-02-28T00:00:00",
          "2018-02-17T00:00:00",
          "2018-02-02T00:00:00",
          "2017-11-11T00:00:00",
          "2017-10-31T00:00:00",
          "2017-10-05T00:00:00",
          "2017-07-12T00:00:00",
          "2016-12-22T00:00:00",
          "2016-12-12T00:00:00",
          "2016-11-03T00:00:00",
          "2016-10-27T00:00:00",
          "2016-08-15T00:00:00",
          "2016-08-03T00:00:00",
          "2016-06-09T00:00:00",
          "2016-04-27T00:00:00",
          "2016-02-22T00:00:00"
         ],
         "xaxis": "x",
         "yaxis": "y"
        }
       ],
       "layout": {
        "barmode": "relative",
        "legend": {
         "tracegroupgap": 0
        },
        "margin": {
         "t": 60
        },
        "template": {
         "data": {
          "bar": [
           {
            "error_x": {
             "color": "#2a3f5f"
            },
            "error_y": {
             "color": "#2a3f5f"
            },
            "marker": {
             "line": {
              "color": "#E5ECF6",
              "width": 0.5
             },
             "pattern": {
              "fillmode": "overlay",
              "size": 10,
              "solidity": 0.2
             }
            },
            "type": "bar"
           }
          ],
          "barpolar": [
           {
            "marker": {
             "line": {
              "color": "#E5ECF6",
              "width": 0.5
             },
             "pattern": {
              "fillmode": "overlay",
              "size": 10,
              "solidity": 0.2
             }
            },
            "type": "barpolar"
           }
          ],
          "carpet": [
           {
            "aaxis": {
             "endlinecolor": "#2a3f5f",
             "gridcolor": "white",
             "linecolor": "white",
             "minorgridcolor": "white",
             "startlinecolor": "#2a3f5f"
            },
            "baxis": {
             "endlinecolor": "#2a3f5f",
             "gridcolor": "white",
             "linecolor": "white",
             "minorgridcolor": "white",
             "startlinecolor": "#2a3f5f"
            },
            "type": "carpet"
           }
          ],
          "choropleth": [
           {
            "colorbar": {
             "outlinewidth": 0,
             "ticks": ""
            },
            "type": "choropleth"
           }
          ],
          "contour": [
           {
            "colorbar": {
             "outlinewidth": 0,
             "ticks": ""
            },
            "colorscale": [
             [
              0,
              "#0d0887"
             ],
             [
              0.1111111111111111,
              "#46039f"
             ],
             [
              0.2222222222222222,
              "#7201a8"
             ],
             [
              0.3333333333333333,
              "#9c179e"
             ],
             [
              0.4444444444444444,
              "#bd3786"
             ],
             [
              0.5555555555555556,
              "#d8576b"
             ],
             [
              0.6666666666666666,
              "#ed7953"
             ],
             [
              0.7777777777777778,
              "#fb9f3a"
             ],
             [
              0.8888888888888888,
              "#fdca26"
             ],
             [
              1,
              "#f0f921"
             ]
            ],
            "type": "contour"
           }
          ],
          "contourcarpet": [
           {
            "colorbar": {
             "outlinewidth": 0,
             "ticks": ""
            },
            "type": "contourcarpet"
           }
          ],
          "heatmap": [
           {
            "colorbar": {
             "outlinewidth": 0,
             "ticks": ""
            },
            "colorscale": [
             [
              0,
              "#0d0887"
             ],
             [
              0.1111111111111111,
              "#46039f"
             ],
             [
              0.2222222222222222,
              "#7201a8"
             ],
             [
              0.3333333333333333,
              "#9c179e"
             ],
             [
              0.4444444444444444,
              "#bd3786"
             ],
             [
              0.5555555555555556,
              "#d8576b"
             ],
             [
              0.6666666666666666,
              "#ed7953"
             ],
             [
              0.7777777777777778,
              "#fb9f3a"
             ],
             [
              0.8888888888888888,
              "#fdca26"
             ],
             [
              1,
              "#f0f921"
             ]
            ],
            "type": "heatmap"
           }
          ],
          "heatmapgl": [
           {
            "colorbar": {
             "outlinewidth": 0,
             "ticks": ""
            },
            "colorscale": [
             [
              0,
              "#0d0887"
             ],
             [
              0.1111111111111111,
              "#46039f"
             ],
             [
              0.2222222222222222,
              "#7201a8"
             ],
             [
              0.3333333333333333,
              "#9c179e"
             ],
             [
              0.4444444444444444,
              "#bd3786"
             ],
             [
              0.5555555555555556,
              "#d8576b"
             ],
             [
              0.6666666666666666,
              "#ed7953"
             ],
             [
              0.7777777777777778,
              "#fb9f3a"
             ],
             [
              0.8888888888888888,
              "#fdca26"
             ],
             [
              1,
              "#f0f921"
             ]
            ],
            "type": "heatmapgl"
           }
          ],
          "histogram": [
           {
            "marker": {
             "pattern": {
              "fillmode": "overlay",
              "size": 10,
              "solidity": 0.2
             }
            },
            "type": "histogram"
           }
          ],
          "histogram2d": [
           {
            "colorbar": {
             "outlinewidth": 0,
             "ticks": ""
            },
            "colorscale": [
             [
              0,
              "#0d0887"
             ],
             [
              0.1111111111111111,
              "#46039f"
             ],
             [
              0.2222222222222222,
              "#7201a8"
             ],
             [
              0.3333333333333333,
              "#9c179e"
             ],
             [
              0.4444444444444444,
              "#bd3786"
             ],
             [
              0.5555555555555556,
              "#d8576b"
             ],
             [
              0.6666666666666666,
              "#ed7953"
             ],
             [
              0.7777777777777778,
              "#fb9f3a"
             ],
             [
              0.8888888888888888,
              "#fdca26"
             ],
             [
              1,
              "#f0f921"
             ]
            ],
            "type": "histogram2d"
           }
          ],
          "histogram2dcontour": [
           {
            "colorbar": {
             "outlinewidth": 0,
             "ticks": ""
            },
            "colorscale": [
             [
              0,
              "#0d0887"
             ],
             [
              0.1111111111111111,
              "#46039f"
             ],
             [
              0.2222222222222222,
              "#7201a8"
             ],
             [
              0.3333333333333333,
              "#9c179e"
             ],
             [
              0.4444444444444444,
              "#bd3786"
             ],
             [
              0.5555555555555556,
              "#d8576b"
             ],
             [
              0.6666666666666666,
              "#ed7953"
             ],
             [
              0.7777777777777778,
              "#fb9f3a"
             ],
             [
              0.8888888888888888,
              "#fdca26"
             ],
             [
              1,
              "#f0f921"
             ]
            ],
            "type": "histogram2dcontour"
           }
          ],
          "mesh3d": [
           {
            "colorbar": {
             "outlinewidth": 0,
             "ticks": ""
            },
            "type": "mesh3d"
           }
          ],
          "parcoords": [
           {
            "line": {
             "colorbar": {
              "outlinewidth": 0,
              "ticks": ""
             }
            },
            "type": "parcoords"
           }
          ],
          "pie": [
           {
            "automargin": true,
            "type": "pie"
           }
          ],
          "scatter": [
           {
            "marker": {
             "colorbar": {
              "outlinewidth": 0,
              "ticks": ""
             }
            },
            "type": "scatter"
           }
          ],
          "scatter3d": [
           {
            "line": {
             "colorbar": {
              "outlinewidth": 0,
              "ticks": ""
             }
            },
            "marker": {
             "colorbar": {
              "outlinewidth": 0,
              "ticks": ""
             }
            },
            "type": "scatter3d"
           }
          ],
          "scattercarpet": [
           {
            "marker": {
             "colorbar": {
              "outlinewidth": 0,
              "ticks": ""
             }
            },
            "type": "scattercarpet"
           }
          ],
          "scattergeo": [
           {
            "marker": {
             "colorbar": {
              "outlinewidth": 0,
              "ticks": ""
             }
            },
            "type": "scattergeo"
           }
          ],
          "scattergl": [
           {
            "marker": {
             "colorbar": {
              "outlinewidth": 0,
              "ticks": ""
             }
            },
            "type": "scattergl"
           }
          ],
          "scattermapbox": [
           {
            "marker": {
             "colorbar": {
              "outlinewidth": 0,
              "ticks": ""
             }
            },
            "type": "scattermapbox"
           }
          ],
          "scatterpolar": [
           {
            "marker": {
             "colorbar": {
              "outlinewidth": 0,
              "ticks": ""
             }
            },
            "type": "scatterpolar"
           }
          ],
          "scatterpolargl": [
           {
            "marker": {
             "colorbar": {
              "outlinewidth": 0,
              "ticks": ""
             }
            },
            "type": "scatterpolargl"
           }
          ],
          "scatterternary": [
           {
            "marker": {
             "colorbar": {
              "outlinewidth": 0,
              "ticks": ""
             }
            },
            "type": "scatterternary"
           }
          ],
          "surface": [
           {
            "colorbar": {
             "outlinewidth": 0,
             "ticks": ""
            },
            "colorscale": [
             [
              0,
              "#0d0887"
             ],
             [
              0.1111111111111111,
              "#46039f"
             ],
             [
              0.2222222222222222,
              "#7201a8"
             ],
             [
              0.3333333333333333,
              "#9c179e"
             ],
             [
              0.4444444444444444,
              "#bd3786"
             ],
             [
              0.5555555555555556,
              "#d8576b"
             ],
             [
              0.6666666666666666,
              "#ed7953"
             ],
             [
              0.7777777777777778,
              "#fb9f3a"
             ],
             [
              0.8888888888888888,
              "#fdca26"
             ],
             [
              1,
              "#f0f921"
             ]
            ],
            "type": "surface"
           }
          ],
          "table": [
           {
            "cells": {
             "fill": {
              "color": "#EBF0F8"
             },
             "line": {
              "color": "white"
             }
            },
            "header": {
             "fill": {
              "color": "#C8D4E3"
             },
             "line": {
              "color": "white"
             }
            },
            "type": "table"
           }
          ]
         },
         "layout": {
          "annotationdefaults": {
           "arrowcolor": "#2a3f5f",
           "arrowhead": 0,
           "arrowwidth": 1
          },
          "autotypenumbers": "strict",
          "coloraxis": {
           "colorbar": {
            "outlinewidth": 0,
            "ticks": ""
           }
          },
          "colorscale": {
           "diverging": [
            [
             0,
             "#8e0152"
            ],
            [
             0.1,
             "#c51b7d"
            ],
            [
             0.2,
             "#de77ae"
            ],
            [
             0.3,
             "#f1b6da"
            ],
            [
             0.4,
             "#fde0ef"
            ],
            [
             0.5,
             "#f7f7f7"
            ],
            [
             0.6,
             "#e6f5d0"
            ],
            [
             0.7,
             "#b8e186"
            ],
            [
             0.8,
             "#7fbc41"
            ],
            [
             0.9,
             "#4d9221"
            ],
            [
             1,
             "#276419"
            ]
           ],
           "sequential": [
            [
             0,
             "#0d0887"
            ],
            [
             0.1111111111111111,
             "#46039f"
            ],
            [
             0.2222222222222222,
             "#7201a8"
            ],
            [
             0.3333333333333333,
             "#9c179e"
            ],
            [
             0.4444444444444444,
             "#bd3786"
            ],
            [
             0.5555555555555556,
             "#d8576b"
            ],
            [
             0.6666666666666666,
             "#ed7953"
            ],
            [
             0.7777777777777778,
             "#fb9f3a"
            ],
            [
             0.8888888888888888,
             "#fdca26"
            ],
            [
             1,
             "#f0f921"
            ]
           ],
           "sequentialminus": [
            [
             0,
             "#0d0887"
            ],
            [
             0.1111111111111111,
             "#46039f"
            ],
            [
             0.2222222222222222,
             "#7201a8"
            ],
            [
             0.3333333333333333,
             "#9c179e"
            ],
            [
             0.4444444444444444,
             "#bd3786"
            ],
            [
             0.5555555555555556,
             "#d8576b"
            ],
            [
             0.6666666666666666,
             "#ed7953"
            ],
            [
             0.7777777777777778,
             "#fb9f3a"
            ],
            [
             0.8888888888888888,
             "#fdca26"
            ],
            [
             1,
             "#f0f921"
            ]
           ]
          },
          "colorway": [
           "#636efa",
           "#EF553B",
           "#00cc96",
           "#ab63fa",
           "#FFA15A",
           "#19d3f3",
           "#FF6692",
           "#B6E880",
           "#FF97FF",
           "#FECB52"
          ],
          "font": {
           "color": "#2a3f5f"
          },
          "geo": {
           "bgcolor": "white",
           "lakecolor": "white",
           "landcolor": "#E5ECF6",
           "showlakes": true,
           "showland": true,
           "subunitcolor": "white"
          },
          "hoverlabel": {
           "align": "left"
          },
          "hovermode": "closest",
          "mapbox": {
           "style": "light"
          },
          "paper_bgcolor": "white",
          "plot_bgcolor": "#E5ECF6",
          "polar": {
           "angularaxis": {
            "gridcolor": "white",
            "linecolor": "white",
            "ticks": ""
           },
           "bgcolor": "#E5ECF6",
           "radialaxis": {
            "gridcolor": "white",
            "linecolor": "white",
            "ticks": ""
           }
          },
          "scene": {
           "xaxis": {
            "backgroundcolor": "#E5ECF6",
            "gridcolor": "white",
            "gridwidth": 2,
            "linecolor": "white",
            "showbackground": true,
            "ticks": "",
            "zerolinecolor": "white"
           },
           "yaxis": {
            "backgroundcolor": "#E5ECF6",
            "gridcolor": "white",
            "gridwidth": 2,
            "linecolor": "white",
            "showbackground": true,
            "ticks": "",
            "zerolinecolor": "white"
           },
           "zaxis": {
            "backgroundcolor": "#E5ECF6",
            "gridcolor": "white",
            "gridwidth": 2,
            "linecolor": "white",
            "showbackground": true,
            "ticks": "",
            "zerolinecolor": "white"
           }
          },
          "shapedefaults": {
           "line": {
            "color": "#2a3f5f"
           }
          },
          "ternary": {
           "aaxis": {
            "gridcolor": "white",
            "linecolor": "white",
            "ticks": ""
           },
           "baxis": {
            "gridcolor": "white",
            "linecolor": "white",
            "ticks": ""
           },
           "bgcolor": "#E5ECF6",
           "caxis": {
            "gridcolor": "white",
            "linecolor": "white",
            "ticks": ""
           }
          },
          "title": {
           "x": 0.05
          },
          "xaxis": {
           "automargin": true,
           "gridcolor": "white",
           "linecolor": "white",
           "ticks": "",
           "title": {
            "standoff": 15
           },
           "zerolinecolor": "white",
           "zerolinewidth": 2
          },
          "yaxis": {
           "automargin": true,
           "gridcolor": "white",
           "linecolor": "white",
           "ticks": "",
           "title": {
            "standoff": 15
           },
           "zerolinecolor": "white",
           "zerolinewidth": 2
          }
         }
        },
        "xaxis": {
         "anchor": "y",
         "domain": [
          0,
          1
         ],
         "title": {
          "text": "x"
         }
        },
        "yaxis": {
         "anchor": "x",
         "domain": [
          0,
          1
         ],
         "title": {
          "text": "count"
         }
        }
       }
      },
      "text/html": [
       "<div>                            <div id=\"c2908aca-4af4-4953-9e0f-286cc3a6689b\" class=\"plotly-graph-div\" style=\"height:525px; width:100%;\"></div>            <script type=\"text/javascript\">                require([\"plotly\"], function(Plotly) {                    window.PLOTLYENV=window.PLOTLYENV || {};                                    if (document.getElementById(\"c2908aca-4af4-4953-9e0f-286cc3a6689b\")) {                    Plotly.newPlot(                        \"c2908aca-4af4-4953-9e0f-286cc3a6689b\",                        [{\"alignmentgroup\":\"True\",\"bingroup\":\"x\",\"hovertemplate\":\"x=%{x}<br>count=%{y}<extra></extra>\",\"legendgroup\":\"\",\"marker\":{\"color\":\"#636efa\",\"pattern\":{\"shape\":\"\"}},\"name\":\"\",\"offsetgroup\":\"\",\"orientation\":\"v\",\"showlegend\":false,\"x\":[\"2022-05-20T00:00:00\",\"2022-05-17T00:00:00\",\"2022-05-14T00:00:00\",\"2022-05-08T00:00:00\",\"2022-05-07T00:00:00\",\"2022-04-29T00:00:00\",\"2022-04-14T00:00:00\",\"2022-04-11T00:00:00\",\"2022-04-09T00:00:00\",\"2022-04-09T00:00:00\",\"2022-04-09T00:00:00\",\"2022-04-02T00:00:00\",\"2022-03-26T00:00:00\",\"2022-03-26T00:00:00\",\"2022-03-18T00:00:00\",\"2022-03-17T00:00:00\",\"2022-03-05T00:00:00\",\"2022-03-03T00:00:00\",\"2022-02-26T00:00:00\",\"2022-02-26T00:00:00\",\"2022-02-05T00:00:00\",\"2022-02-04T00:00:00\",\"2021-12-17T00:00:00\",\"2021-12-11T00:00:00\",\"2021-12-08T00:00:00\",\"2021-11-30T00:00:00\",\"2021-11-29T00:00:00\",\"2021-11-27T00:00:00\",\"2021-11-26T00:00:00\",\"2021-11-17T00:00:00\",\"2021-11-11T00:00:00\",\"2021-11-05T00:00:00\",\"2021-11-04T00:00:00\",\"2021-11-03T00:00:00\",\"2021-10-28T00:00:00\",\"2021-10-27T00:00:00\",\"2021-10-22T00:00:00\",\"2021-10-15T00:00:00\",\"2021-10-13T00:00:00\",\"2021-09-13T00:00:00\",\"2021-08-30T00:00:00\",\"2021-08-27T00:00:00\",\"2021-08-07T00:00:00\",\"2021-08-03T00:00:00\",\"2021-07-30T00:00:00\",\"2021-07-27T00:00:00\",\"2021-07-24T00:00:00\",\"2021-07-15T00:00:00\",\"2021-07-01T00:00:00\",\"2021-07-01T00:00:00\",\"2021-07-01T00:00:00\",\"2021-07-01T00:00:00\",\"2021-06-29T00:00:00\",\"2021-06-26T00:00:00\",\"2021-06-26T00:00:00\",\"2021-06-16T00:00:00\",\"2021-06-12T00:00:00\",\"2021-06-09T00:00:00\",\"2021-05-29T00:00:00\",\"2021-05-22T00:00:00\",\"2021-05-15T00:00:00\",\"2021-05-08T00:00:00\",\"2021-04-24T00:00:00\",\"2021-04-03T00:00:00\",\"2021-03-20T00:00:00\",\"2021-03-19T00:00:00\",\"2021-03-18T00:00:00\",\"2021-03-15T00:00:00\",\"2021-03-13T00:00:00\",\"2021-03-13T00:00:00\",\"2021-03-11T00:00:00\",\"2021-02-27T00:00:00\",\"2021-02-20T00:00:00\",\"2021-02-13T00:00:00\",\"2021-02-08T00:00:00\",\"2021-02-06T00:00:00\",\"2021-01-21T00:00:00\",\"2020-12-19T00:00:00\",\"2020-12-12T00:00:00\",\"2020-12-08T00:00:00\",\"2020-12-05T00:00:00\",\"2020-12-02T00:00:00\",\"2020-11-18T00:00:00\",\"2020-11-17T00:00:00\",\"2020-11-16T00:00:00\",\"2020-11-08T00:00:00\",\"2020-11-07T00:00:00\",\"2020-11-03T00:00:00\",\"2020-10-25T00:00:00\",\"2020-10-24T00:00:00\",\"2020-10-17T00:00:00\",\"2020-10-17T00:00:00\",\"2020-10-17T00:00:00\",\"2020-10-14T00:00:00\",\"2020-10-13T00:00:00\",\"2020-10-10T00:00:00\",\"2020-10-06T00:00:00\",\"2020-10-03T00:00:00\",\"2020-09-20T00:00:00\",\"2020-09-18T00:00:00\",\"2020-09-14T00:00:00\",\"2020-09-05T00:00:00\",\"2020-08-29T00:00:00\",\"2020-07-25T00:00:00\",\"2020-07-11T00:00:00\",\"2020-06-20T00:00:00\",\"2020-06-10T00:00:00\",\"2020-05-30T00:00:00\",\"2020-05-23T00:00:00\",\"2020-05-22T00:00:00\",\"2020-05-02T00:00:00\",\"2020-04-29T00:00:00\",\"2020-03-19T00:00:00\",\"2020-03-10T00:00:00\",\"2020-03-07T00:00:00\",\"2020-03-07T00:00:00\",\"2020-02-22T00:00:00\",\"2020-02-17T00:00:00\",\"2020-02-15T00:00:00\",\"2020-02-10T00:00:00\",\"2020-01-06T00:00:00\",\"2019-12-14T00:00:00\",\"2019-12-10T00:00:00\",\"2019-12-07T00:00:00\",\"2019-12-03T00:00:00\",\"2019-11-30T00:00:00\",\"2019-11-30T00:00:00\",\"2019-11-30T00:00:00\",\"2019-11-16T00:00:00\",\"2019-11-13T00:00:00\",\"2019-11-09T00:00:00\",\"2019-10-28T00:00:00\",\"2019-10-05T00:00:00\",\"2019-09-28T00:00:00\",\"2019-09-06T00:00:00\",\"2019-09-06T00:00:00\",\"2019-09-03T00:00:00\",\"2019-08-24T00:00:00\",\"2019-08-23T00:00:00\",\"2019-08-01T00:00:00\",\"2019-07-31T00:00:00\",\"2019-07-27T00:00:00\",\"2019-07-26T00:00:00\",\"2019-07-20T00:00:00\",\"2019-07-13T00:00:00\",\"2019-07-12T00:00:00\",\"2019-06-21T00:00:00\",\"2019-06-04T00:00:00\",\"2019-05-20T00:00:00\",\"2019-05-01T00:00:00\",\"2019-04-18T00:00:00\",\"2019-04-04T00:00:00\",\"2019-03-25T00:00:00\",\"2019-03-22T00:00:00\",\"2019-03-20T00:00:00\",\"2019-03-07T00:00:00\",\"2019-02-19T00:00:00\",\"2019-02-11T00:00:00\",\"2019-01-21T00:00:00\",\"2019-01-09T00:00:00\",\"2019-01-07T00:00:00\",\"2018-12-05T00:00:00\",\"2018-11-30T00:00:00\",\"2018-11-16T00:00:00\",\"2018-11-10T00:00:00\",\"2018-11-05T00:00:00\",\"2018-11-03T00:00:00\",\"2018-10-29T00:00:00\",\"2018-10-27T00:00:00\",\"2018-10-25T00:00:00\",\"2018-10-18T00:00:00\",\"2018-09-28T00:00:00\",\"2018-09-21T00:00:00\",\"2018-09-08T00:00:00\",\"2018-08-02T00:00:00\",\"2018-07-28T00:00:00\",\"2018-07-07T00:00:00\",\"2018-06-25T00:00:00\",\"2018-06-19T00:00:00\",\"2018-05-26T00:00:00\",\"2018-05-26T00:00:00\",\"2018-05-12T00:00:00\",\"2018-05-01T00:00:00\",\"2018-04-28T00:00:00\",\"2018-04-28T00:00:00\",\"2018-04-06T00:00:00\",\"2018-03-31T00:00:00\",\"2018-03-27T00:00:00\",\"2018-03-24T00:00:00\",\"2018-03-20T00:00:00\",\"2018-03-15T00:00:00\",\"2018-03-10T00:00:00\",\"2018-02-24T00:00:00\",\"2018-02-24T00:00:00\",\"2018-02-05T00:00:00\",\"2018-02-03T00:00:00\",\"2018-01-28T00:00:00\",\"2017-12-21T00:00:00\",\"2017-12-16T00:00:00\",\"2017-12-05T00:00:00\",\"2017-12-02T00:00:00\",\"2017-12-02T00:00:00\",\"2017-11-25T00:00:00\",\"2017-11-18T00:00:00\",\"2017-11-17T00:00:00\",\"2017-11-11T00:00:00\",\"2017-10-31T00:00:00\",\"2017-10-28T00:00:00\",\"2017-10-26T00:00:00\",\"2017-10-20T00:00:00\",\"2017-10-17T00:00:00\",\"2017-09-23T00:00:00\",\"2017-09-04T00:00:00\",\"2017-09-02T00:00:00\",\"2017-09-02T00:00:00\",\"2017-08-12T00:00:00\",\"2017-08-05T00:00:00\",\"2017-07-22T00:00:00\",\"2017-07-22T00:00:00\",\"2017-07-08T00:00:00\",\"2017-07-07T00:00:00\",\"2017-05-27T00:00:00\",\"2017-05-18T00:00:00\",\"2017-05-15T00:00:00\",\"2017-05-12T00:00:00\",\"2017-04-29T00:00:00\",\"2017-04-29T00:00:00\",\"2017-04-06T00:00:00\",\"2017-04-01T00:00:00\",\"2017-03-28T00:00:00\",\"2017-03-25T00:00:00\",\"2017-03-25T00:00:00\",\"2017-02-24T00:00:00\",\"2017-02-23T00:00:00\",\"2017-02-18T00:00:00\",\"2017-02-14T00:00:00\",\"2017-02-13T00:00:00\",\"2017-02-11T00:00:00\",\"2017-02-08T00:00:00\",\"2017-02-06T00:00:00\",\"2017-02-04T00:00:00\",\"2016-12-10T00:00:00\",\"2016-12-10T00:00:00\",\"2016-12-05T00:00:00\",\"2016-11-21T00:00:00\",\"2016-11-07T00:00:00\",\"2016-11-04T00:00:00\",\"2016-11-02T00:00:00\",\"2016-11-02T00:00:00\",\"2016-10-18T00:00:00\",\"2016-10-14T00:00:00\",\"2016-10-06T00:00:00\",\"2016-09-10T00:00:00\",\"2016-09-05T00:00:00\",\"2016-08-16T00:00:00\",\"2016-08-02T00:00:00\",\"2016-07-16T00:00:00\",\"2016-07-09T00:00:00\",\"2016-07-02T00:00:00\",\"2016-06-25T00:00:00\",\"2016-06-25T00:00:00\",\"2016-06-20T00:00:00\",\"2016-06-20T00:00:00\",\"2016-06-10T00:00:00\",\"2016-06-10T00:00:00\",\"2016-06-04T00:00:00\",\"2016-05-21T00:00:00\",\"2016-05-14T00:00:00\",\"2016-05-11T00:00:00\",\"2016-04-28T00:00:00\",\"2016-04-18T00:00:00\",\"2016-04-09T00:00:00\",\"2016-03-21T00:00:00\",\"2016-03-13T00:00:00\",\"2016-03-12T00:00:00\",\"2016-03-12T00:00:00\",\"2016-03-10T00:00:00\",\"2016-03-07T00:00:00\",\"2016-03-03T00:00:00\",\"2016-02-25T00:00:00\",\"2016-02-22T00:00:00\",\"2016-02-19T00:00:00\",\"2016-02-17T00:00:00\",\"2016-02-06T00:00:00\",\"2016-02-05T00:00:00\",\"2016-02-04T00:00:00\",\"2016-02-01T00:00:00\",\"2016-01-30T00:00:00\",\"2016-01-28T00:00:00\",\"2016-01-22T00:00:00\",\"2015-12-24T00:00:00\",\"2015-12-12T00:00:00\",\"2015-12-07T00:00:00\",\"2015-12-02T00:00:00\",\"2015-11-27T00:00:00\",\"2015-11-21T00:00:00\",\"2015-11-20T00:00:00\",\"2015-11-15T00:00:00\",\"2015-11-12T00:00:00\",\"2015-11-02T00:00:00\",\"2015-10-26T00:00:00\",\"2015-10-14T00:00:00\",\"2015-09-26T00:00:00\",\"2015-09-21T00:00:00\",\"2015-09-19T00:00:00\",\"2015-08-29T00:00:00\",\"2015-08-17T00:00:00\",\"2015-08-15T00:00:00\",\"2015-08-08T00:00:00\",\"2015-08-03T00:00:00\",\"2015-07-11T00:00:00\",\"2015-06-29T00:00:00\",\"2015-05-09T00:00:00\",\"2015-04-27T00:00:00\",\"2015-03-14T00:00:00\",\"2015-02-28T00:00:00\",\"2014-12-11T00:00:00\",\"2014-11-26T00:00:00\",\"2014-11-22T00:00:00\",\"2014-11-15T00:00:00\",\"2014-07-02T00:00:00\",\"2014-06-14T00:00:00\",\"2014-05-31T00:00:00\",\"2014-04-16T00:00:00\",\"2014-03-14T00:00:00\",\"2014-03-06T00:00:00\",\"2014-02-22T00:00:00\",\"2013-12-21T00:00:00\",\"2013-11-27T00:00:00\",\"2013-09-11T00:00:00\",\"2012-11-21T00:00:00\",\"2021-12-22T00:00:00\",\"2021-12-17T00:00:00\",\"2021-11-29T00:00:00\",\"2021-11-26T00:00:00\",\"2021-10-14T00:00:00\",\"2021-08-25T00:00:00\",\"2021-07-30T00:00:00\",\"2021-02-22T00:00:00\",\"2021-01-15T00:00:00\",\"2021-01-15T00:00:00\",\"2020-12-09T00:00:00\",\"2020-12-08T00:00:00\",\"2020-11-27T00:00:00\",\"2020-11-26T00:00:00\",\"2020-11-04T00:00:00\",\"2020-10-14T00:00:00\",\"2020-08-07T00:00:00\",\"2020-08-04T00:00:00\",\"2019-12-13T00:00:00\",\"2019-11-15T00:00:00\",\"2019-10-04T00:00:00\",\"2019-09-13T00:00:00\",\"2019-07-31T00:00:00\",\"2019-07-31T00:00:00\",\"2019-07-11T00:00:00\",\"2019-06-13T00:00:00\",\"2019-02-08T00:00:00\",\"2018-07-20T00:00:00\",\"2018-06-08T00:00:00\",\"2018-06-07T00:00:00\",\"2018-04-21T00:00:00\",\"2017-12-05T00:00:00\",\"2017-05-08T00:00:00\",\"2017-05-04T00:00:00\",\"2017-03-06T00:00:00\",\"2017-02-23T00:00:00\",\"2016-10-14T00:00:00\",\"2016-09-10T00:00:00\",\"2016-07-11T00:00:00\",\"2016-06-25T00:00:00\",\"2016-04-28T00:00:00\",\"2016-03-26T00:00:00\",\"2016-02-12T00:00:00\",\"2015-11-23T00:00:00\",\"2015-10-19T00:00:00\",\"2015-10-09T00:00:00\",\"2015-09-19T00:00:00\",\"2015-07-31T00:00:00\",\"2015-07-24T00:00:00\",\"2015-07-18T00:00:00\",\"2015-07-18T00:00:00\",\"2015-07-11T00:00:00\",\"2015-07-11T00:00:00\",\"2015-06-23T00:00:00\",\"2015-06-20T00:00:00\",\"2015-06-14T00:00:00\",\"2015-06-13T00:00:00\",\"2015-05-25T00:00:00\",\"2015-05-20T00:00:00\",\"2015-05-08T00:00:00\",\"2015-05-04T00:00:00\",\"2015-05-02T00:00:00\",\"2015-04-18T00:00:00\",\"2015-04-15T00:00:00\",\"2015-04-14T00:00:00\",\"2015-03-30T00:00:00\",\"2015-03-17T00:00:00\",\"2015-03-14T00:00:00\",\"2015-03-07T00:00:00\",\"2015-03-07T00:00:00\",\"2015-03-07T00:00:00\",\"2015-03-06T00:00:00\",\"2015-03-03T00:00:00\",\"2015-02-07T00:00:00\",\"2015-02-05T00:00:00\",\"2014-12-22T00:00:00\",\"2014-12-10T00:00:00\",\"2014-12-08T00:00:00\",\"2014-12-04T00:00:00\",\"2014-11-29T00:00:00\",\"2014-11-26T00:00:00\",\"2014-11-22T00:00:00\",\"2014-11-17T00:00:00\",\"2014-11-15T00:00:00\",\"2014-11-15T00:00:00\",\"2014-11-12T00:00:00\",\"2014-11-07T00:00:00\",\"2014-10-29T00:00:00\",\"2014-10-14T00:00:00\",\"2014-09-06T00:00:00\",\"2014-09-03T00:00:00\",\"2014-08-22T00:00:00\",\"2014-08-07T00:00:00\",\"2014-08-02T00:00:00\",\"2014-07-22T00:00:00\",\"2014-07-07T00:00:00\",\"2014-07-03T00:00:00\",\"2014-06-27T00:00:00\",\"2014-06-14T00:00:00\",\"2014-06-14T00:00:00\",\"2014-06-08T00:00:00\",\"2014-06-04T00:00:00\",\"2014-06-04T00:00:00\",\"2014-05-31T00:00:00\",\"2014-05-31T00:00:00\",\"2014-05-24T00:00:00\",\"2014-05-22T00:00:00\",\"2014-05-02T00:00:00\",\"2014-04-14T00:00:00\",\"2014-04-08T00:00:00\",\"2014-04-05T00:00:00\",\"2014-03-31T00:00:00\",\"2014-03-11T00:00:00\",\"2014-03-05T00:00:00\",\"2014-03-03T00:00:00\",\"2014-02-19T00:00:00\",\"2014-02-19T00:00:00\",\"2014-02-15T00:00:00\",\"2014-02-08T00:00:00\",\"2013-12-20T00:00:00\",\"2013-12-09T00:00:00\",\"2013-12-03T00:00:00\",\"2013-11-28T00:00:00\",\"2013-11-25T00:00:00\",\"2013-11-21T00:00:00\",\"2013-11-14T00:00:00\",\"2013-09-28T00:00:00\",\"2013-09-26T00:00:00\",\"2013-09-14T00:00:00\",\"2013-09-11T00:00:00\",\"2013-09-10T00:00:00\",\"2013-09-07T00:00:00\",\"2013-08-28T00:00:00\",\"2013-08-24T00:00:00\",\"2013-08-03T00:00:00\",\"2013-08-02T00:00:00\",\"2013-07-31T00:00:00\",\"2013-07-27T00:00:00\",\"2013-07-22T00:00:00\",\"2013-07-13T00:00:00\",\"2013-07-06T00:00:00\",\"2013-07-05T00:00:00\",\"2013-06-29T00:00:00\",\"2013-06-29T00:00:00\",\"2013-06-28T00:00:00\",\"2013-06-28T00:00:00\",\"2013-06-22T00:00:00\",\"2013-06-15T00:00:00\",\"2013-06-12T00:00:00\",\"2013-05-30T00:00:00\",\"2013-04-26T00:00:00\",\"2013-04-19T00:00:00\",\"2013-04-15T00:00:00\",\"2013-04-13T00:00:00\",\"2013-04-12T00:00:00\",\"2013-04-05T00:00:00\",\"2013-04-03T00:00:00\",\"2013-03-27T00:00:00\",\"2013-03-18T00:00:00\",\"2013-03-09T00:00:00\",\"2013-02-28T00:00:00\",\"2013-02-01T00:00:00\",\"2013-01-09T00:00:00\",\"2012-12-15T00:00:00\",\"2012-12-06T00:00:00\",\"2012-11-19T00:00:00\",\"2012-11-16T00:00:00\",\"2012-11-14T00:00:00\",\"2012-11-13T00:00:00\",\"2012-11-12T00:00:00\",\"2012-10-31T00:00:00\",\"2012-10-30T00:00:00\",\"2012-10-26T00:00:00\",\"2012-10-16T00:00:00\",\"2012-10-06T00:00:00\",\"2012-10-04T00:00:00\",\"2012-09-28T00:00:00\",\"2012-09-26T00:00:00\",\"2012-09-22T00:00:00\",\"2012-09-15T00:00:00\",\"2012-08-22T00:00:00\",\"2012-08-21T00:00:00\",\"2012-08-07T00:00:00\",\"2012-08-04T00:00:00\",\"2012-07-28T00:00:00\",\"2012-07-21T00:00:00\",\"2012-07-03T00:00:00\",\"2012-06-27T00:00:00\",\"2012-06-01T00:00:00\",\"2012-05-18T00:00:00\",\"2012-05-11T00:00:00\",\"2012-05-05T00:00:00\",\"2012-04-16T00:00:00\",\"2012-04-13T00:00:00\",\"2012-03-31T00:00:00\",\"2012-03-30T00:00:00\",\"2012-03-16T00:00:00\",\"2012-02-25T00:00:00\",\"2012-02-20T00:00:00\",\"2012-02-10T00:00:00\",\"2011-12-22T00:00:00\",\"2011-12-20T00:00:00\",\"2011-12-13T00:00:00\",\"2011-12-06T00:00:00\",\"2011-11-10T00:00:00\",\"2011-09-14T00:00:00\",\"2011-07-05T00:00:00\",\"2011-07-02T00:00:00\",\"2011-06-10T00:00:00\",\"2011-06-03T00:00:00\",\"2011-05-17T00:00:00\",\"2011-05-14T00:00:00\",\"2011-05-13T00:00:00\",\"2011-05-03T00:00:00\",\"2011-03-25T00:00:00\",\"2011-02-09T00:00:00\",\"2011-01-14T00:00:00\",\"2010-11-02T00:00:00\",\"2010-10-19T00:00:00\",\"2010-09-12T00:00:00\",\"2010-08-23T00:00:00\",\"2010-07-29T00:00:00\",\"2010-07-08T00:00:00\",\"2010-06-21T00:00:00\",\"2010-05-15T00:00:00\",\"2010-02-12T00:00:00\",\"2010-02-08T00:00:00\",\"2010-02-08T00:00:00\",\"2009-12-19T00:00:00\",\"2009-12-19T00:00:00\",\"2009-10-26T00:00:00\",\"2009-10-23T00:00:00\",\"2009-10-23T00:00:00\",\"2009-09-08T00:00:00\",\"2009-09-05T00:00:00\",\"2009-07-09T00:00:00\",\"2009-06-19T00:00:00\",\"2009-03-16T00:00:00\",\"2009-03-08T00:00:00\",\"2009-01-30T00:00:00\",\"2008-12-13T00:00:00\",\"2008-08-04T00:00:00\",\"2008-08-02T00:00:00\",\"2008-07-16T00:00:00\",\"2008-07-16T00:00:00\",\"2008-07-03T00:00:00\",\"2008-05-12T00:00:00\",\"2008-04-09T00:00:00\",\"2008-04-09T00:00:00\",\"2008-04-09T00:00:00\",\"2007-12-08T00:00:00\",\"2005-10-13T00:00:00\",\"2011-08-23T00:00:00\",\"2011-03-17T00:00:00\",\"2010-02-15T00:00:00\",\"2009-10-03T00:00:00\",\"2009-03-20T00:00:00\",\"2022-04-19T00:00:00\",\"2022-04-14T00:00:00\",\"2022-04-09T00:00:00\",\"2022-04-09T00:00:00\",\"2022-03-08T00:00:00\",\"2022-03-04T00:00:00\",\"2022-02-01T00:00:00\",\"2022-01-27T00:00:00\",\"2022-01-25T00:00:00\",\"2022-01-17T00:00:00\",\"2021-12-18T00:00:00\",\"2021-11-29T00:00:00\",\"2021-11-25T00:00:00\",\"2021-10-26T00:00:00\",\"2021-10-23T00:00:00\",\"2021-10-20T00:00:00\",\"2021-10-19T00:00:00\",\"2021-10-05T00:00:00\",\"2021-08-17T00:00:00\",\"2021-08-12T00:00:00\",\"2021-07-23T00:00:00\",\"2021-07-20T00:00:00\",\"2021-07-05T00:00:00\",\"2021-06-04T00:00:00\",\"2021-06-03T00:00:00\",\"2021-05-29T00:00:00\",\"2021-04-30T00:00:00\",\"2021-04-09T00:00:00\",\"2021-02-08T00:00:00\",\"2021-01-20T00:00:00\",\"2020-12-01T00:00:00\",\"2020-11-23T00:00:00\",\"2020-11-12T00:00:00\",\"2020-10-28T00:00:00\",\"2020-10-07T00:00:00\",\"2020-09-10T00:00:00\",\"2020-05-08T00:00:00\",\"2020-03-14T00:00:00\",\"2020-02-14T00:00:00\",\"2019-11-28T00:00:00\",\"2019-11-19T00:00:00\",\"2019-09-27T00:00:00\",\"2019-07-15T00:00:00\",\"2019-07-10T00:00:00\",\"2019-06-07T00:00:00\",\"2019-05-07T00:00:00\",\"2019-03-26T00:00:00\",\"2018-12-08T00:00:00\",\"2018-12-08T00:00:00\",\"2018-12-06T00:00:00\",\"2018-10-26T00:00:00\",\"2018-09-03T00:00:00\",\"2018-07-28T00:00:00\",\"2018-06-22T00:00:00\",\"2018-02-28T00:00:00\",\"2018-02-17T00:00:00\",\"2018-02-02T00:00:00\",\"2017-11-11T00:00:00\",\"2017-10-31T00:00:00\",\"2017-10-05T00:00:00\",\"2017-07-12T00:00:00\",\"2016-12-22T00:00:00\",\"2016-12-12T00:00:00\",\"2016-11-03T00:00:00\",\"2016-10-27T00:00:00\",\"2016-08-15T00:00:00\",\"2016-08-03T00:00:00\",\"2016-06-09T00:00:00\",\"2016-04-27T00:00:00\",\"2016-02-22T00:00:00\"],\"xaxis\":\"x\",\"yaxis\":\"y\",\"type\":\"histogram\"}],                        {\"template\":{\"data\":{\"bar\":[{\"error_x\":{\"color\":\"#2a3f5f\"},\"error_y\":{\"color\":\"#2a3f5f\"},\"marker\":{\"line\":{\"color\":\"#E5ECF6\",\"width\":0.5},\"pattern\":{\"fillmode\":\"overlay\",\"size\":10,\"solidity\":0.2}},\"type\":\"bar\"}],\"barpolar\":[{\"marker\":{\"line\":{\"color\":\"#E5ECF6\",\"width\":0.5},\"pattern\":{\"fillmode\":\"overlay\",\"size\":10,\"solidity\":0.2}},\"type\":\"barpolar\"}],\"carpet\":[{\"aaxis\":{\"endlinecolor\":\"#2a3f5f\",\"gridcolor\":\"white\",\"linecolor\":\"white\",\"minorgridcolor\":\"white\",\"startlinecolor\":\"#2a3f5f\"},\"baxis\":{\"endlinecolor\":\"#2a3f5f\",\"gridcolor\":\"white\",\"linecolor\":\"white\",\"minorgridcolor\":\"white\",\"startlinecolor\":\"#2a3f5f\"},\"type\":\"carpet\"}],\"choropleth\":[{\"colorbar\":{\"outlinewidth\":0,\"ticks\":\"\"},\"type\":\"choropleth\"}],\"contour\":[{\"colorbar\":{\"outlinewidth\":0,\"ticks\":\"\"},\"colorscale\":[[0.0,\"#0d0887\"],[0.1111111111111111,\"#46039f\"],[0.2222222222222222,\"#7201a8\"],[0.3333333333333333,\"#9c179e\"],[0.4444444444444444,\"#bd3786\"],[0.5555555555555556,\"#d8576b\"],[0.6666666666666666,\"#ed7953\"],[0.7777777777777778,\"#fb9f3a\"],[0.8888888888888888,\"#fdca26\"],[1.0,\"#f0f921\"]],\"type\":\"contour\"}],\"contourcarpet\":[{\"colorbar\":{\"outlinewidth\":0,\"ticks\":\"\"},\"type\":\"contourcarpet\"}],\"heatmap\":[{\"colorbar\":{\"outlinewidth\":0,\"ticks\":\"\"},\"colorscale\":[[0.0,\"#0d0887\"],[0.1111111111111111,\"#46039f\"],[0.2222222222222222,\"#7201a8\"],[0.3333333333333333,\"#9c179e\"],[0.4444444444444444,\"#bd3786\"],[0.5555555555555556,\"#d8576b\"],[0.6666666666666666,\"#ed7953\"],[0.7777777777777778,\"#fb9f3a\"],[0.8888888888888888,\"#fdca26\"],[1.0,\"#f0f921\"]],\"type\":\"heatmap\"}],\"heatmapgl\":[{\"colorbar\":{\"outlinewidth\":0,\"ticks\":\"\"},\"colorscale\":[[0.0,\"#0d0887\"],[0.1111111111111111,\"#46039f\"],[0.2222222222222222,\"#7201a8\"],[0.3333333333333333,\"#9c179e\"],[0.4444444444444444,\"#bd3786\"],[0.5555555555555556,\"#d8576b\"],[0.6666666666666666,\"#ed7953\"],[0.7777777777777778,\"#fb9f3a\"],[0.8888888888888888,\"#fdca26\"],[1.0,\"#f0f921\"]],\"type\":\"heatmapgl\"}],\"histogram\":[{\"marker\":{\"pattern\":{\"fillmode\":\"overlay\",\"size\":10,\"solidity\":0.2}},\"type\":\"histogram\"}],\"histogram2d\":[{\"colorbar\":{\"outlinewidth\":0,\"ticks\":\"\"},\"colorscale\":[[0.0,\"#0d0887\"],[0.1111111111111111,\"#46039f\"],[0.2222222222222222,\"#7201a8\"],[0.3333333333333333,\"#9c179e\"],[0.4444444444444444,\"#bd3786\"],[0.5555555555555556,\"#d8576b\"],[0.6666666666666666,\"#ed7953\"],[0.7777777777777778,\"#fb9f3a\"],[0.8888888888888888,\"#fdca26\"],[1.0,\"#f0f921\"]],\"type\":\"histogram2d\"}],\"histogram2dcontour\":[{\"colorbar\":{\"outlinewidth\":0,\"ticks\":\"\"},\"colorscale\":[[0.0,\"#0d0887\"],[0.1111111111111111,\"#46039f\"],[0.2222222222222222,\"#7201a8\"],[0.3333333333333333,\"#9c179e\"],[0.4444444444444444,\"#bd3786\"],[0.5555555555555556,\"#d8576b\"],[0.6666666666666666,\"#ed7953\"],[0.7777777777777778,\"#fb9f3a\"],[0.8888888888888888,\"#fdca26\"],[1.0,\"#f0f921\"]],\"type\":\"histogram2dcontour\"}],\"mesh3d\":[{\"colorbar\":{\"outlinewidth\":0,\"ticks\":\"\"},\"type\":\"mesh3d\"}],\"parcoords\":[{\"line\":{\"colorbar\":{\"outlinewidth\":0,\"ticks\":\"\"}},\"type\":\"parcoords\"}],\"pie\":[{\"automargin\":true,\"type\":\"pie\"}],\"scatter\":[{\"marker\":{\"colorbar\":{\"outlinewidth\":0,\"ticks\":\"\"}},\"type\":\"scatter\"}],\"scatter3d\":[{\"line\":{\"colorbar\":{\"outlinewidth\":0,\"ticks\":\"\"}},\"marker\":{\"colorbar\":{\"outlinewidth\":0,\"ticks\":\"\"}},\"type\":\"scatter3d\"}],\"scattercarpet\":[{\"marker\":{\"colorbar\":{\"outlinewidth\":0,\"ticks\":\"\"}},\"type\":\"scattercarpet\"}],\"scattergeo\":[{\"marker\":{\"colorbar\":{\"outlinewidth\":0,\"ticks\":\"\"}},\"type\":\"scattergeo\"}],\"scattergl\":[{\"marker\":{\"colorbar\":{\"outlinewidth\":0,\"ticks\":\"\"}},\"type\":\"scattergl\"}],\"scattermapbox\":[{\"marker\":{\"colorbar\":{\"outlinewidth\":0,\"ticks\":\"\"}},\"type\":\"scattermapbox\"}],\"scatterpolar\":[{\"marker\":{\"colorbar\":{\"outlinewidth\":0,\"ticks\":\"\"}},\"type\":\"scatterpolar\"}],\"scatterpolargl\":[{\"marker\":{\"colorbar\":{\"outlinewidth\":0,\"ticks\":\"\"}},\"type\":\"scatterpolargl\"}],\"scatterternary\":[{\"marker\":{\"colorbar\":{\"outlinewidth\":0,\"ticks\":\"\"}},\"type\":\"scatterternary\"}],\"surface\":[{\"colorbar\":{\"outlinewidth\":0,\"ticks\":\"\"},\"colorscale\":[[0.0,\"#0d0887\"],[0.1111111111111111,\"#46039f\"],[0.2222222222222222,\"#7201a8\"],[0.3333333333333333,\"#9c179e\"],[0.4444444444444444,\"#bd3786\"],[0.5555555555555556,\"#d8576b\"],[0.6666666666666666,\"#ed7953\"],[0.7777777777777778,\"#fb9f3a\"],[0.8888888888888888,\"#fdca26\"],[1.0,\"#f0f921\"]],\"type\":\"surface\"}],\"table\":[{\"cells\":{\"fill\":{\"color\":\"#EBF0F8\"},\"line\":{\"color\":\"white\"}},\"header\":{\"fill\":{\"color\":\"#C8D4E3\"},\"line\":{\"color\":\"white\"}},\"type\":\"table\"}]},\"layout\":{\"annotationdefaults\":{\"arrowcolor\":\"#2a3f5f\",\"arrowhead\":0,\"arrowwidth\":1},\"autotypenumbers\":\"strict\",\"coloraxis\":{\"colorbar\":{\"outlinewidth\":0,\"ticks\":\"\"}},\"colorscale\":{\"diverging\":[[0,\"#8e0152\"],[0.1,\"#c51b7d\"],[0.2,\"#de77ae\"],[0.3,\"#f1b6da\"],[0.4,\"#fde0ef\"],[0.5,\"#f7f7f7\"],[0.6,\"#e6f5d0\"],[0.7,\"#b8e186\"],[0.8,\"#7fbc41\"],[0.9,\"#4d9221\"],[1,\"#276419\"]],\"sequential\":[[0.0,\"#0d0887\"],[0.1111111111111111,\"#46039f\"],[0.2222222222222222,\"#7201a8\"],[0.3333333333333333,\"#9c179e\"],[0.4444444444444444,\"#bd3786\"],[0.5555555555555556,\"#d8576b\"],[0.6666666666666666,\"#ed7953\"],[0.7777777777777778,\"#fb9f3a\"],[0.8888888888888888,\"#fdca26\"],[1.0,\"#f0f921\"]],\"sequentialminus\":[[0.0,\"#0d0887\"],[0.1111111111111111,\"#46039f\"],[0.2222222222222222,\"#7201a8\"],[0.3333333333333333,\"#9c179e\"],[0.4444444444444444,\"#bd3786\"],[0.5555555555555556,\"#d8576b\"],[0.6666666666666666,\"#ed7953\"],[0.7777777777777778,\"#fb9f3a\"],[0.8888888888888888,\"#fdca26\"],[1.0,\"#f0f921\"]]},\"colorway\":[\"#636efa\",\"#EF553B\",\"#00cc96\",\"#ab63fa\",\"#FFA15A\",\"#19d3f3\",\"#FF6692\",\"#B6E880\",\"#FF97FF\",\"#FECB52\"],\"font\":{\"color\":\"#2a3f5f\"},\"geo\":{\"bgcolor\":\"white\",\"lakecolor\":\"white\",\"landcolor\":\"#E5ECF6\",\"showlakes\":true,\"showland\":true,\"subunitcolor\":\"white\"},\"hoverlabel\":{\"align\":\"left\"},\"hovermode\":\"closest\",\"mapbox\":{\"style\":\"light\"},\"paper_bgcolor\":\"white\",\"plot_bgcolor\":\"#E5ECF6\",\"polar\":{\"angularaxis\":{\"gridcolor\":\"white\",\"linecolor\":\"white\",\"ticks\":\"\"},\"bgcolor\":\"#E5ECF6\",\"radialaxis\":{\"gridcolor\":\"white\",\"linecolor\":\"white\",\"ticks\":\"\"}},\"scene\":{\"xaxis\":{\"backgroundcolor\":\"#E5ECF6\",\"gridcolor\":\"white\",\"gridwidth\":2,\"linecolor\":\"white\",\"showbackground\":true,\"ticks\":\"\",\"zerolinecolor\":\"white\"},\"yaxis\":{\"backgroundcolor\":\"#E5ECF6\",\"gridcolor\":\"white\",\"gridwidth\":2,\"linecolor\":\"white\",\"showbackground\":true,\"ticks\":\"\",\"zerolinecolor\":\"white\"},\"zaxis\":{\"backgroundcolor\":\"#E5ECF6\",\"gridcolor\":\"white\",\"gridwidth\":2,\"linecolor\":\"white\",\"showbackground\":true,\"ticks\":\"\",\"zerolinecolor\":\"white\"}},\"shapedefaults\":{\"line\":{\"color\":\"#2a3f5f\"}},\"ternary\":{\"aaxis\":{\"gridcolor\":\"white\",\"linecolor\":\"white\",\"ticks\":\"\"},\"baxis\":{\"gridcolor\":\"white\",\"linecolor\":\"white\",\"ticks\":\"\"},\"bgcolor\":\"#E5ECF6\",\"caxis\":{\"gridcolor\":\"white\",\"linecolor\":\"white\",\"ticks\":\"\"}},\"title\":{\"x\":0.05},\"xaxis\":{\"automargin\":true,\"gridcolor\":\"white\",\"linecolor\":\"white\",\"ticks\":\"\",\"title\":{\"standoff\":15},\"zerolinecolor\":\"white\",\"zerolinewidth\":2},\"yaxis\":{\"automargin\":true,\"gridcolor\":\"white\",\"linecolor\":\"white\",\"ticks\":\"\",\"title\":{\"standoff\":15},\"zerolinecolor\":\"white\",\"zerolinewidth\":2}}},\"xaxis\":{\"anchor\":\"y\",\"domain\":[0.0,1.0],\"title\":{\"text\":\"x\"}},\"yaxis\":{\"anchor\":\"x\",\"domain\":[0.0,1.0],\"title\":{\"text\":\"count\"}},\"legend\":{\"tracegroupgap\":0},\"margin\":{\"t\":60},\"barmode\":\"relative\"},                        {\"responsive\": true}                    ).then(function(){\n",
       "                            \n",
       "var gd = document.getElementById('c2908aca-4af4-4953-9e0f-286cc3a6689b');\n",
       "var x = new MutationObserver(function (mutations, observer) {{\n",
       "        var display = window.getComputedStyle(gd).display;\n",
       "        if (!display || display === 'none') {{\n",
       "            console.log([gd, 'removed!']);\n",
       "            Plotly.purge(gd);\n",
       "            observer.disconnect();\n",
       "        }}\n",
       "}});\n",
       "\n",
       "// Listen for the removal of the full notebook cells\n",
       "var notebookContainer = gd.closest('#notebook-container');\n",
       "if (notebookContainer) {{\n",
       "    x.observe(notebookContainer, {childList: true});\n",
       "}}\n",
       "\n",
       "// Listen for the clearing of the current output cell\n",
       "var outputEl = gd.closest('.output');\n",
       "if (outputEl) {{\n",
       "    x.observe(outputEl, {childList: true});\n",
       "}}\n",
       "\n",
       "                        })                };                });            </script>        </div>"
      ]
     },
     "metadata": {},
     "output_type": "display_data"
    }
   ],
   "source": [
    "sold_date = px.histogram(\n",
    "    x=df[\"sold_date_dt\"],\n",
    ")\n",
    "\n",
    "sold_date.show()"
   ]
  },
  {
   "cell_type": "code",
   "execution_count": 78,
   "id": "295d2472",
   "metadata": {},
   "outputs": [
    {
     "data": {
      "application/vnd.plotly.v1+json": {
       "config": {
        "plotlyServerURL": "https://plot.ly"
       },
       "data": [
        {
         "alignmentgroup": "True",
         "bingroup": "x",
         "hovertemplate": "x=%{x}<br>count=%{y}<extra></extra>",
         "legendgroup": "",
         "marker": {
          "color": "#636efa",
          "pattern": {
           "shape": ""
          }
         },
         "name": "",
         "offsetgroup": "",
         "orientation": "v",
         "showlegend": false,
         "type": "histogram",
         "x": [
          960000,
          962000,
          1100000,
          770000,
          635000,
          562500,
          630000,
          855000,
          750000,
          770000,
          680000
         ],
         "xaxis": "x",
         "yaxis": "y"
        }
       ],
       "layout": {
        "barmode": "relative",
        "legend": {
         "tracegroupgap": 0
        },
        "margin": {
         "t": 60
        },
        "template": {
         "data": {
          "bar": [
           {
            "error_x": {
             "color": "#2a3f5f"
            },
            "error_y": {
             "color": "#2a3f5f"
            },
            "marker": {
             "line": {
              "color": "#E5ECF6",
              "width": 0.5
             },
             "pattern": {
              "fillmode": "overlay",
              "size": 10,
              "solidity": 0.2
             }
            },
            "type": "bar"
           }
          ],
          "barpolar": [
           {
            "marker": {
             "line": {
              "color": "#E5ECF6",
              "width": 0.5
             },
             "pattern": {
              "fillmode": "overlay",
              "size": 10,
              "solidity": 0.2
             }
            },
            "type": "barpolar"
           }
          ],
          "carpet": [
           {
            "aaxis": {
             "endlinecolor": "#2a3f5f",
             "gridcolor": "white",
             "linecolor": "white",
             "minorgridcolor": "white",
             "startlinecolor": "#2a3f5f"
            },
            "baxis": {
             "endlinecolor": "#2a3f5f",
             "gridcolor": "white",
             "linecolor": "white",
             "minorgridcolor": "white",
             "startlinecolor": "#2a3f5f"
            },
            "type": "carpet"
           }
          ],
          "choropleth": [
           {
            "colorbar": {
             "outlinewidth": 0,
             "ticks": ""
            },
            "type": "choropleth"
           }
          ],
          "contour": [
           {
            "colorbar": {
             "outlinewidth": 0,
             "ticks": ""
            },
            "colorscale": [
             [
              0,
              "#0d0887"
             ],
             [
              0.1111111111111111,
              "#46039f"
             ],
             [
              0.2222222222222222,
              "#7201a8"
             ],
             [
              0.3333333333333333,
              "#9c179e"
             ],
             [
              0.4444444444444444,
              "#bd3786"
             ],
             [
              0.5555555555555556,
              "#d8576b"
             ],
             [
              0.6666666666666666,
              "#ed7953"
             ],
             [
              0.7777777777777778,
              "#fb9f3a"
             ],
             [
              0.8888888888888888,
              "#fdca26"
             ],
             [
              1,
              "#f0f921"
             ]
            ],
            "type": "contour"
           }
          ],
          "contourcarpet": [
           {
            "colorbar": {
             "outlinewidth": 0,
             "ticks": ""
            },
            "type": "contourcarpet"
           }
          ],
          "heatmap": [
           {
            "colorbar": {
             "outlinewidth": 0,
             "ticks": ""
            },
            "colorscale": [
             [
              0,
              "#0d0887"
             ],
             [
              0.1111111111111111,
              "#46039f"
             ],
             [
              0.2222222222222222,
              "#7201a8"
             ],
             [
              0.3333333333333333,
              "#9c179e"
             ],
             [
              0.4444444444444444,
              "#bd3786"
             ],
             [
              0.5555555555555556,
              "#d8576b"
             ],
             [
              0.6666666666666666,
              "#ed7953"
             ],
             [
              0.7777777777777778,
              "#fb9f3a"
             ],
             [
              0.8888888888888888,
              "#fdca26"
             ],
             [
              1,
              "#f0f921"
             ]
            ],
            "type": "heatmap"
           }
          ],
          "heatmapgl": [
           {
            "colorbar": {
             "outlinewidth": 0,
             "ticks": ""
            },
            "colorscale": [
             [
              0,
              "#0d0887"
             ],
             [
              0.1111111111111111,
              "#46039f"
             ],
             [
              0.2222222222222222,
              "#7201a8"
             ],
             [
              0.3333333333333333,
              "#9c179e"
             ],
             [
              0.4444444444444444,
              "#bd3786"
             ],
             [
              0.5555555555555556,
              "#d8576b"
             ],
             [
              0.6666666666666666,
              "#ed7953"
             ],
             [
              0.7777777777777778,
              "#fb9f3a"
             ],
             [
              0.8888888888888888,
              "#fdca26"
             ],
             [
              1,
              "#f0f921"
             ]
            ],
            "type": "heatmapgl"
           }
          ],
          "histogram": [
           {
            "marker": {
             "pattern": {
              "fillmode": "overlay",
              "size": 10,
              "solidity": 0.2
             }
            },
            "type": "histogram"
           }
          ],
          "histogram2d": [
           {
            "colorbar": {
             "outlinewidth": 0,
             "ticks": ""
            },
            "colorscale": [
             [
              0,
              "#0d0887"
             ],
             [
              0.1111111111111111,
              "#46039f"
             ],
             [
              0.2222222222222222,
              "#7201a8"
             ],
             [
              0.3333333333333333,
              "#9c179e"
             ],
             [
              0.4444444444444444,
              "#bd3786"
             ],
             [
              0.5555555555555556,
              "#d8576b"
             ],
             [
              0.6666666666666666,
              "#ed7953"
             ],
             [
              0.7777777777777778,
              "#fb9f3a"
             ],
             [
              0.8888888888888888,
              "#fdca26"
             ],
             [
              1,
              "#f0f921"
             ]
            ],
            "type": "histogram2d"
           }
          ],
          "histogram2dcontour": [
           {
            "colorbar": {
             "outlinewidth": 0,
             "ticks": ""
            },
            "colorscale": [
             [
              0,
              "#0d0887"
             ],
             [
              0.1111111111111111,
              "#46039f"
             ],
             [
              0.2222222222222222,
              "#7201a8"
             ],
             [
              0.3333333333333333,
              "#9c179e"
             ],
             [
              0.4444444444444444,
              "#bd3786"
             ],
             [
              0.5555555555555556,
              "#d8576b"
             ],
             [
              0.6666666666666666,
              "#ed7953"
             ],
             [
              0.7777777777777778,
              "#fb9f3a"
             ],
             [
              0.8888888888888888,
              "#fdca26"
             ],
             [
              1,
              "#f0f921"
             ]
            ],
            "type": "histogram2dcontour"
           }
          ],
          "mesh3d": [
           {
            "colorbar": {
             "outlinewidth": 0,
             "ticks": ""
            },
            "type": "mesh3d"
           }
          ],
          "parcoords": [
           {
            "line": {
             "colorbar": {
              "outlinewidth": 0,
              "ticks": ""
             }
            },
            "type": "parcoords"
           }
          ],
          "pie": [
           {
            "automargin": true,
            "type": "pie"
           }
          ],
          "scatter": [
           {
            "marker": {
             "colorbar": {
              "outlinewidth": 0,
              "ticks": ""
             }
            },
            "type": "scatter"
           }
          ],
          "scatter3d": [
           {
            "line": {
             "colorbar": {
              "outlinewidth": 0,
              "ticks": ""
             }
            },
            "marker": {
             "colorbar": {
              "outlinewidth": 0,
              "ticks": ""
             }
            },
            "type": "scatter3d"
           }
          ],
          "scattercarpet": [
           {
            "marker": {
             "colorbar": {
              "outlinewidth": 0,
              "ticks": ""
             }
            },
            "type": "scattercarpet"
           }
          ],
          "scattergeo": [
           {
            "marker": {
             "colorbar": {
              "outlinewidth": 0,
              "ticks": ""
             }
            },
            "type": "scattergeo"
           }
          ],
          "scattergl": [
           {
            "marker": {
             "colorbar": {
              "outlinewidth": 0,
              "ticks": ""
             }
            },
            "type": "scattergl"
           }
          ],
          "scattermapbox": [
           {
            "marker": {
             "colorbar": {
              "outlinewidth": 0,
              "ticks": ""
             }
            },
            "type": "scattermapbox"
           }
          ],
          "scatterpolar": [
           {
            "marker": {
             "colorbar": {
              "outlinewidth": 0,
              "ticks": ""
             }
            },
            "type": "scatterpolar"
           }
          ],
          "scatterpolargl": [
           {
            "marker": {
             "colorbar": {
              "outlinewidth": 0,
              "ticks": ""
             }
            },
            "type": "scatterpolargl"
           }
          ],
          "scatterternary": [
           {
            "marker": {
             "colorbar": {
              "outlinewidth": 0,
              "ticks": ""
             }
            },
            "type": "scatterternary"
           }
          ],
          "surface": [
           {
            "colorbar": {
             "outlinewidth": 0,
             "ticks": ""
            },
            "colorscale": [
             [
              0,
              "#0d0887"
             ],
             [
              0.1111111111111111,
              "#46039f"
             ],
             [
              0.2222222222222222,
              "#7201a8"
             ],
             [
              0.3333333333333333,
              "#9c179e"
             ],
             [
              0.4444444444444444,
              "#bd3786"
             ],
             [
              0.5555555555555556,
              "#d8576b"
             ],
             [
              0.6666666666666666,
              "#ed7953"
             ],
             [
              0.7777777777777778,
              "#fb9f3a"
             ],
             [
              0.8888888888888888,
              "#fdca26"
             ],
             [
              1,
              "#f0f921"
             ]
            ],
            "type": "surface"
           }
          ],
          "table": [
           {
            "cells": {
             "fill": {
              "color": "#EBF0F8"
             },
             "line": {
              "color": "white"
             }
            },
            "header": {
             "fill": {
              "color": "#C8D4E3"
             },
             "line": {
              "color": "white"
             }
            },
            "type": "table"
           }
          ]
         },
         "layout": {
          "annotationdefaults": {
           "arrowcolor": "#2a3f5f",
           "arrowhead": 0,
           "arrowwidth": 1
          },
          "autotypenumbers": "strict",
          "coloraxis": {
           "colorbar": {
            "outlinewidth": 0,
            "ticks": ""
           }
          },
          "colorscale": {
           "diverging": [
            [
             0,
             "#8e0152"
            ],
            [
             0.1,
             "#c51b7d"
            ],
            [
             0.2,
             "#de77ae"
            ],
            [
             0.3,
             "#f1b6da"
            ],
            [
             0.4,
             "#fde0ef"
            ],
            [
             0.5,
             "#f7f7f7"
            ],
            [
             0.6,
             "#e6f5d0"
            ],
            [
             0.7,
             "#b8e186"
            ],
            [
             0.8,
             "#7fbc41"
            ],
            [
             0.9,
             "#4d9221"
            ],
            [
             1,
             "#276419"
            ]
           ],
           "sequential": [
            [
             0,
             "#0d0887"
            ],
            [
             0.1111111111111111,
             "#46039f"
            ],
            [
             0.2222222222222222,
             "#7201a8"
            ],
            [
             0.3333333333333333,
             "#9c179e"
            ],
            [
             0.4444444444444444,
             "#bd3786"
            ],
            [
             0.5555555555555556,
             "#d8576b"
            ],
            [
             0.6666666666666666,
             "#ed7953"
            ],
            [
             0.7777777777777778,
             "#fb9f3a"
            ],
            [
             0.8888888888888888,
             "#fdca26"
            ],
            [
             1,
             "#f0f921"
            ]
           ],
           "sequentialminus": [
            [
             0,
             "#0d0887"
            ],
            [
             0.1111111111111111,
             "#46039f"
            ],
            [
             0.2222222222222222,
             "#7201a8"
            ],
            [
             0.3333333333333333,
             "#9c179e"
            ],
            [
             0.4444444444444444,
             "#bd3786"
            ],
            [
             0.5555555555555556,
             "#d8576b"
            ],
            [
             0.6666666666666666,
             "#ed7953"
            ],
            [
             0.7777777777777778,
             "#fb9f3a"
            ],
            [
             0.8888888888888888,
             "#fdca26"
            ],
            [
             1,
             "#f0f921"
            ]
           ]
          },
          "colorway": [
           "#636efa",
           "#EF553B",
           "#00cc96",
           "#ab63fa",
           "#FFA15A",
           "#19d3f3",
           "#FF6692",
           "#B6E880",
           "#FF97FF",
           "#FECB52"
          ],
          "font": {
           "color": "#2a3f5f"
          },
          "geo": {
           "bgcolor": "white",
           "lakecolor": "white",
           "landcolor": "#E5ECF6",
           "showlakes": true,
           "showland": true,
           "subunitcolor": "white"
          },
          "hoverlabel": {
           "align": "left"
          },
          "hovermode": "closest",
          "mapbox": {
           "style": "light"
          },
          "paper_bgcolor": "white",
          "plot_bgcolor": "#E5ECF6",
          "polar": {
           "angularaxis": {
            "gridcolor": "white",
            "linecolor": "white",
            "ticks": ""
           },
           "bgcolor": "#E5ECF6",
           "radialaxis": {
            "gridcolor": "white",
            "linecolor": "white",
            "ticks": ""
           }
          },
          "scene": {
           "xaxis": {
            "backgroundcolor": "#E5ECF6",
            "gridcolor": "white",
            "gridwidth": 2,
            "linecolor": "white",
            "showbackground": true,
            "ticks": "",
            "zerolinecolor": "white"
           },
           "yaxis": {
            "backgroundcolor": "#E5ECF6",
            "gridcolor": "white",
            "gridwidth": 2,
            "linecolor": "white",
            "showbackground": true,
            "ticks": "",
            "zerolinecolor": "white"
           },
           "zaxis": {
            "backgroundcolor": "#E5ECF6",
            "gridcolor": "white",
            "gridwidth": 2,
            "linecolor": "white",
            "showbackground": true,
            "ticks": "",
            "zerolinecolor": "white"
           }
          },
          "shapedefaults": {
           "line": {
            "color": "#2a3f5f"
           }
          },
          "ternary": {
           "aaxis": {
            "gridcolor": "white",
            "linecolor": "white",
            "ticks": ""
           },
           "baxis": {
            "gridcolor": "white",
            "linecolor": "white",
            "ticks": ""
           },
           "bgcolor": "#E5ECF6",
           "caxis": {
            "gridcolor": "white",
            "linecolor": "white",
            "ticks": ""
           }
          },
          "title": {
           "x": 0.05
          },
          "xaxis": {
           "automargin": true,
           "gridcolor": "white",
           "linecolor": "white",
           "ticks": "",
           "title": {
            "standoff": 15
           },
           "zerolinecolor": "white",
           "zerolinewidth": 2
          },
          "yaxis": {
           "automargin": true,
           "gridcolor": "white",
           "linecolor": "white",
           "ticks": "",
           "title": {
            "standoff": 15
           },
           "zerolinecolor": "white",
           "zerolinewidth": 2
          }
         }
        },
        "xaxis": {
         "anchor": "y",
         "domain": [
          0,
          1
         ],
         "title": {
          "text": "x"
         }
        },
        "yaxis": {
         "anchor": "x",
         "domain": [
          0,
          1
         ],
         "title": {
          "text": "count"
         }
        }
       }
      },
      "text/html": [
       "<div>                            <div id=\"7704fec6-3f31-4b19-93f3-e93b15e54290\" class=\"plotly-graph-div\" style=\"height:525px; width:100%;\"></div>            <script type=\"text/javascript\">                require([\"plotly\"], function(Plotly) {                    window.PLOTLYENV=window.PLOTLYENV || {};                                    if (document.getElementById(\"7704fec6-3f31-4b19-93f3-e93b15e54290\")) {                    Plotly.newPlot(                        \"7704fec6-3f31-4b19-93f3-e93b15e54290\",                        [{\"alignmentgroup\":\"True\",\"bingroup\":\"x\",\"hovertemplate\":\"x=%{x}<br>count=%{y}<extra></extra>\",\"legendgroup\":\"\",\"marker\":{\"color\":\"#636efa\",\"pattern\":{\"shape\":\"\"}},\"name\":\"\",\"offsetgroup\":\"\",\"orientation\":\"v\",\"showlegend\":false,\"x\":[960000.0,962000.0,1100000.0,770000.0,635000.0,562500.0,630000.0,855000.0,750000.0,770000.0,680000.0],\"xaxis\":\"x\",\"yaxis\":\"y\",\"type\":\"histogram\"}],                        {\"template\":{\"data\":{\"bar\":[{\"error_x\":{\"color\":\"#2a3f5f\"},\"error_y\":{\"color\":\"#2a3f5f\"},\"marker\":{\"line\":{\"color\":\"#E5ECF6\",\"width\":0.5},\"pattern\":{\"fillmode\":\"overlay\",\"size\":10,\"solidity\":0.2}},\"type\":\"bar\"}],\"barpolar\":[{\"marker\":{\"line\":{\"color\":\"#E5ECF6\",\"width\":0.5},\"pattern\":{\"fillmode\":\"overlay\",\"size\":10,\"solidity\":0.2}},\"type\":\"barpolar\"}],\"carpet\":[{\"aaxis\":{\"endlinecolor\":\"#2a3f5f\",\"gridcolor\":\"white\",\"linecolor\":\"white\",\"minorgridcolor\":\"white\",\"startlinecolor\":\"#2a3f5f\"},\"baxis\":{\"endlinecolor\":\"#2a3f5f\",\"gridcolor\":\"white\",\"linecolor\":\"white\",\"minorgridcolor\":\"white\",\"startlinecolor\":\"#2a3f5f\"},\"type\":\"carpet\"}],\"choropleth\":[{\"colorbar\":{\"outlinewidth\":0,\"ticks\":\"\"},\"type\":\"choropleth\"}],\"contour\":[{\"colorbar\":{\"outlinewidth\":0,\"ticks\":\"\"},\"colorscale\":[[0.0,\"#0d0887\"],[0.1111111111111111,\"#46039f\"],[0.2222222222222222,\"#7201a8\"],[0.3333333333333333,\"#9c179e\"],[0.4444444444444444,\"#bd3786\"],[0.5555555555555556,\"#d8576b\"],[0.6666666666666666,\"#ed7953\"],[0.7777777777777778,\"#fb9f3a\"],[0.8888888888888888,\"#fdca26\"],[1.0,\"#f0f921\"]],\"type\":\"contour\"}],\"contourcarpet\":[{\"colorbar\":{\"outlinewidth\":0,\"ticks\":\"\"},\"type\":\"contourcarpet\"}],\"heatmap\":[{\"colorbar\":{\"outlinewidth\":0,\"ticks\":\"\"},\"colorscale\":[[0.0,\"#0d0887\"],[0.1111111111111111,\"#46039f\"],[0.2222222222222222,\"#7201a8\"],[0.3333333333333333,\"#9c179e\"],[0.4444444444444444,\"#bd3786\"],[0.5555555555555556,\"#d8576b\"],[0.6666666666666666,\"#ed7953\"],[0.7777777777777778,\"#fb9f3a\"],[0.8888888888888888,\"#fdca26\"],[1.0,\"#f0f921\"]],\"type\":\"heatmap\"}],\"heatmapgl\":[{\"colorbar\":{\"outlinewidth\":0,\"ticks\":\"\"},\"colorscale\":[[0.0,\"#0d0887\"],[0.1111111111111111,\"#46039f\"],[0.2222222222222222,\"#7201a8\"],[0.3333333333333333,\"#9c179e\"],[0.4444444444444444,\"#bd3786\"],[0.5555555555555556,\"#d8576b\"],[0.6666666666666666,\"#ed7953\"],[0.7777777777777778,\"#fb9f3a\"],[0.8888888888888888,\"#fdca26\"],[1.0,\"#f0f921\"]],\"type\":\"heatmapgl\"}],\"histogram\":[{\"marker\":{\"pattern\":{\"fillmode\":\"overlay\",\"size\":10,\"solidity\":0.2}},\"type\":\"histogram\"}],\"histogram2d\":[{\"colorbar\":{\"outlinewidth\":0,\"ticks\":\"\"},\"colorscale\":[[0.0,\"#0d0887\"],[0.1111111111111111,\"#46039f\"],[0.2222222222222222,\"#7201a8\"],[0.3333333333333333,\"#9c179e\"],[0.4444444444444444,\"#bd3786\"],[0.5555555555555556,\"#d8576b\"],[0.6666666666666666,\"#ed7953\"],[0.7777777777777778,\"#fb9f3a\"],[0.8888888888888888,\"#fdca26\"],[1.0,\"#f0f921\"]],\"type\":\"histogram2d\"}],\"histogram2dcontour\":[{\"colorbar\":{\"outlinewidth\":0,\"ticks\":\"\"},\"colorscale\":[[0.0,\"#0d0887\"],[0.1111111111111111,\"#46039f\"],[0.2222222222222222,\"#7201a8\"],[0.3333333333333333,\"#9c179e\"],[0.4444444444444444,\"#bd3786\"],[0.5555555555555556,\"#d8576b\"],[0.6666666666666666,\"#ed7953\"],[0.7777777777777778,\"#fb9f3a\"],[0.8888888888888888,\"#fdca26\"],[1.0,\"#f0f921\"]],\"type\":\"histogram2dcontour\"}],\"mesh3d\":[{\"colorbar\":{\"outlinewidth\":0,\"ticks\":\"\"},\"type\":\"mesh3d\"}],\"parcoords\":[{\"line\":{\"colorbar\":{\"outlinewidth\":0,\"ticks\":\"\"}},\"type\":\"parcoords\"}],\"pie\":[{\"automargin\":true,\"type\":\"pie\"}],\"scatter\":[{\"marker\":{\"colorbar\":{\"outlinewidth\":0,\"ticks\":\"\"}},\"type\":\"scatter\"}],\"scatter3d\":[{\"line\":{\"colorbar\":{\"outlinewidth\":0,\"ticks\":\"\"}},\"marker\":{\"colorbar\":{\"outlinewidth\":0,\"ticks\":\"\"}},\"type\":\"scatter3d\"}],\"scattercarpet\":[{\"marker\":{\"colorbar\":{\"outlinewidth\":0,\"ticks\":\"\"}},\"type\":\"scattercarpet\"}],\"scattergeo\":[{\"marker\":{\"colorbar\":{\"outlinewidth\":0,\"ticks\":\"\"}},\"type\":\"scattergeo\"}],\"scattergl\":[{\"marker\":{\"colorbar\":{\"outlinewidth\":0,\"ticks\":\"\"}},\"type\":\"scattergl\"}],\"scattermapbox\":[{\"marker\":{\"colorbar\":{\"outlinewidth\":0,\"ticks\":\"\"}},\"type\":\"scattermapbox\"}],\"scatterpolar\":[{\"marker\":{\"colorbar\":{\"outlinewidth\":0,\"ticks\":\"\"}},\"type\":\"scatterpolar\"}],\"scatterpolargl\":[{\"marker\":{\"colorbar\":{\"outlinewidth\":0,\"ticks\":\"\"}},\"type\":\"scatterpolargl\"}],\"scatterternary\":[{\"marker\":{\"colorbar\":{\"outlinewidth\":0,\"ticks\":\"\"}},\"type\":\"scatterternary\"}],\"surface\":[{\"colorbar\":{\"outlinewidth\":0,\"ticks\":\"\"},\"colorscale\":[[0.0,\"#0d0887\"],[0.1111111111111111,\"#46039f\"],[0.2222222222222222,\"#7201a8\"],[0.3333333333333333,\"#9c179e\"],[0.4444444444444444,\"#bd3786\"],[0.5555555555555556,\"#d8576b\"],[0.6666666666666666,\"#ed7953\"],[0.7777777777777778,\"#fb9f3a\"],[0.8888888888888888,\"#fdca26\"],[1.0,\"#f0f921\"]],\"type\":\"surface\"}],\"table\":[{\"cells\":{\"fill\":{\"color\":\"#EBF0F8\"},\"line\":{\"color\":\"white\"}},\"header\":{\"fill\":{\"color\":\"#C8D4E3\"},\"line\":{\"color\":\"white\"}},\"type\":\"table\"}]},\"layout\":{\"annotationdefaults\":{\"arrowcolor\":\"#2a3f5f\",\"arrowhead\":0,\"arrowwidth\":1},\"autotypenumbers\":\"strict\",\"coloraxis\":{\"colorbar\":{\"outlinewidth\":0,\"ticks\":\"\"}},\"colorscale\":{\"diverging\":[[0,\"#8e0152\"],[0.1,\"#c51b7d\"],[0.2,\"#de77ae\"],[0.3,\"#f1b6da\"],[0.4,\"#fde0ef\"],[0.5,\"#f7f7f7\"],[0.6,\"#e6f5d0\"],[0.7,\"#b8e186\"],[0.8,\"#7fbc41\"],[0.9,\"#4d9221\"],[1,\"#276419\"]],\"sequential\":[[0.0,\"#0d0887\"],[0.1111111111111111,\"#46039f\"],[0.2222222222222222,\"#7201a8\"],[0.3333333333333333,\"#9c179e\"],[0.4444444444444444,\"#bd3786\"],[0.5555555555555556,\"#d8576b\"],[0.6666666666666666,\"#ed7953\"],[0.7777777777777778,\"#fb9f3a\"],[0.8888888888888888,\"#fdca26\"],[1.0,\"#f0f921\"]],\"sequentialminus\":[[0.0,\"#0d0887\"],[0.1111111111111111,\"#46039f\"],[0.2222222222222222,\"#7201a8\"],[0.3333333333333333,\"#9c179e\"],[0.4444444444444444,\"#bd3786\"],[0.5555555555555556,\"#d8576b\"],[0.6666666666666666,\"#ed7953\"],[0.7777777777777778,\"#fb9f3a\"],[0.8888888888888888,\"#fdca26\"],[1.0,\"#f0f921\"]]},\"colorway\":[\"#636efa\",\"#EF553B\",\"#00cc96\",\"#ab63fa\",\"#FFA15A\",\"#19d3f3\",\"#FF6692\",\"#B6E880\",\"#FF97FF\",\"#FECB52\"],\"font\":{\"color\":\"#2a3f5f\"},\"geo\":{\"bgcolor\":\"white\",\"lakecolor\":\"white\",\"landcolor\":\"#E5ECF6\",\"showlakes\":true,\"showland\":true,\"subunitcolor\":\"white\"},\"hoverlabel\":{\"align\":\"left\"},\"hovermode\":\"closest\",\"mapbox\":{\"style\":\"light\"},\"paper_bgcolor\":\"white\",\"plot_bgcolor\":\"#E5ECF6\",\"polar\":{\"angularaxis\":{\"gridcolor\":\"white\",\"linecolor\":\"white\",\"ticks\":\"\"},\"bgcolor\":\"#E5ECF6\",\"radialaxis\":{\"gridcolor\":\"white\",\"linecolor\":\"white\",\"ticks\":\"\"}},\"scene\":{\"xaxis\":{\"backgroundcolor\":\"#E5ECF6\",\"gridcolor\":\"white\",\"gridwidth\":2,\"linecolor\":\"white\",\"showbackground\":true,\"ticks\":\"\",\"zerolinecolor\":\"white\"},\"yaxis\":{\"backgroundcolor\":\"#E5ECF6\",\"gridcolor\":\"white\",\"gridwidth\":2,\"linecolor\":\"white\",\"showbackground\":true,\"ticks\":\"\",\"zerolinecolor\":\"white\"},\"zaxis\":{\"backgroundcolor\":\"#E5ECF6\",\"gridcolor\":\"white\",\"gridwidth\":2,\"linecolor\":\"white\",\"showbackground\":true,\"ticks\":\"\",\"zerolinecolor\":\"white\"}},\"shapedefaults\":{\"line\":{\"color\":\"#2a3f5f\"}},\"ternary\":{\"aaxis\":{\"gridcolor\":\"white\",\"linecolor\":\"white\",\"ticks\":\"\"},\"baxis\":{\"gridcolor\":\"white\",\"linecolor\":\"white\",\"ticks\":\"\"},\"bgcolor\":\"#E5ECF6\",\"caxis\":{\"gridcolor\":\"white\",\"linecolor\":\"white\",\"ticks\":\"\"}},\"title\":{\"x\":0.05},\"xaxis\":{\"automargin\":true,\"gridcolor\":\"white\",\"linecolor\":\"white\",\"ticks\":\"\",\"title\":{\"standoff\":15},\"zerolinecolor\":\"white\",\"zerolinewidth\":2},\"yaxis\":{\"automargin\":true,\"gridcolor\":\"white\",\"linecolor\":\"white\",\"ticks\":\"\",\"title\":{\"standoff\":15},\"zerolinecolor\":\"white\",\"zerolinewidth\":2}}},\"xaxis\":{\"anchor\":\"y\",\"domain\":[0.0,1.0],\"title\":{\"text\":\"x\"}},\"yaxis\":{\"anchor\":\"x\",\"domain\":[0.0,1.0],\"title\":{\"text\":\"count\"}},\"legend\":{\"tracegroupgap\":0},\"margin\":{\"t\":60},\"barmode\":\"relative\"},                        {\"responsive\": true}                    ).then(function(){\n",
       "                            \n",
       "var gd = document.getElementById('7704fec6-3f31-4b19-93f3-e93b15e54290');\n",
       "var x = new MutationObserver(function (mutations, observer) {{\n",
       "        var display = window.getComputedStyle(gd).display;\n",
       "        if (!display || display === 'none') {{\n",
       "            console.log([gd, 'removed!']);\n",
       "            Plotly.purge(gd);\n",
       "            observer.disconnect();\n",
       "        }}\n",
       "}});\n",
       "\n",
       "// Listen for the removal of the full notebook cells\n",
       "var notebookContainer = gd.closest('#notebook-container');\n",
       "if (notebookContainer) {{\n",
       "    x.observe(notebookContainer, {childList: true});\n",
       "}}\n",
       "\n",
       "// Listen for the clearing of the current output cell\n",
       "var outputEl = gd.closest('.output');\n",
       "if (outputEl) {{\n",
       "    x.observe(outputEl, {childList: true});\n",
       "}}\n",
       "\n",
       "                        })                };                });            </script>        </div>"
      ]
     },
     "metadata": {},
     "output_type": "display_data"
    }
   ],
   "source": [
    "#Land size = -1 are missing land sizes\n",
    "#df[df[\"land_size\"] < 100][\"url\"][4]\n",
    "\n",
    "pd.set_option('display.max_colwidth', None)\n",
    "small_land = df[(df[\"land_size\"] > 100) & (df[\"land_size\"] < 300)]\n",
    "px.histogram(\n",
    "    x=small_land[\"price\"],\n",
    ").show()"
   ]
  },
  {
   "cell_type": "code",
   "execution_count": null,
   "id": "1e57fe04",
   "metadata": {},
   "outputs": [],
   "source": [
    "1. Identify suburbs in the north-west (Baulkhim hills/north rocks, Epping), nothern beaches, straithfield regions, and ??inner west.\n",
    "2. What are the suburbs with most affordable houses in the small land category (300-500)?\n",
    "3. What are the comparable price points for the same bedrooms but with bigger land i.e. 700-800?"
   ]
  }
 ],
 "metadata": {
  "kernelspec": {
   "display_name": "Python 3 (ipykernel)",
   "language": "python",
   "name": "python3"
  },
  "language_info": {
   "codemirror_mode": {
    "name": "ipython",
    "version": 3
   },
   "file_extension": ".py",
   "mimetype": "text/x-python",
   "name": "python",
   "nbconvert_exporter": "python",
   "pygments_lexer": "ipython3",
   "version": "3.9.7"
  }
 },
 "nbformat": 4,
 "nbformat_minor": 5
}
