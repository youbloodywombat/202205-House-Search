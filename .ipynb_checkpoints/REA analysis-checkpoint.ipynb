{
 "cells": [
  {
   "cell_type": "code",
   "execution_count": 51,
   "id": "15359e4b",
   "metadata": {},
   "outputs": [],
   "source": [
    "import numpy as np \n",
    "import pandas as pd \n",
    "import os\n",
    "#from chart_studio.plotly.offline import init_notebook_mode, iplot\n",
    "#import chart_studio.plotly.plotly as py\n",
    "#import chart_studio.plotly.figure_factory as FF\n",
    "#import chart_studio.plotly.plotly as py\n",
    "#from chart_studio.plotly import tools\n",
    "#from chart_studio.plotly import tools\n",
    "#import chart_studio.plotly.graph_objs as go\n",
    "\n",
    "import chart_studio.plotly as py\n",
    "\n",
    "import plotly.graph_objects as go\n",
    "import plotly.express as px\n",
    "from plotly.subplots import make_subplots\n",
    "\n",
    "import matplotlib.pyplot as plt\n",
    "import seaborn as sns\n",
    "import folium\n",
    "from folium.features import DivIcon\n",
    "from folium.plugins import HeatMap\n",
    "import warnings\n",
    "import datetime\n",
    "import squarify\n",
    "warnings.filterwarnings(\"ignore\")\n",
    "# init_notebook_mode(connected=True)\n",
    "\n",
    "from datetime import date\n",
    "dtm = datetime.datetime(2021, 1, 1, 0, 0, 0, 000000)\n",
    "\n",
    "pd.set_option('display.max_colwidth', 100)"
   ]
  },
  {
   "cell_type": "code",
   "execution_count": 52,
   "id": "a57f62bd",
   "metadata": {},
   "outputs": [],
   "source": [
    "from realestate_com_au import RealestateComAu\n",
    "\n",
    "api = RealestateComAu()"
   ]
  },
  {
   "cell_type": "code",
   "execution_count": 53,
   "id": "5882d1cb",
   "metadata": {},
   "outputs": [
    {
     "name": "stdout",
     "output_type": "stream",
     "text": [
      "Help on method search in module realestate_com_au.realestate_com_au:\n",
      "\n",
      "search(limit=-1, channel='buy', locations=[], surrounding_suburbs=True, exclude_no_sale_price=False, furnished=False, pets_allowed=False, ex_under_contract=False, min_price=0, max_price=-1, min_bedrooms=0, max_bedrooms=-1, property_types=[], min_bathrooms=0, min_carspaces=0, min_land_size=0, construction_status=None, keywords=[], exclude_keywords=[]) method of realestate_com_au.realestate_com_au.RealestateComAu instance\n",
      "\n"
     ]
    }
   ],
   "source": [
    "#listings = api.search(locations=[\"north rocks\"], channel=\"sold\",bedrooms=4, exclude_keywords=[\"pool\"])\n",
    "\n",
    "help(api.search)\n"
   ]
  },
  {
   "cell_type": "code",
   "execution_count": 54,
   "id": "a754d19a",
   "metadata": {},
   "outputs": [],
   "source": [
    "# epping  = api.search(locations=[\"Epping\"], property_types=[\"townhouse\",\"house\"], channel=\"sold\", exclude_keywords=[\"pool\"])\n",
    "# northrocks  = api.search(locations=[\"North Rocks\"], property_types=[\"townhouse\",\"house\"], channel=\"sold\", exclude_keywords=[\"pool\"])\n",
    "# eastwood  = api.search(locations=[\"Eastwood\"], property_types=[\"townhouse\",\"house\"], channel=\"sold\", exclude_keywords=[\"pool\"])\n",
    "# baulkham  = api.search(locations=[\"Baulkham Hills\"], property_types=[\"townhouse\",\"house\"], channel=\"sold\", exclude_keywords=[\"pool\"])\n",
    "# winston  = api.search(locations=[\"Winston Hills\"], property_types=[\"townhouse\",\"house\"], channel=\"sold\", exclude_keywords=[\"pool\"])\n",
    "# kellyville  = api.search(locations=[\"Kellyville\"], property_types=[\"townhouse\",\"house\"], channel=\"sold\", exclude_keywords=[\"pool\"])\n",
    "# blacktown  = api.search(locations=[\"Blacktown\"], property_types=[\"townhouse\",\"house\"], channel=\"sold\", exclude_keywords=[\"pool\"])\n",
    "# castle  = api.search(locations=[\"Castle Hill\"], property_types=[\"townhouse\",\"house\"], channel=\"sold\", exclude_keywords=[\"pool\"])\n",
    "# ryde  = api.search(locations=[\"Ryde\"], property_types=[\"townhouse\",\"house\"], channel=\"sold\", exclude_keywords=[\"pool\"])\n",
    "# rouse  = api.search(locations=[\"Rouse Hill\"], property_types=[\"townhouse\",\"house\"], channel=\"sold\", exclude_keywords=[\"pool\"])\n",
    "# beecroft  = api.search(locations=[\"Beecroft\"], property_types=[\"townhouse\",\"house\"], channel=\"sold\", exclude_keywords=[\"pool\"])\n",
    "# ermington  = api.search(locations=[\"Ermington\"], property_types=[\"townhouse\",\"house\"], channel=\"sold\", exclude_keywords=[\"pool\"])\n",
    "# northmead  = api.search(locations=[\"Northmead\"], property_types=[\"townhouse\",\"house\"], channel=\"sold\", exclude_keywords=[\"pool\"])\n",
    "# newington  = api.search(locations=[\"Newington\"], property_types=[\"townhouse\",\"house\"], channel=\"sold\", exclude_keywords=[\"pool\"])\n",
    "# concord  = api.search(locations=[\"Concord\"], property_types=[\"townhouse\",\"house\"], channel=\"sold\", exclude_keywords=[\"pool\"])\n",
    "# marsfield  = api.search(locations=[\"Marsfield\"], property_types=[\"townhouse\",\"house\"], channel=\"sold\", exclude_keywords=[\"pool\"])\n",
    "# hornsby  = api.search(locations=[\"Hornsby\"], property_types=[\"townhouse\",\"house\"], channel=\"sold\", exclude_keywords=[\"pool\"])\n",
    "# Lidcombe  = api.search(locations=[\"Lidcombe\"], property_types=[\"townhouse\",\"house\"], channel=\"sold\", exclude_keywords=[\"pool\"])\n",
    "# Homebush  = api.search(locations=[\"Homebush\"], property_types=[\"townhouse\",\"house\"], channel=\"sold\", exclude_keywords=[\"pool\"])\n",
    "# Straithfield  = api.search(locations=[\"Straithfield\"], property_types=[\"townhouse\",\"house\"], channel=\"sold\", exclude_keywords=[\"pool\"])\n",
    "# Ashfield  = api.search(locations=[\"Ashfield\"], property_types=[\"townhouse\",\"house\"], channel=\"sold\", exclude_keywords=[\"pool\"])\n",
    "# Leichhardt  = api.search(locations=[\"Leichhardt\"], property_types=[\"townhouse\",\"house\"], channel=\"sold\", exclude_keywords=[\"pool\"])\n",
    "# Annandale  = api.search(locations=[\"Annandale\"], property_types=[\"townhouse\",\"house\"], channel=\"sold\", exclude_keywords=[\"pool\"])\n",
    "# AllambieHeights  = api.search(locations=[\"Allambie Heights\"], property_types=[\"townhouse\",\"house\"], channel=\"sold\", exclude_keywords=[\"pool\"])\n",
    "# Forestville  = api.search(locations=[\"Forestville\"], property_types=[\"townhouse\",\"house\"], channel=\"sold\", exclude_keywords=[\"pool\"])\n",
    "# Lindfield  = api.search(locations=[\"Lindfield\"], property_types=[\"townhouse\",\"house\"], channel=\"sold\", exclude_keywords=[\"pool\"])\n",
    "# Gordon  = api.search(locations=[\"Gordon\"], property_types=[\"townhouse\",\"house\"], channel=\"sold\", exclude_keywords=[\"pool\"])\n",
    "# Pymble  = api.search(locations=[\"Pymble\"], property_types=[\"townhouse\",\"house\"], channel=\"sold\", exclude_keywords=[\"pool\"])\n",
    "# LaneCove  = api.search(locations=[\"Lane Cove\"], property_types=[\"townhouse\",\"house\"], channel=\"sold\", exclude_keywords=[\"pool\"])\n",
    "# Meadowbank  = api.search(locations=[\"Meadowbank\"], property_types=[\"townhouse\",\"house\"], channel=\"sold\", exclude_keywords=[\"pool\"])\n",
    "# SummerHill  = api.search(locations=[\"Summer Hill\"], property_types=[\"townhouse\",\"house\"], channel=\"sold\", exclude_keywords=[\"pool\"])\n",
    "# Rydalmere  = api.search(locations=[\"Rydalmere\"], property_types=[\"townhouse\",\"house\"], channel=\"sold\", exclude_keywords=[\"pool\"])\n",
    "# Rosehill  = api.search(locations=[\"Rosehill\"], property_types=[\"townhouse\",\"house\"], channel=\"sold\", exclude_keywords=[\"pool\"])\n",
    "# Westmead  = api.search(locations=[\"Westmead\"], property_types=[\"townhouse\",\"house\"], channel=\"sold\", exclude_keywords=[\"pool\"])\n",
    "# Girraween  = api.search(locations=[\"Girraween\"], property_types=[\"townhouse\",\"house\"], channel=\"sold\", exclude_keywords=[\"pool\"])\n",
    "# BeaumontHills  = api.search(locations=[\"Beaumont Hills\"], property_types=[\"townhouse\",\"house\"], channel=\"sold\", exclude_keywords=[\"pool\"])\n",
    "# KellyvilleRidge  = api.search(locations=[\"Kellyville Ridge\"], property_types=[\"townhouse\",\"house\"], channel=\"sold\", exclude_keywords=[\"pool\"])\n",
    "# ThePonds  = api.search(locations=[\"The Ponds\"], property_types=[\"townhouse\",\"house\"], channel=\"sold\", exclude_keywords=[\"pool\"])\n",
    "# Schofields  = api.search(locations=[\"Schofields\"], property_types=[\"townhouse\",\"house\"], channel=\"sold\", exclude_keywords=[\"pool\"])\n",
    "# MarsdenPark  = api.search(locations=[\"Marsden Park\"], property_types=[\"townhouse\",\"house\"], channel=\"sold\", exclude_keywords=[\"pool\"])\n",
    "# KingsLangley  = api.search(locations=[\"Kings Langley\"], property_types=[\"townhouse\",\"house\"], channel=\"sold\", exclude_keywords=[\"pool\"])\n",
    "# BellaVista  = api.search(locations=[\"Bella Vista\"], property_types=[\"townhouse\",\"house\"], channel=\"sold\", exclude_keywords=[\"pool\"])\n",
    "# BoxHill  = api.search(locations=[\"Box Hill\"], property_types=[\"townhouse\",\"house\"], channel=\"sold\", exclude_keywords=[\"pool\"])\n",
    "# PennantHills  = api.search(locations=[\"Pennant Hills\"], property_types=[\"townhouse\",\"house\"], channel=\"sold\", exclude_keywords=[\"pool\"])\n",
    "# Earlwood  = api.search(locations=[\"Earlwood\"], property_types=[\"townhouse\",\"house\"], channel=\"sold\", exclude_keywords=[\"pool\"])\n",
    "# Marrickville  = api.search(locations=[\"Marrickville\"], property_types=[\"townhouse\",\"house\"], channel=\"sold\", exclude_keywords=[\"pool\"])\n",
    "# Dulwich  = api.search(locations=[\"Dulwich\"], property_types=[\"townhouse\",\"house\"], channel=\"sold\", exclude_keywords=[\"pool\"])\n",
    "# Petersham  = api.search(locations=[\"Petersham\"], property_types=[\"townhouse\",\"house\"], channel=\"sold\", exclude_keywords=[\"pool\"])\n",
    "# Campsie  = api.search(locations=[\"Campsie\"], property_types=[\"townhouse\",\"house\"], channel=\"sold\", exclude_keywords=[\"pool\"])\n",
    "# Canterbury  = api.search(locations=[\"Canterbury\"], property_types=[\"townhouse\",\"house\"], channel=\"sold\", exclude_keywords=[\"pool\"])\n",
    "# Berala  = api.search(locations=[\"Berala\"], property_types=[\"townhouse\",\"house\"], channel=\"sold\", exclude_keywords=[\"pool\"])\n",
    "# Leppington  = api.search(locations=[\"Leppington\"], property_types=[\"townhouse\",\"house\"], channel=\"sold\", exclude_keywords=[\"pool\"])\n",
    "# EdmondsonPark  = api.search(locations=[\"Edmondson Park\"], property_types=[\"townhouse\",\"house\"], channel=\"sold\", exclude_keywords=[\"pool\"])\n",
    "# MacquariePark  = api.search(locations=[\"Macquarie Park\"], property_types=[\"townhouse\",\"house\"], channel=\"sold\", exclude_keywords=[\"pool\"])\n",
    "# Chatswood  = api.search(locations=[\"Chatswood\"], property_types=[\"townhouse\",\"house\"], channel=\"sold\", exclude_keywords=[\"pool\"])\n",
    "# Carlingford  = api.search(locations=[\"Carlingford\"], property_types=[\"townhouse\",\"house\"], channel=\"sold\", exclude_keywords=[\"pool\"])\n",
    "# Kogarah  = api.search(locations=[\"Kogarah\"], property_types=[\"townhouse\",\"house\"], channel=\"sold\", exclude_keywords=[\"pool\"])\n",
    "# Rockdale  = api.search(locations=[\"Rockdale\"], property_types=[\"townhouse\",\"house\"], channel=\"sold\", exclude_keywords=[\"pool\"])\n",
    "# Cherrybrook  = api.search(locations=[\"Cherrybrook\"], property_types=[\"townhouse\",\"house\"], channel=\"sold\", exclude_keywords=[\"pool\"])\n",
    "# Eastwood  = api.search(locations=[\"Eastwood\"], property_types=[\"townhouse\",\"house\"], channel=\"sold\", exclude_keywords=[\"pool\"])\n",
    "# Homebush  = api.search(locations=[\"Homebush\"], property_types=[\"townhouse\",\"house\"], channel=\"sold\", exclude_keywords=[\"pool\"])\n",
    "# Minto  = api.search(locations=[\"Minto\"], property_types=[\"townhouse\",\"house\"], channel=\"sold\", exclude_keywords=[\"pool\"])\n",
    "# QuakersHill  = api.search(locations=[\"Quakers Hill\"], property_types=[\"townhouse\",\"house\"], channel=\"sold\", exclude_keywords=[\"pool\"])\n",
    "# Revesby  = api.search(locations=[\"Revesby\"], property_types=[\"townhouse\",\"house\"], channel=\"sold\", exclude_keywords=[\"pool\"])\n",
    "# SevenHills  = api.search(locations=[\"Seven Hills\"], property_types=[\"townhouse\",\"house\"], channel=\"sold\", exclude_keywords=[\"pool\"])\n",
    "# StanhopeGardens  = api.search(locations=[\"Stanhope Gardens\"], property_types=[\"townhouse\",\"house\"], channel=\"sold\", exclude_keywords=[\"pool\"])\n",
    "# Waterloo  = api.search(locations=[\"Waterloo\"], property_types=[\"townhouse\",\"house\"], channel=\"sold\", exclude_keywords=[\"pool\"])\n",
    "# DulwichHill  = api.search(locations=[\"Dulwich Hill\"], property_types=[\"townhouse\",\"house\"], channel=\"sold\", exclude_keywords=[\"pool\"])\n",
    "# NorthRyde  = api.search(locations=[\"North Ryde\"], property_types=[\"townhouse\",\"house\"], channel=\"sold\", exclude_keywords=[\"pool\"])\n",
    "# Straithfield  = api.search(locations=[\"Straithfield\"], property_types=[\"townhouse\",\"house\"], channel=\"sold\", exclude_keywords=[\"pool\"])\n",
    "# NorthStraithfield  = api.search(locations=[\"North Straithfield\"], property_types=[\"townhouse\",\"house\"], channel=\"sold\", exclude_keywords=[\"pool\"])\n",
    "# Manly  = api.search(locations=[\"Manly\"], property_types=[\"townhouse\",\"house\"], channel=\"sold\", exclude_keywords=[\"pool\"])\n",
    "# Randwick  = api.search(locations=[\"Randwick\"], property_types=[\"townhouse\",\"house\"], channel=\"sold\", exclude_keywords=[\"pool\"])\n",
    "# Kensington  = api.search(locations=[\"Kensington\"], property_types=[\"townhouse\",\"house\"], channel=\"sold\", exclude_keywords=[\"pool\"])"
   ]
  },
  {
   "cell_type": "code",
   "execution_count": 18,
   "id": "22f1ad24",
   "metadata": {},
   "outputs": [],
   "source": [
    "# priority_suburbs = [epping,northrocks,eastwood,baulkham,winston,kellyville,blacktown,castle,ryde,rouse,beecroft,ermington,northmead,newington,concord,marsfield,hornsby,Lidcombe,Homebush,Straithfield,Ashfield,Leichhardt,Annandale,AllambieHeights,Forestville,Lindfield,Gordon,Pymble,LaneCove,Meadowbank,SummerHill,Rydalmere,Rosehill,Westmead,Girraween,BeaumontHills,KellyvilleRidge,ThePonds,Schofields,MarsdenPark,KingsLangley,BellaVista,BoxHill,PennantHills,Earlwood,Marrickville,Dulwich,Petersham,Campsie,Canterbury,Berala,Leppington,EdmondsonPark,MacquariePark,Chatswood,Carlingford,Kogarah,Rockdale,Cherrybrook,Eastwood,Homebush,Minto,QuakersHill,Revesby,SevenHills,StanhopeGardens,Waterloo,DulwichHill,NorthRyde,Straithfield,NorthStraithfield,Manly,Randwick,Kensington]\n",
    "priority_suburbs = [DulwichHill,NorthRyde,Straithfield,NorthStraithfield,Manly,Randwick,Kensington]\n",
    "dfs = []\n",
    "for name in priority_suburbs:\n",
    "    df = pd.DataFrame(name)\n",
    "    dfs.append(df)\n",
    "_final = pd.concat(dfs, ignore_index=True)\n",
    "_final.to_csv(\"/home/youwombat/202205-House-Search/REA_extract_2.csv\")"
   ]
  },
  {
   "cell_type": "code",
   "execution_count": 55,
   "id": "b3ac480f",
   "metadata": {
    "scrolled": true
   },
   "outputs": [
    {
     "data": {
      "text/html": [
       "<div>\n",
       "<style scoped>\n",
       "    .dataframe tbody tr th:only-of-type {\n",
       "        vertical-align: middle;\n",
       "    }\n",
       "\n",
       "    .dataframe tbody tr th {\n",
       "        vertical-align: top;\n",
       "    }\n",
       "\n",
       "    .dataframe thead th {\n",
       "        text-align: right;\n",
       "    }\n",
       "</style>\n",
       "<table border=\"1\" class=\"dataframe\">\n",
       "  <thead>\n",
       "    <tr style=\"text-align: right;\">\n",
       "      <th></th>\n",
       "      <th>id</th>\n",
       "      <th>url</th>\n",
       "      <th>suburb</th>\n",
       "      <th>state</th>\n",
       "      <th>postcode</th>\n",
       "      <th>short_address</th>\n",
       "      <th>full_address</th>\n",
       "      <th>property_type</th>\n",
       "      <th>price</th>\n",
       "      <th>bedrooms</th>\n",
       "      <th>...</th>\n",
       "      <th>building_size_unit</th>\n",
       "      <th>land_size</th>\n",
       "      <th>land_size_unit</th>\n",
       "      <th>listing_company_id</th>\n",
       "      <th>listing_company_name</th>\n",
       "      <th>listing_company_phone</th>\n",
       "      <th>auction_date</th>\n",
       "      <th>sold_date</th>\n",
       "      <th>description</th>\n",
       "      <th>listers</th>\n",
       "    </tr>\n",
       "  </thead>\n",
       "  <tbody>\n",
       "    <tr>\n",
       "      <th>0</th>\n",
       "      <td>139180083</td>\n",
       "      <td>https://www.realestate.com.au/sold/property-house-nsw-epping-139180083</td>\n",
       "      <td>Epping</td>\n",
       "      <td>NSW</td>\n",
       "      <td>2121</td>\n",
       "      <td>50 Downing Street</td>\n",
       "      <td>50 Downing Street, Epping, NSW 2121</td>\n",
       "      <td>house</td>\n",
       "      <td>2700000.0</td>\n",
       "      <td>3</td>\n",
       "      <td>...</td>\n",
       "      <td>NaN</td>\n",
       "      <td>-1.0</td>\n",
       "      <td>NaN</td>\n",
       "      <td>BIJYFL</td>\n",
       "      <td>Century 21 Masterpiece - LANE COVE</td>\n",
       "      <td>0406857777</td>\n",
       "      <td>NaN</td>\n",
       "      <td>12 May 2022</td>\n",
       "      <td>Capitalize on this once in a lifetime chance to secure a 733sqm block with over 18m frontage in ...</td>\n",
       "      <td>[{'id': '2572966', 'name': 'Felix Han', 'agent_id': None, 'job_title': 'Sales Executive', 'url':...</td>\n",
       "    </tr>\n",
       "    <tr>\n",
       "      <th>1</th>\n",
       "      <td>139095587</td>\n",
       "      <td>https://www.realestate.com.au/sold/property-duplex+semi-detached-nsw-epping-139095587</td>\n",
       "      <td>Epping</td>\n",
       "      <td>NSW</td>\n",
       "      <td>2121</td>\n",
       "      <td>123C Carlingford Road</td>\n",
       "      <td>123C Carlingford Road, Epping, NSW 2121</td>\n",
       "      <td>duplex-semi-detached</td>\n",
       "      <td>1850000.0</td>\n",
       "      <td>5</td>\n",
       "      <td>...</td>\n",
       "      <td>NaN</td>\n",
       "      <td>-1.0</td>\n",
       "      <td>NaN</td>\n",
       "      <td>XRWEPS</td>\n",
       "      <td>Ray White - Epping</td>\n",
       "      <td>(02)98763133</td>\n",
       "      <td>NaN</td>\n",
       "      <td>04 May 2022</td>\n",
       "      <td>Emanating impeccable craftsmanship and exquisite opulence, this bespoke architect-designed duple...</td>\n",
       "      <td>[{'id': '50770', 'name': 'Catherine Li', 'agent_id': None, 'job_title': 'Principal | Elite Sales...</td>\n",
       "    </tr>\n",
       "    <tr>\n",
       "      <th>2</th>\n",
       "      <td>139181663</td>\n",
       "      <td>https://www.realestate.com.au/sold/property-house-nsw-epping-139181663</td>\n",
       "      <td>Epping</td>\n",
       "      <td>NSW</td>\n",
       "      <td>2121</td>\n",
       "      <td>15 Ormonde Avenue</td>\n",
       "      <td>15 Ormonde Avenue, Epping, NSW 2121</td>\n",
       "      <td>house</td>\n",
       "      <td>3025000.0</td>\n",
       "      <td>4</td>\n",
       "      <td>...</td>\n",
       "      <td>NaN</td>\n",
       "      <td>701.9</td>\n",
       "      <td>m²</td>\n",
       "      <td>PZDDKW</td>\n",
       "      <td>MyProperty - Epping</td>\n",
       "      <td>0298684888</td>\n",
       "      <td>NaN</td>\n",
       "      <td>02 May 2022</td>\n",
       "      <td>Premier Address in a Tightly-Held Quiet Cul-De-Sac (701.9m2).&lt;br/&gt;&lt;br/&gt;Enjoying a Blue Ribbon lo...</td>\n",
       "      <td>[{'id': '1035567', 'name': 'Peter Horozakis', 'agent_id': '6cda12ae-64d4-46ea-800e-78e5758209a4'...</td>\n",
       "    </tr>\n",
       "    <tr>\n",
       "      <th>3</th>\n",
       "      <td>138926967</td>\n",
       "      <td>https://www.realestate.com.au/sold/property-house-nsw-epping-138926967</td>\n",
       "      <td>Epping</td>\n",
       "      <td>NSW</td>\n",
       "      <td>2121</td>\n",
       "      <td>54 Gloucester Road</td>\n",
       "      <td>54 Gloucester Road, Epping, NSW 2121</td>\n",
       "      <td>house</td>\n",
       "      <td>2350000.0</td>\n",
       "      <td>3</td>\n",
       "      <td>...</td>\n",
       "      <td>NaN</td>\n",
       "      <td>2396.0</td>\n",
       "      <td>m²</td>\n",
       "      <td>THNEPP</td>\n",
       "      <td>Hunt Real Estate - Epping</td>\n",
       "      <td>0298694677</td>\n",
       "      <td>NaN</td>\n",
       "      <td>30 Apr 2022</td>\n",
       "      <td>North east facing and set overlooking the bushland of Lucknow Park this character home boasts an...</td>\n",
       "      <td>[{'id': '1218423', 'name': 'Peter Hunt', 'agent_id': 'a0ad1288-9479-4966-a0ef-5961a15e02f4', 'jo...</td>\n",
       "    </tr>\n",
       "    <tr>\n",
       "      <th>4</th>\n",
       "      <td>138941627</td>\n",
       "      <td>https://www.realestate.com.au/sold/property-house-nsw-epping-138941627</td>\n",
       "      <td>Epping</td>\n",
       "      <td>NSW</td>\n",
       "      <td>2121</td>\n",
       "      <td>46 Norfolk Road</td>\n",
       "      <td>46 Norfolk Road, Epping, NSW 2121</td>\n",
       "      <td>house</td>\n",
       "      <td>2200000.0</td>\n",
       "      <td>3</td>\n",
       "      <td>...</td>\n",
       "      <td>NaN</td>\n",
       "      <td>733.0</td>\n",
       "      <td>m²</td>\n",
       "      <td>XRWNEU</td>\n",
       "      <td>The Agency - North</td>\n",
       "      <td>(02)99537333</td>\n",
       "      <td>NaN</td>\n",
       "      <td>30 Apr 2022</td>\n",
       "      <td>Encased by privacy hedging and opening to a blissfully tranquil sanctuary of natural light and s...</td>\n",
       "      <td>[{'id': '1861410', 'name': 'Catherine Murphy', 'agent_id': '4bca31a8-2584-4aa0-be38-e3b12faffbe5...</td>\n",
       "    </tr>\n",
       "  </tbody>\n",
       "</table>\n",
       "<p>5 rows × 23 columns</p>\n",
       "</div>"
      ],
      "text/plain": [
       "          id  \\\n",
       "0  139180083   \n",
       "1  139095587   \n",
       "2  139181663   \n",
       "3  138926967   \n",
       "4  138941627   \n",
       "\n",
       "                                                                                     url  \\\n",
       "0                 https://www.realestate.com.au/sold/property-house-nsw-epping-139180083   \n",
       "1  https://www.realestate.com.au/sold/property-duplex+semi-detached-nsw-epping-139095587   \n",
       "2                 https://www.realestate.com.au/sold/property-house-nsw-epping-139181663   \n",
       "3                 https://www.realestate.com.au/sold/property-house-nsw-epping-138926967   \n",
       "4                 https://www.realestate.com.au/sold/property-house-nsw-epping-138941627   \n",
       "\n",
       "   suburb state  postcode          short_address  \\\n",
       "0  Epping   NSW      2121      50 Downing Street   \n",
       "1  Epping   NSW      2121  123C Carlingford Road   \n",
       "2  Epping   NSW      2121      15 Ormonde Avenue   \n",
       "3  Epping   NSW      2121     54 Gloucester Road   \n",
       "4  Epping   NSW      2121        46 Norfolk Road   \n",
       "\n",
       "                              full_address         property_type      price  \\\n",
       "0      50 Downing Street, Epping, NSW 2121                 house  2700000.0   \n",
       "1  123C Carlingford Road, Epping, NSW 2121  duplex-semi-detached  1850000.0   \n",
       "2      15 Ormonde Avenue, Epping, NSW 2121                 house  3025000.0   \n",
       "3     54 Gloucester Road, Epping, NSW 2121                 house  2350000.0   \n",
       "4        46 Norfolk Road, Epping, NSW 2121                 house  2200000.0   \n",
       "\n",
       "   bedrooms  ...  building_size_unit  land_size land_size_unit  \\\n",
       "0         3  ...                 NaN       -1.0            NaN   \n",
       "1         5  ...                 NaN       -1.0            NaN   \n",
       "2         4  ...                 NaN      701.9             m²   \n",
       "3         3  ...                 NaN     2396.0             m²   \n",
       "4         3  ...                 NaN      733.0             m²   \n",
       "\n",
       "  listing_company_id                listing_company_name  \\\n",
       "0             BIJYFL  Century 21 Masterpiece - LANE COVE   \n",
       "1             XRWEPS                  Ray White - Epping   \n",
       "2             PZDDKW                 MyProperty - Epping   \n",
       "3             THNEPP           Hunt Real Estate - Epping   \n",
       "4             XRWNEU                  The Agency - North   \n",
       "\n",
       "  listing_company_phone auction_date    sold_date  \\\n",
       "0            0406857777          NaN  12 May 2022   \n",
       "1          (02)98763133          NaN  04 May 2022   \n",
       "2            0298684888          NaN  02 May 2022   \n",
       "3            0298694677          NaN  30 Apr 2022   \n",
       "4          (02)99537333          NaN  30 Apr 2022   \n",
       "\n",
       "                                                                                           description  \\\n",
       "0  Capitalize on this once in a lifetime chance to secure a 733sqm block with over 18m frontage in ...   \n",
       "1  Emanating impeccable craftsmanship and exquisite opulence, this bespoke architect-designed duple...   \n",
       "2  Premier Address in a Tightly-Held Quiet Cul-De-Sac (701.9m2).<br/><br/>Enjoying a Blue Ribbon lo...   \n",
       "3  North east facing and set overlooking the bushland of Lucknow Park this character home boasts an...   \n",
       "4  Encased by privacy hedging and opening to a blissfully tranquil sanctuary of natural light and s...   \n",
       "\n",
       "                                                                                               listers  \n",
       "0  [{'id': '2572966', 'name': 'Felix Han', 'agent_id': None, 'job_title': 'Sales Executive', 'url':...  \n",
       "1  [{'id': '50770', 'name': 'Catherine Li', 'agent_id': None, 'job_title': 'Principal | Elite Sales...  \n",
       "2  [{'id': '1035567', 'name': 'Peter Horozakis', 'agent_id': '6cda12ae-64d4-46ea-800e-78e5758209a4'...  \n",
       "3  [{'id': '1218423', 'name': 'Peter Hunt', 'agent_id': 'a0ad1288-9479-4966-a0ef-5961a15e02f4', 'jo...  \n",
       "4  [{'id': '1861410', 'name': 'Catherine Murphy', 'agent_id': '4bca31a8-2584-4aa0-be38-e3b12faffbe5...  \n",
       "\n",
       "[5 rows x 23 columns]"
      ]
     },
     "execution_count": 55,
     "metadata": {},
     "output_type": "execute_result"
    }
   ],
   "source": [
    "base = pd.read_csv(\"/home/youwombat/202205-House-Search/REA_extract.csv\",index_col=0)\n",
    "_final = pd.read_csv(\"/home/youwombat/202205-House-Search/REA_extract_2.csv\",index_col=0)\n",
    "final = base.append(_final,ignore_index=True)\n",
    "# final1_2 = pd.concat(base, ignore_index=True)\n",
    "final.head()"
   ]
  },
  {
   "cell_type": "code",
   "execution_count": 56,
   "id": "aa608289",
   "metadata": {
    "scrolled": true
   },
   "outputs": [
    {
     "data": {
      "text/plain": [
       "id                       59218\n",
       "url                      59218\n",
       "suburb                   59218\n",
       "state                    59218\n",
       "postcode                 59218\n",
       "short_address            58060\n",
       "full_address             58060\n",
       "property_type            59218\n",
       "price                    56588\n",
       "bedrooms                 59218\n",
       "bathrooms                59218\n",
       "parking_spaces           59218\n",
       "building_size             4601\n",
       "building_size_unit        4601\n",
       "land_size                59218\n",
       "land_size_unit           33491\n",
       "listing_company_id       56825\n",
       "listing_company_name     56825\n",
       "listing_company_phone    56825\n",
       "auction_date                 0\n",
       "sold_date                59043\n",
       "description              59218\n",
       "listers                  59218\n",
       "dtype: int64"
      ]
     },
     "execution_count": 56,
     "metadata": {},
     "output_type": "execute_result"
    }
   ],
   "source": [
    "# test_df = pd.DataFrame(test)\n",
    "# test_df.count()\n",
    "# test_df.groupby(\"suburb\").count()[\"id\"].sort_values(ascending=False)\n",
    "\n",
    "final.count()\n",
    "# final.groupby(\"suburb\").count()[\"id\"].sort_values(ascending=False)\n",
    "# final[final[\"suburb\"]==\"Eastwood\"][\"full_address\"].value_counts()\n",
    "\n",
    "# final[final[\"full_address\"] == \"Lot N8 Avondale Way, Eastwood, NSW 2122\"].sort_values(\"sold_date\")\n"
   ]
  },
  {
   "cell_type": "code",
   "execution_count": 57,
   "id": "e3caa619",
   "metadata": {
    "scrolled": true
   },
   "outputs": [
    {
     "data": {
      "text/plain": [
       "id                       53052\n",
       "url                      53052\n",
       "suburb                   53052\n",
       "state                    53052\n",
       "postcode                 53052\n",
       "short_address            51912\n",
       "full_address             51912\n",
       "property_type            53052\n",
       "price                    50468\n",
       "bedrooms                 53052\n",
       "bathrooms                53052\n",
       "parking_spaces           53052\n",
       "building_size             4243\n",
       "building_size_unit        4243\n",
       "land_size                53052\n",
       "land_size_unit           29795\n",
       "listing_company_id       50733\n",
       "listing_company_name     50733\n",
       "listing_company_phone    50733\n",
       "auction_date                 0\n",
       "sold_date                52882\n",
       "description              53052\n",
       "listers                  53052\n",
       "dtype: int64"
      ]
     },
     "execution_count": 57,
     "metadata": {},
     "output_type": "execute_result"
    }
   ],
   "source": [
    "# final2 = final.drop_duplicates()\n",
    "final2= final.loc[final.astype(str).drop_duplicates().index]\n",
    "final2.count()"
   ]
  },
  {
   "cell_type": "code",
   "execution_count": 58,
   "id": "a87d5fba",
   "metadata": {
    "scrolled": true
   },
   "outputs": [
    {
     "data": {
      "text/plain": [
       "auction_date             53052\n",
       "building_size            48809\n",
       "building_size_unit       48809\n",
       "land_size_unit           23257\n",
       "price                     2584\n",
       "listing_company_phone     2319\n",
       "listing_company_name      2319\n",
       "listing_company_id        2319\n",
       "short_address             1140\n",
       "full_address              1140\n",
       "sold_date                  170\n",
       "sold_date_dt               170\n",
       "url                          0\n",
       "parking_spaces               0\n",
       "land_size                    0\n",
       "bathrooms                    0\n",
       "bedrooms                     0\n",
       "property_type                0\n",
       "postcode                     0\n",
       "state                        0\n",
       "suburb                       0\n",
       "description                  0\n",
       "listers                      0\n",
       "id                           0\n",
       "dtype: int64"
      ]
     },
     "execution_count": 58,
     "metadata": {},
     "output_type": "execute_result"
    }
   ],
   "source": [
    "#average(listings.bedrooms)\n",
    "#average(listings.bedrooms)\n",
    "final2[\"sold_date_dt\"] = pd.to_datetime(final2[\"sold_date\"])\n",
    "final2[\"sold_date_dt\"]\n",
    "final2.describe()\n",
    "final2.isnull().sum().sort_values(ascending=False)\n",
    "#df.info()"
   ]
  },
  {
   "cell_type": "code",
   "execution_count": 59,
   "id": "ca1a0737",
   "metadata": {},
   "outputs": [],
   "source": [
    "epping_listings = final2[final2[\"suburb\"]== \"Epping\"]\n",
    "northrocks_listings = final2[final2[\"suburb\"]== \"North Rocks\"]\n",
    "eastwood_listings = final2[final2[\"suburb\"]==   \"Eastwood\"]\n",
    "baulkham_listings = final2[final2[\"suburb\"]==   \"Baulkham Hills\"]\n",
    "winston_listings = final2[final2[\"suburb\"]==    \"Winston Hills\"]\n",
    "kellyville_listings = final2[final2[\"suburb\"]== \"Kellyville\"]\n",
    "blacktown_listings = final2[final2[\"suburb\"]==  \"Blacktown\"]\n",
    "castle_listings = final2[final2[\"suburb\"]== \"Castle Hill\"]\n",
    "ryde_listings = final2[final2[\"suburb\"]==   \"Ryde\"]\n",
    "rouse_listings = final2[final2[\"suburb\"]==  \"Rouse Hill\"]\n",
    "beecroft_listings = final2[final2[\"suburb\"]==   \"Beecroft\"]\n",
    "ermington_listings = final2[final2[\"suburb\"]==  \"Ermington\"]\n",
    "northmead_listings = final2[final2[\"suburb\"]==  \"Northmead\"]\n",
    "newington_listings = final2[final2[\"suburb\"]==  \"Newington\"]\n",
    "concord_listings = final2[final2[\"suburb\"]==    \"Concord\"]\n",
    "marsfield_listings = final2[final2[\"suburb\"]==  \"Marsfield\"]\n",
    "hornsby_listings = final2[final2[\"suburb\"]==    \"Hornsby\"]\n",
    "Lidcombe_listings = final2[final2[\"suburb\"]==   \"Lidcombe\"]\n",
    "Homebush_listings = final2[final2[\"suburb\"]==   \"Homebush\"]\n",
    "Straithfield_listings = final2[final2[\"suburb\"]==   \"Straithfield\"]\n",
    "Ashfield_listings = final2[final2[\"suburb\"]==   \"Ashfield\"]\n",
    "Leichhardt_listings = final2[final2[\"suburb\"]== \"Leichhardt\"]\n",
    "Annandale_listings = final2[final2[\"suburb\"]==  \"Annandale\"]\n",
    "AllambieHeights_listings = final2[final2[\"suburb\"]==    \"Allambie Heights\"]\n",
    "Forestville_listings = final2[final2[\"suburb\"]==    \"Forestville\"]\n",
    "Lindfield_listings = final2[final2[\"suburb\"]==  \"Lindfield\"]\n",
    "Gordon_listings = final2[final2[\"suburb\"]== \"Gordon\"]\n",
    "Pymble_listings = final2[final2[\"suburb\"]== \"Pymble\"]\n",
    "LaneCove_listings = final2[final2[\"suburb\"]==   \"Lane Cove\"]\n",
    "Meadowbank_listings = final2[final2[\"suburb\"]== \"Meadowbank\"]\n",
    "SummerHill_listings = final2[final2[\"suburb\"]== \"Summer Hill\"]\n",
    "Rydalmere_listings = final2[final2[\"suburb\"]==  \"Rydalmere\"]\n",
    "Rosehill_listings = final2[final2[\"suburb\"]==   \"Rosehill\"]\n",
    "Westmead_listings = final2[final2[\"suburb\"]==   \"Westmead\"]\n",
    "Girraween_listings = final2[final2[\"suburb\"]==  \"Girraween\"]\n",
    "BeaumontHills_listings = final2[final2[\"suburb\"]==  \"Beaumont Hills\"]\n",
    "KellyvilleRidge_listings = final2[final2[\"suburb\"]==    \"Kellyville Ridge\"]\n",
    "ThePonds_listings = final2[final2[\"suburb\"]==   \"The Ponds\"]\n",
    "Schofields_listings = final2[final2[\"suburb\"]== \"Schofields\"]\n",
    "MarsdenPark_listings = final2[final2[\"suburb\"]==    \"Marsden Park\"]\n",
    "KingsLangley_listings = final2[final2[\"suburb\"]==   \"Kings Langley\"]\n",
    "BellaVista_listings = final2[final2[\"suburb\"]== \"Bella Vista\"]\n",
    "BoxHill_listings = final2[final2[\"suburb\"]==    \"Box Hill\"]\n",
    "PennantHills_listings = final2[final2[\"suburb\"]==   \"Pennant Hills\"]\n",
    "Earlwood_listings = final2[final2[\"suburb\"]==   \"Earlwood\"]\n",
    "Marrickville_listings = final2[final2[\"suburb\"]==   \"Marrickville\"]\n",
    "Dulwich_listings = final2[final2[\"suburb\"]==    \"Dulwich\"]\n",
    "Petersham_listings = final2[final2[\"suburb\"]==  \"Petersham\"]\n",
    "Campsie_listings = final2[final2[\"suburb\"]==    \"Campsie\"]\n",
    "Canterbury_listings = final2[final2[\"suburb\"]== \"Canterbury\"]\n",
    "Berala_listings = final2[final2[\"suburb\"]== \"Berala\"]\n",
    "Leppington_listings = final2[final2[\"suburb\"]== \"Leppington\"]\n",
    "EdmondsonPark_listings = final2[final2[\"suburb\"]==  \"Edmondson Park\"]\n",
    "MacquariePark_listings = final2[final2[\"suburb\"]==  \"Macquarie Park\"]\n",
    "Chatswood_listings = final2[final2[\"suburb\"]==  \"Chatswood\"]\n",
    "Carlingford_listings = final2[final2[\"suburb\"]==    \"Carlingford\"]\n",
    "Kogarah_listings = final2[final2[\"suburb\"]==    \"Kogarah\"]\n",
    "Rockdale_listings = final2[final2[\"suburb\"]==   \"Rockdale\"]\n",
    "Cherrybrook_listings = final2[final2[\"suburb\"]==    \"Cherrybrook\"]\n",
    "Eastwood_listings = final2[final2[\"suburb\"]==   \"Eastwood\"]\n",
    "Homebush_listings = final2[final2[\"suburb\"]==   \"Homebush\"]\n",
    "Minto_listings = final2[final2[\"suburb\"]==  \"Minto\"]\n",
    "QuakersHill_listings = final2[final2[\"suburb\"]==    \"Quakers Hill\"]\n",
    "Revesby_listings = final2[final2[\"suburb\"]==    \"Revesby\"]\n",
    "SevenHills_listings = final2[final2[\"suburb\"]== \"Seven Hills\"]\n",
    "StanhopeGardens_listings = final2[final2[\"suburb\"]==    \"Stanhope Gardens\"]\n",
    "Waterloo_listings = final2[final2[\"suburb\"]==   \"Waterloo\"]\n",
    "DulwichHill_listings = final2[final2[\"suburb\"]==\"Dulwich Hill\"]\n",
    "NorthRyde_listings = final2[final2[\"suburb\"]==\"North Ryde\"]\n",
    "Straithfield_listings = final2[final2[\"suburb\"]==\"Straithfield\"]\n",
    "NorthStraithfield_listings = final2[final2[\"suburb\"]==\"North Straithfield\"]\n",
    "Manly_listings = final2[final2[\"suburb\"]==\"Manly\"]\n",
    "Randwick_listings = final2[final2[\"suburb\"]==\"Randwick\"]\n",
    "Kensington_listings = final2[final2[\"suburb\"]==\"Kensington\"]"
   ]
  },
  {
   "cell_type": "code",
   "execution_count": 60,
   "id": "5d9e206b",
   "metadata": {
    "scrolled": true
   },
   "outputs": [
    {
     "name": "stdout",
     "output_type": "stream",
     "text": [
      "df_numb0\n",
      "row=1\n",
      "col=1\n",
      "df_numb1\n",
      "row=1\n",
      "col=2\n",
      "df_numb2\n",
      "row=1\n",
      "col=3\n",
      "df_numb3\n",
      "row=1\n",
      "col=4\n",
      "df_numb4\n",
      "row=1\n",
      "col=5\n",
      "df_numb5\n",
      "row=2\n",
      "col=1\n",
      "df_numb6\n",
      "row=2\n",
      "col=2\n",
      "df_numb7\n",
      "row=2\n",
      "col=3\n",
      "df_numb8\n",
      "row=2\n",
      "col=4\n",
      "df_numb9\n",
      "row=2\n",
      "col=5\n",
      "df_numb10\n",
      "row=3\n",
      "col=1\n",
      "df_numb11\n",
      "row=3\n",
      "col=2\n",
      "df_numb12\n",
      "row=3\n",
      "col=3\n",
      "df_numb13\n",
      "row=3\n",
      "col=4\n",
      "df_numb14\n",
      "row=3\n",
      "col=5\n",
      "df_numb15\n",
      "row=4\n",
      "col=1\n",
      "df_numb16\n",
      "row=4\n",
      "col=2\n",
      "df_numb17\n",
      "row=4\n",
      "col=3\n",
      "df_numb18\n",
      "row=4\n",
      "col=4\n",
      "df_numb20\n",
      "row=5\n",
      "col=1\n",
      "df_numb21\n",
      "row=5\n",
      "col=2\n",
      "df_numb22\n",
      "row=5\n",
      "col=3\n",
      "df_numb23\n",
      "row=5\n",
      "col=4\n",
      "df_numb24\n",
      "row=5\n",
      "col=5\n"
     ]
    },
    {
     "data": {
      "application/vnd.plotly.v1+json": {
       "config": {
        "plotlyServerURL": "https://plot.ly"
       },
       "data": [
        {
         "autobinx": false,
         "name": "Epping",
         "type": "histogram",
         "x": [
          2700000,
          1850000,
          3025000,
          2350000,
          2200000,
          1930000,
          2604000,
          2967000,
          2482000,
          1805000,
          2630000,
          2700000,
          2765000,
          2275000,
          1100000,
          2000000,
          2535000,
          2280000,
          1490000,
          2498000,
          2300000,
          2275000,
          1310000,
          1510000,
          2650000,
          2560000,
          2489000,
          2075000,
          4000000,
          2680000,
          2100000,
          2720000,
          2600000,
          2000000,
          2300000,
          1851000,
          1805000,
          1650000,
          1300000,
          3060000,
          2400000,
          2010000,
          2960000,
          2050000,
          4500000,
          2900000,
          2750000,
          2300000,
          2450000,
          1700000,
          1870000,
          2612888,
          1710000,
          2850000,
          4035000,
          1660000,
          2100000,
          2005000,
          990000,
          2300000,
          1438000,
          2100000,
          4330000,
          2225000,
          3580000,
          2430000,
          2280000,
          1755000,
          2730000,
          2040000,
          3300000,
          2280000,
          1300000,
          3540000,
          2215000,
          2000000,
          2858000,
          2450000,
          2400000,
          2390000,
          2900000,
          2680000,
          4194000,
          2188000,
          3095000,
          2460000,
          2320000,
          2510000,
          1700000,
          1800000,
          1605000,
          2020000,
          2780000,
          2072000,
          2700000,
          2000000,
          3155000,
          2550000,
          1548000,
          2180000,
          2586000,
          2573000,
          1735500,
          2260000,
          2660000,
          2850000,
          2352500,
          2118000,
          2150000,
          2520000,
          1569000,
          3300000,
          1752000,
          2898000,
          2200000,
          1660000,
          2270000,
          2391500,
          1370000,
          1920000,
          2188000,
          1606000,
          2230000,
          2400000,
          2240000,
          2175000,
          2630000,
          1850000,
          1585000,
          1980000,
          2420000,
          2280000,
          2530000,
          1305000,
          3350000,
          2540000,
          2620000,
          2280000,
          2021000,
          1560000,
          1600000,
          2620000,
          2430000,
          2155000,
          2105000,
          1500000,
          2600000,
          1800000,
          2388000,
          2265000,
          2250000,
          1780000,
          3360000,
          1800000,
          3280000,
          2225000,
          2200000,
          2190000,
          1610000,
          2000000,
          2200000,
          1967000,
          2000000,
          1872000,
          3115000,
          2010000,
          1959000,
          1830800,
          1884000,
          2231000,
          1860000,
          2300000,
          1980000,
          1980000,
          3110000,
          2550000,
          2201000,
          1970000,
          3200000,
          2511000,
          2400000,
          1250000,
          1150000,
          2100000,
          2100000,
          2240000,
          2170000,
          2250000,
          2758000,
          2500000,
          2188000,
          2610000,
          2000000,
          1780000,
          1701000,
          2600000,
          2258000,
          2170000,
          1732000,
          2510000,
          2460000,
          2000000,
          1850000,
          2653000,
          2150000,
          1800000,
          1650000,
          1980000,
          1720000,
          1650000,
          1785000,
          1710000,
          3021000,
          2708000,
          1850000,
          2550000,
          1905000
         ],
         "xaxis": "x",
         "xbins": {
          "size": 500000
         },
         "yaxis": "y"
        },
        {
         "autobinx": false,
         "name": "North Rocks",
         "type": "histogram",
         "x": [
          1500000,
          1637000,
          1307000,
          1625000,
          2010000,
          960000,
          1660000,
          1545000,
          1835000,
          1590000,
          970000,
          1850000,
          1802000,
          835000,
          1805000,
          1480000,
          1280000,
          1550000,
          2003000,
          1830000,
          1312500,
          1665000,
          1987500,
          1902000,
          1780000,
          1805000,
          1070000,
          967500,
          2303000,
          1700000,
          1540000,
          2200000,
          971000,
          1840000,
          1015000,
          1875000,
          963800,
          1690000,
          1830000,
          1410000,
          1606000,
          1630000,
          1300000,
          962000,
          2390000,
          2407000,
          1400000,
          1303000,
          1125000,
          1635000,
          1309000,
          1845000,
          1640000,
          925000,
          1780000,
          1615000,
          1760000,
          1652000,
          2350000,
          1445000,
          1600000,
          1205000,
          1409000,
          1450000,
          1644000,
          880000,
          888000,
          1710000,
          1177000,
          1300000,
          1303000,
          820000,
          1500000,
          1750000,
          2195000,
          1051000,
          1825500,
          1800000,
          1800000,
          1320000,
          1528000,
          1420000,
          null,
          null,
          null,
          null,
          null,
          null,
          null,
          null,
          1695000,
          null,
          1890000,
          1330000,
          1870000,
          1768000,
          1036000,
          1435000,
          855000,
          1110000,
          1475000,
          1400000,
          960000,
          null,
          1525000,
          1100000,
          1745000,
          970000,
          1330000,
          null
         ],
         "xaxis": "x2",
         "xbins": {
          "size": 500000
         },
         "yaxis": "y2"
        },
        {
         "autobinx": false,
         "name": "Eastwood",
         "type": "histogram",
         "x": [
          2800000,
          3008000,
          2076000,
          3050000,
          2850000,
          2950000,
          2640000,
          2550000,
          2000000,
          3610000,
          2350000,
          2870000,
          2405000,
          3050000,
          2250000,
          2400000,
          2400000,
          3220000,
          3185000,
          2430000,
          2418000,
          2120000,
          2650000,
          2100000,
          2430000,
          3100000,
          3005000,
          2050000,
          2000000,
          2090000,
          1702000,
          2200000,
          2970000,
          3320000,
          2710000,
          2171000,
          3808000,
          3000000,
          2540000,
          1515000,
          3480000,
          3160000,
          2200000,
          2638000,
          2200000,
          3300000,
          2835000,
          2932000,
          2751000,
          2701000,
          2250000,
          2250000,
          3500000,
          4360000,
          3050000,
          2715000,
          3060000,
          2470000,
          2760000,
          2900000,
          2390000,
          2380000,
          3910000,
          3020000,
          2200000,
          2320000,
          2070000,
          3010000,
          2700000,
          2580000,
          2355000,
          2900000,
          2300000,
          2420000,
          2760000,
          2580000,
          2550000,
          2450000,
          1300000,
          3500000,
          2500000,
          2800000,
          2860000,
          2170000,
          3000000,
          2600000,
          1881000,
          2020000,
          2630000,
          2150000,
          2200000,
          1950000,
          1700000,
          1910000,
          2790000,
          2550000,
          2850000,
          2300000,
          2900000,
          2556000,
          2280000,
          1880000,
          2180000,
          1833000,
          1710000,
          910000,
          1700000,
          2162000,
          3450000,
          1965000,
          1965000,
          1941000,
          2420000,
          2400000,
          2388000,
          2160000,
          2100000,
          1980000,
          1545000,
          2010000,
          3110000,
          3025000,
          2830000,
          2825000,
          2200000,
          2160000,
          3110000,
          2600000,
          2090000,
          1815000,
          1301000,
          2225000,
          1990000,
          1900000,
          1770000,
          2800000,
          2800000,
          2300000,
          2050000,
          1870000,
          2380000,
          1538000,
          2640000,
          2050000,
          1980000,
          1350000,
          2300000,
          1780000,
          2655000,
          2255000,
          1620000,
          2008336,
          2066000,
          1820000,
          1667500,
          1880000,
          2905000,
          2510000,
          1770000,
          2150000,
          2300000,
          2100000,
          2150000,
          3000000,
          2600000,
          2172000,
          2850000,
          2595000,
          1560000,
          1465000,
          1680000,
          2430000,
          2468000,
          2600000,
          2900000,
          1965000,
          2160000,
          2350000,
          2350000,
          1670000,
          1110000,
          1200000,
          1420000,
          1175000,
          805000,
          790000,
          814000,
          1213000
         ],
         "xaxis": "x3",
         "xbins": {
          "size": 500000
         },
         "yaxis": "y3"
        },
        {
         "autobinx": false,
         "name": "Baulkham Hills",
         "type": "histogram",
         "x": [
          1190000,
          1065000,
          1012200,
          1800000,
          951000,
          1931000,
          1160000,
          1150000,
          1760000,
          2480000,
          1100000,
          1080000,
          1650000,
          1830000,
          1880000,
          2250000,
          1685000,
          2418000,
          1420000,
          1903000,
          1822000,
          1725000,
          1987000,
          2040000,
          1810000,
          1652000,
          1000000,
          1828000,
          1266000,
          940000,
          1793000,
          1075000,
          1471000,
          2085000,
          1341000,
          2120000,
          1755000,
          1300000,
          1800000,
          1190000,
          2367000,
          1400000,
          1810000,
          1590000,
          1535000,
          1420000,
          1711111,
          1325000,
          2100000,
          2081000,
          1910000,
          808000,
          1670000,
          1210000,
          1040000,
          2306000,
          1500000,
          1680000,
          1045000,
          1855000,
          1700000,
          2055000,
          1650000,
          1250000,
          1172000,
          1820000,
          1752000,
          1650000,
          2010000,
          1215000,
          940000,
          1750000,
          1130000,
          900000,
          1108000,
          1770000,
          1580000,
          1865000,
          1670000,
          1850000,
          1200000,
          1200000,
          1650000,
          921000,
          1140000,
          2082500,
          1705000,
          1630000,
          1725000,
          1080000,
          1008000,
          2150000,
          1790000,
          1768000,
          1615000,
          1760000,
          1080000,
          1960000,
          1940000,
          1595000,
          1630000,
          1182000,
          1560000,
          1525000,
          1885000,
          1850000,
          1252000,
          1235000,
          1900000,
          1780000,
          965000,
          1130000,
          940000,
          1335000,
          1780000,
          1385000,
          1348000,
          1000000,
          890000,
          1173000,
          1625000,
          1115000,
          1150000,
          1270000,
          1186000,
          2200000,
          938500,
          1025000,
          1850000,
          1951000,
          1715000,
          1760000,
          2470000,
          1580000,
          1178000,
          1700000,
          1015000,
          1280000,
          1775000,
          1130000,
          1486000,
          1800000,
          2120000,
          1900000,
          1605000,
          1795000,
          1605000,
          1600000,
          1115000,
          1825000,
          1360000,
          1110000,
          1700000,
          1275000,
          2442000,
          1601000,
          1540000,
          1126100,
          1062500,
          1425000,
          1350000,
          1480000,
          1600000,
          1600000,
          1900000,
          1320000,
          1880000,
          1726000,
          1260000,
          1052000,
          765000,
          1745000,
          1590000,
          1855000,
          1850000,
          1955000,
          1910000,
          1752000,
          1552500,
          1690000,
          1520000,
          1425000,
          1550000,
          1500000,
          2040000,
          1610000,
          965000,
          1590000,
          1555000,
          1675000,
          1590000,
          1400000,
          1430000,
          1100000,
          1500000,
          830500,
          1600000,
          1570000,
          1980000,
          1551000,
          1500000,
          1681000,
          1620000,
          4420000,
          1351000,
          1080000,
          1633000,
          1030000,
          1620000,
          1580000,
          1150000,
          1890000,
          1400000,
          1300000,
          1100000,
          1560000,
          1221000,
          1658000,
          1605000,
          1720000,
          960000,
          1680000,
          1501800,
          1715000,
          968000,
          1410000,
          1707000,
          935000,
          815000,
          1500000,
          725000,
          1608000,
          1490000,
          955000,
          1710000,
          1700000,
          1360000,
          1768000,
          975000,
          940000,
          1840000,
          1590000,
          1551000,
          1651000,
          1500100,
          2020000,
          1420000,
          2512000,
          1750000,
          1480000,
          1477000,
          1456000,
          1016000,
          1710000,
          2300000,
          2100000,
          1780000,
          1380000,
          788000,
          1171000,
          1160000,
          1750000,
          1715000,
          1495000,
          1655000,
          1400000,
          1252000,
          1710000,
          1200000,
          1050000,
          835000,
          1400000,
          1317000,
          900000,
          1500000,
          1470000,
          1255000,
          1465000,
          1575000,
          1262000,
          1277000,
          1420000,
          891000,
          1252500,
          1200000,
          980000,
          1350000,
          1365000,
          935000
         ],
         "xaxis": "x4",
         "xbins": {
          "size": 500000
         },
         "yaxis": "y4"
        },
        {
         "autobinx": false,
         "name": "Winston Hills",
         "type": "histogram",
         "x": [
          1275000,
          1605000,
          1225000,
          1450000,
          1405000,
          1675000,
          1620000,
          1450000,
          1650000,
          1760500,
          1175000,
          1492000,
          1142500,
          1556000,
          1665000,
          1520000,
          1300000,
          1605000,
          1510000,
          1500000,
          1306000,
          1750000,
          1320000,
          1500000,
          1610000,
          1440000,
          1407000,
          1605000,
          1500000,
          1630000,
          1750000,
          1746000,
          1361500,
          1501000,
          1745000,
          1720000,
          1500000,
          1451750,
          1700000,
          1645000,
          1402500,
          1655000,
          1490000,
          1260000,
          1045500,
          1380000,
          1425000,
          1330000,
          1400000,
          1300000,
          1100000,
          1364000,
          1251000,
          1270000,
          1362000,
          1210000,
          1215000,
          1300000,
          1375000,
          925000,
          1471000,
          1410000,
          1371000,
          1190000,
          1487000,
          1316000,
          1358000,
          1500500,
          1359000,
          1631000,
          1258000,
          1465000,
          1030000,
          1300000,
          988500,
          1380000,
          1332000,
          1900000,
          1425000,
          1360000,
          1141000,
          980000,
          1195000,
          1255000,
          1243000,
          1300000,
          1330000,
          1285000,
          867000,
          1300000,
          1700000,
          1315000,
          1625000,
          1400000,
          1180000,
          1208000,
          1170000,
          1050000,
          1340000,
          1730000,
          1330000,
          1159000,
          1101000,
          1250000
         ],
         "xaxis": "x5",
         "xbins": {
          "size": 500000
         },
         "yaxis": "y5"
        },
        {
         "autobinx": false,
         "name": "Kellyville",
         "type": "histogram",
         "x": [
          2275000,
          1361000,
          1680000,
          2390000,
          1500000,
          1700000,
          1900000,
          1710000,
          2340000,
          1900000,
          1650000,
          1177500,
          2375000,
          1635000,
          1300000,
          1200000,
          1820000,
          1870000,
          1630000,
          3360000,
          1738000,
          2050000,
          1921000,
          1702000,
          1550000,
          2175000,
          1380000,
          1275000,
          1050000,
          1630000,
          1762000,
          1800000,
          1755000,
          1642750,
          1081000,
          1881000,
          1630000,
          1835000,
          1680000,
          1345000,
          1225000,
          2305500,
          1630000,
          1918000,
          1840000,
          1430000,
          1717000,
          2116000,
          2200000,
          1700000,
          1850000,
          1000000,
          1900000,
          1633000,
          1502000,
          1820000,
          1016000,
          1900000,
          2310000,
          1720000,
          1290000,
          1615000,
          1440000,
          1315000,
          2300000,
          2111000,
          1280000,
          2070000,
          1550000,
          1255000,
          1580000,
          1790000,
          1720000,
          1650000,
          2022000,
          1870000,
          2000000,
          1375000,
          1172000,
          1535000,
          1800000,
          1407000,
          1750000,
          2185000,
          1850000,
          1800000,
          1740000,
          1350000,
          1870000,
          1800000,
          1729000,
          2100000,
          2200000,
          1700000,
          1255000,
          2518000,
          1611500,
          1550000,
          1810000,
          1590000,
          1150000,
          1880000,
          1125000,
          2000000,
          1650000,
          1589000,
          2050000,
          1965000,
          1620000,
          1940000,
          1670000,
          1623000,
          1730000,
          1425000,
          1360000,
          1277500,
          1945000,
          1519000,
          1750000,
          1430000,
          1280000,
          1320888,
          1930000,
          1725000,
          1560000,
          1040100,
          1816000,
          1540000,
          1465000,
          1600000,
          1150000,
          1705000,
          1700000,
          1540000,
          1272000,
          1665000,
          980000,
          1412500,
          1800000,
          1595000,
          1460000,
          1840000,
          1550000,
          1651000,
          1908000,
          1600800,
          1527000,
          1100000,
          1360000,
          2600000,
          1855000,
          1700000,
          955000,
          2300000,
          1590000,
          2085000,
          1482000,
          1400000,
          1320000,
          1960000,
          1520000,
          1285000,
          1288000,
          1791000,
          1400000,
          2100000,
          1645000,
          1650000,
          1580000,
          1300000,
          1500000,
          2131000,
          1651000,
          1900000,
          1506000,
          2550000,
          1490000,
          1310000,
          1400000,
          1535000,
          1385000,
          1182000,
          1550000,
          1431000,
          1320000,
          1621100,
          1715000,
          2000000,
          1925000,
          1820000,
          1410000,
          1976000,
          1785000,
          1403000,
          1600000,
          1292000,
          1250000,
          1620000,
          1206000,
          1100000,
          1600000,
          1155000,
          1055000,
          1540000,
          1660000,
          1540500,
          1437000,
          1275000,
          2265000,
          1810000,
          1378000,
          1340000,
          1600000,
          1198000,
          1535000,
          1320000,
          1880000,
          1396222,
          1335000,
          1800000,
          2050000,
          2000000,
          1290000,
          1191000,
          2400000,
          1436000,
          2500000,
          1130000,
          1190000,
          1650000,
          1230000,
          1179000,
          2232000,
          1160000,
          953000,
          1430000,
          1530000,
          1438000,
          1197500,
          1082000,
          1055000,
          1760000,
          1462000,
          1415000,
          1721500,
          1610000,
          1178000,
          1335000,
          1815000,
          2301000,
          1353000,
          962500,
          875000,
          1480000,
          860000,
          1891000
         ],
         "xaxis": "x6",
         "xbins": {
          "size": 500000
         },
         "yaxis": "y6"
        },
        {
         "autobinx": false,
         "name": "Blacktown",
         "type": "histogram",
         "x": [
          710000,
          805000,
          935000,
          752000,
          725000,
          836000,
          775000,
          765000,
          950000,
          1325000,
          980000,
          627000,
          580000,
          897000,
          870000,
          715000,
          1030000,
          969000,
          850000,
          1107000,
          990000,
          980000,
          970000,
          710000,
          990000,
          1025000,
          951000,
          810000,
          865000,
          770000,
          935000,
          1401000,
          940000,
          657000,
          1181000,
          1105000,
          915000,
          976000,
          943000,
          865000,
          810000,
          782500,
          1025000,
          1725000,
          752000,
          1122000,
          435000,
          1285000,
          1117000,
          1060000,
          895000,
          868000,
          760000,
          740000,
          600000,
          1100000,
          1460000,
          1250000,
          700000,
          1075000,
          970000,
          800000,
          750000,
          827000,
          580000,
          2100000,
          780000,
          524000,
          833000,
          1100000,
          975000,
          905000,
          880000,
          850000,
          888000,
          915000,
          1138000,
          1105000,
          1345000,
          1020000,
          1060000,
          915000,
          1025000,
          986000,
          950000,
          933000,
          1170000,
          1040000,
          620000,
          1200000,
          1200000,
          686000,
          816000,
          980000,
          941500,
          921500,
          1055000,
          950000,
          905000,
          820000,
          670000,
          862000,
          750000,
          750000,
          1270000,
          1100000,
          1376000,
          1090000,
          910000,
          960000,
          930000,
          710000,
          935000,
          870000,
          1027000,
          935000,
          865000,
          941500,
          905000,
          745000,
          1100000,
          925000,
          1070000,
          710000,
          880000,
          870000,
          870000,
          956000,
          890000,
          820000,
          895000,
          1210000,
          760000,
          743000,
          1222000,
          910000,
          905000,
          900000,
          765000,
          975000,
          925000,
          845000,
          811000,
          1100000,
          915000,
          805000,
          770000,
          960000,
          750000,
          970000,
          1050000,
          835000,
          910000,
          660000,
          1665000,
          1155000,
          1075000,
          505000,
          1250000,
          760000,
          1062500,
          768000,
          906000,
          1080000,
          990000,
          990000,
          880000,
          870000,
          1125000,
          1155000,
          862000,
          675000,
          605000,
          950000,
          862000,
          1375000,
          1070000,
          855000,
          785000,
          1255000,
          1225000,
          1222000,
          1180000,
          862500,
          815000,
          750000,
          680000,
          605000,
          1300111,
          820000,
          800000,
          940000,
          750000,
          1060000,
          970000,
          915000,
          852000,
          805000,
          1575000,
          995000,
          925000,
          760000,
          1250000,
          969000,
          950000,
          802500,
          850000,
          805000,
          685000,
          1000000,
          960000,
          850000,
          720000,
          955000,
          1245000,
          805000,
          860000,
          820000,
          730000,
          955000,
          730000,
          675000,
          1011000,
          975000,
          960000,
          1020000,
          900000,
          865000,
          820000,
          702500,
          980000,
          575000,
          1001000,
          880000,
          565000,
          1150000,
          880000,
          500000,
          1225000,
          1120000,
          943500,
          881000,
          870000,
          1201000,
          900000,
          810000,
          725000,
          700000,
          1091000,
          1307000,
          1125000,
          901000,
          560000,
          1250000,
          823412,
          1140000,
          910000,
          895000,
          840000,
          817000,
          820000,
          790000,
          1025000,
          770000,
          1050000,
          1300000,
          958000,
          890000,
          841000,
          1000000,
          770000,
          755000,
          720000,
          950000,
          865000,
          800000,
          445100,
          990000,
          934000,
          960000,
          833150,
          938000,
          845000,
          800000,
          830000,
          796000,
          690000,
          925000,
          1385000,
          1375000,
          1010000,
          945000,
          900000,
          1400000,
          900000,
          815000,
          635000,
          1025000,
          929000,
          753000,
          1070000,
          926000,
          1300000,
          1282000,
          855000,
          850000,
          925000,
          725000,
          620000,
          962000,
          755000,
          745000,
          790000,
          770000,
          1600000,
          1020000,
          1000000,
          820000,
          552000,
          876000,
          800000,
          777000,
          768000,
          820000,
          742000,
          910000,
          790000,
          745000,
          525000,
          775000,
          580000,
          650000,
          757000,
          467500,
          850000,
          750000,
          842000,
          850000,
          1125000,
          1100000,
          920000,
          1153000,
          1050000,
          955000,
          780000,
          670100,
          937000,
          502000,
          960000,
          831000,
          1185000,
          1155000,
          955000,
          1108000,
          865000,
          1007000,
          1250000,
          650000,
          990000,
          715000,
          970000,
          945000,
          746000,
          680000,
          1205000,
          657400,
          893000,
          930000,
          687000,
          787000,
          1000000,
          955000,
          520000,
          1040000,
          970000,
          820000,
          685000,
          647000,
          1005000,
          960000,
          980000,
          895000,
          1000000,
          645000,
          1385000,
          615000,
          822000,
          770000,
          950000,
          782000,
          765000,
          635000,
          835000,
          658000,
          700000,
          700000,
          795000,
          695000,
          559000,
          936500,
          852000,
          720000,
          700000,
          935000,
          961300,
          1055000,
          950000,
          901000,
          780000,
          970000,
          850000,
          1465000,
          1210000,
          1175000,
          810000,
          801000,
          720000,
          691000,
          528000,
          800000,
          1126000,
          1122000,
          755000,
          1050000,
          945000,
          920000,
          1035000,
          1290000,
          821000,
          780000,
          620000,
          535000,
          800000,
          940000,
          930000,
          925000,
          930000,
          615000,
          650000,
          815000,
          820000,
          800000,
          671000,
          515000,
          1005000,
          1150000,
          950000,
          845000,
          950000,
          850000,
          520000,
          770000,
          745000,
          482000,
          985000,
          688000,
          1150000,
          825000,
          797000,
          940000,
          850000,
          715000,
          550000,
          830000,
          785000,
          746000,
          663500,
          830000,
          907000,
          852000,
          1015000,
          910000,
          780000,
          580000,
          715500,
          930000,
          860000,
          927000,
          835000,
          680000,
          490000,
          440000,
          4200000,
          830000,
          810000,
          760000,
          640000,
          565000,
          950000,
          623000,
          940000,
          806000,
          986000,
          890000,
          835000,
          706000,
          880000,
          760000,
          682000,
          850000,
          825000,
          815000,
          763000,
          960000,
          800000,
          1075000,
          835000,
          800000,
          800000,
          699000,
          585000,
          1120000,
          735000,
          980000,
          1277000,
          1110000,
          1042000,
          966000,
          730000,
          665000,
          543000,
          1150000,
          860000,
          547500,
          888000,
          795000,
          715000,
          595000,
          963000,
          932000,
          915000,
          1250000,
          1200000,
          1015000,
          775000,
          750000,
          580000,
          892000,
          830000,
          755000,
          915000,
          890000,
          720000,
          880000,
          814000,
          730000,
          685000,
          940000,
          880000,
          700000,
          802000,
          755000,
          743500,
          893000,
          1401000,
          813029,
          780000,
          550000,
          550000,
          785000,
          625000,
          770000,
          706000,
          912000,
          900000,
          855000,
          650000,
          650000,
          610000,
          925000,
          735000,
          1350000,
          1080000,
          830000,
          725000,
          818000,
          505000,
          1540000,
          970000,
          955000,
          890000,
          880000,
          755000,
          751000,
          600000,
          782000,
          625000,
          885000,
          600000,
          800000,
          760000,
          853000,
          795000,
          881000,
          512000,
          760000,
          980000,
          550000,
          880000,
          780000,
          515000,
          815000,
          710500,
          875000,
          675000,
          607000,
          535000,
          900000,
          650000,
          1050000,
          950000,
          857000,
          1350000,
          840000,
          560000,
          880000,
          839000,
          820000,
          760000,
          1000000,
          975000,
          650000,
          740000,
          760888,
          1180000,
          890000,
          826000,
          478900,
          900000,
          900000,
          860000,
          820000,
          780000,
          680000,
          631000,
          600000,
          822000,
          1020000,
          1301000,
          1200000,
          797500,
          790000,
          541000,
          840000,
          640000,
          730000,
          577000,
          735000,
          985000,
          767000,
          830000,
          815000,
          700000,
          1205000,
          880000,
          518000,
          1021000,
          775000,
          587500,
          800000,
          740000,
          717000,
          460000,
          625000,
          1050000,
          720000,
          680000,
          724500,
          497000,
          885000,
          700000,
          1050000,
          980000,
          650000,
          650000,
          700000,
          727500,
          806000,
          820000,
          767000,
          630000,
          660000,
          490000
         ],
         "xaxis": "x7",
         "xbins": {
          "size": 500000
         },
         "yaxis": "y7"
        },
        {
         "autobinx": false,
         "name": "Castle Hill",
         "type": "histogram",
         "x": [
          1740000,
          3980000,
          2150000,
          2692000,
          2525000,
          2400000,
          2385000,
          2502000,
          1615000,
          2520000,
          1850000,
          2360000,
          1640000,
          1281000,
          1920000,
          2419000,
          1866000,
          1845000,
          2100000,
          1790000,
          1900000,
          1950000,
          1570000,
          1855000,
          2750000,
          2000000,
          1825000,
          1400000,
          1330000,
          2020000,
          1310000,
          2350000,
          3250000,
          2100000,
          2100000,
          1145000,
          2250000,
          1660000,
          1450000,
          1240000,
          4000000,
          1875000,
          2028000,
          1880000,
          1960000,
          1860000,
          5120000,
          1652500,
          2550000,
          1995000,
          1520000,
          3061500,
          1588888,
          1400000,
          2170000,
          1180000,
          2960000,
          1958000,
          1990000,
          2030000,
          2000000,
          2551000,
          2360000,
          2135000,
          2000000,
          980000,
          2625000,
          2090000,
          1680000,
          2550000,
          1450000,
          1940000,
          2250000,
          2570000,
          2170000,
          1900000,
          1825000,
          1413000,
          2491000,
          2375000,
          1746000,
          3070000,
          1550000,
          2720000,
          1730000,
          1270000,
          2450000,
          1806000,
          1206000,
          1585000,
          2488000,
          2195000,
          1460000,
          1697000,
          2282000,
          1700000,
          941000,
          2655000,
          2321000,
          1451000,
          1400000,
          2050000,
          2605000,
          1760000,
          1985000,
          1350000,
          1215000,
          2000000,
          2321000,
          1995000,
          1143000,
          2410000,
          1380000,
          2492000,
          1960000,
          2008888,
          2251000,
          2112500,
          1985000,
          1500000,
          1685000,
          2180000,
          1885000,
          1320000,
          2100000,
          1370000,
          1318000,
          2850000,
          2059300,
          1806000,
          1550000,
          2000000,
          2200000,
          1523500,
          3185000,
          2065000,
          1740000,
          965000,
          2082000,
          2000000,
          1926700,
          2260000,
          2014000,
          2675000,
          1150000,
          2200000,
          954000,
          1968500,
          2110000,
          2183000,
          1450750,
          1600000,
          2175000,
          1340000,
          2675000,
          2320000,
          1700000,
          1753000,
          1890000,
          2300000,
          1300000,
          1352600,
          1550000,
          1530000,
          2255000,
          1225000,
          1530000,
          3400000,
          2305000,
          2160000,
          2330000,
          2100000,
          1155000,
          1150000,
          2051000,
          1655000,
          1600000,
          1711000,
          1320000,
          1560000,
          1690000,
          2100000,
          2450000,
          1930000,
          1631000,
          1361000,
          1570000,
          2550000,
          1720000,
          1712500,
          1850000,
          2375000,
          2060000,
          2125000,
          1850000,
          1560000,
          2375000,
          1755000,
          1735000,
          1400000,
          1625000,
          1270000,
          1932588,
          1565000,
          1469000,
          990000,
          1850888,
          2029000,
          1716000,
          1368000,
          1720000,
          1610000,
          1485000,
          2000000,
          2160000,
          1840000,
          1660000,
          1611000,
          2950000,
          2270000,
          1910000,
          2020000,
          2020000,
          1737000,
          1719500,
          1500000,
          1750000,
          2200000,
          2338000,
          1390000,
          2120000,
          1960000,
          1680000,
          2200000,
          2610000,
          1787000,
          1450000,
          1259000,
          1695000,
          2067000,
          1885000,
          1950000,
          1810000,
          1800000,
          2230000,
          2000000,
          1678888,
          1800000,
          1553000,
          2095000,
          1581000,
          1440000,
          1667000,
          1450000,
          1260000,
          1835000,
          2035000,
          1855000,
          1700000,
          1622000,
          1545000,
          1501000,
          1655000,
          1630000,
          2070000,
          1273000,
          2250000,
          1770000,
          2125000,
          1160000,
          2015000,
          1910000,
          900000,
          1700000,
          1200000,
          1760000,
          2300000,
          1670000,
          990000,
          3680000,
          1830000,
          1290000,
          1155025,
          1458000,
          2056000,
          1175000,
          1060000,
          1371000,
          1300000,
          1650000,
          1860000,
          1611000,
          1025000,
          2500000,
          1781000,
          2150000,
          920000,
          1730000,
          1226000,
          2600000,
          2200000,
          845000
         ],
         "xaxis": "x8",
         "xbins": {
          "size": 500000
         },
         "yaxis": "y8"
        },
        {
         "autobinx": false,
         "name": "Ryde",
         "type": "histogram",
         "x": [
          2320000,
          2460000,
          2030000,
          2520000,
          1650000,
          2645000,
          2415000,
          1875000,
          1980000,
          2425000,
          2400000,
          1868000,
          1422000,
          2800000,
          1900000,
          2390000,
          2025000,
          2350000,
          2700000,
          2760000,
          2100000,
          2322000,
          1709000,
          2050000,
          2360000,
          1940000,
          2450000,
          2421000,
          2920000,
          940000,
          2550000,
          2350000,
          2250000,
          2000000,
          2430000,
          3380000,
          2120000,
          2925000,
          2285000,
          2450000,
          2400000,
          2170000,
          2810000,
          2395000,
          2555000,
          3200000,
          2660000,
          2600000,
          2501000,
          2020000,
          2460000,
          2030000,
          2090000,
          2625000,
          2050000,
          1850000,
          1680000,
          2350000,
          1565000,
          2805000,
          2651000,
          2400000,
          2700000,
          2889000,
          2765000,
          2320000,
          1710000,
          1950000,
          2377000,
          1580000,
          2100000,
          2190000,
          2600000,
          3125000,
          2470000,
          1870000,
          2185000,
          1945000,
          2350000,
          1925000,
          1880000,
          3003000,
          1991000,
          1501500,
          1780000,
          2380000,
          1930000,
          2000000,
          1230000,
          2280000,
          1620000,
          1710000,
          1845000,
          2512500,
          3150000,
          2100000,
          2755000,
          2605000,
          2000000,
          2560000,
          2800000,
          2220000,
          2675000,
          1975000,
          3220000,
          2000000,
          1931000,
          2716800,
          2430000,
          2012000,
          2650000,
          1950000,
          1550000,
          1801500,
          2325000,
          2290000,
          1763000,
          2751000,
          1774000,
          2620000,
          1700000,
          1965000,
          2208700,
          2345000,
          2150000,
          1915000,
          1815000,
          1950000,
          1805000,
          2100000,
          2750000,
          2510000,
          2400000,
          2375000,
          2130000,
          1480000,
          1630000,
          1950000,
          2295000,
          1800000,
          2150000,
          1740000,
          1710000,
          2475000,
          2695000,
          1580000,
          2620000,
          2350000,
          1835000,
          1956000,
          1810000,
          1880000,
          1800000,
          2220500,
          1965000,
          1920000,
          1370000,
          2700000,
          2340000,
          2200000,
          2415000,
          2455000,
          2000000,
          1720000,
          2600000,
          2500000,
          1830000,
          2250000,
          1670000,
          2000000,
          2400000,
          1680000,
          1960000,
          1785000,
          1850000,
          1600000,
          4800000,
          1410000,
          1757500,
          1370000,
          1836000,
          1800000,
          1585000
         ],
         "xaxis": "x9",
         "xbins": {
          "size": 500000
         },
         "yaxis": "y9"
        },
        {
         "autobinx": false,
         "name": "Rouse Hill",
         "type": "histogram",
         "x": [
          1650000,
          1125000,
          1506000,
          1375000,
          1410000,
          1661000,
          1190000,
          1715000,
          1570000,
          1413000,
          1415000,
          1435000,
          1260000,
          1600000,
          1590000,
          2020000,
          4100000,
          2200000,
          1620000,
          1050000,
          1880000,
          1395000,
          1515000,
          1380000,
          1750000,
          1725000,
          1300000,
          1185000,
          1700000,
          1301000,
          1510000,
          1221000,
          1520000,
          1450000,
          2370000,
          1700000,
          1662000,
          1640000,
          1200000,
          1655000,
          1325901,
          1321000,
          1505000,
          1580000,
          1570000,
          1725000,
          1300000,
          1360000,
          1415800,
          1691000,
          1380000,
          1320000,
          1185000,
          1125000,
          1500000,
          1313500,
          1226500,
          1630000,
          1250000,
          1280000,
          950000,
          1370000,
          1345000,
          1080888,
          1300000,
          1260000,
          1302000,
          1630000,
          1225000,
          1450000,
          1370000,
          1320000,
          1565970,
          1200000,
          1400000,
          1370000,
          1567250,
          1500000,
          1085000,
          1305000,
          1255000,
          1406000,
          1335000,
          1535000,
          1052500,
          1027000,
          1760000,
          1121000,
          1241500,
          1350000,
          1463000,
          1390000,
          1310000,
          1410000,
          1080000,
          1393300,
          1352300,
          1141900,
          1453880,
          1475580,
          1300000,
          1245000,
          1195000,
          1009900,
          1200000,
          782000,
          980000,
          1000000,
          1395000,
          2079000,
          1820000,
          1959000,
          1100000,
          930000,
          670000,
          950000,
          1740000,
          1480000,
          1360000,
          1305000,
          1100000,
          860000,
          850000,
          850000,
          1286900
         ],
         "xaxis": "x10",
         "xbins": {
          "size": 500000
         },
         "yaxis": "y10"
        },
        {
         "autobinx": false,
         "name": "Beecroft",
         "type": "histogram",
         "x": [
          3500000,
          2040000,
          2650000,
          3110000,
          2439800,
          1800000,
          2410000,
          2100000,
          3150000,
          1950000,
          1570000,
          1760000,
          2140000,
          2605000,
          2210000,
          2220000,
          1860000,
          1920000,
          2689000,
          2806000,
          2540000,
          2475000,
          2325000,
          2980000,
          1881000,
          1420000,
          1560200,
          2020000,
          2450000,
          2445000,
          2375000,
          1851000,
          2361000,
          2700000,
          2525000,
          2000000,
          1925000,
          3160000,
          2460000,
          2010000,
          1580000,
          2230000,
          2530000,
          1972000,
          2010000,
          3300000,
          1850000,
          2240000,
          2688000,
          2866000,
          2020000,
          2185000,
          2570000,
          2180000,
          1750000,
          2100000,
          2360000,
          2150000,
          3450000,
          1536000,
          2800000,
          2110000,
          2085000,
          2000000,
          2264000,
          2305000,
          2121000,
          1865000,
          2200000,
          1351000,
          1785000,
          1770000,
          1660000,
          null,
          null,
          null,
          null,
          null,
          null,
          null,
          1830000,
          2625000,
          3300000,
          null,
          2400000,
          4000000,
          null,
          2200000,
          2940000,
          2930000,
          2900000,
          2625000,
          2675000,
          null,
          2180000,
          2430000,
          null,
          1980000,
          2510000,
          1880000,
          1780000,
          1900000,
          1820000,
          null,
          null,
          2600000
         ],
         "xaxis": "x11",
         "xbins": {
          "size": 500000
         },
         "yaxis": "y11"
        },
        {
         "autobinx": false,
         "name": "Ermington",
         "type": "histogram",
         "x": [
          1840000,
          4200000,
          2225000,
          1338000,
          1260000,
          1065000,
          2660000,
          1010000,
          800000,
          2020000,
          1820000,
          990550,
          1200000,
          2038000,
          1875000,
          1808000,
          1070000,
          1888000,
          2085000,
          1815000,
          2320000,
          1840000,
          1785000,
          2000000,
          1860000,
          1750000,
          885000,
          1010000,
          1620000,
          1125000,
          1755000,
          1668000,
          1710000,
          2355500,
          2175000,
          2025000,
          960000,
          2380000,
          2170000,
          2080000,
          1500000,
          1800000,
          1010000,
          1570000,
          1700000,
          1580000,
          1723000,
          1310000,
          1661000,
          960000,
          1651000,
          1645000,
          1900000,
          1780000,
          1620000,
          1770000,
          1810000,
          1460000,
          1872000,
          1170000,
          1960000,
          1772500,
          1860000,
          1580000,
          2002500,
          940000,
          1950000,
          900000,
          1408000,
          2153000,
          1510000,
          1025000,
          940000,
          1000000,
          1785000,
          1405000,
          1250000,
          892888,
          1625000,
          1505000,
          2085000,
          1660000,
          2110000,
          1285000,
          1685000,
          1345000,
          1000000,
          1810000,
          1775000,
          2145000,
          1825000,
          1525000,
          1205000,
          3180000,
          1551000,
          969950,
          1730000,
          1500000,
          1151000,
          1620000,
          1893000,
          1700000,
          930000,
          1520000,
          1650000,
          1200000,
          1458000,
          1271000,
          1228000,
          3000000,
          1480888,
          1310000,
          880000,
          1525000,
          1450000,
          2030000,
          1635000,
          1825000,
          1720000,
          1370000,
          1650000,
          1390000,
          1450000,
          1727000,
          1527000,
          1420000,
          1202000,
          1560000,
          1820000,
          1350000,
          1180000,
          1340000,
          1256000,
          1200000,
          1495000,
          855000,
          1240000,
          2610000,
          1500000,
          1520000,
          2350000,
          2350000,
          1000000,
          1720000,
          1438888,
          1027000,
          1790000,
          1800000,
          1110000,
          2225000,
          3800000,
          2000000,
          1800000,
          1050000,
          2100000,
          1615000,
          1190000,
          1550000,
          1500000,
          2150000,
          1470000,
          1300000,
          1380000,
          890000,
          1530000,
          1500000,
          1400000,
          1190888,
          1250000,
          860000,
          1300000,
          1620000
         ],
         "xaxis": "x12",
         "xbins": {
          "size": 500000
         },
         "yaxis": "y12"
        },
        {
         "autobinx": false,
         "name": "Northmead",
         "type": "histogram",
         "x": [
          1600000,
          1550000,
          905000,
          880000,
          1105000,
          1100000,
          1500000,
          1500000,
          890000,
          870000,
          1455000,
          918800,
          1005000,
          1260000,
          1450000,
          1580000,
          1450000,
          1310000,
          1100000,
          1610000,
          1830000,
          1450000,
          1410000,
          1730000,
          1256000,
          1650000,
          1258000,
          830000,
          480000,
          1470000,
          1300000,
          1486000,
          1475000,
          1300000,
          1400000,
          941000,
          1920000,
          1510000,
          851000,
          1350000,
          1050000,
          960000,
          845000,
          1431000,
          1265000,
          1210000,
          1470000,
          1330000,
          1200000,
          1825000,
          790000,
          1775000,
          1515000,
          1450000,
          1290000,
          1672500,
          1430000,
          1000000,
          805500,
          1415000,
          1506000,
          1314000,
          775000,
          1505000,
          1316000,
          1265000,
          1010000,
          1400000,
          760000,
          1290000,
          830000,
          1420000,
          1200000,
          1390500,
          1311000,
          1350000,
          1330000,
          1380000,
          1232000,
          1545000,
          1226130,
          1730000,
          820000,
          1500000,
          1450000,
          1205000,
          800000,
          950000,
          1110000,
          1200000,
          1050000,
          907725,
          1050000,
          1450000,
          1200000,
          1530000,
          1300000,
          1581000,
          1430000,
          820000,
          1701000,
          1825000,
          910000,
          1530000,
          1710000,
          805000,
          1750000,
          1280000,
          1350000,
          918000,
          830000,
          1350000,
          870000,
          830000,
          1591000,
          1050000,
          1280000,
          965000,
          1800000,
          900000,
          1083500,
          1280000,
          971100,
          1390000,
          1170000,
          1300000,
          900000,
          890000,
          800000,
          1460000,
          1320000,
          1160000,
          1020000,
          1001000,
          1050000,
          1650000,
          1340000,
          925000,
          920000,
          1090000,
          null,
          null,
          null,
          null,
          null,
          null,
          null,
          1305000,
          1750000,
          1400000,
          1316800,
          1625000,
          1075000
         ],
         "xaxis": "x13",
         "xbins": {
          "size": 500000
         },
         "yaxis": "y13"
        },
        {
         "autobinx": false,
         "name": "Newington",
         "type": "histogram",
         "x": [
          1950000,
          1791000,
          2335000,
          1740000,
          2197000,
          1700000,
          1765000,
          1585000,
          1668000,
          2150000,
          1695000,
          1900000,
          1855000,
          2290000,
          1830000,
          1680000,
          1317000,
          1700000,
          1460000,
          1537500,
          1700000,
          1400000,
          1611000,
          1575000,
          1270000,
          null,
          1780000,
          1520000,
          1550000,
          null,
          null,
          1630000,
          1450000,
          null,
          1439000,
          1530000,
          1320000,
          1495000
         ],
         "xaxis": "x14",
         "xbins": {
          "size": 500000
         },
         "yaxis": "y14"
        },
        {
         "autobinx": false,
         "name": "Concord",
         "type": "histogram",
         "x": [
          3800000,
          2820000,
          2085000,
          2075000,
          1850000,
          1800000,
          2230000,
          2951000,
          2880000,
          3580000,
          3550000,
          5200000,
          2650000,
          3075000,
          2600000,
          3655000,
          3460000,
          1425000,
          2225000,
          4006000,
          2650000,
          3310000,
          3200000,
          3010000,
          2660000,
          2240000,
          2628000,
          2357000,
          2210000,
          4660000,
          2850000,
          2250000,
          4030000,
          3440000,
          3410000,
          3300000,
          2150000,
          2425000,
          3315000,
          1520000,
          4050000,
          2742000,
          1600000,
          3880000,
          3510000,
          2255000,
          2300000,
          2666000,
          2800000,
          2870000,
          1581000,
          4100000,
          2325000,
          2100000,
          2555000,
          2410000,
          2150000,
          3750000,
          2800000,
          2550000,
          2390000,
          3000000,
          1660000,
          4015000,
          2500000,
          1900000,
          2715000,
          2500000,
          4600000,
          3300000,
          2300000,
          2425000,
          2940000,
          2725000,
          2675000,
          1970000,
          2200000,
          2360000,
          2261000,
          3220000,
          1490000,
          2520000,
          2400000,
          2088000,
          1175000,
          3100000,
          2930000,
          2680000,
          2101000,
          2711000,
          2300000,
          2510000,
          1925000,
          3000000,
          2180000,
          2325000,
          2111000,
          1455000,
          3060000,
          2500000,
          1626000,
          2505000,
          3125000,
          2825000,
          2725000,
          1280000,
          2180000,
          2380000,
          7700000,
          2820000,
          1980000,
          1960000,
          1790000,
          1705000,
          3920000,
          2850000,
          2151000,
          3200000,
          3300000,
          1949000,
          1600000,
          2035000,
          3000000,
          3000000,
          2520000,
          2850000,
          2861000,
          3250000,
          1165000,
          3000000,
          1285000,
          1980000,
          2550000,
          2200000,
          1200000,
          2430000,
          1850000
         ],
         "xaxis": "x15",
         "xbins": {
          "size": 500000
         },
         "yaxis": "y15"
        },
        {
         "autobinx": false,
         "name": "Marsfield",
         "type": "histogram",
         "x": [
          2760000,
          2430000,
          965500,
          2570000,
          2730000,
          970000,
          2610000,
          1980000,
          1070000,
          2250000,
          2600000,
          940000,
          955000,
          2360000,
          920000,
          2000000,
          2600000,
          3490000,
          2410000,
          2330000,
          1010000,
          1100000,
          2510000,
          2027500,
          2625000,
          900000,
          2670000,
          1340000,
          1120000,
          2400000,
          2641000,
          999000,
          1982000,
          1140000,
          950000,
          836000,
          2025000,
          1330000,
          3350000,
          2850000,
          2350000,
          2370000,
          2856000,
          2480000,
          905000,
          2200000,
          3380000,
          990000,
          2430000,
          1505000,
          2338800,
          931000,
          1020500,
          980000,
          900000,
          2230000,
          2485000,
          2430000,
          2400000,
          962000,
          1305000,
          2151000,
          1850000,
          1002000,
          2239000,
          927000,
          1970000,
          1213000,
          925000,
          916500,
          1052000,
          2672000,
          2000000,
          1235000,
          2510000,
          2480000,
          2560000,
          890000,
          2300000,
          2350000,
          2630000,
          890000,
          1002000,
          870000,
          2780000,
          935000,
          915000,
          2155000,
          2725000,
          2300000,
          1860000,
          896000,
          855000,
          1915000,
          2740000,
          2460000,
          2360000,
          2515000,
          2010000,
          853000,
          2500000,
          1320000,
          965000,
          905000,
          2490000,
          1000000,
          960000,
          2100000,
          838500,
          1975000,
          1810000,
          1295000,
          1017000,
          768000,
          2460000,
          885000,
          931000,
          2418000,
          2300000,
          2360000
         ],
         "xaxis": "x16",
         "xbins": {
          "size": 500000
         },
         "yaxis": "y16"
        },
        {
         "autobinx": false,
         "name": "Hornsby",
         "type": "histogram",
         "x": [
          1875000,
          1325000,
          2400000,
          1125000,
          2275000,
          900000,
          1400000,
          1861000,
          1626000,
          1420000,
          1098000,
          1937000,
          1625000,
          1300000,
          1780000,
          1272000,
          2427000,
          1950000,
          1586000,
          2450000,
          1504000,
          1900000,
          1400000,
          1905000,
          1250000,
          2520000,
          2200000,
          1080000,
          1680000,
          1400000,
          1590000,
          1410000,
          1273000,
          1600000,
          1900000,
          1725000,
          1150000,
          1810000,
          2290000,
          2130000,
          900000,
          2280000,
          2050000,
          1500000,
          1450000,
          1712000,
          980000,
          1750000,
          1380000,
          2390000,
          1820000,
          1785000,
          2285000,
          1500000,
          1395000,
          1250000,
          2700000,
          1725000,
          2075000,
          1900000,
          1690000,
          2341000,
          1880000,
          1935000,
          2100000,
          1605000,
          1605000,
          1830000,
          1405000,
          1090000,
          1650000,
          2490000,
          1750000,
          1605000,
          1080000,
          1105000,
          2050000,
          2009999,
          1650000,
          2004000,
          1510000,
          1900000,
          1700000,
          1000000,
          1305000,
          1175000,
          1200000,
          1600000,
          1900000,
          1080000,
          2380000,
          1358000,
          1700000,
          1475000,
          1155000,
          1090000,
          1800000,
          1580000,
          1252000,
          1780888,
          1750000,
          1515000,
          985000,
          1450000,
          1350000,
          1900000,
          1809000,
          1780000,
          1726000,
          1510000,
          1000000,
          860000,
          1270000,
          1736000,
          1650000,
          1550000,
          1200000,
          1422000,
          1765000,
          1620000,
          1360000,
          1040000,
          1620000,
          1620000,
          1165000,
          1550000,
          1514000,
          1360000,
          1430000,
          1395000,
          1812000,
          1600000,
          1320000,
          1290000,
          1100000,
          1225000,
          1610000,
          1070000,
          1420000,
          2020000,
          905100,
          2100999,
          1811000,
          1590000,
          1405000,
          1900000,
          1500000,
          1320000,
          2225000,
          1520100,
          1520001,
          1650000,
          1800000,
          1350000
         ],
         "xaxis": "x17",
         "xbins": {
          "size": 500000
         },
         "yaxis": "y17"
        },
        {
         "autobinx": false,
         "name": "Lidcombe",
         "type": "histogram",
         "x": [
          768000,
          1320000,
          1525000,
          1280000,
          1920000,
          1060000,
          800000,
          1858000,
          1500000,
          1150000,
          1800000,
          1275000,
          1932000,
          1623000,
          1600000,
          2000000,
          1225000,
          980000,
          1270000,
          1056000,
          1075000,
          1440000,
          1550000,
          1150000,
          1435000,
          940000,
          963000,
          820000,
          1171100,
          1490000,
          1380000,
          1850000,
          1372000,
          1345000,
          2010000,
          1300000,
          715000,
          1182000,
          1630000,
          1490000,
          1300000,
          901000,
          1735000,
          1600000,
          880000,
          2192000,
          1660000,
          1580000,
          1625000,
          1400000,
          950000,
          727000,
          1460000,
          640000,
          581000,
          2181000,
          938000,
          1050000,
          1425000,
          920000,
          1031000,
          733000,
          1248000,
          868000,
          1670000,
          1805000,
          1385000,
          1280000,
          1226000,
          1105000,
          1315000,
          1850000,
          1650000,
          1541000,
          2300000,
          1666000,
          1510000,
          1320000,
          1385000,
          1600000,
          860000,
          2130000,
          1680000,
          1260000,
          1130000,
          1900000,
          1875000,
          1610000,
          2851000,
          1685000,
          1655000,
          1910000,
          1305000,
          1550000,
          1638000,
          1930000,
          1635000,
          1800000,
          1870000,
          1230000,
          675000,
          1400000,
          1230000,
          2200000,
          750000,
          823000,
          1340000,
          1565000,
          1400000,
          1650000,
          1681000,
          1450000,
          1050000,
          2381500,
          2100000,
          1750000,
          1080000,
          1500000,
          2170000,
          1460000,
          1150000,
          1215000,
          1450000,
          1500000,
          1410000,
          1180000,
          182000,
          925000,
          1892000,
          1882000,
          1140000,
          635000,
          755000,
          1175000,
          950000,
          1310000,
          null,
          null,
          null,
          null,
          1765000,
          null,
          null,
          null,
          null,
          null,
          null,
          1537000,
          1351000,
          900000,
          1015000,
          730000,
          1720000,
          1830000,
          1100000,
          1380000,
          1750000,
          1030000,
          1350000,
          1042000,
          null,
          1175000,
          795000,
          null,
          697000,
          1500000,
          1500000,
          993000,
          1520000
         ],
         "xaxis": "x18",
         "xbins": {
          "size": 500000
         },
         "yaxis": "y18"
        },
        {
         "autobinx": false,
         "name": "Homebush",
         "type": "histogram",
         "x": [
          3110000,
          3580000,
          3190000,
          2410000,
          945000,
          955000,
          1060000,
          1175000,
          1305000,
          2000000,
          1286000,
          1300000,
          1300000,
          2870000,
          990000,
          2830000,
          2060000,
          1050000,
          2625000,
          1772888,
          3885000,
          1200000,
          985000,
          2500000,
          2600000,
          2100000,
          1150000,
          null,
          null
         ],
         "xaxis": "x19",
         "xbins": {
          "size": 500000
         },
         "yaxis": "y19"
        },
        {
         "autobinx": false,
         "name": "Ashfield",
         "type": "histogram",
         "x": [
          3960000,
          1888000,
          1300300,
          2550000,
          1878000,
          1240000,
          2375000,
          1845000,
          1750000,
          1650000,
          2680000,
          1647000,
          2200000,
          1015000,
          1600000,
          2460000,
          2009000,
          2455000,
          2515000,
          2030000,
          2590000,
          2425000,
          1910000,
          2900000,
          930000,
          3420000,
          1975000,
          1900000,
          2780000,
          1850000,
          1435000,
          3700000,
          1300000,
          1975500,
          2230000,
          1400000,
          2360000,
          2809000,
          1821000,
          2440000,
          1350000,
          2380000,
          2300000,
          1556000,
          2275000,
          2260000,
          2100000,
          2860000,
          1610000,
          1565000,
          1375000,
          1200000,
          1990000,
          1300000,
          1465000,
          2100000,
          1228000,
          1626000,
          2000000,
          1140000,
          2120000,
          1475000,
          1335000,
          970000,
          790000,
          1700000,
          1650000,
          1610000,
          3475000,
          2150000,
          1850000,
          50000,
          1380000,
          1810000,
          1325000,
          1930000,
          1850000,
          2650000,
          1330000,
          1730000,
          842000,
          1850000,
          830000,
          2051000,
          1160000,
          null,
          null,
          null,
          null,
          null,
          null,
          null,
          null,
          null,
          1800000,
          1520000,
          null,
          1960000,
          null,
          2080000,
          1538000,
          null,
          null,
          null,
          null,
          1500000,
          2310000,
          2667000,
          1810000,
          2265000,
          2120000,
          2560000,
          1050000,
          1988888,
          null,
          965000,
          1880000,
          2650000,
          1860000,
          null,
          1290000,
          1585000,
          1680000,
          1100000,
          1200000,
          1185500,
          2560000,
          1250000,
          2520000,
          1830000,
          3750000,
          1101000,
          760000,
          1630000,
          1310000,
          1780000,
          1270000
         ],
         "xaxis": "x21",
         "xbins": {
          "size": 500000
         },
         "yaxis": "y21"
        },
        {
         "autobinx": false,
         "name": "Leichhardt",
         "type": "histogram",
         "x": [
          1550000,
          2825000,
          1385000,
          1335000,
          1931000,
          2430000,
          1465000,
          1485000,
          1450000,
          1955000,
          1700000,
          2275000,
          2300000,
          2700000,
          1490000,
          1730000,
          1540000,
          1530000,
          5855000,
          3050000,
          2007000,
          1525000,
          1535000,
          1841000,
          1800000,
          2310000,
          2855000,
          1670000,
          2300000,
          1700000,
          2080000,
          1800000,
          1225000,
          2500000,
          1800000,
          1900000,
          1900000,
          1760000,
          1506000,
          1920000,
          2005000,
          1425000,
          1430000,
          4430000,
          1525000,
          1800000,
          2250000,
          2260000,
          1550000,
          2515000,
          1370000,
          1690000,
          2500000,
          1303000,
          1225000,
          2640000,
          1825000,
          1580000,
          1710000,
          2615000,
          1670000,
          2405000,
          2630000,
          3200000,
          1640000,
          2150000,
          1489500,
          1565000,
          1450000,
          1531000,
          1399999,
          1550000,
          1340000,
          2700000,
          2250000,
          2000500,
          1750000,
          1550000,
          1940000,
          1800000,
          2051000,
          1925000,
          1830000,
          2350000,
          2360000,
          1660000,
          1650000,
          1340000,
          1450000,
          1390000,
          1325000,
          2010000,
          1452000,
          2710000,
          1885000,
          2535000,
          1600000,
          2440000,
          2075000,
          1385000,
          1996000,
          1365000,
          2445000,
          2000000,
          1405000,
          1760000,
          1125000,
          1570000,
          1600000,
          2350000,
          1650000,
          2650000,
          1415000,
          1945000,
          1830000,
          1410000,
          2690000,
          1630000,
          1815000,
          1295000,
          1921000,
          1863000,
          1570000,
          1810000,
          1440000,
          1300000,
          1900000,
          1355000,
          1590000,
          1225000,
          1930000,
          1900000,
          1600000,
          1600000,
          3265000,
          1360000,
          1631000,
          2021500,
          2025000,
          1675000,
          1251000,
          1403000,
          1410000,
          1550000,
          1385000,
          1875000,
          1000000,
          2650000,
          1675000,
          1390000,
          1525000,
          1400000,
          1815000,
          1600000,
          1305000,
          1925000,
          1700000,
          1685000,
          2450000,
          1915000,
          2225000,
          1800000,
          1545000,
          1565000,
          1450000,
          1750000,
          1410000,
          1730000,
          3100000,
          3125000,
          1610000,
          1800000,
          1630000,
          1591000,
          1660000,
          2300000,
          2000000,
          1931500,
          1440000,
          1726000,
          2570000,
          2200000,
          1850000,
          2850000,
          2200000,
          1875000,
          2700000,
          1879500,
          2050000,
          1725000,
          2825000,
          1520000,
          1720000,
          1300000,
          1700000,
          1400000,
          1265000,
          1180000,
          1428000,
          1700000,
          1355000,
          1000000,
          1610000,
          1230000
         ],
         "xaxis": "x22",
         "xbins": {
          "size": 500000
         },
         "yaxis": "y22"
        },
        {
         "autobinx": false,
         "name": "Annandale",
         "type": "histogram",
         "x": [
          2151000,
          3950000,
          3760000,
          1100000,
          980000,
          2450000,
          3400000,
          2375000,
          1446000,
          1780000,
          4700000,
          3085000,
          3324000,
          3700000,
          3100000,
          1230000,
          2760000,
          2285000,
          2120000,
          3700000,
          2750000,
          1905000,
          3025000,
          2535000,
          2015000,
          1740000,
          2650000,
          1750000,
          1751000,
          2410000,
          2030000,
          2200000,
          4050000,
          1800000,
          2806500,
          2110000,
          1650000,
          2270000,
          2625000,
          2450000,
          1631000,
          2850000,
          2670000,
          3400000,
          3550000,
          1710000,
          1760000,
          1755000,
          3600000,
          1750000,
          1250000,
          1360000,
          2000000,
          3600000,
          3325000,
          2300000,
          1782000,
          2850000,
          2900000,
          1175000,
          1910000,
          1730000,
          1975000,
          1695000,
          1690000,
          2100000,
          1565000,
          4350000,
          1810000,
          2430000,
          2360000,
          1490000,
          2065000,
          1290000,
          1760000,
          1875000,
          2125000,
          2305000,
          3035000,
          1300000,
          1760000,
          1470000,
          1490000,
          2000000,
          2350000,
          2650000,
          1800000,
          1825000,
          2600000,
          1575000,
          1600000,
          1920000,
          1450000,
          1800000,
          6225000,
          2055000,
          2125000,
          2200000,
          2020000,
          3100000
         ],
         "xaxis": "x23",
         "xbins": {
          "size": 500000
         },
         "yaxis": "y23"
        },
        {
         "autobinx": false,
         "name": "Allambie Heights",
         "type": "histogram",
         "x": [
          2115000,
          1650000,
          1900000,
          4100000,
          2200000,
          3205000,
          3100000,
          2825000,
          3300000,
          2100000,
          2230000,
          3000000,
          2375000,
          2310000,
          1985000,
          2305000,
          2960000,
          2420000,
          2825000,
          3355000,
          2500000,
          2230000,
          1750000,
          2015000,
          2730000,
          2510000,
          2000000,
          1710000,
          3380000,
          1745000,
          3050000,
          2310000,
          2200000,
          null,
          null,
          null,
          null,
          null,
          null,
          null,
          null,
          null,
          null,
          2750000,
          2800000,
          2020000,
          2595000,
          2400000,
          1875000,
          2900000,
          2710000,
          2850000,
          null,
          2235000,
          2855000,
          2450000,
          2835000,
          2055000,
          2385000,
          2490000,
          3335000,
          null,
          null,
          3075000,
          2650000,
          2420000,
          2358000,
          2715000,
          2000000,
          2785000,
          2860000,
          null,
          3300000,
          1750000,
          1515000,
          null,
          1780000,
          2277000,
          2130000,
          2225000,
          2010000,
          1630000,
          1440000,
          960000
         ],
         "xaxis": "x24",
         "xbins": {
          "size": 500000
         },
         "yaxis": "y24"
        },
        {
         "autobinx": false,
         "name": "Forestville",
         "type": "histogram",
         "x": [
          1620000,
          1620000,
          2020000,
          2530000,
          1325000,
          2355000,
          2190000,
          1350000,
          3388800,
          2311000,
          1200000,
          2766000,
          2100000,
          2100000,
          2680000,
          2350000,
          2300000,
          2550000,
          1885000,
          1980000,
          2380000,
          2300000,
          2526000,
          2671000,
          2100000,
          1840000,
          3112000,
          2410000,
          2100000,
          2700000,
          3050999,
          1305000,
          2999000,
          3200000,
          1975000,
          1832000,
          1610000,
          1715000,
          2190000,
          2257000,
          1940000,
          1275000,
          1502237,
          2200000,
          2200000,
          1700000,
          2202000,
          2040000,
          2205000,
          1343000,
          1700000,
          1890000,
          1860000,
          null,
          null,
          null,
          null,
          null,
          1840000,
          2650000,
          2400000,
          1900000,
          1950000,
          2413000,
          2520000,
          2197000,
          2150000,
          2502000,
          null,
          2020000
         ],
         "xaxis": "x25",
         "xbins": {
          "size": 500000
         },
         "yaxis": "y25"
        }
       ],
       "layout": {
        "template": {
         "data": {
          "bar": [
           {
            "error_x": {
             "color": "#2a3f5f"
            },
            "error_y": {
             "color": "#2a3f5f"
            },
            "marker": {
             "line": {
              "color": "#E5ECF6",
              "width": 0.5
             },
             "pattern": {
              "fillmode": "overlay",
              "size": 10,
              "solidity": 0.2
             }
            },
            "type": "bar"
           }
          ],
          "barpolar": [
           {
            "marker": {
             "line": {
              "color": "#E5ECF6",
              "width": 0.5
             },
             "pattern": {
              "fillmode": "overlay",
              "size": 10,
              "solidity": 0.2
             }
            },
            "type": "barpolar"
           }
          ],
          "carpet": [
           {
            "aaxis": {
             "endlinecolor": "#2a3f5f",
             "gridcolor": "white",
             "linecolor": "white",
             "minorgridcolor": "white",
             "startlinecolor": "#2a3f5f"
            },
            "baxis": {
             "endlinecolor": "#2a3f5f",
             "gridcolor": "white",
             "linecolor": "white",
             "minorgridcolor": "white",
             "startlinecolor": "#2a3f5f"
            },
            "type": "carpet"
           }
          ],
          "choropleth": [
           {
            "colorbar": {
             "outlinewidth": 0,
             "ticks": ""
            },
            "type": "choropleth"
           }
          ],
          "contour": [
           {
            "colorbar": {
             "outlinewidth": 0,
             "ticks": ""
            },
            "colorscale": [
             [
              0,
              "#0d0887"
             ],
             [
              0.1111111111111111,
              "#46039f"
             ],
             [
              0.2222222222222222,
              "#7201a8"
             ],
             [
              0.3333333333333333,
              "#9c179e"
             ],
             [
              0.4444444444444444,
              "#bd3786"
             ],
             [
              0.5555555555555556,
              "#d8576b"
             ],
             [
              0.6666666666666666,
              "#ed7953"
             ],
             [
              0.7777777777777778,
              "#fb9f3a"
             ],
             [
              0.8888888888888888,
              "#fdca26"
             ],
             [
              1,
              "#f0f921"
             ]
            ],
            "type": "contour"
           }
          ],
          "contourcarpet": [
           {
            "colorbar": {
             "outlinewidth": 0,
             "ticks": ""
            },
            "type": "contourcarpet"
           }
          ],
          "heatmap": [
           {
            "colorbar": {
             "outlinewidth": 0,
             "ticks": ""
            },
            "colorscale": [
             [
              0,
              "#0d0887"
             ],
             [
              0.1111111111111111,
              "#46039f"
             ],
             [
              0.2222222222222222,
              "#7201a8"
             ],
             [
              0.3333333333333333,
              "#9c179e"
             ],
             [
              0.4444444444444444,
              "#bd3786"
             ],
             [
              0.5555555555555556,
              "#d8576b"
             ],
             [
              0.6666666666666666,
              "#ed7953"
             ],
             [
              0.7777777777777778,
              "#fb9f3a"
             ],
             [
              0.8888888888888888,
              "#fdca26"
             ],
             [
              1,
              "#f0f921"
             ]
            ],
            "type": "heatmap"
           }
          ],
          "heatmapgl": [
           {
            "colorbar": {
             "outlinewidth": 0,
             "ticks": ""
            },
            "colorscale": [
             [
              0,
              "#0d0887"
             ],
             [
              0.1111111111111111,
              "#46039f"
             ],
             [
              0.2222222222222222,
              "#7201a8"
             ],
             [
              0.3333333333333333,
              "#9c179e"
             ],
             [
              0.4444444444444444,
              "#bd3786"
             ],
             [
              0.5555555555555556,
              "#d8576b"
             ],
             [
              0.6666666666666666,
              "#ed7953"
             ],
             [
              0.7777777777777778,
              "#fb9f3a"
             ],
             [
              0.8888888888888888,
              "#fdca26"
             ],
             [
              1,
              "#f0f921"
             ]
            ],
            "type": "heatmapgl"
           }
          ],
          "histogram": [
           {
            "marker": {
             "pattern": {
              "fillmode": "overlay",
              "size": 10,
              "solidity": 0.2
             }
            },
            "type": "histogram"
           }
          ],
          "histogram2d": [
           {
            "colorbar": {
             "outlinewidth": 0,
             "ticks": ""
            },
            "colorscale": [
             [
              0,
              "#0d0887"
             ],
             [
              0.1111111111111111,
              "#46039f"
             ],
             [
              0.2222222222222222,
              "#7201a8"
             ],
             [
              0.3333333333333333,
              "#9c179e"
             ],
             [
              0.4444444444444444,
              "#bd3786"
             ],
             [
              0.5555555555555556,
              "#d8576b"
             ],
             [
              0.6666666666666666,
              "#ed7953"
             ],
             [
              0.7777777777777778,
              "#fb9f3a"
             ],
             [
              0.8888888888888888,
              "#fdca26"
             ],
             [
              1,
              "#f0f921"
             ]
            ],
            "type": "histogram2d"
           }
          ],
          "histogram2dcontour": [
           {
            "colorbar": {
             "outlinewidth": 0,
             "ticks": ""
            },
            "colorscale": [
             [
              0,
              "#0d0887"
             ],
             [
              0.1111111111111111,
              "#46039f"
             ],
             [
              0.2222222222222222,
              "#7201a8"
             ],
             [
              0.3333333333333333,
              "#9c179e"
             ],
             [
              0.4444444444444444,
              "#bd3786"
             ],
             [
              0.5555555555555556,
              "#d8576b"
             ],
             [
              0.6666666666666666,
              "#ed7953"
             ],
             [
              0.7777777777777778,
              "#fb9f3a"
             ],
             [
              0.8888888888888888,
              "#fdca26"
             ],
             [
              1,
              "#f0f921"
             ]
            ],
            "type": "histogram2dcontour"
           }
          ],
          "mesh3d": [
           {
            "colorbar": {
             "outlinewidth": 0,
             "ticks": ""
            },
            "type": "mesh3d"
           }
          ],
          "parcoords": [
           {
            "line": {
             "colorbar": {
              "outlinewidth": 0,
              "ticks": ""
             }
            },
            "type": "parcoords"
           }
          ],
          "pie": [
           {
            "automargin": true,
            "type": "pie"
           }
          ],
          "scatter": [
           {
            "marker": {
             "colorbar": {
              "outlinewidth": 0,
              "ticks": ""
             }
            },
            "type": "scatter"
           }
          ],
          "scatter3d": [
           {
            "line": {
             "colorbar": {
              "outlinewidth": 0,
              "ticks": ""
             }
            },
            "marker": {
             "colorbar": {
              "outlinewidth": 0,
              "ticks": ""
             }
            },
            "type": "scatter3d"
           }
          ],
          "scattercarpet": [
           {
            "marker": {
             "colorbar": {
              "outlinewidth": 0,
              "ticks": ""
             }
            },
            "type": "scattercarpet"
           }
          ],
          "scattergeo": [
           {
            "marker": {
             "colorbar": {
              "outlinewidth": 0,
              "ticks": ""
             }
            },
            "type": "scattergeo"
           }
          ],
          "scattergl": [
           {
            "marker": {
             "colorbar": {
              "outlinewidth": 0,
              "ticks": ""
             }
            },
            "type": "scattergl"
           }
          ],
          "scattermapbox": [
           {
            "marker": {
             "colorbar": {
              "outlinewidth": 0,
              "ticks": ""
             }
            },
            "type": "scattermapbox"
           }
          ],
          "scatterpolar": [
           {
            "marker": {
             "colorbar": {
              "outlinewidth": 0,
              "ticks": ""
             }
            },
            "type": "scatterpolar"
           }
          ],
          "scatterpolargl": [
           {
            "marker": {
             "colorbar": {
              "outlinewidth": 0,
              "ticks": ""
             }
            },
            "type": "scatterpolargl"
           }
          ],
          "scatterternary": [
           {
            "marker": {
             "colorbar": {
              "outlinewidth": 0,
              "ticks": ""
             }
            },
            "type": "scatterternary"
           }
          ],
          "surface": [
           {
            "colorbar": {
             "outlinewidth": 0,
             "ticks": ""
            },
            "colorscale": [
             [
              0,
              "#0d0887"
             ],
             [
              0.1111111111111111,
              "#46039f"
             ],
             [
              0.2222222222222222,
              "#7201a8"
             ],
             [
              0.3333333333333333,
              "#9c179e"
             ],
             [
              0.4444444444444444,
              "#bd3786"
             ],
             [
              0.5555555555555556,
              "#d8576b"
             ],
             [
              0.6666666666666666,
              "#ed7953"
             ],
             [
              0.7777777777777778,
              "#fb9f3a"
             ],
             [
              0.8888888888888888,
              "#fdca26"
             ],
             [
              1,
              "#f0f921"
             ]
            ],
            "type": "surface"
           }
          ],
          "table": [
           {
            "cells": {
             "fill": {
              "color": "#EBF0F8"
             },
             "line": {
              "color": "white"
             }
            },
            "header": {
             "fill": {
              "color": "#C8D4E3"
             },
             "line": {
              "color": "white"
             }
            },
            "type": "table"
           }
          ]
         },
         "layout": {
          "annotationdefaults": {
           "arrowcolor": "#2a3f5f",
           "arrowhead": 0,
           "arrowwidth": 1
          },
          "autotypenumbers": "strict",
          "coloraxis": {
           "colorbar": {
            "outlinewidth": 0,
            "ticks": ""
           }
          },
          "colorscale": {
           "diverging": [
            [
             0,
             "#8e0152"
            ],
            [
             0.1,
             "#c51b7d"
            ],
            [
             0.2,
             "#de77ae"
            ],
            [
             0.3,
             "#f1b6da"
            ],
            [
             0.4,
             "#fde0ef"
            ],
            [
             0.5,
             "#f7f7f7"
            ],
            [
             0.6,
             "#e6f5d0"
            ],
            [
             0.7,
             "#b8e186"
            ],
            [
             0.8,
             "#7fbc41"
            ],
            [
             0.9,
             "#4d9221"
            ],
            [
             1,
             "#276419"
            ]
           ],
           "sequential": [
            [
             0,
             "#0d0887"
            ],
            [
             0.1111111111111111,
             "#46039f"
            ],
            [
             0.2222222222222222,
             "#7201a8"
            ],
            [
             0.3333333333333333,
             "#9c179e"
            ],
            [
             0.4444444444444444,
             "#bd3786"
            ],
            [
             0.5555555555555556,
             "#d8576b"
            ],
            [
             0.6666666666666666,
             "#ed7953"
            ],
            [
             0.7777777777777778,
             "#fb9f3a"
            ],
            [
             0.8888888888888888,
             "#fdca26"
            ],
            [
             1,
             "#f0f921"
            ]
           ],
           "sequentialminus": [
            [
             0,
             "#0d0887"
            ],
            [
             0.1111111111111111,
             "#46039f"
            ],
            [
             0.2222222222222222,
             "#7201a8"
            ],
            [
             0.3333333333333333,
             "#9c179e"
            ],
            [
             0.4444444444444444,
             "#bd3786"
            ],
            [
             0.5555555555555556,
             "#d8576b"
            ],
            [
             0.6666666666666666,
             "#ed7953"
            ],
            [
             0.7777777777777778,
             "#fb9f3a"
            ],
            [
             0.8888888888888888,
             "#fdca26"
            ],
            [
             1,
             "#f0f921"
            ]
           ]
          },
          "colorway": [
           "#636efa",
           "#EF553B",
           "#00cc96",
           "#ab63fa",
           "#FFA15A",
           "#19d3f3",
           "#FF6692",
           "#B6E880",
           "#FF97FF",
           "#FECB52"
          ],
          "font": {
           "color": "#2a3f5f"
          },
          "geo": {
           "bgcolor": "white",
           "lakecolor": "white",
           "landcolor": "#E5ECF6",
           "showlakes": true,
           "showland": true,
           "subunitcolor": "white"
          },
          "hoverlabel": {
           "align": "left"
          },
          "hovermode": "closest",
          "mapbox": {
           "style": "light"
          },
          "paper_bgcolor": "white",
          "plot_bgcolor": "#E5ECF6",
          "polar": {
           "angularaxis": {
            "gridcolor": "white",
            "linecolor": "white",
            "ticks": ""
           },
           "bgcolor": "#E5ECF6",
           "radialaxis": {
            "gridcolor": "white",
            "linecolor": "white",
            "ticks": ""
           }
          },
          "scene": {
           "xaxis": {
            "backgroundcolor": "#E5ECF6",
            "gridcolor": "white",
            "gridwidth": 2,
            "linecolor": "white",
            "showbackground": true,
            "ticks": "",
            "zerolinecolor": "white"
           },
           "yaxis": {
            "backgroundcolor": "#E5ECF6",
            "gridcolor": "white",
            "gridwidth": 2,
            "linecolor": "white",
            "showbackground": true,
            "ticks": "",
            "zerolinecolor": "white"
           },
           "zaxis": {
            "backgroundcolor": "#E5ECF6",
            "gridcolor": "white",
            "gridwidth": 2,
            "linecolor": "white",
            "showbackground": true,
            "ticks": "",
            "zerolinecolor": "white"
           }
          },
          "shapedefaults": {
           "line": {
            "color": "#2a3f5f"
           }
          },
          "ternary": {
           "aaxis": {
            "gridcolor": "white",
            "linecolor": "white",
            "ticks": ""
           },
           "baxis": {
            "gridcolor": "white",
            "linecolor": "white",
            "ticks": ""
           },
           "bgcolor": "#E5ECF6",
           "caxis": {
            "gridcolor": "white",
            "linecolor": "white",
            "ticks": ""
           }
          },
          "title": {
           "x": 0.05
          },
          "xaxis": {
           "automargin": true,
           "gridcolor": "white",
           "linecolor": "white",
           "ticks": "",
           "title": {
            "standoff": 15
           },
           "zerolinecolor": "white",
           "zerolinewidth": 2
          },
          "yaxis": {
           "automargin": true,
           "gridcolor": "white",
           "linecolor": "white",
           "ticks": "",
           "title": {
            "standoff": 15
           },
           "zerolinecolor": "white",
           "zerolinewidth": 2
          }
         }
        },
        "xaxis": {
         "anchor": "y",
         "domain": [
          0,
          0.16799999999999998
         ],
         "matches": "x21",
         "range": [
          0,
          4000000
         ],
         "showticklabels": false
        },
        "xaxis10": {
         "anchor": "y10",
         "domain": [
          0.832,
          1
         ],
         "matches": "x25",
         "range": [
          0,
          4000000
         ],
         "showticklabels": false
        },
        "xaxis11": {
         "anchor": "y11",
         "domain": [
          0,
          0.16799999999999998
         ],
         "matches": "x21",
         "range": [
          0,
          4000000
         ],
         "showticklabels": false
        },
        "xaxis12": {
         "anchor": "y12",
         "domain": [
          0.208,
          0.376
         ],
         "matches": "x22",
         "range": [
          0,
          4000000
         ],
         "showticklabels": false
        },
        "xaxis13": {
         "anchor": "y13",
         "domain": [
          0.416,
          0.584
         ],
         "matches": "x23",
         "range": [
          0,
          4000000
         ],
         "showticklabels": false
        },
        "xaxis14": {
         "anchor": "y14",
         "domain": [
          0.624,
          0.792
         ],
         "matches": "x24",
         "range": [
          0,
          4000000
         ],
         "showticklabels": false
        },
        "xaxis15": {
         "anchor": "y15",
         "domain": [
          0.832,
          1
         ],
         "matches": "x25",
         "range": [
          0,
          4000000
         ],
         "showticklabels": false
        },
        "xaxis16": {
         "anchor": "y16",
         "domain": [
          0,
          0.16799999999999998
         ],
         "matches": "x21",
         "range": [
          0,
          4000000
         ],
         "showticklabels": false
        },
        "xaxis17": {
         "anchor": "y17",
         "domain": [
          0.208,
          0.376
         ],
         "matches": "x22",
         "range": [
          0,
          4000000
         ],
         "showticklabels": false
        },
        "xaxis18": {
         "anchor": "y18",
         "domain": [
          0.416,
          0.584
         ],
         "matches": "x23",
         "range": [
          0,
          4000000
         ],
         "showticklabels": false
        },
        "xaxis19": {
         "anchor": "y19",
         "domain": [
          0.624,
          0.792
         ],
         "matches": "x24",
         "range": [
          0,
          4000000
         ],
         "showticklabels": false
        },
        "xaxis2": {
         "anchor": "y2",
         "domain": [
          0.208,
          0.376
         ],
         "matches": "x22",
         "range": [
          0,
          4000000
         ],
         "showticklabels": false
        },
        "xaxis20": {
         "anchor": "y20",
         "domain": [
          0.832,
          1
         ],
         "matches": "x25",
         "showticklabels": false
        },
        "xaxis21": {
         "anchor": "y21",
         "domain": [
          0,
          0.16799999999999998
         ],
         "range": [
          0,
          4000000
         ]
        },
        "xaxis22": {
         "anchor": "y22",
         "domain": [
          0.208,
          0.376
         ],
         "range": [
          0,
          4000000
         ]
        },
        "xaxis23": {
         "anchor": "y23",
         "domain": [
          0.416,
          0.584
         ],
         "range": [
          0,
          4000000
         ]
        },
        "xaxis24": {
         "anchor": "y24",
         "domain": [
          0.624,
          0.792
         ],
         "range": [
          0,
          4000000
         ]
        },
        "xaxis25": {
         "anchor": "y25",
         "domain": [
          0.832,
          1
         ],
         "range": [
          0,
          4000000
         ]
        },
        "xaxis3": {
         "anchor": "y3",
         "domain": [
          0.416,
          0.584
         ],
         "matches": "x23",
         "range": [
          0,
          4000000
         ],
         "showticklabels": false
        },
        "xaxis4": {
         "anchor": "y4",
         "domain": [
          0.624,
          0.792
         ],
         "matches": "x24",
         "range": [
          0,
          4000000
         ],
         "showticklabels": false
        },
        "xaxis5": {
         "anchor": "y5",
         "domain": [
          0.832,
          1
         ],
         "matches": "x25",
         "range": [
          0,
          4000000
         ],
         "showticklabels": false
        },
        "xaxis6": {
         "anchor": "y6",
         "domain": [
          0,
          0.16799999999999998
         ],
         "matches": "x21",
         "range": [
          0,
          4000000
         ],
         "showticklabels": false
        },
        "xaxis7": {
         "anchor": "y7",
         "domain": [
          0.208,
          0.376
         ],
         "matches": "x22",
         "range": [
          0,
          4000000
         ],
         "showticklabels": false
        },
        "xaxis8": {
         "anchor": "y8",
         "domain": [
          0.416,
          0.584
         ],
         "matches": "x23",
         "range": [
          0,
          4000000
         ],
         "showticklabels": false
        },
        "xaxis9": {
         "anchor": "y9",
         "domain": [
          0.624,
          0.792
         ],
         "matches": "x24",
         "range": [
          0,
          4000000
         ],
         "showticklabels": false
        },
        "yaxis": {
         "anchor": "x",
         "domain": [
          0.848,
          1
         ],
         "range": [
          0,
          150
         ]
        },
        "yaxis10": {
         "anchor": "x10",
         "domain": [
          0.6359999999999999,
          0.7879999999999999
         ],
         "matches": "y6",
         "range": [
          0,
          150
         ],
         "showticklabels": false
        },
        "yaxis11": {
         "anchor": "x11",
         "domain": [
          0.424,
          0.576
         ],
         "range": [
          0,
          150
         ]
        },
        "yaxis12": {
         "anchor": "x12",
         "domain": [
          0.424,
          0.576
         ],
         "matches": "y11",
         "range": [
          0,
          150
         ],
         "showticklabels": false
        },
        "yaxis13": {
         "anchor": "x13",
         "domain": [
          0.424,
          0.576
         ],
         "matches": "y11",
         "range": [
          0,
          150
         ],
         "showticklabels": false
        },
        "yaxis14": {
         "anchor": "x14",
         "domain": [
          0.424,
          0.576
         ],
         "matches": "y11",
         "range": [
          0,
          150
         ],
         "showticklabels": false
        },
        "yaxis15": {
         "anchor": "x15",
         "domain": [
          0.424,
          0.576
         ],
         "matches": "y11",
         "range": [
          0,
          150
         ],
         "showticklabels": false
        },
        "yaxis16": {
         "anchor": "x16",
         "domain": [
          0.212,
          0.364
         ],
         "range": [
          0,
          150
         ]
        },
        "yaxis17": {
         "anchor": "x17",
         "domain": [
          0.212,
          0.364
         ],
         "matches": "y16",
         "range": [
          0,
          150
         ],
         "showticklabels": false
        },
        "yaxis18": {
         "anchor": "x18",
         "domain": [
          0.212,
          0.364
         ],
         "matches": "y16",
         "range": [
          0,
          150
         ],
         "showticklabels": false
        },
        "yaxis19": {
         "anchor": "x19",
         "domain": [
          0.212,
          0.364
         ],
         "matches": "y16",
         "range": [
          0,
          150
         ],
         "showticklabels": false
        },
        "yaxis2": {
         "anchor": "x2",
         "domain": [
          0.848,
          1
         ],
         "matches": "y",
         "range": [
          0,
          150
         ],
         "showticklabels": false
        },
        "yaxis20": {
         "anchor": "x20",
         "domain": [
          0.212,
          0.364
         ],
         "matches": "y16",
         "showticklabels": false
        },
        "yaxis21": {
         "anchor": "x21",
         "domain": [
          0,
          0.152
         ],
         "range": [
          0,
          150
         ]
        },
        "yaxis22": {
         "anchor": "x22",
         "domain": [
          0,
          0.152
         ],
         "matches": "y21",
         "range": [
          0,
          150
         ],
         "showticklabels": false
        },
        "yaxis23": {
         "anchor": "x23",
         "domain": [
          0,
          0.152
         ],
         "matches": "y21",
         "range": [
          0,
          150
         ],
         "showticklabels": false
        },
        "yaxis24": {
         "anchor": "x24",
         "domain": [
          0,
          0.152
         ],
         "matches": "y21",
         "range": [
          0,
          150
         ],
         "showticklabels": false
        },
        "yaxis25": {
         "anchor": "x25",
         "domain": [
          0,
          0.152
         ],
         "matches": "y21",
         "range": [
          0,
          150
         ],
         "showticklabels": false
        },
        "yaxis3": {
         "anchor": "x3",
         "domain": [
          0.848,
          1
         ],
         "matches": "y",
         "range": [
          0,
          150
         ],
         "showticklabels": false
        },
        "yaxis4": {
         "anchor": "x4",
         "domain": [
          0.848,
          1
         ],
         "matches": "y",
         "range": [
          0,
          150
         ],
         "showticklabels": false
        },
        "yaxis5": {
         "anchor": "x5",
         "domain": [
          0.848,
          1
         ],
         "matches": "y",
         "range": [
          0,
          150
         ],
         "showticklabels": false
        },
        "yaxis6": {
         "anchor": "x6",
         "domain": [
          0.6359999999999999,
          0.7879999999999999
         ],
         "range": [
          0,
          150
         ]
        },
        "yaxis7": {
         "anchor": "x7",
         "domain": [
          0.6359999999999999,
          0.7879999999999999
         ],
         "matches": "y6",
         "range": [
          0,
          150
         ],
         "showticklabels": false
        },
        "yaxis8": {
         "anchor": "x8",
         "domain": [
          0.6359999999999999,
          0.7879999999999999
         ],
         "matches": "y6",
         "range": [
          0,
          150
         ],
         "showticklabels": false
        },
        "yaxis9": {
         "anchor": "x9",
         "domain": [
          0.6359999999999999,
          0.7879999999999999
         ],
         "matches": "y6",
         "range": [
          0,
          150
         ],
         "showticklabels": false
        }
       }
      },
      "text/html": [
       "<div>                            <div id=\"0127ab73-0608-4d34-9768-ce895711ef51\" class=\"plotly-graph-div\" style=\"height:525px; width:100%;\"></div>            <script type=\"text/javascript\">                require([\"plotly\"], function(Plotly) {                    window.PLOTLYENV=window.PLOTLYENV || {};                                    if (document.getElementById(\"0127ab73-0608-4d34-9768-ce895711ef51\")) {                    Plotly.newPlot(                        \"0127ab73-0608-4d34-9768-ce895711ef51\",                        [{\"autobinx\":false,\"name\":\"Epping\",\"x\":[2700000.0,1850000.0,3025000.0,2350000.0,2200000.0,1930000.0,2604000.0,2967000.0,2482000.0,1805000.0,2630000.0,2700000.0,2765000.0,2275000.0,1100000.0,2000000.0,2535000.0,2280000.0,1490000.0,2498000.0,2300000.0,2275000.0,1310000.0,1510000.0,2650000.0,2560000.0,2489000.0,2075000.0,4000000.0,2680000.0,2100000.0,2720000.0,2600000.0,2000000.0,2300000.0,1851000.0,1805000.0,1650000.0,1300000.0,3060000.0,2400000.0,2010000.0,2960000.0,2050000.0,4500000.0,2900000.0,2750000.0,2300000.0,2450000.0,1700000.0,1870000.0,2612888.0,1710000.0,2850000.0,4035000.0,1660000.0,2100000.0,2005000.0,990000.0,2300000.0,1438000.0,2100000.0,4330000.0,2225000.0,3580000.0,2430000.0,2280000.0,1755000.0,2730000.0,2040000.0,3300000.0,2280000.0,1300000.0,3540000.0,2215000.0,2000000.0,2858000.0,2450000.0,2400000.0,2390000.0,2900000.0,2680000.0,4194000.0,2188000.0,3095000.0,2460000.0,2320000.0,2510000.0,1700000.0,1800000.0,1605000.0,2020000.0,2780000.0,2072000.0,2700000.0,2000000.0,3155000.0,2550000.0,1548000.0,2180000.0,2586000.0,2573000.0,1735500.0,2260000.0,2660000.0,2850000.0,2352500.0,2118000.0,2150000.0,2520000.0,1569000.0,3300000.0,1752000.0,2898000.0,2200000.0,1660000.0,2270000.0,2391500.0,1370000.0,1920000.0,2188000.0,1606000.0,2230000.0,2400000.0,2240000.0,2175000.0,2630000.0,1850000.0,1585000.0,1980000.0,2420000.0,2280000.0,2530000.0,1305000.0,3350000.0,2540000.0,2620000.0,2280000.0,2021000.0,1560000.0,1600000.0,2620000.0,2430000.0,2155000.0,2105000.0,1500000.0,2600000.0,1800000.0,2388000.0,2265000.0,2250000.0,1780000.0,3360000.0,1800000.0,3280000.0,2225000.0,2200000.0,2190000.0,1610000.0,2000000.0,2200000.0,1967000.0,2000000.0,1872000.0,3115000.0,2010000.0,1959000.0,1830800.0,1884000.0,2231000.0,1860000.0,2300000.0,1980000.0,1980000.0,3110000.0,2550000.0,2201000.0,1970000.0,3200000.0,2511000.0,2400000.0,1250000.0,1150000.0,2100000.0,2100000.0,2240000.0,2170000.0,2250000.0,2758000.0,2500000.0,2188000.0,2610000.0,2000000.0,1780000.0,1701000.0,2600000.0,2258000.0,2170000.0,1732000.0,2510000.0,2460000.0,2000000.0,1850000.0,2653000.0,2150000.0,1800000.0,1650000.0,1980000.0,1720000.0,1650000.0,1785000.0,1710000.0,3021000.0,2708000.0,1850000.0,2550000.0,1905000.0],\"xbins\":{\"size\":500000},\"type\":\"histogram\",\"xaxis\":\"x\",\"yaxis\":\"y\"},{\"autobinx\":false,\"name\":\"North Rocks\",\"x\":[1500000.0,1637000.0,1307000.0,1625000.0,2010000.0,960000.0,1660000.0,1545000.0,1835000.0,1590000.0,970000.0,1850000.0,1802000.0,835000.0,1805000.0,1480000.0,1280000.0,1550000.0,2003000.0,1830000.0,1312500.0,1665000.0,1987500.0,1902000.0,1780000.0,1805000.0,1070000.0,967500.0,2303000.0,1700000.0,1540000.0,2200000.0,971000.0,1840000.0,1015000.0,1875000.0,963800.0,1690000.0,1830000.0,1410000.0,1606000.0,1630000.0,1300000.0,962000.0,2390000.0,2407000.0,1400000.0,1303000.0,1125000.0,1635000.0,1309000.0,1845000.0,1640000.0,925000.0,1780000.0,1615000.0,1760000.0,1652000.0,2350000.0,1445000.0,1600000.0,1205000.0,1409000.0,1450000.0,1644000.0,880000.0,888000.0,1710000.0,1177000.0,1300000.0,1303000.0,820000.0,1500000.0,1750000.0,2195000.0,1051000.0,1825500.0,1800000.0,1800000.0,1320000.0,1528000.0,1420000.0,null,null,null,null,null,null,null,null,1695000.0,null,1890000.0,1330000.0,1870000.0,1768000.0,1036000.0,1435000.0,855000.0,1110000.0,1475000.0,1400000.0,960000.0,null,1525000.0,1100000.0,1745000.0,970000.0,1330000.0,null],\"xbins\":{\"size\":500000},\"type\":\"histogram\",\"xaxis\":\"x2\",\"yaxis\":\"y2\"},{\"autobinx\":false,\"name\":\"Eastwood\",\"x\":[2800000.0,3008000.0,2076000.0,3050000.0,2850000.0,2950000.0,2640000.0,2550000.0,2000000.0,3610000.0,2350000.0,2870000.0,2405000.0,3050000.0,2250000.0,2400000.0,2400000.0,3220000.0,3185000.0,2430000.0,2418000.0,2120000.0,2650000.0,2100000.0,2430000.0,3100000.0,3005000.0,2050000.0,2000000.0,2090000.0,1702000.0,2200000.0,2970000.0,3320000.0,2710000.0,2171000.0,3808000.0,3000000.0,2540000.0,1515000.0,3480000.0,3160000.0,2200000.0,2638000.0,2200000.0,3300000.0,2835000.0,2932000.0,2751000.0,2701000.0,2250000.0,2250000.0,3500000.0,4360000.0,3050000.0,2715000.0,3060000.0,2470000.0,2760000.0,2900000.0,2390000.0,2380000.0,3910000.0,3020000.0,2200000.0,2320000.0,2070000.0,3010000.0,2700000.0,2580000.0,2355000.0,2900000.0,2300000.0,2420000.0,2760000.0,2580000.0,2550000.0,2450000.0,1300000.0,3500000.0,2500000.0,2800000.0,2860000.0,2170000.0,3000000.0,2600000.0,1881000.0,2020000.0,2630000.0,2150000.0,2200000.0,1950000.0,1700000.0,1910000.0,2790000.0,2550000.0,2850000.0,2300000.0,2900000.0,2556000.0,2280000.0,1880000.0,2180000.0,1833000.0,1710000.0,910000.0,1700000.0,2162000.0,3450000.0,1965000.0,1965000.0,1941000.0,2420000.0,2400000.0,2388000.0,2160000.0,2100000.0,1980000.0,1545000.0,2010000.0,3110000.0,3025000.0,2830000.0,2825000.0,2200000.0,2160000.0,3110000.0,2600000.0,2090000.0,1815000.0,1301000.0,2225000.0,1990000.0,1900000.0,1770000.0,2800000.0,2800000.0,2300000.0,2050000.0,1870000.0,2380000.0,1538000.0,2640000.0,2050000.0,1980000.0,1350000.0,2300000.0,1780000.0,2655000.0,2255000.0,1620000.0,2008336.0,2066000.0,1820000.0,1667500.0,1880000.0,2905000.0,2510000.0,1770000.0,2150000.0,2300000.0,2100000.0,2150000.0,3000000.0,2600000.0,2172000.0,2850000.0,2595000.0,1560000.0,1465000.0,1680000.0,2430000.0,2468000.0,2600000.0,2900000.0,1965000.0,2160000.0,2350000.0,2350000.0,1670000.0,1110000.0,1200000.0,1420000.0,1175000.0,805000.0,790000.0,814000.0,1213000.0],\"xbins\":{\"size\":500000},\"type\":\"histogram\",\"xaxis\":\"x3\",\"yaxis\":\"y3\"},{\"autobinx\":false,\"name\":\"Baulkham Hills\",\"x\":[1190000.0,1065000.0,1012200.0,1800000.0,951000.0,1931000.0,1160000.0,1150000.0,1760000.0,2480000.0,1100000.0,1080000.0,1650000.0,1830000.0,1880000.0,2250000.0,1685000.0,2418000.0,1420000.0,1903000.0,1822000.0,1725000.0,1987000.0,2040000.0,1810000.0,1652000.0,1000000.0,1828000.0,1266000.0,940000.0,1793000.0,1075000.0,1471000.0,2085000.0,1341000.0,2120000.0,1755000.0,1300000.0,1800000.0,1190000.0,2367000.0,1400000.0,1810000.0,1590000.0,1535000.0,1420000.0,1711111.0,1325000.0,2100000.0,2081000.0,1910000.0,808000.0,1670000.0,1210000.0,1040000.0,2306000.0,1500000.0,1680000.0,1045000.0,1855000.0,1700000.0,2055000.0,1650000.0,1250000.0,1172000.0,1820000.0,1752000.0,1650000.0,2010000.0,1215000.0,940000.0,1750000.0,1130000.0,900000.0,1108000.0,1770000.0,1580000.0,1865000.0,1670000.0,1850000.0,1200000.0,1200000.0,1650000.0,921000.0,1140000.0,2082500.0,1705000.0,1630000.0,1725000.0,1080000.0,1008000.0,2150000.0,1790000.0,1768000.0,1615000.0,1760000.0,1080000.0,1960000.0,1940000.0,1595000.0,1630000.0,1182000.0,1560000.0,1525000.0,1885000.0,1850000.0,1252000.0,1235000.0,1900000.0,1780000.0,965000.0,1130000.0,940000.0,1335000.0,1780000.0,1385000.0,1348000.0,1000000.0,890000.0,1173000.0,1625000.0,1115000.0,1150000.0,1270000.0,1186000.0,2200000.0,938500.0,1025000.0,1850000.0,1951000.0,1715000.0,1760000.0,2470000.0,1580000.0,1178000.0,1700000.0,1015000.0,1280000.0,1775000.0,1130000.0,1486000.0,1800000.0,2120000.0,1900000.0,1605000.0,1795000.0,1605000.0,1600000.0,1115000.0,1825000.0,1360000.0,1110000.0,1700000.0,1275000.0,2442000.0,1601000.0,1540000.0,1126100.0,1062500.0,1425000.0,1350000.0,1480000.0,1600000.0,1600000.0,1900000.0,1320000.0,1880000.0,1726000.0,1260000.0,1052000.0,765000.0,1745000.0,1590000.0,1855000.0,1850000.0,1955000.0,1910000.0,1752000.0,1552500.0,1690000.0,1520000.0,1425000.0,1550000.0,1500000.0,2040000.0,1610000.0,965000.0,1590000.0,1555000.0,1675000.0,1590000.0,1400000.0,1430000.0,1100000.0,1500000.0,830500.0,1600000.0,1570000.0,1980000.0,1551000.0,1500000.0,1681000.0,1620000.0,4420000.0,1351000.0,1080000.0,1633000.0,1030000.0,1620000.0,1580000.0,1150000.0,1890000.0,1400000.0,1300000.0,1100000.0,1560000.0,1221000.0,1658000.0,1605000.0,1720000.0,960000.0,1680000.0,1501800.0,1715000.0,968000.0,1410000.0,1707000.0,935000.0,815000.0,1500000.0,725000.0,1608000.0,1490000.0,955000.0,1710000.0,1700000.0,1360000.0,1768000.0,975000.0,940000.0,1840000.0,1590000.0,1551000.0,1651000.0,1500100.0,2020000.0,1420000.0,2512000.0,1750000.0,1480000.0,1477000.0,1456000.0,1016000.0,1710000.0,2300000.0,2100000.0,1780000.0,1380000.0,788000.0,1171000.0,1160000.0,1750000.0,1715000.0,1495000.0,1655000.0,1400000.0,1252000.0,1710000.0,1200000.0,1050000.0,835000.0,1400000.0,1317000.0,900000.0,1500000.0,1470000.0,1255000.0,1465000.0,1575000.0,1262000.0,1277000.0,1420000.0,891000.0,1252500.0,1200000.0,980000.0,1350000.0,1365000.0,935000.0],\"xbins\":{\"size\":500000},\"type\":\"histogram\",\"xaxis\":\"x4\",\"yaxis\":\"y4\"},{\"autobinx\":false,\"name\":\"Winston Hills\",\"x\":[1275000.0,1605000.0,1225000.0,1450000.0,1405000.0,1675000.0,1620000.0,1450000.0,1650000.0,1760500.0,1175000.0,1492000.0,1142500.0,1556000.0,1665000.0,1520000.0,1300000.0,1605000.0,1510000.0,1500000.0,1306000.0,1750000.0,1320000.0,1500000.0,1610000.0,1440000.0,1407000.0,1605000.0,1500000.0,1630000.0,1750000.0,1746000.0,1361500.0,1501000.0,1745000.0,1720000.0,1500000.0,1451750.0,1700000.0,1645000.0,1402500.0,1655000.0,1490000.0,1260000.0,1045500.0,1380000.0,1425000.0,1330000.0,1400000.0,1300000.0,1100000.0,1364000.0,1251000.0,1270000.0,1362000.0,1210000.0,1215000.0,1300000.0,1375000.0,925000.0,1471000.0,1410000.0,1371000.0,1190000.0,1487000.0,1316000.0,1358000.0,1500500.0,1359000.0,1631000.0,1258000.0,1465000.0,1030000.0,1300000.0,988500.0,1380000.0,1332000.0,1900000.0,1425000.0,1360000.0,1141000.0,980000.0,1195000.0,1255000.0,1243000.0,1300000.0,1330000.0,1285000.0,867000.0,1300000.0,1700000.0,1315000.0,1625000.0,1400000.0,1180000.0,1208000.0,1170000.0,1050000.0,1340000.0,1730000.0,1330000.0,1159000.0,1101000.0,1250000.0],\"xbins\":{\"size\":500000},\"type\":\"histogram\",\"xaxis\":\"x5\",\"yaxis\":\"y5\"},{\"autobinx\":false,\"name\":\"Kellyville\",\"x\":[2275000.0,1361000.0,1680000.0,2390000.0,1500000.0,1700000.0,1900000.0,1710000.0,2340000.0,1900000.0,1650000.0,1177500.0,2375000.0,1635000.0,1300000.0,1200000.0,1820000.0,1870000.0,1630000.0,3360000.0,1738000.0,2050000.0,1921000.0,1702000.0,1550000.0,2175000.0,1380000.0,1275000.0,1050000.0,1630000.0,1762000.0,1800000.0,1755000.0,1642750.0,1081000.0,1881000.0,1630000.0,1835000.0,1680000.0,1345000.0,1225000.0,2305500.0,1630000.0,1918000.0,1840000.0,1430000.0,1717000.0,2116000.0,2200000.0,1700000.0,1850000.0,1000000.0,1900000.0,1633000.0,1502000.0,1820000.0,1016000.0,1900000.0,2310000.0,1720000.0,1290000.0,1615000.0,1440000.0,1315000.0,2300000.0,2111000.0,1280000.0,2070000.0,1550000.0,1255000.0,1580000.0,1790000.0,1720000.0,1650000.0,2022000.0,1870000.0,2000000.0,1375000.0,1172000.0,1535000.0,1800000.0,1407000.0,1750000.0,2185000.0,1850000.0,1800000.0,1740000.0,1350000.0,1870000.0,1800000.0,1729000.0,2100000.0,2200000.0,1700000.0,1255000.0,2518000.0,1611500.0,1550000.0,1810000.0,1590000.0,1150000.0,1880000.0,1125000.0,2000000.0,1650000.0,1589000.0,2050000.0,1965000.0,1620000.0,1940000.0,1670000.0,1623000.0,1730000.0,1425000.0,1360000.0,1277500.0,1945000.0,1519000.0,1750000.0,1430000.0,1280000.0,1320888.0,1930000.0,1725000.0,1560000.0,1040100.0,1816000.0,1540000.0,1465000.0,1600000.0,1150000.0,1705000.0,1700000.0,1540000.0,1272000.0,1665000.0,980000.0,1412500.0,1800000.0,1595000.0,1460000.0,1840000.0,1550000.0,1651000.0,1908000.0,1600800.0,1527000.0,1100000.0,1360000.0,2600000.0,1855000.0,1700000.0,955000.0,2300000.0,1590000.0,2085000.0,1482000.0,1400000.0,1320000.0,1960000.0,1520000.0,1285000.0,1288000.0,1791000.0,1400000.0,2100000.0,1645000.0,1650000.0,1580000.0,1300000.0,1500000.0,2131000.0,1651000.0,1900000.0,1506000.0,2550000.0,1490000.0,1310000.0,1400000.0,1535000.0,1385000.0,1182000.0,1550000.0,1431000.0,1320000.0,1621100.0,1715000.0,2000000.0,1925000.0,1820000.0,1410000.0,1976000.0,1785000.0,1403000.0,1600000.0,1292000.0,1250000.0,1620000.0,1206000.0,1100000.0,1600000.0,1155000.0,1055000.0,1540000.0,1660000.0,1540500.0,1437000.0,1275000.0,2265000.0,1810000.0,1378000.0,1340000.0,1600000.0,1198000.0,1535000.0,1320000.0,1880000.0,1396222.0,1335000.0,1800000.0,2050000.0,2000000.0,1290000.0,1191000.0,2400000.0,1436000.0,2500000.0,1130000.0,1190000.0,1650000.0,1230000.0,1179000.0,2232000.0,1160000.0,953000.0,1430000.0,1530000.0,1438000.0,1197500.0,1082000.0,1055000.0,1760000.0,1462000.0,1415000.0,1721500.0,1610000.0,1178000.0,1335000.0,1815000.0,2301000.0,1353000.0,962500.0,875000.0,1480000.0,860000.0,1891000.0],\"xbins\":{\"size\":500000},\"type\":\"histogram\",\"xaxis\":\"x6\",\"yaxis\":\"y6\"},{\"autobinx\":false,\"name\":\"Blacktown\",\"x\":[710000.0,805000.0,935000.0,752000.0,725000.0,836000.0,775000.0,765000.0,950000.0,1325000.0,980000.0,627000.0,580000.0,897000.0,870000.0,715000.0,1030000.0,969000.0,850000.0,1107000.0,990000.0,980000.0,970000.0,710000.0,990000.0,1025000.0,951000.0,810000.0,865000.0,770000.0,935000.0,1401000.0,940000.0,657000.0,1181000.0,1105000.0,915000.0,976000.0,943000.0,865000.0,810000.0,782500.0,1025000.0,1725000.0,752000.0,1122000.0,435000.0,1285000.0,1117000.0,1060000.0,895000.0,868000.0,760000.0,740000.0,600000.0,1100000.0,1460000.0,1250000.0,700000.0,1075000.0,970000.0,800000.0,750000.0,827000.0,580000.0,2100000.0,780000.0,524000.0,833000.0,1100000.0,975000.0,905000.0,880000.0,850000.0,888000.0,915000.0,1138000.0,1105000.0,1345000.0,1020000.0,1060000.0,915000.0,1025000.0,986000.0,950000.0,933000.0,1170000.0,1040000.0,620000.0,1200000.0,1200000.0,686000.0,816000.0,980000.0,941500.0,921500.0,1055000.0,950000.0,905000.0,820000.0,670000.0,862000.0,750000.0,750000.0,1270000.0,1100000.0,1376000.0,1090000.0,910000.0,960000.0,930000.0,710000.0,935000.0,870000.0,1027000.0,935000.0,865000.0,941500.0,905000.0,745000.0,1100000.0,925000.0,1070000.0,710000.0,880000.0,870000.0,870000.0,956000.0,890000.0,820000.0,895000.0,1210000.0,760000.0,743000.0,1222000.0,910000.0,905000.0,900000.0,765000.0,975000.0,925000.0,845000.0,811000.0,1100000.0,915000.0,805000.0,770000.0,960000.0,750000.0,970000.0,1050000.0,835000.0,910000.0,660000.0,1665000.0,1155000.0,1075000.0,505000.0,1250000.0,760000.0,1062500.0,768000.0,906000.0,1080000.0,990000.0,990000.0,880000.0,870000.0,1125000.0,1155000.0,862000.0,675000.0,605000.0,950000.0,862000.0,1375000.0,1070000.0,855000.0,785000.0,1255000.0,1225000.0,1222000.0,1180000.0,862500.0,815000.0,750000.0,680000.0,605000.0,1300111.0,820000.0,800000.0,940000.0,750000.0,1060000.0,970000.0,915000.0,852000.0,805000.0,1575000.0,995000.0,925000.0,760000.0,1250000.0,969000.0,950000.0,802500.0,850000.0,805000.0,685000.0,1000000.0,960000.0,850000.0,720000.0,955000.0,1245000.0,805000.0,860000.0,820000.0,730000.0,955000.0,730000.0,675000.0,1011000.0,975000.0,960000.0,1020000.0,900000.0,865000.0,820000.0,702500.0,980000.0,575000.0,1001000.0,880000.0,565000.0,1150000.0,880000.0,500000.0,1225000.0,1120000.0,943500.0,881000.0,870000.0,1201000.0,900000.0,810000.0,725000.0,700000.0,1091000.0,1307000.0,1125000.0,901000.0,560000.0,1250000.0,823412.0,1140000.0,910000.0,895000.0,840000.0,817000.0,820000.0,790000.0,1025000.0,770000.0,1050000.0,1300000.0,958000.0,890000.0,841000.0,1000000.0,770000.0,755000.0,720000.0,950000.0,865000.0,800000.0,445100.0,990000.0,934000.0,960000.0,833150.0,938000.0,845000.0,800000.0,830000.0,796000.0,690000.0,925000.0,1385000.0,1375000.0,1010000.0,945000.0,900000.0,1400000.0,900000.0,815000.0,635000.0,1025000.0,929000.0,753000.0,1070000.0,926000.0,1300000.0,1282000.0,855000.0,850000.0,925000.0,725000.0,620000.0,962000.0,755000.0,745000.0,790000.0,770000.0,1600000.0,1020000.0,1000000.0,820000.0,552000.0,876000.0,800000.0,777000.0,768000.0,820000.0,742000.0,910000.0,790000.0,745000.0,525000.0,775000.0,580000.0,650000.0,757000.0,467500.0,850000.0,750000.0,842000.0,850000.0,1125000.0,1100000.0,920000.0,1153000.0,1050000.0,955000.0,780000.0,670100.0,937000.0,502000.0,960000.0,831000.0,1185000.0,1155000.0,955000.0,1108000.0,865000.0,1007000.0,1250000.0,650000.0,990000.0,715000.0,970000.0,945000.0,746000.0,680000.0,1205000.0,657400.0,893000.0,930000.0,687000.0,787000.0,1000000.0,955000.0,520000.0,1040000.0,970000.0,820000.0,685000.0,647000.0,1005000.0,960000.0,980000.0,895000.0,1000000.0,645000.0,1385000.0,615000.0,822000.0,770000.0,950000.0,782000.0,765000.0,635000.0,835000.0,658000.0,700000.0,700000.0,795000.0,695000.0,559000.0,936500.0,852000.0,720000.0,700000.0,935000.0,961300.0,1055000.0,950000.0,901000.0,780000.0,970000.0,850000.0,1465000.0,1210000.0,1175000.0,810000.0,801000.0,720000.0,691000.0,528000.0,800000.0,1126000.0,1122000.0,755000.0,1050000.0,945000.0,920000.0,1035000.0,1290000.0,821000.0,780000.0,620000.0,535000.0,800000.0,940000.0,930000.0,925000.0,930000.0,615000.0,650000.0,815000.0,820000.0,800000.0,671000.0,515000.0,1005000.0,1150000.0,950000.0,845000.0,950000.0,850000.0,520000.0,770000.0,745000.0,482000.0,985000.0,688000.0,1150000.0,825000.0,797000.0,940000.0,850000.0,715000.0,550000.0,830000.0,785000.0,746000.0,663500.0,830000.0,907000.0,852000.0,1015000.0,910000.0,780000.0,580000.0,715500.0,930000.0,860000.0,927000.0,835000.0,680000.0,490000.0,440000.0,4200000.0,830000.0,810000.0,760000.0,640000.0,565000.0,950000.0,623000.0,940000.0,806000.0,986000.0,890000.0,835000.0,706000.0,880000.0,760000.0,682000.0,850000.0,825000.0,815000.0,763000.0,960000.0,800000.0,1075000.0,835000.0,800000.0,800000.0,699000.0,585000.0,1120000.0,735000.0,980000.0,1277000.0,1110000.0,1042000.0,966000.0,730000.0,665000.0,543000.0,1150000.0,860000.0,547500.0,888000.0,795000.0,715000.0,595000.0,963000.0,932000.0,915000.0,1250000.0,1200000.0,1015000.0,775000.0,750000.0,580000.0,892000.0,830000.0,755000.0,915000.0,890000.0,720000.0,880000.0,814000.0,730000.0,685000.0,940000.0,880000.0,700000.0,802000.0,755000.0,743500.0,893000.0,1401000.0,813029.0,780000.0,550000.0,550000.0,785000.0,625000.0,770000.0,706000.0,912000.0,900000.0,855000.0,650000.0,650000.0,610000.0,925000.0,735000.0,1350000.0,1080000.0,830000.0,725000.0,818000.0,505000.0,1540000.0,970000.0,955000.0,890000.0,880000.0,755000.0,751000.0,600000.0,782000.0,625000.0,885000.0,600000.0,800000.0,760000.0,853000.0,795000.0,881000.0,512000.0,760000.0,980000.0,550000.0,880000.0,780000.0,515000.0,815000.0,710500.0,875000.0,675000.0,607000.0,535000.0,900000.0,650000.0,1050000.0,950000.0,857000.0,1350000.0,840000.0,560000.0,880000.0,839000.0,820000.0,760000.0,1000000.0,975000.0,650000.0,740000.0,760888.0,1180000.0,890000.0,826000.0,478900.0,900000.0,900000.0,860000.0,820000.0,780000.0,680000.0,631000.0,600000.0,822000.0,1020000.0,1301000.0,1200000.0,797500.0,790000.0,541000.0,840000.0,640000.0,730000.0,577000.0,735000.0,985000.0,767000.0,830000.0,815000.0,700000.0,1205000.0,880000.0,518000.0,1021000.0,775000.0,587500.0,800000.0,740000.0,717000.0,460000.0,625000.0,1050000.0,720000.0,680000.0,724500.0,497000.0,885000.0,700000.0,1050000.0,980000.0,650000.0,650000.0,700000.0,727500.0,806000.0,820000.0,767000.0,630000.0,660000.0,490000.0],\"xbins\":{\"size\":500000},\"type\":\"histogram\",\"xaxis\":\"x7\",\"yaxis\":\"y7\"},{\"autobinx\":false,\"name\":\"Castle Hill\",\"x\":[1740000.0,3980000.0,2150000.0,2692000.0,2525000.0,2400000.0,2385000.0,2502000.0,1615000.0,2520000.0,1850000.0,2360000.0,1640000.0,1281000.0,1920000.0,2419000.0,1866000.0,1845000.0,2100000.0,1790000.0,1900000.0,1950000.0,1570000.0,1855000.0,2750000.0,2000000.0,1825000.0,1400000.0,1330000.0,2020000.0,1310000.0,2350000.0,3250000.0,2100000.0,2100000.0,1145000.0,2250000.0,1660000.0,1450000.0,1240000.0,4000000.0,1875000.0,2028000.0,1880000.0,1960000.0,1860000.0,5120000.0,1652500.0,2550000.0,1995000.0,1520000.0,3061500.0,1588888.0,1400000.0,2170000.0,1180000.0,2960000.0,1958000.0,1990000.0,2030000.0,2000000.0,2551000.0,2360000.0,2135000.0,2000000.0,980000.0,2625000.0,2090000.0,1680000.0,2550000.0,1450000.0,1940000.0,2250000.0,2570000.0,2170000.0,1900000.0,1825000.0,1413000.0,2491000.0,2375000.0,1746000.0,3070000.0,1550000.0,2720000.0,1730000.0,1270000.0,2450000.0,1806000.0,1206000.0,1585000.0,2488000.0,2195000.0,1460000.0,1697000.0,2282000.0,1700000.0,941000.0,2655000.0,2321000.0,1451000.0,1400000.0,2050000.0,2605000.0,1760000.0,1985000.0,1350000.0,1215000.0,2000000.0,2321000.0,1995000.0,1143000.0,2410000.0,1380000.0,2492000.0,1960000.0,2008888.0,2251000.0,2112500.0,1985000.0,1500000.0,1685000.0,2180000.0,1885000.0,1320000.0,2100000.0,1370000.0,1318000.0,2850000.0,2059300.0,1806000.0,1550000.0,2000000.0,2200000.0,1523500.0,3185000.0,2065000.0,1740000.0,965000.0,2082000.0,2000000.0,1926700.0,2260000.0,2014000.0,2675000.0,1150000.0,2200000.0,954000.0,1968500.0,2110000.0,2183000.0,1450750.0,1600000.0,2175000.0,1340000.0,2675000.0,2320000.0,1700000.0,1753000.0,1890000.0,2300000.0,1300000.0,1352600.0,1550000.0,1530000.0,2255000.0,1225000.0,1530000.0,3400000.0,2305000.0,2160000.0,2330000.0,2100000.0,1155000.0,1150000.0,2051000.0,1655000.0,1600000.0,1711000.0,1320000.0,1560000.0,1690000.0,2100000.0,2450000.0,1930000.0,1631000.0,1361000.0,1570000.0,2550000.0,1720000.0,1712500.0,1850000.0,2375000.0,2060000.0,2125000.0,1850000.0,1560000.0,2375000.0,1755000.0,1735000.0,1400000.0,1625000.0,1270000.0,1932588.0,1565000.0,1469000.0,990000.0,1850888.0,2029000.0,1716000.0,1368000.0,1720000.0,1610000.0,1485000.0,2000000.0,2160000.0,1840000.0,1660000.0,1611000.0,2950000.0,2270000.0,1910000.0,2020000.0,2020000.0,1737000.0,1719500.0,1500000.0,1750000.0,2200000.0,2338000.0,1390000.0,2120000.0,1960000.0,1680000.0,2200000.0,2610000.0,1787000.0,1450000.0,1259000.0,1695000.0,2067000.0,1885000.0,1950000.0,1810000.0,1800000.0,2230000.0,2000000.0,1678888.0,1800000.0,1553000.0,2095000.0,1581000.0,1440000.0,1667000.0,1450000.0,1260000.0,1835000.0,2035000.0,1855000.0,1700000.0,1622000.0,1545000.0,1501000.0,1655000.0,1630000.0,2070000.0,1273000.0,2250000.0,1770000.0,2125000.0,1160000.0,2015000.0,1910000.0,900000.0,1700000.0,1200000.0,1760000.0,2300000.0,1670000.0,990000.0,3680000.0,1830000.0,1290000.0,1155025.0,1458000.0,2056000.0,1175000.0,1060000.0,1371000.0,1300000.0,1650000.0,1860000.0,1611000.0,1025000.0,2500000.0,1781000.0,2150000.0,920000.0,1730000.0,1226000.0,2600000.0,2200000.0,845000.0],\"xbins\":{\"size\":500000},\"type\":\"histogram\",\"xaxis\":\"x8\",\"yaxis\":\"y8\"},{\"autobinx\":false,\"name\":\"Ryde\",\"x\":[2320000.0,2460000.0,2030000.0,2520000.0,1650000.0,2645000.0,2415000.0,1875000.0,1980000.0,2425000.0,2400000.0,1868000.0,1422000.0,2800000.0,1900000.0,2390000.0,2025000.0,2350000.0,2700000.0,2760000.0,2100000.0,2322000.0,1709000.0,2050000.0,2360000.0,1940000.0,2450000.0,2421000.0,2920000.0,940000.0,2550000.0,2350000.0,2250000.0,2000000.0,2430000.0,3380000.0,2120000.0,2925000.0,2285000.0,2450000.0,2400000.0,2170000.0,2810000.0,2395000.0,2555000.0,3200000.0,2660000.0,2600000.0,2501000.0,2020000.0,2460000.0,2030000.0,2090000.0,2625000.0,2050000.0,1850000.0,1680000.0,2350000.0,1565000.0,2805000.0,2651000.0,2400000.0,2700000.0,2889000.0,2765000.0,2320000.0,1710000.0,1950000.0,2377000.0,1580000.0,2100000.0,2190000.0,2600000.0,3125000.0,2470000.0,1870000.0,2185000.0,1945000.0,2350000.0,1925000.0,1880000.0,3003000.0,1991000.0,1501500.0,1780000.0,2380000.0,1930000.0,2000000.0,1230000.0,2280000.0,1620000.0,1710000.0,1845000.0,2512500.0,3150000.0,2100000.0,2755000.0,2605000.0,2000000.0,2560000.0,2800000.0,2220000.0,2675000.0,1975000.0,3220000.0,2000000.0,1931000.0,2716800.0,2430000.0,2012000.0,2650000.0,1950000.0,1550000.0,1801500.0,2325000.0,2290000.0,1763000.0,2751000.0,1774000.0,2620000.0,1700000.0,1965000.0,2208700.0,2345000.0,2150000.0,1915000.0,1815000.0,1950000.0,1805000.0,2100000.0,2750000.0,2510000.0,2400000.0,2375000.0,2130000.0,1480000.0,1630000.0,1950000.0,2295000.0,1800000.0,2150000.0,1740000.0,1710000.0,2475000.0,2695000.0,1580000.0,2620000.0,2350000.0,1835000.0,1956000.0,1810000.0,1880000.0,1800000.0,2220500.0,1965000.0,1920000.0,1370000.0,2700000.0,2340000.0,2200000.0,2415000.0,2455000.0,2000000.0,1720000.0,2600000.0,2500000.0,1830000.0,2250000.0,1670000.0,2000000.0,2400000.0,1680000.0,1960000.0,1785000.0,1850000.0,1600000.0,4800000.0,1410000.0,1757500.0,1370000.0,1836000.0,1800000.0,1585000.0],\"xbins\":{\"size\":500000},\"type\":\"histogram\",\"xaxis\":\"x9\",\"yaxis\":\"y9\"},{\"autobinx\":false,\"name\":\"Rouse Hill\",\"x\":[1650000.0,1125000.0,1506000.0,1375000.0,1410000.0,1661000.0,1190000.0,1715000.0,1570000.0,1413000.0,1415000.0,1435000.0,1260000.0,1600000.0,1590000.0,2020000.0,4100000.0,2200000.0,1620000.0,1050000.0,1880000.0,1395000.0,1515000.0,1380000.0,1750000.0,1725000.0,1300000.0,1185000.0,1700000.0,1301000.0,1510000.0,1221000.0,1520000.0,1450000.0,2370000.0,1700000.0,1662000.0,1640000.0,1200000.0,1655000.0,1325901.0,1321000.0,1505000.0,1580000.0,1570000.0,1725000.0,1300000.0,1360000.0,1415800.0,1691000.0,1380000.0,1320000.0,1185000.0,1125000.0,1500000.0,1313500.0,1226500.0,1630000.0,1250000.0,1280000.0,950000.0,1370000.0,1345000.0,1080888.0,1300000.0,1260000.0,1302000.0,1630000.0,1225000.0,1450000.0,1370000.0,1320000.0,1565970.0,1200000.0,1400000.0,1370000.0,1567250.0,1500000.0,1085000.0,1305000.0,1255000.0,1406000.0,1335000.0,1535000.0,1052500.0,1027000.0,1760000.0,1121000.0,1241500.0,1350000.0,1463000.0,1390000.0,1310000.0,1410000.0,1080000.0,1393300.0,1352300.0,1141900.0,1453880.0,1475580.0,1300000.0,1245000.0,1195000.0,1009900.0,1200000.0,782000.0,980000.0,1000000.0,1395000.0,2079000.0,1820000.0,1959000.0,1100000.0,930000.0,670000.0,950000.0,1740000.0,1480000.0,1360000.0,1305000.0,1100000.0,860000.0,850000.0,850000.0,1286900.0],\"xbins\":{\"size\":500000},\"type\":\"histogram\",\"xaxis\":\"x10\",\"yaxis\":\"y10\"},{\"autobinx\":false,\"name\":\"Beecroft\",\"x\":[3500000.0,2040000.0,2650000.0,3110000.0,2439800.0,1800000.0,2410000.0,2100000.0,3150000.0,1950000.0,1570000.0,1760000.0,2140000.0,2605000.0,2210000.0,2220000.0,1860000.0,1920000.0,2689000.0,2806000.0,2540000.0,2475000.0,2325000.0,2980000.0,1881000.0,1420000.0,1560200.0,2020000.0,2450000.0,2445000.0,2375000.0,1851000.0,2361000.0,2700000.0,2525000.0,2000000.0,1925000.0,3160000.0,2460000.0,2010000.0,1580000.0,2230000.0,2530000.0,1972000.0,2010000.0,3300000.0,1850000.0,2240000.0,2688000.0,2866000.0,2020000.0,2185000.0,2570000.0,2180000.0,1750000.0,2100000.0,2360000.0,2150000.0,3450000.0,1536000.0,2800000.0,2110000.0,2085000.0,2000000.0,2264000.0,2305000.0,2121000.0,1865000.0,2200000.0,1351000.0,1785000.0,1770000.0,1660000.0,null,null,null,null,null,null,null,1830000.0,2625000.0,3300000.0,null,2400000.0,4000000.0,null,2200000.0,2940000.0,2930000.0,2900000.0,2625000.0,2675000.0,null,2180000.0,2430000.0,null,1980000.0,2510000.0,1880000.0,1780000.0,1900000.0,1820000.0,null,null,2600000.0],\"xbins\":{\"size\":500000},\"type\":\"histogram\",\"xaxis\":\"x11\",\"yaxis\":\"y11\"},{\"autobinx\":false,\"name\":\"Ermington\",\"x\":[1840000.0,4200000.0,2225000.0,1338000.0,1260000.0,1065000.0,2660000.0,1010000.0,800000.0,2020000.0,1820000.0,990550.0,1200000.0,2038000.0,1875000.0,1808000.0,1070000.0,1888000.0,2085000.0,1815000.0,2320000.0,1840000.0,1785000.0,2000000.0,1860000.0,1750000.0,885000.0,1010000.0,1620000.0,1125000.0,1755000.0,1668000.0,1710000.0,2355500.0,2175000.0,2025000.0,960000.0,2380000.0,2170000.0,2080000.0,1500000.0,1800000.0,1010000.0,1570000.0,1700000.0,1580000.0,1723000.0,1310000.0,1661000.0,960000.0,1651000.0,1645000.0,1900000.0,1780000.0,1620000.0,1770000.0,1810000.0,1460000.0,1872000.0,1170000.0,1960000.0,1772500.0,1860000.0,1580000.0,2002500.0,940000.0,1950000.0,900000.0,1408000.0,2153000.0,1510000.0,1025000.0,940000.0,1000000.0,1785000.0,1405000.0,1250000.0,892888.0,1625000.0,1505000.0,2085000.0,1660000.0,2110000.0,1285000.0,1685000.0,1345000.0,1000000.0,1810000.0,1775000.0,2145000.0,1825000.0,1525000.0,1205000.0,3180000.0,1551000.0,969950.0,1730000.0,1500000.0,1151000.0,1620000.0,1893000.0,1700000.0,930000.0,1520000.0,1650000.0,1200000.0,1458000.0,1271000.0,1228000.0,3000000.0,1480888.0,1310000.0,880000.0,1525000.0,1450000.0,2030000.0,1635000.0,1825000.0,1720000.0,1370000.0,1650000.0,1390000.0,1450000.0,1727000.0,1527000.0,1420000.0,1202000.0,1560000.0,1820000.0,1350000.0,1180000.0,1340000.0,1256000.0,1200000.0,1495000.0,855000.0,1240000.0,2610000.0,1500000.0,1520000.0,2350000.0,2350000.0,1000000.0,1720000.0,1438888.0,1027000.0,1790000.0,1800000.0,1110000.0,2225000.0,3800000.0,2000000.0,1800000.0,1050000.0,2100000.0,1615000.0,1190000.0,1550000.0,1500000.0,2150000.0,1470000.0,1300000.0,1380000.0,890000.0,1530000.0,1500000.0,1400000.0,1190888.0,1250000.0,860000.0,1300000.0,1620000.0],\"xbins\":{\"size\":500000},\"type\":\"histogram\",\"xaxis\":\"x12\",\"yaxis\":\"y12\"},{\"autobinx\":false,\"name\":\"Northmead\",\"x\":[1600000.0,1550000.0,905000.0,880000.0,1105000.0,1100000.0,1500000.0,1500000.0,890000.0,870000.0,1455000.0,918800.0,1005000.0,1260000.0,1450000.0,1580000.0,1450000.0,1310000.0,1100000.0,1610000.0,1830000.0,1450000.0,1410000.0,1730000.0,1256000.0,1650000.0,1258000.0,830000.0,480000.0,1470000.0,1300000.0,1486000.0,1475000.0,1300000.0,1400000.0,941000.0,1920000.0,1510000.0,851000.0,1350000.0,1050000.0,960000.0,845000.0,1431000.0,1265000.0,1210000.0,1470000.0,1330000.0,1200000.0,1825000.0,790000.0,1775000.0,1515000.0,1450000.0,1290000.0,1672500.0,1430000.0,1000000.0,805500.0,1415000.0,1506000.0,1314000.0,775000.0,1505000.0,1316000.0,1265000.0,1010000.0,1400000.0,760000.0,1290000.0,830000.0,1420000.0,1200000.0,1390500.0,1311000.0,1350000.0,1330000.0,1380000.0,1232000.0,1545000.0,1226130.0,1730000.0,820000.0,1500000.0,1450000.0,1205000.0,800000.0,950000.0,1110000.0,1200000.0,1050000.0,907725.0,1050000.0,1450000.0,1200000.0,1530000.0,1300000.0,1581000.0,1430000.0,820000.0,1701000.0,1825000.0,910000.0,1530000.0,1710000.0,805000.0,1750000.0,1280000.0,1350000.0,918000.0,830000.0,1350000.0,870000.0,830000.0,1591000.0,1050000.0,1280000.0,965000.0,1800000.0,900000.0,1083500.0,1280000.0,971100.0,1390000.0,1170000.0,1300000.0,900000.0,890000.0,800000.0,1460000.0,1320000.0,1160000.0,1020000.0,1001000.0,1050000.0,1650000.0,1340000.0,925000.0,920000.0,1090000.0,null,null,null,null,null,null,null,1305000.0,1750000.0,1400000.0,1316800.0,1625000.0,1075000.0],\"xbins\":{\"size\":500000},\"type\":\"histogram\",\"xaxis\":\"x13\",\"yaxis\":\"y13\"},{\"autobinx\":false,\"name\":\"Newington\",\"x\":[1950000.0,1791000.0,2335000.0,1740000.0,2197000.0,1700000.0,1765000.0,1585000.0,1668000.0,2150000.0,1695000.0,1900000.0,1855000.0,2290000.0,1830000.0,1680000.0,1317000.0,1700000.0,1460000.0,1537500.0,1700000.0,1400000.0,1611000.0,1575000.0,1270000.0,null,1780000.0,1520000.0,1550000.0,null,null,1630000.0,1450000.0,null,1439000.0,1530000.0,1320000.0,1495000.0],\"xbins\":{\"size\":500000},\"type\":\"histogram\",\"xaxis\":\"x14\",\"yaxis\":\"y14\"},{\"autobinx\":false,\"name\":\"Concord\",\"x\":[3800000.0,2820000.0,2085000.0,2075000.0,1850000.0,1800000.0,2230000.0,2951000.0,2880000.0,3580000.0,3550000.0,5200000.0,2650000.0,3075000.0,2600000.0,3655000.0,3460000.0,1425000.0,2225000.0,4006000.0,2650000.0,3310000.0,3200000.0,3010000.0,2660000.0,2240000.0,2628000.0,2357000.0,2210000.0,4660000.0,2850000.0,2250000.0,4030000.0,3440000.0,3410000.0,3300000.0,2150000.0,2425000.0,3315000.0,1520000.0,4050000.0,2742000.0,1600000.0,3880000.0,3510000.0,2255000.0,2300000.0,2666000.0,2800000.0,2870000.0,1581000.0,4100000.0,2325000.0,2100000.0,2555000.0,2410000.0,2150000.0,3750000.0,2800000.0,2550000.0,2390000.0,3000000.0,1660000.0,4015000.0,2500000.0,1900000.0,2715000.0,2500000.0,4600000.0,3300000.0,2300000.0,2425000.0,2940000.0,2725000.0,2675000.0,1970000.0,2200000.0,2360000.0,2261000.0,3220000.0,1490000.0,2520000.0,2400000.0,2088000.0,1175000.0,3100000.0,2930000.0,2680000.0,2101000.0,2711000.0,2300000.0,2510000.0,1925000.0,3000000.0,2180000.0,2325000.0,2111000.0,1455000.0,3060000.0,2500000.0,1626000.0,2505000.0,3125000.0,2825000.0,2725000.0,1280000.0,2180000.0,2380000.0,7700000.0,2820000.0,1980000.0,1960000.0,1790000.0,1705000.0,3920000.0,2850000.0,2151000.0,3200000.0,3300000.0,1949000.0,1600000.0,2035000.0,3000000.0,3000000.0,2520000.0,2850000.0,2861000.0,3250000.0,1165000.0,3000000.0,1285000.0,1980000.0,2550000.0,2200000.0,1200000.0,2430000.0,1850000.0],\"xbins\":{\"size\":500000},\"type\":\"histogram\",\"xaxis\":\"x15\",\"yaxis\":\"y15\"},{\"autobinx\":false,\"name\":\"Marsfield\",\"x\":[2760000.0,2430000.0,965500.0,2570000.0,2730000.0,970000.0,2610000.0,1980000.0,1070000.0,2250000.0,2600000.0,940000.0,955000.0,2360000.0,920000.0,2000000.0,2600000.0,3490000.0,2410000.0,2330000.0,1010000.0,1100000.0,2510000.0,2027500.0,2625000.0,900000.0,2670000.0,1340000.0,1120000.0,2400000.0,2641000.0,999000.0,1982000.0,1140000.0,950000.0,836000.0,2025000.0,1330000.0,3350000.0,2850000.0,2350000.0,2370000.0,2856000.0,2480000.0,905000.0,2200000.0,3380000.0,990000.0,2430000.0,1505000.0,2338800.0,931000.0,1020500.0,980000.0,900000.0,2230000.0,2485000.0,2430000.0,2400000.0,962000.0,1305000.0,2151000.0,1850000.0,1002000.0,2239000.0,927000.0,1970000.0,1213000.0,925000.0,916500.0,1052000.0,2672000.0,2000000.0,1235000.0,2510000.0,2480000.0,2560000.0,890000.0,2300000.0,2350000.0,2630000.0,890000.0,1002000.0,870000.0,2780000.0,935000.0,915000.0,2155000.0,2725000.0,2300000.0,1860000.0,896000.0,855000.0,1915000.0,2740000.0,2460000.0,2360000.0,2515000.0,2010000.0,853000.0,2500000.0,1320000.0,965000.0,905000.0,2490000.0,1000000.0,960000.0,2100000.0,838500.0,1975000.0,1810000.0,1295000.0,1017000.0,768000.0,2460000.0,885000.0,931000.0,2418000.0,2300000.0,2360000.0],\"xbins\":{\"size\":500000},\"type\":\"histogram\",\"xaxis\":\"x16\",\"yaxis\":\"y16\"},{\"autobinx\":false,\"name\":\"Hornsby\",\"x\":[1875000.0,1325000.0,2400000.0,1125000.0,2275000.0,900000.0,1400000.0,1861000.0,1626000.0,1420000.0,1098000.0,1937000.0,1625000.0,1300000.0,1780000.0,1272000.0,2427000.0,1950000.0,1586000.0,2450000.0,1504000.0,1900000.0,1400000.0,1905000.0,1250000.0,2520000.0,2200000.0,1080000.0,1680000.0,1400000.0,1590000.0,1410000.0,1273000.0,1600000.0,1900000.0,1725000.0,1150000.0,1810000.0,2290000.0,2130000.0,900000.0,2280000.0,2050000.0,1500000.0,1450000.0,1712000.0,980000.0,1750000.0,1380000.0,2390000.0,1820000.0,1785000.0,2285000.0,1500000.0,1395000.0,1250000.0,2700000.0,1725000.0,2075000.0,1900000.0,1690000.0,2341000.0,1880000.0,1935000.0,2100000.0,1605000.0,1605000.0,1830000.0,1405000.0,1090000.0,1650000.0,2490000.0,1750000.0,1605000.0,1080000.0,1105000.0,2050000.0,2009999.0,1650000.0,2004000.0,1510000.0,1900000.0,1700000.0,1000000.0,1305000.0,1175000.0,1200000.0,1600000.0,1900000.0,1080000.0,2380000.0,1358000.0,1700000.0,1475000.0,1155000.0,1090000.0,1800000.0,1580000.0,1252000.0,1780888.0,1750000.0,1515000.0,985000.0,1450000.0,1350000.0,1900000.0,1809000.0,1780000.0,1726000.0,1510000.0,1000000.0,860000.0,1270000.0,1736000.0,1650000.0,1550000.0,1200000.0,1422000.0,1765000.0,1620000.0,1360000.0,1040000.0,1620000.0,1620000.0,1165000.0,1550000.0,1514000.0,1360000.0,1430000.0,1395000.0,1812000.0,1600000.0,1320000.0,1290000.0,1100000.0,1225000.0,1610000.0,1070000.0,1420000.0,2020000.0,905100.0,2100999.0,1811000.0,1590000.0,1405000.0,1900000.0,1500000.0,1320000.0,2225000.0,1520100.0,1520001.0,1650000.0,1800000.0,1350000.0],\"xbins\":{\"size\":500000},\"type\":\"histogram\",\"xaxis\":\"x17\",\"yaxis\":\"y17\"},{\"autobinx\":false,\"name\":\"Lidcombe\",\"x\":[768000.0,1320000.0,1525000.0,1280000.0,1920000.0,1060000.0,800000.0,1858000.0,1500000.0,1150000.0,1800000.0,1275000.0,1932000.0,1623000.0,1600000.0,2000000.0,1225000.0,980000.0,1270000.0,1056000.0,1075000.0,1440000.0,1550000.0,1150000.0,1435000.0,940000.0,963000.0,820000.0,1171100.0,1490000.0,1380000.0,1850000.0,1372000.0,1345000.0,2010000.0,1300000.0,715000.0,1182000.0,1630000.0,1490000.0,1300000.0,901000.0,1735000.0,1600000.0,880000.0,2192000.0,1660000.0,1580000.0,1625000.0,1400000.0,950000.0,727000.0,1460000.0,640000.0,581000.0,2181000.0,938000.0,1050000.0,1425000.0,920000.0,1031000.0,733000.0,1248000.0,868000.0,1670000.0,1805000.0,1385000.0,1280000.0,1226000.0,1105000.0,1315000.0,1850000.0,1650000.0,1541000.0,2300000.0,1666000.0,1510000.0,1320000.0,1385000.0,1600000.0,860000.0,2130000.0,1680000.0,1260000.0,1130000.0,1900000.0,1875000.0,1610000.0,2851000.0,1685000.0,1655000.0,1910000.0,1305000.0,1550000.0,1638000.0,1930000.0,1635000.0,1800000.0,1870000.0,1230000.0,675000.0,1400000.0,1230000.0,2200000.0,750000.0,823000.0,1340000.0,1565000.0,1400000.0,1650000.0,1681000.0,1450000.0,1050000.0,2381500.0,2100000.0,1750000.0,1080000.0,1500000.0,2170000.0,1460000.0,1150000.0,1215000.0,1450000.0,1500000.0,1410000.0,1180000.0,182000.0,925000.0,1892000.0,1882000.0,1140000.0,635000.0,755000.0,1175000.0,950000.0,1310000.0,null,null,null,null,1765000.0,null,null,null,null,null,null,1537000.0,1351000.0,900000.0,1015000.0,730000.0,1720000.0,1830000.0,1100000.0,1380000.0,1750000.0,1030000.0,1350000.0,1042000.0,null,1175000.0,795000.0,null,697000.0,1500000.0,1500000.0,993000.0,1520000.0],\"xbins\":{\"size\":500000},\"type\":\"histogram\",\"xaxis\":\"x18\",\"yaxis\":\"y18\"},{\"autobinx\":false,\"name\":\"Homebush\",\"x\":[3110000.0,3580000.0,3190000.0,2410000.0,945000.0,955000.0,1060000.0,1175000.0,1305000.0,2000000.0,1286000.0,1300000.0,1300000.0,2870000.0,990000.0,2830000.0,2060000.0,1050000.0,2625000.0,1772888.0,3885000.0,1200000.0,985000.0,2500000.0,2600000.0,2100000.0,1150000.0,null,null],\"xbins\":{\"size\":500000},\"type\":\"histogram\",\"xaxis\":\"x19\",\"yaxis\":\"y19\"},{\"autobinx\":false,\"name\":\"Ashfield\",\"x\":[3960000.0,1888000.0,1300300.0,2550000.0,1878000.0,1240000.0,2375000.0,1845000.0,1750000.0,1650000.0,2680000.0,1647000.0,2200000.0,1015000.0,1600000.0,2460000.0,2009000.0,2455000.0,2515000.0,2030000.0,2590000.0,2425000.0,1910000.0,2900000.0,930000.0,3420000.0,1975000.0,1900000.0,2780000.0,1850000.0,1435000.0,3700000.0,1300000.0,1975500.0,2230000.0,1400000.0,2360000.0,2809000.0,1821000.0,2440000.0,1350000.0,2380000.0,2300000.0,1556000.0,2275000.0,2260000.0,2100000.0,2860000.0,1610000.0,1565000.0,1375000.0,1200000.0,1990000.0,1300000.0,1465000.0,2100000.0,1228000.0,1626000.0,2000000.0,1140000.0,2120000.0,1475000.0,1335000.0,970000.0,790000.0,1700000.0,1650000.0,1610000.0,3475000.0,2150000.0,1850000.0,50000.0,1380000.0,1810000.0,1325000.0,1930000.0,1850000.0,2650000.0,1330000.0,1730000.0,842000.0,1850000.0,830000.0,2051000.0,1160000.0,null,null,null,null,null,null,null,null,null,1800000.0,1520000.0,null,1960000.0,null,2080000.0,1538000.0,null,null,null,null,1500000.0,2310000.0,2667000.0,1810000.0,2265000.0,2120000.0,2560000.0,1050000.0,1988888.0,null,965000.0,1880000.0,2650000.0,1860000.0,null,1290000.0,1585000.0,1680000.0,1100000.0,1200000.0,1185500.0,2560000.0,1250000.0,2520000.0,1830000.0,3750000.0,1101000.0,760000.0,1630000.0,1310000.0,1780000.0,1270000.0],\"xbins\":{\"size\":500000},\"type\":\"histogram\",\"xaxis\":\"x21\",\"yaxis\":\"y21\"},{\"autobinx\":false,\"name\":\"Leichhardt\",\"x\":[1550000.0,2825000.0,1385000.0,1335000.0,1931000.0,2430000.0,1465000.0,1485000.0,1450000.0,1955000.0,1700000.0,2275000.0,2300000.0,2700000.0,1490000.0,1730000.0,1540000.0,1530000.0,5855000.0,3050000.0,2007000.0,1525000.0,1535000.0,1841000.0,1800000.0,2310000.0,2855000.0,1670000.0,2300000.0,1700000.0,2080000.0,1800000.0,1225000.0,2500000.0,1800000.0,1900000.0,1900000.0,1760000.0,1506000.0,1920000.0,2005000.0,1425000.0,1430000.0,4430000.0,1525000.0,1800000.0,2250000.0,2260000.0,1550000.0,2515000.0,1370000.0,1690000.0,2500000.0,1303000.0,1225000.0,2640000.0,1825000.0,1580000.0,1710000.0,2615000.0,1670000.0,2405000.0,2630000.0,3200000.0,1640000.0,2150000.0,1489500.0,1565000.0,1450000.0,1531000.0,1399999.0,1550000.0,1340000.0,2700000.0,2250000.0,2000500.0,1750000.0,1550000.0,1940000.0,1800000.0,2051000.0,1925000.0,1830000.0,2350000.0,2360000.0,1660000.0,1650000.0,1340000.0,1450000.0,1390000.0,1325000.0,2010000.0,1452000.0,2710000.0,1885000.0,2535000.0,1600000.0,2440000.0,2075000.0,1385000.0,1996000.0,1365000.0,2445000.0,2000000.0,1405000.0,1760000.0,1125000.0,1570000.0,1600000.0,2350000.0,1650000.0,2650000.0,1415000.0,1945000.0,1830000.0,1410000.0,2690000.0,1630000.0,1815000.0,1295000.0,1921000.0,1863000.0,1570000.0,1810000.0,1440000.0,1300000.0,1900000.0,1355000.0,1590000.0,1225000.0,1930000.0,1900000.0,1600000.0,1600000.0,3265000.0,1360000.0,1631000.0,2021500.0,2025000.0,1675000.0,1251000.0,1403000.0,1410000.0,1550000.0,1385000.0,1875000.0,1000000.0,2650000.0,1675000.0,1390000.0,1525000.0,1400000.0,1815000.0,1600000.0,1305000.0,1925000.0,1700000.0,1685000.0,2450000.0,1915000.0,2225000.0,1800000.0,1545000.0,1565000.0,1450000.0,1750000.0,1410000.0,1730000.0,3100000.0,3125000.0,1610000.0,1800000.0,1630000.0,1591000.0,1660000.0,2300000.0,2000000.0,1931500.0,1440000.0,1726000.0,2570000.0,2200000.0,1850000.0,2850000.0,2200000.0,1875000.0,2700000.0,1879500.0,2050000.0,1725000.0,2825000.0,1520000.0,1720000.0,1300000.0,1700000.0,1400000.0,1265000.0,1180000.0,1428000.0,1700000.0,1355000.0,1000000.0,1610000.0,1230000.0],\"xbins\":{\"size\":500000},\"type\":\"histogram\",\"xaxis\":\"x22\",\"yaxis\":\"y22\"},{\"autobinx\":false,\"name\":\"Annandale\",\"x\":[2151000.0,3950000.0,3760000.0,1100000.0,980000.0,2450000.0,3400000.0,2375000.0,1446000.0,1780000.0,4700000.0,3085000.0,3324000.0,3700000.0,3100000.0,1230000.0,2760000.0,2285000.0,2120000.0,3700000.0,2750000.0,1905000.0,3025000.0,2535000.0,2015000.0,1740000.0,2650000.0,1750000.0,1751000.0,2410000.0,2030000.0,2200000.0,4050000.0,1800000.0,2806500.0,2110000.0,1650000.0,2270000.0,2625000.0,2450000.0,1631000.0,2850000.0,2670000.0,3400000.0,3550000.0,1710000.0,1760000.0,1755000.0,3600000.0,1750000.0,1250000.0,1360000.0,2000000.0,3600000.0,3325000.0,2300000.0,1782000.0,2850000.0,2900000.0,1175000.0,1910000.0,1730000.0,1975000.0,1695000.0,1690000.0,2100000.0,1565000.0,4350000.0,1810000.0,2430000.0,2360000.0,1490000.0,2065000.0,1290000.0,1760000.0,1875000.0,2125000.0,2305000.0,3035000.0,1300000.0,1760000.0,1470000.0,1490000.0,2000000.0,2350000.0,2650000.0,1800000.0,1825000.0,2600000.0,1575000.0,1600000.0,1920000.0,1450000.0,1800000.0,6225000.0,2055000.0,2125000.0,2200000.0,2020000.0,3100000.0],\"xbins\":{\"size\":500000},\"type\":\"histogram\",\"xaxis\":\"x23\",\"yaxis\":\"y23\"},{\"autobinx\":false,\"name\":\"Allambie Heights\",\"x\":[2115000.0,1650000.0,1900000.0,4100000.0,2200000.0,3205000.0,3100000.0,2825000.0,3300000.0,2100000.0,2230000.0,3000000.0,2375000.0,2310000.0,1985000.0,2305000.0,2960000.0,2420000.0,2825000.0,3355000.0,2500000.0,2230000.0,1750000.0,2015000.0,2730000.0,2510000.0,2000000.0,1710000.0,3380000.0,1745000.0,3050000.0,2310000.0,2200000.0,null,null,null,null,null,null,null,null,null,null,2750000.0,2800000.0,2020000.0,2595000.0,2400000.0,1875000.0,2900000.0,2710000.0,2850000.0,null,2235000.0,2855000.0,2450000.0,2835000.0,2055000.0,2385000.0,2490000.0,3335000.0,null,null,3075000.0,2650000.0,2420000.0,2358000.0,2715000.0,2000000.0,2785000.0,2860000.0,null,3300000.0,1750000.0,1515000.0,null,1780000.0,2277000.0,2130000.0,2225000.0,2010000.0,1630000.0,1440000.0,960000.0],\"xbins\":{\"size\":500000},\"type\":\"histogram\",\"xaxis\":\"x24\",\"yaxis\":\"y24\"},{\"autobinx\":false,\"name\":\"Forestville\",\"x\":[1620000.0,1620000.0,2020000.0,2530000.0,1325000.0,2355000.0,2190000.0,1350000.0,3388800.0,2311000.0,1200000.0,2766000.0,2100000.0,2100000.0,2680000.0,2350000.0,2300000.0,2550000.0,1885000.0,1980000.0,2380000.0,2300000.0,2526000.0,2671000.0,2100000.0,1840000.0,3112000.0,2410000.0,2100000.0,2700000.0,3050999.0,1305000.0,2999000.0,3200000.0,1975000.0,1832000.0,1610000.0,1715000.0,2190000.0,2257000.0,1940000.0,1275000.0,1502237.0,2200000.0,2200000.0,1700000.0,2202000.0,2040000.0,2205000.0,1343000.0,1700000.0,1890000.0,1860000.0,null,null,null,null,null,1840000.0,2650000.0,2400000.0,1900000.0,1950000.0,2413000.0,2520000.0,2197000.0,2150000.0,2502000.0,null,2020000.0],\"xbins\":{\"size\":500000},\"type\":\"histogram\",\"xaxis\":\"x25\",\"yaxis\":\"y25\"}],                        {\"template\":{\"data\":{\"bar\":[{\"error_x\":{\"color\":\"#2a3f5f\"},\"error_y\":{\"color\":\"#2a3f5f\"},\"marker\":{\"line\":{\"color\":\"#E5ECF6\",\"width\":0.5},\"pattern\":{\"fillmode\":\"overlay\",\"size\":10,\"solidity\":0.2}},\"type\":\"bar\"}],\"barpolar\":[{\"marker\":{\"line\":{\"color\":\"#E5ECF6\",\"width\":0.5},\"pattern\":{\"fillmode\":\"overlay\",\"size\":10,\"solidity\":0.2}},\"type\":\"barpolar\"}],\"carpet\":[{\"aaxis\":{\"endlinecolor\":\"#2a3f5f\",\"gridcolor\":\"white\",\"linecolor\":\"white\",\"minorgridcolor\":\"white\",\"startlinecolor\":\"#2a3f5f\"},\"baxis\":{\"endlinecolor\":\"#2a3f5f\",\"gridcolor\":\"white\",\"linecolor\":\"white\",\"minorgridcolor\":\"white\",\"startlinecolor\":\"#2a3f5f\"},\"type\":\"carpet\"}],\"choropleth\":[{\"colorbar\":{\"outlinewidth\":0,\"ticks\":\"\"},\"type\":\"choropleth\"}],\"contour\":[{\"colorbar\":{\"outlinewidth\":0,\"ticks\":\"\"},\"colorscale\":[[0.0,\"#0d0887\"],[0.1111111111111111,\"#46039f\"],[0.2222222222222222,\"#7201a8\"],[0.3333333333333333,\"#9c179e\"],[0.4444444444444444,\"#bd3786\"],[0.5555555555555556,\"#d8576b\"],[0.6666666666666666,\"#ed7953\"],[0.7777777777777778,\"#fb9f3a\"],[0.8888888888888888,\"#fdca26\"],[1.0,\"#f0f921\"]],\"type\":\"contour\"}],\"contourcarpet\":[{\"colorbar\":{\"outlinewidth\":0,\"ticks\":\"\"},\"type\":\"contourcarpet\"}],\"heatmap\":[{\"colorbar\":{\"outlinewidth\":0,\"ticks\":\"\"},\"colorscale\":[[0.0,\"#0d0887\"],[0.1111111111111111,\"#46039f\"],[0.2222222222222222,\"#7201a8\"],[0.3333333333333333,\"#9c179e\"],[0.4444444444444444,\"#bd3786\"],[0.5555555555555556,\"#d8576b\"],[0.6666666666666666,\"#ed7953\"],[0.7777777777777778,\"#fb9f3a\"],[0.8888888888888888,\"#fdca26\"],[1.0,\"#f0f921\"]],\"type\":\"heatmap\"}],\"heatmapgl\":[{\"colorbar\":{\"outlinewidth\":0,\"ticks\":\"\"},\"colorscale\":[[0.0,\"#0d0887\"],[0.1111111111111111,\"#46039f\"],[0.2222222222222222,\"#7201a8\"],[0.3333333333333333,\"#9c179e\"],[0.4444444444444444,\"#bd3786\"],[0.5555555555555556,\"#d8576b\"],[0.6666666666666666,\"#ed7953\"],[0.7777777777777778,\"#fb9f3a\"],[0.8888888888888888,\"#fdca26\"],[1.0,\"#f0f921\"]],\"type\":\"heatmapgl\"}],\"histogram\":[{\"marker\":{\"pattern\":{\"fillmode\":\"overlay\",\"size\":10,\"solidity\":0.2}},\"type\":\"histogram\"}],\"histogram2d\":[{\"colorbar\":{\"outlinewidth\":0,\"ticks\":\"\"},\"colorscale\":[[0.0,\"#0d0887\"],[0.1111111111111111,\"#46039f\"],[0.2222222222222222,\"#7201a8\"],[0.3333333333333333,\"#9c179e\"],[0.4444444444444444,\"#bd3786\"],[0.5555555555555556,\"#d8576b\"],[0.6666666666666666,\"#ed7953\"],[0.7777777777777778,\"#fb9f3a\"],[0.8888888888888888,\"#fdca26\"],[1.0,\"#f0f921\"]],\"type\":\"histogram2d\"}],\"histogram2dcontour\":[{\"colorbar\":{\"outlinewidth\":0,\"ticks\":\"\"},\"colorscale\":[[0.0,\"#0d0887\"],[0.1111111111111111,\"#46039f\"],[0.2222222222222222,\"#7201a8\"],[0.3333333333333333,\"#9c179e\"],[0.4444444444444444,\"#bd3786\"],[0.5555555555555556,\"#d8576b\"],[0.6666666666666666,\"#ed7953\"],[0.7777777777777778,\"#fb9f3a\"],[0.8888888888888888,\"#fdca26\"],[1.0,\"#f0f921\"]],\"type\":\"histogram2dcontour\"}],\"mesh3d\":[{\"colorbar\":{\"outlinewidth\":0,\"ticks\":\"\"},\"type\":\"mesh3d\"}],\"parcoords\":[{\"line\":{\"colorbar\":{\"outlinewidth\":0,\"ticks\":\"\"}},\"type\":\"parcoords\"}],\"pie\":[{\"automargin\":true,\"type\":\"pie\"}],\"scatter\":[{\"marker\":{\"colorbar\":{\"outlinewidth\":0,\"ticks\":\"\"}},\"type\":\"scatter\"}],\"scatter3d\":[{\"line\":{\"colorbar\":{\"outlinewidth\":0,\"ticks\":\"\"}},\"marker\":{\"colorbar\":{\"outlinewidth\":0,\"ticks\":\"\"}},\"type\":\"scatter3d\"}],\"scattercarpet\":[{\"marker\":{\"colorbar\":{\"outlinewidth\":0,\"ticks\":\"\"}},\"type\":\"scattercarpet\"}],\"scattergeo\":[{\"marker\":{\"colorbar\":{\"outlinewidth\":0,\"ticks\":\"\"}},\"type\":\"scattergeo\"}],\"scattergl\":[{\"marker\":{\"colorbar\":{\"outlinewidth\":0,\"ticks\":\"\"}},\"type\":\"scattergl\"}],\"scattermapbox\":[{\"marker\":{\"colorbar\":{\"outlinewidth\":0,\"ticks\":\"\"}},\"type\":\"scattermapbox\"}],\"scatterpolar\":[{\"marker\":{\"colorbar\":{\"outlinewidth\":0,\"ticks\":\"\"}},\"type\":\"scatterpolar\"}],\"scatterpolargl\":[{\"marker\":{\"colorbar\":{\"outlinewidth\":0,\"ticks\":\"\"}},\"type\":\"scatterpolargl\"}],\"scatterternary\":[{\"marker\":{\"colorbar\":{\"outlinewidth\":0,\"ticks\":\"\"}},\"type\":\"scatterternary\"}],\"surface\":[{\"colorbar\":{\"outlinewidth\":0,\"ticks\":\"\"},\"colorscale\":[[0.0,\"#0d0887\"],[0.1111111111111111,\"#46039f\"],[0.2222222222222222,\"#7201a8\"],[0.3333333333333333,\"#9c179e\"],[0.4444444444444444,\"#bd3786\"],[0.5555555555555556,\"#d8576b\"],[0.6666666666666666,\"#ed7953\"],[0.7777777777777778,\"#fb9f3a\"],[0.8888888888888888,\"#fdca26\"],[1.0,\"#f0f921\"]],\"type\":\"surface\"}],\"table\":[{\"cells\":{\"fill\":{\"color\":\"#EBF0F8\"},\"line\":{\"color\":\"white\"}},\"header\":{\"fill\":{\"color\":\"#C8D4E3\"},\"line\":{\"color\":\"white\"}},\"type\":\"table\"}]},\"layout\":{\"annotationdefaults\":{\"arrowcolor\":\"#2a3f5f\",\"arrowhead\":0,\"arrowwidth\":1},\"autotypenumbers\":\"strict\",\"coloraxis\":{\"colorbar\":{\"outlinewidth\":0,\"ticks\":\"\"}},\"colorscale\":{\"diverging\":[[0,\"#8e0152\"],[0.1,\"#c51b7d\"],[0.2,\"#de77ae\"],[0.3,\"#f1b6da\"],[0.4,\"#fde0ef\"],[0.5,\"#f7f7f7\"],[0.6,\"#e6f5d0\"],[0.7,\"#b8e186\"],[0.8,\"#7fbc41\"],[0.9,\"#4d9221\"],[1,\"#276419\"]],\"sequential\":[[0.0,\"#0d0887\"],[0.1111111111111111,\"#46039f\"],[0.2222222222222222,\"#7201a8\"],[0.3333333333333333,\"#9c179e\"],[0.4444444444444444,\"#bd3786\"],[0.5555555555555556,\"#d8576b\"],[0.6666666666666666,\"#ed7953\"],[0.7777777777777778,\"#fb9f3a\"],[0.8888888888888888,\"#fdca26\"],[1.0,\"#f0f921\"]],\"sequentialminus\":[[0.0,\"#0d0887\"],[0.1111111111111111,\"#46039f\"],[0.2222222222222222,\"#7201a8\"],[0.3333333333333333,\"#9c179e\"],[0.4444444444444444,\"#bd3786\"],[0.5555555555555556,\"#d8576b\"],[0.6666666666666666,\"#ed7953\"],[0.7777777777777778,\"#fb9f3a\"],[0.8888888888888888,\"#fdca26\"],[1.0,\"#f0f921\"]]},\"colorway\":[\"#636efa\",\"#EF553B\",\"#00cc96\",\"#ab63fa\",\"#FFA15A\",\"#19d3f3\",\"#FF6692\",\"#B6E880\",\"#FF97FF\",\"#FECB52\"],\"font\":{\"color\":\"#2a3f5f\"},\"geo\":{\"bgcolor\":\"white\",\"lakecolor\":\"white\",\"landcolor\":\"#E5ECF6\",\"showlakes\":true,\"showland\":true,\"subunitcolor\":\"white\"},\"hoverlabel\":{\"align\":\"left\"},\"hovermode\":\"closest\",\"mapbox\":{\"style\":\"light\"},\"paper_bgcolor\":\"white\",\"plot_bgcolor\":\"#E5ECF6\",\"polar\":{\"angularaxis\":{\"gridcolor\":\"white\",\"linecolor\":\"white\",\"ticks\":\"\"},\"bgcolor\":\"#E5ECF6\",\"radialaxis\":{\"gridcolor\":\"white\",\"linecolor\":\"white\",\"ticks\":\"\"}},\"scene\":{\"xaxis\":{\"backgroundcolor\":\"#E5ECF6\",\"gridcolor\":\"white\",\"gridwidth\":2,\"linecolor\":\"white\",\"showbackground\":true,\"ticks\":\"\",\"zerolinecolor\":\"white\"},\"yaxis\":{\"backgroundcolor\":\"#E5ECF6\",\"gridcolor\":\"white\",\"gridwidth\":2,\"linecolor\":\"white\",\"showbackground\":true,\"ticks\":\"\",\"zerolinecolor\":\"white\"},\"zaxis\":{\"backgroundcolor\":\"#E5ECF6\",\"gridcolor\":\"white\",\"gridwidth\":2,\"linecolor\":\"white\",\"showbackground\":true,\"ticks\":\"\",\"zerolinecolor\":\"white\"}},\"shapedefaults\":{\"line\":{\"color\":\"#2a3f5f\"}},\"ternary\":{\"aaxis\":{\"gridcolor\":\"white\",\"linecolor\":\"white\",\"ticks\":\"\"},\"baxis\":{\"gridcolor\":\"white\",\"linecolor\":\"white\",\"ticks\":\"\"},\"bgcolor\":\"#E5ECF6\",\"caxis\":{\"gridcolor\":\"white\",\"linecolor\":\"white\",\"ticks\":\"\"}},\"title\":{\"x\":0.05},\"xaxis\":{\"automargin\":true,\"gridcolor\":\"white\",\"linecolor\":\"white\",\"ticks\":\"\",\"title\":{\"standoff\":15},\"zerolinecolor\":\"white\",\"zerolinewidth\":2},\"yaxis\":{\"automargin\":true,\"gridcolor\":\"white\",\"linecolor\":\"white\",\"ticks\":\"\",\"title\":{\"standoff\":15},\"zerolinecolor\":\"white\",\"zerolinewidth\":2}}},\"xaxis\":{\"anchor\":\"y\",\"domain\":[0.0,0.16799999999999998],\"matches\":\"x21\",\"showticklabels\":false,\"range\":[0,4000000]},\"yaxis\":{\"anchor\":\"x\",\"domain\":[0.848,1.0],\"range\":[0,150]},\"xaxis2\":{\"anchor\":\"y2\",\"domain\":[0.208,0.376],\"matches\":\"x22\",\"showticklabels\":false,\"range\":[0,4000000]},\"yaxis2\":{\"anchor\":\"x2\",\"domain\":[0.848,1.0],\"matches\":\"y\",\"showticklabels\":false,\"range\":[0,150]},\"xaxis3\":{\"anchor\":\"y3\",\"domain\":[0.416,0.584],\"matches\":\"x23\",\"showticklabels\":false,\"range\":[0,4000000]},\"yaxis3\":{\"anchor\":\"x3\",\"domain\":[0.848,1.0],\"matches\":\"y\",\"showticklabels\":false,\"range\":[0,150]},\"xaxis4\":{\"anchor\":\"y4\",\"domain\":[0.624,0.792],\"matches\":\"x24\",\"showticklabels\":false,\"range\":[0,4000000]},\"yaxis4\":{\"anchor\":\"x4\",\"domain\":[0.848,1.0],\"matches\":\"y\",\"showticklabels\":false,\"range\":[0,150]},\"xaxis5\":{\"anchor\":\"y5\",\"domain\":[0.832,1.0],\"matches\":\"x25\",\"showticklabels\":false,\"range\":[0,4000000]},\"yaxis5\":{\"anchor\":\"x5\",\"domain\":[0.848,1.0],\"matches\":\"y\",\"showticklabels\":false,\"range\":[0,150]},\"xaxis6\":{\"anchor\":\"y6\",\"domain\":[0.0,0.16799999999999998],\"matches\":\"x21\",\"showticklabels\":false,\"range\":[0,4000000]},\"yaxis6\":{\"anchor\":\"x6\",\"domain\":[0.6359999999999999,0.7879999999999999],\"range\":[0,150]},\"xaxis7\":{\"anchor\":\"y7\",\"domain\":[0.208,0.376],\"matches\":\"x22\",\"showticklabels\":false,\"range\":[0,4000000]},\"yaxis7\":{\"anchor\":\"x7\",\"domain\":[0.6359999999999999,0.7879999999999999],\"matches\":\"y6\",\"showticklabels\":false,\"range\":[0,150]},\"xaxis8\":{\"anchor\":\"y8\",\"domain\":[0.416,0.584],\"matches\":\"x23\",\"showticklabels\":false,\"range\":[0,4000000]},\"yaxis8\":{\"anchor\":\"x8\",\"domain\":[0.6359999999999999,0.7879999999999999],\"matches\":\"y6\",\"showticklabels\":false,\"range\":[0,150]},\"xaxis9\":{\"anchor\":\"y9\",\"domain\":[0.624,0.792],\"matches\":\"x24\",\"showticklabels\":false,\"range\":[0,4000000]},\"yaxis9\":{\"anchor\":\"x9\",\"domain\":[0.6359999999999999,0.7879999999999999],\"matches\":\"y6\",\"showticklabels\":false,\"range\":[0,150]},\"xaxis10\":{\"anchor\":\"y10\",\"domain\":[0.832,1.0],\"matches\":\"x25\",\"showticklabels\":false,\"range\":[0,4000000]},\"yaxis10\":{\"anchor\":\"x10\",\"domain\":[0.6359999999999999,0.7879999999999999],\"matches\":\"y6\",\"showticklabels\":false,\"range\":[0,150]},\"xaxis11\":{\"anchor\":\"y11\",\"domain\":[0.0,0.16799999999999998],\"matches\":\"x21\",\"showticklabels\":false,\"range\":[0,4000000]},\"yaxis11\":{\"anchor\":\"x11\",\"domain\":[0.424,0.576],\"range\":[0,150]},\"xaxis12\":{\"anchor\":\"y12\",\"domain\":[0.208,0.376],\"matches\":\"x22\",\"showticklabels\":false,\"range\":[0,4000000]},\"yaxis12\":{\"anchor\":\"x12\",\"domain\":[0.424,0.576],\"matches\":\"y11\",\"showticklabels\":false,\"range\":[0,150]},\"xaxis13\":{\"anchor\":\"y13\",\"domain\":[0.416,0.584],\"matches\":\"x23\",\"showticklabels\":false,\"range\":[0,4000000]},\"yaxis13\":{\"anchor\":\"x13\",\"domain\":[0.424,0.576],\"matches\":\"y11\",\"showticklabels\":false,\"range\":[0,150]},\"xaxis14\":{\"anchor\":\"y14\",\"domain\":[0.624,0.792],\"matches\":\"x24\",\"showticklabels\":false,\"range\":[0,4000000]},\"yaxis14\":{\"anchor\":\"x14\",\"domain\":[0.424,0.576],\"matches\":\"y11\",\"showticklabels\":false,\"range\":[0,150]},\"xaxis15\":{\"anchor\":\"y15\",\"domain\":[0.832,1.0],\"matches\":\"x25\",\"showticklabels\":false,\"range\":[0,4000000]},\"yaxis15\":{\"anchor\":\"x15\",\"domain\":[0.424,0.576],\"matches\":\"y11\",\"showticklabels\":false,\"range\":[0,150]},\"xaxis16\":{\"anchor\":\"y16\",\"domain\":[0.0,0.16799999999999998],\"matches\":\"x21\",\"showticklabels\":false,\"range\":[0,4000000]},\"yaxis16\":{\"anchor\":\"x16\",\"domain\":[0.212,0.364],\"range\":[0,150]},\"xaxis17\":{\"anchor\":\"y17\",\"domain\":[0.208,0.376],\"matches\":\"x22\",\"showticklabels\":false,\"range\":[0,4000000]},\"yaxis17\":{\"anchor\":\"x17\",\"domain\":[0.212,0.364],\"matches\":\"y16\",\"showticklabels\":false,\"range\":[0,150]},\"xaxis18\":{\"anchor\":\"y18\",\"domain\":[0.416,0.584],\"matches\":\"x23\",\"showticklabels\":false,\"range\":[0,4000000]},\"yaxis18\":{\"anchor\":\"x18\",\"domain\":[0.212,0.364],\"matches\":\"y16\",\"showticklabels\":false,\"range\":[0,150]},\"xaxis19\":{\"anchor\":\"y19\",\"domain\":[0.624,0.792],\"matches\":\"x24\",\"showticklabels\":false,\"range\":[0,4000000]},\"yaxis19\":{\"anchor\":\"x19\",\"domain\":[0.212,0.364],\"matches\":\"y16\",\"showticklabels\":false,\"range\":[0,150]},\"xaxis20\":{\"anchor\":\"y20\",\"domain\":[0.832,1.0],\"matches\":\"x25\",\"showticklabels\":false},\"yaxis20\":{\"anchor\":\"x20\",\"domain\":[0.212,0.364],\"matches\":\"y16\",\"showticklabels\":false},\"xaxis21\":{\"anchor\":\"y21\",\"domain\":[0.0,0.16799999999999998],\"range\":[0,4000000]},\"yaxis21\":{\"anchor\":\"x21\",\"domain\":[0.0,0.152],\"range\":[0,150]},\"xaxis22\":{\"anchor\":\"y22\",\"domain\":[0.208,0.376],\"range\":[0,4000000]},\"yaxis22\":{\"anchor\":\"x22\",\"domain\":[0.0,0.152],\"matches\":\"y21\",\"showticklabels\":false,\"range\":[0,150]},\"xaxis23\":{\"anchor\":\"y23\",\"domain\":[0.416,0.584],\"range\":[0,4000000]},\"yaxis23\":{\"anchor\":\"x23\",\"domain\":[0.0,0.152],\"matches\":\"y21\",\"showticklabels\":false,\"range\":[0,150]},\"xaxis24\":{\"anchor\":\"y24\",\"domain\":[0.624,0.792],\"range\":[0,4000000]},\"yaxis24\":{\"anchor\":\"x24\",\"domain\":[0.0,0.152],\"matches\":\"y21\",\"showticklabels\":false,\"range\":[0,150]},\"xaxis25\":{\"anchor\":\"y25\",\"domain\":[0.832,1.0],\"range\":[0,4000000]},\"yaxis25\":{\"anchor\":\"x25\",\"domain\":[0.0,0.152],\"matches\":\"y21\",\"showticklabels\":false,\"range\":[0,150]}},                        {\"responsive\": true}                    ).then(function(){\n",
       "                            \n",
       "var gd = document.getElementById('0127ab73-0608-4d34-9768-ce895711ef51');\n",
       "var x = new MutationObserver(function (mutations, observer) {{\n",
       "        var display = window.getComputedStyle(gd).display;\n",
       "        if (!display || display === 'none') {{\n",
       "            console.log([gd, 'removed!']);\n",
       "            Plotly.purge(gd);\n",
       "            observer.disconnect();\n",
       "        }}\n",
       "}});\n",
       "\n",
       "// Listen for the removal of the full notebook cells\n",
       "var notebookContainer = gd.closest('#notebook-container');\n",
       "if (notebookContainer) {{\n",
       "    x.observe(notebookContainer, {childList: true});\n",
       "}}\n",
       "\n",
       "// Listen for the clearing of the current output cell\n",
       "var outputEl = gd.closest('.output');\n",
       "if (outputEl) {{\n",
       "    x.observe(outputEl, {childList: true});\n",
       "}}\n",
       "\n",
       "                        })                };                });            </script>        </div>"
      ]
     },
     "metadata": {},
     "output_type": "display_data"
    }
   ],
   "source": [
    "#Price distributions pt1-3\n",
    "\n",
    "suburb_list = [epping_listings, northrocks_listings, eastwood_listings, baulkham_listings, winston_listings, kellyville_listings, blacktown_listings, castle_listings, ryde_listings, rouse_listings, beecroft_listings, ermington_listings, northmead_listings, newington_listings, concord_listings, marsfield_listings, hornsby_listings, Lidcombe_listings, Homebush_listings, Straithfield_listings, Ashfield_listings, Leichhardt_listings, Annandale_listings, AllambieHeights_listings, Forestville_listings, Lindfield_listings, Gordon_listings, Pymble_listings, LaneCove_listings, Meadowbank_listings, SummerHill_listings, Rydalmere_listings, Rosehill_listings, Westmead_listings, Girraween_listings, BeaumontHills_listings, KellyvilleRidge_listings, ThePonds_listings, Schofields_listings, MarsdenPark_listings, KingsLangley_listings, BellaVista_listings, BoxHill_listings, PennantHills_listings, Earlwood_listings, Marrickville_listings, Dulwich_listings, Petersham_listings, Campsie_listings, Canterbury_listings, Berala_listings, Leppington_listings, EdmondsonPark_listings, MacquariePark_listings, Chatswood_listings, Carlingford_listings, Kogarah_listings, Rockdale_listings, Cherrybrook_listings, Eastwood_listings, Homebush_listings, Minto_listings, QuakersHill_listings, Revesby_listings, SevenHills_listings, StanhopeGardens_listings, Waterloo_listings, DulwichHill_listings, NorthRyde_listings, Straithfield_listings, NorthStraithfield_listings, Manly_listings, Randwick_listings, Kensington_listings]\n",
    "\n",
    "fig = make_subplots(\n",
    "    rows=5, cols=5\n",
    "    #     ,subplot_titles=(\"Plot 1\", \"Plot 2\", \"Plot 3\", \"Plot 4\")\n",
    "    ,shared_yaxes=True\n",
    "    ,shared_xaxes=True)\n",
    "\n",
    "df_numb=0\n",
    "for row in range(1,6):\n",
    "    for col in range(1,6):\n",
    "        suburb_df = suburb_list[df_numb]\n",
    "        suburb_df_price = suburb_df[suburb_df[\"sold_date_dt\"] >= dtm][\"price\"]\n",
    "                \n",
    "        if suburb_list[df_numb][\"suburb\"].count()>=1:\n",
    "            print('df_numb'+str(df_numb))\n",
    "            print('row='+str(row))\n",
    "            print('col='+str(col))\n",
    "            name = suburb_list[df_numb][\"suburb\"].unique()[0]\n",
    "#             print(name)\n",
    "#             print(type(name))\n",
    "            fig.update_xaxes(range=[0, 4000000], row=row, col=col)\n",
    "            fig.update_yaxes(range=[0, 150], row=row, col=col)\n",
    "            fig.add_trace(go.Histogram(x=suburb_df_price,xbins=dict(size=500000),autobinx = False, name=name),row =row, col=col)\n",
    "            \n",
    "        df_numb=df_numb+1                   \n",
    "          \n",
    "# Histograms\n",
    "#px.histogram(x=df[\"price\"].values)\n",
    "# fig.add_trace(go.Histogram(x=df[\"price\"])\n",
    "#         ,row =1, col=1\n",
    "#     )\n",
    "\n",
    "fig.show()\n",
    "\n",
    "\n",
    "# go.Figure(data=[go.Histogram(x=df[\"price\"].values)]).show()"
   ]
  },
  {
   "cell_type": "code",
   "execution_count": 48,
   "id": "ec022acc",
   "metadata": {
    "scrolled": true
   },
   "outputs": [
    {
     "data": {
      "application/vnd.plotly.v1+json": {
       "config": {
        "plotlyServerURL": "https://plot.ly"
       },
       "data": [
        {
         "autobinx": false,
         "name": "Lindfield",
         "type": "histogram",
         "x": [
          3600000,
          3200000,
          5610000,
          3290000,
          5901000,
          4000000,
          3100000,
          3380000,
          4200000,
          5400000,
          4320000,
          3000000,
          3350000,
          2225000,
          2500000,
          2558000,
          2005000,
          2950000,
          2862000,
          4980000,
          3350000,
          3030000,
          2500000,
          2825000,
          5600000,
          5275000,
          6500000,
          2398000,
          null,
          null,
          null,
          null,
          null,
          null,
          null,
          null,
          null,
          null,
          null,
          null,
          3800000,
          2500000,
          3200000,
          null,
          null,
          null,
          null,
          5035000,
          4300000,
          2276000,
          null,
          2540000,
          null,
          null,
          null,
          null,
          null,
          null,
          null,
          null,
          3475000,
          2950000,
          2752000,
          3680000,
          4315000,
          null,
          4620000,
          2225000,
          2475000,
          2915000,
          2550000,
          2300000,
          4000000
         ],
         "xaxis": "x",
         "xbins": {
          "size": 500000
         },
         "yaxis": "y"
        },
        {
         "autobinx": false,
         "name": "Gordon",
         "type": "histogram",
         "x": [
          3020000,
          2500000,
          3720000,
          2160000,
          5612000,
          2940000,
          2100000,
          2304500,
          3190000,
          6120000,
          3600000,
          2800000,
          2900000,
          2670000,
          1675000,
          1700000,
          3165000,
          3985000,
          4200000,
          2930000,
          3168000,
          4310000,
          3335000,
          2139000,
          2100000,
          2160000,
          3050000,
          null,
          null,
          null,
          null,
          null,
          null,
          null,
          null,
          null,
          2250000,
          null,
          4080000,
          null,
          2250000,
          2800000,
          2275000,
          3300000,
          4500000,
          3590000,
          null,
          3100000,
          2600000,
          3300000,
          3947000,
          1980000,
          3800000,
          2600000,
          2450000,
          null,
          4300000,
          4220000,
          2530000,
          2850000,
          null,
          1980000,
          3800000,
          3560000,
          1650000,
          null,
          2450000
         ],
         "xaxis": "x2",
         "xbins": {
          "size": 500000
         },
         "yaxis": "y2"
        },
        {
         "autobinx": false,
         "name": "Pymble",
         "type": "histogram",
         "x": [
          2750000,
          1880000,
          2702000,
          3217000,
          3408889,
          2750000,
          2803000,
          2970000,
          3900000,
          2400000,
          3850000,
          3150000,
          3860000,
          5025000,
          3600000,
          3280000,
          1885000,
          2970000,
          4200000,
          3858000,
          2408000,
          2000000,
          2980000,
          2590000,
          2350000,
          2000000,
          2456000,
          2600000,
          2875000,
          2550000,
          3712500,
          2925000,
          3100000,
          2950000,
          3750000,
          3231000,
          2760000,
          3550000,
          2923000,
          3050000,
          2636000,
          3508900,
          3200000,
          2645000,
          2795000,
          4125000,
          3055000,
          4900000,
          4000000,
          5600000,
          1450000,
          null,
          null,
          null,
          null,
          2130000,
          null,
          2100000,
          2470000,
          2895000,
          2880000,
          1145000,
          2785000,
          2550000,
          3670000,
          null,
          2150000,
          3150000,
          3600000,
          2950000,
          3650000,
          3300000,
          3855000,
          3000000,
          4100000,
          null,
          1900000,
          1642000,
          1855000,
          2900000,
          3125000,
          2850000,
          1660000,
          1621000,
          1690000,
          null,
          null,
          2761000,
          5500000,
          2670000,
          2300000,
          2580000,
          2450000,
          2850000,
          2100000
         ],
         "xaxis": "x3",
         "xbins": {
          "size": 500000
         },
         "yaxis": "y3"
        },
        {
         "autobinx": false,
         "name": "Lane Cove",
         "type": "histogram",
         "x": [
          2300000,
          2270500,
          2385000,
          2700000,
          3350000,
          2100000,
          2610000,
          2085500,
          1875000,
          3220000,
          2978000,
          2325000,
          1805000,
          2690000,
          null,
          null,
          null,
          null,
          null,
          null,
          null,
          null,
          null,
          null,
          null,
          null,
          null,
          null,
          null,
          null,
          null,
          null,
          null,
          null,
          2000000,
          3900000,
          null,
          null,
          null,
          null,
          2850000,
          2700000,
          1910000,
          1775000,
          null,
          1750000,
          2750000,
          3180000,
          null,
          3510000,
          3800000,
          5750000,
          2700000,
          1790000,
          2150000,
          null,
          5820248,
          1750000,
          1987500,
          4580000,
          3550000,
          2850000,
          2160000,
          2675000,
          3290000,
          1800000,
          null,
          2050000,
          2302000,
          2282500,
          2280000,
          3100000,
          1565000,
          1950000,
          1505000,
          3875000,
          2000000,
          null,
          3600000,
          1395000,
          2800000,
          2125000,
          1803500,
          1770000,
          3300000,
          2650000,
          3225000,
          2700000,
          3280000,
          null,
          1570000,
          2271000,
          2020000,
          2860000,
          3100000,
          2320000,
          null,
          1590000,
          1350000,
          2204444,
          1250000,
          2380500,
          3101000,
          2680000,
          2439000,
          2350000,
          2800000,
          4500000,
          2525000,
          null,
          1670000,
          2950000,
          1650000,
          2263000,
          2300000,
          1930000,
          2507000,
          2050000,
          null
         ],
         "xaxis": "x4",
         "xbins": {
          "size": 500000
         },
         "yaxis": "y4"
        },
        {
         "autobinx": false,
         "name": "Meadowbank",
         "type": "histogram",
         "x": [
          2700000,
          2710000,
          2360000,
          730000,
          null
         ],
         "xaxis": "x5",
         "xbins": {
          "size": 500000
         },
         "yaxis": "y5"
        },
        {
         "autobinx": false,
         "name": "Summer Hill",
         "type": "histogram",
         "x": [
          2350000,
          2185000,
          2550000,
          4280000,
          2900000,
          3600000,
          3300000,
          3150000,
          1062000,
          3470000,
          1495000,
          1590000,
          1467000,
          3560000,
          3150000,
          3150000,
          1685000,
          1355000,
          1955000,
          1620000,
          1385000,
          2450000,
          2000000,
          2505000,
          2250000,
          1110000,
          2070000,
          1770000,
          1460000,
          2700000,
          1550500,
          1900000,
          3700000,
          1450000,
          1600000,
          1620000,
          2080000,
          null,
          null,
          null,
          null,
          2025000,
          null,
          null,
          null,
          1350000,
          null,
          1857000,
          null,
          null,
          1680000,
          null,
          1735000,
          null,
          null,
          1950000,
          2050000,
          1705000,
          4000000,
          1810000,
          2260000,
          2075000,
          2150000,
          1440000,
          3790000,
          null,
          890000,
          null,
          null,
          null,
          1725000,
          1400000,
          1600000,
          2220000,
          1650500,
          2020000,
          2055000
         ],
         "xaxis": "x6",
         "xbins": {
          "size": 500000
         },
         "yaxis": "y6"
        },
        {
         "autobinx": false,
         "name": "Rydalmere",
         "type": "histogram",
         "x": [
          1800000,
          1365000,
          1715000,
          1970000,
          1740000,
          1660000,
          1610000,
          1330000,
          1600000,
          1610000,
          1630000,
          1050000,
          1380000,
          1814000,
          1080500,
          1652000,
          1830000,
          1570000,
          1800000,
          1590000,
          1785000,
          1905000,
          1190000,
          1800000,
          1310000,
          1833000,
          1875000,
          1570000,
          1375000,
          1180000,
          1540000,
          1275000,
          1900000,
          1287000,
          1408000,
          800000,
          990000,
          1370000,
          3625000,
          1640000,
          1800000,
          1600000,
          1478000,
          1350000,
          1665000,
          1030000,
          1470000,
          1330000,
          1630000,
          1352000,
          890000,
          1479000,
          1260000,
          1801000,
          1390000,
          1420000,
          800000,
          1030000,
          865000,
          1550000,
          1660000,
          1180000,
          1680000,
          1210000,
          1420000,
          1399000,
          1130000,
          970000,
          1237000,
          1750000,
          1775000,
          1120000,
          1400000,
          1270000,
          810000,
          1500000,
          1320000,
          null,
          null,
          null,
          null,
          null,
          1225000,
          1550000,
          1600000,
          null,
          null,
          1450000,
          null,
          1410000,
          1635000,
          970000,
          null,
          null,
          1800000,
          1750000,
          1960000,
          1320000,
          1575000
         ],
         "xaxis": "x7",
         "xbins": {
          "size": 500000
         },
         "yaxis": "y7"
        },
        {
         "autobinx": false,
         "name": "Rosehill",
         "type": "histogram",
         "x": [
          790000,
          800000,
          450000,
          440000,
          2870000,
          1063000,
          3000000,
          825500,
          870000,
          787000,
          1013000,
          375000,
          955000,
          605000,
          510000,
          null,
          1431000,
          710000
         ],
         "xaxis": "x8",
         "xbins": {
          "size": 500000
         },
         "yaxis": "y8"
        },
        {
         "autobinx": false,
         "name": "Westmead",
         "type": "histogram",
         "x": [
          1310000,
          1730000,
          2312000,
          690000,
          685000,
          1900000,
          1900000,
          1800000,
          1400000,
          3040000,
          4510000,
          1800000,
          820000,
          1030000,
          1536000,
          600000,
          556000,
          1705000,
          2100000,
          1665000,
          660000,
          1583000,
          1410053,
          1960000,
          1650000,
          1321000,
          1860000,
          657000,
          1900000,
          1036000,
          1818000,
          1030000,
          1600000,
          1580000,
          1800000,
          1190000,
          1765000,
          1805000,
          1591000,
          1725000,
          1770000,
          1390000,
          2360000,
          1260000,
          1520000,
          1792000,
          1880000,
          1040000,
          null,
          1500000,
          550000,
          2500000
         ],
         "xaxis": "x9",
         "xbins": {
          "size": 500000
         },
         "yaxis": "y9"
        },
        {
         "autobinx": false,
         "name": "Girraween",
         "type": "histogram",
         "x": [
          1025000,
          895000,
          1175000,
          862000,
          900000,
          838000,
          1757000,
          740000,
          895000,
          1040000,
          845000,
          1601000,
          770000,
          918000,
          896000,
          931000,
          1740000,
          2000000,
          1740000,
          1185000,
          845000,
          790000,
          1010000,
          891000,
          830000,
          1436000,
          950000,
          1782000,
          825000,
          1072000,
          1008000,
          860000,
          830000,
          830000,
          622000,
          1055000,
          870000,
          900000,
          1100000,
          1600000,
          1300000,
          617000,
          792000,
          612000,
          740000,
          750000,
          995000,
          745000,
          760000,
          915000,
          1356000,
          1235000,
          1110000,
          965000,
          730000,
          1205000,
          735000,
          1991000,
          1118000,
          1047000,
          930000,
          1095000,
          1227000,
          1132000,
          1070000,
          733000,
          848100,
          931000,
          828000,
          971000,
          765000,
          905000,
          960000,
          743000,
          710000,
          842500,
          835000,
          738000,
          1530000,
          882000,
          1000000,
          1200000,
          950000,
          1050000,
          870000,
          870000,
          673000,
          1090000,
          null,
          null,
          null,
          null,
          null,
          null,
          null,
          801000,
          null,
          745000,
          901000,
          665000,
          705000,
          null,
          1470000,
          1000000,
          1801000,
          1410000,
          740000,
          612000,
          null,
          null,
          801000,
          null,
          835000,
          null,
          751000,
          null,
          null,
          null
         ],
         "xaxis": "x10",
         "xbins": {
          "size": 500000
         },
         "yaxis": "y10"
        },
        {
         "autobinx": false,
         "name": "Beaumont Hills",
         "type": "histogram",
         "x": [
          1700000,
          1525000,
          2150000,
          1535000,
          1600000,
          2060000,
          1600000,
          1700000,
          1513000,
          1240000,
          1802500,
          1900000,
          1880000,
          1580000,
          2100000,
          2150000,
          1550000,
          1600000,
          1740000,
          1851000,
          1910000,
          1435000,
          1615000,
          1760000,
          1605000,
          2060000,
          1570000,
          1650000,
          2068000,
          1480000,
          1802500,
          1800000,
          1612500,
          1450000,
          1755000,
          1700000,
          1810000,
          1720000,
          1599000,
          1410000,
          1510000,
          1827000,
          1800000,
          1710000,
          1775000,
          1250000,
          1550000,
          1696000,
          1800000,
          1800000,
          1155000,
          1606000,
          1480500,
          1693000,
          1700000,
          1650000,
          1620000,
          1570000,
          1337500,
          1950000,
          1710000,
          1390000,
          1480000,
          1335000,
          1190000,
          1270000,
          1500000,
          1200500,
          2001000,
          1470000,
          1455000,
          1220000,
          1700000,
          1488000,
          1611500,
          1801000,
          1650000,
          1560000,
          1600000,
          1730000,
          1950000,
          1676000,
          1565000,
          1420000,
          1560000,
          1190000,
          1451101,
          1390000,
          1350000,
          1342000,
          1475000,
          1425000,
          1190000,
          1120000,
          1610000,
          1150000,
          1285000,
          1470000,
          1350000,
          1250000,
          1250000,
          1290000,
          1280000,
          1150000,
          1620000,
          1343000,
          1350000,
          1400000,
          1600000,
          1975000,
          1625000,
          1785000,
          1550000,
          1513000,
          1300000,
          1065000
         ],
         "xaxis": "x11",
         "xbins": {
          "size": 500000
         },
         "yaxis": "y11"
        },
        {
         "autobinx": false,
         "name": "Kellyville Ridge",
         "type": "histogram",
         "x": [
          1450000,
          2105000,
          1615000,
          1660000,
          2300000,
          1790000,
          1300000,
          1615000,
          1310000,
          1900000,
          1850000,
          1290000,
          1645000,
          1580000,
          1580000,
          1360000,
          1825000,
          1982000,
          1570000,
          2052000,
          1595000,
          1250000,
          1600000,
          1760000,
          1250000,
          1475000,
          1260000,
          1205000,
          1700000,
          1360000,
          1790000,
          1460000,
          1525000,
          1330000,
          1665000,
          1576000,
          735000,
          1755000,
          1580000,
          1555000,
          1550000,
          1665000,
          720000,
          1500000,
          1297000,
          1855000,
          1595000,
          1540000,
          1470000,
          2300000,
          1535000,
          1600000,
          1460000,
          1350000,
          1312000,
          1650000,
          1280000,
          1350000,
          1470000,
          1305000,
          1359000,
          1675000,
          1475000,
          1700000,
          690000,
          1525000,
          1442000,
          1405000,
          1300000,
          1289000,
          1410000,
          1310000,
          1005000,
          1460000,
          2313000,
          1700000,
          1340000,
          1541000,
          1210000,
          947000,
          1050000,
          1265000,
          1235000,
          1800000,
          1550000,
          1157000,
          1551000,
          960000,
          1255000,
          1567000,
          1412000,
          1500000,
          1430000,
          1385000,
          1430000,
          1425000,
          1353000,
          1120000,
          990000,
          1420000,
          835000,
          1472000,
          1220000,
          1425000,
          1411000,
          1211000,
          1351000,
          1416000,
          1370000,
          1400000,
          1350000,
          1325000,
          990000,
          1467000,
          1000000,
          1230000,
          970000,
          825000,
          1300000,
          1150000,
          1118000,
          1345000,
          1153000,
          1220000,
          900000,
          1382000,
          900000,
          1500000
         ],
         "xaxis": "x12",
         "xbins": {
          "size": 500000
         },
         "yaxis": "y12"
        },
        {
         "autobinx": false,
         "name": "The Ponds",
         "type": "histogram",
         "x": [
          1702500,
          1571000,
          1500000,
          1631000,
          1450000,
          1901000,
          1400000,
          1657500,
          1620000,
          1915000,
          1335000,
          1595000,
          1780000,
          1568000,
          1025000,
          1610000,
          1570000,
          1170000,
          1587000,
          805000,
          1980000,
          1200000,
          1616000,
          1570000,
          1335000,
          1748000,
          1266000,
          1860000,
          1568000,
          2000000,
          1420000,
          1248000,
          1870000,
          1600000,
          1155000,
          1145000,
          1107500,
          1630000,
          1572000,
          1740000,
          1670000,
          1310000,
          1730000,
          1560000,
          1755000,
          1680000,
          1678000,
          1070000,
          1550000,
          827500,
          1915000,
          1200000,
          1665000,
          1315000,
          1581004,
          1730000,
          1533000,
          1630000,
          1730000,
          1670000,
          1545000,
          1482000,
          1600000,
          1591000,
          1350000,
          1230000,
          1470000,
          1300000,
          1575000,
          1140000,
          1700000,
          1330000,
          1562000,
          1365000,
          2100000,
          1530000,
          1900000,
          1317000,
          810000,
          1115000,
          965000,
          1620000,
          1385000,
          1660000,
          1760000,
          1650000,
          1385888,
          1880000,
          1222500,
          1500000,
          1650000,
          1420000,
          1820000,
          1350000,
          1520000,
          1475000,
          1330000,
          1650000,
          1620000,
          1480000,
          1740000,
          1375000,
          1550000,
          1125000,
          1590000,
          1250000,
          1545000,
          1720000,
          1515000,
          1490000,
          1561000,
          1000000,
          1500000,
          1930000,
          1565000,
          1559000,
          1435000,
          1680000,
          1410000,
          1437500,
          1130000,
          1880000,
          1665000,
          1365000,
          1475000,
          1399000,
          1470888,
          1400000,
          1400000,
          1090000,
          1181000,
          1675000,
          1377000,
          1041000,
          1500000,
          1090000,
          1350000,
          1420000,
          1680000,
          1450000,
          1360000,
          1475000,
          1710000,
          1370000,
          1250000,
          1049950,
          1510000,
          1500000,
          1310000,
          1051000,
          1655000,
          1520000,
          1715000,
          1365000,
          1291000,
          1200000,
          1551500,
          1340000,
          1710000,
          1260000,
          985000,
          925000,
          1360000,
          1230000,
          1585000,
          1475000,
          1360000,
          1542000,
          1502000,
          1365000,
          1220000,
          1800000,
          1370000,
          1033000,
          995000,
          1330000,
          740000,
          1065000,
          1330000,
          1035000,
          1010000,
          1405000,
          1401000,
          1550000,
          1065000,
          1625000,
          1450000,
          1415000,
          1230000,
          1270000,
          1603000,
          1900000,
          1030100,
          1480000,
          1465000,
          1315000,
          1391000,
          1330000,
          1060000,
          1000000,
          1355000,
          1355000,
          730000,
          1625000,
          1675000,
          1105000,
          1654000,
          1252000,
          1376000,
          1365000,
          1500000,
          1250000,
          1360250,
          1325000,
          1258000,
          1080000,
          803000,
          1000000,
          1150000,
          1455000,
          1390000,
          1150000,
          1017000,
          1015000,
          980000,
          1350000,
          920000,
          1400000,
          985000,
          1070000,
          867500,
          1500000,
          980000,
          1185000,
          945000,
          980000,
          1080000,
          960000,
          980101,
          1210000,
          1650000,
          1605000,
          1500000
         ],
         "xaxis": "x13",
         "xbins": {
          "size": 500000
         },
         "yaxis": "y13"
        },
        {
         "autobinx": false,
         "name": "Schofields",
         "type": "histogram",
         "x": [
          850000,
          1280000,
          1170000,
          1250000,
          1355000,
          950000,
          1250000,
          1150000,
          1035000,
          1080000,
          1050000,
          1100000,
          1241000,
          1365000,
          1238000,
          1070000,
          920000,
          1335000,
          1130000,
          1102500,
          1535000,
          1180000,
          790000,
          1100000,
          1505000,
          1235000,
          1380000,
          1315000,
          1570000,
          980000,
          1193000,
          1150000,
          1530000,
          1080000,
          940000,
          1580000,
          1180000,
          1215000,
          1420000,
          1290000,
          1095000,
          1110000,
          1305000,
          1520000,
          1391000,
          1030000,
          936000,
          973000,
          1250000,
          900000,
          1300000,
          1260000,
          855000,
          1100000,
          1180000,
          917000,
          1205000,
          890000,
          1490000,
          1396770,
          1230000,
          1065000,
          915000,
          1400000,
          1180000,
          1320000,
          1230000,
          1145000,
          850000,
          1190000,
          1165000,
          1356000,
          1265500,
          1166000,
          915000,
          830000,
          1080000,
          876000,
          968000,
          1365000,
          755000,
          1135000,
          1390000,
          1465000,
          1365000,
          1361000,
          1330000,
          1270000,
          1310000,
          1080000,
          885000,
          865000,
          1105000,
          887000,
          1140000,
          1275000,
          1170000,
          1098500,
          965000,
          1300000,
          1175000,
          1480000,
          1454000,
          907000,
          1300000,
          1210786,
          1060000,
          2150000,
          1395000,
          1300000,
          1280000,
          828000,
          1125000,
          1020000,
          1100000,
          1580000,
          900000,
          1362500,
          1305000,
          1335000,
          1215000,
          1275000,
          1140000,
          1350000,
          1270000,
          1220000,
          1065000,
          1020000,
          782000,
          782000,
          803000,
          1210000,
          1175000,
          1400000,
          1585000,
          1280000,
          1205000,
          1200000,
          1390000,
          1305000,
          835000,
          1150000,
          961888,
          1400000,
          1025000,
          1451000,
          890000,
          1520000,
          1160000,
          1340000,
          1131000,
          1300000,
          1380000,
          1125000,
          1360000,
          1243000,
          775000,
          1381000,
          1250000,
          1185000,
          1500000,
          1275100,
          1350000,
          1147000,
          1002500,
          1320000,
          1251000,
          790000,
          760000,
          1100000,
          1130000,
          1035000,
          950000,
          943000,
          910000,
          910000,
          1115800,
          1000000,
          950000,
          925000,
          850000,
          1322000,
          1065000,
          825000,
          780000,
          1183000,
          1100000,
          1100000,
          1350000,
          1100000,
          765000,
          1250000,
          1275000,
          1001000,
          995000,
          1375000,
          1300000,
          1280000,
          1200000,
          1071000,
          980000,
          1515000,
          745000,
          1344000,
          1190000,
          1015000,
          1430000,
          1010000,
          920000,
          1110000,
          1011000,
          918000,
          1200000,
          970000,
          890000,
          1421000,
          690000,
          1050000,
          1053000,
          928000,
          1330000,
          1110000,
          835000,
          990000,
          1030140,
          1215000,
          1110000,
          955000,
          830000,
          1290000,
          1046666,
          900000,
          860000,
          1250000,
          960000,
          725000,
          1010000,
          1051000,
          742500,
          986000,
          1000000,
          860000,
          770000,
          722000,
          1220000,
          1272000,
          1020000,
          940500,
          928000,
          1120000,
          1150000,
          1182000,
          1000000,
          1182500,
          875000,
          1265000,
          900000,
          1135000,
          870000,
          1150000,
          914500,
          900000,
          825000,
          1395000,
          825000,
          1160000,
          1131000,
          1065000,
          945000,
          1655000,
          860000,
          880000,
          1358000,
          991000,
          985000,
          980000,
          972000,
          730000,
          880000,
          860000,
          845000,
          815000,
          975000,
          1080000,
          935000,
          1000000,
          1155000,
          790000,
          937500,
          995000,
          735000,
          1132000,
          855000,
          960000,
          1062500,
          750500,
          952000,
          855000,
          1080000,
          1550000,
          900000,
          1002500,
          1502000,
          1487500,
          881000,
          840000,
          795100,
          986000,
          1300000,
          1000000,
          865000,
          1450000,
          1022500,
          1019000,
          928000,
          833500,
          1100000,
          1100000,
          682000,
          1020000,
          942000,
          980000,
          905000,
          850000,
          881000,
          1425000,
          986000,
          896000,
          725000,
          1500000,
          1010000,
          1215000,
          980000,
          975000,
          935000,
          852000,
          1330000,
          970000,
          550000,
          824000,
          950000,
          765000,
          1025000,
          725000,
          1015000,
          902000,
          995000,
          960000,
          842000,
          1422500,
          790000,
          935000,
          555000,
          775000,
          700000,
          1510000,
          1302000,
          875000,
          1310100,
          820000,
          1299900,
          1000000,
          1758410,
          1296000,
          1220000,
          811000,
          1280000,
          1230000,
          916000,
          1340000,
          2000000,
          1496260,
          1490030,
          1414900,
          1290290,
          1273340,
          1273230,
          1273230,
          1250000,
          1227110,
          1215115,
          1186055,
          1145820,
          1361000,
          1250000,
          1072950,
          780000,
          760000,
          1423605,
          1270015,
          1171000,
          817950,
          1320000,
          1325000,
          1070000,
          750000,
          1250000,
          1381000,
          1280000,
          920000,
          1236000,
          790000,
          760000,
          833000,
          950000,
          910000,
          1100000,
          985000,
          1176000,
          920000,
          745000,
          930000,
          850000,
          999990,
          850000,
          1130000,
          1128880,
          1100000,
          1080000,
          1075200,
          1064000,
          969200,
          970000,
          1120000,
          504990,
          1200000,
          820000,
          1168000,
          820000,
          900000,
          830000,
          800000,
          1012000,
          769990,
          890000,
          820000,
          1018000,
          850000,
          786000,
          900000,
          1139999,
          929000,
          797000,
          910000,
          868000,
          945000,
          685000,
          1000000,
          1049000,
          960000,
          1085470,
          915000,
          908000,
          540000,
          900000,
          765000,
          910000,
          879000,
          920000,
          909000,
          929000,
          939000
         ],
         "xaxis": "x14",
         "xbins": {
          "size": 500000
         },
         "yaxis": "y14"
        },
        {
         "autobinx": false,
         "name": "Marsden Park",
         "type": "histogram",
         "x": [
          1205000,
          740000,
          700000,
          1300000,
          951147,
          1440000,
          1425000,
          1070000,
          1125000,
          1050000,
          952500,
          1322000,
          700000,
          1040000,
          1175000,
          1275000,
          1140000,
          1150000,
          925000,
          1255000,
          1210000,
          1185000,
          1285000,
          1150000,
          1130000,
          770000,
          960000,
          1385000,
          1210000,
          1179000,
          1190000,
          1150000,
          1045000,
          775000,
          1300000,
          1158000,
          1068000,
          1150000,
          1360000,
          1320000,
          1310000,
          1175000,
          1498000,
          1050000,
          1510000,
          1070000,
          1125000,
          1385000,
          1255000,
          1200000,
          1132000,
          1050000,
          1200000,
          1370000,
          960000,
          1635000,
          1350000,
          1335000,
          1360000,
          1405000,
          1320000,
          1170000,
          1100000,
          1335000,
          1305000,
          1190000,
          1240000,
          1615000,
          1380000,
          1400000,
          1261000,
          1100000,
          915000,
          1200000,
          1120000,
          1400000,
          1050000,
          1165000,
          1490000,
          1450000,
          920000,
          1215200,
          1610000,
          1500000,
          1472500,
          1150000,
          1275000,
          1235000,
          1400000,
          930000,
          1500000,
          1250000,
          1110000,
          855000,
          1400000,
          1000000,
          1039800,
          1485000,
          1137000,
          1060000,
          1095000,
          1145000,
          910000,
          905000,
          1350000,
          672000,
          1195000,
          1005000,
          1565000,
          1112000,
          1455000,
          1200000,
          930000,
          1280000,
          1256000,
          1099000,
          1415000,
          980000,
          685000,
          1155000,
          970000,
          820000,
          1425000,
          1170000,
          895000,
          930000,
          1340000,
          1200000,
          1550000,
          1082000,
          875000,
          1150000,
          1118000,
          1005000,
          1390000,
          1155000,
          1060000,
          950000,
          870000,
          1160000,
          1190000,
          1075000,
          1180000,
          1300000,
          1025000,
          1088000,
          950000,
          1270000,
          990000,
          1008000,
          1060000,
          850000,
          1151000,
          1275000,
          1032000,
          1130000,
          958000,
          842000,
          1370000,
          1390000,
          1115000,
          1292000,
          1135000,
          1087500,
          1172500,
          1072000,
          1160000,
          762000,
          1060000,
          1100000,
          1420000,
          1030000,
          902000,
          1050000,
          685000,
          971000,
          965000,
          930000,
          930000,
          1120000,
          1010000,
          930000,
          1068000,
          1205000,
          885000,
          1120000,
          790000,
          1047000,
          835000,
          930000,
          965000,
          1150000,
          1360000,
          1105000,
          1000000,
          940000,
          879000,
          990000,
          1290000,
          990000,
          965000,
          832000,
          1170000,
          905000,
          870000,
          831000,
          685000,
          1040000,
          1222000,
          796000,
          1125000,
          1110000,
          780500,
          1042000,
          1150000,
          935000,
          1050000,
          1040000,
          1265000,
          935000,
          850000,
          952000,
          900000,
          985000,
          835000,
          1299999,
          960500,
          1255000,
          1075000,
          865000,
          750000,
          910000,
          900000,
          1030000,
          630000,
          964000,
          1000000,
          918000,
          1192000,
          1030000,
          945000,
          1345000,
          930000,
          882000,
          1300000,
          1240000,
          923500,
          920000,
          820000,
          940000,
          815000,
          891000,
          895000,
          955000,
          948000,
          1045000,
          1260000,
          870000,
          850000,
          1191000,
          810000,
          880000,
          630000,
          851000,
          960000,
          848000,
          985000,
          872000,
          945000,
          940000,
          875000,
          840000,
          1160000,
          825000,
          945000,
          1005000,
          796000,
          1075000,
          710000,
          845000,
          865000,
          635000,
          1109000,
          1134000,
          1257000,
          1200000,
          1350000,
          1220000,
          1100000,
          14000000,
          1300900,
          1200000,
          1100000,
          1185000,
          725000,
          1160000,
          700000,
          1335000,
          1250000,
          1339990,
          1125000,
          1043400,
          1395000,
          960000,
          1160000,
          1090000,
          967000,
          1200500,
          995000,
          1600000,
          1400000,
          1250000,
          910000,
          700000,
          925000,
          1260000,
          992000,
          1400000,
          910000,
          1000000,
          890200,
          1035400,
          1034500,
          1240000,
          1200000,
          890000,
          1130000,
          1200000,
          950000,
          1010000,
          920000,
          1100000,
          950000,
          930000,
          1120,
          1180000,
          855000,
          853000,
          847000,
          1060000,
          980000,
          924900,
          1072500,
          990000,
          860000,
          840000,
          890000,
          1021500,
          943950,
          975000,
          1180000,
          834700,
          1060000,
          920000,
          1050000,
          900000,
          898000,
          840000,
          1030000,
          750000,
          1230000,
          870000,
          903000,
          948000,
          867000,
          810000,
          849000,
          995000,
          876000,
          780000,
          949000,
          850000,
          950000,
          1110000,
          1110000,
          1219620,
          890000,
          1079000,
          865000,
          1179000,
          950000,
          900000,
          1129000,
          979000,
          895000,
          1159000,
          960000,
          1070000,
          800000,
          830000,
          850000,
          1100000,
          930000,
          845000,
          785990,
          1039000,
          949000,
          918000,
          979000,
          539000,
          870000,
          865000,
          960000,
          920510,
          929000,
          869999,
          888900,
          865900,
          979000,
          875000,
          890000,
          790000,
          929000,
          850000,
          720500,
          900000,
          815000,
          850000,
          914900,
          960000,
          790000,
          860000,
          1180000,
          910000,
          700000,
          1200000,
          750000,
          890000,
          850000,
          845000,
          745000,
          800000,
          800000,
          780000,
          820000,
          1400000,
          500000,
          877500,
          790000,
          790000,
          790000,
          777000,
          750000,
          960000,
          932000,
          860000,
          980000,
          850000,
          780000,
          745000,
          850000,
          750000,
          825000,
          850000,
          632000,
          865000
         ],
         "xaxis": "x15",
         "xbins": {
          "size": 500000
         },
         "yaxis": "y15"
        },
        {
         "autobinx": false,
         "name": "Kings Langley",
         "type": "histogram",
         "x": [
          1120000,
          1314000,
          1400000,
          1335000,
          1345500,
          1565000,
          1500000,
          1410000,
          1471000,
          1260000,
          1350000,
          1370000,
          1450000,
          1525000,
          1305000,
          1212000,
          1261000,
          1175000,
          1400000,
          1460000,
          1470000,
          1540000,
          1288500,
          1275000,
          1140000,
          1200000,
          1567000,
          1050000,
          1450000,
          1250000,
          1600000,
          1350000,
          1780000,
          935000,
          1360000,
          1075000,
          1550000,
          1600000,
          1340000,
          1805000,
          1373000,
          1400000,
          1670000,
          1352500,
          1510000,
          905000,
          1650000,
          1495000,
          1350000,
          1132000,
          1450000,
          1300000,
          1070000,
          1180000,
          1380000,
          1172500,
          1180000,
          1256000,
          1210500,
          1260000,
          1215000,
          822000,
          1230000,
          1125000,
          1115000,
          1230000,
          1155000,
          1375000,
          1380000,
          1420000,
          1290000,
          1100000,
          1360000,
          1185000,
          780000,
          1370000,
          1380000,
          1272000,
          765000,
          1250000,
          906400,
          1336000,
          1475000,
          1301000,
          1205000,
          1071000,
          1103000,
          1315000,
          942000,
          1196000,
          740000,
          1220000,
          950000,
          1460000,
          1470000,
          1140000,
          1350000,
          1450000
         ],
         "xaxis": "x16",
         "xbins": {
          "size": 500000
         },
         "yaxis": "y16"
        },
        {
         "autobinx": false,
         "name": "Bella Vista",
         "type": "histogram",
         "x": [
          2300000,
          5000000,
          2150000,
          2041000,
          3400000,
          2180000,
          2425000,
          2050000,
          1250000,
          3850000,
          4500000,
          1570000,
          1388000,
          2323232,
          1300000,
          3660000,
          2350000,
          2360000,
          3000000,
          2100000,
          2255000,
          1116100,
          2106000,
          1500500,
          1390000,
          3320000,
          2360000,
          2670000,
          2025000,
          1885000,
          2080000,
          998000,
          3100000,
          1635000,
          1905000,
          1805000,
          2610000,
          1180000,
          2810000,
          1820000,
          2275000,
          1940000,
          1970000,
          1537000,
          2655000,
          1410000,
          2280000,
          1900000,
          3500000,
          2400000,
          1925000,
          1900000,
          2410000,
          2001000,
          2250000,
          2500000,
          3300000,
          2355000,
          1375000,
          2630000,
          2500000,
          1925000,
          1265000,
          null
         ],
         "xaxis": "x17",
         "xbins": {
          "size": 500000
         },
         "yaxis": "y17"
        },
        {
         "autobinx": false,
         "name": "Box Hill",
         "type": "histogram",
         "x": [
          1445000,
          1225000,
          1147000,
          1405000,
          1360000,
          1380000,
          1522000,
          1280000,
          1200000,
          1450000,
          1425000,
          1125000,
          1790000,
          1727500,
          1150000,
          1070000,
          1140000,
          1305000,
          1160000,
          1110000,
          1180500,
          1380000,
          1310000,
          1460000,
          1310000,
          1270000,
          1100000,
          2273000,
          1450000,
          1007670,
          2400000,
          1350000,
          1107000,
          2455000,
          1600000,
          1850000,
          1350000,
          1477000,
          1320000,
          1775000,
          1535000,
          1060000,
          1367000,
          1280000,
          1400001,
          1480000,
          1128000,
          1100000,
          1110000,
          1400000,
          1415000,
          1280000,
          1908000,
          1170000,
          1410000,
          1236000,
          1270000,
          1415000,
          1680000,
          1180000,
          1390000,
          1860000,
          1300000,
          1368000,
          1500000,
          1420000,
          1300000,
          1100000,
          1400000,
          1130000,
          1835000,
          1300000,
          1200000,
          1285000,
          1630000,
          1380000,
          1100000,
          1025000,
          1420000,
          1645000,
          1350000,
          1680000,
          1245000,
          1055000,
          1508000,
          1250000,
          1180000,
          1240000,
          2600000,
          1250000,
          1060000,
          1270888,
          1070000,
          1140000,
          1040000,
          1021000,
          1000000,
          1270000,
          1226650,
          965000,
          990000,
          1500000,
          2310000,
          1585000,
          940000,
          1130000,
          950000,
          1500000,
          1070000,
          930000,
          1250000,
          1225000,
          1450000,
          1600000,
          1350000,
          1290000,
          1200000,
          1370000,
          17900000,
          1256550,
          1320000,
          1400000,
          1310000,
          895000,
          1130000,
          1755000,
          1575000,
          1050000,
          1050000,
          1040000,
          1030000,
          1015000,
          1220000,
          1600000,
          1150000,
          960000,
          936500,
          1280000,
          1302000,
          1170000,
          780000,
          1010000,
          1110000,
          1098888,
          1012000,
          985000,
          930000,
          958000,
          822000,
          940000,
          1160000,
          905000,
          985000,
          1400000,
          805000,
          775000,
          1825000,
          900000,
          1525000,
          1195000,
          995000,
          885000,
          835000,
          828000,
          965000,
          852000,
          1245000,
          857500,
          1095000,
          1400000,
          1013000,
          749900,
          886000,
          970000,
          1100000,
          1167000,
          1560000,
          1288000,
          1134000,
          1240300,
          1290330,
          1369780,
          1288000,
          1200000,
          1221540,
          1383000,
          1113000,
          1200000,
          998000,
          3490000,
          1196900,
          1278000,
          1288330,
          1255920,
          1266600,
          1239900,
          1359933,
          1267000,
          1205000,
          1380900,
          1560000,
          1450000,
          1350000,
          1300000,
          1300000,
          1200000,
          1650000,
          1200000,
          1653000,
          1300000,
          1167000,
          979000,
          1300000,
          1150000,
          1128000,
          1045000,
          940000,
          1375000,
          888000,
          1092900,
          1077900,
          1040900,
          1080000,
          898000,
          869000,
          1189600,
          1120100,
          1049500,
          1026500,
          1200000,
          1130676,
          1299990,
          810000,
          805000,
          2100000,
          950000,
          950000,
          1209330,
          1170400,
          999880,
          785000,
          1079000,
          779000,
          779000,
          7300000,
          798000,
          15210000,
          1082000,
          1140300,
          1400000,
          973600,
          897890,
          950000,
          1380000,
          905000,
          997000,
          890000,
          888000,
          759000,
          1022000,
          997600,
          898973,
          1129000,
          1200000,
          1189000,
          1950000,
          1089000,
          1033000,
          868000,
          849000,
          765000,
          929000,
          919000,
          930000,
          840000,
          1200000,
          1159000,
          2200000,
          701000,
          1129000,
          1129000,
          1029000,
          1139000,
          1069000,
          962000,
          1169000,
          1110000,
          780000,
          1123000,
          1099000,
          869000,
          1109000,
          1159000,
          920000,
          895000,
          889000,
          849000,
          790000,
          813000,
          949000,
          965000,
          898000,
          898000,
          893000,
          827900,
          823900,
          813000,
          813000,
          748900,
          758050,
          860000,
          1002000,
          779000,
          929000,
          905000,
          760000,
          1125000,
          899900,
          1089000,
          1019000,
          809000,
          799000,
          879000,
          828900,
          779000,
          780000,
          1019000,
          949000,
          849000,
          1049000,
          919000,
          929000,
          1059000,
          1029000,
          720000,
          1079000,
          1199000,
          929000,
          845000,
          845000,
          799800,
          716234,
          1200000,
          1149000,
          885000,
          844000,
          749900,
          1099000,
          882000,
          919000,
          750000,
          750000,
          750000,
          1230000,
          835000,
          750000,
          920000,
          940000,
          845000,
          1009000,
          885000,
          820000,
          null,
          null,
          null,
          null,
          null,
          null,
          null,
          null,
          null,
          null,
          null,
          null,
          null,
          null,
          null,
          null,
          null,
          null,
          null,
          null,
          null,
          null,
          null,
          null,
          null,
          null,
          null,
          null,
          null,
          null,
          null,
          null,
          null,
          null,
          null,
          null,
          null,
          null,
          null,
          null,
          null,
          null,
          null,
          null,
          null,
          null,
          null,
          null,
          null,
          null,
          null,
          1290000,
          1240000,
          null,
          null,
          null,
          null,
          null,
          null,
          null,
          null,
          null,
          null,
          null,
          null,
          null,
          null,
          null,
          null,
          null,
          null,
          null,
          null,
          null,
          null,
          null,
          null,
          null,
          null,
          null,
          null,
          null,
          null,
          null,
          null,
          null,
          null,
          null,
          null,
          null,
          null,
          null,
          null,
          null,
          null,
          null,
          null,
          null,
          null,
          null,
          null,
          1365000,
          1240000,
          1025000,
          null,
          null,
          null,
          null,
          null,
          1045000,
          null,
          null,
          1425000,
          1170000,
          null,
          null,
          1070000,
          null,
          null,
          null,
          null,
          1270000,
          1240000,
          null,
          1055000,
          null,
          105000,
          1045000,
          null,
          null,
          null,
          null,
          null,
          null,
          null,
          null,
          null,
          null,
          975000,
          null,
          null,
          null,
          null,
          null
         ],
         "xaxis": "x18",
         "xbins": {
          "size": 500000
         },
         "yaxis": "y18"
        },
        {
         "autobinx": false,
         "name": "Pennant Hills",
         "type": "histogram",
         "x": [
          3050000,
          2382500,
          1315000,
          1670000,
          1970001,
          1430000,
          1960000,
          1930000,
          1340000,
          2580000,
          2000000,
          1520000,
          1810000,
          2900000,
          1240000,
          1850000,
          2060000,
          1125000,
          1800000,
          2500000,
          1900000,
          1480000,
          1990000,
          1915000,
          2455000,
          2000000,
          1105000,
          1400000,
          1640000,
          2226000,
          2660000,
          2280000,
          2425000,
          2200000,
          2250000,
          1600000,
          2050000,
          1510000,
          1355000,
          2100000,
          1800000,
          1367500,
          1705800,
          2050000,
          1892000,
          1780000,
          1350000,
          1570000,
          2200000,
          1575000,
          2330000,
          1645000,
          2325000,
          2317000,
          1827000,
          1780000,
          2100000,
          1505000,
          1249000,
          1915000,
          1420000,
          1600000,
          1413000,
          1645000,
          1558000,
          null,
          null,
          null,
          2230000,
          1960000,
          2000000,
          1550000,
          2413333,
          1600000,
          1380000,
          null,
          1792000,
          1055000
         ],
         "xaxis": "x19",
         "xbins": {
          "size": 500000
         },
         "yaxis": "y19"
        },
        {
         "autobinx": false,
         "name": "Earlwood",
         "type": "histogram",
         "x": [
          3000000,
          1786000,
          2810000,
          2715000,
          1855000,
          1720000,
          1351500,
          2000000,
          2275000,
          1940000,
          1900000,
          1660000,
          1100000,
          1980000,
          2575000,
          2260000,
          2465000,
          1810000,
          1550000,
          1250000,
          1370000,
          2280000,
          2200000,
          1660000,
          1615000,
          1500000,
          880000,
          1680000,
          2025000,
          1790000,
          735000,
          2060000,
          1618000,
          1525000,
          1900000,
          3500000,
          2620000,
          1580000,
          1315000,
          2000000,
          1850000,
          1710000,
          3100000,
          1610000,
          3100000,
          1805000,
          1980000,
          2550000,
          1925000,
          2300000,
          1570000,
          1730000,
          1850000,
          1200000,
          2190000,
          1845000,
          2211000,
          2220000,
          2880000,
          2800000,
          2500500,
          1800000,
          2020000,
          1650000,
          1950000,
          1847000,
          2158000,
          2350000,
          3625000,
          1835000,
          1700000,
          3310000,
          1600000,
          1605000,
          1710000,
          2550000,
          1525000,
          2125000,
          2770000,
          1950000,
          1400000,
          1340000,
          1990000,
          1701321,
          2400000,
          2650000,
          2370000,
          1848800,
          1600000,
          2500000,
          1415000,
          2000000,
          2570000,
          1750000,
          1540000,
          2250000,
          1860000,
          2260000,
          1580000,
          1070000,
          2690000,
          2300000,
          2200000,
          1625000,
          1450500,
          1451000,
          1400000,
          1800000,
          2500000,
          1720000,
          1625000,
          2456000,
          1762000,
          1740000,
          2400000,
          1550000,
          1728000,
          1665000,
          1980000,
          1725000,
          1850000,
          1820000,
          1830000,
          1580000,
          1475000,
          960000,
          1650000,
          2175000,
          2250000,
          1545000,
          2175000,
          1770000,
          1600000,
          2301000,
          1531000,
          1170000,
          1300000,
          1250000,
          1745000,
          1875000,
          1680000,
          1510000,
          1140000,
          1614000,
          2160000,
          1350000,
          2200000,
          1450000,
          2000000,
          2900000,
          1720000,
          3100000,
          2720000,
          2100000,
          1265000,
          3000000,
          1800000,
          1665000,
          1325000,
          1600000,
          2020000,
          2050000,
          2500000,
          1219000,
          1825000,
          1585000,
          1200000
         ],
         "xaxis": "x20",
         "xbins": {
          "size": 500000
         },
         "yaxis": "y20"
        },
        {
         "autobinx": false,
         "name": "Marrickville",
         "type": "histogram",
         "x": [
          2100000,
          1940000,
          1900000,
          965000,
          1730000,
          2610000,
          2117000,
          2550000,
          2227500,
          2100000,
          1855000,
          1950000,
          1780000,
          1900000,
          1805000,
          2270000,
          1320000,
          2050000,
          1305000,
          2502000,
          2150000,
          1800000,
          2000000,
          2400000,
          3270000,
          2245000,
          1920000,
          3500000,
          2030000,
          2100000,
          1850000,
          1870000,
          2200000,
          1830000,
          1725000,
          1265000,
          2650000,
          3155000,
          2211000,
          1900000,
          2128000,
          1475000,
          2400000,
          1820000,
          2180000,
          1830000,
          1502500,
          1816500,
          1855000,
          1750000,
          1505000,
          2000000,
          2320000,
          1630000,
          1305000,
          1900000,
          2875000,
          2110000,
          1600000,
          3500000,
          2205000,
          2275000,
          1712000,
          2000000,
          1980000,
          2445000,
          2200000,
          3150000,
          2050000,
          2100000,
          1930000,
          1600000,
          1327000,
          1725000,
          1730000,
          2455000,
          3300000,
          1760000,
          1707500,
          1400000,
          2330000,
          2870000,
          2050000,
          2350000,
          1510000,
          2301000,
          1675000,
          1241000,
          1700000,
          1466000,
          2435500,
          1705000,
          1338000,
          2335000,
          1705000,
          1700000,
          975000,
          1705000,
          1725000,
          2601000,
          1885000,
          1785000,
          1790000,
          1570000,
          1390000,
          1540000,
          1600000,
          1750000,
          1130000,
          2190000,
          2015000,
          1550000,
          3400000,
          2710000,
          1900000,
          1730000,
          1465000,
          2225000,
          1880000,
          1830000,
          1540000,
          2280000,
          2210000,
          1675000,
          2180000,
          2405000,
          2400000,
          1900000,
          1665000,
          1650000,
          1460000,
          2600000,
          1415000,
          1325000,
          2550000,
          1730000,
          1350000,
          1000000,
          2050000,
          1520000,
          1400000,
          1530000,
          1675000,
          1680000,
          3500000,
          1675000,
          2230000,
          1850000,
          2200000,
          2040000,
          1515000,
          2000000,
          2900000,
          2380000,
          1650000,
          2900000,
          1740000,
          1660000,
          1375000,
          1400000,
          1350000,
          1485000,
          1450000,
          2641000,
          1945000,
          1580000,
          1540000,
          2304000,
          1595000,
          1895000,
          1735000,
          1270000,
          2450000
         ],
         "xaxis": "x21",
         "xbins": {
          "size": 500000
         },
         "yaxis": "y21"
        },
        {
         "autobinx": false,
         "name": "Dulwich",
         "type": "histogram",
         "x": [
          1481000,
          1521000,
          923000,
          1100000,
          2010000,
          1113000,
          855000,
          985000,
          1450000,
          1600000,
          1452000,
          null,
          null,
          null,
          null,
          null,
          null
         ],
         "xaxis": "x22",
         "xbins": {
          "size": 500000
         },
         "yaxis": "y22"
        },
        {
         "autobinx": false,
         "name": "Petersham",
         "type": "histogram",
         "x": [
          2350000,
          1580000,
          1880000,
          1805000,
          1700000,
          2900000,
          3110000,
          1325000,
          2630000,
          1700000,
          2375000,
          1500000,
          3120000,
          1685000,
          1655000,
          1600000,
          3050000,
          2183000,
          1300000,
          2300000,
          1762500,
          2340000,
          2880000,
          1621000,
          1890000,
          1835000,
          1805000,
          1730000,
          1900000,
          2760000,
          1930000,
          1657000,
          1665000,
          1680500,
          2600000,
          2270000,
          2060000,
          2550000,
          1510000,
          1200000,
          1950000,
          1705000,
          2140000,
          1720000,
          1510000,
          1755000,
          1670000,
          1475000,
          2480000,
          1412000,
          2350000,
          1340000,
          null,
          null,
          null,
          null,
          null,
          null,
          null,
          1700000,
          null,
          null,
          2240000,
          1625000,
          1990000,
          1900000,
          1823000,
          2050000,
          null,
          2750000,
          1300000,
          2850000,
          1762500,
          2150000,
          3650000,
          2411500,
          2476000,
          2400000,
          2300000,
          1853000,
          2001000,
          2380000,
          2305000,
          2910000,
          null,
          2535000,
          1571000,
          1555000,
          1800000,
          null,
          1630000,
          null,
          2160000,
          null,
          null,
          2110000,
          2180000,
          1521000,
          1750000,
          1730000,
          1600000,
          2635000,
          2050000,
          1415000,
          2191000,
          2340000,
          1700000,
          1300000,
          2661000,
          1960000
         ],
         "xaxis": "x23",
         "xbins": {
          "size": 500000
         },
         "yaxis": "y23"
        },
        {
         "autobinx": false,
         "name": "Campsie",
         "type": "histogram",
         "x": [
          1500000,
          1250000,
          1400000,
          800000,
          1600000,
          2000000,
          1210000,
          811000,
          1535000,
          1460000,
          1300000,
          1555000,
          740000,
          1850000,
          1800000,
          1500000,
          1525000,
          1340000,
          928000,
          870000,
          1336000,
          990000,
          962500,
          1900000,
          1375000,
          1350000,
          1800000,
          1205000,
          1365000,
          1650000,
          2350000,
          1650000,
          1425000,
          1485000,
          1227000,
          1140000,
          1300000,
          1650000,
          1450000,
          975000,
          1865000,
          1300000,
          1700000,
          2200000,
          2195000,
          1310000,
          1370000,
          1062000,
          1070000,
          1560000,
          1795000,
          1731000,
          3600000,
          1450000,
          1405000,
          1950000,
          1180000,
          980000,
          1200000,
          1475000,
          962500,
          1300000,
          815000,
          1790000,
          1250000,
          1360000,
          892000,
          1250000,
          1499000,
          1804000,
          1000000,
          1376000,
          1070000,
          1560000,
          1449000,
          1120000,
          733000,
          920000,
          1251000,
          1005000,
          1400000,
          null,
          null,
          null,
          null,
          null,
          1380000,
          null,
          null,
          1245000,
          null,
          null,
          null,
          1145000,
          null,
          1285000,
          2404000,
          1085101,
          null,
          null,
          1605000,
          null,
          1480000,
          null,
          1120000,
          848000,
          1305000,
          1938888,
          null,
          null,
          900000,
          null,
          null,
          1237000,
          960000,
          null,
          null,
          null,
          null,
          1005000,
          null
         ],
         "xaxis": "x24",
         "xbins": {
          "size": 500000
         },
         "yaxis": "y24"
        },
        {
         "autobinx": false,
         "name": "Canterbury",
         "type": "histogram",
         "x": [
          1150000,
          1600000,
          1900000,
          1530000,
          1500000,
          1575000,
          1500000,
          1370000,
          1300000,
          1510000,
          2185000
         ],
         "xaxis": "x25",
         "xbins": {
          "size": 500000
         },
         "yaxis": "y25"
        }
       ],
       "layout": {
        "template": {
         "data": {
          "bar": [
           {
            "error_x": {
             "color": "#2a3f5f"
            },
            "error_y": {
             "color": "#2a3f5f"
            },
            "marker": {
             "line": {
              "color": "#E5ECF6",
              "width": 0.5
             },
             "pattern": {
              "fillmode": "overlay",
              "size": 10,
              "solidity": 0.2
             }
            },
            "type": "bar"
           }
          ],
          "barpolar": [
           {
            "marker": {
             "line": {
              "color": "#E5ECF6",
              "width": 0.5
             },
             "pattern": {
              "fillmode": "overlay",
              "size": 10,
              "solidity": 0.2
             }
            },
            "type": "barpolar"
           }
          ],
          "carpet": [
           {
            "aaxis": {
             "endlinecolor": "#2a3f5f",
             "gridcolor": "white",
             "linecolor": "white",
             "minorgridcolor": "white",
             "startlinecolor": "#2a3f5f"
            },
            "baxis": {
             "endlinecolor": "#2a3f5f",
             "gridcolor": "white",
             "linecolor": "white",
             "minorgridcolor": "white",
             "startlinecolor": "#2a3f5f"
            },
            "type": "carpet"
           }
          ],
          "choropleth": [
           {
            "colorbar": {
             "outlinewidth": 0,
             "ticks": ""
            },
            "type": "choropleth"
           }
          ],
          "contour": [
           {
            "colorbar": {
             "outlinewidth": 0,
             "ticks": ""
            },
            "colorscale": [
             [
              0,
              "#0d0887"
             ],
             [
              0.1111111111111111,
              "#46039f"
             ],
             [
              0.2222222222222222,
              "#7201a8"
             ],
             [
              0.3333333333333333,
              "#9c179e"
             ],
             [
              0.4444444444444444,
              "#bd3786"
             ],
             [
              0.5555555555555556,
              "#d8576b"
             ],
             [
              0.6666666666666666,
              "#ed7953"
             ],
             [
              0.7777777777777778,
              "#fb9f3a"
             ],
             [
              0.8888888888888888,
              "#fdca26"
             ],
             [
              1,
              "#f0f921"
             ]
            ],
            "type": "contour"
           }
          ],
          "contourcarpet": [
           {
            "colorbar": {
             "outlinewidth": 0,
             "ticks": ""
            },
            "type": "contourcarpet"
           }
          ],
          "heatmap": [
           {
            "colorbar": {
             "outlinewidth": 0,
             "ticks": ""
            },
            "colorscale": [
             [
              0,
              "#0d0887"
             ],
             [
              0.1111111111111111,
              "#46039f"
             ],
             [
              0.2222222222222222,
              "#7201a8"
             ],
             [
              0.3333333333333333,
              "#9c179e"
             ],
             [
              0.4444444444444444,
              "#bd3786"
             ],
             [
              0.5555555555555556,
              "#d8576b"
             ],
             [
              0.6666666666666666,
              "#ed7953"
             ],
             [
              0.7777777777777778,
              "#fb9f3a"
             ],
             [
              0.8888888888888888,
              "#fdca26"
             ],
             [
              1,
              "#f0f921"
             ]
            ],
            "type": "heatmap"
           }
          ],
          "heatmapgl": [
           {
            "colorbar": {
             "outlinewidth": 0,
             "ticks": ""
            },
            "colorscale": [
             [
              0,
              "#0d0887"
             ],
             [
              0.1111111111111111,
              "#46039f"
             ],
             [
              0.2222222222222222,
              "#7201a8"
             ],
             [
              0.3333333333333333,
              "#9c179e"
             ],
             [
              0.4444444444444444,
              "#bd3786"
             ],
             [
              0.5555555555555556,
              "#d8576b"
             ],
             [
              0.6666666666666666,
              "#ed7953"
             ],
             [
              0.7777777777777778,
              "#fb9f3a"
             ],
             [
              0.8888888888888888,
              "#fdca26"
             ],
             [
              1,
              "#f0f921"
             ]
            ],
            "type": "heatmapgl"
           }
          ],
          "histogram": [
           {
            "marker": {
             "pattern": {
              "fillmode": "overlay",
              "size": 10,
              "solidity": 0.2
             }
            },
            "type": "histogram"
           }
          ],
          "histogram2d": [
           {
            "colorbar": {
             "outlinewidth": 0,
             "ticks": ""
            },
            "colorscale": [
             [
              0,
              "#0d0887"
             ],
             [
              0.1111111111111111,
              "#46039f"
             ],
             [
              0.2222222222222222,
              "#7201a8"
             ],
             [
              0.3333333333333333,
              "#9c179e"
             ],
             [
              0.4444444444444444,
              "#bd3786"
             ],
             [
              0.5555555555555556,
              "#d8576b"
             ],
             [
              0.6666666666666666,
              "#ed7953"
             ],
             [
              0.7777777777777778,
              "#fb9f3a"
             ],
             [
              0.8888888888888888,
              "#fdca26"
             ],
             [
              1,
              "#f0f921"
             ]
            ],
            "type": "histogram2d"
           }
          ],
          "histogram2dcontour": [
           {
            "colorbar": {
             "outlinewidth": 0,
             "ticks": ""
            },
            "colorscale": [
             [
              0,
              "#0d0887"
             ],
             [
              0.1111111111111111,
              "#46039f"
             ],
             [
              0.2222222222222222,
              "#7201a8"
             ],
             [
              0.3333333333333333,
              "#9c179e"
             ],
             [
              0.4444444444444444,
              "#bd3786"
             ],
             [
              0.5555555555555556,
              "#d8576b"
             ],
             [
              0.6666666666666666,
              "#ed7953"
             ],
             [
              0.7777777777777778,
              "#fb9f3a"
             ],
             [
              0.8888888888888888,
              "#fdca26"
             ],
             [
              1,
              "#f0f921"
             ]
            ],
            "type": "histogram2dcontour"
           }
          ],
          "mesh3d": [
           {
            "colorbar": {
             "outlinewidth": 0,
             "ticks": ""
            },
            "type": "mesh3d"
           }
          ],
          "parcoords": [
           {
            "line": {
             "colorbar": {
              "outlinewidth": 0,
              "ticks": ""
             }
            },
            "type": "parcoords"
           }
          ],
          "pie": [
           {
            "automargin": true,
            "type": "pie"
           }
          ],
          "scatter": [
           {
            "marker": {
             "colorbar": {
              "outlinewidth": 0,
              "ticks": ""
             }
            },
            "type": "scatter"
           }
          ],
          "scatter3d": [
           {
            "line": {
             "colorbar": {
              "outlinewidth": 0,
              "ticks": ""
             }
            },
            "marker": {
             "colorbar": {
              "outlinewidth": 0,
              "ticks": ""
             }
            },
            "type": "scatter3d"
           }
          ],
          "scattercarpet": [
           {
            "marker": {
             "colorbar": {
              "outlinewidth": 0,
              "ticks": ""
             }
            },
            "type": "scattercarpet"
           }
          ],
          "scattergeo": [
           {
            "marker": {
             "colorbar": {
              "outlinewidth": 0,
              "ticks": ""
             }
            },
            "type": "scattergeo"
           }
          ],
          "scattergl": [
           {
            "marker": {
             "colorbar": {
              "outlinewidth": 0,
              "ticks": ""
             }
            },
            "type": "scattergl"
           }
          ],
          "scattermapbox": [
           {
            "marker": {
             "colorbar": {
              "outlinewidth": 0,
              "ticks": ""
             }
            },
            "type": "scattermapbox"
           }
          ],
          "scatterpolar": [
           {
            "marker": {
             "colorbar": {
              "outlinewidth": 0,
              "ticks": ""
             }
            },
            "type": "scatterpolar"
           }
          ],
          "scatterpolargl": [
           {
            "marker": {
             "colorbar": {
              "outlinewidth": 0,
              "ticks": ""
             }
            },
            "type": "scatterpolargl"
           }
          ],
          "scatterternary": [
           {
            "marker": {
             "colorbar": {
              "outlinewidth": 0,
              "ticks": ""
             }
            },
            "type": "scatterternary"
           }
          ],
          "surface": [
           {
            "colorbar": {
             "outlinewidth": 0,
             "ticks": ""
            },
            "colorscale": [
             [
              0,
              "#0d0887"
             ],
             [
              0.1111111111111111,
              "#46039f"
             ],
             [
              0.2222222222222222,
              "#7201a8"
             ],
             [
              0.3333333333333333,
              "#9c179e"
             ],
             [
              0.4444444444444444,
              "#bd3786"
             ],
             [
              0.5555555555555556,
              "#d8576b"
             ],
             [
              0.6666666666666666,
              "#ed7953"
             ],
             [
              0.7777777777777778,
              "#fb9f3a"
             ],
             [
              0.8888888888888888,
              "#fdca26"
             ],
             [
              1,
              "#f0f921"
             ]
            ],
            "type": "surface"
           }
          ],
          "table": [
           {
            "cells": {
             "fill": {
              "color": "#EBF0F8"
             },
             "line": {
              "color": "white"
             }
            },
            "header": {
             "fill": {
              "color": "#C8D4E3"
             },
             "line": {
              "color": "white"
             }
            },
            "type": "table"
           }
          ]
         },
         "layout": {
          "annotationdefaults": {
           "arrowcolor": "#2a3f5f",
           "arrowhead": 0,
           "arrowwidth": 1
          },
          "autotypenumbers": "strict",
          "coloraxis": {
           "colorbar": {
            "outlinewidth": 0,
            "ticks": ""
           }
          },
          "colorscale": {
           "diverging": [
            [
             0,
             "#8e0152"
            ],
            [
             0.1,
             "#c51b7d"
            ],
            [
             0.2,
             "#de77ae"
            ],
            [
             0.3,
             "#f1b6da"
            ],
            [
             0.4,
             "#fde0ef"
            ],
            [
             0.5,
             "#f7f7f7"
            ],
            [
             0.6,
             "#e6f5d0"
            ],
            [
             0.7,
             "#b8e186"
            ],
            [
             0.8,
             "#7fbc41"
            ],
            [
             0.9,
             "#4d9221"
            ],
            [
             1,
             "#276419"
            ]
           ],
           "sequential": [
            [
             0,
             "#0d0887"
            ],
            [
             0.1111111111111111,
             "#46039f"
            ],
            [
             0.2222222222222222,
             "#7201a8"
            ],
            [
             0.3333333333333333,
             "#9c179e"
            ],
            [
             0.4444444444444444,
             "#bd3786"
            ],
            [
             0.5555555555555556,
             "#d8576b"
            ],
            [
             0.6666666666666666,
             "#ed7953"
            ],
            [
             0.7777777777777778,
             "#fb9f3a"
            ],
            [
             0.8888888888888888,
             "#fdca26"
            ],
            [
             1,
             "#f0f921"
            ]
           ],
           "sequentialminus": [
            [
             0,
             "#0d0887"
            ],
            [
             0.1111111111111111,
             "#46039f"
            ],
            [
             0.2222222222222222,
             "#7201a8"
            ],
            [
             0.3333333333333333,
             "#9c179e"
            ],
            [
             0.4444444444444444,
             "#bd3786"
            ],
            [
             0.5555555555555556,
             "#d8576b"
            ],
            [
             0.6666666666666666,
             "#ed7953"
            ],
            [
             0.7777777777777778,
             "#fb9f3a"
            ],
            [
             0.8888888888888888,
             "#fdca26"
            ],
            [
             1,
             "#f0f921"
            ]
           ]
          },
          "colorway": [
           "#636efa",
           "#EF553B",
           "#00cc96",
           "#ab63fa",
           "#FFA15A",
           "#19d3f3",
           "#FF6692",
           "#B6E880",
           "#FF97FF",
           "#FECB52"
          ],
          "font": {
           "color": "#2a3f5f"
          },
          "geo": {
           "bgcolor": "white",
           "lakecolor": "white",
           "landcolor": "#E5ECF6",
           "showlakes": true,
           "showland": true,
           "subunitcolor": "white"
          },
          "hoverlabel": {
           "align": "left"
          },
          "hovermode": "closest",
          "mapbox": {
           "style": "light"
          },
          "paper_bgcolor": "white",
          "plot_bgcolor": "#E5ECF6",
          "polar": {
           "angularaxis": {
            "gridcolor": "white",
            "linecolor": "white",
            "ticks": ""
           },
           "bgcolor": "#E5ECF6",
           "radialaxis": {
            "gridcolor": "white",
            "linecolor": "white",
            "ticks": ""
           }
          },
          "scene": {
           "xaxis": {
            "backgroundcolor": "#E5ECF6",
            "gridcolor": "white",
            "gridwidth": 2,
            "linecolor": "white",
            "showbackground": true,
            "ticks": "",
            "zerolinecolor": "white"
           },
           "yaxis": {
            "backgroundcolor": "#E5ECF6",
            "gridcolor": "white",
            "gridwidth": 2,
            "linecolor": "white",
            "showbackground": true,
            "ticks": "",
            "zerolinecolor": "white"
           },
           "zaxis": {
            "backgroundcolor": "#E5ECF6",
            "gridcolor": "white",
            "gridwidth": 2,
            "linecolor": "white",
            "showbackground": true,
            "ticks": "",
            "zerolinecolor": "white"
           }
          },
          "shapedefaults": {
           "line": {
            "color": "#2a3f5f"
           }
          },
          "ternary": {
           "aaxis": {
            "gridcolor": "white",
            "linecolor": "white",
            "ticks": ""
           },
           "baxis": {
            "gridcolor": "white",
            "linecolor": "white",
            "ticks": ""
           },
           "bgcolor": "#E5ECF6",
           "caxis": {
            "gridcolor": "white",
            "linecolor": "white",
            "ticks": ""
           }
          },
          "title": {
           "x": 0.05
          },
          "xaxis": {
           "automargin": true,
           "gridcolor": "white",
           "linecolor": "white",
           "ticks": "",
           "title": {
            "standoff": 15
           },
           "zerolinecolor": "white",
           "zerolinewidth": 2
          },
          "yaxis": {
           "automargin": true,
           "gridcolor": "white",
           "linecolor": "white",
           "ticks": "",
           "title": {
            "standoff": 15
           },
           "zerolinecolor": "white",
           "zerolinewidth": 2
          }
         }
        },
        "xaxis": {
         "anchor": "y",
         "domain": [
          0,
          0.16799999999999998
         ],
         "matches": "x21",
         "range": [
          0,
          4000000
         ],
         "showticklabels": false
        },
        "xaxis10": {
         "anchor": "y10",
         "domain": [
          0.832,
          1
         ],
         "matches": "x25",
         "range": [
          0,
          4000000
         ],
         "showticklabels": false
        },
        "xaxis11": {
         "anchor": "y11",
         "domain": [
          0,
          0.16799999999999998
         ],
         "matches": "x21",
         "range": [
          0,
          4000000
         ],
         "showticklabels": false
        },
        "xaxis12": {
         "anchor": "y12",
         "domain": [
          0.208,
          0.376
         ],
         "matches": "x22",
         "range": [
          0,
          4000000
         ],
         "showticklabels": false
        },
        "xaxis13": {
         "anchor": "y13",
         "domain": [
          0.416,
          0.584
         ],
         "matches": "x23",
         "range": [
          0,
          4000000
         ],
         "showticklabels": false
        },
        "xaxis14": {
         "anchor": "y14",
         "domain": [
          0.624,
          0.792
         ],
         "matches": "x24",
         "range": [
          0,
          4000000
         ],
         "showticklabels": false
        },
        "xaxis15": {
         "anchor": "y15",
         "domain": [
          0.832,
          1
         ],
         "matches": "x25",
         "range": [
          0,
          4000000
         ],
         "showticklabels": false
        },
        "xaxis16": {
         "anchor": "y16",
         "domain": [
          0,
          0.16799999999999998
         ],
         "matches": "x21",
         "range": [
          0,
          4000000
         ],
         "showticklabels": false
        },
        "xaxis17": {
         "anchor": "y17",
         "domain": [
          0.208,
          0.376
         ],
         "matches": "x22",
         "range": [
          0,
          4000000
         ],
         "showticklabels": false
        },
        "xaxis18": {
         "anchor": "y18",
         "domain": [
          0.416,
          0.584
         ],
         "matches": "x23",
         "range": [
          0,
          4000000
         ],
         "showticklabels": false
        },
        "xaxis19": {
         "anchor": "y19",
         "domain": [
          0.624,
          0.792
         ],
         "matches": "x24",
         "range": [
          0,
          4000000
         ],
         "showticklabels": false
        },
        "xaxis2": {
         "anchor": "y2",
         "domain": [
          0.208,
          0.376
         ],
         "matches": "x22",
         "range": [
          0,
          4000000
         ],
         "showticklabels": false
        },
        "xaxis20": {
         "anchor": "y20",
         "domain": [
          0.832,
          1
         ],
         "matches": "x25",
         "range": [
          0,
          4000000
         ],
         "showticklabels": false
        },
        "xaxis21": {
         "anchor": "y21",
         "domain": [
          0,
          0.16799999999999998
         ],
         "range": [
          0,
          4000000
         ]
        },
        "xaxis22": {
         "anchor": "y22",
         "domain": [
          0.208,
          0.376
         ],
         "range": [
          0,
          4000000
         ]
        },
        "xaxis23": {
         "anchor": "y23",
         "domain": [
          0.416,
          0.584
         ],
         "range": [
          0,
          4000000
         ]
        },
        "xaxis24": {
         "anchor": "y24",
         "domain": [
          0.624,
          0.792
         ],
         "range": [
          0,
          4000000
         ]
        },
        "xaxis25": {
         "anchor": "y25",
         "domain": [
          0.832,
          1
         ],
         "range": [
          0,
          4000000
         ]
        },
        "xaxis3": {
         "anchor": "y3",
         "domain": [
          0.416,
          0.584
         ],
         "matches": "x23",
         "range": [
          0,
          4000000
         ],
         "showticklabels": false
        },
        "xaxis4": {
         "anchor": "y4",
         "domain": [
          0.624,
          0.792
         ],
         "matches": "x24",
         "range": [
          0,
          4000000
         ],
         "showticklabels": false
        },
        "xaxis5": {
         "anchor": "y5",
         "domain": [
          0.832,
          1
         ],
         "matches": "x25",
         "range": [
          0,
          4000000
         ],
         "showticklabels": false
        },
        "xaxis6": {
         "anchor": "y6",
         "domain": [
          0,
          0.16799999999999998
         ],
         "matches": "x21",
         "range": [
          0,
          4000000
         ],
         "showticklabels": false
        },
        "xaxis7": {
         "anchor": "y7",
         "domain": [
          0.208,
          0.376
         ],
         "matches": "x22",
         "range": [
          0,
          4000000
         ],
         "showticklabels": false
        },
        "xaxis8": {
         "anchor": "y8",
         "domain": [
          0.416,
          0.584
         ],
         "matches": "x23",
         "range": [
          0,
          4000000
         ],
         "showticklabels": false
        },
        "xaxis9": {
         "anchor": "y9",
         "domain": [
          0.624,
          0.792
         ],
         "matches": "x24",
         "range": [
          0,
          4000000
         ],
         "showticklabels": false
        },
        "yaxis": {
         "anchor": "x",
         "domain": [
          0.848,
          1
         ],
         "range": [
          0,
          150
         ]
        },
        "yaxis10": {
         "anchor": "x10",
         "domain": [
          0.6359999999999999,
          0.7879999999999999
         ],
         "matches": "y6",
         "range": [
          0,
          150
         ],
         "showticklabels": false
        },
        "yaxis11": {
         "anchor": "x11",
         "domain": [
          0.424,
          0.576
         ],
         "range": [
          0,
          150
         ]
        },
        "yaxis12": {
         "anchor": "x12",
         "domain": [
          0.424,
          0.576
         ],
         "matches": "y11",
         "range": [
          0,
          150
         ],
         "showticklabels": false
        },
        "yaxis13": {
         "anchor": "x13",
         "domain": [
          0.424,
          0.576
         ],
         "matches": "y11",
         "range": [
          0,
          150
         ],
         "showticklabels": false
        },
        "yaxis14": {
         "anchor": "x14",
         "domain": [
          0.424,
          0.576
         ],
         "matches": "y11",
         "range": [
          0,
          150
         ],
         "showticklabels": false
        },
        "yaxis15": {
         "anchor": "x15",
         "domain": [
          0.424,
          0.576
         ],
         "matches": "y11",
         "range": [
          0,
          150
         ],
         "showticklabels": false
        },
        "yaxis16": {
         "anchor": "x16",
         "domain": [
          0.212,
          0.364
         ],
         "range": [
          0,
          150
         ]
        },
        "yaxis17": {
         "anchor": "x17",
         "domain": [
          0.212,
          0.364
         ],
         "matches": "y16",
         "range": [
          0,
          150
         ],
         "showticklabels": false
        },
        "yaxis18": {
         "anchor": "x18",
         "domain": [
          0.212,
          0.364
         ],
         "matches": "y16",
         "range": [
          0,
          150
         ],
         "showticklabels": false
        },
        "yaxis19": {
         "anchor": "x19",
         "domain": [
          0.212,
          0.364
         ],
         "matches": "y16",
         "range": [
          0,
          150
         ],
         "showticklabels": false
        },
        "yaxis2": {
         "anchor": "x2",
         "domain": [
          0.848,
          1
         ],
         "matches": "y",
         "range": [
          0,
          150
         ],
         "showticklabels": false
        },
        "yaxis20": {
         "anchor": "x20",
         "domain": [
          0.212,
          0.364
         ],
         "matches": "y16",
         "range": [
          0,
          150
         ],
         "showticklabels": false
        },
        "yaxis21": {
         "anchor": "x21",
         "domain": [
          0,
          0.152
         ],
         "range": [
          0,
          150
         ]
        },
        "yaxis22": {
         "anchor": "x22",
         "domain": [
          0,
          0.152
         ],
         "matches": "y21",
         "range": [
          0,
          150
         ],
         "showticklabels": false
        },
        "yaxis23": {
         "anchor": "x23",
         "domain": [
          0,
          0.152
         ],
         "matches": "y21",
         "range": [
          0,
          150
         ],
         "showticklabels": false
        },
        "yaxis24": {
         "anchor": "x24",
         "domain": [
          0,
          0.152
         ],
         "matches": "y21",
         "range": [
          0,
          150
         ],
         "showticklabels": false
        },
        "yaxis25": {
         "anchor": "x25",
         "domain": [
          0,
          0.152
         ],
         "matches": "y21",
         "range": [
          0,
          150
         ],
         "showticklabels": false
        },
        "yaxis3": {
         "anchor": "x3",
         "domain": [
          0.848,
          1
         ],
         "matches": "y",
         "range": [
          0,
          150
         ],
         "showticklabels": false
        },
        "yaxis4": {
         "anchor": "x4",
         "domain": [
          0.848,
          1
         ],
         "matches": "y",
         "range": [
          0,
          150
         ],
         "showticklabels": false
        },
        "yaxis5": {
         "anchor": "x5",
         "domain": [
          0.848,
          1
         ],
         "matches": "y",
         "range": [
          0,
          150
         ],
         "showticklabels": false
        },
        "yaxis6": {
         "anchor": "x6",
         "domain": [
          0.6359999999999999,
          0.7879999999999999
         ],
         "range": [
          0,
          150
         ]
        },
        "yaxis7": {
         "anchor": "x7",
         "domain": [
          0.6359999999999999,
          0.7879999999999999
         ],
         "matches": "y6",
         "range": [
          0,
          150
         ],
         "showticklabels": false
        },
        "yaxis8": {
         "anchor": "x8",
         "domain": [
          0.6359999999999999,
          0.7879999999999999
         ],
         "matches": "y6",
         "range": [
          0,
          150
         ],
         "showticklabels": false
        },
        "yaxis9": {
         "anchor": "x9",
         "domain": [
          0.6359999999999999,
          0.7879999999999999
         ],
         "matches": "y6",
         "range": [
          0,
          150
         ],
         "showticklabels": false
        }
       }
      },
      "text/html": [
       "<div>                            <div id=\"f7b2054c-848b-4ad1-95e4-2e9bedbf4a93\" class=\"plotly-graph-div\" style=\"height:525px; width:100%;\"></div>            <script type=\"text/javascript\">                require([\"plotly\"], function(Plotly) {                    window.PLOTLYENV=window.PLOTLYENV || {};                                    if (document.getElementById(\"f7b2054c-848b-4ad1-95e4-2e9bedbf4a93\")) {                    Plotly.newPlot(                        \"f7b2054c-848b-4ad1-95e4-2e9bedbf4a93\",                        [{\"autobinx\":false,\"name\":\"Lindfield\",\"x\":[3600000.0,3200000.0,5610000.0,3290000.0,5901000.0,4000000.0,3100000.0,3380000.0,4200000.0,5400000.0,4320000.0,3000000.0,3350000.0,2225000.0,2500000.0,2558000.0,2005000.0,2950000.0,2862000.0,4980000.0,3350000.0,3030000.0,2500000.0,2825000.0,5600000.0,5275000.0,6500000.0,2398000.0,null,null,null,null,null,null,null,null,null,null,null,null,3800000.0,2500000.0,3200000.0,null,null,null,null,5035000.0,4300000.0,2276000.0,null,2540000.0,null,null,null,null,null,null,null,null,3475000.0,2950000.0,2752000.0,3680000.0,4315000.0,null,4620000.0,2225000.0,2475000.0,2915000.0,2550000.0,2300000.0,4000000.0],\"xbins\":{\"size\":500000},\"type\":\"histogram\",\"xaxis\":\"x\",\"yaxis\":\"y\"},{\"autobinx\":false,\"name\":\"Gordon\",\"x\":[3020000.0,2500000.0,3720000.0,2160000.0,5612000.0,2940000.0,2100000.0,2304500.0,3190000.0,6120000.0,3600000.0,2800000.0,2900000.0,2670000.0,1675000.0,1700000.0,3165000.0,3985000.0,4200000.0,2930000.0,3168000.0,4310000.0,3335000.0,2139000.0,2100000.0,2160000.0,3050000.0,null,null,null,null,null,null,null,null,null,2250000.0,null,4080000.0,null,2250000.0,2800000.0,2275000.0,3300000.0,4500000.0,3590000.0,null,3100000.0,2600000.0,3300000.0,3947000.0,1980000.0,3800000.0,2600000.0,2450000.0,null,4300000.0,4220000.0,2530000.0,2850000.0,null,1980000.0,3800000.0,3560000.0,1650000.0,null,2450000.0],\"xbins\":{\"size\":500000},\"type\":\"histogram\",\"xaxis\":\"x2\",\"yaxis\":\"y2\"},{\"autobinx\":false,\"name\":\"Pymble\",\"x\":[2750000.0,1880000.0,2702000.0,3217000.0,3408889.0,2750000.0,2803000.0,2970000.0,3900000.0,2400000.0,3850000.0,3150000.0,3860000.0,5025000.0,3600000.0,3280000.0,1885000.0,2970000.0,4200000.0,3858000.0,2408000.0,2000000.0,2980000.0,2590000.0,2350000.0,2000000.0,2456000.0,2600000.0,2875000.0,2550000.0,3712500.0,2925000.0,3100000.0,2950000.0,3750000.0,3231000.0,2760000.0,3550000.0,2923000.0,3050000.0,2636000.0,3508900.0,3200000.0,2645000.0,2795000.0,4125000.0,3055000.0,4900000.0,4000000.0,5600000.0,1450000.0,null,null,null,null,2130000.0,null,2100000.0,2470000.0,2895000.0,2880000.0,1145000.0,2785000.0,2550000.0,3670000.0,null,2150000.0,3150000.0,3600000.0,2950000.0,3650000.0,3300000.0,3855000.0,3000000.0,4100000.0,null,1900000.0,1642000.0,1855000.0,2900000.0,3125000.0,2850000.0,1660000.0,1621000.0,1690000.0,null,null,2761000.0,5500000.0,2670000.0,2300000.0,2580000.0,2450000.0,2850000.0,2100000.0],\"xbins\":{\"size\":500000},\"type\":\"histogram\",\"xaxis\":\"x3\",\"yaxis\":\"y3\"},{\"autobinx\":false,\"name\":\"Lane Cove\",\"x\":[2300000.0,2270500.0,2385000.0,2700000.0,3350000.0,2100000.0,2610000.0,2085500.0,1875000.0,3220000.0,2978000.0,2325000.0,1805000.0,2690000.0,null,null,null,null,null,null,null,null,null,null,null,null,null,null,null,null,null,null,null,null,2000000.0,3900000.0,null,null,null,null,2850000.0,2700000.0,1910000.0,1775000.0,null,1750000.0,2750000.0,3180000.0,null,3510000.0,3800000.0,5750000.0,2700000.0,1790000.0,2150000.0,null,5820248.0,1750000.0,1987500.0,4580000.0,3550000.0,2850000.0,2160000.0,2675000.0,3290000.0,1800000.0,null,2050000.0,2302000.0,2282500.0,2280000.0,3100000.0,1565000.0,1950000.0,1505000.0,3875000.0,2000000.0,null,3600000.0,1395000.0,2800000.0,2125000.0,1803500.0,1770000.0,3300000.0,2650000.0,3225000.0,2700000.0,3280000.0,null,1570000.0,2271000.0,2020000.0,2860000.0,3100000.0,2320000.0,null,1590000.0,1350000.0,2204444.0,1250000.0,2380500.0,3101000.0,2680000.0,2439000.0,2350000.0,2800000.0,4500000.0,2525000.0,null,1670000.0,2950000.0,1650000.0,2263000.0,2300000.0,1930000.0,2507000.0,2050000.0,null],\"xbins\":{\"size\":500000},\"type\":\"histogram\",\"xaxis\":\"x4\",\"yaxis\":\"y4\"},{\"autobinx\":false,\"name\":\"Meadowbank\",\"x\":[2700000.0,2710000.0,2360000.0,730000.0,null],\"xbins\":{\"size\":500000},\"type\":\"histogram\",\"xaxis\":\"x5\",\"yaxis\":\"y5\"},{\"autobinx\":false,\"name\":\"Summer Hill\",\"x\":[2350000.0,2185000.0,2550000.0,4280000.0,2900000.0,3600000.0,3300000.0,3150000.0,1062000.0,3470000.0,1495000.0,1590000.0,1467000.0,3560000.0,3150000.0,3150000.0,1685000.0,1355000.0,1955000.0,1620000.0,1385000.0,2450000.0,2000000.0,2505000.0,2250000.0,1110000.0,2070000.0,1770000.0,1460000.0,2700000.0,1550500.0,1900000.0,3700000.0,1450000.0,1600000.0,1620000.0,2080000.0,null,null,null,null,2025000.0,null,null,null,1350000.0,null,1857000.0,null,null,1680000.0,null,1735000.0,null,null,1950000.0,2050000.0,1705000.0,4000000.0,1810000.0,2260000.0,2075000.0,2150000.0,1440000.0,3790000.0,null,890000.0,null,null,null,1725000.0,1400000.0,1600000.0,2220000.0,1650500.0,2020000.0,2055000.0],\"xbins\":{\"size\":500000},\"type\":\"histogram\",\"xaxis\":\"x6\",\"yaxis\":\"y6\"},{\"autobinx\":false,\"name\":\"Rydalmere\",\"x\":[1800000.0,1365000.0,1715000.0,1970000.0,1740000.0,1660000.0,1610000.0,1330000.0,1600000.0,1610000.0,1630000.0,1050000.0,1380000.0,1814000.0,1080500.0,1652000.0,1830000.0,1570000.0,1800000.0,1590000.0,1785000.0,1905000.0,1190000.0,1800000.0,1310000.0,1833000.0,1875000.0,1570000.0,1375000.0,1180000.0,1540000.0,1275000.0,1900000.0,1287000.0,1408000.0,800000.0,990000.0,1370000.0,3625000.0,1640000.0,1800000.0,1600000.0,1478000.0,1350000.0,1665000.0,1030000.0,1470000.0,1330000.0,1630000.0,1352000.0,890000.0,1479000.0,1260000.0,1801000.0,1390000.0,1420000.0,800000.0,1030000.0,865000.0,1550000.0,1660000.0,1180000.0,1680000.0,1210000.0,1420000.0,1399000.0,1130000.0,970000.0,1237000.0,1750000.0,1775000.0,1120000.0,1400000.0,1270000.0,810000.0,1500000.0,1320000.0,null,null,null,null,null,1225000.0,1550000.0,1600000.0,null,null,1450000.0,null,1410000.0,1635000.0,970000.0,null,null,1800000.0,1750000.0,1960000.0,1320000.0,1575000.0],\"xbins\":{\"size\":500000},\"type\":\"histogram\",\"xaxis\":\"x7\",\"yaxis\":\"y7\"},{\"autobinx\":false,\"name\":\"Rosehill\",\"x\":[790000.0,800000.0,450000.0,440000.0,2870000.0,1063000.0,3000000.0,825500.0,870000.0,787000.0,1013000.0,375000.0,955000.0,605000.0,510000.0,null,1431000.0,710000.0],\"xbins\":{\"size\":500000},\"type\":\"histogram\",\"xaxis\":\"x8\",\"yaxis\":\"y8\"},{\"autobinx\":false,\"name\":\"Westmead\",\"x\":[1310000.0,1730000.0,2312000.0,690000.0,685000.0,1900000.0,1900000.0,1800000.0,1400000.0,3040000.0,4510000.0,1800000.0,820000.0,1030000.0,1536000.0,600000.0,556000.0,1705000.0,2100000.0,1665000.0,660000.0,1583000.0,1410053.0,1960000.0,1650000.0,1321000.0,1860000.0,657000.0,1900000.0,1036000.0,1818000.0,1030000.0,1600000.0,1580000.0,1800000.0,1190000.0,1765000.0,1805000.0,1591000.0,1725000.0,1770000.0,1390000.0,2360000.0,1260000.0,1520000.0,1792000.0,1880000.0,1040000.0,null,1500000.0,550000.0,2500000.0],\"xbins\":{\"size\":500000},\"type\":\"histogram\",\"xaxis\":\"x9\",\"yaxis\":\"y9\"},{\"autobinx\":false,\"name\":\"Girraween\",\"x\":[1025000.0,895000.0,1175000.0,862000.0,900000.0,838000.0,1757000.0,740000.0,895000.0,1040000.0,845000.0,1601000.0,770000.0,918000.0,896000.0,931000.0,1740000.0,2000000.0,1740000.0,1185000.0,845000.0,790000.0,1010000.0,891000.0,830000.0,1436000.0,950000.0,1782000.0,825000.0,1072000.0,1008000.0,860000.0,830000.0,830000.0,622000.0,1055000.0,870000.0,900000.0,1100000.0,1600000.0,1300000.0,617000.0,792000.0,612000.0,740000.0,750000.0,995000.0,745000.0,760000.0,915000.0,1356000.0,1235000.0,1110000.0,965000.0,730000.0,1205000.0,735000.0,1991000.0,1118000.0,1047000.0,930000.0,1095000.0,1227000.0,1132000.0,1070000.0,733000.0,848100.0,931000.0,828000.0,971000.0,765000.0,905000.0,960000.0,743000.0,710000.0,842500.0,835000.0,738000.0,1530000.0,882000.0,1000000.0,1200000.0,950000.0,1050000.0,870000.0,870000.0,673000.0,1090000.0,null,null,null,null,null,null,null,801000.0,null,745000.0,901000.0,665000.0,705000.0,null,1470000.0,1000000.0,1801000.0,1410000.0,740000.0,612000.0,null,null,801000.0,null,835000.0,null,751000.0,null,null,null],\"xbins\":{\"size\":500000},\"type\":\"histogram\",\"xaxis\":\"x10\",\"yaxis\":\"y10\"},{\"autobinx\":false,\"name\":\"Beaumont Hills\",\"x\":[1700000.0,1525000.0,2150000.0,1535000.0,1600000.0,2060000.0,1600000.0,1700000.0,1513000.0,1240000.0,1802500.0,1900000.0,1880000.0,1580000.0,2100000.0,2150000.0,1550000.0,1600000.0,1740000.0,1851000.0,1910000.0,1435000.0,1615000.0,1760000.0,1605000.0,2060000.0,1570000.0,1650000.0,2068000.0,1480000.0,1802500.0,1800000.0,1612500.0,1450000.0,1755000.0,1700000.0,1810000.0,1720000.0,1599000.0,1410000.0,1510000.0,1827000.0,1800000.0,1710000.0,1775000.0,1250000.0,1550000.0,1696000.0,1800000.0,1800000.0,1155000.0,1606000.0,1480500.0,1693000.0,1700000.0,1650000.0,1620000.0,1570000.0,1337500.0,1950000.0,1710000.0,1390000.0,1480000.0,1335000.0,1190000.0,1270000.0,1500000.0,1200500.0,2001000.0,1470000.0,1455000.0,1220000.0,1700000.0,1488000.0,1611500.0,1801000.0,1650000.0,1560000.0,1600000.0,1730000.0,1950000.0,1676000.0,1565000.0,1420000.0,1560000.0,1190000.0,1451101.0,1390000.0,1350000.0,1342000.0,1475000.0,1425000.0,1190000.0,1120000.0,1610000.0,1150000.0,1285000.0,1470000.0,1350000.0,1250000.0,1250000.0,1290000.0,1280000.0,1150000.0,1620000.0,1343000.0,1350000.0,1400000.0,1600000.0,1975000.0,1625000.0,1785000.0,1550000.0,1513000.0,1300000.0,1065000.0],\"xbins\":{\"size\":500000},\"type\":\"histogram\",\"xaxis\":\"x11\",\"yaxis\":\"y11\"},{\"autobinx\":false,\"name\":\"Kellyville Ridge\",\"x\":[1450000.0,2105000.0,1615000.0,1660000.0,2300000.0,1790000.0,1300000.0,1615000.0,1310000.0,1900000.0,1850000.0,1290000.0,1645000.0,1580000.0,1580000.0,1360000.0,1825000.0,1982000.0,1570000.0,2052000.0,1595000.0,1250000.0,1600000.0,1760000.0,1250000.0,1475000.0,1260000.0,1205000.0,1700000.0,1360000.0,1790000.0,1460000.0,1525000.0,1330000.0,1665000.0,1576000.0,735000.0,1755000.0,1580000.0,1555000.0,1550000.0,1665000.0,720000.0,1500000.0,1297000.0,1855000.0,1595000.0,1540000.0,1470000.0,2300000.0,1535000.0,1600000.0,1460000.0,1350000.0,1312000.0,1650000.0,1280000.0,1350000.0,1470000.0,1305000.0,1359000.0,1675000.0,1475000.0,1700000.0,690000.0,1525000.0,1442000.0,1405000.0,1300000.0,1289000.0,1410000.0,1310000.0,1005000.0,1460000.0,2313000.0,1700000.0,1340000.0,1541000.0,1210000.0,947000.0,1050000.0,1265000.0,1235000.0,1800000.0,1550000.0,1157000.0,1551000.0,960000.0,1255000.0,1567000.0,1412000.0,1500000.0,1430000.0,1385000.0,1430000.0,1425000.0,1353000.0,1120000.0,990000.0,1420000.0,835000.0,1472000.0,1220000.0,1425000.0,1411000.0,1211000.0,1351000.0,1416000.0,1370000.0,1400000.0,1350000.0,1325000.0,990000.0,1467000.0,1000000.0,1230000.0,970000.0,825000.0,1300000.0,1150000.0,1118000.0,1345000.0,1153000.0,1220000.0,900000.0,1382000.0,900000.0,1500000.0],\"xbins\":{\"size\":500000},\"type\":\"histogram\",\"xaxis\":\"x12\",\"yaxis\":\"y12\"},{\"autobinx\":false,\"name\":\"The Ponds\",\"x\":[1702500.0,1571000.0,1500000.0,1631000.0,1450000.0,1901000.0,1400000.0,1657500.0,1620000.0,1915000.0,1335000.0,1595000.0,1780000.0,1568000.0,1025000.0,1610000.0,1570000.0,1170000.0,1587000.0,805000.0,1980000.0,1200000.0,1616000.0,1570000.0,1335000.0,1748000.0,1266000.0,1860000.0,1568000.0,2000000.0,1420000.0,1248000.0,1870000.0,1600000.0,1155000.0,1145000.0,1107500.0,1630000.0,1572000.0,1740000.0,1670000.0,1310000.0,1730000.0,1560000.0,1755000.0,1680000.0,1678000.0,1070000.0,1550000.0,827500.0,1915000.0,1200000.0,1665000.0,1315000.0,1581004.0,1730000.0,1533000.0,1630000.0,1730000.0,1670000.0,1545000.0,1482000.0,1600000.0,1591000.0,1350000.0,1230000.0,1470000.0,1300000.0,1575000.0,1140000.0,1700000.0,1330000.0,1562000.0,1365000.0,2100000.0,1530000.0,1900000.0,1317000.0,810000.0,1115000.0,965000.0,1620000.0,1385000.0,1660000.0,1760000.0,1650000.0,1385888.0,1880000.0,1222500.0,1500000.0,1650000.0,1420000.0,1820000.0,1350000.0,1520000.0,1475000.0,1330000.0,1650000.0,1620000.0,1480000.0,1740000.0,1375000.0,1550000.0,1125000.0,1590000.0,1250000.0,1545000.0,1720000.0,1515000.0,1490000.0,1561000.0,1000000.0,1500000.0,1930000.0,1565000.0,1559000.0,1435000.0,1680000.0,1410000.0,1437500.0,1130000.0,1880000.0,1665000.0,1365000.0,1475000.0,1399000.0,1470888.0,1400000.0,1400000.0,1090000.0,1181000.0,1675000.0,1377000.0,1041000.0,1500000.0,1090000.0,1350000.0,1420000.0,1680000.0,1450000.0,1360000.0,1475000.0,1710000.0,1370000.0,1250000.0,1049950.0,1510000.0,1500000.0,1310000.0,1051000.0,1655000.0,1520000.0,1715000.0,1365000.0,1291000.0,1200000.0,1551500.0,1340000.0,1710000.0,1260000.0,985000.0,925000.0,1360000.0,1230000.0,1585000.0,1475000.0,1360000.0,1542000.0,1502000.0,1365000.0,1220000.0,1800000.0,1370000.0,1033000.0,995000.0,1330000.0,740000.0,1065000.0,1330000.0,1035000.0,1010000.0,1405000.0,1401000.0,1550000.0,1065000.0,1625000.0,1450000.0,1415000.0,1230000.0,1270000.0,1603000.0,1900000.0,1030100.0,1480000.0,1465000.0,1315000.0,1391000.0,1330000.0,1060000.0,1000000.0,1355000.0,1355000.0,730000.0,1625000.0,1675000.0,1105000.0,1654000.0,1252000.0,1376000.0,1365000.0,1500000.0,1250000.0,1360250.0,1325000.0,1258000.0,1080000.0,803000.0,1000000.0,1150000.0,1455000.0,1390000.0,1150000.0,1017000.0,1015000.0,980000.0,1350000.0,920000.0,1400000.0,985000.0,1070000.0,867500.0,1500000.0,980000.0,1185000.0,945000.0,980000.0,1080000.0,960000.0,980101.0,1210000.0,1650000.0,1605000.0,1500000.0],\"xbins\":{\"size\":500000},\"type\":\"histogram\",\"xaxis\":\"x13\",\"yaxis\":\"y13\"},{\"autobinx\":false,\"name\":\"Schofields\",\"x\":[850000.0,1280000.0,1170000.0,1250000.0,1355000.0,950000.0,1250000.0,1150000.0,1035000.0,1080000.0,1050000.0,1100000.0,1241000.0,1365000.0,1238000.0,1070000.0,920000.0,1335000.0,1130000.0,1102500.0,1535000.0,1180000.0,790000.0,1100000.0,1505000.0,1235000.0,1380000.0,1315000.0,1570000.0,980000.0,1193000.0,1150000.0,1530000.0,1080000.0,940000.0,1580000.0,1180000.0,1215000.0,1420000.0,1290000.0,1095000.0,1110000.0,1305000.0,1520000.0,1391000.0,1030000.0,936000.0,973000.0,1250000.0,900000.0,1300000.0,1260000.0,855000.0,1100000.0,1180000.0,917000.0,1205000.0,890000.0,1490000.0,1396770.0,1230000.0,1065000.0,915000.0,1400000.0,1180000.0,1320000.0,1230000.0,1145000.0,850000.0,1190000.0,1165000.0,1356000.0,1265500.0,1166000.0,915000.0,830000.0,1080000.0,876000.0,968000.0,1365000.0,755000.0,1135000.0,1390000.0,1465000.0,1365000.0,1361000.0,1330000.0,1270000.0,1310000.0,1080000.0,885000.0,865000.0,1105000.0,887000.0,1140000.0,1275000.0,1170000.0,1098500.0,965000.0,1300000.0,1175000.0,1480000.0,1454000.0,907000.0,1300000.0,1210786.0,1060000.0,2150000.0,1395000.0,1300000.0,1280000.0,828000.0,1125000.0,1020000.0,1100000.0,1580000.0,900000.0,1362500.0,1305000.0,1335000.0,1215000.0,1275000.0,1140000.0,1350000.0,1270000.0,1220000.0,1065000.0,1020000.0,782000.0,782000.0,803000.0,1210000.0,1175000.0,1400000.0,1585000.0,1280000.0,1205000.0,1200000.0,1390000.0,1305000.0,835000.0,1150000.0,961888.0,1400000.0,1025000.0,1451000.0,890000.0,1520000.0,1160000.0,1340000.0,1131000.0,1300000.0,1380000.0,1125000.0,1360000.0,1243000.0,775000.0,1381000.0,1250000.0,1185000.0,1500000.0,1275100.0,1350000.0,1147000.0,1002500.0,1320000.0,1251000.0,790000.0,760000.0,1100000.0,1130000.0,1035000.0,950000.0,943000.0,910000.0,910000.0,1115800.0,1000000.0,950000.0,925000.0,850000.0,1322000.0,1065000.0,825000.0,780000.0,1183000.0,1100000.0,1100000.0,1350000.0,1100000.0,765000.0,1250000.0,1275000.0,1001000.0,995000.0,1375000.0,1300000.0,1280000.0,1200000.0,1071000.0,980000.0,1515000.0,745000.0,1344000.0,1190000.0,1015000.0,1430000.0,1010000.0,920000.0,1110000.0,1011000.0,918000.0,1200000.0,970000.0,890000.0,1421000.0,690000.0,1050000.0,1053000.0,928000.0,1330000.0,1110000.0,835000.0,990000.0,1030140.0,1215000.0,1110000.0,955000.0,830000.0,1290000.0,1046666.0,900000.0,860000.0,1250000.0,960000.0,725000.0,1010000.0,1051000.0,742500.0,986000.0,1000000.0,860000.0,770000.0,722000.0,1220000.0,1272000.0,1020000.0,940500.0,928000.0,1120000.0,1150000.0,1182000.0,1000000.0,1182500.0,875000.0,1265000.0,900000.0,1135000.0,870000.0,1150000.0,914500.0,900000.0,825000.0,1395000.0,825000.0,1160000.0,1131000.0,1065000.0,945000.0,1655000.0,860000.0,880000.0,1358000.0,991000.0,985000.0,980000.0,972000.0,730000.0,880000.0,860000.0,845000.0,815000.0,975000.0,1080000.0,935000.0,1000000.0,1155000.0,790000.0,937500.0,995000.0,735000.0,1132000.0,855000.0,960000.0,1062500.0,750500.0,952000.0,855000.0,1080000.0,1550000.0,900000.0,1002500.0,1502000.0,1487500.0,881000.0,840000.0,795100.0,986000.0,1300000.0,1000000.0,865000.0,1450000.0,1022500.0,1019000.0,928000.0,833500.0,1100000.0,1100000.0,682000.0,1020000.0,942000.0,980000.0,905000.0,850000.0,881000.0,1425000.0,986000.0,896000.0,725000.0,1500000.0,1010000.0,1215000.0,980000.0,975000.0,935000.0,852000.0,1330000.0,970000.0,550000.0,824000.0,950000.0,765000.0,1025000.0,725000.0,1015000.0,902000.0,995000.0,960000.0,842000.0,1422500.0,790000.0,935000.0,555000.0,775000.0,700000.0,1510000.0,1302000.0,875000.0,1310100.0,820000.0,1299900.0,1000000.0,1758410.0,1296000.0,1220000.0,811000.0,1280000.0,1230000.0,916000.0,1340000.0,2000000.0,1496260.0,1490030.0,1414900.0,1290290.0,1273340.0,1273230.0,1273230.0,1250000.0,1227110.0,1215115.0,1186055.0,1145820.0,1361000.0,1250000.0,1072950.0,780000.0,760000.0,1423605.0,1270015.0,1171000.0,817950.0,1320000.0,1325000.0,1070000.0,750000.0,1250000.0,1381000.0,1280000.0,920000.0,1236000.0,790000.0,760000.0,833000.0,950000.0,910000.0,1100000.0,985000.0,1176000.0,920000.0,745000.0,930000.0,850000.0,999990.0,850000.0,1130000.0,1128880.0,1100000.0,1080000.0,1075200.0,1064000.0,969200.0,970000.0,1120000.0,504990.0,1200000.0,820000.0,1168000.0,820000.0,900000.0,830000.0,800000.0,1012000.0,769990.0,890000.0,820000.0,1018000.0,850000.0,786000.0,900000.0,1139999.0,929000.0,797000.0,910000.0,868000.0,945000.0,685000.0,1000000.0,1049000.0,960000.0,1085470.0,915000.0,908000.0,540000.0,900000.0,765000.0,910000.0,879000.0,920000.0,909000.0,929000.0,939000.0],\"xbins\":{\"size\":500000},\"type\":\"histogram\",\"xaxis\":\"x14\",\"yaxis\":\"y14\"},{\"autobinx\":false,\"name\":\"Marsden Park\",\"x\":[1205000.0,740000.0,700000.0,1300000.0,951147.0,1440000.0,1425000.0,1070000.0,1125000.0,1050000.0,952500.0,1322000.0,700000.0,1040000.0,1175000.0,1275000.0,1140000.0,1150000.0,925000.0,1255000.0,1210000.0,1185000.0,1285000.0,1150000.0,1130000.0,770000.0,960000.0,1385000.0,1210000.0,1179000.0,1190000.0,1150000.0,1045000.0,775000.0,1300000.0,1158000.0,1068000.0,1150000.0,1360000.0,1320000.0,1310000.0,1175000.0,1498000.0,1050000.0,1510000.0,1070000.0,1125000.0,1385000.0,1255000.0,1200000.0,1132000.0,1050000.0,1200000.0,1370000.0,960000.0,1635000.0,1350000.0,1335000.0,1360000.0,1405000.0,1320000.0,1170000.0,1100000.0,1335000.0,1305000.0,1190000.0,1240000.0,1615000.0,1380000.0,1400000.0,1261000.0,1100000.0,915000.0,1200000.0,1120000.0,1400000.0,1050000.0,1165000.0,1490000.0,1450000.0,920000.0,1215200.0,1610000.0,1500000.0,1472500.0,1150000.0,1275000.0,1235000.0,1400000.0,930000.0,1500000.0,1250000.0,1110000.0,855000.0,1400000.0,1000000.0,1039800.0,1485000.0,1137000.0,1060000.0,1095000.0,1145000.0,910000.0,905000.0,1350000.0,672000.0,1195000.0,1005000.0,1565000.0,1112000.0,1455000.0,1200000.0,930000.0,1280000.0,1256000.0,1099000.0,1415000.0,980000.0,685000.0,1155000.0,970000.0,820000.0,1425000.0,1170000.0,895000.0,930000.0,1340000.0,1200000.0,1550000.0,1082000.0,875000.0,1150000.0,1118000.0,1005000.0,1390000.0,1155000.0,1060000.0,950000.0,870000.0,1160000.0,1190000.0,1075000.0,1180000.0,1300000.0,1025000.0,1088000.0,950000.0,1270000.0,990000.0,1008000.0,1060000.0,850000.0,1151000.0,1275000.0,1032000.0,1130000.0,958000.0,842000.0,1370000.0,1390000.0,1115000.0,1292000.0,1135000.0,1087500.0,1172500.0,1072000.0,1160000.0,762000.0,1060000.0,1100000.0,1420000.0,1030000.0,902000.0,1050000.0,685000.0,971000.0,965000.0,930000.0,930000.0,1120000.0,1010000.0,930000.0,1068000.0,1205000.0,885000.0,1120000.0,790000.0,1047000.0,835000.0,930000.0,965000.0,1150000.0,1360000.0,1105000.0,1000000.0,940000.0,879000.0,990000.0,1290000.0,990000.0,965000.0,832000.0,1170000.0,905000.0,870000.0,831000.0,685000.0,1040000.0,1222000.0,796000.0,1125000.0,1110000.0,780500.0,1042000.0,1150000.0,935000.0,1050000.0,1040000.0,1265000.0,935000.0,850000.0,952000.0,900000.0,985000.0,835000.0,1299999.0,960500.0,1255000.0,1075000.0,865000.0,750000.0,910000.0,900000.0,1030000.0,630000.0,964000.0,1000000.0,918000.0,1192000.0,1030000.0,945000.0,1345000.0,930000.0,882000.0,1300000.0,1240000.0,923500.0,920000.0,820000.0,940000.0,815000.0,891000.0,895000.0,955000.0,948000.0,1045000.0,1260000.0,870000.0,850000.0,1191000.0,810000.0,880000.0,630000.0,851000.0,960000.0,848000.0,985000.0,872000.0,945000.0,940000.0,875000.0,840000.0,1160000.0,825000.0,945000.0,1005000.0,796000.0,1075000.0,710000.0,845000.0,865000.0,635000.0,1109000.0,1134000.0,1257000.0,1200000.0,1350000.0,1220000.0,1100000.0,14000000.0,1300900.0,1200000.0,1100000.0,1185000.0,725000.0,1160000.0,700000.0,1335000.0,1250000.0,1339990.0,1125000.0,1043400.0,1395000.0,960000.0,1160000.0,1090000.0,967000.0,1200500.0,995000.0,1600000.0,1400000.0,1250000.0,910000.0,700000.0,925000.0,1260000.0,992000.0,1400000.0,910000.0,1000000.0,890200.0,1035400.0,1034500.0,1240000.0,1200000.0,890000.0,1130000.0,1200000.0,950000.0,1010000.0,920000.0,1100000.0,950000.0,930000.0,1120.0,1180000.0,855000.0,853000.0,847000.0,1060000.0,980000.0,924900.0,1072500.0,990000.0,860000.0,840000.0,890000.0,1021500.0,943950.0,975000.0,1180000.0,834700.0,1060000.0,920000.0,1050000.0,900000.0,898000.0,840000.0,1030000.0,750000.0,1230000.0,870000.0,903000.0,948000.0,867000.0,810000.0,849000.0,995000.0,876000.0,780000.0,949000.0,850000.0,950000.0,1110000.0,1110000.0,1219620.0,890000.0,1079000.0,865000.0,1179000.0,950000.0,900000.0,1129000.0,979000.0,895000.0,1159000.0,960000.0,1070000.0,800000.0,830000.0,850000.0,1100000.0,930000.0,845000.0,785990.0,1039000.0,949000.0,918000.0,979000.0,539000.0,870000.0,865000.0,960000.0,920510.0,929000.0,869999.0,888900.0,865900.0,979000.0,875000.0,890000.0,790000.0,929000.0,850000.0,720500.0,900000.0,815000.0,850000.0,914900.0,960000.0,790000.0,860000.0,1180000.0,910000.0,700000.0,1200000.0,750000.0,890000.0,850000.0,845000.0,745000.0,800000.0,800000.0,780000.0,820000.0,1400000.0,500000.0,877500.0,790000.0,790000.0,790000.0,777000.0,750000.0,960000.0,932000.0,860000.0,980000.0,850000.0,780000.0,745000.0,850000.0,750000.0,825000.0,850000.0,632000.0,865000.0],\"xbins\":{\"size\":500000},\"type\":\"histogram\",\"xaxis\":\"x15\",\"yaxis\":\"y15\"},{\"autobinx\":false,\"name\":\"Kings Langley\",\"x\":[1120000.0,1314000.0,1400000.0,1335000.0,1345500.0,1565000.0,1500000.0,1410000.0,1471000.0,1260000.0,1350000.0,1370000.0,1450000.0,1525000.0,1305000.0,1212000.0,1261000.0,1175000.0,1400000.0,1460000.0,1470000.0,1540000.0,1288500.0,1275000.0,1140000.0,1200000.0,1567000.0,1050000.0,1450000.0,1250000.0,1600000.0,1350000.0,1780000.0,935000.0,1360000.0,1075000.0,1550000.0,1600000.0,1340000.0,1805000.0,1373000.0,1400000.0,1670000.0,1352500.0,1510000.0,905000.0,1650000.0,1495000.0,1350000.0,1132000.0,1450000.0,1300000.0,1070000.0,1180000.0,1380000.0,1172500.0,1180000.0,1256000.0,1210500.0,1260000.0,1215000.0,822000.0,1230000.0,1125000.0,1115000.0,1230000.0,1155000.0,1375000.0,1380000.0,1420000.0,1290000.0,1100000.0,1360000.0,1185000.0,780000.0,1370000.0,1380000.0,1272000.0,765000.0,1250000.0,906400.0,1336000.0,1475000.0,1301000.0,1205000.0,1071000.0,1103000.0,1315000.0,942000.0,1196000.0,740000.0,1220000.0,950000.0,1460000.0,1470000.0,1140000.0,1350000.0,1450000.0],\"xbins\":{\"size\":500000},\"type\":\"histogram\",\"xaxis\":\"x16\",\"yaxis\":\"y16\"},{\"autobinx\":false,\"name\":\"Bella Vista\",\"x\":[2300000.0,5000000.0,2150000.0,2041000.0,3400000.0,2180000.0,2425000.0,2050000.0,1250000.0,3850000.0,4500000.0,1570000.0,1388000.0,2323232.0,1300000.0,3660000.0,2350000.0,2360000.0,3000000.0,2100000.0,2255000.0,1116100.0,2106000.0,1500500.0,1390000.0,3320000.0,2360000.0,2670000.0,2025000.0,1885000.0,2080000.0,998000.0,3100000.0,1635000.0,1905000.0,1805000.0,2610000.0,1180000.0,2810000.0,1820000.0,2275000.0,1940000.0,1970000.0,1537000.0,2655000.0,1410000.0,2280000.0,1900000.0,3500000.0,2400000.0,1925000.0,1900000.0,2410000.0,2001000.0,2250000.0,2500000.0,3300000.0,2355000.0,1375000.0,2630000.0,2500000.0,1925000.0,1265000.0,null],\"xbins\":{\"size\":500000},\"type\":\"histogram\",\"xaxis\":\"x17\",\"yaxis\":\"y17\"},{\"autobinx\":false,\"name\":\"Box Hill\",\"x\":[1445000.0,1225000.0,1147000.0,1405000.0,1360000.0,1380000.0,1522000.0,1280000.0,1200000.0,1450000.0,1425000.0,1125000.0,1790000.0,1727500.0,1150000.0,1070000.0,1140000.0,1305000.0,1160000.0,1110000.0,1180500.0,1380000.0,1310000.0,1460000.0,1310000.0,1270000.0,1100000.0,2273000.0,1450000.0,1007670.0,2400000.0,1350000.0,1107000.0,2455000.0,1600000.0,1850000.0,1350000.0,1477000.0,1320000.0,1775000.0,1535000.0,1060000.0,1367000.0,1280000.0,1400001.0,1480000.0,1128000.0,1100000.0,1110000.0,1400000.0,1415000.0,1280000.0,1908000.0,1170000.0,1410000.0,1236000.0,1270000.0,1415000.0,1680000.0,1180000.0,1390000.0,1860000.0,1300000.0,1368000.0,1500000.0,1420000.0,1300000.0,1100000.0,1400000.0,1130000.0,1835000.0,1300000.0,1200000.0,1285000.0,1630000.0,1380000.0,1100000.0,1025000.0,1420000.0,1645000.0,1350000.0,1680000.0,1245000.0,1055000.0,1508000.0,1250000.0,1180000.0,1240000.0,2600000.0,1250000.0,1060000.0,1270888.0,1070000.0,1140000.0,1040000.0,1021000.0,1000000.0,1270000.0,1226650.0,965000.0,990000.0,1500000.0,2310000.0,1585000.0,940000.0,1130000.0,950000.0,1500000.0,1070000.0,930000.0,1250000.0,1225000.0,1450000.0,1600000.0,1350000.0,1290000.0,1200000.0,1370000.0,17900000.0,1256550.0,1320000.0,1400000.0,1310000.0,895000.0,1130000.0,1755000.0,1575000.0,1050000.0,1050000.0,1040000.0,1030000.0,1015000.0,1220000.0,1600000.0,1150000.0,960000.0,936500.0,1280000.0,1302000.0,1170000.0,780000.0,1010000.0,1110000.0,1098888.0,1012000.0,985000.0,930000.0,958000.0,822000.0,940000.0,1160000.0,905000.0,985000.0,1400000.0,805000.0,775000.0,1825000.0,900000.0,1525000.0,1195000.0,995000.0,885000.0,835000.0,828000.0,965000.0,852000.0,1245000.0,857500.0,1095000.0,1400000.0,1013000.0,749900.0,886000.0,970000.0,1100000.0,1167000.0,1560000.0,1288000.0,1134000.0,1240300.0,1290330.0,1369780.0,1288000.0,1200000.0,1221540.0,1383000.0,1113000.0,1200000.0,998000.0,3490000.0,1196900.0,1278000.0,1288330.0,1255920.0,1266600.0,1239900.0,1359933.0,1267000.0,1205000.0,1380900.0,1560000.0,1450000.0,1350000.0,1300000.0,1300000.0,1200000.0,1650000.0,1200000.0,1653000.0,1300000.0,1167000.0,979000.0,1300000.0,1150000.0,1128000.0,1045000.0,940000.0,1375000.0,888000.0,1092900.0,1077900.0,1040900.0,1080000.0,898000.0,869000.0,1189600.0,1120100.0,1049500.0,1026500.0,1200000.0,1130676.0,1299990.0,810000.0,805000.0,2100000.0,950000.0,950000.0,1209330.0,1170400.0,999880.0,785000.0,1079000.0,779000.0,779000.0,7300000.0,798000.0,15210000.0,1082000.0,1140300.0,1400000.0,973600.0,897890.0,950000.0,1380000.0,905000.0,997000.0,890000.0,888000.0,759000.0,1022000.0,997600.0,898973.0,1129000.0,1200000.0,1189000.0,1950000.0,1089000.0,1033000.0,868000.0,849000.0,765000.0,929000.0,919000.0,930000.0,840000.0,1200000.0,1159000.0,2200000.0,701000.0,1129000.0,1129000.0,1029000.0,1139000.0,1069000.0,962000.0,1169000.0,1110000.0,780000.0,1123000.0,1099000.0,869000.0,1109000.0,1159000.0,920000.0,895000.0,889000.0,849000.0,790000.0,813000.0,949000.0,965000.0,898000.0,898000.0,893000.0,827900.0,823900.0,813000.0,813000.0,748900.0,758050.0,860000.0,1002000.0,779000.0,929000.0,905000.0,760000.0,1125000.0,899900.0,1089000.0,1019000.0,809000.0,799000.0,879000.0,828900.0,779000.0,780000.0,1019000.0,949000.0,849000.0,1049000.0,919000.0,929000.0,1059000.0,1029000.0,720000.0,1079000.0,1199000.0,929000.0,845000.0,845000.0,799800.0,716234.0,1200000.0,1149000.0,885000.0,844000.0,749900.0,1099000.0,882000.0,919000.0,750000.0,750000.0,750000.0,1230000.0,835000.0,750000.0,920000.0,940000.0,845000.0,1009000.0,885000.0,820000.0,null,null,null,null,null,null,null,null,null,null,null,null,null,null,null,null,null,null,null,null,null,null,null,null,null,null,null,null,null,null,null,null,null,null,null,null,null,null,null,null,null,null,null,null,null,null,null,null,null,null,null,1290000.0,1240000.0,null,null,null,null,null,null,null,null,null,null,null,null,null,null,null,null,null,null,null,null,null,null,null,null,null,null,null,null,null,null,null,null,null,null,null,null,null,null,null,null,null,null,null,null,null,null,null,null,1365000.0,1240000.0,1025000.0,null,null,null,null,null,1045000.0,null,null,1425000.0,1170000.0,null,null,1070000.0,null,null,null,null,1270000.0,1240000.0,null,1055000.0,null,105000.0,1045000.0,null,null,null,null,null,null,null,null,null,null,975000.0,null,null,null,null,null],\"xbins\":{\"size\":500000},\"type\":\"histogram\",\"xaxis\":\"x18\",\"yaxis\":\"y18\"},{\"autobinx\":false,\"name\":\"Pennant Hills\",\"x\":[3050000.0,2382500.0,1315000.0,1670000.0,1970001.0,1430000.0,1960000.0,1930000.0,1340000.0,2580000.0,2000000.0,1520000.0,1810000.0,2900000.0,1240000.0,1850000.0,2060000.0,1125000.0,1800000.0,2500000.0,1900000.0,1480000.0,1990000.0,1915000.0,2455000.0,2000000.0,1105000.0,1400000.0,1640000.0,2226000.0,2660000.0,2280000.0,2425000.0,2200000.0,2250000.0,1600000.0,2050000.0,1510000.0,1355000.0,2100000.0,1800000.0,1367500.0,1705800.0,2050000.0,1892000.0,1780000.0,1350000.0,1570000.0,2200000.0,1575000.0,2330000.0,1645000.0,2325000.0,2317000.0,1827000.0,1780000.0,2100000.0,1505000.0,1249000.0,1915000.0,1420000.0,1600000.0,1413000.0,1645000.0,1558000.0,null,null,null,2230000.0,1960000.0,2000000.0,1550000.0,2413333.0,1600000.0,1380000.0,null,1792000.0,1055000.0],\"xbins\":{\"size\":500000},\"type\":\"histogram\",\"xaxis\":\"x19\",\"yaxis\":\"y19\"},{\"autobinx\":false,\"name\":\"Earlwood\",\"x\":[3000000.0,1786000.0,2810000.0,2715000.0,1855000.0,1720000.0,1351500.0,2000000.0,2275000.0,1940000.0,1900000.0,1660000.0,1100000.0,1980000.0,2575000.0,2260000.0,2465000.0,1810000.0,1550000.0,1250000.0,1370000.0,2280000.0,2200000.0,1660000.0,1615000.0,1500000.0,880000.0,1680000.0,2025000.0,1790000.0,735000.0,2060000.0,1618000.0,1525000.0,1900000.0,3500000.0,2620000.0,1580000.0,1315000.0,2000000.0,1850000.0,1710000.0,3100000.0,1610000.0,3100000.0,1805000.0,1980000.0,2550000.0,1925000.0,2300000.0,1570000.0,1730000.0,1850000.0,1200000.0,2190000.0,1845000.0,2211000.0,2220000.0,2880000.0,2800000.0,2500500.0,1800000.0,2020000.0,1650000.0,1950000.0,1847000.0,2158000.0,2350000.0,3625000.0,1835000.0,1700000.0,3310000.0,1600000.0,1605000.0,1710000.0,2550000.0,1525000.0,2125000.0,2770000.0,1950000.0,1400000.0,1340000.0,1990000.0,1701321.0,2400000.0,2650000.0,2370000.0,1848800.0,1600000.0,2500000.0,1415000.0,2000000.0,2570000.0,1750000.0,1540000.0,2250000.0,1860000.0,2260000.0,1580000.0,1070000.0,2690000.0,2300000.0,2200000.0,1625000.0,1450500.0,1451000.0,1400000.0,1800000.0,2500000.0,1720000.0,1625000.0,2456000.0,1762000.0,1740000.0,2400000.0,1550000.0,1728000.0,1665000.0,1980000.0,1725000.0,1850000.0,1820000.0,1830000.0,1580000.0,1475000.0,960000.0,1650000.0,2175000.0,2250000.0,1545000.0,2175000.0,1770000.0,1600000.0,2301000.0,1531000.0,1170000.0,1300000.0,1250000.0,1745000.0,1875000.0,1680000.0,1510000.0,1140000.0,1614000.0,2160000.0,1350000.0,2200000.0,1450000.0,2000000.0,2900000.0,1720000.0,3100000.0,2720000.0,2100000.0,1265000.0,3000000.0,1800000.0,1665000.0,1325000.0,1600000.0,2020000.0,2050000.0,2500000.0,1219000.0,1825000.0,1585000.0,1200000.0],\"xbins\":{\"size\":500000},\"type\":\"histogram\",\"xaxis\":\"x20\",\"yaxis\":\"y20\"},{\"autobinx\":false,\"name\":\"Marrickville\",\"x\":[2100000.0,1940000.0,1900000.0,965000.0,1730000.0,2610000.0,2117000.0,2550000.0,2227500.0,2100000.0,1855000.0,1950000.0,1780000.0,1900000.0,1805000.0,2270000.0,1320000.0,2050000.0,1305000.0,2502000.0,2150000.0,1800000.0,2000000.0,2400000.0,3270000.0,2245000.0,1920000.0,3500000.0,2030000.0,2100000.0,1850000.0,1870000.0,2200000.0,1830000.0,1725000.0,1265000.0,2650000.0,3155000.0,2211000.0,1900000.0,2128000.0,1475000.0,2400000.0,1820000.0,2180000.0,1830000.0,1502500.0,1816500.0,1855000.0,1750000.0,1505000.0,2000000.0,2320000.0,1630000.0,1305000.0,1900000.0,2875000.0,2110000.0,1600000.0,3500000.0,2205000.0,2275000.0,1712000.0,2000000.0,1980000.0,2445000.0,2200000.0,3150000.0,2050000.0,2100000.0,1930000.0,1600000.0,1327000.0,1725000.0,1730000.0,2455000.0,3300000.0,1760000.0,1707500.0,1400000.0,2330000.0,2870000.0,2050000.0,2350000.0,1510000.0,2301000.0,1675000.0,1241000.0,1700000.0,1466000.0,2435500.0,1705000.0,1338000.0,2335000.0,1705000.0,1700000.0,975000.0,1705000.0,1725000.0,2601000.0,1885000.0,1785000.0,1790000.0,1570000.0,1390000.0,1540000.0,1600000.0,1750000.0,1130000.0,2190000.0,2015000.0,1550000.0,3400000.0,2710000.0,1900000.0,1730000.0,1465000.0,2225000.0,1880000.0,1830000.0,1540000.0,2280000.0,2210000.0,1675000.0,2180000.0,2405000.0,2400000.0,1900000.0,1665000.0,1650000.0,1460000.0,2600000.0,1415000.0,1325000.0,2550000.0,1730000.0,1350000.0,1000000.0,2050000.0,1520000.0,1400000.0,1530000.0,1675000.0,1680000.0,3500000.0,1675000.0,2230000.0,1850000.0,2200000.0,2040000.0,1515000.0,2000000.0,2900000.0,2380000.0,1650000.0,2900000.0,1740000.0,1660000.0,1375000.0,1400000.0,1350000.0,1485000.0,1450000.0,2641000.0,1945000.0,1580000.0,1540000.0,2304000.0,1595000.0,1895000.0,1735000.0,1270000.0,2450000.0],\"xbins\":{\"size\":500000},\"type\":\"histogram\",\"xaxis\":\"x21\",\"yaxis\":\"y21\"},{\"autobinx\":false,\"name\":\"Dulwich\",\"x\":[1481000.0,1521000.0,923000.0,1100000.0,2010000.0,1113000.0,855000.0,985000.0,1450000.0,1600000.0,1452000.0,null,null,null,null,null,null],\"xbins\":{\"size\":500000},\"type\":\"histogram\",\"xaxis\":\"x22\",\"yaxis\":\"y22\"},{\"autobinx\":false,\"name\":\"Petersham\",\"x\":[2350000.0,1580000.0,1880000.0,1805000.0,1700000.0,2900000.0,3110000.0,1325000.0,2630000.0,1700000.0,2375000.0,1500000.0,3120000.0,1685000.0,1655000.0,1600000.0,3050000.0,2183000.0,1300000.0,2300000.0,1762500.0,2340000.0,2880000.0,1621000.0,1890000.0,1835000.0,1805000.0,1730000.0,1900000.0,2760000.0,1930000.0,1657000.0,1665000.0,1680500.0,2600000.0,2270000.0,2060000.0,2550000.0,1510000.0,1200000.0,1950000.0,1705000.0,2140000.0,1720000.0,1510000.0,1755000.0,1670000.0,1475000.0,2480000.0,1412000.0,2350000.0,1340000.0,null,null,null,null,null,null,null,1700000.0,null,null,2240000.0,1625000.0,1990000.0,1900000.0,1823000.0,2050000.0,null,2750000.0,1300000.0,2850000.0,1762500.0,2150000.0,3650000.0,2411500.0,2476000.0,2400000.0,2300000.0,1853000.0,2001000.0,2380000.0,2305000.0,2910000.0,null,2535000.0,1571000.0,1555000.0,1800000.0,null,1630000.0,null,2160000.0,null,null,2110000.0,2180000.0,1521000.0,1750000.0,1730000.0,1600000.0,2635000.0,2050000.0,1415000.0,2191000.0,2340000.0,1700000.0,1300000.0,2661000.0,1960000.0],\"xbins\":{\"size\":500000},\"type\":\"histogram\",\"xaxis\":\"x23\",\"yaxis\":\"y23\"},{\"autobinx\":false,\"name\":\"Campsie\",\"x\":[1500000.0,1250000.0,1400000.0,800000.0,1600000.0,2000000.0,1210000.0,811000.0,1535000.0,1460000.0,1300000.0,1555000.0,740000.0,1850000.0,1800000.0,1500000.0,1525000.0,1340000.0,928000.0,870000.0,1336000.0,990000.0,962500.0,1900000.0,1375000.0,1350000.0,1800000.0,1205000.0,1365000.0,1650000.0,2350000.0,1650000.0,1425000.0,1485000.0,1227000.0,1140000.0,1300000.0,1650000.0,1450000.0,975000.0,1865000.0,1300000.0,1700000.0,2200000.0,2195000.0,1310000.0,1370000.0,1062000.0,1070000.0,1560000.0,1795000.0,1731000.0,3600000.0,1450000.0,1405000.0,1950000.0,1180000.0,980000.0,1200000.0,1475000.0,962500.0,1300000.0,815000.0,1790000.0,1250000.0,1360000.0,892000.0,1250000.0,1499000.0,1804000.0,1000000.0,1376000.0,1070000.0,1560000.0,1449000.0,1120000.0,733000.0,920000.0,1251000.0,1005000.0,1400000.0,null,null,null,null,null,1380000.0,null,null,1245000.0,null,null,null,1145000.0,null,1285000.0,2404000.0,1085101.0,null,null,1605000.0,null,1480000.0,null,1120000.0,848000.0,1305000.0,1938888.0,null,null,900000.0,null,null,1237000.0,960000.0,null,null,null,null,1005000.0,null],\"xbins\":{\"size\":500000},\"type\":\"histogram\",\"xaxis\":\"x24\",\"yaxis\":\"y24\"},{\"autobinx\":false,\"name\":\"Canterbury\",\"x\":[1150000.0,1600000.0,1900000.0,1530000.0,1500000.0,1575000.0,1500000.0,1370000.0,1300000.0,1510000.0,2185000.0],\"xbins\":{\"size\":500000},\"type\":\"histogram\",\"xaxis\":\"x25\",\"yaxis\":\"y25\"}],                        {\"template\":{\"data\":{\"bar\":[{\"error_x\":{\"color\":\"#2a3f5f\"},\"error_y\":{\"color\":\"#2a3f5f\"},\"marker\":{\"line\":{\"color\":\"#E5ECF6\",\"width\":0.5},\"pattern\":{\"fillmode\":\"overlay\",\"size\":10,\"solidity\":0.2}},\"type\":\"bar\"}],\"barpolar\":[{\"marker\":{\"line\":{\"color\":\"#E5ECF6\",\"width\":0.5},\"pattern\":{\"fillmode\":\"overlay\",\"size\":10,\"solidity\":0.2}},\"type\":\"barpolar\"}],\"carpet\":[{\"aaxis\":{\"endlinecolor\":\"#2a3f5f\",\"gridcolor\":\"white\",\"linecolor\":\"white\",\"minorgridcolor\":\"white\",\"startlinecolor\":\"#2a3f5f\"},\"baxis\":{\"endlinecolor\":\"#2a3f5f\",\"gridcolor\":\"white\",\"linecolor\":\"white\",\"minorgridcolor\":\"white\",\"startlinecolor\":\"#2a3f5f\"},\"type\":\"carpet\"}],\"choropleth\":[{\"colorbar\":{\"outlinewidth\":0,\"ticks\":\"\"},\"type\":\"choropleth\"}],\"contour\":[{\"colorbar\":{\"outlinewidth\":0,\"ticks\":\"\"},\"colorscale\":[[0.0,\"#0d0887\"],[0.1111111111111111,\"#46039f\"],[0.2222222222222222,\"#7201a8\"],[0.3333333333333333,\"#9c179e\"],[0.4444444444444444,\"#bd3786\"],[0.5555555555555556,\"#d8576b\"],[0.6666666666666666,\"#ed7953\"],[0.7777777777777778,\"#fb9f3a\"],[0.8888888888888888,\"#fdca26\"],[1.0,\"#f0f921\"]],\"type\":\"contour\"}],\"contourcarpet\":[{\"colorbar\":{\"outlinewidth\":0,\"ticks\":\"\"},\"type\":\"contourcarpet\"}],\"heatmap\":[{\"colorbar\":{\"outlinewidth\":0,\"ticks\":\"\"},\"colorscale\":[[0.0,\"#0d0887\"],[0.1111111111111111,\"#46039f\"],[0.2222222222222222,\"#7201a8\"],[0.3333333333333333,\"#9c179e\"],[0.4444444444444444,\"#bd3786\"],[0.5555555555555556,\"#d8576b\"],[0.6666666666666666,\"#ed7953\"],[0.7777777777777778,\"#fb9f3a\"],[0.8888888888888888,\"#fdca26\"],[1.0,\"#f0f921\"]],\"type\":\"heatmap\"}],\"heatmapgl\":[{\"colorbar\":{\"outlinewidth\":0,\"ticks\":\"\"},\"colorscale\":[[0.0,\"#0d0887\"],[0.1111111111111111,\"#46039f\"],[0.2222222222222222,\"#7201a8\"],[0.3333333333333333,\"#9c179e\"],[0.4444444444444444,\"#bd3786\"],[0.5555555555555556,\"#d8576b\"],[0.6666666666666666,\"#ed7953\"],[0.7777777777777778,\"#fb9f3a\"],[0.8888888888888888,\"#fdca26\"],[1.0,\"#f0f921\"]],\"type\":\"heatmapgl\"}],\"histogram\":[{\"marker\":{\"pattern\":{\"fillmode\":\"overlay\",\"size\":10,\"solidity\":0.2}},\"type\":\"histogram\"}],\"histogram2d\":[{\"colorbar\":{\"outlinewidth\":0,\"ticks\":\"\"},\"colorscale\":[[0.0,\"#0d0887\"],[0.1111111111111111,\"#46039f\"],[0.2222222222222222,\"#7201a8\"],[0.3333333333333333,\"#9c179e\"],[0.4444444444444444,\"#bd3786\"],[0.5555555555555556,\"#d8576b\"],[0.6666666666666666,\"#ed7953\"],[0.7777777777777778,\"#fb9f3a\"],[0.8888888888888888,\"#fdca26\"],[1.0,\"#f0f921\"]],\"type\":\"histogram2d\"}],\"histogram2dcontour\":[{\"colorbar\":{\"outlinewidth\":0,\"ticks\":\"\"},\"colorscale\":[[0.0,\"#0d0887\"],[0.1111111111111111,\"#46039f\"],[0.2222222222222222,\"#7201a8\"],[0.3333333333333333,\"#9c179e\"],[0.4444444444444444,\"#bd3786\"],[0.5555555555555556,\"#d8576b\"],[0.6666666666666666,\"#ed7953\"],[0.7777777777777778,\"#fb9f3a\"],[0.8888888888888888,\"#fdca26\"],[1.0,\"#f0f921\"]],\"type\":\"histogram2dcontour\"}],\"mesh3d\":[{\"colorbar\":{\"outlinewidth\":0,\"ticks\":\"\"},\"type\":\"mesh3d\"}],\"parcoords\":[{\"line\":{\"colorbar\":{\"outlinewidth\":0,\"ticks\":\"\"}},\"type\":\"parcoords\"}],\"pie\":[{\"automargin\":true,\"type\":\"pie\"}],\"scatter\":[{\"marker\":{\"colorbar\":{\"outlinewidth\":0,\"ticks\":\"\"}},\"type\":\"scatter\"}],\"scatter3d\":[{\"line\":{\"colorbar\":{\"outlinewidth\":0,\"ticks\":\"\"}},\"marker\":{\"colorbar\":{\"outlinewidth\":0,\"ticks\":\"\"}},\"type\":\"scatter3d\"}],\"scattercarpet\":[{\"marker\":{\"colorbar\":{\"outlinewidth\":0,\"ticks\":\"\"}},\"type\":\"scattercarpet\"}],\"scattergeo\":[{\"marker\":{\"colorbar\":{\"outlinewidth\":0,\"ticks\":\"\"}},\"type\":\"scattergeo\"}],\"scattergl\":[{\"marker\":{\"colorbar\":{\"outlinewidth\":0,\"ticks\":\"\"}},\"type\":\"scattergl\"}],\"scattermapbox\":[{\"marker\":{\"colorbar\":{\"outlinewidth\":0,\"ticks\":\"\"}},\"type\":\"scattermapbox\"}],\"scatterpolar\":[{\"marker\":{\"colorbar\":{\"outlinewidth\":0,\"ticks\":\"\"}},\"type\":\"scatterpolar\"}],\"scatterpolargl\":[{\"marker\":{\"colorbar\":{\"outlinewidth\":0,\"ticks\":\"\"}},\"type\":\"scatterpolargl\"}],\"scatterternary\":[{\"marker\":{\"colorbar\":{\"outlinewidth\":0,\"ticks\":\"\"}},\"type\":\"scatterternary\"}],\"surface\":[{\"colorbar\":{\"outlinewidth\":0,\"ticks\":\"\"},\"colorscale\":[[0.0,\"#0d0887\"],[0.1111111111111111,\"#46039f\"],[0.2222222222222222,\"#7201a8\"],[0.3333333333333333,\"#9c179e\"],[0.4444444444444444,\"#bd3786\"],[0.5555555555555556,\"#d8576b\"],[0.6666666666666666,\"#ed7953\"],[0.7777777777777778,\"#fb9f3a\"],[0.8888888888888888,\"#fdca26\"],[1.0,\"#f0f921\"]],\"type\":\"surface\"}],\"table\":[{\"cells\":{\"fill\":{\"color\":\"#EBF0F8\"},\"line\":{\"color\":\"white\"}},\"header\":{\"fill\":{\"color\":\"#C8D4E3\"},\"line\":{\"color\":\"white\"}},\"type\":\"table\"}]},\"layout\":{\"annotationdefaults\":{\"arrowcolor\":\"#2a3f5f\",\"arrowhead\":0,\"arrowwidth\":1},\"autotypenumbers\":\"strict\",\"coloraxis\":{\"colorbar\":{\"outlinewidth\":0,\"ticks\":\"\"}},\"colorscale\":{\"diverging\":[[0,\"#8e0152\"],[0.1,\"#c51b7d\"],[0.2,\"#de77ae\"],[0.3,\"#f1b6da\"],[0.4,\"#fde0ef\"],[0.5,\"#f7f7f7\"],[0.6,\"#e6f5d0\"],[0.7,\"#b8e186\"],[0.8,\"#7fbc41\"],[0.9,\"#4d9221\"],[1,\"#276419\"]],\"sequential\":[[0.0,\"#0d0887\"],[0.1111111111111111,\"#46039f\"],[0.2222222222222222,\"#7201a8\"],[0.3333333333333333,\"#9c179e\"],[0.4444444444444444,\"#bd3786\"],[0.5555555555555556,\"#d8576b\"],[0.6666666666666666,\"#ed7953\"],[0.7777777777777778,\"#fb9f3a\"],[0.8888888888888888,\"#fdca26\"],[1.0,\"#f0f921\"]],\"sequentialminus\":[[0.0,\"#0d0887\"],[0.1111111111111111,\"#46039f\"],[0.2222222222222222,\"#7201a8\"],[0.3333333333333333,\"#9c179e\"],[0.4444444444444444,\"#bd3786\"],[0.5555555555555556,\"#d8576b\"],[0.6666666666666666,\"#ed7953\"],[0.7777777777777778,\"#fb9f3a\"],[0.8888888888888888,\"#fdca26\"],[1.0,\"#f0f921\"]]},\"colorway\":[\"#636efa\",\"#EF553B\",\"#00cc96\",\"#ab63fa\",\"#FFA15A\",\"#19d3f3\",\"#FF6692\",\"#B6E880\",\"#FF97FF\",\"#FECB52\"],\"font\":{\"color\":\"#2a3f5f\"},\"geo\":{\"bgcolor\":\"white\",\"lakecolor\":\"white\",\"landcolor\":\"#E5ECF6\",\"showlakes\":true,\"showland\":true,\"subunitcolor\":\"white\"},\"hoverlabel\":{\"align\":\"left\"},\"hovermode\":\"closest\",\"mapbox\":{\"style\":\"light\"},\"paper_bgcolor\":\"white\",\"plot_bgcolor\":\"#E5ECF6\",\"polar\":{\"angularaxis\":{\"gridcolor\":\"white\",\"linecolor\":\"white\",\"ticks\":\"\"},\"bgcolor\":\"#E5ECF6\",\"radialaxis\":{\"gridcolor\":\"white\",\"linecolor\":\"white\",\"ticks\":\"\"}},\"scene\":{\"xaxis\":{\"backgroundcolor\":\"#E5ECF6\",\"gridcolor\":\"white\",\"gridwidth\":2,\"linecolor\":\"white\",\"showbackground\":true,\"ticks\":\"\",\"zerolinecolor\":\"white\"},\"yaxis\":{\"backgroundcolor\":\"#E5ECF6\",\"gridcolor\":\"white\",\"gridwidth\":2,\"linecolor\":\"white\",\"showbackground\":true,\"ticks\":\"\",\"zerolinecolor\":\"white\"},\"zaxis\":{\"backgroundcolor\":\"#E5ECF6\",\"gridcolor\":\"white\",\"gridwidth\":2,\"linecolor\":\"white\",\"showbackground\":true,\"ticks\":\"\",\"zerolinecolor\":\"white\"}},\"shapedefaults\":{\"line\":{\"color\":\"#2a3f5f\"}},\"ternary\":{\"aaxis\":{\"gridcolor\":\"white\",\"linecolor\":\"white\",\"ticks\":\"\"},\"baxis\":{\"gridcolor\":\"white\",\"linecolor\":\"white\",\"ticks\":\"\"},\"bgcolor\":\"#E5ECF6\",\"caxis\":{\"gridcolor\":\"white\",\"linecolor\":\"white\",\"ticks\":\"\"}},\"title\":{\"x\":0.05},\"xaxis\":{\"automargin\":true,\"gridcolor\":\"white\",\"linecolor\":\"white\",\"ticks\":\"\",\"title\":{\"standoff\":15},\"zerolinecolor\":\"white\",\"zerolinewidth\":2},\"yaxis\":{\"automargin\":true,\"gridcolor\":\"white\",\"linecolor\":\"white\",\"ticks\":\"\",\"title\":{\"standoff\":15},\"zerolinecolor\":\"white\",\"zerolinewidth\":2}}},\"xaxis\":{\"anchor\":\"y\",\"domain\":[0.0,0.16799999999999998],\"matches\":\"x21\",\"showticklabels\":false,\"range\":[0,4000000]},\"yaxis\":{\"anchor\":\"x\",\"domain\":[0.848,1.0],\"range\":[0,150]},\"xaxis2\":{\"anchor\":\"y2\",\"domain\":[0.208,0.376],\"matches\":\"x22\",\"showticklabels\":false,\"range\":[0,4000000]},\"yaxis2\":{\"anchor\":\"x2\",\"domain\":[0.848,1.0],\"matches\":\"y\",\"showticklabels\":false,\"range\":[0,150]},\"xaxis3\":{\"anchor\":\"y3\",\"domain\":[0.416,0.584],\"matches\":\"x23\",\"showticklabels\":false,\"range\":[0,4000000]},\"yaxis3\":{\"anchor\":\"x3\",\"domain\":[0.848,1.0],\"matches\":\"y\",\"showticklabels\":false,\"range\":[0,150]},\"xaxis4\":{\"anchor\":\"y4\",\"domain\":[0.624,0.792],\"matches\":\"x24\",\"showticklabels\":false,\"range\":[0,4000000]},\"yaxis4\":{\"anchor\":\"x4\",\"domain\":[0.848,1.0],\"matches\":\"y\",\"showticklabels\":false,\"range\":[0,150]},\"xaxis5\":{\"anchor\":\"y5\",\"domain\":[0.832,1.0],\"matches\":\"x25\",\"showticklabels\":false,\"range\":[0,4000000]},\"yaxis5\":{\"anchor\":\"x5\",\"domain\":[0.848,1.0],\"matches\":\"y\",\"showticklabels\":false,\"range\":[0,150]},\"xaxis6\":{\"anchor\":\"y6\",\"domain\":[0.0,0.16799999999999998],\"matches\":\"x21\",\"showticklabels\":false,\"range\":[0,4000000]},\"yaxis6\":{\"anchor\":\"x6\",\"domain\":[0.6359999999999999,0.7879999999999999],\"range\":[0,150]},\"xaxis7\":{\"anchor\":\"y7\",\"domain\":[0.208,0.376],\"matches\":\"x22\",\"showticklabels\":false,\"range\":[0,4000000]},\"yaxis7\":{\"anchor\":\"x7\",\"domain\":[0.6359999999999999,0.7879999999999999],\"matches\":\"y6\",\"showticklabels\":false,\"range\":[0,150]},\"xaxis8\":{\"anchor\":\"y8\",\"domain\":[0.416,0.584],\"matches\":\"x23\",\"showticklabels\":false,\"range\":[0,4000000]},\"yaxis8\":{\"anchor\":\"x8\",\"domain\":[0.6359999999999999,0.7879999999999999],\"matches\":\"y6\",\"showticklabels\":false,\"range\":[0,150]},\"xaxis9\":{\"anchor\":\"y9\",\"domain\":[0.624,0.792],\"matches\":\"x24\",\"showticklabels\":false,\"range\":[0,4000000]},\"yaxis9\":{\"anchor\":\"x9\",\"domain\":[0.6359999999999999,0.7879999999999999],\"matches\":\"y6\",\"showticklabels\":false,\"range\":[0,150]},\"xaxis10\":{\"anchor\":\"y10\",\"domain\":[0.832,1.0],\"matches\":\"x25\",\"showticklabels\":false,\"range\":[0,4000000]},\"yaxis10\":{\"anchor\":\"x10\",\"domain\":[0.6359999999999999,0.7879999999999999],\"matches\":\"y6\",\"showticklabels\":false,\"range\":[0,150]},\"xaxis11\":{\"anchor\":\"y11\",\"domain\":[0.0,0.16799999999999998],\"matches\":\"x21\",\"showticklabels\":false,\"range\":[0,4000000]},\"yaxis11\":{\"anchor\":\"x11\",\"domain\":[0.424,0.576],\"range\":[0,150]},\"xaxis12\":{\"anchor\":\"y12\",\"domain\":[0.208,0.376],\"matches\":\"x22\",\"showticklabels\":false,\"range\":[0,4000000]},\"yaxis12\":{\"anchor\":\"x12\",\"domain\":[0.424,0.576],\"matches\":\"y11\",\"showticklabels\":false,\"range\":[0,150]},\"xaxis13\":{\"anchor\":\"y13\",\"domain\":[0.416,0.584],\"matches\":\"x23\",\"showticklabels\":false,\"range\":[0,4000000]},\"yaxis13\":{\"anchor\":\"x13\",\"domain\":[0.424,0.576],\"matches\":\"y11\",\"showticklabels\":false,\"range\":[0,150]},\"xaxis14\":{\"anchor\":\"y14\",\"domain\":[0.624,0.792],\"matches\":\"x24\",\"showticklabels\":false,\"range\":[0,4000000]},\"yaxis14\":{\"anchor\":\"x14\",\"domain\":[0.424,0.576],\"matches\":\"y11\",\"showticklabels\":false,\"range\":[0,150]},\"xaxis15\":{\"anchor\":\"y15\",\"domain\":[0.832,1.0],\"matches\":\"x25\",\"showticklabels\":false,\"range\":[0,4000000]},\"yaxis15\":{\"anchor\":\"x15\",\"domain\":[0.424,0.576],\"matches\":\"y11\",\"showticklabels\":false,\"range\":[0,150]},\"xaxis16\":{\"anchor\":\"y16\",\"domain\":[0.0,0.16799999999999998],\"matches\":\"x21\",\"showticklabels\":false,\"range\":[0,4000000]},\"yaxis16\":{\"anchor\":\"x16\",\"domain\":[0.212,0.364],\"range\":[0,150]},\"xaxis17\":{\"anchor\":\"y17\",\"domain\":[0.208,0.376],\"matches\":\"x22\",\"showticklabels\":false,\"range\":[0,4000000]},\"yaxis17\":{\"anchor\":\"x17\",\"domain\":[0.212,0.364],\"matches\":\"y16\",\"showticklabels\":false,\"range\":[0,150]},\"xaxis18\":{\"anchor\":\"y18\",\"domain\":[0.416,0.584],\"matches\":\"x23\",\"showticklabels\":false,\"range\":[0,4000000]},\"yaxis18\":{\"anchor\":\"x18\",\"domain\":[0.212,0.364],\"matches\":\"y16\",\"showticklabels\":false,\"range\":[0,150]},\"xaxis19\":{\"anchor\":\"y19\",\"domain\":[0.624,0.792],\"matches\":\"x24\",\"showticklabels\":false,\"range\":[0,4000000]},\"yaxis19\":{\"anchor\":\"x19\",\"domain\":[0.212,0.364],\"matches\":\"y16\",\"showticklabels\":false,\"range\":[0,150]},\"xaxis20\":{\"anchor\":\"y20\",\"domain\":[0.832,1.0],\"matches\":\"x25\",\"showticklabels\":false,\"range\":[0,4000000]},\"yaxis20\":{\"anchor\":\"x20\",\"domain\":[0.212,0.364],\"matches\":\"y16\",\"showticklabels\":false,\"range\":[0,150]},\"xaxis21\":{\"anchor\":\"y21\",\"domain\":[0.0,0.16799999999999998],\"range\":[0,4000000]},\"yaxis21\":{\"anchor\":\"x21\",\"domain\":[0.0,0.152],\"range\":[0,150]},\"xaxis22\":{\"anchor\":\"y22\",\"domain\":[0.208,0.376],\"range\":[0,4000000]},\"yaxis22\":{\"anchor\":\"x22\",\"domain\":[0.0,0.152],\"matches\":\"y21\",\"showticklabels\":false,\"range\":[0,150]},\"xaxis23\":{\"anchor\":\"y23\",\"domain\":[0.416,0.584],\"range\":[0,4000000]},\"yaxis23\":{\"anchor\":\"x23\",\"domain\":[0.0,0.152],\"matches\":\"y21\",\"showticklabels\":false,\"range\":[0,150]},\"xaxis24\":{\"anchor\":\"y24\",\"domain\":[0.624,0.792],\"range\":[0,4000000]},\"yaxis24\":{\"anchor\":\"x24\",\"domain\":[0.0,0.152],\"matches\":\"y21\",\"showticklabels\":false,\"range\":[0,150]},\"xaxis25\":{\"anchor\":\"y25\",\"domain\":[0.832,1.0],\"range\":[0,4000000]},\"yaxis25\":{\"anchor\":\"x25\",\"domain\":[0.0,0.152],\"matches\":\"y21\",\"showticklabels\":false,\"range\":[0,150]}},                        {\"responsive\": true}                    ).then(function(){\n",
       "                            \n",
       "var gd = document.getElementById('f7b2054c-848b-4ad1-95e4-2e9bedbf4a93');\n",
       "var x = new MutationObserver(function (mutations, observer) {{\n",
       "        var display = window.getComputedStyle(gd).display;\n",
       "        if (!display || display === 'none') {{\n",
       "            console.log([gd, 'removed!']);\n",
       "            Plotly.purge(gd);\n",
       "            observer.disconnect();\n",
       "        }}\n",
       "}});\n",
       "\n",
       "// Listen for the removal of the full notebook cells\n",
       "var notebookContainer = gd.closest('#notebook-container');\n",
       "if (notebookContainer) {{\n",
       "    x.observe(notebookContainer, {childList: true});\n",
       "}}\n",
       "\n",
       "// Listen for the clearing of the current output cell\n",
       "var outputEl = gd.closest('.output');\n",
       "if (outputEl) {{\n",
       "    x.observe(outputEl, {childList: true});\n",
       "}}\n",
       "\n",
       "                        })                };                });            </script>        </div>"
      ]
     },
     "metadata": {},
     "output_type": "display_data"
    }
   ],
   "source": [
    "fig = make_subplots(\n",
    "    rows=5, cols=5\n",
    "    #     ,subplot_titles=(\"Plot 1\", \"Plot 2\", \"Plot 3\", \"Plot 4\")\n",
    "    ,shared_yaxes=True\n",
    "    ,shared_xaxes=True)\n",
    "\n",
    "df_numb=25\n",
    "for row in range(1,6):\n",
    "    for col in range(1,6):\n",
    "        suburb_df = suburb_list[df_numb]\n",
    "        suburb_df_price = suburb_df[suburb_df[\"sold_date_dt\"] >= dtm][\"price\"]\n",
    "                \n",
    "        if suburb_list[df_numb][\"suburb\"].count()>=1:\n",
    "            name = suburb_list[df_numb][\"suburb\"].unique()[0]\n",
    "            fig.update_xaxes(range=[0, 4000000], row=row, col=col)\n",
    "            fig.update_yaxes(range=[0, 150], row=row, col=col)\n",
    "            fig.add_trace(go.Histogram(x=suburb_df_price,xbins=dict(size=500000),autobinx = False, name=name),row =row, col=col)\n",
    "            \n",
    "        df_numb=df_numb+1                   \n",
    "\n",
    "fig.show()"
   ]
  },
  {
   "cell_type": "code",
   "execution_count": 41,
   "id": "a522a34f",
   "metadata": {
    "scrolled": true
   },
   "outputs": [
    {
     "ename": "IndexError",
     "evalue": "list index out of range",
     "output_type": "error",
     "traceback": [
      "\u001b[0;31m---------------------------------------------------------------------------\u001b[0m",
      "\u001b[0;31mIndexError\u001b[0m                                Traceback (most recent call last)",
      "Input \u001b[0;32mIn [41]\u001b[0m, in \u001b[0;36m<cell line: 8>\u001b[0;34m()\u001b[0m\n\u001b[1;32m      8\u001b[0m \u001b[38;5;28;01mfor\u001b[39;00m row \u001b[38;5;129;01min\u001b[39;00m \u001b[38;5;28mrange\u001b[39m(\u001b[38;5;241m1\u001b[39m,\u001b[38;5;241m6\u001b[39m):\n\u001b[1;32m      9\u001b[0m     \u001b[38;5;28;01mfor\u001b[39;00m col \u001b[38;5;129;01min\u001b[39;00m \u001b[38;5;28mrange\u001b[39m(\u001b[38;5;241m1\u001b[39m,\u001b[38;5;241m6\u001b[39m):\n\u001b[0;32m---> 10\u001b[0m         suburb_df \u001b[38;5;241m=\u001b[39m \u001b[43msuburb_list\u001b[49m\u001b[43m[\u001b[49m\u001b[43mdf_numb\u001b[49m\u001b[43m]\u001b[49m\n\u001b[1;32m     11\u001b[0m         suburb_df_price \u001b[38;5;241m=\u001b[39m suburb_df[suburb_df[\u001b[38;5;124m\"\u001b[39m\u001b[38;5;124msold_date_dt\u001b[39m\u001b[38;5;124m\"\u001b[39m] \u001b[38;5;241m>\u001b[39m\u001b[38;5;241m=\u001b[39m dtm][\u001b[38;5;124m\"\u001b[39m\u001b[38;5;124mprice\u001b[39m\u001b[38;5;124m\"\u001b[39m]\n\u001b[1;32m     13\u001b[0m         \u001b[38;5;28;01mif\u001b[39;00m df_numb \u001b[38;5;241m==\u001b[39m \u001b[38;5;241m73\u001b[39m:\n",
      "\u001b[0;31mIndexError\u001b[0m: list index out of range"
     ]
    }
   ],
   "source": [
    "fig = make_subplots(\n",
    "    rows=5, cols=5\n",
    "    #     ,subplot_titles=(\"Plot 1\", \"Plot 2\", \"Plot 3\", \"Plot 4\")\n",
    "    ,shared_yaxes=True\n",
    "    ,shared_xaxes=True)\n",
    "\n",
    "df_numb=51\n",
    "for row in range(1,6):\n",
    "    for col in range(1,6):\n",
    "        suburb_df = suburb_list[df_numb]\n",
    "        suburb_df_price = suburb_df[suburb_df[\"sold_date_dt\"] >= dtm][\"price\"]\n",
    "        \n",
    "        if df_numb == 73:\n",
    "            break\n",
    "        if suburb_list[df_numb][\"suburb\"].count()>=1:\n",
    "            name = suburb_list[df_numb][\"suburb\"].unique()[0]\n",
    "            fig.update_xaxes(range=[0, 4000000], row=row, col=col)\n",
    "            fig.update_yaxes(range=[0, 150], row=row, col=col)\n",
    "            fig.add_trace(go.Histogram(x=suburb_df_price,xbins=dict(size=500000),autobinx = False, name=name),row =row, col=col)\n",
    "            \n",
    "        df_numb=df_numb+1                   \n",
    "\n",
    "fig.show()"
   ]
  },
  {
   "cell_type": "code",
   "execution_count": 62,
   "id": "0eb10d8f",
   "metadata": {},
   "outputs": [
    {
     "data": {
      "application/vnd.plotly.v1+json": {
       "config": {
        "plotlyServerURL": "https://plot.ly"
       },
       "data": [
        {
         "autobinx": false,
         "name": "Epping",
         "type": "histogram",
         "x": [
          -1,
          -1,
          701.9,
          2396,
          733,
          282,
          999.2,
          847,
          733.5,
          733.5,
          -1,
          1012,
          500,
          828,
          231,
          714.5,
          639.3,
          843,
          309.6,
          752,
          -1,
          777,
          -1,
          208,
          891,
          986,
          739,
          765,
          904.2,
          714,
          758.8,
          676,
          602,
          700,
          601,
          500,
          369,
          228,
          190,
          746,
          676.4,
          695,
          -1,
          1189,
          696,
          954,
          848,
          695,
          987,
          -1,
          599,
          1042,
          460,
          752,
          765,
          -1,
          349,
          809.4,
          -1,
          663,
          -1,
          645,
          855.5,
          -1,
          1770,
          402,
          460,
          357,
          1069,
          708,
          -1,
          427,
          311,
          835,
          898,
          689,
          -1,
          430,
          767,
          -1,
          -1,
          836,
          890,
          460,
          830,
          1163,
          800,
          531.3,
          -1,
          -1,
          281,
          -1,
          -1,
          -1,
          828,
          771,
          617,
          978,
          -1,
          379,
          -1,
          720.8,
          689,
          929,
          701.9,
          -1,
          580,
          -1,
          500,
          -1,
          739.8,
          847,
          550.8,
          1271,
          -1,
          923,
          500,
          841,
          350,
          -1,
          777,
          -1,
          708,
          853,
          765,
          809,
          1056,
          667,
          577.3,
          -1,
          891.6,
          343.3,
          492,
          -1,
          1012,
          478.7,
          1005,
          541,
          674,
          201,
          344,
          1012,
          759,
          696,
          828,
          -1,
          391.4,
          -1,
          790,
          -1,
          720.8,
          -1,
          -1,
          645,
          1012,
          380,
          791,
          -1,
          1056,
          461,
          -1,
          701,
          -1,
          -1,
          -1,
          450,
          -1,
          -1,
          363,
          810,
          351,
          -1,
          310,
          -1,
          -1,
          752.5,
          740,
          -1,
          -1,
          923,
          -1,
          691,
          -1,
          -1,
          -1,
          585.3,
          593,
          404.1,
          676.6,
          733.5,
          -1,
          695,
          836,
          359,
          803,
          2007,
          607,
          -1,
          382.9,
          818.6,
          1151,
          -1,
          -1,
          771,
          401.5,
          803,
          -1,
          -1,
          765,
          -1,
          885,
          -1,
          702,
          -1,
          630,
          834,
          916
         ],
         "xaxis": "x",
         "xbins": {
          "size": 100
         },
         "yaxis": "y"
        },
        {
         "autobinx": false,
         "name": "North Rocks",
         "type": "histogram",
         "x": [
          1087.6,
          -1,
          715,
          721,
          -1,
          294,
          901.3,
          831,
          696,
          695.6,
          -1,
          -1,
          696,
          -1,
          696,
          325,
          739.5,
          -1,
          696,
          695,
          356,
          818,
          -1,
          -1,
          708,
          695.6,
          -1,
          -1,
          -1,
          696,
          695,
          797,
          -1,
          957,
          -1,
          695,
          -1,
          696,
          815,
          1296,
          708,
          695,
          721,
          242,
          -1,
          1676,
          1012,
          917,
          708,
          717,
          768,
          789,
          -1,
          -1,
          885,
          -1,
          696,
          695,
          898,
          696,
          696,
          695,
          752,
          739,
          828.3,
          -1,
          -1,
          696,
          -1,
          1296,
          1100,
          -1,
          698,
          729.2,
          696,
          -1,
          -1,
          776,
          -1,
          696,
          696,
          696,
          -1,
          696,
          695,
          1021,
          708,
          -1,
          1385,
          -1,
          843,
          -1,
          894,
          720,
          696,
          695.5,
          -1,
          -1,
          199,
          -1,
          769,
          696,
          -1,
          -1,
          695.6,
          -1,
          828,
          -1,
          904,
          -1
         ],
         "xaxis": "x2",
         "xbins": {
          "size": 100
         },
         "yaxis": "y2"
        },
        {
         "autobinx": false,
         "name": "Eastwood",
         "type": "histogram",
         "x": [
          716,
          581,
          -1,
          973,
          605,
          -1,
          -1,
          752,
          311,
          891.6,
          639,
          482,
          -1,
          -1,
          695.6,
          999,
          910,
          923,
          929.5,
          986,
          645,
          540.4,
          -1,
          332,
          708,
          1132,
          973.8,
          828,
          -1,
          392,
          -1,
          897,
          841,
          1012,
          421,
          -1,
          1587,
          -1,
          -1,
          188,
          696,
          948.5,
          676.5,
          -1,
          879,
          910.5,
          695.6,
          954,
          -1,
          632,
          575,
          436.8,
          892,
          -1,
          582,
          -1,
          1012,
          714,
          580,
          -1,
          682,
          396,
          1011,
          1000,
          651,
          -1,
          -1,
          879,
          1075,
          580.9,
          -1,
          695,
          714,
          551,
          639,
          916.9,
          -1,
          -1,
          -1,
          -1,
          702,
          1556,
          733.5,
          375,
          -1,
          860,
          462,
          562,
          985,
          947,
          728,
          -1,
          381,
          254,
          676,
          -1,
          -1,
          796,
          1012,
          663,
          695.6,
          -1,
          695,
          -1,
          350.6,
          253,
          461,
          580.3,
          588.1,
          -1,
          -1,
          765.1,
          -1,
          562,
          -1,
          1672,
          1091,
          475.9,
          293.1,
          594,
          916.9,
          891.6,
          1100,
          697,
          683,
          645,
          1017,
          727.2,
          915.1,
          394,
          348,
          -1,
          436.3,
          587,
          -1,
          -1,
          -1,
          682,
          796,
          613,
          733,
          525,
          -1,
          -1,
          675,
          -1,
          -1,
          331,
          892,
          657.6,
          417,
          -1,
          -1,
          632,
          329,
          -1,
          657.6,
          758,
          1081,
          916,
          -1,
          784,
          -1,
          1010,
          -1,
          1176,
          -1,
          1391,
          -1,
          -1,
          578.2,
          708,
          -1,
          -1,
          -1,
          338,
          -1,
          -1,
          -1,
          758.8,
          151,
          334,
          -1,
          334,
          164,
          231,
          620,
          384
         ],
         "xaxis": "x3",
         "xbins": {
          "size": 100
         },
         "yaxis": "y3"
        },
        {
         "autobinx": false,
         "name": "Baulkham Hills",
         "type": "histogram",
         "x": [
          -1,
          -1,
          -1,
          696,
          199,
          689,
          -1,
          -1,
          -1,
          696,
          -1,
          -1,
          929,
          751,
          929,
          974,
          750,
          750,
          -1,
          888,
          759,
          700,
          1486,
          902,
          696,
          695,
          -1,
          908,
          -1,
          -1,
          929.5,
          -1,
          310,
          696,
          312,
          696,
          867.1,
          -1,
          697.2,
          -1,
          695.5,
          290,
          847,
          746,
          695.6,
          697,
          824.7,
          -1,
          789,
          754,
          1151,
          -1,
          696,
          262,
          -1,
          750,
          695,
          750,
          -1,
          696,
          702,
          714,
          -1,
          -1,
          -1,
          -1,
          696,
          733.5,
          714,
          -1,
          -1,
          901,
          -1,
          -1,
          -1,
          904,
          695,
          701,
          695.6,
          766,
          -1,
          -1,
          698,
          -1,
          -1,
          -1,
          695,
          862,
          -1,
          -1,
          -1,
          750,
          351,
          695,
          695,
          766,
          -1,
          759,
          1341,
          -1,
          696,
          -1,
          695.6,
          -1,
          696,
          -1,
          -1,
          -1,
          -1,
          696,
          -1,
          250,
          -1,
          233,
          743.4,
          477.8,
          377,
          -1,
          -1,
          -1,
          696,
          -1,
          -1,
          259,
          -1,
          -1,
          -1,
          -1,
          708,
          782,
          948,
          697,
          750,
          -1,
          -1,
          697,
          287,
          259,
          -1,
          317.2,
          390,
          -1,
          696,
          -1,
          695,
          -1,
          750,
          689,
          -1,
          750,
          435,
          -1,
          773.6,
          375,
          783,
          -1,
          854,
          -1,
          -1,
          677,
          702,
          708,
          -1,
          696,
          803,
          -1,
          695,
          695,
          302,
          -1,
          -1,
          695,
          695,
          696,
          700,
          835,
          830,
          695,
          695,
          -1,
          750,
          702,
          -1,
          -1,
          754,
          696,
          -1,
          720,
          695,
          940,
          733.5,
          702,
          -1,
          -1,
          701,
          -1,
          695,
          750,
          755,
          696,
          696,
          -1,
          602.1,
          2124,
          444,
          -1,
          697,
          231,
          -1,
          695,
          -1,
          906,
          700,
          569.4,
          -1,
          -1,
          -1,
          696,
          753,
          696,
          -1,
          -1,
          -1,
          696,
          -1,
          904,
          815,
          -1,
          -1,
          696,
          181,
          720,
          -1,
          -1,
          698.6,
          861,
          754,
          702,
          -1,
          -1,
          929,
          695.5,
          -1,
          753,
          777,
          696,
          1170,
          -1,
          752,
          696,
          771,
          695,
          -1,
          -1,
          -1,
          -1,
          -1,
          860,
          -1,
          -1,
          -1,
          961,
          -1,
          703,
          -1,
          708,
          765,
          -1,
          715,
          -1,
          -1,
          689.2,
          670,
          -1,
          646.5,
          750,
          697,
          741,
          832.4,
          891,
          740,
          750,
          -1,
          350,
          696,
          -1,
          696,
          1238,
          -1
         ],
         "xaxis": "x4",
         "xbins": {
          "size": 100
         },
         "yaxis": "y4"
        },
        {
         "autobinx": false,
         "name": "Winston Hills",
         "type": "histogram",
         "x": [
          -1,
          -1,
          575.4,
          556,
          556,
          403,
          727,
          -1,
          784,
          -1,
          240,
          695.5,
          287,
          645,
          689,
          569.1,
          588.1,
          575,
          -1,
          562,
          556,
          556.4,
          563,
          569,
          600.9,
          556,
          556,
          746,
          651,
          619.6,
          727,
          721,
          556,
          -1,
          734,
          612,
          556.4,
          -1,
          -1,
          556,
          639,
          695,
          689,
          -1,
          478,
          649,
          556,
          575,
          613,
          556,
          -1,
          556,
          -1,
          556,
          556,
          556,
          556,
          563,
          -1,
          292.1,
          556,
          569,
          695,
          -1,
          900,
          570,
          -1,
          645,
          695,
          -1,
          714.5,
          -1,
          563,
          582,
          416,
          607,
          569,
          552,
          688,
          721,
          620,
          696,
          619.7,
          850,
          696,
          556,
          607,
          563,
          696,
          898,
          -1,
          -1,
          386,
          -1,
          601,
          -1,
          651,
          698,
          -1,
          -1,
          -1,
          692,
          695,
          -1
         ],
         "xaxis": "x5",
         "xbins": {
          "size": 100
         },
         "yaxis": "y5"
        },
        {
         "autobinx": false,
         "name": "Kellyville",
         "type": "histogram",
         "x": [
          622,
          733,
          542,
          701,
          334,
          501,
          -1,
          500,
          647,
          -1,
          449,
          -1,
          -1,
          488,
          -1,
          -1,
          754.2,
          590.2,
          -1,
          704.6,
          703,
          700,
          646,
          -1,
          -1,
          510,
          253,
          302,
          -1,
          -1,
          499,
          525,
          451,
          -1,
          -1,
          664,
          455,
          550,
          696,
          263.5,
          162.4,
          701,
          -1,
          -1,
          869,
          852.9,
          469,
          476,
          601,
          721,
          527,
          192,
          540,
          -1,
          702,
          405,
          -1,
          630,
          717.4,
          -1,
          -1,
          696,
          746,
          -1,
          540,
          523,
          -1,
          665,
          765,
          -1,
          -1,
          449,
          729.3,
          503,
          603,
          523,
          579,
          342,
          322,
          828,
          -1,
          325.1,
          450,
          682.5,
          494.2,
          450,
          583,
          434,
          -1,
          480.8,
          -1,
          -1,
          -1,
          457,
          270,
          702,
          697,
          723.8,
          698,
          700,
          -1,
          532,
          186,
          700,
          449,
          450,
          739,
          703.5,
          456,
          487,
          537.2,
          721,
          511,
          389,
          450,
          308.4,
          612,
          334.7,
          513.7,
          707.7,
          251,
          309,
          682,
          472,
          450,
          -1,
          513.3,
          500,
          743,
          730,
          258,
          490,
          510,
          -1,
          240,
          -1,
          294,
          332,
          400,
          502.6,
          504,
          526.1,
          503,
          -1,
          759.6,
          600,
          500.2,
          231,
          450,
          633,
          -1,
          525,
          -1,
          719,
          -1,
          645,
          526,
          450,
          701.9,
          700,
          449,
          -1,
          467.2,
          650,
          696,
          -1,
          -1,
          520,
          400,
          450,
          847.3,
          700,
          500,
          885,
          771,
          -1,
          700,
          450,
          699,
          758,
          329.7,
          706,
          450,
          765,
          696,
          569.6,
          523.9,
          563.2,
          700,
          -1,
          500,
          702,
          600,
          525.9,
          473,
          708,
          450,
          -1,
          305,
          -1,
          466,
          -1,
          275,
          450,
          -1,
          462,
          735,
          -1,
          700,
          607,
          802,
          697,
          768,
          467,
          -1,
          -1,
          652,
          -1,
          423.6,
          679,
          -1,
          -1,
          350,
          701,
          724,
          450,
          701,
          -1,
          714,
          697,
          450,
          340.3,
          -1,
          320,
          388,
          450,
          451,
          771,
          350,
          -1,
          -1,
          700,
          450,
          -1,
          713.9,
          566,
          368,
          -1,
          608,
          701,
          561,
          -1,
          170,
          700,
          -1,
          749
         ],
         "xaxis": "x6",
         "xbins": {
          "size": 100
         },
         "yaxis": "y6"
        },
        {
         "autobinx": false,
         "name": "Blacktown",
         "type": "histogram",
         "x": [
          210,
          239,
          562,
          -1,
          -1,
          556.4,
          -1,
          607,
          560,
          734,
          580,
          209,
          -1,
          -1,
          607,
          -1,
          556.4,
          556,
          562.8,
          645,
          188.3,
          562,
          -1,
          231,
          182,
          -1,
          -1,
          611,
          -1,
          556,
          556,
          -1,
          556,
          222,
          556,
          695,
          594,
          318.3,
          -1,
          594.4,
          562.8,
          250,
          328.5,
          613,
          -1,
          556.4,
          -1,
          556,
          -1,
          676,
          220,
          302,
          796,
          -1,
          186,
          589.6,
          1024,
          -1,
          251,
          556.4,
          556.4,
          280,
          230,
          330,
          -1,
          1180,
          556,
          -1,
          556,
          948,
          511,
          550,
          640,
          638.6,
          -1,
          607,
          752,
          575,
          595,
          676.6,
          1012,
          600.7,
          -1,
          580,
          575,
          588,
          -1,
          573,
          179,
          556.4,
          557.6,
          247,
          626,
          600.7,
          834.7,
          562.8,
          336,
          550,
          -1,
          569,
          -1,
          581,
          594,
          208,
          790,
          556,
          451,
          259,
          581,
          560.6,
          -1,
          -1,
          897,
          249,
          727,
          550,
          405,
          -1,
          569.1,
          -1,
          695,
          564,
          273,
          -1,
          569,
          560,
          600.7,
          594.4,
          543.8,
          562.8,
          430,
          556.4,
          -1,
          -1,
          693.2,
          610,
          809,
          733.5,
          607,
          556,
          613,
          556,
          784.1,
          942.2,
          607,
          -1,
          -1,
          556.4,
          208,
          645,
          -1,
          556,
          562,
          314,
          601,
          594.4,
          556.4,
          -1,
          930,
          574.6,
          -1,
          -1,
          305,
          569,
          562.8,
          500,
          454,
          878,
          607,
          -1,
          -1,
          -1,
          -1,
          581,
          562,
          1012,
          556.4,
          562.8,
          -1,
          550,
          -1,
          -1,
          632,
          556,
          560,
          556,
          556,
          -1,
          532,
          -1,
          295,
          498,
          695.6,
          556,
          708,
          373,
          556,
          569.1,
          1012,
          -1,
          -1,
          563,
          651,
          575.4,
          700,
          556.4,
          556,
          556.4,
          -1,
          -1,
          600,
          607,
          -1,
          600,
          1024,
          607,
          600.7,
          626,
          -1,
          575,
          -1,
          -1,
          569,
          -1,
          575,
          695,
          430,
          -1,
          556,
          -1,
          633.4,
          -1,
          556.4,
          -1,
          -1,
          569.1,
          -1,
          -1,
          716,
          556,
          -1,
          556,
          328,
          556,
          500,
          556,
          -1,
          -1,
          581,
          -1,
          -1,
          556,
          -1,
          407.6,
          582,
          645,
          -1,
          691,
          556.4,
          556.4,
          -1,
          -1,
          556.4,
          405.4,
          580,
          1119,
          770.5,
          219.6,
          -1,
          610,
          -1,
          -1,
          -1,
          645,
          245,
          556.4,
          -1,
          -1,
          525.3,
          556,
          569,
          556.4,
          -1,
          -1,
          -1,
          362,
          -1,
          607,
          1309,
          1005,
          639,
          860,
          551,
          501.5,
          581.7,
          556,
          -1,
          759,
          490,
          253,
          645,
          765.1,
          -1,
          868,
          632.3,
          585,
          575,
          -1,
          -1,
          530,
          -1,
          556,
          556,
          556,
          999.1,
          1123,
          311,
          600.7,
          -1,
          620,
          566.4,
          689,
          563,
          557,
          513,
          594.4,
          -1,
          253,
          -1,
          -1,
          -1,
          -1,
          460,
          -1,
          -1,
          -1,
          600.7,
          -1,
          703,
          697,
          645,
          1014,
          689.2,
          600.7,
          -1,
          -1,
          753,
          -1,
          -1,
          556.4,
          556.4,
          557,
          247,
          698,
          556.4,
          866.3,
          822.2,
          -1,
          -1,
          -1,
          562.8,
          720.8,
          550,
          -1,
          648,
          -1,
          -1,
          689,
          -1,
          556.4,
          992,
          501,
          240,
          701.9,
          632.3,
          566,
          -1,
          -1,
          550,
          575.4,
          556,
          989,
          -1,
          -1,
          1208,
          192,
          556,
          619,
          703,
          607,
          -1,
          242,
          253.6,
          -1,
          -1,
          -1,
          556.4,
          -1,
          213,
          556,
          556,
          -1,
          285.8,
          562.8,
          765,
          973,
          466,
          720,
          563,
          575.4,
          556.4,
          778,
          765.1,
          695,
          563,
          626,
          -1,
          -1,
          -1,
          556.4,
          1012,
          556,
          575,
          -1,
          -1,
          350,
          645,
          -1,
          682.9,
          632,
          -1,
          -1,
          670,
          -1,
          773,
          556.4,
          600.7,
          -1,
          -1,
          202.2,
          645,
          569,
          304,
          -1,
          613,
          916,
          556,
          378,
          -1,
          556.4,
          212,
          -1,
          556,
          -1,
          556,
          -1,
          1012,
          -1,
          663.9,
          562.8,
          -1,
          -1,
          -1,
          651,
          556,
          613.4,
          -1,
          -1,
          600.7,
          550.1,
          560,
          600,
          594.4,
          -1,
          -1,
          594.4,
          569,
          777,
          558.5,
          -1,
          -1,
          142,
          2231,
          613.4,
          695,
          601,
          271,
          -1,
          1024,
          -1,
          550,
          550,
          972,
          556,
          556,
          663.9,
          559,
          556,
          -1,
          626,
          -1,
          556.4,
          -1,
          803,
          -1,
          556,
          588.1,
          581.7,
          -1,
          365.8,
          -1,
          575,
          556,
          -1,
          621,
          -1,
          670.4,
          583,
          556,
          206.5,
          -1,
          548,
          847.3,
          -1,
          613,
          562.8,
          670.3,
          -1,
          588,
          550,
          -1,
          1012,
          345.4,
          676,
          300,
          574,
          -1,
          556.4,
          575.4,
          607,
          556,
          315.5,
          -1,
          303,
          330,
          -1,
          142.6,
          -1,
          556,
          283,
          828,
          594.2,
          -1,
          450,
          1112,
          -1,
          581.7,
          -1,
          -1,
          600.7,
          -1,
          -1,
          556,
          575,
          575.4,
          396,
          216,
          -1,
          -1,
          632,
          556,
          -1,
          563,
          -1,
          -1,
          -1,
          -1,
          1303,
          556,
          -1,
          556.4,
          556,
          556,
          550,
          564,
          556.4,
          -1,
          562.8,
          309,
          556,
          645,
          556,
          556,
          -1,
          -1,
          600,
          450,
          -1,
          485.2,
          569,
          -1,
          562.8,
          434,
          651,
          -1,
          -1,
          -1,
          575,
          -1,
          1201,
          556.4,
          556,
          1853,
          512.2,
          -1,
          562.8,
          461,
          556,
          325,
          777,
          764,
          -1,
          663,
          -1,
          812,
          588.1,
          -1,
          -1,
          555,
          1018,
          670,
          -1,
          777.8,
          556.4,
          -1,
          -1,
          -1,
          452,
          803,
          -1,
          -1,
          -1,
          -1,
          -1,
          -1,
          562.8,
          -1,
          556.4,
          573.4,
          822,
          -1,
          556,
          -1,
          506,
          324,
          -1,
          619,
          569,
          -1,
          -1,
          556,
          607,
          -1,
          -1,
          663,
          280,
          -1,
          619.7,
          -1,
          986.4,
          556,
          -1,
          645,
          206,
          -1,
          556,
          625.7,
          -1,
          556,
          183,
          550.1,
          582,
          -1
         ],
         "xaxis": "x7",
         "xbins": {
          "size": 100
         },
         "yaxis": "y7"
        },
        {
         "autobinx": false,
         "name": "Castle Hill",
         "type": "histogram",
         "x": [
          375,
          1.11,
          588,
          777,
          856,
          769,
          750.4,
          933,
          410,
          900,
          752,
          814.8,
          399,
          -1,
          911,
          863,
          696,
          796.7,
          713,
          292,
          708,
          695.6,
          708,
          725.2,
          727.7,
          -1,
          696,
          -1,
          404,
          700,
          -1,
          -1,
          1094,
          775,
          930,
          -1,
          701,
          854,
          309,
          -1,
          930,
          708,
          -1,
          695,
          777,
          736,
          1865,
          406,
          1125,
          -1,
          -1,
          930,
          727,
          -1,
          -1,
          -1,
          871.3,
          714.5,
          461,
          -1,
          868,
          -1,
          759,
          503.4,
          2906,
          -1,
          1165,
          878.9,
          632,
          930,
          -1,
          700,
          515.6,
          842,
          968,
          695,
          733,
          -1,
          930,
          1860,
          695,
          1899,
          -1,
          916,
          697,
          252,
          759,
          -1,
          -1,
          276,
          907.3,
          703,
          232,
          356,
          588,
          -1,
          -1,
          696,
          600,
          -1,
          386,
          580,
          920,
          1019,
          733,
          326,
          380.3,
          494,
          724,
          696,
          -1,
          -1,
          -1,
          884,
          697,
          -1,
          500,
          695,
          588,
          -1,
          -1,
          727,
          766,
          -1,
          778,
          -1,
          388,
          1049,
          778,
          741,
          -1,
          -1,
          930,
          -1,
          2042,
          600,
          695,
          220,
          759,
          708,
          739,
          701,
          -1,
          930,
          -1,
          931,
          -1,
          -1,
          982,
          765.1,
          -1,
          935,
          1240,
          277.6,
          1175,
          695.6,
          -1,
          696,
          695.6,
          872.8,
          311,
          241,
          533,
          438.9,
          1004,
          251,
          603,
          3200,
          778,
          636,
          689,
          600,
          287,
          -1,
          936,
          458,
          695,
          708,
          373,
          -1,
          554.1,
          1220,
          695.6,
          800,
          -1,
          -1,
          733,
          923.2,
          980,
          -1,
          968.9,
          600,
          700,
          503.1,
          905,
          -1,
          820,
          696,
          701.9,
          667,
          472.2,
          448,
          676,
          -1,
          515,
          -1,
          -1,
          930,
          -1,
          441,
          701,
          721,
          390,
          708.5,
          788,
          -1,
          450,
          -1,
          2057,
          806,
          628.4,
          719,
          720,
          533,
          -1,
          396,
          707,
          620,
          -1,
          -1,
          782,
          707,
          696,
          612,
          2011,
          752,
          -1,
          -1,
          696,
          612.8,
          908,
          452,
          700,
          -1,
          758.1,
          936,
          695.6,
          -1,
          784,
          727.4,
          -1,
          342,
          -1,
          -1,
          -1,
          740,
          1069,
          933.4,
          1195,
          733,
          765.2,
          440,
          999,
          492,
          764,
          241,
          -1,
          -1,
          -1,
          -1,
          -1,
          805,
          187,
          919,
          -1,
          936,
          712,
          -1,
          190,
          1739,
          539,
          -1,
          -1,
          917,
          750,
          -1,
          260.9,
          408,
          -1,
          708,
          1565,
          581,
          -1,
          2003,
          933,
          695,
          -1,
          750,
          300,
          1100,
          2351,
          245
         ],
         "xaxis": "x8",
         "xbins": {
          "size": 100
         },
         "yaxis": "y8"
        },
        {
         "autobinx": false,
         "name": "Ryde",
         "type": "histogram",
         "x": [
          382.6,
          796,
          408,
          531.1,
          663.9,
          537,
          -1,
          613,
          670.3,
          -1,
          695.6,
          518.5,
          -1,
          695.6,
          305.8,
          581.7,
          350,
          461.6,
          -1,
          727,
          448.1,
          -1,
          -1,
          348,
          -1,
          -1,
          1201,
          -1,
          -1,
          -1,
          -1,
          1225,
          -1,
          -1,
          -1,
          -1,
          -1,
          -1,
          613,
          486,
          667,
          474,
          -1,
          550.1,
          714,
          693,
          727,
          645,
          -1,
          -1,
          -1,
          -1,
          570,
          -1,
          -1,
          -1,
          249,
          -1,
          -1,
          720,
          -1,
          -1,
          680,
          784.1,
          598,
          -1,
          575.4,
          524,
          -1,
          468,
          518.5,
          -1,
          525,
          550,
          -1,
          499,
          -1,
          486,
          -1,
          -1,
          -1,
          493,
          -1,
          601,
          635,
          619,
          270.7,
          -1,
          314.7,
          506,
          443,
          484,
          -1,
          655,
          567,
          685,
          -1,
          -1,
          638.5,
          -1,
          -1,
          872,
          728,
          -1,
          645,
          607,
          -1,
          772,
          -1,
          -1,
          543,
          -1,
          -1,
          518,
          581,
          -1,
          341,
          -1,
          -1,
          -1,
          -1,
          697.9,
          841,
          670,
          740,
          -1,
          -1,
          588.1,
          -1,
          -1,
          -1,
          -1,
          1859.3,
          -1,
          619,
          670,
          308,
          575.4,
          -1,
          -1,
          670,
          474,
          493,
          556,
          607,
          -1,
          670,
          923.2,
          689,
          -1,
          809,
          -1,
          -1,
          758,
          694,
          853.6,
          556,
          -1,
          -1,
          620,
          670,
          -1,
          670,
          480,
          834.7,
          685,
          -1,
          -1,
          461,
          -1,
          656,
          493,
          -1,
          300,
          500,
          277,
          -1,
          -1,
          -1,
          206,
          362,
          -1,
          -1
         ],
         "xaxis": "x9",
         "xbins": {
          "size": 100
         },
         "yaxis": "y9"
        },
        {
         "autobinx": false,
         "name": "Rouse Hill",
         "type": "histogram",
         "x": [
          450,
          268,
          -1,
          -1,
          -1,
          -1,
          -1,
          -1,
          600,
          450,
          -1,
          -1,
          242,
          712.5,
          613,
          712.8,
          -1,
          750,
          633,
          -1,
          801,
          641.5,
          620,
          700,
          559.5,
          -1,
          417,
          -1,
          600,
          808.8,
          540,
          -1,
          501.4,
          -1,
          1062,
          579.4,
          -1,
          600,
          -1,
          587,
          450,
          -1,
          -1,
          600,
          600,
          701,
          351,
          419,
          -1,
          700,
          441,
          530,
          -1,
          273,
          550,
          345,
          -1,
          -1,
          615.5,
          440,
          -1,
          450,
          450,
          450,
          505.6,
          510,
          450,
          600,
          450,
          600,
          601.2,
          435,
          382,
          -1,
          -1,
          450,
          600,
          580.5,
          215,
          450,
          450,
          708,
          -1,
          -1,
          450,
          488,
          804.7,
          308,
          450,
          620,
          -1,
          600,
          700,
          -1,
          450,
          336,
          336,
          270.4,
          335,
          335,
          450,
          -1,
          -1,
          270.4,
          317.8,
          317,
          -1,
          303,
          399,
          789.9,
          700,
          907,
          317.8,
          314,
          -1,
          276,
          -1,
          660,
          700,
          -1,
          350,
          306.6,
          300,
          303,
          700
         ],
         "xaxis": "x10",
         "xbins": {
          "size": 100
         },
         "yaxis": "y10"
        },
        {
         "autobinx": false,
         "name": "Beecroft",
         "type": "histogram",
         "x": [
          1426,
          507.2,
          1037,
          1435,
          695.6,
          860,
          600,
          1005,
          3272,
          966.4,
          -1,
          -1,
          928.7,
          1220,
          695.6,
          929.5,
          1157,
          872,
          771,
          961.1,
          1107,
          897,
          746,
          702.7,
          658.2,
          583,
          1107,
          837.5,
          911.3,
          866.3,
          1252,
          803,
          724.1,
          946.2,
          809.4,
          431,
          891.6,
          1000,
          942,
          1372,
          291,
          769.2,
          1086,
          925.5,
          986.4,
          1296,
          721.6,
          1124,
          1871,
          1151,
          1182,
          743,
          803,
          1448,
          -1,
          930,
          930,
          841,
          -1,
          -1,
          604,
          796,
          930,
          923.2,
          822,
          1322,
          1006,
          697,
          1480,
          -1,
          -1,
          -1,
          910,
          1494,
          1277,
          698,
          734,
          600,
          1126,
          1211.3,
          1005,
          733,
          1310,
          710,
          930,
          1152,
          1152,
          1195,
          -1,
          841,
          898,
          746.1,
          1227,
          -1,
          653,
          740,
          897.9,
          881,
          902.6,
          658,
          2219,
          1404,
          -1,
          -1,
          -1,
          910.5
         ],
         "xaxis": "x11",
         "xbins": {
          "size": 100
         },
         "yaxis": "y11"
        },
        {
         "autobinx": false,
         "name": "Ermington",
         "type": "histogram",
         "x": [
          550,
          2011,
          828,
          270,
          -1,
          315,
          470,
          247,
          -1,
          761,
          -1,
          -1,
          404,
          279,
          648,
          323,
          -1,
          -1,
          -1,
          391,
          1093,
          -1,
          -1,
          594.4,
          383,
          320,
          234,
          -1,
          -1,
          -1,
          630,
          518.9,
          300,
          427,
          -1,
          923,
          -1,
          708,
          -1,
          521,
          -1,
          -1,
          -1,
          328,
          -1,
          -1,
          607,
          657,
          521,
          -1,
          -1,
          847,
          645,
          353,
          368,
          -1,
          569,
          436,
          639,
          681,
          -1,
          -1,
          565,
          -1,
          700,
          -1,
          771,
          306,
          -1,
          462,
          -1,
          -1,
          266,
          272,
          -1,
          420,
          270,
          206,
          628,
          -1,
          -1,
          300,
          640,
          318,
          562.8,
          -1,
          397,
          -1,
          639,
          460,
          586,
          -1,
          -1,
          -1,
          316,
          -1,
          760,
          518,
          176.1,
          582,
          828,
          727,
          215,
          -1,
          663.9,
          404,
          560,
          575,
          495,
          -1,
          320,
          -1,
          -1,
          520,
          -1,
          1176,
          645,
          -1,
          -1,
          328,
          -1,
          556,
          -1,
          626,
          600,
          588,
          580,
          -1,
          -1,
          -1,
          -1,
          449,
          339,
          594,
          373,
          -1,
          -1,
          457,
          954.8,
          342.4,
          942.2,
          -1,
          -1,
          321,
          319.6,
          -1,
          320,
          771,
          -1,
          -1,
          2118.2,
          1176,
          942.2,
          -1,
          -1,
          289,
          338,
          331.4,
          784.1,
          1005,
          657.6,
          442,
          626,
          -1,
          407,
          543.8,
          -1,
          929.5,
          524.9,
          -1,
          -1,
          463
         ],
         "xaxis": "x12",
         "xbins": {
          "size": 100
         },
         "yaxis": "y12"
        },
        {
         "autobinx": false,
         "name": "Northmead",
         "type": "histogram",
         "x": [
          696,
          397,
          -1,
          -1,
          -1,
          1043,
          925,
          -1,
          -1,
          -1,
          739.8,
          -1,
          -1,
          556.4,
          -1,
          790,
          701,
          -1,
          233,
          -1,
          898,
          683,
          -1,
          556,
          607,
          851,
          841,
          -1,
          -1,
          765,
          556,
          809,
          835,
          696,
          695.6,
          -1,
          1325,
          616,
          -1,
          687,
          481,
          -1,
          -1,
          556,
          -1,
          -1,
          711,
          557,
          -1,
          809,
          -1,
          822,
          695,
          771,
          809,
          1020,
          400,
          -1,
          -1,
          660,
          375,
          718,
          212,
          -1,
          613,
          696,
          -1,
          645,
          -1,
          303.2,
          -1,
          374,
          -1,
          -1,
          695,
          344.6,
          -1,
          556,
          465,
          -1,
          556,
          1119,
          203,
          696,
          690,
          333.1,
          -1,
          618,
          304.3,
          -1,
          357,
          505,
          645,
          753,
          664,
          696,
          695,
          695,
          1163,
          -1,
          901,
          450,
          -1,
          746,
          -1,
          -1,
          -1,
          670,
          689.2,
          -1,
          834.7,
          859,
          -1,
          -1,
          790,
          778,
          696,
          -1,
          480,
          -1,
          613,
          383.2,
          397,
          696,
          -1,
          695,
          -1,
          512,
          253,
          343,
          556,
          -1,
          -1,
          359,
          -1,
          556,
          696,
          -1,
          -1,
          411,
          848.9,
          556,
          512,
          326,
          -1,
          556,
          563,
          309,
          828,
          1802,
          619.7,
          657,
          556
         ],
         "xaxis": "x13",
         "xbins": {
          "size": 100
         },
         "yaxis": "y13"
        },
        {
         "autobinx": false,
         "name": "Newington",
         "type": "histogram",
         "x": [
          314.8,
          -1,
          420.4,
          301,
          419,
          -1,
          -1,
          253,
          300,
          388,
          273,
          273,
          314,
          426,
          354,
          262,
          210,
          -1,
          257,
          293,
          -1,
          -1,
          326,
          273,
          245,
          -1,
          -1,
          -1,
          273,
          307,
          282,
          230,
          228,
          -1,
          -1,
          -1,
          423,
          287
         ],
         "xaxis": "x14",
         "xbins": {
          "size": 100
         },
         "yaxis": "y14"
        },
        {
         "autobinx": false,
         "name": "Concord",
         "type": "histogram",
         "x": [
          -1,
          -1,
          465.5,
          458.8,
          445.1,
          452.3,
          373.1,
          581.7,
          423.7,
          651.3,
          619.7,
          860,
          -1,
          -1,
          -1,
          505.9,
          556.4,
          -1,
          512,
          531,
          -1,
          499.5,
          556.4,
          537.5,
          442,
          470,
          430,
          -1,
          234,
          -1,
          556.4,
          427.8,
          973.8,
          556.4,
          605.5,
          1000,
          247,
          326,
          556,
          -1,
          448.9,
          505.9,
          183,
          746.1,
          697,
          480,
          495,
          613.4,
          540,
          512,
          -1,
          -1,
          373,
          300,
          404.7,
          455,
          537,
          474.2,
          512.2,
          537,
          423.7,
          986.4,
          373.3,
          -1,
          613,
          -1,
          575,
          442.6,
          860,
          790.4,
          -1,
          600.7,
          651.3,
          569.1,
          487.68,
          309.8,
          -1,
          499.5,
          -1,
          683.4,
          -1,
          404.7,
          556.4,
          -1,
          -1,
          556.4,
          512.2,
          530,
          -1,
          417,
          519,
          531.1,
          404.7,
          575.4,
          531,
          493.2,
          -1,
          -1,
          502.9,
          -1,
          -1,
          370,
          512.2,
          -1,
          -1,
          -1,
          442.6,
          605,
          -1,
          -1,
          490.5,
          443.5,
          460,
          467.2,
          -1,
          -1,
          -1,
          -1,
          -1,
          366.7,
          -1,
          -1,
          -1,
          -1,
          445,
          543,
          -1,
          620,
          -1,
          598.21,
          -1,
          -1,
          -1,
          221,
          -1,
          537,
          309.8
         ],
         "xaxis": "x15",
         "xbins": {
          "size": 100
         },
         "yaxis": "y15"
        },
        {
         "autobinx": false,
         "name": "Marsfield",
         "type": "histogram",
         "x": [
          -1,
          577,
          -1,
          601,
          -1,
          -1,
          580,
          575,
          -1,
          575.4,
          293,
          -1,
          -1,
          -1,
          -1,
          306.7,
          607,
          686,
          582,
          -1,
          -1,
          -1,
          581.7,
          632,
          -1,
          -1,
          689,
          -1,
          205,
          581.7,
          588,
          -1,
          575.4,
          -1,
          -1,
          -1,
          575,
          -1,
          -1,
          950,
          613,
          -1,
          791,
          591,
          -1,
          -1,
          -1,
          158,
          -1,
          -1,
          -1,
          174,
          -1,
          -1,
          -1,
          -1,
          689,
          580,
          582,
          -1,
          -1,
          575.4,
          461,
          -1,
          657,
          -1,
          302,
          -1,
          -1,
          -1,
          -1,
          623,
          689,
          -1,
          580,
          580,
          993,
          -1,
          -1,
          687,
          -1,
          -1,
          -1,
          -1,
          -1,
          -1,
          -1,
          591,
          590,
          -1,
          575,
          -1,
          -1,
          740,
          -1,
          765,
          581.6,
          720,
          437.5,
          -1,
          626,
          260,
          -1,
          -1,
          -1,
          -1,
          -1,
          -1,
          156,
          870,
          -1,
          -1,
          -1,
          -1,
          582,
          -1,
          -1,
          -1,
          702,
          -1
         ],
         "xaxis": "x16",
         "xbins": {
          "size": 100
         },
         "yaxis": "y16"
        },
        {
         "autobinx": false,
         "name": "Hornsby",
         "type": "histogram",
         "x": [
          -1,
          -1,
          1111,
          -1,
          -1,
          -1,
          860,
          744,
          -1,
          475,
          -1,
          926.3,
          1102,
          932,
          -1,
          -1,
          853,
          1147,
          740,
          1151,
          776,
          709,
          759,
          980,
          -1,
          808,
          830,
          -1,
          930,
          492,
          521,
          -1,
          -1,
          307,
          948,
          -1,
          344,
          696,
          696,
          -1,
          -1,
          720,
          672,
          396,
          430,
          -1,
          -1,
          480,
          259,
          608,
          715,
          -1,
          613,
          -1,
          -1,
          -1,
          683.2,
          -1,
          891,
          1019,
          -1,
          869,
          630,
          -1,
          825,
          -1,
          737,
          714,
          697,
          695.6,
          740,
          -1,
          866,
          822.6,
          -1,
          -1,
          917,
          1075,
          -1,
          714,
          1057,
          -1,
          657,
          -1,
          776,
          -1,
          -1,
          937.3,
          1062,
          -1,
          507,
          -1,
          917,
          -1,
          -1,
          -1,
          611,
          866.3,
          -1,
          -1,
          690,
          -1,
          -1,
          -1,
          -1,
          853,
          -1,
          -1,
          822,
          605.5,
          -1,
          -1,
          929,
          -1,
          -1,
          752,
          1711,
          -1,
          907.9,
          759,
          720,
          -1,
          660,
          691,
          -1,
          702,
          1246,
          319,
          876,
          -1,
          1480,
          -1,
          1050,
          707,
          -1,
          -1,
          498,
          -1,
          -1,
          690,
          -1,
          705,
          -1,
          819,
          929,
          738,
          -1,
          -1,
          682,
          1223,
          835,
          757,
          3753,
          706
         ],
         "xaxis": "x17",
         "xbins": {
          "size": 100
         },
         "yaxis": "y17"
        },
        {
         "autobinx": false,
         "name": "Lidcombe",
         "type": "histogram",
         "x": [
          -1,
          531.1,
          613,
          -1,
          -1,
          -1,
          -1,
          341,
          505.9,
          464.51,
          -1,
          -1,
          607,
          600.7,
          468,
          613.11,
          -1,
          -1,
          -1,
          379,
          -1,
          417.3,
          519,
          -1,
          -1,
          -1,
          -1,
          -1,
          -1,
          -1,
          -1,
          -1,
          -1,
          -1,
          803,
          -1,
          134,
          468,
          -1,
          436,
          -1,
          -1,
          575,
          607,
          -1,
          714.5,
          600.7,
          661,
          501.8,
          488,
          -1,
          -1,
          -1,
          -1,
          -1,
          -1,
          480,
          -1,
          680,
          230,
          287,
          -1,
          409.4,
          -1,
          -1,
          487,
          -1,
          240,
          613.3,
          -1,
          222,
          695,
          -1,
          519,
          847,
          -1,
          442.6,
          367,
          648,
          420,
          -1,
          658,
          370,
          -1,
          -1,
          607,
          538,
          442,
          800,
          607,
          505.9,
          626,
          316,
          668,
          556,
          613,
          556,
          -1,
          696,
          250,
          -1,
          607,
          366.7,
          -1,
          -1,
          -1,
          -1,
          695.6,
          -1,
          714,
          626,
          468,
          183,
          -1,
          -1,
          473,
          -1,
          360,
          607,
          487,
          -1,
          411,
          432,
          -1,
          500,
          322,
          158,
          -1,
          626,
          -1,
          -1,
          -1,
          -1,
          443,
          -1,
          -1,
          -1,
          -1,
          556,
          -1,
          355,
          -1,
          398,
          -1,
          -1,
          229,
          -1,
          545,
          -1,
          -1,
          -1,
          -1,
          607,
          436,
          490,
          442.6,
          -1,
          -1,
          455,
          -1,
          613,
          411,
          -1,
          207,
          -1,
          -1,
          -1,
          -1,
          430
         ],
         "xaxis": "x18",
         "xbins": {
          "size": 100
         },
         "yaxis": "y18"
        },
        {
         "autobinx": false,
         "name": "Homebush",
         "type": "histogram",
         "x": [
          696,
          743,
          661.9,
          -1,
          214,
          -1,
          -1,
          -1,
          185,
          392,
          -1,
          -1,
          -1,
          551,
          -1,
          670,
          493,
          -1,
          696,
          -1,
          -1,
          -1,
          -1,
          695,
          -1,
          677,
          -1,
          -1,
          -1
         ],
         "xaxis": "x19",
         "xbins": {
          "size": 100
         },
         "yaxis": "y19"
        },
        {
         "autobinx": false,
         "name": "Ashfield",
         "type": "histogram",
         "x": [
          892,
          354,
          188,
          -1,
          -1,
          152,
          -1,
          -1,
          403,
          -1,
          -1,
          -1,
          543,
          165,
          613,
          293,
          -1,
          -1,
          -1,
          -1,
          -1,
          -1,
          -1,
          519.2,
          -1,
          -1,
          -1,
          -1,
          -1,
          -1,
          269,
          716,
          170,
          -1,
          -1,
          -1,
          373,
          -1,
          379,
          -1,
          -1,
          486.9,
          620,
          316,
          -1,
          518,
          468,
          411,
          372,
          153,
          -1,
          -1,
          -1,
          -1,
          -1,
          291,
          -1,
          188,
          520,
          -1,
          464,
          -1,
          295,
          -1,
          -1,
          412,
          -1,
          -1,
          885.2,
          540,
          -1,
          500,
          -1,
          -1,
          -1,
          411,
          -1,
          -1,
          -1,
          -1,
          -1,
          -1,
          -1,
          -1,
          -1,
          398,
          450,
          347.3,
          -1,
          581.7,
          -1,
          -1,
          -1,
          468.2,
          323,
          -1,
          658,
          401,
          541,
          -1,
          351,
          569,
          695.6,
          373.3,
          585,
          -1,
          499,
          423,
          -1,
          360,
          -1,
          720,
          -1,
          443,
          366.7,
          -1,
          310,
          436,
          300,
          -1,
          -1,
          298.2,
          154.8,
          215,
          -1,
          -1,
          575.4,
          -1,
          -1,
          -1,
          809,
          201,
          -1,
          -1,
          145,
          385.7,
          -1
         ],
         "xaxis": "x21",
         "xbins": {
          "size": 100
         },
         "yaxis": "y21"
        },
        {
         "autobinx": false,
         "name": "Leichhardt",
         "type": "histogram",
         "x": [
          182,
          351,
          95,
          120,
          202,
          192,
          101,
          139,
          169,
          322,
          234,
          290,
          303,
          187.7,
          -1,
          113.8,
          -1,
          126,
          615,
          313,
          232,
          -1,
          -1,
          220.7,
          133,
          287,
          423.7,
          215,
          -1,
          189,
          236,
          190,
          95,
          348,
          212,
          272,
          145.4,
          133,
          -1,
          -1,
          186,
          -1,
          123.8,
          695,
          145.5,
          215,
          246,
          -1,
          171,
          234,
          -1,
          164,
          -1,
          181,
          101,
          -1,
          152,
          145,
          177,
          216,
          169,
          185.77,
          340,
          366.8,
          146,
          -1,
          125,
          208.6,
          171,
          -1,
          219,
          131,
          136,
          183,
          120,
          194,
          208.7,
          100,
          245,
          215,
          212,
          201,
          227.6,
          192,
          145,
          95,
          -1,
          -1,
          188,
          145.4,
          152,
          -1,
          -1,
          426.5,
          235,
          189,
          134,
          306,
          -1,
          135,
          -1,
          116,
          182,
          180,
          140,
          173,
          -1,
          -1,
          126,
          -1,
          343,
          462,
          200,
          -1,
          -1,
          -1,
          -1,
          202,
          259,
          139,
          -1,
          -1,
          127,
          232.26,
          117,
          -1,
          -1,
          -1,
          -1,
          130,
          224,
          -1,
          223,
          223,
          341,
          -1,
          184,
          326,
          379.4,
          247,
          151,
          -1,
          177,
          191,
          145,
          -1,
          -1,
          328,
          221,
          182,
          215,
          183,
          234,
          -1,
          232,
          190,
          124.9,
          -1,
          -1,
          272,
          -1,
          343,
          150,
          180,
          157,
          -1,
          -1,
          250,
          371,
          -1,
          -1,
          -1,
          172,
          132.8,
          272,
          190,
          212,
          -1,
          -1,
          145,
          407.9,
          236,
          -1,
          372,
          171,
          240,
          -1,
          246,
          238,
          354,
          186,
          108,
          183,
          -1,
          -1,
          172,
          133,
          99,
          -1,
          145,
          -1,
          -1,
          -1,
          -1
         ],
         "xaxis": "x22",
         "xbins": {
          "size": 100
         },
         "yaxis": "y22"
        },
        {
         "autobinx": false,
         "name": "Annandale",
         "type": "histogram",
         "x": [
          -1,
          450,
          307,
          101.2,
          74,
          221,
          171,
          190,
          -1,
          228,
          398,
          -1,
          328.8,
          257,
          291,
          -1,
          247,
          147,
          152,
          310,
          371,
          -1,
          152,
          183,
          -1,
          139,
          221,
          -1,
          -1,
          221.3,
          -1,
          174,
          329,
          174,
          -1,
          184,
          152,
          -1,
          -1,
          253,
          114,
          215,
          210,
          183,
          247,
          -1,
          132.8,
          200,
          370,
          120,
          118,
          107.5,
          215,
          -1,
          209,
          272,
          151.8,
          215,
          202,
          -1,
          191,
          126.5,
          285,
          240,
          163,
          138,
          117,
          344,
          -1,
          230,
          242,
          -1,
          167,
          -1,
          145,
          152,
          -1,
          157,
          140,
          129,
          183.4,
          137,
          109,
          202,
          -1,
          306,
          152,
          183,
          240,
          -1,
          89,
          134,
          -1,
          -1,
          736,
          193,
          217,
          -1,
          250,
          -1
         ],
         "xaxis": "x23",
         "xbins": {
          "size": 100
         },
         "yaxis": "y23"
        },
        {
         "autobinx": false,
         "name": "Allambie Heights",
         "type": "histogram",
         "x": [
          727,
          -1,
          -1,
          -1,
          405,
          -1,
          1024,
          639,
          638.6,
          -1,
          619,
          809,
          -1,
          -1,
          375,
          556,
          -1,
          594,
          750,
          1088,
          797,
          666,
          -1,
          -1,
          809,
          607,
          556,
          -1,
          809,
          -1,
          -1,
          -1,
          500,
          -1,
          613,
          866,
          658,
          -1,
          816,
          -1,
          645,
          512.2,
          728,
          798,
          765,
          -1,
          559,
          606,
          -1,
          601,
          595,
          594,
          -1,
          -1,
          -1,
          -1,
          565,
          311,
          -1,
          1055,
          784,
          -1,
          -1,
          765,
          683,
          -1,
          683,
          727,
          -1,
          575,
          679,
          645,
          1163,
          -1,
          282,
          -1,
          -1,
          873,
          -1,
          -1,
          -1,
          335,
          1269,
          -1
         ],
         "xaxis": "x24",
         "xbins": {
          "size": 100
         },
         "yaxis": "y24"
        },
        {
         "autobinx": false,
         "name": "Forestville",
         "type": "histogram",
         "x": [
          349,
          268,
          -1,
          696,
          -1,
          759,
          696,
          -1,
          -1,
          791,
          235,
          820,
          -1,
          556,
          702,
          830,
          721,
          873,
          -1,
          391,
          822,
          721,
          759,
          778,
          557,
          557.48,
          740,
          620,
          720.8,
          696,
          828,
          578,
          1113,
          -1,
          -1,
          -1,
          -1,
          556,
          721,
          780,
          314.5,
          569.1,
          1341,
          1752,
          -1,
          721,
          841,
          422,
          -1,
          -1,
          708,
          -1,
          898,
          339,
          -1,
          1075,
          734,
          375,
          -1,
          -1,
          533,
          541,
          980.1,
          820,
          847.3,
          -1,
          -1,
          721,
          898,
          695.6
         ],
         "xaxis": "x25",
         "xbins": {
          "size": 100
         },
         "yaxis": "y25"
        }
       ],
       "layout": {
        "template": {
         "data": {
          "bar": [
           {
            "error_x": {
             "color": "#2a3f5f"
            },
            "error_y": {
             "color": "#2a3f5f"
            },
            "marker": {
             "line": {
              "color": "#E5ECF6",
              "width": 0.5
             },
             "pattern": {
              "fillmode": "overlay",
              "size": 10,
              "solidity": 0.2
             }
            },
            "type": "bar"
           }
          ],
          "barpolar": [
           {
            "marker": {
             "line": {
              "color": "#E5ECF6",
              "width": 0.5
             },
             "pattern": {
              "fillmode": "overlay",
              "size": 10,
              "solidity": 0.2
             }
            },
            "type": "barpolar"
           }
          ],
          "carpet": [
           {
            "aaxis": {
             "endlinecolor": "#2a3f5f",
             "gridcolor": "white",
             "linecolor": "white",
             "minorgridcolor": "white",
             "startlinecolor": "#2a3f5f"
            },
            "baxis": {
             "endlinecolor": "#2a3f5f",
             "gridcolor": "white",
             "linecolor": "white",
             "minorgridcolor": "white",
             "startlinecolor": "#2a3f5f"
            },
            "type": "carpet"
           }
          ],
          "choropleth": [
           {
            "colorbar": {
             "outlinewidth": 0,
             "ticks": ""
            },
            "type": "choropleth"
           }
          ],
          "contour": [
           {
            "colorbar": {
             "outlinewidth": 0,
             "ticks": ""
            },
            "colorscale": [
             [
              0,
              "#0d0887"
             ],
             [
              0.1111111111111111,
              "#46039f"
             ],
             [
              0.2222222222222222,
              "#7201a8"
             ],
             [
              0.3333333333333333,
              "#9c179e"
             ],
             [
              0.4444444444444444,
              "#bd3786"
             ],
             [
              0.5555555555555556,
              "#d8576b"
             ],
             [
              0.6666666666666666,
              "#ed7953"
             ],
             [
              0.7777777777777778,
              "#fb9f3a"
             ],
             [
              0.8888888888888888,
              "#fdca26"
             ],
             [
              1,
              "#f0f921"
             ]
            ],
            "type": "contour"
           }
          ],
          "contourcarpet": [
           {
            "colorbar": {
             "outlinewidth": 0,
             "ticks": ""
            },
            "type": "contourcarpet"
           }
          ],
          "heatmap": [
           {
            "colorbar": {
             "outlinewidth": 0,
             "ticks": ""
            },
            "colorscale": [
             [
              0,
              "#0d0887"
             ],
             [
              0.1111111111111111,
              "#46039f"
             ],
             [
              0.2222222222222222,
              "#7201a8"
             ],
             [
              0.3333333333333333,
              "#9c179e"
             ],
             [
              0.4444444444444444,
              "#bd3786"
             ],
             [
              0.5555555555555556,
              "#d8576b"
             ],
             [
              0.6666666666666666,
              "#ed7953"
             ],
             [
              0.7777777777777778,
              "#fb9f3a"
             ],
             [
              0.8888888888888888,
              "#fdca26"
             ],
             [
              1,
              "#f0f921"
             ]
            ],
            "type": "heatmap"
           }
          ],
          "heatmapgl": [
           {
            "colorbar": {
             "outlinewidth": 0,
             "ticks": ""
            },
            "colorscale": [
             [
              0,
              "#0d0887"
             ],
             [
              0.1111111111111111,
              "#46039f"
             ],
             [
              0.2222222222222222,
              "#7201a8"
             ],
             [
              0.3333333333333333,
              "#9c179e"
             ],
             [
              0.4444444444444444,
              "#bd3786"
             ],
             [
              0.5555555555555556,
              "#d8576b"
             ],
             [
              0.6666666666666666,
              "#ed7953"
             ],
             [
              0.7777777777777778,
              "#fb9f3a"
             ],
             [
              0.8888888888888888,
              "#fdca26"
             ],
             [
              1,
              "#f0f921"
             ]
            ],
            "type": "heatmapgl"
           }
          ],
          "histogram": [
           {
            "marker": {
             "pattern": {
              "fillmode": "overlay",
              "size": 10,
              "solidity": 0.2
             }
            },
            "type": "histogram"
           }
          ],
          "histogram2d": [
           {
            "colorbar": {
             "outlinewidth": 0,
             "ticks": ""
            },
            "colorscale": [
             [
              0,
              "#0d0887"
             ],
             [
              0.1111111111111111,
              "#46039f"
             ],
             [
              0.2222222222222222,
              "#7201a8"
             ],
             [
              0.3333333333333333,
              "#9c179e"
             ],
             [
              0.4444444444444444,
              "#bd3786"
             ],
             [
              0.5555555555555556,
              "#d8576b"
             ],
             [
              0.6666666666666666,
              "#ed7953"
             ],
             [
              0.7777777777777778,
              "#fb9f3a"
             ],
             [
              0.8888888888888888,
              "#fdca26"
             ],
             [
              1,
              "#f0f921"
             ]
            ],
            "type": "histogram2d"
           }
          ],
          "histogram2dcontour": [
           {
            "colorbar": {
             "outlinewidth": 0,
             "ticks": ""
            },
            "colorscale": [
             [
              0,
              "#0d0887"
             ],
             [
              0.1111111111111111,
              "#46039f"
             ],
             [
              0.2222222222222222,
              "#7201a8"
             ],
             [
              0.3333333333333333,
              "#9c179e"
             ],
             [
              0.4444444444444444,
              "#bd3786"
             ],
             [
              0.5555555555555556,
              "#d8576b"
             ],
             [
              0.6666666666666666,
              "#ed7953"
             ],
             [
              0.7777777777777778,
              "#fb9f3a"
             ],
             [
              0.8888888888888888,
              "#fdca26"
             ],
             [
              1,
              "#f0f921"
             ]
            ],
            "type": "histogram2dcontour"
           }
          ],
          "mesh3d": [
           {
            "colorbar": {
             "outlinewidth": 0,
             "ticks": ""
            },
            "type": "mesh3d"
           }
          ],
          "parcoords": [
           {
            "line": {
             "colorbar": {
              "outlinewidth": 0,
              "ticks": ""
             }
            },
            "type": "parcoords"
           }
          ],
          "pie": [
           {
            "automargin": true,
            "type": "pie"
           }
          ],
          "scatter": [
           {
            "marker": {
             "colorbar": {
              "outlinewidth": 0,
              "ticks": ""
             }
            },
            "type": "scatter"
           }
          ],
          "scatter3d": [
           {
            "line": {
             "colorbar": {
              "outlinewidth": 0,
              "ticks": ""
             }
            },
            "marker": {
             "colorbar": {
              "outlinewidth": 0,
              "ticks": ""
             }
            },
            "type": "scatter3d"
           }
          ],
          "scattercarpet": [
           {
            "marker": {
             "colorbar": {
              "outlinewidth": 0,
              "ticks": ""
             }
            },
            "type": "scattercarpet"
           }
          ],
          "scattergeo": [
           {
            "marker": {
             "colorbar": {
              "outlinewidth": 0,
              "ticks": ""
             }
            },
            "type": "scattergeo"
           }
          ],
          "scattergl": [
           {
            "marker": {
             "colorbar": {
              "outlinewidth": 0,
              "ticks": ""
             }
            },
            "type": "scattergl"
           }
          ],
          "scattermapbox": [
           {
            "marker": {
             "colorbar": {
              "outlinewidth": 0,
              "ticks": ""
             }
            },
            "type": "scattermapbox"
           }
          ],
          "scatterpolar": [
           {
            "marker": {
             "colorbar": {
              "outlinewidth": 0,
              "ticks": ""
             }
            },
            "type": "scatterpolar"
           }
          ],
          "scatterpolargl": [
           {
            "marker": {
             "colorbar": {
              "outlinewidth": 0,
              "ticks": ""
             }
            },
            "type": "scatterpolargl"
           }
          ],
          "scatterternary": [
           {
            "marker": {
             "colorbar": {
              "outlinewidth": 0,
              "ticks": ""
             }
            },
            "type": "scatterternary"
           }
          ],
          "surface": [
           {
            "colorbar": {
             "outlinewidth": 0,
             "ticks": ""
            },
            "colorscale": [
             [
              0,
              "#0d0887"
             ],
             [
              0.1111111111111111,
              "#46039f"
             ],
             [
              0.2222222222222222,
              "#7201a8"
             ],
             [
              0.3333333333333333,
              "#9c179e"
             ],
             [
              0.4444444444444444,
              "#bd3786"
             ],
             [
              0.5555555555555556,
              "#d8576b"
             ],
             [
              0.6666666666666666,
              "#ed7953"
             ],
             [
              0.7777777777777778,
              "#fb9f3a"
             ],
             [
              0.8888888888888888,
              "#fdca26"
             ],
             [
              1,
              "#f0f921"
             ]
            ],
            "type": "surface"
           }
          ],
          "table": [
           {
            "cells": {
             "fill": {
              "color": "#EBF0F8"
             },
             "line": {
              "color": "white"
             }
            },
            "header": {
             "fill": {
              "color": "#C8D4E3"
             },
             "line": {
              "color": "white"
             }
            },
            "type": "table"
           }
          ]
         },
         "layout": {
          "annotationdefaults": {
           "arrowcolor": "#2a3f5f",
           "arrowhead": 0,
           "arrowwidth": 1
          },
          "autotypenumbers": "strict",
          "coloraxis": {
           "colorbar": {
            "outlinewidth": 0,
            "ticks": ""
           }
          },
          "colorscale": {
           "diverging": [
            [
             0,
             "#8e0152"
            ],
            [
             0.1,
             "#c51b7d"
            ],
            [
             0.2,
             "#de77ae"
            ],
            [
             0.3,
             "#f1b6da"
            ],
            [
             0.4,
             "#fde0ef"
            ],
            [
             0.5,
             "#f7f7f7"
            ],
            [
             0.6,
             "#e6f5d0"
            ],
            [
             0.7,
             "#b8e186"
            ],
            [
             0.8,
             "#7fbc41"
            ],
            [
             0.9,
             "#4d9221"
            ],
            [
             1,
             "#276419"
            ]
           ],
           "sequential": [
            [
             0,
             "#0d0887"
            ],
            [
             0.1111111111111111,
             "#46039f"
            ],
            [
             0.2222222222222222,
             "#7201a8"
            ],
            [
             0.3333333333333333,
             "#9c179e"
            ],
            [
             0.4444444444444444,
             "#bd3786"
            ],
            [
             0.5555555555555556,
             "#d8576b"
            ],
            [
             0.6666666666666666,
             "#ed7953"
            ],
            [
             0.7777777777777778,
             "#fb9f3a"
            ],
            [
             0.8888888888888888,
             "#fdca26"
            ],
            [
             1,
             "#f0f921"
            ]
           ],
           "sequentialminus": [
            [
             0,
             "#0d0887"
            ],
            [
             0.1111111111111111,
             "#46039f"
            ],
            [
             0.2222222222222222,
             "#7201a8"
            ],
            [
             0.3333333333333333,
             "#9c179e"
            ],
            [
             0.4444444444444444,
             "#bd3786"
            ],
            [
             0.5555555555555556,
             "#d8576b"
            ],
            [
             0.6666666666666666,
             "#ed7953"
            ],
            [
             0.7777777777777778,
             "#fb9f3a"
            ],
            [
             0.8888888888888888,
             "#fdca26"
            ],
            [
             1,
             "#f0f921"
            ]
           ]
          },
          "colorway": [
           "#636efa",
           "#EF553B",
           "#00cc96",
           "#ab63fa",
           "#FFA15A",
           "#19d3f3",
           "#FF6692",
           "#B6E880",
           "#FF97FF",
           "#FECB52"
          ],
          "font": {
           "color": "#2a3f5f"
          },
          "geo": {
           "bgcolor": "white",
           "lakecolor": "white",
           "landcolor": "#E5ECF6",
           "showlakes": true,
           "showland": true,
           "subunitcolor": "white"
          },
          "hoverlabel": {
           "align": "left"
          },
          "hovermode": "closest",
          "mapbox": {
           "style": "light"
          },
          "paper_bgcolor": "white",
          "plot_bgcolor": "#E5ECF6",
          "polar": {
           "angularaxis": {
            "gridcolor": "white",
            "linecolor": "white",
            "ticks": ""
           },
           "bgcolor": "#E5ECF6",
           "radialaxis": {
            "gridcolor": "white",
            "linecolor": "white",
            "ticks": ""
           }
          },
          "scene": {
           "xaxis": {
            "backgroundcolor": "#E5ECF6",
            "gridcolor": "white",
            "gridwidth": 2,
            "linecolor": "white",
            "showbackground": true,
            "ticks": "",
            "zerolinecolor": "white"
           },
           "yaxis": {
            "backgroundcolor": "#E5ECF6",
            "gridcolor": "white",
            "gridwidth": 2,
            "linecolor": "white",
            "showbackground": true,
            "ticks": "",
            "zerolinecolor": "white"
           },
           "zaxis": {
            "backgroundcolor": "#E5ECF6",
            "gridcolor": "white",
            "gridwidth": 2,
            "linecolor": "white",
            "showbackground": true,
            "ticks": "",
            "zerolinecolor": "white"
           }
          },
          "shapedefaults": {
           "line": {
            "color": "#2a3f5f"
           }
          },
          "ternary": {
           "aaxis": {
            "gridcolor": "white",
            "linecolor": "white",
            "ticks": ""
           },
           "baxis": {
            "gridcolor": "white",
            "linecolor": "white",
            "ticks": ""
           },
           "bgcolor": "#E5ECF6",
           "caxis": {
            "gridcolor": "white",
            "linecolor": "white",
            "ticks": ""
           }
          },
          "title": {
           "x": 0.05
          },
          "xaxis": {
           "automargin": true,
           "gridcolor": "white",
           "linecolor": "white",
           "ticks": "",
           "title": {
            "standoff": 15
           },
           "zerolinecolor": "white",
           "zerolinewidth": 2
          },
          "yaxis": {
           "automargin": true,
           "gridcolor": "white",
           "linecolor": "white",
           "ticks": "",
           "title": {
            "standoff": 15
           },
           "zerolinecolor": "white",
           "zerolinewidth": 2
          }
         }
        },
        "xaxis": {
         "anchor": "y",
         "domain": [
          0,
          0.16799999999999998
         ],
         "matches": "x21",
         "range": [
          0,
          1200
         ],
         "showticklabels": false
        },
        "xaxis10": {
         "anchor": "y10",
         "domain": [
          0.832,
          1
         ],
         "matches": "x25",
         "range": [
          0,
          1200
         ],
         "showticklabels": false
        },
        "xaxis11": {
         "anchor": "y11",
         "domain": [
          0,
          0.16799999999999998
         ],
         "matches": "x21",
         "range": [
          0,
          1200
         ],
         "showticklabels": false
        },
        "xaxis12": {
         "anchor": "y12",
         "domain": [
          0.208,
          0.376
         ],
         "matches": "x22",
         "range": [
          0,
          1200
         ],
         "showticklabels": false
        },
        "xaxis13": {
         "anchor": "y13",
         "domain": [
          0.416,
          0.584
         ],
         "matches": "x23",
         "range": [
          0,
          1200
         ],
         "showticklabels": false
        },
        "xaxis14": {
         "anchor": "y14",
         "domain": [
          0.624,
          0.792
         ],
         "matches": "x24",
         "range": [
          0,
          1200
         ],
         "showticklabels": false
        },
        "xaxis15": {
         "anchor": "y15",
         "domain": [
          0.832,
          1
         ],
         "matches": "x25",
         "range": [
          0,
          1200
         ],
         "showticklabels": false
        },
        "xaxis16": {
         "anchor": "y16",
         "domain": [
          0,
          0.16799999999999998
         ],
         "matches": "x21",
         "range": [
          0,
          1200
         ],
         "showticklabels": false
        },
        "xaxis17": {
         "anchor": "y17",
         "domain": [
          0.208,
          0.376
         ],
         "matches": "x22",
         "range": [
          0,
          1200
         ],
         "showticklabels": false
        },
        "xaxis18": {
         "anchor": "y18",
         "domain": [
          0.416,
          0.584
         ],
         "matches": "x23",
         "range": [
          0,
          1200
         ],
         "showticklabels": false
        },
        "xaxis19": {
         "anchor": "y19",
         "domain": [
          0.624,
          0.792
         ],
         "matches": "x24",
         "range": [
          0,
          1200
         ],
         "showticklabels": false
        },
        "xaxis2": {
         "anchor": "y2",
         "domain": [
          0.208,
          0.376
         ],
         "matches": "x22",
         "range": [
          0,
          1200
         ],
         "showticklabels": false
        },
        "xaxis20": {
         "anchor": "y20",
         "domain": [
          0.832,
          1
         ],
         "matches": "x25",
         "showticklabels": false
        },
        "xaxis21": {
         "anchor": "y21",
         "domain": [
          0,
          0.16799999999999998
         ],
         "range": [
          0,
          1200
         ]
        },
        "xaxis22": {
         "anchor": "y22",
         "domain": [
          0.208,
          0.376
         ],
         "range": [
          0,
          1200
         ]
        },
        "xaxis23": {
         "anchor": "y23",
         "domain": [
          0.416,
          0.584
         ],
         "range": [
          0,
          1200
         ]
        },
        "xaxis24": {
         "anchor": "y24",
         "domain": [
          0.624,
          0.792
         ],
         "range": [
          0,
          1200
         ]
        },
        "xaxis25": {
         "anchor": "y25",
         "domain": [
          0.832,
          1
         ],
         "range": [
          0,
          1200
         ]
        },
        "xaxis3": {
         "anchor": "y3",
         "domain": [
          0.416,
          0.584
         ],
         "matches": "x23",
         "range": [
          0,
          1200
         ],
         "showticklabels": false
        },
        "xaxis4": {
         "anchor": "y4",
         "domain": [
          0.624,
          0.792
         ],
         "matches": "x24",
         "range": [
          0,
          1200
         ],
         "showticklabels": false
        },
        "xaxis5": {
         "anchor": "y5",
         "domain": [
          0.832,
          1
         ],
         "matches": "x25",
         "range": [
          0,
          1200
         ],
         "showticklabels": false
        },
        "xaxis6": {
         "anchor": "y6",
         "domain": [
          0,
          0.16799999999999998
         ],
         "matches": "x21",
         "range": [
          0,
          1200
         ],
         "showticklabels": false
        },
        "xaxis7": {
         "anchor": "y7",
         "domain": [
          0.208,
          0.376
         ],
         "matches": "x22",
         "range": [
          0,
          1200
         ],
         "showticklabels": false
        },
        "xaxis8": {
         "anchor": "y8",
         "domain": [
          0.416,
          0.584
         ],
         "matches": "x23",
         "range": [
          0,
          1200
         ],
         "showticklabels": false
        },
        "xaxis9": {
         "anchor": "y9",
         "domain": [
          0.624,
          0.792
         ],
         "matches": "x24",
         "range": [
          0,
          1200
         ],
         "showticklabels": false
        },
        "yaxis": {
         "anchor": "x",
         "domain": [
          0.848,
          1
         ],
         "range": [
          0,
          125
         ]
        },
        "yaxis10": {
         "anchor": "x10",
         "domain": [
          0.6359999999999999,
          0.7879999999999999
         ],
         "matches": "y6",
         "range": [
          0,
          125
         ],
         "showticklabels": false
        },
        "yaxis11": {
         "anchor": "x11",
         "domain": [
          0.424,
          0.576
         ],
         "range": [
          0,
          125
         ]
        },
        "yaxis12": {
         "anchor": "x12",
         "domain": [
          0.424,
          0.576
         ],
         "matches": "y11",
         "range": [
          0,
          125
         ],
         "showticklabels": false
        },
        "yaxis13": {
         "anchor": "x13",
         "domain": [
          0.424,
          0.576
         ],
         "matches": "y11",
         "range": [
          0,
          125
         ],
         "showticklabels": false
        },
        "yaxis14": {
         "anchor": "x14",
         "domain": [
          0.424,
          0.576
         ],
         "matches": "y11",
         "range": [
          0,
          125
         ],
         "showticklabels": false
        },
        "yaxis15": {
         "anchor": "x15",
         "domain": [
          0.424,
          0.576
         ],
         "matches": "y11",
         "range": [
          0,
          125
         ],
         "showticklabels": false
        },
        "yaxis16": {
         "anchor": "x16",
         "domain": [
          0.212,
          0.364
         ],
         "range": [
          0,
          125
         ]
        },
        "yaxis17": {
         "anchor": "x17",
         "domain": [
          0.212,
          0.364
         ],
         "matches": "y16",
         "range": [
          0,
          125
         ],
         "showticklabels": false
        },
        "yaxis18": {
         "anchor": "x18",
         "domain": [
          0.212,
          0.364
         ],
         "matches": "y16",
         "range": [
          0,
          125
         ],
         "showticklabels": false
        },
        "yaxis19": {
         "anchor": "x19",
         "domain": [
          0.212,
          0.364
         ],
         "matches": "y16",
         "range": [
          0,
          125
         ],
         "showticklabels": false
        },
        "yaxis2": {
         "anchor": "x2",
         "domain": [
          0.848,
          1
         ],
         "matches": "y",
         "range": [
          0,
          125
         ],
         "showticklabels": false
        },
        "yaxis20": {
         "anchor": "x20",
         "domain": [
          0.212,
          0.364
         ],
         "matches": "y16",
         "showticklabels": false
        },
        "yaxis21": {
         "anchor": "x21",
         "domain": [
          0,
          0.152
         ],
         "range": [
          0,
          125
         ]
        },
        "yaxis22": {
         "anchor": "x22",
         "domain": [
          0,
          0.152
         ],
         "matches": "y21",
         "range": [
          0,
          125
         ],
         "showticklabels": false
        },
        "yaxis23": {
         "anchor": "x23",
         "domain": [
          0,
          0.152
         ],
         "matches": "y21",
         "range": [
          0,
          125
         ],
         "showticklabels": false
        },
        "yaxis24": {
         "anchor": "x24",
         "domain": [
          0,
          0.152
         ],
         "matches": "y21",
         "range": [
          0,
          125
         ],
         "showticklabels": false
        },
        "yaxis25": {
         "anchor": "x25",
         "domain": [
          0,
          0.152
         ],
         "matches": "y21",
         "range": [
          0,
          125
         ],
         "showticklabels": false
        },
        "yaxis3": {
         "anchor": "x3",
         "domain": [
          0.848,
          1
         ],
         "matches": "y",
         "range": [
          0,
          125
         ],
         "showticklabels": false
        },
        "yaxis4": {
         "anchor": "x4",
         "domain": [
          0.848,
          1
         ],
         "matches": "y",
         "range": [
          0,
          125
         ],
         "showticklabels": false
        },
        "yaxis5": {
         "anchor": "x5",
         "domain": [
          0.848,
          1
         ],
         "matches": "y",
         "range": [
          0,
          125
         ],
         "showticklabels": false
        },
        "yaxis6": {
         "anchor": "x6",
         "domain": [
          0.6359999999999999,
          0.7879999999999999
         ],
         "range": [
          0,
          125
         ]
        },
        "yaxis7": {
         "anchor": "x7",
         "domain": [
          0.6359999999999999,
          0.7879999999999999
         ],
         "matches": "y6",
         "range": [
          0,
          125
         ],
         "showticklabels": false
        },
        "yaxis8": {
         "anchor": "x8",
         "domain": [
          0.6359999999999999,
          0.7879999999999999
         ],
         "matches": "y6",
         "range": [
          0,
          125
         ],
         "showticklabels": false
        },
        "yaxis9": {
         "anchor": "x9",
         "domain": [
          0.6359999999999999,
          0.7879999999999999
         ],
         "matches": "y6",
         "range": [
          0,
          125
         ],
         "showticklabels": false
        }
       }
      },
      "text/html": [
       "<div>                            <div id=\"d7442ad5-0799-4bf3-872d-d63277a717b6\" class=\"plotly-graph-div\" style=\"height:525px; width:100%;\"></div>            <script type=\"text/javascript\">                require([\"plotly\"], function(Plotly) {                    window.PLOTLYENV=window.PLOTLYENV || {};                                    if (document.getElementById(\"d7442ad5-0799-4bf3-872d-d63277a717b6\")) {                    Plotly.newPlot(                        \"d7442ad5-0799-4bf3-872d-d63277a717b6\",                        [{\"autobinx\":false,\"name\":\"Epping\",\"x\":[-1.0,-1.0,701.9,2396.0,733.0,282.0,999.2,847.0,733.5,733.5,-1.0,1012.0,500.0,828.0,231.0,714.5,639.3,843.0,309.6,752.0,-1.0,777.0,-1.0,208.0,891.0,986.0,739.0,765.0,904.2,714.0,758.8,676.0,602.0,700.0,601.0,500.0,369.0,228.0,190.0,746.0,676.4,695.0,-1.0,1189.0,696.0,954.0,848.0,695.0,987.0,-1.0,599.0,1042.0,460.0,752.0,765.0,-1.0,349.0,809.4,-1.0,663.0,-1.0,645.0,855.5,-1.0,1770.0,402.0,460.0,357.0,1069.0,708.0,-1.0,427.0,311.0,835.0,898.0,689.0,-1.0,430.0,767.0,-1.0,-1.0,836.0,890.0,460.0,830.0,1163.0,800.0,531.3,-1.0,-1.0,281.0,-1.0,-1.0,-1.0,828.0,771.0,617.0,978.0,-1.0,379.0,-1.0,720.8,689.0,929.0,701.9,-1.0,580.0,-1.0,500.0,-1.0,739.8,847.0,550.8,1271.0,-1.0,923.0,500.0,841.0,350.0,-1.0,777.0,-1.0,708.0,853.0,765.0,809.0,1056.0,667.0,577.3,-1.0,891.6,343.3,492.0,-1.0,1012.0,478.7,1005.0,541.0,674.0,201.0,344.0,1012.0,759.0,696.0,828.0,-1.0,391.4,-1.0,790.0,-1.0,720.8,-1.0,-1.0,645.0,1012.0,380.0,791.0,-1.0,1056.0,461.0,-1.0,701.0,-1.0,-1.0,-1.0,450.0,-1.0,-1.0,363.0,810.0,351.0,-1.0,310.0,-1.0,-1.0,752.5,740.0,-1.0,-1.0,923.0,-1.0,691.0,-1.0,-1.0,-1.0,585.3,593.0,404.1,676.6,733.5,-1.0,695.0,836.0,359.0,803.0,2007.0,607.0,-1.0,382.9,818.6,1151.0,-1.0,-1.0,771.0,401.5,803.0,-1.0,-1.0,765.0,-1.0,885.0,-1.0,702.0,-1.0,630.0,834.0,916.0],\"xbins\":{\"size\":100},\"type\":\"histogram\",\"xaxis\":\"x\",\"yaxis\":\"y\"},{\"autobinx\":false,\"name\":\"North Rocks\",\"x\":[1087.6,-1.0,715.0,721.0,-1.0,294.0,901.3,831.0,696.0,695.6,-1.0,-1.0,696.0,-1.0,696.0,325.0,739.5,-1.0,696.0,695.0,356.0,818.0,-1.0,-1.0,708.0,695.6,-1.0,-1.0,-1.0,696.0,695.0,797.0,-1.0,957.0,-1.0,695.0,-1.0,696.0,815.0,1296.0,708.0,695.0,721.0,242.0,-1.0,1676.0,1012.0,917.0,708.0,717.0,768.0,789.0,-1.0,-1.0,885.0,-1.0,696.0,695.0,898.0,696.0,696.0,695.0,752.0,739.0,828.3,-1.0,-1.0,696.0,-1.0,1296.0,1100.0,-1.0,698.0,729.2,696.0,-1.0,-1.0,776.0,-1.0,696.0,696.0,696.0,-1.0,696.0,695.0,1021.0,708.0,-1.0,1385.0,-1.0,843.0,-1.0,894.0,720.0,696.0,695.5,-1.0,-1.0,199.0,-1.0,769.0,696.0,-1.0,-1.0,695.6,-1.0,828.0,-1.0,904.0,-1.0],\"xbins\":{\"size\":100},\"type\":\"histogram\",\"xaxis\":\"x2\",\"yaxis\":\"y2\"},{\"autobinx\":false,\"name\":\"Eastwood\",\"x\":[716.0,581.0,-1.0,973.0,605.0,-1.0,-1.0,752.0,311.0,891.6,639.0,482.0,-1.0,-1.0,695.6,999.0,910.0,923.0,929.5,986.0,645.0,540.4,-1.0,332.0,708.0,1132.0,973.8,828.0,-1.0,392.0,-1.0,897.0,841.0,1012.0,421.0,-1.0,1587.0,-1.0,-1.0,188.0,696.0,948.5,676.5,-1.0,879.0,910.5,695.6,954.0,-1.0,632.0,575.0,436.8,892.0,-1.0,582.0,-1.0,1012.0,714.0,580.0,-1.0,682.0,396.0,1011.0,1000.0,651.0,-1.0,-1.0,879.0,1075.0,580.9,-1.0,695.0,714.0,551.0,639.0,916.9,-1.0,-1.0,-1.0,-1.0,702.0,1556.0,733.5,375.0,-1.0,860.0,462.0,562.0,985.0,947.0,728.0,-1.0,381.0,254.0,676.0,-1.0,-1.0,796.0,1012.0,663.0,695.6,-1.0,695.0,-1.0,350.6,253.0,461.0,580.3,588.1,-1.0,-1.0,765.1,-1.0,562.0,-1.0,1672.0,1091.0,475.9,293.1,594.0,916.9,891.6,1100.0,697.0,683.0,645.0,1017.0,727.2,915.1,394.0,348.0,-1.0,436.3,587.0,-1.0,-1.0,-1.0,682.0,796.0,613.0,733.0,525.0,-1.0,-1.0,675.0,-1.0,-1.0,331.0,892.0,657.6,417.0,-1.0,-1.0,632.0,329.0,-1.0,657.6,758.0,1081.0,916.0,-1.0,784.0,-1.0,1010.0,-1.0,1176.0,-1.0,1391.0,-1.0,-1.0,578.2,708.0,-1.0,-1.0,-1.0,338.0,-1.0,-1.0,-1.0,758.8,151.0,334.0,-1.0,334.0,164.0,231.0,620.0,384.0],\"xbins\":{\"size\":100},\"type\":\"histogram\",\"xaxis\":\"x3\",\"yaxis\":\"y3\"},{\"autobinx\":false,\"name\":\"Baulkham Hills\",\"x\":[-1.0,-1.0,-1.0,696.0,199.0,689.0,-1.0,-1.0,-1.0,696.0,-1.0,-1.0,929.0,751.0,929.0,974.0,750.0,750.0,-1.0,888.0,759.0,700.0,1486.0,902.0,696.0,695.0,-1.0,908.0,-1.0,-1.0,929.5,-1.0,310.0,696.0,312.0,696.0,867.1,-1.0,697.2,-1.0,695.5,290.0,847.0,746.0,695.6,697.0,824.7,-1.0,789.0,754.0,1151.0,-1.0,696.0,262.0,-1.0,750.0,695.0,750.0,-1.0,696.0,702.0,714.0,-1.0,-1.0,-1.0,-1.0,696.0,733.5,714.0,-1.0,-1.0,901.0,-1.0,-1.0,-1.0,904.0,695.0,701.0,695.6,766.0,-1.0,-1.0,698.0,-1.0,-1.0,-1.0,695.0,862.0,-1.0,-1.0,-1.0,750.0,351.0,695.0,695.0,766.0,-1.0,759.0,1341.0,-1.0,696.0,-1.0,695.6,-1.0,696.0,-1.0,-1.0,-1.0,-1.0,696.0,-1.0,250.0,-1.0,233.0,743.4,477.8,377.0,-1.0,-1.0,-1.0,696.0,-1.0,-1.0,259.0,-1.0,-1.0,-1.0,-1.0,708.0,782.0,948.0,697.0,750.0,-1.0,-1.0,697.0,287.0,259.0,-1.0,317.2,390.0,-1.0,696.0,-1.0,695.0,-1.0,750.0,689.0,-1.0,750.0,435.0,-1.0,773.6,375.0,783.0,-1.0,854.0,-1.0,-1.0,677.0,702.0,708.0,-1.0,696.0,803.0,-1.0,695.0,695.0,302.0,-1.0,-1.0,695.0,695.0,696.0,700.0,835.0,830.0,695.0,695.0,-1.0,750.0,702.0,-1.0,-1.0,754.0,696.0,-1.0,720.0,695.0,940.0,733.5,702.0,-1.0,-1.0,701.0,-1.0,695.0,750.0,755.0,696.0,696.0,-1.0,602.1,2124.0,444.0,-1.0,697.0,231.0,-1.0,695.0,-1.0,906.0,700.0,569.4,-1.0,-1.0,-1.0,696.0,753.0,696.0,-1.0,-1.0,-1.0,696.0,-1.0,904.0,815.0,-1.0,-1.0,696.0,181.0,720.0,-1.0,-1.0,698.6,861.0,754.0,702.0,-1.0,-1.0,929.0,695.5,-1.0,753.0,777.0,696.0,1170.0,-1.0,752.0,696.0,771.0,695.0,-1.0,-1.0,-1.0,-1.0,-1.0,860.0,-1.0,-1.0,-1.0,961.0,-1.0,703.0,-1.0,708.0,765.0,-1.0,715.0,-1.0,-1.0,689.2,670.0,-1.0,646.5,750.0,697.0,741.0,832.4,891.0,740.0,750.0,-1.0,350.0,696.0,-1.0,696.0,1238.0,-1.0],\"xbins\":{\"size\":100},\"type\":\"histogram\",\"xaxis\":\"x4\",\"yaxis\":\"y4\"},{\"autobinx\":false,\"name\":\"Winston Hills\",\"x\":[-1.0,-1.0,575.4,556.0,556.0,403.0,727.0,-1.0,784.0,-1.0,240.0,695.5,287.0,645.0,689.0,569.1,588.1,575.0,-1.0,562.0,556.0,556.4,563.0,569.0,600.9,556.0,556.0,746.0,651.0,619.6,727.0,721.0,556.0,-1.0,734.0,612.0,556.4,-1.0,-1.0,556.0,639.0,695.0,689.0,-1.0,478.0,649.0,556.0,575.0,613.0,556.0,-1.0,556.0,-1.0,556.0,556.0,556.0,556.0,563.0,-1.0,292.1,556.0,569.0,695.0,-1.0,900.0,570.0,-1.0,645.0,695.0,-1.0,714.5,-1.0,563.0,582.0,416.0,607.0,569.0,552.0,688.0,721.0,620.0,696.0,619.7,850.0,696.0,556.0,607.0,563.0,696.0,898.0,-1.0,-1.0,386.0,-1.0,601.0,-1.0,651.0,698.0,-1.0,-1.0,-1.0,692.0,695.0,-1.0],\"xbins\":{\"size\":100},\"type\":\"histogram\",\"xaxis\":\"x5\",\"yaxis\":\"y5\"},{\"autobinx\":false,\"name\":\"Kellyville\",\"x\":[622.0,733.0,542.0,701.0,334.0,501.0,-1.0,500.0,647.0,-1.0,449.0,-1.0,-1.0,488.0,-1.0,-1.0,754.2,590.2,-1.0,704.6,703.0,700.0,646.0,-1.0,-1.0,510.0,253.0,302.0,-1.0,-1.0,499.0,525.0,451.0,-1.0,-1.0,664.0,455.0,550.0,696.0,263.5,162.4,701.0,-1.0,-1.0,869.0,852.9,469.0,476.0,601.0,721.0,527.0,192.0,540.0,-1.0,702.0,405.0,-1.0,630.0,717.4,-1.0,-1.0,696.0,746.0,-1.0,540.0,523.0,-1.0,665.0,765.0,-1.0,-1.0,449.0,729.3,503.0,603.0,523.0,579.0,342.0,322.0,828.0,-1.0,325.1,450.0,682.5,494.2,450.0,583.0,434.0,-1.0,480.8,-1.0,-1.0,-1.0,457.0,270.0,702.0,697.0,723.8,698.0,700.0,-1.0,532.0,186.0,700.0,449.0,450.0,739.0,703.5,456.0,487.0,537.2,721.0,511.0,389.0,450.0,308.4,612.0,334.7,513.7,707.7,251.0,309.0,682.0,472.0,450.0,-1.0,513.3,500.0,743.0,730.0,258.0,490.0,510.0,-1.0,240.0,-1.0,294.0,332.0,400.0,502.6,504.0,526.1,503.0,-1.0,759.6,600.0,500.2,231.0,450.0,633.0,-1.0,525.0,-1.0,719.0,-1.0,645.0,526.0,450.0,701.9,700.0,449.0,-1.0,467.2,650.0,696.0,-1.0,-1.0,520.0,400.0,450.0,847.3,700.0,500.0,885.0,771.0,-1.0,700.0,450.0,699.0,758.0,329.7,706.0,450.0,765.0,696.0,569.6,523.9,563.2,700.0,-1.0,500.0,702.0,600.0,525.9,473.0,708.0,450.0,-1.0,305.0,-1.0,466.0,-1.0,275.0,450.0,-1.0,462.0,735.0,-1.0,700.0,607.0,802.0,697.0,768.0,467.0,-1.0,-1.0,652.0,-1.0,423.6,679.0,-1.0,-1.0,350.0,701.0,724.0,450.0,701.0,-1.0,714.0,697.0,450.0,340.3,-1.0,320.0,388.0,450.0,451.0,771.0,350.0,-1.0,-1.0,700.0,450.0,-1.0,713.9,566.0,368.0,-1.0,608.0,701.0,561.0,-1.0,170.0,700.0,-1.0,749.0],\"xbins\":{\"size\":100},\"type\":\"histogram\",\"xaxis\":\"x6\",\"yaxis\":\"y6\"},{\"autobinx\":false,\"name\":\"Blacktown\",\"x\":[210.0,239.0,562.0,-1.0,-1.0,556.4,-1.0,607.0,560.0,734.0,580.0,209.0,-1.0,-1.0,607.0,-1.0,556.4,556.0,562.8,645.0,188.3,562.0,-1.0,231.0,182.0,-1.0,-1.0,611.0,-1.0,556.0,556.0,-1.0,556.0,222.0,556.0,695.0,594.0,318.3,-1.0,594.4,562.8,250.0,328.5,613.0,-1.0,556.4,-1.0,556.0,-1.0,676.0,220.0,302.0,796.0,-1.0,186.0,589.6,1024.0,-1.0,251.0,556.4,556.4,280.0,230.0,330.0,-1.0,1180.0,556.0,-1.0,556.0,948.0,511.0,550.0,640.0,638.6,-1.0,607.0,752.0,575.0,595.0,676.6,1012.0,600.7,-1.0,580.0,575.0,588.0,-1.0,573.0,179.0,556.4,557.6,247.0,626.0,600.7,834.7,562.8,336.0,550.0,-1.0,569.0,-1.0,581.0,594.0,208.0,790.0,556.0,451.0,259.0,581.0,560.6,-1.0,-1.0,897.0,249.0,727.0,550.0,405.0,-1.0,569.1,-1.0,695.0,564.0,273.0,-1.0,569.0,560.0,600.7,594.4,543.8,562.8,430.0,556.4,-1.0,-1.0,693.2,610.0,809.0,733.5,607.0,556.0,613.0,556.0,784.1,942.2,607.0,-1.0,-1.0,556.4,208.0,645.0,-1.0,556.0,562.0,314.0,601.0,594.4,556.4,-1.0,930.0,574.6,-1.0,-1.0,305.0,569.0,562.8,500.0,454.0,878.0,607.0,-1.0,-1.0,-1.0,-1.0,581.0,562.0,1012.0,556.4,562.8,-1.0,550.0,-1.0,-1.0,632.0,556.0,560.0,556.0,556.0,-1.0,532.0,-1.0,295.0,498.0,695.6,556.0,708.0,373.0,556.0,569.1,1012.0,-1.0,-1.0,563.0,651.0,575.4,700.0,556.4,556.0,556.4,-1.0,-1.0,600.0,607.0,-1.0,600.0,1024.0,607.0,600.7,626.0,-1.0,575.0,-1.0,-1.0,569.0,-1.0,575.0,695.0,430.0,-1.0,556.0,-1.0,633.4,-1.0,556.4,-1.0,-1.0,569.1,-1.0,-1.0,716.0,556.0,-1.0,556.0,328.0,556.0,500.0,556.0,-1.0,-1.0,581.0,-1.0,-1.0,556.0,-1.0,407.6,582.0,645.0,-1.0,691.0,556.4,556.4,-1.0,-1.0,556.4,405.4,580.0,1119.0,770.5,219.6,-1.0,610.0,-1.0,-1.0,-1.0,645.0,245.0,556.4,-1.0,-1.0,525.3,556.0,569.0,556.4,-1.0,-1.0,-1.0,362.0,-1.0,607.0,1309.0,1005.0,639.0,860.0,551.0,501.5,581.7,556.0,-1.0,759.0,490.0,253.0,645.0,765.1,-1.0,868.0,632.3,585.0,575.0,-1.0,-1.0,530.0,-1.0,556.0,556.0,556.0,999.1,1123.0,311.0,600.7,-1.0,620.0,566.4,689.0,563.0,557.0,513.0,594.4,-1.0,253.0,-1.0,-1.0,-1.0,-1.0,460.0,-1.0,-1.0,-1.0,600.7,-1.0,703.0,697.0,645.0,1014.0,689.2,600.7,-1.0,-1.0,753.0,-1.0,-1.0,556.4,556.4,557.0,247.0,698.0,556.4,866.3,822.2,-1.0,-1.0,-1.0,562.8,720.8,550.0,-1.0,648.0,-1.0,-1.0,689.0,-1.0,556.4,992.0,501.0,240.0,701.9,632.3,566.0,-1.0,-1.0,550.0,575.4,556.0,989.0,-1.0,-1.0,1208.0,192.0,556.0,619.0,703.0,607.0,-1.0,242.0,253.6,-1.0,-1.0,-1.0,556.4,-1.0,213.0,556.0,556.0,-1.0,285.8,562.8,765.0,973.0,466.0,720.0,563.0,575.4,556.4,778.0,765.1,695.0,563.0,626.0,-1.0,-1.0,-1.0,556.4,1012.0,556.0,575.0,-1.0,-1.0,350.0,645.0,-1.0,682.9,632.0,-1.0,-1.0,670.0,-1.0,773.0,556.4,600.7,-1.0,-1.0,202.2,645.0,569.0,304.0,-1.0,613.0,916.0,556.0,378.0,-1.0,556.4,212.0,-1.0,556.0,-1.0,556.0,-1.0,1012.0,-1.0,663.9,562.8,-1.0,-1.0,-1.0,651.0,556.0,613.4,-1.0,-1.0,600.7,550.1,560.0,600.0,594.4,-1.0,-1.0,594.4,569.0,777.0,558.5,-1.0,-1.0,142.0,2231.0,613.4,695.0,601.0,271.0,-1.0,1024.0,-1.0,550.0,550.0,972.0,556.0,556.0,663.9,559.0,556.0,-1.0,626.0,-1.0,556.4,-1.0,803.0,-1.0,556.0,588.1,581.7,-1.0,365.8,-1.0,575.0,556.0,-1.0,621.0,-1.0,670.4,583.0,556.0,206.5,-1.0,548.0,847.3,-1.0,613.0,562.8,670.3,-1.0,588.0,550.0,-1.0,1012.0,345.4,676.0,300.0,574.0,-1.0,556.4,575.4,607.0,556.0,315.5,-1.0,303.0,330.0,-1.0,142.6,-1.0,556.0,283.0,828.0,594.2,-1.0,450.0,1112.0,-1.0,581.7,-1.0,-1.0,600.7,-1.0,-1.0,556.0,575.0,575.4,396.0,216.0,-1.0,-1.0,632.0,556.0,-1.0,563.0,-1.0,-1.0,-1.0,-1.0,1303.0,556.0,-1.0,556.4,556.0,556.0,550.0,564.0,556.4,-1.0,562.8,309.0,556.0,645.0,556.0,556.0,-1.0,-1.0,600.0,450.0,-1.0,485.2,569.0,-1.0,562.8,434.0,651.0,-1.0,-1.0,-1.0,575.0,-1.0,1201.0,556.4,556.0,1853.0,512.2,-1.0,562.8,461.0,556.0,325.0,777.0,764.0,-1.0,663.0,-1.0,812.0,588.1,-1.0,-1.0,555.0,1018.0,670.0,-1.0,777.8,556.4,-1.0,-1.0,-1.0,452.0,803.0,-1.0,-1.0,-1.0,-1.0,-1.0,-1.0,562.8,-1.0,556.4,573.4,822.0,-1.0,556.0,-1.0,506.0,324.0,-1.0,619.0,569.0,-1.0,-1.0,556.0,607.0,-1.0,-1.0,663.0,280.0,-1.0,619.7,-1.0,986.4,556.0,-1.0,645.0,206.0,-1.0,556.0,625.7,-1.0,556.0,183.0,550.1,582.0,-1.0],\"xbins\":{\"size\":100},\"type\":\"histogram\",\"xaxis\":\"x7\",\"yaxis\":\"y7\"},{\"autobinx\":false,\"name\":\"Castle Hill\",\"x\":[375.0,1.11,588.0,777.0,856.0,769.0,750.4,933.0,410.0,900.0,752.0,814.8,399.0,-1.0,911.0,863.0,696.0,796.7,713.0,292.0,708.0,695.6,708.0,725.2,727.7,-1.0,696.0,-1.0,404.0,700.0,-1.0,-1.0,1094.0,775.0,930.0,-1.0,701.0,854.0,309.0,-1.0,930.0,708.0,-1.0,695.0,777.0,736.0,1865.0,406.0,1125.0,-1.0,-1.0,930.0,727.0,-1.0,-1.0,-1.0,871.3,714.5,461.0,-1.0,868.0,-1.0,759.0,503.4,2906.0,-1.0,1165.0,878.9,632.0,930.0,-1.0,700.0,515.6,842.0,968.0,695.0,733.0,-1.0,930.0,1860.0,695.0,1899.0,-1.0,916.0,697.0,252.0,759.0,-1.0,-1.0,276.0,907.3,703.0,232.0,356.0,588.0,-1.0,-1.0,696.0,600.0,-1.0,386.0,580.0,920.0,1019.0,733.0,326.0,380.3,494.0,724.0,696.0,-1.0,-1.0,-1.0,884.0,697.0,-1.0,500.0,695.0,588.0,-1.0,-1.0,727.0,766.0,-1.0,778.0,-1.0,388.0,1049.0,778.0,741.0,-1.0,-1.0,930.0,-1.0,2042.0,600.0,695.0,220.0,759.0,708.0,739.0,701.0,-1.0,930.0,-1.0,931.0,-1.0,-1.0,982.0,765.1,-1.0,935.0,1240.0,277.6,1175.0,695.6,-1.0,696.0,695.6,872.8,311.0,241.0,533.0,438.9,1004.0,251.0,603.0,3200.0,778.0,636.0,689.0,600.0,287.0,-1.0,936.0,458.0,695.0,708.0,373.0,-1.0,554.1,1220.0,695.6,800.0,-1.0,-1.0,733.0,923.2,980.0,-1.0,968.9,600.0,700.0,503.1,905.0,-1.0,820.0,696.0,701.9,667.0,472.2,448.0,676.0,-1.0,515.0,-1.0,-1.0,930.0,-1.0,441.0,701.0,721.0,390.0,708.5,788.0,-1.0,450.0,-1.0,2057.0,806.0,628.4,719.0,720.0,533.0,-1.0,396.0,707.0,620.0,-1.0,-1.0,782.0,707.0,696.0,612.0,2011.0,752.0,-1.0,-1.0,696.0,612.8,908.0,452.0,700.0,-1.0,758.1,936.0,695.6,-1.0,784.0,727.4,-1.0,342.0,-1.0,-1.0,-1.0,740.0,1069.0,933.4,1195.0,733.0,765.2,440.0,999.0,492.0,764.0,241.0,-1.0,-1.0,-1.0,-1.0,-1.0,805.0,187.0,919.0,-1.0,936.0,712.0,-1.0,190.0,1739.0,539.0,-1.0,-1.0,917.0,750.0,-1.0,260.9,408.0,-1.0,708.0,1565.0,581.0,-1.0,2003.0,933.0,695.0,-1.0,750.0,300.0,1100.0,2351.0,245.0],\"xbins\":{\"size\":100},\"type\":\"histogram\",\"xaxis\":\"x8\",\"yaxis\":\"y8\"},{\"autobinx\":false,\"name\":\"Ryde\",\"x\":[382.6,796.0,408.0,531.1,663.9,537.0,-1.0,613.0,670.3,-1.0,695.6,518.5,-1.0,695.6,305.8,581.7,350.0,461.6,-1.0,727.0,448.1,-1.0,-1.0,348.0,-1.0,-1.0,1201.0,-1.0,-1.0,-1.0,-1.0,1225.0,-1.0,-1.0,-1.0,-1.0,-1.0,-1.0,613.0,486.0,667.0,474.0,-1.0,550.1,714.0,693.0,727.0,645.0,-1.0,-1.0,-1.0,-1.0,570.0,-1.0,-1.0,-1.0,249.0,-1.0,-1.0,720.0,-1.0,-1.0,680.0,784.1,598.0,-1.0,575.4,524.0,-1.0,468.0,518.5,-1.0,525.0,550.0,-1.0,499.0,-1.0,486.0,-1.0,-1.0,-1.0,493.0,-1.0,601.0,635.0,619.0,270.7,-1.0,314.7,506.0,443.0,484.0,-1.0,655.0,567.0,685.0,-1.0,-1.0,638.5,-1.0,-1.0,872.0,728.0,-1.0,645.0,607.0,-1.0,772.0,-1.0,-1.0,543.0,-1.0,-1.0,518.0,581.0,-1.0,341.0,-1.0,-1.0,-1.0,-1.0,697.9,841.0,670.0,740.0,-1.0,-1.0,588.1,-1.0,-1.0,-1.0,-1.0,1859.3,-1.0,619.0,670.0,308.0,575.4,-1.0,-1.0,670.0,474.0,493.0,556.0,607.0,-1.0,670.0,923.2,689.0,-1.0,809.0,-1.0,-1.0,758.0,694.0,853.6,556.0,-1.0,-1.0,620.0,670.0,-1.0,670.0,480.0,834.7,685.0,-1.0,-1.0,461.0,-1.0,656.0,493.0,-1.0,300.0,500.0,277.0,-1.0,-1.0,-1.0,206.0,362.0,-1.0,-1.0],\"xbins\":{\"size\":100},\"type\":\"histogram\",\"xaxis\":\"x9\",\"yaxis\":\"y9\"},{\"autobinx\":false,\"name\":\"Rouse Hill\",\"x\":[450.0,268.0,-1.0,-1.0,-1.0,-1.0,-1.0,-1.0,600.0,450.0,-1.0,-1.0,242.0,712.5,613.0,712.8,-1.0,750.0,633.0,-1.0,801.0,641.5,620.0,700.0,559.5,-1.0,417.0,-1.0,600.0,808.8,540.0,-1.0,501.4,-1.0,1062.0,579.4,-1.0,600.0,-1.0,587.0,450.0,-1.0,-1.0,600.0,600.0,701.0,351.0,419.0,-1.0,700.0,441.0,530.0,-1.0,273.0,550.0,345.0,-1.0,-1.0,615.5,440.0,-1.0,450.0,450.0,450.0,505.6,510.0,450.0,600.0,450.0,600.0,601.2,435.0,382.0,-1.0,-1.0,450.0,600.0,580.5,215.0,450.0,450.0,708.0,-1.0,-1.0,450.0,488.0,804.7,308.0,450.0,620.0,-1.0,600.0,700.0,-1.0,450.0,336.0,336.0,270.4,335.0,335.0,450.0,-1.0,-1.0,270.4,317.8,317.0,-1.0,303.0,399.0,789.9,700.0,907.0,317.8,314.0,-1.0,276.0,-1.0,660.0,700.0,-1.0,350.0,306.6,300.0,303.0,700.0],\"xbins\":{\"size\":100},\"type\":\"histogram\",\"xaxis\":\"x10\",\"yaxis\":\"y10\"},{\"autobinx\":false,\"name\":\"Beecroft\",\"x\":[1426.0,507.2,1037.0,1435.0,695.6,860.0,600.0,1005.0,3272.0,966.4,-1.0,-1.0,928.7,1220.0,695.6,929.5,1157.0,872.0,771.0,961.1,1107.0,897.0,746.0,702.7,658.2,583.0,1107.0,837.5,911.3,866.3,1252.0,803.0,724.1,946.2,809.4,431.0,891.6,1000.0,942.0,1372.0,291.0,769.2,1086.0,925.5,986.4,1296.0,721.6,1124.0,1871.0,1151.0,1182.0,743.0,803.0,1448.0,-1.0,930.0,930.0,841.0,-1.0,-1.0,604.0,796.0,930.0,923.2,822.0,1322.0,1006.0,697.0,1480.0,-1.0,-1.0,-1.0,910.0,1494.0,1277.0,698.0,734.0,600.0,1126.0,1211.3,1005.0,733.0,1310.0,710.0,930.0,1152.0,1152.0,1195.0,-1.0,841.0,898.0,746.1,1227.0,-1.0,653.0,740.0,897.9,881.0,902.6,658.0,2219.0,1404.0,-1.0,-1.0,-1.0,910.5],\"xbins\":{\"size\":100},\"type\":\"histogram\",\"xaxis\":\"x11\",\"yaxis\":\"y11\"},{\"autobinx\":false,\"name\":\"Ermington\",\"x\":[550.0,2011.0,828.0,270.0,-1.0,315.0,470.0,247.0,-1.0,761.0,-1.0,-1.0,404.0,279.0,648.0,323.0,-1.0,-1.0,-1.0,391.0,1093.0,-1.0,-1.0,594.4,383.0,320.0,234.0,-1.0,-1.0,-1.0,630.0,518.9,300.0,427.0,-1.0,923.0,-1.0,708.0,-1.0,521.0,-1.0,-1.0,-1.0,328.0,-1.0,-1.0,607.0,657.0,521.0,-1.0,-1.0,847.0,645.0,353.0,368.0,-1.0,569.0,436.0,639.0,681.0,-1.0,-1.0,565.0,-1.0,700.0,-1.0,771.0,306.0,-1.0,462.0,-1.0,-1.0,266.0,272.0,-1.0,420.0,270.0,206.0,628.0,-1.0,-1.0,300.0,640.0,318.0,562.8,-1.0,397.0,-1.0,639.0,460.0,586.0,-1.0,-1.0,-1.0,316.0,-1.0,760.0,518.0,176.1,582.0,828.0,727.0,215.0,-1.0,663.9,404.0,560.0,575.0,495.0,-1.0,320.0,-1.0,-1.0,520.0,-1.0,1176.0,645.0,-1.0,-1.0,328.0,-1.0,556.0,-1.0,626.0,600.0,588.0,580.0,-1.0,-1.0,-1.0,-1.0,449.0,339.0,594.0,373.0,-1.0,-1.0,457.0,954.8,342.4,942.2,-1.0,-1.0,321.0,319.6,-1.0,320.0,771.0,-1.0,-1.0,2118.2,1176.0,942.2,-1.0,-1.0,289.0,338.0,331.4,784.1,1005.0,657.6,442.0,626.0,-1.0,407.0,543.8,-1.0,929.5,524.9,-1.0,-1.0,463.0],\"xbins\":{\"size\":100},\"type\":\"histogram\",\"xaxis\":\"x12\",\"yaxis\":\"y12\"},{\"autobinx\":false,\"name\":\"Northmead\",\"x\":[696.0,397.0,-1.0,-1.0,-1.0,1043.0,925.0,-1.0,-1.0,-1.0,739.8,-1.0,-1.0,556.4,-1.0,790.0,701.0,-1.0,233.0,-1.0,898.0,683.0,-1.0,556.0,607.0,851.0,841.0,-1.0,-1.0,765.0,556.0,809.0,835.0,696.0,695.6,-1.0,1325.0,616.0,-1.0,687.0,481.0,-1.0,-1.0,556.0,-1.0,-1.0,711.0,557.0,-1.0,809.0,-1.0,822.0,695.0,771.0,809.0,1020.0,400.0,-1.0,-1.0,660.0,375.0,718.0,212.0,-1.0,613.0,696.0,-1.0,645.0,-1.0,303.2,-1.0,374.0,-1.0,-1.0,695.0,344.6,-1.0,556.0,465.0,-1.0,556.0,1119.0,203.0,696.0,690.0,333.1,-1.0,618.0,304.3,-1.0,357.0,505.0,645.0,753.0,664.0,696.0,695.0,695.0,1163.0,-1.0,901.0,450.0,-1.0,746.0,-1.0,-1.0,-1.0,670.0,689.2,-1.0,834.7,859.0,-1.0,-1.0,790.0,778.0,696.0,-1.0,480.0,-1.0,613.0,383.2,397.0,696.0,-1.0,695.0,-1.0,512.0,253.0,343.0,556.0,-1.0,-1.0,359.0,-1.0,556.0,696.0,-1.0,-1.0,411.0,848.9,556.0,512.0,326.0,-1.0,556.0,563.0,309.0,828.0,1802.0,619.7,657.0,556.0],\"xbins\":{\"size\":100},\"type\":\"histogram\",\"xaxis\":\"x13\",\"yaxis\":\"y13\"},{\"autobinx\":false,\"name\":\"Newington\",\"x\":[314.8,-1.0,420.4,301.0,419.0,-1.0,-1.0,253.0,300.0,388.0,273.0,273.0,314.0,426.0,354.0,262.0,210.0,-1.0,257.0,293.0,-1.0,-1.0,326.0,273.0,245.0,-1.0,-1.0,-1.0,273.0,307.0,282.0,230.0,228.0,-1.0,-1.0,-1.0,423.0,287.0],\"xbins\":{\"size\":100},\"type\":\"histogram\",\"xaxis\":\"x14\",\"yaxis\":\"y14\"},{\"autobinx\":false,\"name\":\"Concord\",\"x\":[-1.0,-1.0,465.5,458.8,445.1,452.3,373.1,581.7,423.7,651.3,619.7,860.0,-1.0,-1.0,-1.0,505.9,556.4,-1.0,512.0,531.0,-1.0,499.5,556.4,537.5,442.0,470.0,430.0,-1.0,234.0,-1.0,556.4,427.8,973.8,556.4,605.5,1000.0,247.0,326.0,556.0,-1.0,448.9,505.9,183.0,746.1,697.0,480.0,495.0,613.4,540.0,512.0,-1.0,-1.0,373.0,300.0,404.7,455.0,537.0,474.2,512.2,537.0,423.7,986.4,373.3,-1.0,613.0,-1.0,575.0,442.6,860.0,790.4,-1.0,600.7,651.3,569.1,487.68,309.8,-1.0,499.5,-1.0,683.4,-1.0,404.7,556.4,-1.0,-1.0,556.4,512.2,530.0,-1.0,417.0,519.0,531.1,404.7,575.4,531.0,493.2,-1.0,-1.0,502.9,-1.0,-1.0,370.0,512.2,-1.0,-1.0,-1.0,442.6,605.0,-1.0,-1.0,490.5,443.5,460.0,467.2,-1.0,-1.0,-1.0,-1.0,-1.0,366.7,-1.0,-1.0,-1.0,-1.0,445.0,543.0,-1.0,620.0,-1.0,598.21,-1.0,-1.0,-1.0,221.0,-1.0,537.0,309.8],\"xbins\":{\"size\":100},\"type\":\"histogram\",\"xaxis\":\"x15\",\"yaxis\":\"y15\"},{\"autobinx\":false,\"name\":\"Marsfield\",\"x\":[-1.0,577.0,-1.0,601.0,-1.0,-1.0,580.0,575.0,-1.0,575.4,293.0,-1.0,-1.0,-1.0,-1.0,306.7,607.0,686.0,582.0,-1.0,-1.0,-1.0,581.7,632.0,-1.0,-1.0,689.0,-1.0,205.0,581.7,588.0,-1.0,575.4,-1.0,-1.0,-1.0,575.0,-1.0,-1.0,950.0,613.0,-1.0,791.0,591.0,-1.0,-1.0,-1.0,158.0,-1.0,-1.0,-1.0,174.0,-1.0,-1.0,-1.0,-1.0,689.0,580.0,582.0,-1.0,-1.0,575.4,461.0,-1.0,657.0,-1.0,302.0,-1.0,-1.0,-1.0,-1.0,623.0,689.0,-1.0,580.0,580.0,993.0,-1.0,-1.0,687.0,-1.0,-1.0,-1.0,-1.0,-1.0,-1.0,-1.0,591.0,590.0,-1.0,575.0,-1.0,-1.0,740.0,-1.0,765.0,581.6,720.0,437.5,-1.0,626.0,260.0,-1.0,-1.0,-1.0,-1.0,-1.0,-1.0,156.0,870.0,-1.0,-1.0,-1.0,-1.0,582.0,-1.0,-1.0,-1.0,702.0,-1.0],\"xbins\":{\"size\":100},\"type\":\"histogram\",\"xaxis\":\"x16\",\"yaxis\":\"y16\"},{\"autobinx\":false,\"name\":\"Hornsby\",\"x\":[-1.0,-1.0,1111.0,-1.0,-1.0,-1.0,860.0,744.0,-1.0,475.0,-1.0,926.3,1102.0,932.0,-1.0,-1.0,853.0,1147.0,740.0,1151.0,776.0,709.0,759.0,980.0,-1.0,808.0,830.0,-1.0,930.0,492.0,521.0,-1.0,-1.0,307.0,948.0,-1.0,344.0,696.0,696.0,-1.0,-1.0,720.0,672.0,396.0,430.0,-1.0,-1.0,480.0,259.0,608.0,715.0,-1.0,613.0,-1.0,-1.0,-1.0,683.2,-1.0,891.0,1019.0,-1.0,869.0,630.0,-1.0,825.0,-1.0,737.0,714.0,697.0,695.6,740.0,-1.0,866.0,822.6,-1.0,-1.0,917.0,1075.0,-1.0,714.0,1057.0,-1.0,657.0,-1.0,776.0,-1.0,-1.0,937.3,1062.0,-1.0,507.0,-1.0,917.0,-1.0,-1.0,-1.0,611.0,866.3,-1.0,-1.0,690.0,-1.0,-1.0,-1.0,-1.0,853.0,-1.0,-1.0,822.0,605.5,-1.0,-1.0,929.0,-1.0,-1.0,752.0,1711.0,-1.0,907.9,759.0,720.0,-1.0,660.0,691.0,-1.0,702.0,1246.0,319.0,876.0,-1.0,1480.0,-1.0,1050.0,707.0,-1.0,-1.0,498.0,-1.0,-1.0,690.0,-1.0,705.0,-1.0,819.0,929.0,738.0,-1.0,-1.0,682.0,1223.0,835.0,757.0,3753.0,706.0],\"xbins\":{\"size\":100},\"type\":\"histogram\",\"xaxis\":\"x17\",\"yaxis\":\"y17\"},{\"autobinx\":false,\"name\":\"Lidcombe\",\"x\":[-1.0,531.1,613.0,-1.0,-1.0,-1.0,-1.0,341.0,505.9,464.51,-1.0,-1.0,607.0,600.7,468.0,613.11,-1.0,-1.0,-1.0,379.0,-1.0,417.3,519.0,-1.0,-1.0,-1.0,-1.0,-1.0,-1.0,-1.0,-1.0,-1.0,-1.0,-1.0,803.0,-1.0,134.0,468.0,-1.0,436.0,-1.0,-1.0,575.0,607.0,-1.0,714.5,600.7,661.0,501.8,488.0,-1.0,-1.0,-1.0,-1.0,-1.0,-1.0,480.0,-1.0,680.0,230.0,287.0,-1.0,409.4,-1.0,-1.0,487.0,-1.0,240.0,613.3,-1.0,222.0,695.0,-1.0,519.0,847.0,-1.0,442.6,367.0,648.0,420.0,-1.0,658.0,370.0,-1.0,-1.0,607.0,538.0,442.0,800.0,607.0,505.9,626.0,316.0,668.0,556.0,613.0,556.0,-1.0,696.0,250.0,-1.0,607.0,366.7,-1.0,-1.0,-1.0,-1.0,695.6,-1.0,714.0,626.0,468.0,183.0,-1.0,-1.0,473.0,-1.0,360.0,607.0,487.0,-1.0,411.0,432.0,-1.0,500.0,322.0,158.0,-1.0,626.0,-1.0,-1.0,-1.0,-1.0,443.0,-1.0,-1.0,-1.0,-1.0,556.0,-1.0,355.0,-1.0,398.0,-1.0,-1.0,229.0,-1.0,545.0,-1.0,-1.0,-1.0,-1.0,607.0,436.0,490.0,442.6,-1.0,-1.0,455.0,-1.0,613.0,411.0,-1.0,207.0,-1.0,-1.0,-1.0,-1.0,430.0],\"xbins\":{\"size\":100},\"type\":\"histogram\",\"xaxis\":\"x18\",\"yaxis\":\"y18\"},{\"autobinx\":false,\"name\":\"Homebush\",\"x\":[696.0,743.0,661.9,-1.0,214.0,-1.0,-1.0,-1.0,185.0,392.0,-1.0,-1.0,-1.0,551.0,-1.0,670.0,493.0,-1.0,696.0,-1.0,-1.0,-1.0,-1.0,695.0,-1.0,677.0,-1.0,-1.0,-1.0],\"xbins\":{\"size\":100},\"type\":\"histogram\",\"xaxis\":\"x19\",\"yaxis\":\"y19\"},{\"autobinx\":false,\"name\":\"Ashfield\",\"x\":[892.0,354.0,188.0,-1.0,-1.0,152.0,-1.0,-1.0,403.0,-1.0,-1.0,-1.0,543.0,165.0,613.0,293.0,-1.0,-1.0,-1.0,-1.0,-1.0,-1.0,-1.0,519.2,-1.0,-1.0,-1.0,-1.0,-1.0,-1.0,269.0,716.0,170.0,-1.0,-1.0,-1.0,373.0,-1.0,379.0,-1.0,-1.0,486.9,620.0,316.0,-1.0,518.0,468.0,411.0,372.0,153.0,-1.0,-1.0,-1.0,-1.0,-1.0,291.0,-1.0,188.0,520.0,-1.0,464.0,-1.0,295.0,-1.0,-1.0,412.0,-1.0,-1.0,885.2,540.0,-1.0,500.0,-1.0,-1.0,-1.0,411.0,-1.0,-1.0,-1.0,-1.0,-1.0,-1.0,-1.0,-1.0,-1.0,398.0,450.0,347.3,-1.0,581.7,-1.0,-1.0,-1.0,468.2,323.0,-1.0,658.0,401.0,541.0,-1.0,351.0,569.0,695.6,373.3,585.0,-1.0,499.0,423.0,-1.0,360.0,-1.0,720.0,-1.0,443.0,366.7,-1.0,310.0,436.0,300.0,-1.0,-1.0,298.2,154.8,215.0,-1.0,-1.0,575.4,-1.0,-1.0,-1.0,809.0,201.0,-1.0,-1.0,145.0,385.7,-1.0],\"xbins\":{\"size\":100},\"type\":\"histogram\",\"xaxis\":\"x21\",\"yaxis\":\"y21\"},{\"autobinx\":false,\"name\":\"Leichhardt\",\"x\":[182.0,351.0,95.0,120.0,202.0,192.0,101.0,139.0,169.0,322.0,234.0,290.0,303.0,187.7,-1.0,113.8,-1.0,126.0,615.0,313.0,232.0,-1.0,-1.0,220.7,133.0,287.0,423.7,215.0,-1.0,189.0,236.0,190.0,95.0,348.0,212.0,272.0,145.4,133.0,-1.0,-1.0,186.0,-1.0,123.8,695.0,145.5,215.0,246.0,-1.0,171.0,234.0,-1.0,164.0,-1.0,181.0,101.0,-1.0,152.0,145.0,177.0,216.0,169.0,185.77,340.0,366.8,146.0,-1.0,125.0,208.6,171.0,-1.0,219.0,131.0,136.0,183.0,120.0,194.0,208.7,100.0,245.0,215.0,212.0,201.0,227.6,192.0,145.0,95.0,-1.0,-1.0,188.0,145.4,152.0,-1.0,-1.0,426.5,235.0,189.0,134.0,306.0,-1.0,135.0,-1.0,116.0,182.0,180.0,140.0,173.0,-1.0,-1.0,126.0,-1.0,343.0,462.0,200.0,-1.0,-1.0,-1.0,-1.0,202.0,259.0,139.0,-1.0,-1.0,127.0,232.26,117.0,-1.0,-1.0,-1.0,-1.0,130.0,224.0,-1.0,223.0,223.0,341.0,-1.0,184.0,326.0,379.4,247.0,151.0,-1.0,177.0,191.0,145.0,-1.0,-1.0,328.0,221.0,182.0,215.0,183.0,234.0,-1.0,232.0,190.0,124.9,-1.0,-1.0,272.0,-1.0,343.0,150.0,180.0,157.0,-1.0,-1.0,250.0,371.0,-1.0,-1.0,-1.0,172.0,132.8,272.0,190.0,212.0,-1.0,-1.0,145.0,407.9,236.0,-1.0,372.0,171.0,240.0,-1.0,246.0,238.0,354.0,186.0,108.0,183.0,-1.0,-1.0,172.0,133.0,99.0,-1.0,145.0,-1.0,-1.0,-1.0,-1.0],\"xbins\":{\"size\":100},\"type\":\"histogram\",\"xaxis\":\"x22\",\"yaxis\":\"y22\"},{\"autobinx\":false,\"name\":\"Annandale\",\"x\":[-1.0,450.0,307.0,101.2,74.0,221.0,171.0,190.0,-1.0,228.0,398.0,-1.0,328.8,257.0,291.0,-1.0,247.0,147.0,152.0,310.0,371.0,-1.0,152.0,183.0,-1.0,139.0,221.0,-1.0,-1.0,221.3,-1.0,174.0,329.0,174.0,-1.0,184.0,152.0,-1.0,-1.0,253.0,114.0,215.0,210.0,183.0,247.0,-1.0,132.8,200.0,370.0,120.0,118.0,107.5,215.0,-1.0,209.0,272.0,151.8,215.0,202.0,-1.0,191.0,126.5,285.0,240.0,163.0,138.0,117.0,344.0,-1.0,230.0,242.0,-1.0,167.0,-1.0,145.0,152.0,-1.0,157.0,140.0,129.0,183.4,137.0,109.0,202.0,-1.0,306.0,152.0,183.0,240.0,-1.0,89.0,134.0,-1.0,-1.0,736.0,193.0,217.0,-1.0,250.0,-1.0],\"xbins\":{\"size\":100},\"type\":\"histogram\",\"xaxis\":\"x23\",\"yaxis\":\"y23\"},{\"autobinx\":false,\"name\":\"Allambie Heights\",\"x\":[727.0,-1.0,-1.0,-1.0,405.0,-1.0,1024.0,639.0,638.6,-1.0,619.0,809.0,-1.0,-1.0,375.0,556.0,-1.0,594.0,750.0,1088.0,797.0,666.0,-1.0,-1.0,809.0,607.0,556.0,-1.0,809.0,-1.0,-1.0,-1.0,500.0,-1.0,613.0,866.0,658.0,-1.0,816.0,-1.0,645.0,512.2,728.0,798.0,765.0,-1.0,559.0,606.0,-1.0,601.0,595.0,594.0,-1.0,-1.0,-1.0,-1.0,565.0,311.0,-1.0,1055.0,784.0,-1.0,-1.0,765.0,683.0,-1.0,683.0,727.0,-1.0,575.0,679.0,645.0,1163.0,-1.0,282.0,-1.0,-1.0,873.0,-1.0,-1.0,-1.0,335.0,1269.0,-1.0],\"xbins\":{\"size\":100},\"type\":\"histogram\",\"xaxis\":\"x24\",\"yaxis\":\"y24\"},{\"autobinx\":false,\"name\":\"Forestville\",\"x\":[349.0,268.0,-1.0,696.0,-1.0,759.0,696.0,-1.0,-1.0,791.0,235.0,820.0,-1.0,556.0,702.0,830.0,721.0,873.0,-1.0,391.0,822.0,721.0,759.0,778.0,557.0,557.48,740.0,620.0,720.8,696.0,828.0,578.0,1113.0,-1.0,-1.0,-1.0,-1.0,556.0,721.0,780.0,314.5,569.1,1341.0,1752.0,-1.0,721.0,841.0,422.0,-1.0,-1.0,708.0,-1.0,898.0,339.0,-1.0,1075.0,734.0,375.0,-1.0,-1.0,533.0,541.0,980.1,820.0,847.3,-1.0,-1.0,721.0,898.0,695.6],\"xbins\":{\"size\":100},\"type\":\"histogram\",\"xaxis\":\"x25\",\"yaxis\":\"y25\"}],                        {\"template\":{\"data\":{\"bar\":[{\"error_x\":{\"color\":\"#2a3f5f\"},\"error_y\":{\"color\":\"#2a3f5f\"},\"marker\":{\"line\":{\"color\":\"#E5ECF6\",\"width\":0.5},\"pattern\":{\"fillmode\":\"overlay\",\"size\":10,\"solidity\":0.2}},\"type\":\"bar\"}],\"barpolar\":[{\"marker\":{\"line\":{\"color\":\"#E5ECF6\",\"width\":0.5},\"pattern\":{\"fillmode\":\"overlay\",\"size\":10,\"solidity\":0.2}},\"type\":\"barpolar\"}],\"carpet\":[{\"aaxis\":{\"endlinecolor\":\"#2a3f5f\",\"gridcolor\":\"white\",\"linecolor\":\"white\",\"minorgridcolor\":\"white\",\"startlinecolor\":\"#2a3f5f\"},\"baxis\":{\"endlinecolor\":\"#2a3f5f\",\"gridcolor\":\"white\",\"linecolor\":\"white\",\"minorgridcolor\":\"white\",\"startlinecolor\":\"#2a3f5f\"},\"type\":\"carpet\"}],\"choropleth\":[{\"colorbar\":{\"outlinewidth\":0,\"ticks\":\"\"},\"type\":\"choropleth\"}],\"contour\":[{\"colorbar\":{\"outlinewidth\":0,\"ticks\":\"\"},\"colorscale\":[[0.0,\"#0d0887\"],[0.1111111111111111,\"#46039f\"],[0.2222222222222222,\"#7201a8\"],[0.3333333333333333,\"#9c179e\"],[0.4444444444444444,\"#bd3786\"],[0.5555555555555556,\"#d8576b\"],[0.6666666666666666,\"#ed7953\"],[0.7777777777777778,\"#fb9f3a\"],[0.8888888888888888,\"#fdca26\"],[1.0,\"#f0f921\"]],\"type\":\"contour\"}],\"contourcarpet\":[{\"colorbar\":{\"outlinewidth\":0,\"ticks\":\"\"},\"type\":\"contourcarpet\"}],\"heatmap\":[{\"colorbar\":{\"outlinewidth\":0,\"ticks\":\"\"},\"colorscale\":[[0.0,\"#0d0887\"],[0.1111111111111111,\"#46039f\"],[0.2222222222222222,\"#7201a8\"],[0.3333333333333333,\"#9c179e\"],[0.4444444444444444,\"#bd3786\"],[0.5555555555555556,\"#d8576b\"],[0.6666666666666666,\"#ed7953\"],[0.7777777777777778,\"#fb9f3a\"],[0.8888888888888888,\"#fdca26\"],[1.0,\"#f0f921\"]],\"type\":\"heatmap\"}],\"heatmapgl\":[{\"colorbar\":{\"outlinewidth\":0,\"ticks\":\"\"},\"colorscale\":[[0.0,\"#0d0887\"],[0.1111111111111111,\"#46039f\"],[0.2222222222222222,\"#7201a8\"],[0.3333333333333333,\"#9c179e\"],[0.4444444444444444,\"#bd3786\"],[0.5555555555555556,\"#d8576b\"],[0.6666666666666666,\"#ed7953\"],[0.7777777777777778,\"#fb9f3a\"],[0.8888888888888888,\"#fdca26\"],[1.0,\"#f0f921\"]],\"type\":\"heatmapgl\"}],\"histogram\":[{\"marker\":{\"pattern\":{\"fillmode\":\"overlay\",\"size\":10,\"solidity\":0.2}},\"type\":\"histogram\"}],\"histogram2d\":[{\"colorbar\":{\"outlinewidth\":0,\"ticks\":\"\"},\"colorscale\":[[0.0,\"#0d0887\"],[0.1111111111111111,\"#46039f\"],[0.2222222222222222,\"#7201a8\"],[0.3333333333333333,\"#9c179e\"],[0.4444444444444444,\"#bd3786\"],[0.5555555555555556,\"#d8576b\"],[0.6666666666666666,\"#ed7953\"],[0.7777777777777778,\"#fb9f3a\"],[0.8888888888888888,\"#fdca26\"],[1.0,\"#f0f921\"]],\"type\":\"histogram2d\"}],\"histogram2dcontour\":[{\"colorbar\":{\"outlinewidth\":0,\"ticks\":\"\"},\"colorscale\":[[0.0,\"#0d0887\"],[0.1111111111111111,\"#46039f\"],[0.2222222222222222,\"#7201a8\"],[0.3333333333333333,\"#9c179e\"],[0.4444444444444444,\"#bd3786\"],[0.5555555555555556,\"#d8576b\"],[0.6666666666666666,\"#ed7953\"],[0.7777777777777778,\"#fb9f3a\"],[0.8888888888888888,\"#fdca26\"],[1.0,\"#f0f921\"]],\"type\":\"histogram2dcontour\"}],\"mesh3d\":[{\"colorbar\":{\"outlinewidth\":0,\"ticks\":\"\"},\"type\":\"mesh3d\"}],\"parcoords\":[{\"line\":{\"colorbar\":{\"outlinewidth\":0,\"ticks\":\"\"}},\"type\":\"parcoords\"}],\"pie\":[{\"automargin\":true,\"type\":\"pie\"}],\"scatter\":[{\"marker\":{\"colorbar\":{\"outlinewidth\":0,\"ticks\":\"\"}},\"type\":\"scatter\"}],\"scatter3d\":[{\"line\":{\"colorbar\":{\"outlinewidth\":0,\"ticks\":\"\"}},\"marker\":{\"colorbar\":{\"outlinewidth\":0,\"ticks\":\"\"}},\"type\":\"scatter3d\"}],\"scattercarpet\":[{\"marker\":{\"colorbar\":{\"outlinewidth\":0,\"ticks\":\"\"}},\"type\":\"scattercarpet\"}],\"scattergeo\":[{\"marker\":{\"colorbar\":{\"outlinewidth\":0,\"ticks\":\"\"}},\"type\":\"scattergeo\"}],\"scattergl\":[{\"marker\":{\"colorbar\":{\"outlinewidth\":0,\"ticks\":\"\"}},\"type\":\"scattergl\"}],\"scattermapbox\":[{\"marker\":{\"colorbar\":{\"outlinewidth\":0,\"ticks\":\"\"}},\"type\":\"scattermapbox\"}],\"scatterpolar\":[{\"marker\":{\"colorbar\":{\"outlinewidth\":0,\"ticks\":\"\"}},\"type\":\"scatterpolar\"}],\"scatterpolargl\":[{\"marker\":{\"colorbar\":{\"outlinewidth\":0,\"ticks\":\"\"}},\"type\":\"scatterpolargl\"}],\"scatterternary\":[{\"marker\":{\"colorbar\":{\"outlinewidth\":0,\"ticks\":\"\"}},\"type\":\"scatterternary\"}],\"surface\":[{\"colorbar\":{\"outlinewidth\":0,\"ticks\":\"\"},\"colorscale\":[[0.0,\"#0d0887\"],[0.1111111111111111,\"#46039f\"],[0.2222222222222222,\"#7201a8\"],[0.3333333333333333,\"#9c179e\"],[0.4444444444444444,\"#bd3786\"],[0.5555555555555556,\"#d8576b\"],[0.6666666666666666,\"#ed7953\"],[0.7777777777777778,\"#fb9f3a\"],[0.8888888888888888,\"#fdca26\"],[1.0,\"#f0f921\"]],\"type\":\"surface\"}],\"table\":[{\"cells\":{\"fill\":{\"color\":\"#EBF0F8\"},\"line\":{\"color\":\"white\"}},\"header\":{\"fill\":{\"color\":\"#C8D4E3\"},\"line\":{\"color\":\"white\"}},\"type\":\"table\"}]},\"layout\":{\"annotationdefaults\":{\"arrowcolor\":\"#2a3f5f\",\"arrowhead\":0,\"arrowwidth\":1},\"autotypenumbers\":\"strict\",\"coloraxis\":{\"colorbar\":{\"outlinewidth\":0,\"ticks\":\"\"}},\"colorscale\":{\"diverging\":[[0,\"#8e0152\"],[0.1,\"#c51b7d\"],[0.2,\"#de77ae\"],[0.3,\"#f1b6da\"],[0.4,\"#fde0ef\"],[0.5,\"#f7f7f7\"],[0.6,\"#e6f5d0\"],[0.7,\"#b8e186\"],[0.8,\"#7fbc41\"],[0.9,\"#4d9221\"],[1,\"#276419\"]],\"sequential\":[[0.0,\"#0d0887\"],[0.1111111111111111,\"#46039f\"],[0.2222222222222222,\"#7201a8\"],[0.3333333333333333,\"#9c179e\"],[0.4444444444444444,\"#bd3786\"],[0.5555555555555556,\"#d8576b\"],[0.6666666666666666,\"#ed7953\"],[0.7777777777777778,\"#fb9f3a\"],[0.8888888888888888,\"#fdca26\"],[1.0,\"#f0f921\"]],\"sequentialminus\":[[0.0,\"#0d0887\"],[0.1111111111111111,\"#46039f\"],[0.2222222222222222,\"#7201a8\"],[0.3333333333333333,\"#9c179e\"],[0.4444444444444444,\"#bd3786\"],[0.5555555555555556,\"#d8576b\"],[0.6666666666666666,\"#ed7953\"],[0.7777777777777778,\"#fb9f3a\"],[0.8888888888888888,\"#fdca26\"],[1.0,\"#f0f921\"]]},\"colorway\":[\"#636efa\",\"#EF553B\",\"#00cc96\",\"#ab63fa\",\"#FFA15A\",\"#19d3f3\",\"#FF6692\",\"#B6E880\",\"#FF97FF\",\"#FECB52\"],\"font\":{\"color\":\"#2a3f5f\"},\"geo\":{\"bgcolor\":\"white\",\"lakecolor\":\"white\",\"landcolor\":\"#E5ECF6\",\"showlakes\":true,\"showland\":true,\"subunitcolor\":\"white\"},\"hoverlabel\":{\"align\":\"left\"},\"hovermode\":\"closest\",\"mapbox\":{\"style\":\"light\"},\"paper_bgcolor\":\"white\",\"plot_bgcolor\":\"#E5ECF6\",\"polar\":{\"angularaxis\":{\"gridcolor\":\"white\",\"linecolor\":\"white\",\"ticks\":\"\"},\"bgcolor\":\"#E5ECF6\",\"radialaxis\":{\"gridcolor\":\"white\",\"linecolor\":\"white\",\"ticks\":\"\"}},\"scene\":{\"xaxis\":{\"backgroundcolor\":\"#E5ECF6\",\"gridcolor\":\"white\",\"gridwidth\":2,\"linecolor\":\"white\",\"showbackground\":true,\"ticks\":\"\",\"zerolinecolor\":\"white\"},\"yaxis\":{\"backgroundcolor\":\"#E5ECF6\",\"gridcolor\":\"white\",\"gridwidth\":2,\"linecolor\":\"white\",\"showbackground\":true,\"ticks\":\"\",\"zerolinecolor\":\"white\"},\"zaxis\":{\"backgroundcolor\":\"#E5ECF6\",\"gridcolor\":\"white\",\"gridwidth\":2,\"linecolor\":\"white\",\"showbackground\":true,\"ticks\":\"\",\"zerolinecolor\":\"white\"}},\"shapedefaults\":{\"line\":{\"color\":\"#2a3f5f\"}},\"ternary\":{\"aaxis\":{\"gridcolor\":\"white\",\"linecolor\":\"white\",\"ticks\":\"\"},\"baxis\":{\"gridcolor\":\"white\",\"linecolor\":\"white\",\"ticks\":\"\"},\"bgcolor\":\"#E5ECF6\",\"caxis\":{\"gridcolor\":\"white\",\"linecolor\":\"white\",\"ticks\":\"\"}},\"title\":{\"x\":0.05},\"xaxis\":{\"automargin\":true,\"gridcolor\":\"white\",\"linecolor\":\"white\",\"ticks\":\"\",\"title\":{\"standoff\":15},\"zerolinecolor\":\"white\",\"zerolinewidth\":2},\"yaxis\":{\"automargin\":true,\"gridcolor\":\"white\",\"linecolor\":\"white\",\"ticks\":\"\",\"title\":{\"standoff\":15},\"zerolinecolor\":\"white\",\"zerolinewidth\":2}}},\"xaxis\":{\"anchor\":\"y\",\"domain\":[0.0,0.16799999999999998],\"matches\":\"x21\",\"showticklabels\":false,\"range\":[0,1200]},\"yaxis\":{\"anchor\":\"x\",\"domain\":[0.848,1.0],\"range\":[0,125]},\"xaxis2\":{\"anchor\":\"y2\",\"domain\":[0.208,0.376],\"matches\":\"x22\",\"showticklabels\":false,\"range\":[0,1200]},\"yaxis2\":{\"anchor\":\"x2\",\"domain\":[0.848,1.0],\"matches\":\"y\",\"showticklabels\":false,\"range\":[0,125]},\"xaxis3\":{\"anchor\":\"y3\",\"domain\":[0.416,0.584],\"matches\":\"x23\",\"showticklabels\":false,\"range\":[0,1200]},\"yaxis3\":{\"anchor\":\"x3\",\"domain\":[0.848,1.0],\"matches\":\"y\",\"showticklabels\":false,\"range\":[0,125]},\"xaxis4\":{\"anchor\":\"y4\",\"domain\":[0.624,0.792],\"matches\":\"x24\",\"showticklabels\":false,\"range\":[0,1200]},\"yaxis4\":{\"anchor\":\"x4\",\"domain\":[0.848,1.0],\"matches\":\"y\",\"showticklabels\":false,\"range\":[0,125]},\"xaxis5\":{\"anchor\":\"y5\",\"domain\":[0.832,1.0],\"matches\":\"x25\",\"showticklabels\":false,\"range\":[0,1200]},\"yaxis5\":{\"anchor\":\"x5\",\"domain\":[0.848,1.0],\"matches\":\"y\",\"showticklabels\":false,\"range\":[0,125]},\"xaxis6\":{\"anchor\":\"y6\",\"domain\":[0.0,0.16799999999999998],\"matches\":\"x21\",\"showticklabels\":false,\"range\":[0,1200]},\"yaxis6\":{\"anchor\":\"x6\",\"domain\":[0.6359999999999999,0.7879999999999999],\"range\":[0,125]},\"xaxis7\":{\"anchor\":\"y7\",\"domain\":[0.208,0.376],\"matches\":\"x22\",\"showticklabels\":false,\"range\":[0,1200]},\"yaxis7\":{\"anchor\":\"x7\",\"domain\":[0.6359999999999999,0.7879999999999999],\"matches\":\"y6\",\"showticklabels\":false,\"range\":[0,125]},\"xaxis8\":{\"anchor\":\"y8\",\"domain\":[0.416,0.584],\"matches\":\"x23\",\"showticklabels\":false,\"range\":[0,1200]},\"yaxis8\":{\"anchor\":\"x8\",\"domain\":[0.6359999999999999,0.7879999999999999],\"matches\":\"y6\",\"showticklabels\":false,\"range\":[0,125]},\"xaxis9\":{\"anchor\":\"y9\",\"domain\":[0.624,0.792],\"matches\":\"x24\",\"showticklabels\":false,\"range\":[0,1200]},\"yaxis9\":{\"anchor\":\"x9\",\"domain\":[0.6359999999999999,0.7879999999999999],\"matches\":\"y6\",\"showticklabels\":false,\"range\":[0,125]},\"xaxis10\":{\"anchor\":\"y10\",\"domain\":[0.832,1.0],\"matches\":\"x25\",\"showticklabels\":false,\"range\":[0,1200]},\"yaxis10\":{\"anchor\":\"x10\",\"domain\":[0.6359999999999999,0.7879999999999999],\"matches\":\"y6\",\"showticklabels\":false,\"range\":[0,125]},\"xaxis11\":{\"anchor\":\"y11\",\"domain\":[0.0,0.16799999999999998],\"matches\":\"x21\",\"showticklabels\":false,\"range\":[0,1200]},\"yaxis11\":{\"anchor\":\"x11\",\"domain\":[0.424,0.576],\"range\":[0,125]},\"xaxis12\":{\"anchor\":\"y12\",\"domain\":[0.208,0.376],\"matches\":\"x22\",\"showticklabels\":false,\"range\":[0,1200]},\"yaxis12\":{\"anchor\":\"x12\",\"domain\":[0.424,0.576],\"matches\":\"y11\",\"showticklabels\":false,\"range\":[0,125]},\"xaxis13\":{\"anchor\":\"y13\",\"domain\":[0.416,0.584],\"matches\":\"x23\",\"showticklabels\":false,\"range\":[0,1200]},\"yaxis13\":{\"anchor\":\"x13\",\"domain\":[0.424,0.576],\"matches\":\"y11\",\"showticklabels\":false,\"range\":[0,125]},\"xaxis14\":{\"anchor\":\"y14\",\"domain\":[0.624,0.792],\"matches\":\"x24\",\"showticklabels\":false,\"range\":[0,1200]},\"yaxis14\":{\"anchor\":\"x14\",\"domain\":[0.424,0.576],\"matches\":\"y11\",\"showticklabels\":false,\"range\":[0,125]},\"xaxis15\":{\"anchor\":\"y15\",\"domain\":[0.832,1.0],\"matches\":\"x25\",\"showticklabels\":false,\"range\":[0,1200]},\"yaxis15\":{\"anchor\":\"x15\",\"domain\":[0.424,0.576],\"matches\":\"y11\",\"showticklabels\":false,\"range\":[0,125]},\"xaxis16\":{\"anchor\":\"y16\",\"domain\":[0.0,0.16799999999999998],\"matches\":\"x21\",\"showticklabels\":false,\"range\":[0,1200]},\"yaxis16\":{\"anchor\":\"x16\",\"domain\":[0.212,0.364],\"range\":[0,125]},\"xaxis17\":{\"anchor\":\"y17\",\"domain\":[0.208,0.376],\"matches\":\"x22\",\"showticklabels\":false,\"range\":[0,1200]},\"yaxis17\":{\"anchor\":\"x17\",\"domain\":[0.212,0.364],\"matches\":\"y16\",\"showticklabels\":false,\"range\":[0,125]},\"xaxis18\":{\"anchor\":\"y18\",\"domain\":[0.416,0.584],\"matches\":\"x23\",\"showticklabels\":false,\"range\":[0,1200]},\"yaxis18\":{\"anchor\":\"x18\",\"domain\":[0.212,0.364],\"matches\":\"y16\",\"showticklabels\":false,\"range\":[0,125]},\"xaxis19\":{\"anchor\":\"y19\",\"domain\":[0.624,0.792],\"matches\":\"x24\",\"showticklabels\":false,\"range\":[0,1200]},\"yaxis19\":{\"anchor\":\"x19\",\"domain\":[0.212,0.364],\"matches\":\"y16\",\"showticklabels\":false,\"range\":[0,125]},\"xaxis20\":{\"anchor\":\"y20\",\"domain\":[0.832,1.0],\"matches\":\"x25\",\"showticklabels\":false},\"yaxis20\":{\"anchor\":\"x20\",\"domain\":[0.212,0.364],\"matches\":\"y16\",\"showticklabels\":false},\"xaxis21\":{\"anchor\":\"y21\",\"domain\":[0.0,0.16799999999999998],\"range\":[0,1200]},\"yaxis21\":{\"anchor\":\"x21\",\"domain\":[0.0,0.152],\"range\":[0,125]},\"xaxis22\":{\"anchor\":\"y22\",\"domain\":[0.208,0.376],\"range\":[0,1200]},\"yaxis22\":{\"anchor\":\"x22\",\"domain\":[0.0,0.152],\"matches\":\"y21\",\"showticklabels\":false,\"range\":[0,125]},\"xaxis23\":{\"anchor\":\"y23\",\"domain\":[0.416,0.584],\"range\":[0,1200]},\"yaxis23\":{\"anchor\":\"x23\",\"domain\":[0.0,0.152],\"matches\":\"y21\",\"showticklabels\":false,\"range\":[0,125]},\"xaxis24\":{\"anchor\":\"y24\",\"domain\":[0.624,0.792],\"range\":[0,1200]},\"yaxis24\":{\"anchor\":\"x24\",\"domain\":[0.0,0.152],\"matches\":\"y21\",\"showticklabels\":false,\"range\":[0,125]},\"xaxis25\":{\"anchor\":\"y25\",\"domain\":[0.832,1.0],\"range\":[0,1200]},\"yaxis25\":{\"anchor\":\"x25\",\"domain\":[0.0,0.152],\"matches\":\"y21\",\"showticklabels\":false,\"range\":[0,125]}},                        {\"responsive\": true}                    ).then(function(){\n",
       "                            \n",
       "var gd = document.getElementById('d7442ad5-0799-4bf3-872d-d63277a717b6');\n",
       "var x = new MutationObserver(function (mutations, observer) {{\n",
       "        var display = window.getComputedStyle(gd).display;\n",
       "        if (!display || display === 'none') {{\n",
       "            console.log([gd, 'removed!']);\n",
       "            Plotly.purge(gd);\n",
       "            observer.disconnect();\n",
       "        }}\n",
       "}});\n",
       "\n",
       "// Listen for the removal of the full notebook cells\n",
       "var notebookContainer = gd.closest('#notebook-container');\n",
       "if (notebookContainer) {{\n",
       "    x.observe(notebookContainer, {childList: true});\n",
       "}}\n",
       "\n",
       "// Listen for the clearing of the current output cell\n",
       "var outputEl = gd.closest('.output');\n",
       "if (outputEl) {{\n",
       "    x.observe(outputEl, {childList: true});\n",
       "}}\n",
       "\n",
       "                        })                };                });            </script>        </div>"
      ]
     },
     "metadata": {},
     "output_type": "display_data"
    }
   ],
   "source": [
    "# suburb_list = [epping_listings, northrocks_listings, eastwood_listings, baulkham_listings, winston_listings, kellyville_listings, blacktown_listings, castle_listings, ryde_listings, rouse_listings, beecroft_listings, ermington_listings, northmead_listings, newington_listings, concord_listings, marsfield_listings, hornsby_listings, Lidcombe_listings, Homebush_listings, Straithfield_listings, Ashfield_listings, Leichhardt_listings, Annandale_listings, AllambieHeights_listings, Forestville_listings, Lindfield_listings, Gordon_listings, Pymble_listings, LaneCove_listings, Meadowbank_listings, SummerHill_listings, Rydalmere_listings, Rosehill_listings, Westmead_listings, Girraween_listings, BeaumontHills_listings, KellyvilleRidge_listings, ThePonds_listings, Schofields_listings, MarsdenPark_listings, KingsLangley_listings, BellaVista_listings, BoxHill_listings, PennantHills_listings, Earlwood_listings, Marrickville_listings, Dulwich_listings, Petersham_listings, Campsie_listings, Canterbury_listings, Berala_listings, Leppington_listings, EdmondsonPark_listings, MacquariePark_listings, Chatswood_listings, Carlingford_listings, Kogarah_listings, Rockdale_listings, Cherrybrook_listings, Eastwood_listings, Homebush_listings, Minto_listings, QuakersHill_listings, Revesby_listings, SevenHills_listings, StanhopeGardens_listings, Waterloo_listings]\n",
    "\n",
    "fig = make_subplots(\n",
    "    rows=5, cols=5\n",
    "    #     ,subplot_titles=(\"Plot 1\", \"Plot 2\", \"Plot 3\", \"Plot 4\")\n",
    "    ,shared_yaxes=True\n",
    "    ,shared_xaxes=True)\n",
    "\n",
    "df_numb=0\n",
    "for row in range(1,6):\n",
    "    for col in range(1,6):\n",
    "        suburb_df = suburb_list[df_numb]\n",
    "        suburb_df_price = suburb_df[suburb_df[\"sold_date_dt\"] >= dtm][\"land_size\"]\n",
    "                \n",
    "        if suburb_list[df_numb][\"suburb\"].count()>=1:\n",
    "            name = suburb_list[df_numb][\"suburb\"].unique()[0]\n",
    "            fig.update_xaxes(range=[0, 1200], row=row, col=col)\n",
    "            fig.update_yaxes(range=[0, 125], row=row, col=col)\n",
    "            fig.add_trace(go.Histogram(x=suburb_df_price,xbins=dict(size=100),autobinx = False, name=name),row =row, col=col)\n",
    "            \n",
    "        df_numb=df_numb+1                   \n",
    "        \n",
    "fig.show()"
   ]
  },
  {
   "cell_type": "code",
   "execution_count": null,
   "id": "72a8ed9f",
   "metadata": {
    "scrolled": true
   },
   "outputs": [],
   "source": [
    "fig = make_subplots(\n",
    "    rows=5, cols=5\n",
    "    #     ,subplot_titles=(\"Plot 1\", \"Plot 2\", \"Plot 3\", \"Plot 4\")\n",
    "    ,shared_yaxes=True\n",
    "    ,shared_xaxes=True)\n",
    "\n",
    "df_numb=25\n",
    "for row in range(1,6):\n",
    "    for col in range(1,6):\n",
    "        suburb_df = suburb_list[df_numb]\n",
    "        suburb_df_price = suburb_df[suburb_df[\"sold_date_dt\"] >= dtm][\"land_size\"]\n",
    "                \n",
    "        if suburb_list[df_numb][\"suburb\"].count()>=1:\n",
    "            name = suburb_list[df_numb][\"suburb\"].unique()[0]\n",
    "            fig.update_xaxes(range=[0, 1200], row=row, col=col)\n",
    "            fig.update_yaxes(range=[0, 125], row=row, col=col)\n",
    "            fig.add_trace(go.Histogram(x=suburb_df_price,xbins=dict(size=100),autobinx = False, name=name),row =row, col=col)\n",
    "            \n",
    "        df_numb=df_numb+1                   \n",
    "        \n",
    "fig.show()"
   ]
  },
  {
   "cell_type": "code",
   "execution_count": null,
   "id": "685ffd39",
   "metadata": {
    "scrolled": false
   },
   "outputs": [],
   "source": [
    "fig = make_subplots(\n",
    "    rows=5, cols=5\n",
    "    #     ,subplot_titles=(\"Plot 1\", \"Plot 2\", \"Plot 3\", \"Plot 4\")\n",
    "    ,shared_yaxes=True\n",
    "    ,shared_xaxes=True)\n",
    "\n",
    "df_numb=50\n",
    "for row in range(1,6):\n",
    "    for col in range(1,6):\n",
    "        suburb_df = suburb_list[df_numb]\n",
    "        suburb_df_price = suburb_df[suburb_df[\"sold_date_dt\"] >= dtm][\"land_size\"]\n",
    "        if df_numb == 73:\n",
    "            break        \n",
    "        if suburb_list[df_numb][\"suburb\"].count()>=1:\n",
    "            name = suburb_list[df_numb][\"suburb\"].unique()[0]\n",
    "            fig.update_xaxes(range=[0, 1200], row=row, col=col)\n",
    "            fig.update_yaxes(range=[0, 125], row=row, col=col)\n",
    "            fig.add_trace(go.Histogram(x=suburb_df_price,xbins=dict(size=100),autobinx = False, name=name),row =row, col=col)\n",
    "            \n",
    "        df_numb=df_numb+1                   \n",
    "        \n",
    "fig.show()"
   ]
  },
  {
   "cell_type": "code",
   "execution_count": 63,
   "id": "93a7d534",
   "metadata": {},
   "outputs": [],
   "source": [
    "main_suburbs = [\"Epping\",\"North Rocks\",\"Eastwood\",\"Baulkham Hills\",\"Winston Hills\",\"Kellyville\",\"Blacktown\",\"Castle Hill\",\"Ryde\",\"Rouse Hill\",\"Beecroft\",\"Ermington\",\"Northmead\",\"Newington\",\"Concord\",\"Marsfield\",\"Hornsby\",\"Lidcombe\",\"Homebush\",\"Straithfield\",\"Ashfield\",\"Leichhardt\",\"Annandale\",\"Allambie Heights\",\"Forestville\",\"Lindfield\",\"Gordon\",\"Pymble\",\"Lane Cove\",\"Meadowbank\",\"Summer Hill\",\"Rydalmere\",\"Rosehill\",\"Westmead\",\"Girraween\",\"Beaumont Hills\",\"Kellyville Ridge\",\"The Ponds\",\"Schofields\",\"Marsden Park\",\"Kings Langley\",\"Bella Vista\",\"Box Hill\",\"Pennant Hills\",\"Earlwood\",\"Marrickville\",\"Dulwich\",\"Petersham\",\"Campsie\",\"Canterbury\",\"Berala\",\"Leppington\",\"Edmondson Park\",\"Macquarie Park\",\"Chatswood\",\"Carlingford\",\"Kogarah\",\"Rockdale\",\"Cherrybrook\",\"Eastwood\",\"Homebush\",\"Minto\",\"Quakers Hill\",\"Revesby\",\"Seven Hills\",\"Stanhope Gardens\",\"Waterloo\",\"Dulwich Hill\",\"North Ryde\",\"Straithfield\",\"North Straithfield\",\"Manly\",\"Randwick\",\"Kensington\"]\n",
    "\n",
    "final_2021_2022 = final2[final2[\"sold_date_dt\"] >= dtm]\n",
    "final_2021_2022_1 = final_2021_2022[final_2021_2022[\"suburb\"].isin(main_suburbs)]\n",
    "\n",
    "final_2021_2022_2 = final_2021_2022_1[(final_2021_2022_1[\"land_size\"]>=200)&(final_2021_2022_1[\"land_size\"]<=400)]\n",
    "final_2021_2022_median_200_400 = final_2021_2022_2.groupby(\"suburb\").median().reset_index()\n",
    "\n",
    "counts = final_2021_2022_2.groupby(\"suburb\").count().reset_index()\n",
    "counts2=counts[\"id\"]>15\n",
    "\n",
    "final_2021_2022_median_200_400\n",
    "final_2021_2022_median_200_400_2 = final_2021_2022_median_200_400[counts2].sort_values(\"price\")\n",
    "\n",
    "\n",
    "# final_2021_2022_2.groupby(\"suburb\").agg({\"price\": ['median','count']}).reset_index().sort_values({\"price\":\"median\"})\n",
    "final_2021_2022_stats = final_2021_2022_2.groupby(\"suburb\")[\"price\"].describe().reset_index()"
   ]
  },
  {
   "cell_type": "code",
   "execution_count": 64,
   "id": "373e9a96",
   "metadata": {
    "scrolled": true
   },
   "outputs": [
    {
     "data": {
      "application/vnd.plotly.v1+json": {
       "config": {
        "plotlyServerURL": "https://plot.ly"
       },
       "data": [
        {
         "alignmentgroup": "True",
         "hovertemplate": "x=%{x}<br>y=%{y}<extra></extra>",
         "legendgroup": "",
         "marker": {
          "color": "#636efa",
          "pattern": {
           "shape": ""
          }
         },
         "name": "",
         "offsetgroup": "",
         "orientation": "h",
         "showlegend": false,
         "textposition": "auto",
         "type": "bar",
         "x": [
          702500,
          796000,
          852000,
          903000,
          940000,
          972500,
          995000,
          1069000,
          1080000,
          1125000,
          1182500,
          1242500,
          1260000,
          1274000,
          1275000,
          1277500,
          1292500,
          1330000,
          1345000,
          1487944,
          1616000,
          1620500,
          1710000,
          1767500,
          1790000,
          1907500,
          1907500,
          2000000,
          2050000,
          2150000,
          2660000,
          3050000,
          4212500
         ],
         "xaxis": "x",
         "y": [
          "Minto",
          "Blacktown",
          "Quakers Hill",
          "Girraween",
          "Leppington",
          "Edmondson Park",
          "Marsden Park",
          "Box Hill",
          "Schofields",
          "Rouse Hill",
          "Revesby",
          "Northmead",
          "The Ponds",
          "Carlingford",
          "Baulkham Hills",
          "Kellyville",
          "Lidcombe",
          "Rydalmere",
          "Castle Hill",
          "Ermington",
          "Earlwood",
          "Newington",
          "Eastwood",
          "Epping",
          "Ashfield",
          "Leichhardt",
          "Dulwich Hill",
          "Marrickville",
          "Petersham",
          "Summer Hill",
          "Annandale",
          "Randwick",
          "Manly"
         ],
         "yaxis": "y"
        }
       ],
       "layout": {
        "barmode": "relative",
        "height": 1500,
        "legend": {
         "tracegroupgap": 0
        },
        "margin": {
         "t": 60
        },
        "template": {
         "data": {
          "bar": [
           {
            "error_x": {
             "color": "#2a3f5f"
            },
            "error_y": {
             "color": "#2a3f5f"
            },
            "marker": {
             "line": {
              "color": "#E5ECF6",
              "width": 0.5
             },
             "pattern": {
              "fillmode": "overlay",
              "size": 10,
              "solidity": 0.2
             }
            },
            "type": "bar"
           }
          ],
          "barpolar": [
           {
            "marker": {
             "line": {
              "color": "#E5ECF6",
              "width": 0.5
             },
             "pattern": {
              "fillmode": "overlay",
              "size": 10,
              "solidity": 0.2
             }
            },
            "type": "barpolar"
           }
          ],
          "carpet": [
           {
            "aaxis": {
             "endlinecolor": "#2a3f5f",
             "gridcolor": "white",
             "linecolor": "white",
             "minorgridcolor": "white",
             "startlinecolor": "#2a3f5f"
            },
            "baxis": {
             "endlinecolor": "#2a3f5f",
             "gridcolor": "white",
             "linecolor": "white",
             "minorgridcolor": "white",
             "startlinecolor": "#2a3f5f"
            },
            "type": "carpet"
           }
          ],
          "choropleth": [
           {
            "colorbar": {
             "outlinewidth": 0,
             "ticks": ""
            },
            "type": "choropleth"
           }
          ],
          "contour": [
           {
            "colorbar": {
             "outlinewidth": 0,
             "ticks": ""
            },
            "colorscale": [
             [
              0,
              "#0d0887"
             ],
             [
              0.1111111111111111,
              "#46039f"
             ],
             [
              0.2222222222222222,
              "#7201a8"
             ],
             [
              0.3333333333333333,
              "#9c179e"
             ],
             [
              0.4444444444444444,
              "#bd3786"
             ],
             [
              0.5555555555555556,
              "#d8576b"
             ],
             [
              0.6666666666666666,
              "#ed7953"
             ],
             [
              0.7777777777777778,
              "#fb9f3a"
             ],
             [
              0.8888888888888888,
              "#fdca26"
             ],
             [
              1,
              "#f0f921"
             ]
            ],
            "type": "contour"
           }
          ],
          "contourcarpet": [
           {
            "colorbar": {
             "outlinewidth": 0,
             "ticks": ""
            },
            "type": "contourcarpet"
           }
          ],
          "heatmap": [
           {
            "colorbar": {
             "outlinewidth": 0,
             "ticks": ""
            },
            "colorscale": [
             [
              0,
              "#0d0887"
             ],
             [
              0.1111111111111111,
              "#46039f"
             ],
             [
              0.2222222222222222,
              "#7201a8"
             ],
             [
              0.3333333333333333,
              "#9c179e"
             ],
             [
              0.4444444444444444,
              "#bd3786"
             ],
             [
              0.5555555555555556,
              "#d8576b"
             ],
             [
              0.6666666666666666,
              "#ed7953"
             ],
             [
              0.7777777777777778,
              "#fb9f3a"
             ],
             [
              0.8888888888888888,
              "#fdca26"
             ],
             [
              1,
              "#f0f921"
             ]
            ],
            "type": "heatmap"
           }
          ],
          "heatmapgl": [
           {
            "colorbar": {
             "outlinewidth": 0,
             "ticks": ""
            },
            "colorscale": [
             [
              0,
              "#0d0887"
             ],
             [
              0.1111111111111111,
              "#46039f"
             ],
             [
              0.2222222222222222,
              "#7201a8"
             ],
             [
              0.3333333333333333,
              "#9c179e"
             ],
             [
              0.4444444444444444,
              "#bd3786"
             ],
             [
              0.5555555555555556,
              "#d8576b"
             ],
             [
              0.6666666666666666,
              "#ed7953"
             ],
             [
              0.7777777777777778,
              "#fb9f3a"
             ],
             [
              0.8888888888888888,
              "#fdca26"
             ],
             [
              1,
              "#f0f921"
             ]
            ],
            "type": "heatmapgl"
           }
          ],
          "histogram": [
           {
            "marker": {
             "pattern": {
              "fillmode": "overlay",
              "size": 10,
              "solidity": 0.2
             }
            },
            "type": "histogram"
           }
          ],
          "histogram2d": [
           {
            "colorbar": {
             "outlinewidth": 0,
             "ticks": ""
            },
            "colorscale": [
             [
              0,
              "#0d0887"
             ],
             [
              0.1111111111111111,
              "#46039f"
             ],
             [
              0.2222222222222222,
              "#7201a8"
             ],
             [
              0.3333333333333333,
              "#9c179e"
             ],
             [
              0.4444444444444444,
              "#bd3786"
             ],
             [
              0.5555555555555556,
              "#d8576b"
             ],
             [
              0.6666666666666666,
              "#ed7953"
             ],
             [
              0.7777777777777778,
              "#fb9f3a"
             ],
             [
              0.8888888888888888,
              "#fdca26"
             ],
             [
              1,
              "#f0f921"
             ]
            ],
            "type": "histogram2d"
           }
          ],
          "histogram2dcontour": [
           {
            "colorbar": {
             "outlinewidth": 0,
             "ticks": ""
            },
            "colorscale": [
             [
              0,
              "#0d0887"
             ],
             [
              0.1111111111111111,
              "#46039f"
             ],
             [
              0.2222222222222222,
              "#7201a8"
             ],
             [
              0.3333333333333333,
              "#9c179e"
             ],
             [
              0.4444444444444444,
              "#bd3786"
             ],
             [
              0.5555555555555556,
              "#d8576b"
             ],
             [
              0.6666666666666666,
              "#ed7953"
             ],
             [
              0.7777777777777778,
              "#fb9f3a"
             ],
             [
              0.8888888888888888,
              "#fdca26"
             ],
             [
              1,
              "#f0f921"
             ]
            ],
            "type": "histogram2dcontour"
           }
          ],
          "mesh3d": [
           {
            "colorbar": {
             "outlinewidth": 0,
             "ticks": ""
            },
            "type": "mesh3d"
           }
          ],
          "parcoords": [
           {
            "line": {
             "colorbar": {
              "outlinewidth": 0,
              "ticks": ""
             }
            },
            "type": "parcoords"
           }
          ],
          "pie": [
           {
            "automargin": true,
            "type": "pie"
           }
          ],
          "scatter": [
           {
            "marker": {
             "colorbar": {
              "outlinewidth": 0,
              "ticks": ""
             }
            },
            "type": "scatter"
           }
          ],
          "scatter3d": [
           {
            "line": {
             "colorbar": {
              "outlinewidth": 0,
              "ticks": ""
             }
            },
            "marker": {
             "colorbar": {
              "outlinewidth": 0,
              "ticks": ""
             }
            },
            "type": "scatter3d"
           }
          ],
          "scattercarpet": [
           {
            "marker": {
             "colorbar": {
              "outlinewidth": 0,
              "ticks": ""
             }
            },
            "type": "scattercarpet"
           }
          ],
          "scattergeo": [
           {
            "marker": {
             "colorbar": {
              "outlinewidth": 0,
              "ticks": ""
             }
            },
            "type": "scattergeo"
           }
          ],
          "scattergl": [
           {
            "marker": {
             "colorbar": {
              "outlinewidth": 0,
              "ticks": ""
             }
            },
            "type": "scattergl"
           }
          ],
          "scattermapbox": [
           {
            "marker": {
             "colorbar": {
              "outlinewidth": 0,
              "ticks": ""
             }
            },
            "type": "scattermapbox"
           }
          ],
          "scatterpolar": [
           {
            "marker": {
             "colorbar": {
              "outlinewidth": 0,
              "ticks": ""
             }
            },
            "type": "scatterpolar"
           }
          ],
          "scatterpolargl": [
           {
            "marker": {
             "colorbar": {
              "outlinewidth": 0,
              "ticks": ""
             }
            },
            "type": "scatterpolargl"
           }
          ],
          "scatterternary": [
           {
            "marker": {
             "colorbar": {
              "outlinewidth": 0,
              "ticks": ""
             }
            },
            "type": "scatterternary"
           }
          ],
          "surface": [
           {
            "colorbar": {
             "outlinewidth": 0,
             "ticks": ""
            },
            "colorscale": [
             [
              0,
              "#0d0887"
             ],
             [
              0.1111111111111111,
              "#46039f"
             ],
             [
              0.2222222222222222,
              "#7201a8"
             ],
             [
              0.3333333333333333,
              "#9c179e"
             ],
             [
              0.4444444444444444,
              "#bd3786"
             ],
             [
              0.5555555555555556,
              "#d8576b"
             ],
             [
              0.6666666666666666,
              "#ed7953"
             ],
             [
              0.7777777777777778,
              "#fb9f3a"
             ],
             [
              0.8888888888888888,
              "#fdca26"
             ],
             [
              1,
              "#f0f921"
             ]
            ],
            "type": "surface"
           }
          ],
          "table": [
           {
            "cells": {
             "fill": {
              "color": "#EBF0F8"
             },
             "line": {
              "color": "white"
             }
            },
            "header": {
             "fill": {
              "color": "#C8D4E3"
             },
             "line": {
              "color": "white"
             }
            },
            "type": "table"
           }
          ]
         },
         "layout": {
          "annotationdefaults": {
           "arrowcolor": "#2a3f5f",
           "arrowhead": 0,
           "arrowwidth": 1
          },
          "autotypenumbers": "strict",
          "coloraxis": {
           "colorbar": {
            "outlinewidth": 0,
            "ticks": ""
           }
          },
          "colorscale": {
           "diverging": [
            [
             0,
             "#8e0152"
            ],
            [
             0.1,
             "#c51b7d"
            ],
            [
             0.2,
             "#de77ae"
            ],
            [
             0.3,
             "#f1b6da"
            ],
            [
             0.4,
             "#fde0ef"
            ],
            [
             0.5,
             "#f7f7f7"
            ],
            [
             0.6,
             "#e6f5d0"
            ],
            [
             0.7,
             "#b8e186"
            ],
            [
             0.8,
             "#7fbc41"
            ],
            [
             0.9,
             "#4d9221"
            ],
            [
             1,
             "#276419"
            ]
           ],
           "sequential": [
            [
             0,
             "#0d0887"
            ],
            [
             0.1111111111111111,
             "#46039f"
            ],
            [
             0.2222222222222222,
             "#7201a8"
            ],
            [
             0.3333333333333333,
             "#9c179e"
            ],
            [
             0.4444444444444444,
             "#bd3786"
            ],
            [
             0.5555555555555556,
             "#d8576b"
            ],
            [
             0.6666666666666666,
             "#ed7953"
            ],
            [
             0.7777777777777778,
             "#fb9f3a"
            ],
            [
             0.8888888888888888,
             "#fdca26"
            ],
            [
             1,
             "#f0f921"
            ]
           ],
           "sequentialminus": [
            [
             0,
             "#0d0887"
            ],
            [
             0.1111111111111111,
             "#46039f"
            ],
            [
             0.2222222222222222,
             "#7201a8"
            ],
            [
             0.3333333333333333,
             "#9c179e"
            ],
            [
             0.4444444444444444,
             "#bd3786"
            ],
            [
             0.5555555555555556,
             "#d8576b"
            ],
            [
             0.6666666666666666,
             "#ed7953"
            ],
            [
             0.7777777777777778,
             "#fb9f3a"
            ],
            [
             0.8888888888888888,
             "#fdca26"
            ],
            [
             1,
             "#f0f921"
            ]
           ]
          },
          "colorway": [
           "#636efa",
           "#EF553B",
           "#00cc96",
           "#ab63fa",
           "#FFA15A",
           "#19d3f3",
           "#FF6692",
           "#B6E880",
           "#FF97FF",
           "#FECB52"
          ],
          "font": {
           "color": "#2a3f5f"
          },
          "geo": {
           "bgcolor": "white",
           "lakecolor": "white",
           "landcolor": "#E5ECF6",
           "showlakes": true,
           "showland": true,
           "subunitcolor": "white"
          },
          "hoverlabel": {
           "align": "left"
          },
          "hovermode": "closest",
          "mapbox": {
           "style": "light"
          },
          "paper_bgcolor": "white",
          "plot_bgcolor": "#E5ECF6",
          "polar": {
           "angularaxis": {
            "gridcolor": "white",
            "linecolor": "white",
            "ticks": ""
           },
           "bgcolor": "#E5ECF6",
           "radialaxis": {
            "gridcolor": "white",
            "linecolor": "white",
            "ticks": ""
           }
          },
          "scene": {
           "xaxis": {
            "backgroundcolor": "#E5ECF6",
            "gridcolor": "white",
            "gridwidth": 2,
            "linecolor": "white",
            "showbackground": true,
            "ticks": "",
            "zerolinecolor": "white"
           },
           "yaxis": {
            "backgroundcolor": "#E5ECF6",
            "gridcolor": "white",
            "gridwidth": 2,
            "linecolor": "white",
            "showbackground": true,
            "ticks": "",
            "zerolinecolor": "white"
           },
           "zaxis": {
            "backgroundcolor": "#E5ECF6",
            "gridcolor": "white",
            "gridwidth": 2,
            "linecolor": "white",
            "showbackground": true,
            "ticks": "",
            "zerolinecolor": "white"
           }
          },
          "shapedefaults": {
           "line": {
            "color": "#2a3f5f"
           }
          },
          "ternary": {
           "aaxis": {
            "gridcolor": "white",
            "linecolor": "white",
            "ticks": ""
           },
           "baxis": {
            "gridcolor": "white",
            "linecolor": "white",
            "ticks": ""
           },
           "bgcolor": "#E5ECF6",
           "caxis": {
            "gridcolor": "white",
            "linecolor": "white",
            "ticks": ""
           }
          },
          "title": {
           "x": 0.05
          },
          "xaxis": {
           "automargin": true,
           "gridcolor": "white",
           "linecolor": "white",
           "ticks": "",
           "title": {
            "standoff": 15
           },
           "zerolinecolor": "white",
           "zerolinewidth": 2
          },
          "yaxis": {
           "automargin": true,
           "gridcolor": "white",
           "linecolor": "white",
           "ticks": "",
           "title": {
            "standoff": 15
           },
           "zerolinecolor": "white",
           "zerolinewidth": 2
          }
         }
        },
        "width": 800,
        "xaxis": {
         "anchor": "y",
         "domain": [
          0,
          1
         ],
         "title": {
          "text": "x"
         }
        },
        "yaxis": {
         "anchor": "x",
         "domain": [
          0,
          1
         ],
         "title": {
          "text": "y"
         }
        }
       }
      },
      "text/html": [
       "<div>                            <div id=\"79842379-e360-4b54-8c7e-4ff970764100\" class=\"plotly-graph-div\" style=\"height:1500px; width:800px;\"></div>            <script type=\"text/javascript\">                require([\"plotly\"], function(Plotly) {                    window.PLOTLYENV=window.PLOTLYENV || {};                                    if (document.getElementById(\"79842379-e360-4b54-8c7e-4ff970764100\")) {                    Plotly.newPlot(                        \"79842379-e360-4b54-8c7e-4ff970764100\",                        [{\"alignmentgroup\":\"True\",\"hovertemplate\":\"x=%{x}<br>y=%{y}<extra></extra>\",\"legendgroup\":\"\",\"marker\":{\"color\":\"#636efa\",\"pattern\":{\"shape\":\"\"}},\"name\":\"\",\"offsetgroup\":\"\",\"orientation\":\"h\",\"showlegend\":false,\"textposition\":\"auto\",\"x\":[702500.0,796000.0,852000.0,903000.0,940000.0,972500.0,995000.0,1069000.0,1080000.0,1125000.0,1182500.0,1242500.0,1260000.0,1274000.0,1275000.0,1277500.0,1292500.0,1330000.0,1345000.0,1487944.0,1616000.0,1620500.0,1710000.0,1767500.0,1790000.0,1907500.0,1907500.0,2000000.0,2050000.0,2150000.0,2660000.0,3050000.0,4212500.0],\"xaxis\":\"x\",\"y\":[\"Minto\",\"Blacktown\",\"Quakers Hill\",\"Girraween\",\"Leppington\",\"Edmondson Park\",\"Marsden Park\",\"Box Hill\",\"Schofields\",\"Rouse Hill\",\"Revesby\",\"Northmead\",\"The Ponds\",\"Carlingford\",\"Baulkham Hills\",\"Kellyville\",\"Lidcombe\",\"Rydalmere\",\"Castle Hill\",\"Ermington\",\"Earlwood\",\"Newington\",\"Eastwood\",\"Epping\",\"Ashfield\",\"Leichhardt\",\"Dulwich Hill\",\"Marrickville\",\"Petersham\",\"Summer Hill\",\"Annandale\",\"Randwick\",\"Manly\"],\"yaxis\":\"y\",\"type\":\"bar\"}],                        {\"template\":{\"data\":{\"bar\":[{\"error_x\":{\"color\":\"#2a3f5f\"},\"error_y\":{\"color\":\"#2a3f5f\"},\"marker\":{\"line\":{\"color\":\"#E5ECF6\",\"width\":0.5},\"pattern\":{\"fillmode\":\"overlay\",\"size\":10,\"solidity\":0.2}},\"type\":\"bar\"}],\"barpolar\":[{\"marker\":{\"line\":{\"color\":\"#E5ECF6\",\"width\":0.5},\"pattern\":{\"fillmode\":\"overlay\",\"size\":10,\"solidity\":0.2}},\"type\":\"barpolar\"}],\"carpet\":[{\"aaxis\":{\"endlinecolor\":\"#2a3f5f\",\"gridcolor\":\"white\",\"linecolor\":\"white\",\"minorgridcolor\":\"white\",\"startlinecolor\":\"#2a3f5f\"},\"baxis\":{\"endlinecolor\":\"#2a3f5f\",\"gridcolor\":\"white\",\"linecolor\":\"white\",\"minorgridcolor\":\"white\",\"startlinecolor\":\"#2a3f5f\"},\"type\":\"carpet\"}],\"choropleth\":[{\"colorbar\":{\"outlinewidth\":0,\"ticks\":\"\"},\"type\":\"choropleth\"}],\"contour\":[{\"colorbar\":{\"outlinewidth\":0,\"ticks\":\"\"},\"colorscale\":[[0.0,\"#0d0887\"],[0.1111111111111111,\"#46039f\"],[0.2222222222222222,\"#7201a8\"],[0.3333333333333333,\"#9c179e\"],[0.4444444444444444,\"#bd3786\"],[0.5555555555555556,\"#d8576b\"],[0.6666666666666666,\"#ed7953\"],[0.7777777777777778,\"#fb9f3a\"],[0.8888888888888888,\"#fdca26\"],[1.0,\"#f0f921\"]],\"type\":\"contour\"}],\"contourcarpet\":[{\"colorbar\":{\"outlinewidth\":0,\"ticks\":\"\"},\"type\":\"contourcarpet\"}],\"heatmap\":[{\"colorbar\":{\"outlinewidth\":0,\"ticks\":\"\"},\"colorscale\":[[0.0,\"#0d0887\"],[0.1111111111111111,\"#46039f\"],[0.2222222222222222,\"#7201a8\"],[0.3333333333333333,\"#9c179e\"],[0.4444444444444444,\"#bd3786\"],[0.5555555555555556,\"#d8576b\"],[0.6666666666666666,\"#ed7953\"],[0.7777777777777778,\"#fb9f3a\"],[0.8888888888888888,\"#fdca26\"],[1.0,\"#f0f921\"]],\"type\":\"heatmap\"}],\"heatmapgl\":[{\"colorbar\":{\"outlinewidth\":0,\"ticks\":\"\"},\"colorscale\":[[0.0,\"#0d0887\"],[0.1111111111111111,\"#46039f\"],[0.2222222222222222,\"#7201a8\"],[0.3333333333333333,\"#9c179e\"],[0.4444444444444444,\"#bd3786\"],[0.5555555555555556,\"#d8576b\"],[0.6666666666666666,\"#ed7953\"],[0.7777777777777778,\"#fb9f3a\"],[0.8888888888888888,\"#fdca26\"],[1.0,\"#f0f921\"]],\"type\":\"heatmapgl\"}],\"histogram\":[{\"marker\":{\"pattern\":{\"fillmode\":\"overlay\",\"size\":10,\"solidity\":0.2}},\"type\":\"histogram\"}],\"histogram2d\":[{\"colorbar\":{\"outlinewidth\":0,\"ticks\":\"\"},\"colorscale\":[[0.0,\"#0d0887\"],[0.1111111111111111,\"#46039f\"],[0.2222222222222222,\"#7201a8\"],[0.3333333333333333,\"#9c179e\"],[0.4444444444444444,\"#bd3786\"],[0.5555555555555556,\"#d8576b\"],[0.6666666666666666,\"#ed7953\"],[0.7777777777777778,\"#fb9f3a\"],[0.8888888888888888,\"#fdca26\"],[1.0,\"#f0f921\"]],\"type\":\"histogram2d\"}],\"histogram2dcontour\":[{\"colorbar\":{\"outlinewidth\":0,\"ticks\":\"\"},\"colorscale\":[[0.0,\"#0d0887\"],[0.1111111111111111,\"#46039f\"],[0.2222222222222222,\"#7201a8\"],[0.3333333333333333,\"#9c179e\"],[0.4444444444444444,\"#bd3786\"],[0.5555555555555556,\"#d8576b\"],[0.6666666666666666,\"#ed7953\"],[0.7777777777777778,\"#fb9f3a\"],[0.8888888888888888,\"#fdca26\"],[1.0,\"#f0f921\"]],\"type\":\"histogram2dcontour\"}],\"mesh3d\":[{\"colorbar\":{\"outlinewidth\":0,\"ticks\":\"\"},\"type\":\"mesh3d\"}],\"parcoords\":[{\"line\":{\"colorbar\":{\"outlinewidth\":0,\"ticks\":\"\"}},\"type\":\"parcoords\"}],\"pie\":[{\"automargin\":true,\"type\":\"pie\"}],\"scatter\":[{\"marker\":{\"colorbar\":{\"outlinewidth\":0,\"ticks\":\"\"}},\"type\":\"scatter\"}],\"scatter3d\":[{\"line\":{\"colorbar\":{\"outlinewidth\":0,\"ticks\":\"\"}},\"marker\":{\"colorbar\":{\"outlinewidth\":0,\"ticks\":\"\"}},\"type\":\"scatter3d\"}],\"scattercarpet\":[{\"marker\":{\"colorbar\":{\"outlinewidth\":0,\"ticks\":\"\"}},\"type\":\"scattercarpet\"}],\"scattergeo\":[{\"marker\":{\"colorbar\":{\"outlinewidth\":0,\"ticks\":\"\"}},\"type\":\"scattergeo\"}],\"scattergl\":[{\"marker\":{\"colorbar\":{\"outlinewidth\":0,\"ticks\":\"\"}},\"type\":\"scattergl\"}],\"scattermapbox\":[{\"marker\":{\"colorbar\":{\"outlinewidth\":0,\"ticks\":\"\"}},\"type\":\"scattermapbox\"}],\"scatterpolar\":[{\"marker\":{\"colorbar\":{\"outlinewidth\":0,\"ticks\":\"\"}},\"type\":\"scatterpolar\"}],\"scatterpolargl\":[{\"marker\":{\"colorbar\":{\"outlinewidth\":0,\"ticks\":\"\"}},\"type\":\"scatterpolargl\"}],\"scatterternary\":[{\"marker\":{\"colorbar\":{\"outlinewidth\":0,\"ticks\":\"\"}},\"type\":\"scatterternary\"}],\"surface\":[{\"colorbar\":{\"outlinewidth\":0,\"ticks\":\"\"},\"colorscale\":[[0.0,\"#0d0887\"],[0.1111111111111111,\"#46039f\"],[0.2222222222222222,\"#7201a8\"],[0.3333333333333333,\"#9c179e\"],[0.4444444444444444,\"#bd3786\"],[0.5555555555555556,\"#d8576b\"],[0.6666666666666666,\"#ed7953\"],[0.7777777777777778,\"#fb9f3a\"],[0.8888888888888888,\"#fdca26\"],[1.0,\"#f0f921\"]],\"type\":\"surface\"}],\"table\":[{\"cells\":{\"fill\":{\"color\":\"#EBF0F8\"},\"line\":{\"color\":\"white\"}},\"header\":{\"fill\":{\"color\":\"#C8D4E3\"},\"line\":{\"color\":\"white\"}},\"type\":\"table\"}]},\"layout\":{\"annotationdefaults\":{\"arrowcolor\":\"#2a3f5f\",\"arrowhead\":0,\"arrowwidth\":1},\"autotypenumbers\":\"strict\",\"coloraxis\":{\"colorbar\":{\"outlinewidth\":0,\"ticks\":\"\"}},\"colorscale\":{\"diverging\":[[0,\"#8e0152\"],[0.1,\"#c51b7d\"],[0.2,\"#de77ae\"],[0.3,\"#f1b6da\"],[0.4,\"#fde0ef\"],[0.5,\"#f7f7f7\"],[0.6,\"#e6f5d0\"],[0.7,\"#b8e186\"],[0.8,\"#7fbc41\"],[0.9,\"#4d9221\"],[1,\"#276419\"]],\"sequential\":[[0.0,\"#0d0887\"],[0.1111111111111111,\"#46039f\"],[0.2222222222222222,\"#7201a8\"],[0.3333333333333333,\"#9c179e\"],[0.4444444444444444,\"#bd3786\"],[0.5555555555555556,\"#d8576b\"],[0.6666666666666666,\"#ed7953\"],[0.7777777777777778,\"#fb9f3a\"],[0.8888888888888888,\"#fdca26\"],[1.0,\"#f0f921\"]],\"sequentialminus\":[[0.0,\"#0d0887\"],[0.1111111111111111,\"#46039f\"],[0.2222222222222222,\"#7201a8\"],[0.3333333333333333,\"#9c179e\"],[0.4444444444444444,\"#bd3786\"],[0.5555555555555556,\"#d8576b\"],[0.6666666666666666,\"#ed7953\"],[0.7777777777777778,\"#fb9f3a\"],[0.8888888888888888,\"#fdca26\"],[1.0,\"#f0f921\"]]},\"colorway\":[\"#636efa\",\"#EF553B\",\"#00cc96\",\"#ab63fa\",\"#FFA15A\",\"#19d3f3\",\"#FF6692\",\"#B6E880\",\"#FF97FF\",\"#FECB52\"],\"font\":{\"color\":\"#2a3f5f\"},\"geo\":{\"bgcolor\":\"white\",\"lakecolor\":\"white\",\"landcolor\":\"#E5ECF6\",\"showlakes\":true,\"showland\":true,\"subunitcolor\":\"white\"},\"hoverlabel\":{\"align\":\"left\"},\"hovermode\":\"closest\",\"mapbox\":{\"style\":\"light\"},\"paper_bgcolor\":\"white\",\"plot_bgcolor\":\"#E5ECF6\",\"polar\":{\"angularaxis\":{\"gridcolor\":\"white\",\"linecolor\":\"white\",\"ticks\":\"\"},\"bgcolor\":\"#E5ECF6\",\"radialaxis\":{\"gridcolor\":\"white\",\"linecolor\":\"white\",\"ticks\":\"\"}},\"scene\":{\"xaxis\":{\"backgroundcolor\":\"#E5ECF6\",\"gridcolor\":\"white\",\"gridwidth\":2,\"linecolor\":\"white\",\"showbackground\":true,\"ticks\":\"\",\"zerolinecolor\":\"white\"},\"yaxis\":{\"backgroundcolor\":\"#E5ECF6\",\"gridcolor\":\"white\",\"gridwidth\":2,\"linecolor\":\"white\",\"showbackground\":true,\"ticks\":\"\",\"zerolinecolor\":\"white\"},\"zaxis\":{\"backgroundcolor\":\"#E5ECF6\",\"gridcolor\":\"white\",\"gridwidth\":2,\"linecolor\":\"white\",\"showbackground\":true,\"ticks\":\"\",\"zerolinecolor\":\"white\"}},\"shapedefaults\":{\"line\":{\"color\":\"#2a3f5f\"}},\"ternary\":{\"aaxis\":{\"gridcolor\":\"white\",\"linecolor\":\"white\",\"ticks\":\"\"},\"baxis\":{\"gridcolor\":\"white\",\"linecolor\":\"white\",\"ticks\":\"\"},\"bgcolor\":\"#E5ECF6\",\"caxis\":{\"gridcolor\":\"white\",\"linecolor\":\"white\",\"ticks\":\"\"}},\"title\":{\"x\":0.05},\"xaxis\":{\"automargin\":true,\"gridcolor\":\"white\",\"linecolor\":\"white\",\"ticks\":\"\",\"title\":{\"standoff\":15},\"zerolinecolor\":\"white\",\"zerolinewidth\":2},\"yaxis\":{\"automargin\":true,\"gridcolor\":\"white\",\"linecolor\":\"white\",\"ticks\":\"\",\"title\":{\"standoff\":15},\"zerolinecolor\":\"white\",\"zerolinewidth\":2}}},\"xaxis\":{\"anchor\":\"y\",\"domain\":[0.0,1.0],\"title\":{\"text\":\"x\"}},\"yaxis\":{\"anchor\":\"x\",\"domain\":[0.0,1.0],\"title\":{\"text\":\"y\"}},\"legend\":{\"tracegroupgap\":0},\"margin\":{\"t\":60},\"barmode\":\"relative\",\"height\":1500,\"width\":800},                        {\"responsive\": true}                    ).then(function(){\n",
       "                            \n",
       "var gd = document.getElementById('79842379-e360-4b54-8c7e-4ff970764100');\n",
       "var x = new MutationObserver(function (mutations, observer) {{\n",
       "        var display = window.getComputedStyle(gd).display;\n",
       "        if (!display || display === 'none') {{\n",
       "            console.log([gd, 'removed!']);\n",
       "            Plotly.purge(gd);\n",
       "            observer.disconnect();\n",
       "        }}\n",
       "}});\n",
       "\n",
       "// Listen for the removal of the full notebook cells\n",
       "var notebookContainer = gd.closest('#notebook-container');\n",
       "if (notebookContainer) {{\n",
       "    x.observe(notebookContainer, {childList: true});\n",
       "}}\n",
       "\n",
       "// Listen for the clearing of the current output cell\n",
       "var outputEl = gd.closest('.output');\n",
       "if (outputEl) {{\n",
       "    x.observe(outputEl, {childList: true});\n",
       "}}\n",
       "\n",
       "                        })                };                });            </script>        </div>"
      ]
     },
     "metadata": {},
     "output_type": "display_data"
    }
   ],
   "source": [
    "fig = px.bar(x=final_2021_2022_median_200_400_2[\"price\"],y=final_2021_2022_median_200_400_2[\"suburb\"]\n",
    "            ,width=800, height=1500)\n",
    "fig.show()\n",
    "# Epping, Marrickville"
   ]
  },
  {
   "cell_type": "code",
   "execution_count": null,
   "id": "ce560619",
   "metadata": {},
   "outputs": [],
   "source": [
    "final_2021_2022[\"land_size_bin\"] = pd.cut(final_2021_2022[\"land_size\"],[0,200,400,600,800,1000,1200]).map(lambda x: x.left)\n",
    "final_2021_2022_stats = final_2021_2022.groupby([\"suburb\",\"land_size_bin\"])[\"price\"].describe().reset_index()\n",
    "final_2021_2022_stats.head()\n",
    "final_2021_2022_stats_2 = final_2021_2022_stats[final_2021_2022_stats[\"suburb\"].isin(main_suburbs)]\n",
    "final_2021_2022_stats_3 = final_2021_2022_stats_2[final_2021_2022_stats_2[\"count\"]>5]\n",
    "fig = px.scatter(final_2021_2022_stats_3, x=\"50%\", y=\"land_size_bin\",color=\"suburb\",size=\"count\")\n",
    "fig.show()\n",
    "# straith, north ryde, manly, randwick, kensington\n",
    "# like: castle hill, cherrybrook, north rocks, ryde, marrickville, baulkhim hills , epping, eastwood, carlingford, summer hill"
   ]
  },
  {
   "cell_type": "code",
   "execution_count": null,
   "id": "f49fa338",
   "metadata": {},
   "outputs": [],
   "source": []
  },
  {
   "cell_type": "code",
   "execution_count": 426,
   "id": "f36225ea",
   "metadata": {},
   "outputs": [
    {
     "name": "stdout",
     "output_type": "stream",
     "text": [
      "<class 'pandas.core.frame.DataFrame'>\n",
      "RangeIndex: 1194 entries, 0 to 1193\n",
      "Data columns (total 3 columns):\n",
      " #   Column         Non-Null Count  Dtype  \n",
      "---  ------         --------------  -----  \n",
      " 0   suburb         1194 non-null   object \n",
      " 1   land_size_bin  1194 non-null   object \n",
      " 2   price          723 non-null    float64\n",
      "dtypes: float64(1), object(2)\n",
      "memory usage: 28.1+ KB\n"
     ]
    },
    {
     "data": {
      "text/html": [
       "<div>\n",
       "<style scoped>\n",
       "    .dataframe tbody tr th:only-of-type {\n",
       "        vertical-align: middle;\n",
       "    }\n",
       "\n",
       "    .dataframe tbody tr th {\n",
       "        vertical-align: top;\n",
       "    }\n",
       "\n",
       "    .dataframe thead th {\n",
       "        text-align: right;\n",
       "    }\n",
       "</style>\n",
       "<table border=\"1\" class=\"dataframe\">\n",
       "  <thead>\n",
       "    <tr style=\"text-align: right;\">\n",
       "      <th></th>\n",
       "      <th>suburb</th>\n",
       "      <th>land_size_bin</th>\n",
       "      <th>count</th>\n",
       "      <th>mean</th>\n",
       "      <th>std</th>\n",
       "      <th>min</th>\n",
       "      <th>25%</th>\n",
       "      <th>50%</th>\n",
       "      <th>75%</th>\n",
       "      <th>max</th>\n",
       "    </tr>\n",
       "  </thead>\n",
       "  <tbody>\n",
       "    <tr>\n",
       "      <th>0</th>\n",
       "      <td>Adelaide</td>\n",
       "      <td>0</td>\n",
       "      <td>49.0</td>\n",
       "      <td>8.050337e+05</td>\n",
       "      <td>242496.886916</td>\n",
       "      <td>500000.0</td>\n",
       "      <td>627250.0</td>\n",
       "      <td>735501.0</td>\n",
       "      <td>900000.0</td>\n",
       "      <td>1610000.0</td>\n",
       "    </tr>\n",
       "    <tr>\n",
       "      <th>1</th>\n",
       "      <td>Adelaide</td>\n",
       "      <td>200</td>\n",
       "      <td>12.0</td>\n",
       "      <td>1.152292e+06</td>\n",
       "      <td>311604.094553</td>\n",
       "      <td>730000.0</td>\n",
       "      <td>901250.0</td>\n",
       "      <td>1117500.0</td>\n",
       "      <td>1386875.0</td>\n",
       "      <td>1800000.0</td>\n",
       "    </tr>\n",
       "    <tr>\n",
       "      <th>2</th>\n",
       "      <td>Alexandria</td>\n",
       "      <td>0</td>\n",
       "      <td>23.0</td>\n",
       "      <td>1.960995e+06</td>\n",
       "      <td>467292.197277</td>\n",
       "      <td>781000.0</td>\n",
       "      <td>1720000.0</td>\n",
       "      <td>1910000.0</td>\n",
       "      <td>2285000.0</td>\n",
       "      <td>2750000.0</td>\n",
       "    </tr>\n",
       "    <tr>\n",
       "      <th>3</th>\n",
       "      <td>Alexandria</td>\n",
       "      <td>200</td>\n",
       "      <td>7.0</td>\n",
       "      <td>2.252857e+06</td>\n",
       "      <td>683293.843226</td>\n",
       "      <td>1530000.0</td>\n",
       "      <td>1925000.0</td>\n",
       "      <td>2050000.0</td>\n",
       "      <td>2340000.0</td>\n",
       "      <td>3660000.0</td>\n",
       "    </tr>\n",
       "    <tr>\n",
       "      <th>4</th>\n",
       "      <td>Allambie Heights</td>\n",
       "      <td>200</td>\n",
       "      <td>4.0</td>\n",
       "      <td>1.796250e+06</td>\n",
       "      <td>264145.635335</td>\n",
       "      <td>1515000.0</td>\n",
       "      <td>1601250.0</td>\n",
       "      <td>1807500.0</td>\n",
       "      <td>2002500.0</td>\n",
       "      <td>2055000.0</td>\n",
       "    </tr>\n",
       "    <tr>\n",
       "      <th>...</th>\n",
       "      <td>...</td>\n",
       "      <td>...</td>\n",
       "      <td>...</td>\n",
       "      <td>...</td>\n",
       "      <td>...</td>\n",
       "      <td>...</td>\n",
       "      <td>...</td>\n",
       "      <td>...</td>\n",
       "      <td>...</td>\n",
       "      <td>...</td>\n",
       "    </tr>\n",
       "    <tr>\n",
       "      <th>723</th>\n",
       "      <td>Yagoona</td>\n",
       "      <td>200</td>\n",
       "      <td>13.0</td>\n",
       "      <td>1.063684e+06</td>\n",
       "      <td>193495.954108</td>\n",
       "      <td>688886.0</td>\n",
       "      <td>1000000.0</td>\n",
       "      <td>1115000.0</td>\n",
       "      <td>1175000.0</td>\n",
       "      <td>1320000.0</td>\n",
       "    </tr>\n",
       "    <tr>\n",
       "      <th>724</th>\n",
       "      <td>Yagoona</td>\n",
       "      <td>400</td>\n",
       "      <td>27.0</td>\n",
       "      <td>1.139156e+06</td>\n",
       "      <td>214323.381802</td>\n",
       "      <td>900000.0</td>\n",
       "      <td>993750.0</td>\n",
       "      <td>1100000.0</td>\n",
       "      <td>1199500.0</td>\n",
       "      <td>1880000.0</td>\n",
       "    </tr>\n",
       "    <tr>\n",
       "      <th>725</th>\n",
       "      <td>Yagoona</td>\n",
       "      <td>600</td>\n",
       "      <td>13.0</td>\n",
       "      <td>1.182808e+06</td>\n",
       "      <td>173069.776206</td>\n",
       "      <td>885000.0</td>\n",
       "      <td>1063000.0</td>\n",
       "      <td>1170000.0</td>\n",
       "      <td>1310000.0</td>\n",
       "      <td>1458500.0</td>\n",
       "    </tr>\n",
       "    <tr>\n",
       "      <th>726</th>\n",
       "      <td>Yagoona</td>\n",
       "      <td>800</td>\n",
       "      <td>3.0</td>\n",
       "      <td>1.481000e+06</td>\n",
       "      <td>281426.722256</td>\n",
       "      <td>1272000.0</td>\n",
       "      <td>1321000.0</td>\n",
       "      <td>1370000.0</td>\n",
       "      <td>1585500.0</td>\n",
       "      <td>1801000.0</td>\n",
       "    </tr>\n",
       "    <tr>\n",
       "      <th>727</th>\n",
       "      <td>Zetland</td>\n",
       "      <td>0</td>\n",
       "      <td>7.0</td>\n",
       "      <td>2.015857e+06</td>\n",
       "      <td>254780.577865</td>\n",
       "      <td>1677000.0</td>\n",
       "      <td>1870000.0</td>\n",
       "      <td>1978000.0</td>\n",
       "      <td>2158000.0</td>\n",
       "      <td>2400000.0</td>\n",
       "    </tr>\n",
       "  </tbody>\n",
       "</table>\n",
       "<p>728 rows × 10 columns</p>\n",
       "</div>"
      ],
      "text/plain": [
       "               suburb land_size_bin  count          mean            std  \\\n",
       "0            Adelaide             0   49.0  8.050337e+05  242496.886916   \n",
       "1            Adelaide           200   12.0  1.152292e+06  311604.094553   \n",
       "2          Alexandria             0   23.0  1.960995e+06  467292.197277   \n",
       "3          Alexandria           200    7.0  2.252857e+06  683293.843226   \n",
       "4    Allambie Heights           200    4.0  1.796250e+06  264145.635335   \n",
       "..                ...           ...    ...           ...            ...   \n",
       "723           Yagoona           200   13.0  1.063684e+06  193495.954108   \n",
       "724           Yagoona           400   27.0  1.139156e+06  214323.381802   \n",
       "725           Yagoona           600   13.0  1.182808e+06  173069.776206   \n",
       "726           Yagoona           800    3.0  1.481000e+06  281426.722256   \n",
       "727           Zetland             0    7.0  2.015857e+06  254780.577865   \n",
       "\n",
       "           min        25%        50%        75%        max  \n",
       "0     500000.0   627250.0   735501.0   900000.0  1610000.0  \n",
       "1     730000.0   901250.0  1117500.0  1386875.0  1800000.0  \n",
       "2     781000.0  1720000.0  1910000.0  2285000.0  2750000.0  \n",
       "3    1530000.0  1925000.0  2050000.0  2340000.0  3660000.0  \n",
       "4    1515000.0  1601250.0  1807500.0  2002500.0  2055000.0  \n",
       "..         ...        ...        ...        ...        ...  \n",
       "723   688886.0  1000000.0  1115000.0  1175000.0  1320000.0  \n",
       "724   900000.0   993750.0  1100000.0  1199500.0  1880000.0  \n",
       "725   885000.0  1063000.0  1170000.0  1310000.0  1458500.0  \n",
       "726  1272000.0  1321000.0  1370000.0  1585500.0  1801000.0  \n",
       "727  1677000.0  1870000.0  1978000.0  2158000.0  2400000.0  \n",
       "\n",
       "[728 rows x 10 columns]"
      ]
     },
     "execution_count": 426,
     "metadata": {},
     "output_type": "execute_result"
    }
   ],
   "source": [
    "final_2021_2022[\"land_size_bin\"] = pd.cut(final_2021_2022[\"land_size\"],[0,200,400,600,800,1000,1200])\n",
    "final_2021_2022_summ = final_2021_2022.groupby([\"suburb\",\"land_size_bin\"])[\"price\"].median().reset_index()\n",
    "final_2021_2022_summ[\"land_size_bin\"]=final_2021_2022_summ[\"land_size_bin\"].astype('str')\n",
    "final_2021_2022_summ.info()\n"
   ]
  },
  {
   "cell_type": "code",
   "execution_count": 353,
   "id": "0d5b3044",
   "metadata": {},
   "outputs": [
    {
     "data": {
      "application/vnd.plotly.v1+json": {
       "config": {
        "plotlyServerURL": "https://plot.ly"
       },
       "data": [
        {
         "alignmentgroup": "True",
         "hovertemplate": "suburb=Adelaide<br>land_size_bin=%{x}<br>price=%{y}<extra></extra>",
         "legendgroup": "",
         "marker": {
          "color": "#636efa",
          "pattern": {
           "shape": ""
          }
         },
         "name": "",
         "offsetgroup": "",
         "orientation": "v",
         "showlegend": false,
         "textposition": "auto",
         "type": "bar",
         "x": [
          "(0, 200]",
          "(200, 400]",
          "(400, 600]",
          "(600, 800]",
          "(800, 1000]",
          "(1000, 1200]"
         ],
         "xaxis": "x9",
         "y": [
          735501,
          1117500,
          null,
          null,
          null,
          null
         ],
         "yaxis": "y9"
        },
        {
         "alignmentgroup": "True",
         "hovertemplate": "suburb=Alexandria<br>land_size_bin=%{x}<br>price=%{y}<extra></extra>",
         "legendgroup": "",
         "marker": {
          "color": "#636efa",
          "pattern": {
           "shape": ""
          }
         },
         "name": "",
         "offsetgroup": "",
         "orientation": "v",
         "showlegend": false,
         "textposition": "auto",
         "type": "bar",
         "x": [
          "(0, 200]",
          "(200, 400]",
          "(400, 600]",
          "(600, 800]",
          "(800, 1000]",
          "(1000, 1200]"
         ],
         "xaxis": "x8",
         "y": [
          1910000,
          2050000,
          null,
          null,
          null,
          null
         ],
         "yaxis": "y8"
        },
        {
         "alignmentgroup": "True",
         "hovertemplate": "suburb=Allambie Heights<br>land_size_bin=%{x}<br>price=%{y}<extra></extra>",
         "legendgroup": "",
         "marker": {
          "color": "#636efa",
          "pattern": {
           "shape": ""
          }
         },
         "name": "",
         "offsetgroup": "",
         "orientation": "v",
         "showlegend": false,
         "textposition": "auto",
         "type": "bar",
         "x": [
          "(0, 200]",
          "(200, 400]",
          "(400, 600]",
          "(600, 800]",
          "(800, 1000]",
          "(1000, 1200]"
         ],
         "xaxis": "x7",
         "y": [
          null,
          1807500,
          2507500,
          2732500,
          2865000,
          3200000
         ],
         "yaxis": "y7"
        },
        {
         "alignmentgroup": "True",
         "hovertemplate": "suburb=Allawah<br>land_size_bin=%{x}<br>price=%{y}<extra></extra>",
         "legendgroup": "",
         "marker": {
          "color": "#636efa",
          "pattern": {
           "shape": ""
          }
         },
         "name": "",
         "offsetgroup": "",
         "orientation": "v",
         "showlegend": false,
         "textposition": "auto",
         "type": "bar",
         "x": [
          "(0, 200]",
          "(200, 400]",
          "(400, 600]",
          "(600, 800]",
          "(800, 1000]",
          "(1000, 1200]"
         ],
         "xaxis": "x6",
         "y": [
          null,
          1070000,
          1578000,
          null,
          null,
          null
         ],
         "yaxis": "y6"
        },
        {
         "alignmentgroup": "True",
         "hovertemplate": "suburb=Annandale<br>land_size_bin=%{x}<br>price=%{y}<extra></extra>",
         "legendgroup": "",
         "marker": {
          "color": "#636efa",
          "pattern": {
           "shape": ""
          }
         },
         "name": "",
         "offsetgroup": "",
         "orientation": "v",
         "showlegend": false,
         "textposition": "auto",
         "type": "bar",
         "x": [
          "(0, 200]",
          "(200, 400]",
          "(400, 600]",
          "(600, 800]",
          "(800, 1000]",
          "(1000, 1200]"
         ],
         "xaxis": "x5",
         "y": [
          1791000,
          2670000,
          3950000,
          6225000,
          null,
          null
         ],
         "yaxis": "y5"
        },
        {
         "alignmentgroup": "True",
         "hovertemplate": "suburb=Arncliffe<br>land_size_bin=%{x}<br>price=%{y}<extra></extra>",
         "legendgroup": "",
         "marker": {
          "color": "#636efa",
          "pattern": {
           "shape": ""
          }
         },
         "name": "",
         "offsetgroup": "",
         "orientation": "v",
         "showlegend": false,
         "textposition": "auto",
         "type": "bar",
         "x": [
          "(0, 200]",
          "(200, 400]",
          "(400, 600]",
          "(600, 800]",
          "(800, 1000]",
          "(1000, 1200]"
         ],
         "xaxis": "x4",
         "y": [
          1125000,
          1476000,
          1542500,
          1900000,
          2280000,
          null
         ],
         "yaxis": "y4"
        },
        {
         "alignmentgroup": "True",
         "hovertemplate": "suburb=Ashbury<br>land_size_bin=%{x}<br>price=%{y}<extra></extra>",
         "legendgroup": "",
         "marker": {
          "color": "#636efa",
          "pattern": {
           "shape": ""
          }
         },
         "name": "",
         "offsetgroup": "",
         "orientation": "v",
         "showlegend": false,
         "textposition": "auto",
         "type": "bar",
         "x": [
          "(0, 200]",
          "(200, 400]",
          "(400, 600]",
          "(600, 800]",
          "(800, 1000]",
          "(1000, 1200]"
         ],
         "xaxis": "x3",
         "y": [
          null,
          null,
          2425000,
          2600000,
          null,
          null
         ],
         "yaxis": "y3"
        },
        {
         "alignmentgroup": "True",
         "hovertemplate": "suburb=Ashfield<br>land_size_bin=%{x}<br>price=%{y}<extra></extra>",
         "legendgroup": "",
         "marker": {
          "color": "#636efa",
          "pattern": {
           "shape": ""
          }
         },
         "name": "",
         "offsetgroup": "",
         "orientation": "v",
         "showlegend": false,
         "textposition": "auto",
         "type": "bar",
         "x": [
          "(0, 200]",
          "(200, 400]",
          "(400, 600]",
          "(600, 800]",
          "(800, 1000]",
          "(1000, 1200]"
         ],
         "xaxis": "x2",
         "y": [
          1305150,
          1790000,
          2150000,
          2430000,
          3750000,
          null
         ],
         "yaxis": "y2"
        },
        {
         "alignmentgroup": "True",
         "hovertemplate": "suburb=Auburn<br>land_size_bin=%{x}<br>price=%{y}<extra></extra>",
         "legendgroup": "",
         "marker": {
          "color": "#636efa",
          "pattern": {
           "shape": ""
          }
         },
         "name": "",
         "offsetgroup": "",
         "orientation": "v",
         "showlegend": false,
         "textposition": "auto",
         "type": "bar",
         "x": [
          "(0, 200]",
          "(200, 400]"
         ],
         "xaxis": "x",
         "y": [
          715000,
          858750
         ],
         "yaxis": "y"
        }
       ],
       "layout": {
        "annotations": [
         {
          "font": {},
          "showarrow": false,
          "text": "suburb=Auburn",
          "textangle": 90,
          "x": 0.98,
          "xanchor": "left",
          "xref": "paper",
          "y": 0.042222222222222223,
          "yanchor": "middle",
          "yref": "paper"
         },
         {
          "font": {},
          "showarrow": false,
          "text": "suburb=Ashfield",
          "textangle": 90,
          "x": 0.98,
          "xanchor": "left",
          "xref": "paper",
          "y": 0.15666666666666668,
          "yanchor": "middle",
          "yref": "paper"
         },
         {
          "font": {},
          "showarrow": false,
          "text": "suburb=Ashbury",
          "textangle": 90,
          "x": 0.98,
          "xanchor": "left",
          "xref": "paper",
          "y": 0.27111111111111114,
          "yanchor": "middle",
          "yref": "paper"
         },
         {
          "font": {},
          "showarrow": false,
          "text": "suburb=Arncliffe",
          "textangle": 90,
          "x": 0.98,
          "xanchor": "left",
          "xref": "paper",
          "y": 0.3855555555555556,
          "yanchor": "middle",
          "yref": "paper"
         },
         {
          "font": {},
          "showarrow": false,
          "text": "suburb=Annandale",
          "textangle": 90,
          "x": 0.98,
          "xanchor": "left",
          "xref": "paper",
          "y": 0.5,
          "yanchor": "middle",
          "yref": "paper"
         },
         {
          "font": {},
          "showarrow": false,
          "text": "suburb=Allawah",
          "textangle": 90,
          "x": 0.98,
          "xanchor": "left",
          "xref": "paper",
          "y": 0.6144444444444443,
          "yanchor": "middle",
          "yref": "paper"
         },
         {
          "font": {},
          "showarrow": false,
          "text": "suburb=Allambie Heights",
          "textangle": 90,
          "x": 0.98,
          "xanchor": "left",
          "xref": "paper",
          "y": 0.7288888888888889,
          "yanchor": "middle",
          "yref": "paper"
         },
         {
          "font": {},
          "showarrow": false,
          "text": "suburb=Alexandria",
          "textangle": 90,
          "x": 0.98,
          "xanchor": "left",
          "xref": "paper",
          "y": 0.8433333333333333,
          "yanchor": "middle",
          "yref": "paper"
         },
         {
          "font": {},
          "showarrow": false,
          "text": "suburb=Adelaide",
          "textangle": 90,
          "x": 0.98,
          "xanchor": "left",
          "xref": "paper",
          "y": 0.9577777777777778,
          "yanchor": "middle",
          "yref": "paper"
         }
        ],
        "barmode": "relative",
        "legend": {
         "tracegroupgap": 0
        },
        "margin": {
         "t": 60
        },
        "template": {
         "data": {
          "bar": [
           {
            "error_x": {
             "color": "#2a3f5f"
            },
            "error_y": {
             "color": "#2a3f5f"
            },
            "marker": {
             "line": {
              "color": "#E5ECF6",
              "width": 0.5
             },
             "pattern": {
              "fillmode": "overlay",
              "size": 10,
              "solidity": 0.2
             }
            },
            "type": "bar"
           }
          ],
          "barpolar": [
           {
            "marker": {
             "line": {
              "color": "#E5ECF6",
              "width": 0.5
             },
             "pattern": {
              "fillmode": "overlay",
              "size": 10,
              "solidity": 0.2
             }
            },
            "type": "barpolar"
           }
          ],
          "carpet": [
           {
            "aaxis": {
             "endlinecolor": "#2a3f5f",
             "gridcolor": "white",
             "linecolor": "white",
             "minorgridcolor": "white",
             "startlinecolor": "#2a3f5f"
            },
            "baxis": {
             "endlinecolor": "#2a3f5f",
             "gridcolor": "white",
             "linecolor": "white",
             "minorgridcolor": "white",
             "startlinecolor": "#2a3f5f"
            },
            "type": "carpet"
           }
          ],
          "choropleth": [
           {
            "colorbar": {
             "outlinewidth": 0,
             "ticks": ""
            },
            "type": "choropleth"
           }
          ],
          "contour": [
           {
            "colorbar": {
             "outlinewidth": 0,
             "ticks": ""
            },
            "colorscale": [
             [
              0,
              "#0d0887"
             ],
             [
              0.1111111111111111,
              "#46039f"
             ],
             [
              0.2222222222222222,
              "#7201a8"
             ],
             [
              0.3333333333333333,
              "#9c179e"
             ],
             [
              0.4444444444444444,
              "#bd3786"
             ],
             [
              0.5555555555555556,
              "#d8576b"
             ],
             [
              0.6666666666666666,
              "#ed7953"
             ],
             [
              0.7777777777777778,
              "#fb9f3a"
             ],
             [
              0.8888888888888888,
              "#fdca26"
             ],
             [
              1,
              "#f0f921"
             ]
            ],
            "type": "contour"
           }
          ],
          "contourcarpet": [
           {
            "colorbar": {
             "outlinewidth": 0,
             "ticks": ""
            },
            "type": "contourcarpet"
           }
          ],
          "heatmap": [
           {
            "colorbar": {
             "outlinewidth": 0,
             "ticks": ""
            },
            "colorscale": [
             [
              0,
              "#0d0887"
             ],
             [
              0.1111111111111111,
              "#46039f"
             ],
             [
              0.2222222222222222,
              "#7201a8"
             ],
             [
              0.3333333333333333,
              "#9c179e"
             ],
             [
              0.4444444444444444,
              "#bd3786"
             ],
             [
              0.5555555555555556,
              "#d8576b"
             ],
             [
              0.6666666666666666,
              "#ed7953"
             ],
             [
              0.7777777777777778,
              "#fb9f3a"
             ],
             [
              0.8888888888888888,
              "#fdca26"
             ],
             [
              1,
              "#f0f921"
             ]
            ],
            "type": "heatmap"
           }
          ],
          "heatmapgl": [
           {
            "colorbar": {
             "outlinewidth": 0,
             "ticks": ""
            },
            "colorscale": [
             [
              0,
              "#0d0887"
             ],
             [
              0.1111111111111111,
              "#46039f"
             ],
             [
              0.2222222222222222,
              "#7201a8"
             ],
             [
              0.3333333333333333,
              "#9c179e"
             ],
             [
              0.4444444444444444,
              "#bd3786"
             ],
             [
              0.5555555555555556,
              "#d8576b"
             ],
             [
              0.6666666666666666,
              "#ed7953"
             ],
             [
              0.7777777777777778,
              "#fb9f3a"
             ],
             [
              0.8888888888888888,
              "#fdca26"
             ],
             [
              1,
              "#f0f921"
             ]
            ],
            "type": "heatmapgl"
           }
          ],
          "histogram": [
           {
            "marker": {
             "pattern": {
              "fillmode": "overlay",
              "size": 10,
              "solidity": 0.2
             }
            },
            "type": "histogram"
           }
          ],
          "histogram2d": [
           {
            "colorbar": {
             "outlinewidth": 0,
             "ticks": ""
            },
            "colorscale": [
             [
              0,
              "#0d0887"
             ],
             [
              0.1111111111111111,
              "#46039f"
             ],
             [
              0.2222222222222222,
              "#7201a8"
             ],
             [
              0.3333333333333333,
              "#9c179e"
             ],
             [
              0.4444444444444444,
              "#bd3786"
             ],
             [
              0.5555555555555556,
              "#d8576b"
             ],
             [
              0.6666666666666666,
              "#ed7953"
             ],
             [
              0.7777777777777778,
              "#fb9f3a"
             ],
             [
              0.8888888888888888,
              "#fdca26"
             ],
             [
              1,
              "#f0f921"
             ]
            ],
            "type": "histogram2d"
           }
          ],
          "histogram2dcontour": [
           {
            "colorbar": {
             "outlinewidth": 0,
             "ticks": ""
            },
            "colorscale": [
             [
              0,
              "#0d0887"
             ],
             [
              0.1111111111111111,
              "#46039f"
             ],
             [
              0.2222222222222222,
              "#7201a8"
             ],
             [
              0.3333333333333333,
              "#9c179e"
             ],
             [
              0.4444444444444444,
              "#bd3786"
             ],
             [
              0.5555555555555556,
              "#d8576b"
             ],
             [
              0.6666666666666666,
              "#ed7953"
             ],
             [
              0.7777777777777778,
              "#fb9f3a"
             ],
             [
              0.8888888888888888,
              "#fdca26"
             ],
             [
              1,
              "#f0f921"
             ]
            ],
            "type": "histogram2dcontour"
           }
          ],
          "mesh3d": [
           {
            "colorbar": {
             "outlinewidth": 0,
             "ticks": ""
            },
            "type": "mesh3d"
           }
          ],
          "parcoords": [
           {
            "line": {
             "colorbar": {
              "outlinewidth": 0,
              "ticks": ""
             }
            },
            "type": "parcoords"
           }
          ],
          "pie": [
           {
            "automargin": true,
            "type": "pie"
           }
          ],
          "scatter": [
           {
            "marker": {
             "colorbar": {
              "outlinewidth": 0,
              "ticks": ""
             }
            },
            "type": "scatter"
           }
          ],
          "scatter3d": [
           {
            "line": {
             "colorbar": {
              "outlinewidth": 0,
              "ticks": ""
             }
            },
            "marker": {
             "colorbar": {
              "outlinewidth": 0,
              "ticks": ""
             }
            },
            "type": "scatter3d"
           }
          ],
          "scattercarpet": [
           {
            "marker": {
             "colorbar": {
              "outlinewidth": 0,
              "ticks": ""
             }
            },
            "type": "scattercarpet"
           }
          ],
          "scattergeo": [
           {
            "marker": {
             "colorbar": {
              "outlinewidth": 0,
              "ticks": ""
             }
            },
            "type": "scattergeo"
           }
          ],
          "scattergl": [
           {
            "marker": {
             "colorbar": {
              "outlinewidth": 0,
              "ticks": ""
             }
            },
            "type": "scattergl"
           }
          ],
          "scattermapbox": [
           {
            "marker": {
             "colorbar": {
              "outlinewidth": 0,
              "ticks": ""
             }
            },
            "type": "scattermapbox"
           }
          ],
          "scatterpolar": [
           {
            "marker": {
             "colorbar": {
              "outlinewidth": 0,
              "ticks": ""
             }
            },
            "type": "scatterpolar"
           }
          ],
          "scatterpolargl": [
           {
            "marker": {
             "colorbar": {
              "outlinewidth": 0,
              "ticks": ""
             }
            },
            "type": "scatterpolargl"
           }
          ],
          "scatterternary": [
           {
            "marker": {
             "colorbar": {
              "outlinewidth": 0,
              "ticks": ""
             }
            },
            "type": "scatterternary"
           }
          ],
          "surface": [
           {
            "colorbar": {
             "outlinewidth": 0,
             "ticks": ""
            },
            "colorscale": [
             [
              0,
              "#0d0887"
             ],
             [
              0.1111111111111111,
              "#46039f"
             ],
             [
              0.2222222222222222,
              "#7201a8"
             ],
             [
              0.3333333333333333,
              "#9c179e"
             ],
             [
              0.4444444444444444,
              "#bd3786"
             ],
             [
              0.5555555555555556,
              "#d8576b"
             ],
             [
              0.6666666666666666,
              "#ed7953"
             ],
             [
              0.7777777777777778,
              "#fb9f3a"
             ],
             [
              0.8888888888888888,
              "#fdca26"
             ],
             [
              1,
              "#f0f921"
             ]
            ],
            "type": "surface"
           }
          ],
          "table": [
           {
            "cells": {
             "fill": {
              "color": "#EBF0F8"
             },
             "line": {
              "color": "white"
             }
            },
            "header": {
             "fill": {
              "color": "#C8D4E3"
             },
             "line": {
              "color": "white"
             }
            },
            "type": "table"
           }
          ]
         },
         "layout": {
          "annotationdefaults": {
           "arrowcolor": "#2a3f5f",
           "arrowhead": 0,
           "arrowwidth": 1
          },
          "autotypenumbers": "strict",
          "coloraxis": {
           "colorbar": {
            "outlinewidth": 0,
            "ticks": ""
           }
          },
          "colorscale": {
           "diverging": [
            [
             0,
             "#8e0152"
            ],
            [
             0.1,
             "#c51b7d"
            ],
            [
             0.2,
             "#de77ae"
            ],
            [
             0.3,
             "#f1b6da"
            ],
            [
             0.4,
             "#fde0ef"
            ],
            [
             0.5,
             "#f7f7f7"
            ],
            [
             0.6,
             "#e6f5d0"
            ],
            [
             0.7,
             "#b8e186"
            ],
            [
             0.8,
             "#7fbc41"
            ],
            [
             0.9,
             "#4d9221"
            ],
            [
             1,
             "#276419"
            ]
           ],
           "sequential": [
            [
             0,
             "#0d0887"
            ],
            [
             0.1111111111111111,
             "#46039f"
            ],
            [
             0.2222222222222222,
             "#7201a8"
            ],
            [
             0.3333333333333333,
             "#9c179e"
            ],
            [
             0.4444444444444444,
             "#bd3786"
            ],
            [
             0.5555555555555556,
             "#d8576b"
            ],
            [
             0.6666666666666666,
             "#ed7953"
            ],
            [
             0.7777777777777778,
             "#fb9f3a"
            ],
            [
             0.8888888888888888,
             "#fdca26"
            ],
            [
             1,
             "#f0f921"
            ]
           ],
           "sequentialminus": [
            [
             0,
             "#0d0887"
            ],
            [
             0.1111111111111111,
             "#46039f"
            ],
            [
             0.2222222222222222,
             "#7201a8"
            ],
            [
             0.3333333333333333,
             "#9c179e"
            ],
            [
             0.4444444444444444,
             "#bd3786"
            ],
            [
             0.5555555555555556,
             "#d8576b"
            ],
            [
             0.6666666666666666,
             "#ed7953"
            ],
            [
             0.7777777777777778,
             "#fb9f3a"
            ],
            [
             0.8888888888888888,
             "#fdca26"
            ],
            [
             1,
             "#f0f921"
            ]
           ]
          },
          "colorway": [
           "#636efa",
           "#EF553B",
           "#00cc96",
           "#ab63fa",
           "#FFA15A",
           "#19d3f3",
           "#FF6692",
           "#B6E880",
           "#FF97FF",
           "#FECB52"
          ],
          "font": {
           "color": "#2a3f5f"
          },
          "geo": {
           "bgcolor": "white",
           "lakecolor": "white",
           "landcolor": "#E5ECF6",
           "showlakes": true,
           "showland": true,
           "subunitcolor": "white"
          },
          "hoverlabel": {
           "align": "left"
          },
          "hovermode": "closest",
          "mapbox": {
           "style": "light"
          },
          "paper_bgcolor": "white",
          "plot_bgcolor": "#E5ECF6",
          "polar": {
           "angularaxis": {
            "gridcolor": "white",
            "linecolor": "white",
            "ticks": ""
           },
           "bgcolor": "#E5ECF6",
           "radialaxis": {
            "gridcolor": "white",
            "linecolor": "white",
            "ticks": ""
           }
          },
          "scene": {
           "xaxis": {
            "backgroundcolor": "#E5ECF6",
            "gridcolor": "white",
            "gridwidth": 2,
            "linecolor": "white",
            "showbackground": true,
            "ticks": "",
            "zerolinecolor": "white"
           },
           "yaxis": {
            "backgroundcolor": "#E5ECF6",
            "gridcolor": "white",
            "gridwidth": 2,
            "linecolor": "white",
            "showbackground": true,
            "ticks": "",
            "zerolinecolor": "white"
           },
           "zaxis": {
            "backgroundcolor": "#E5ECF6",
            "gridcolor": "white",
            "gridwidth": 2,
            "linecolor": "white",
            "showbackground": true,
            "ticks": "",
            "zerolinecolor": "white"
           }
          },
          "shapedefaults": {
           "line": {
            "color": "#2a3f5f"
           }
          },
          "ternary": {
           "aaxis": {
            "gridcolor": "white",
            "linecolor": "white",
            "ticks": ""
           },
           "baxis": {
            "gridcolor": "white",
            "linecolor": "white",
            "ticks": ""
           },
           "bgcolor": "#E5ECF6",
           "caxis": {
            "gridcolor": "white",
            "linecolor": "white",
            "ticks": ""
           }
          },
          "title": {
           "x": 0.05
          },
          "xaxis": {
           "automargin": true,
           "gridcolor": "white",
           "linecolor": "white",
           "ticks": "",
           "title": {
            "standoff": 15
           },
           "zerolinecolor": "white",
           "zerolinewidth": 2
          },
          "yaxis": {
           "automargin": true,
           "gridcolor": "white",
           "linecolor": "white",
           "ticks": "",
           "title": {
            "standoff": 15
           },
           "zerolinecolor": "white",
           "zerolinewidth": 2
          }
         }
        },
        "xaxis": {
         "anchor": "y",
         "domain": [
          0,
          0.98
         ],
         "title": {
          "text": "land_size_bin"
         }
        },
        "xaxis2": {
         "anchor": "y2",
         "domain": [
          0,
          0.98
         ],
         "matches": "x",
         "showticklabels": false
        },
        "xaxis3": {
         "anchor": "y3",
         "domain": [
          0,
          0.98
         ],
         "matches": "x",
         "showticklabels": false
        },
        "xaxis4": {
         "anchor": "y4",
         "domain": [
          0,
          0.98
         ],
         "matches": "x",
         "showticklabels": false
        },
        "xaxis5": {
         "anchor": "y5",
         "domain": [
          0,
          0.98
         ],
         "matches": "x",
         "showticklabels": false
        },
        "xaxis6": {
         "anchor": "y6",
         "domain": [
          0,
          0.98
         ],
         "matches": "x",
         "showticklabels": false
        },
        "xaxis7": {
         "anchor": "y7",
         "domain": [
          0,
          0.98
         ],
         "matches": "x",
         "showticklabels": false
        },
        "xaxis8": {
         "anchor": "y8",
         "domain": [
          0,
          0.98
         ],
         "matches": "x",
         "showticklabels": false
        },
        "xaxis9": {
         "anchor": "y9",
         "domain": [
          0,
          0.98
         ],
         "matches": "x",
         "showticklabels": false
        },
        "yaxis": {
         "anchor": "x",
         "domain": [
          0,
          0.08444444444444445
         ],
         "title": {
          "text": "price"
         }
        },
        "yaxis2": {
         "anchor": "x2",
         "domain": [
          0.11444444444444445,
          0.1988888888888889
         ],
         "matches": "y",
         "title": {
          "text": "price"
         }
        },
        "yaxis3": {
         "anchor": "x3",
         "domain": [
          0.2288888888888889,
          0.31333333333333335
         ],
         "matches": "y",
         "title": {
          "text": "price"
         }
        },
        "yaxis4": {
         "anchor": "x4",
         "domain": [
          0.3433333333333334,
          0.4277777777777778
         ],
         "matches": "y",
         "title": {
          "text": "price"
         }
        },
        "yaxis5": {
         "anchor": "x5",
         "domain": [
          0.4577777777777778,
          0.5422222222222223
         ],
         "matches": "y",
         "title": {
          "text": "price"
         }
        },
        "yaxis6": {
         "anchor": "x6",
         "domain": [
          0.5722222222222222,
          0.6566666666666666
         ],
         "matches": "y",
         "title": {
          "text": "price"
         }
        },
        "yaxis7": {
         "anchor": "x7",
         "domain": [
          0.6866666666666668,
          0.7711111111111112
         ],
         "matches": "y",
         "title": {
          "text": "price"
         }
        },
        "yaxis8": {
         "anchor": "x8",
         "domain": [
          0.8011111111111111,
          0.8855555555555555
         ],
         "matches": "y",
         "title": {
          "text": "price"
         }
        },
        "yaxis9": {
         "anchor": "x9",
         "domain": [
          0.9155555555555556,
          1
         ],
         "matches": "y",
         "title": {
          "text": "price"
         }
        }
       }
      },
      "text/html": [
       "<div>                            <div id=\"3f41e6e4-3e62-440f-8359-55d22135b605\" class=\"plotly-graph-div\" style=\"height:525px; width:100%;\"></div>            <script type=\"text/javascript\">                require([\"plotly\"], function(Plotly) {                    window.PLOTLYENV=window.PLOTLYENV || {};                                    if (document.getElementById(\"3f41e6e4-3e62-440f-8359-55d22135b605\")) {                    Plotly.newPlot(                        \"3f41e6e4-3e62-440f-8359-55d22135b605\",                        [{\"alignmentgroup\":\"True\",\"hovertemplate\":\"suburb=Adelaide<br>land_size_bin=%{x}<br>price=%{y}<extra></extra>\",\"legendgroup\":\"\",\"marker\":{\"color\":\"#636efa\",\"pattern\":{\"shape\":\"\"}},\"name\":\"\",\"offsetgroup\":\"\",\"orientation\":\"v\",\"showlegend\":false,\"textposition\":\"auto\",\"x\":[\"(0, 200]\",\"(200, 400]\",\"(400, 600]\",\"(600, 800]\",\"(800, 1000]\",\"(1000, 1200]\"],\"xaxis\":\"x9\",\"y\":[735501.0,1117500.0,null,null,null,null],\"yaxis\":\"y9\",\"type\":\"bar\"},{\"alignmentgroup\":\"True\",\"hovertemplate\":\"suburb=Alexandria<br>land_size_bin=%{x}<br>price=%{y}<extra></extra>\",\"legendgroup\":\"\",\"marker\":{\"color\":\"#636efa\",\"pattern\":{\"shape\":\"\"}},\"name\":\"\",\"offsetgroup\":\"\",\"orientation\":\"v\",\"showlegend\":false,\"textposition\":\"auto\",\"x\":[\"(0, 200]\",\"(200, 400]\",\"(400, 600]\",\"(600, 800]\",\"(800, 1000]\",\"(1000, 1200]\"],\"xaxis\":\"x8\",\"y\":[1910000.0,2050000.0,null,null,null,null],\"yaxis\":\"y8\",\"type\":\"bar\"},{\"alignmentgroup\":\"True\",\"hovertemplate\":\"suburb=Allambie Heights<br>land_size_bin=%{x}<br>price=%{y}<extra></extra>\",\"legendgroup\":\"\",\"marker\":{\"color\":\"#636efa\",\"pattern\":{\"shape\":\"\"}},\"name\":\"\",\"offsetgroup\":\"\",\"orientation\":\"v\",\"showlegend\":false,\"textposition\":\"auto\",\"x\":[\"(0, 200]\",\"(200, 400]\",\"(400, 600]\",\"(600, 800]\",\"(800, 1000]\",\"(1000, 1200]\"],\"xaxis\":\"x7\",\"y\":[null,1807500.0,2507500.0,2732500.0,2865000.0,3200000.0],\"yaxis\":\"y7\",\"type\":\"bar\"},{\"alignmentgroup\":\"True\",\"hovertemplate\":\"suburb=Allawah<br>land_size_bin=%{x}<br>price=%{y}<extra></extra>\",\"legendgroup\":\"\",\"marker\":{\"color\":\"#636efa\",\"pattern\":{\"shape\":\"\"}},\"name\":\"\",\"offsetgroup\":\"\",\"orientation\":\"v\",\"showlegend\":false,\"textposition\":\"auto\",\"x\":[\"(0, 200]\",\"(200, 400]\",\"(400, 600]\",\"(600, 800]\",\"(800, 1000]\",\"(1000, 1200]\"],\"xaxis\":\"x6\",\"y\":[null,1070000.0,1578000.0,null,null,null],\"yaxis\":\"y6\",\"type\":\"bar\"},{\"alignmentgroup\":\"True\",\"hovertemplate\":\"suburb=Annandale<br>land_size_bin=%{x}<br>price=%{y}<extra></extra>\",\"legendgroup\":\"\",\"marker\":{\"color\":\"#636efa\",\"pattern\":{\"shape\":\"\"}},\"name\":\"\",\"offsetgroup\":\"\",\"orientation\":\"v\",\"showlegend\":false,\"textposition\":\"auto\",\"x\":[\"(0, 200]\",\"(200, 400]\",\"(400, 600]\",\"(600, 800]\",\"(800, 1000]\",\"(1000, 1200]\"],\"xaxis\":\"x5\",\"y\":[1791000.0,2670000.0,3950000.0,6225000.0,null,null],\"yaxis\":\"y5\",\"type\":\"bar\"},{\"alignmentgroup\":\"True\",\"hovertemplate\":\"suburb=Arncliffe<br>land_size_bin=%{x}<br>price=%{y}<extra></extra>\",\"legendgroup\":\"\",\"marker\":{\"color\":\"#636efa\",\"pattern\":{\"shape\":\"\"}},\"name\":\"\",\"offsetgroup\":\"\",\"orientation\":\"v\",\"showlegend\":false,\"textposition\":\"auto\",\"x\":[\"(0, 200]\",\"(200, 400]\",\"(400, 600]\",\"(600, 800]\",\"(800, 1000]\",\"(1000, 1200]\"],\"xaxis\":\"x4\",\"y\":[1125000.0,1476000.0,1542500.0,1900000.0,2280000.0,null],\"yaxis\":\"y4\",\"type\":\"bar\"},{\"alignmentgroup\":\"True\",\"hovertemplate\":\"suburb=Ashbury<br>land_size_bin=%{x}<br>price=%{y}<extra></extra>\",\"legendgroup\":\"\",\"marker\":{\"color\":\"#636efa\",\"pattern\":{\"shape\":\"\"}},\"name\":\"\",\"offsetgroup\":\"\",\"orientation\":\"v\",\"showlegend\":false,\"textposition\":\"auto\",\"x\":[\"(0, 200]\",\"(200, 400]\",\"(400, 600]\",\"(600, 800]\",\"(800, 1000]\",\"(1000, 1200]\"],\"xaxis\":\"x3\",\"y\":[null,null,2425000.0,2600000.0,null,null],\"yaxis\":\"y3\",\"type\":\"bar\"},{\"alignmentgroup\":\"True\",\"hovertemplate\":\"suburb=Ashfield<br>land_size_bin=%{x}<br>price=%{y}<extra></extra>\",\"legendgroup\":\"\",\"marker\":{\"color\":\"#636efa\",\"pattern\":{\"shape\":\"\"}},\"name\":\"\",\"offsetgroup\":\"\",\"orientation\":\"v\",\"showlegend\":false,\"textposition\":\"auto\",\"x\":[\"(0, 200]\",\"(200, 400]\",\"(400, 600]\",\"(600, 800]\",\"(800, 1000]\",\"(1000, 1200]\"],\"xaxis\":\"x2\",\"y\":[1305150.0,1790000.0,2150000.0,2430000.0,3750000.0,null],\"yaxis\":\"y2\",\"type\":\"bar\"},{\"alignmentgroup\":\"True\",\"hovertemplate\":\"suburb=Auburn<br>land_size_bin=%{x}<br>price=%{y}<extra></extra>\",\"legendgroup\":\"\",\"marker\":{\"color\":\"#636efa\",\"pattern\":{\"shape\":\"\"}},\"name\":\"\",\"offsetgroup\":\"\",\"orientation\":\"v\",\"showlegend\":false,\"textposition\":\"auto\",\"x\":[\"(0, 200]\",\"(200, 400]\"],\"xaxis\":\"x\",\"y\":[715000.0,858750.0],\"yaxis\":\"y\",\"type\":\"bar\"}],                        {\"template\":{\"data\":{\"bar\":[{\"error_x\":{\"color\":\"#2a3f5f\"},\"error_y\":{\"color\":\"#2a3f5f\"},\"marker\":{\"line\":{\"color\":\"#E5ECF6\",\"width\":0.5},\"pattern\":{\"fillmode\":\"overlay\",\"size\":10,\"solidity\":0.2}},\"type\":\"bar\"}],\"barpolar\":[{\"marker\":{\"line\":{\"color\":\"#E5ECF6\",\"width\":0.5},\"pattern\":{\"fillmode\":\"overlay\",\"size\":10,\"solidity\":0.2}},\"type\":\"barpolar\"}],\"carpet\":[{\"aaxis\":{\"endlinecolor\":\"#2a3f5f\",\"gridcolor\":\"white\",\"linecolor\":\"white\",\"minorgridcolor\":\"white\",\"startlinecolor\":\"#2a3f5f\"},\"baxis\":{\"endlinecolor\":\"#2a3f5f\",\"gridcolor\":\"white\",\"linecolor\":\"white\",\"minorgridcolor\":\"white\",\"startlinecolor\":\"#2a3f5f\"},\"type\":\"carpet\"}],\"choropleth\":[{\"colorbar\":{\"outlinewidth\":0,\"ticks\":\"\"},\"type\":\"choropleth\"}],\"contour\":[{\"colorbar\":{\"outlinewidth\":0,\"ticks\":\"\"},\"colorscale\":[[0.0,\"#0d0887\"],[0.1111111111111111,\"#46039f\"],[0.2222222222222222,\"#7201a8\"],[0.3333333333333333,\"#9c179e\"],[0.4444444444444444,\"#bd3786\"],[0.5555555555555556,\"#d8576b\"],[0.6666666666666666,\"#ed7953\"],[0.7777777777777778,\"#fb9f3a\"],[0.8888888888888888,\"#fdca26\"],[1.0,\"#f0f921\"]],\"type\":\"contour\"}],\"contourcarpet\":[{\"colorbar\":{\"outlinewidth\":0,\"ticks\":\"\"},\"type\":\"contourcarpet\"}],\"heatmap\":[{\"colorbar\":{\"outlinewidth\":0,\"ticks\":\"\"},\"colorscale\":[[0.0,\"#0d0887\"],[0.1111111111111111,\"#46039f\"],[0.2222222222222222,\"#7201a8\"],[0.3333333333333333,\"#9c179e\"],[0.4444444444444444,\"#bd3786\"],[0.5555555555555556,\"#d8576b\"],[0.6666666666666666,\"#ed7953\"],[0.7777777777777778,\"#fb9f3a\"],[0.8888888888888888,\"#fdca26\"],[1.0,\"#f0f921\"]],\"type\":\"heatmap\"}],\"heatmapgl\":[{\"colorbar\":{\"outlinewidth\":0,\"ticks\":\"\"},\"colorscale\":[[0.0,\"#0d0887\"],[0.1111111111111111,\"#46039f\"],[0.2222222222222222,\"#7201a8\"],[0.3333333333333333,\"#9c179e\"],[0.4444444444444444,\"#bd3786\"],[0.5555555555555556,\"#d8576b\"],[0.6666666666666666,\"#ed7953\"],[0.7777777777777778,\"#fb9f3a\"],[0.8888888888888888,\"#fdca26\"],[1.0,\"#f0f921\"]],\"type\":\"heatmapgl\"}],\"histogram\":[{\"marker\":{\"pattern\":{\"fillmode\":\"overlay\",\"size\":10,\"solidity\":0.2}},\"type\":\"histogram\"}],\"histogram2d\":[{\"colorbar\":{\"outlinewidth\":0,\"ticks\":\"\"},\"colorscale\":[[0.0,\"#0d0887\"],[0.1111111111111111,\"#46039f\"],[0.2222222222222222,\"#7201a8\"],[0.3333333333333333,\"#9c179e\"],[0.4444444444444444,\"#bd3786\"],[0.5555555555555556,\"#d8576b\"],[0.6666666666666666,\"#ed7953\"],[0.7777777777777778,\"#fb9f3a\"],[0.8888888888888888,\"#fdca26\"],[1.0,\"#f0f921\"]],\"type\":\"histogram2d\"}],\"histogram2dcontour\":[{\"colorbar\":{\"outlinewidth\":0,\"ticks\":\"\"},\"colorscale\":[[0.0,\"#0d0887\"],[0.1111111111111111,\"#46039f\"],[0.2222222222222222,\"#7201a8\"],[0.3333333333333333,\"#9c179e\"],[0.4444444444444444,\"#bd3786\"],[0.5555555555555556,\"#d8576b\"],[0.6666666666666666,\"#ed7953\"],[0.7777777777777778,\"#fb9f3a\"],[0.8888888888888888,\"#fdca26\"],[1.0,\"#f0f921\"]],\"type\":\"histogram2dcontour\"}],\"mesh3d\":[{\"colorbar\":{\"outlinewidth\":0,\"ticks\":\"\"},\"type\":\"mesh3d\"}],\"parcoords\":[{\"line\":{\"colorbar\":{\"outlinewidth\":0,\"ticks\":\"\"}},\"type\":\"parcoords\"}],\"pie\":[{\"automargin\":true,\"type\":\"pie\"}],\"scatter\":[{\"marker\":{\"colorbar\":{\"outlinewidth\":0,\"ticks\":\"\"}},\"type\":\"scatter\"}],\"scatter3d\":[{\"line\":{\"colorbar\":{\"outlinewidth\":0,\"ticks\":\"\"}},\"marker\":{\"colorbar\":{\"outlinewidth\":0,\"ticks\":\"\"}},\"type\":\"scatter3d\"}],\"scattercarpet\":[{\"marker\":{\"colorbar\":{\"outlinewidth\":0,\"ticks\":\"\"}},\"type\":\"scattercarpet\"}],\"scattergeo\":[{\"marker\":{\"colorbar\":{\"outlinewidth\":0,\"ticks\":\"\"}},\"type\":\"scattergeo\"}],\"scattergl\":[{\"marker\":{\"colorbar\":{\"outlinewidth\":0,\"ticks\":\"\"}},\"type\":\"scattergl\"}],\"scattermapbox\":[{\"marker\":{\"colorbar\":{\"outlinewidth\":0,\"ticks\":\"\"}},\"type\":\"scattermapbox\"}],\"scatterpolar\":[{\"marker\":{\"colorbar\":{\"outlinewidth\":0,\"ticks\":\"\"}},\"type\":\"scatterpolar\"}],\"scatterpolargl\":[{\"marker\":{\"colorbar\":{\"outlinewidth\":0,\"ticks\":\"\"}},\"type\":\"scatterpolargl\"}],\"scatterternary\":[{\"marker\":{\"colorbar\":{\"outlinewidth\":0,\"ticks\":\"\"}},\"type\":\"scatterternary\"}],\"surface\":[{\"colorbar\":{\"outlinewidth\":0,\"ticks\":\"\"},\"colorscale\":[[0.0,\"#0d0887\"],[0.1111111111111111,\"#46039f\"],[0.2222222222222222,\"#7201a8\"],[0.3333333333333333,\"#9c179e\"],[0.4444444444444444,\"#bd3786\"],[0.5555555555555556,\"#d8576b\"],[0.6666666666666666,\"#ed7953\"],[0.7777777777777778,\"#fb9f3a\"],[0.8888888888888888,\"#fdca26\"],[1.0,\"#f0f921\"]],\"type\":\"surface\"}],\"table\":[{\"cells\":{\"fill\":{\"color\":\"#EBF0F8\"},\"line\":{\"color\":\"white\"}},\"header\":{\"fill\":{\"color\":\"#C8D4E3\"},\"line\":{\"color\":\"white\"}},\"type\":\"table\"}]},\"layout\":{\"annotationdefaults\":{\"arrowcolor\":\"#2a3f5f\",\"arrowhead\":0,\"arrowwidth\":1},\"autotypenumbers\":\"strict\",\"coloraxis\":{\"colorbar\":{\"outlinewidth\":0,\"ticks\":\"\"}},\"colorscale\":{\"diverging\":[[0,\"#8e0152\"],[0.1,\"#c51b7d\"],[0.2,\"#de77ae\"],[0.3,\"#f1b6da\"],[0.4,\"#fde0ef\"],[0.5,\"#f7f7f7\"],[0.6,\"#e6f5d0\"],[0.7,\"#b8e186\"],[0.8,\"#7fbc41\"],[0.9,\"#4d9221\"],[1,\"#276419\"]],\"sequential\":[[0.0,\"#0d0887\"],[0.1111111111111111,\"#46039f\"],[0.2222222222222222,\"#7201a8\"],[0.3333333333333333,\"#9c179e\"],[0.4444444444444444,\"#bd3786\"],[0.5555555555555556,\"#d8576b\"],[0.6666666666666666,\"#ed7953\"],[0.7777777777777778,\"#fb9f3a\"],[0.8888888888888888,\"#fdca26\"],[1.0,\"#f0f921\"]],\"sequentialminus\":[[0.0,\"#0d0887\"],[0.1111111111111111,\"#46039f\"],[0.2222222222222222,\"#7201a8\"],[0.3333333333333333,\"#9c179e\"],[0.4444444444444444,\"#bd3786\"],[0.5555555555555556,\"#d8576b\"],[0.6666666666666666,\"#ed7953\"],[0.7777777777777778,\"#fb9f3a\"],[0.8888888888888888,\"#fdca26\"],[1.0,\"#f0f921\"]]},\"colorway\":[\"#636efa\",\"#EF553B\",\"#00cc96\",\"#ab63fa\",\"#FFA15A\",\"#19d3f3\",\"#FF6692\",\"#B6E880\",\"#FF97FF\",\"#FECB52\"],\"font\":{\"color\":\"#2a3f5f\"},\"geo\":{\"bgcolor\":\"white\",\"lakecolor\":\"white\",\"landcolor\":\"#E5ECF6\",\"showlakes\":true,\"showland\":true,\"subunitcolor\":\"white\"},\"hoverlabel\":{\"align\":\"left\"},\"hovermode\":\"closest\",\"mapbox\":{\"style\":\"light\"},\"paper_bgcolor\":\"white\",\"plot_bgcolor\":\"#E5ECF6\",\"polar\":{\"angularaxis\":{\"gridcolor\":\"white\",\"linecolor\":\"white\",\"ticks\":\"\"},\"bgcolor\":\"#E5ECF6\",\"radialaxis\":{\"gridcolor\":\"white\",\"linecolor\":\"white\",\"ticks\":\"\"}},\"scene\":{\"xaxis\":{\"backgroundcolor\":\"#E5ECF6\",\"gridcolor\":\"white\",\"gridwidth\":2,\"linecolor\":\"white\",\"showbackground\":true,\"ticks\":\"\",\"zerolinecolor\":\"white\"},\"yaxis\":{\"backgroundcolor\":\"#E5ECF6\",\"gridcolor\":\"white\",\"gridwidth\":2,\"linecolor\":\"white\",\"showbackground\":true,\"ticks\":\"\",\"zerolinecolor\":\"white\"},\"zaxis\":{\"backgroundcolor\":\"#E5ECF6\",\"gridcolor\":\"white\",\"gridwidth\":2,\"linecolor\":\"white\",\"showbackground\":true,\"ticks\":\"\",\"zerolinecolor\":\"white\"}},\"shapedefaults\":{\"line\":{\"color\":\"#2a3f5f\"}},\"ternary\":{\"aaxis\":{\"gridcolor\":\"white\",\"linecolor\":\"white\",\"ticks\":\"\"},\"baxis\":{\"gridcolor\":\"white\",\"linecolor\":\"white\",\"ticks\":\"\"},\"bgcolor\":\"#E5ECF6\",\"caxis\":{\"gridcolor\":\"white\",\"linecolor\":\"white\",\"ticks\":\"\"}},\"title\":{\"x\":0.05},\"xaxis\":{\"automargin\":true,\"gridcolor\":\"white\",\"linecolor\":\"white\",\"ticks\":\"\",\"title\":{\"standoff\":15},\"zerolinecolor\":\"white\",\"zerolinewidth\":2},\"yaxis\":{\"automargin\":true,\"gridcolor\":\"white\",\"linecolor\":\"white\",\"ticks\":\"\",\"title\":{\"standoff\":15},\"zerolinecolor\":\"white\",\"zerolinewidth\":2}}},\"xaxis\":{\"anchor\":\"y\",\"domain\":[0.0,0.98],\"title\":{\"text\":\"land_size_bin\"}},\"yaxis\":{\"anchor\":\"x\",\"domain\":[0.0,0.08444444444444445],\"title\":{\"text\":\"price\"}},\"xaxis2\":{\"anchor\":\"y2\",\"domain\":[0.0,0.98],\"matches\":\"x\",\"showticklabels\":false},\"yaxis2\":{\"anchor\":\"x2\",\"domain\":[0.11444444444444445,0.1988888888888889],\"matches\":\"y\",\"title\":{\"text\":\"price\"}},\"xaxis3\":{\"anchor\":\"y3\",\"domain\":[0.0,0.98],\"matches\":\"x\",\"showticklabels\":false},\"yaxis3\":{\"anchor\":\"x3\",\"domain\":[0.2288888888888889,0.31333333333333335],\"matches\":\"y\",\"title\":{\"text\":\"price\"}},\"xaxis4\":{\"anchor\":\"y4\",\"domain\":[0.0,0.98],\"matches\":\"x\",\"showticklabels\":false},\"yaxis4\":{\"anchor\":\"x4\",\"domain\":[0.3433333333333334,0.4277777777777778],\"matches\":\"y\",\"title\":{\"text\":\"price\"}},\"xaxis5\":{\"anchor\":\"y5\",\"domain\":[0.0,0.98],\"matches\":\"x\",\"showticklabels\":false},\"yaxis5\":{\"anchor\":\"x5\",\"domain\":[0.4577777777777778,0.5422222222222223],\"matches\":\"y\",\"title\":{\"text\":\"price\"}},\"xaxis6\":{\"anchor\":\"y6\",\"domain\":[0.0,0.98],\"matches\":\"x\",\"showticklabels\":false},\"yaxis6\":{\"anchor\":\"x6\",\"domain\":[0.5722222222222222,0.6566666666666666],\"matches\":\"y\",\"title\":{\"text\":\"price\"}},\"xaxis7\":{\"anchor\":\"y7\",\"domain\":[0.0,0.98],\"matches\":\"x\",\"showticklabels\":false},\"yaxis7\":{\"anchor\":\"x7\",\"domain\":[0.6866666666666668,0.7711111111111112],\"matches\":\"y\",\"title\":{\"text\":\"price\"}},\"xaxis8\":{\"anchor\":\"y8\",\"domain\":[0.0,0.98],\"matches\":\"x\",\"showticklabels\":false},\"yaxis8\":{\"anchor\":\"x8\",\"domain\":[0.8011111111111111,0.8855555555555555],\"matches\":\"y\",\"title\":{\"text\":\"price\"}},\"xaxis9\":{\"anchor\":\"y9\",\"domain\":[0.0,0.98],\"matches\":\"x\",\"showticklabels\":false},\"yaxis9\":{\"anchor\":\"x9\",\"domain\":[0.9155555555555556,1.0],\"matches\":\"y\",\"title\":{\"text\":\"price\"}},\"annotations\":[{\"font\":{},\"showarrow\":false,\"text\":\"suburb=Auburn\",\"textangle\":90,\"x\":0.98,\"xanchor\":\"left\",\"xref\":\"paper\",\"y\":0.042222222222222223,\"yanchor\":\"middle\",\"yref\":\"paper\"},{\"font\":{},\"showarrow\":false,\"text\":\"suburb=Ashfield\",\"textangle\":90,\"x\":0.98,\"xanchor\":\"left\",\"xref\":\"paper\",\"y\":0.15666666666666668,\"yanchor\":\"middle\",\"yref\":\"paper\"},{\"font\":{},\"showarrow\":false,\"text\":\"suburb=Ashbury\",\"textangle\":90,\"x\":0.98,\"xanchor\":\"left\",\"xref\":\"paper\",\"y\":0.27111111111111114,\"yanchor\":\"middle\",\"yref\":\"paper\"},{\"font\":{},\"showarrow\":false,\"text\":\"suburb=Arncliffe\",\"textangle\":90,\"x\":0.98,\"xanchor\":\"left\",\"xref\":\"paper\",\"y\":0.3855555555555556,\"yanchor\":\"middle\",\"yref\":\"paper\"},{\"font\":{},\"showarrow\":false,\"text\":\"suburb=Annandale\",\"textangle\":90,\"x\":0.98,\"xanchor\":\"left\",\"xref\":\"paper\",\"y\":0.5,\"yanchor\":\"middle\",\"yref\":\"paper\"},{\"font\":{},\"showarrow\":false,\"text\":\"suburb=Allawah\",\"textangle\":90,\"x\":0.98,\"xanchor\":\"left\",\"xref\":\"paper\",\"y\":0.6144444444444443,\"yanchor\":\"middle\",\"yref\":\"paper\"},{\"font\":{},\"showarrow\":false,\"text\":\"suburb=Allambie Heights\",\"textangle\":90,\"x\":0.98,\"xanchor\":\"left\",\"xref\":\"paper\",\"y\":0.7288888888888889,\"yanchor\":\"middle\",\"yref\":\"paper\"},{\"font\":{},\"showarrow\":false,\"text\":\"suburb=Alexandria\",\"textangle\":90,\"x\":0.98,\"xanchor\":\"left\",\"xref\":\"paper\",\"y\":0.8433333333333333,\"yanchor\":\"middle\",\"yref\":\"paper\"},{\"font\":{},\"showarrow\":false,\"text\":\"suburb=Adelaide\",\"textangle\":90,\"x\":0.98,\"xanchor\":\"left\",\"xref\":\"paper\",\"y\":0.9577777777777778,\"yanchor\":\"middle\",\"yref\":\"paper\"}],\"legend\":{\"tracegroupgap\":0},\"margin\":{\"t\":60},\"barmode\":\"relative\"},                        {\"responsive\": true}                    ).then(function(){\n",
       "                            \n",
       "var gd = document.getElementById('3f41e6e4-3e62-440f-8359-55d22135b605');\n",
       "var x = new MutationObserver(function (mutations, observer) {{\n",
       "        var display = window.getComputedStyle(gd).display;\n",
       "        if (!display || display === 'none') {{\n",
       "            console.log([gd, 'removed!']);\n",
       "            Plotly.purge(gd);\n",
       "            observer.disconnect();\n",
       "        }}\n",
       "}});\n",
       "\n",
       "// Listen for the removal of the full notebook cells\n",
       "var notebookContainer = gd.closest('#notebook-container');\n",
       "if (notebookContainer) {{\n",
       "    x.observe(notebookContainer, {childList: true});\n",
       "}}\n",
       "\n",
       "// Listen for the clearing of the current output cell\n",
       "var outputEl = gd.closest('.output');\n",
       "if (outputEl) {{\n",
       "    x.observe(outputEl, {childList: true});\n",
       "}}\n",
       "\n",
       "                        })                };                });            </script>        </div>"
      ]
     },
     "metadata": {},
     "output_type": "display_data"
    }
   ],
   "source": [
    "fig = px.bar(final_2021_2022_summ[0:50], x=\"land_size_bin\", y=\"price\", facet_row=\"suburb\")\n",
    "\n",
    "# fig = make_subplots(\n",
    "#     rows=5, cols=1\n",
    "#     ,subplot_titles=(\"Plot 1\", \"Plot 2\", \"Plot 3\", \"Plot 4\")\n",
    "#     ,shared_yaxes=True\n",
    "#     ,shared_xaxes=True)\n",
    "\n",
    "\n",
    "# final_2021_2022_summ = suburb_df[suburb_df[\"sold_date_dt\"] >= dtm][\"land_size\"]\n",
    "\n",
    "# fig.add_trace(go.,row =1, col=1)\n",
    "\n",
    "\n",
    "# fig.update_xaxes(range=[0, 1200], row=1, col=1)\n",
    "# fig.update_xaxes(range=[0, 1200], row=2, col=1)\n",
    "# fig.update_xaxes(range=[0, 1200], row=3, col=1)\n",
    "# fig.update_xaxes(range=[0, 1200], row=4, col=1)\n",
    "# fig.update_xaxes(range=[0, 1200], row=5, col=1)\n",
    "\n",
    "# fig.update_yaxes(range=[0, 125], row=row, col=col)\n",
    "# fig.add_trace(go.Histogram(x=suburb_df_price,xbins=dict(size=100),autobinx = False, name=name),row =row, col=col)\n",
    "        \n",
    "\n",
    "fig.show()"
   ]
  },
  {
   "cell_type": "code",
   "execution_count": null,
   "id": "2cd565e6",
   "metadata": {},
   "outputs": [],
   "source": []
  },
  {
   "cell_type": "code",
   "execution_count": null,
   "id": "febf8e95",
   "metadata": {},
   "outputs": [],
   "source": []
  },
  {
   "cell_type": "code",
   "execution_count": null,
   "id": "92903f32",
   "metadata": {},
   "outputs": [],
   "source": []
  },
  {
   "cell_type": "code",
   "execution_count": 156,
   "id": "12a36070",
   "metadata": {},
   "outputs": [
    {
     "data": {
      "application/vnd.plotly.v1+json": {
       "config": {
        "plotlyServerURL": "https://plot.ly"
       },
       "data": [
        {
         "opacity": 0.75,
         "type": "histogram",
         "x": [
          2700000,
          1850000,
          3025000,
          2350000,
          2200000,
          1930000,
          2604000,
          2967000,
          2482000,
          1805000,
          2630000,
          2700000,
          2765000,
          2275000,
          1100000,
          2000000,
          2535000,
          2280000,
          1490000,
          2498000,
          2300000,
          2275000,
          1310000,
          1510000,
          2650000,
          2560000,
          2489000,
          2075000,
          4000000,
          2680000,
          2100000,
          2720000,
          2600000,
          2000000,
          2300000,
          1851000,
          1805000,
          1650000,
          1300000,
          3060000,
          2400000,
          2010000,
          2960000,
          2050000,
          4500000,
          2900000,
          2750000,
          2300000,
          2450000,
          1700000,
          1870000,
          2612888,
          1710000
         ]
        },
        {
         "opacity": 0.75,
         "type": "histogram",
         "x": [
          1500000,
          1637000,
          1307000,
          1625000,
          2010000,
          960000,
          1660000,
          1545000,
          1835000,
          1590000,
          970000,
          1850000,
          1802000,
          835000,
          1805000,
          1480000,
          1280000,
          1550000,
          2003000,
          1830000,
          1312500,
          1665000
         ]
        }
       ],
       "layout": {
        "barmode": "overlay",
        "template": {
         "data": {
          "bar": [
           {
            "error_x": {
             "color": "#2a3f5f"
            },
            "error_y": {
             "color": "#2a3f5f"
            },
            "marker": {
             "line": {
              "color": "#E5ECF6",
              "width": 0.5
             },
             "pattern": {
              "fillmode": "overlay",
              "size": 10,
              "solidity": 0.2
             }
            },
            "type": "bar"
           }
          ],
          "barpolar": [
           {
            "marker": {
             "line": {
              "color": "#E5ECF6",
              "width": 0.5
             },
             "pattern": {
              "fillmode": "overlay",
              "size": 10,
              "solidity": 0.2
             }
            },
            "type": "barpolar"
           }
          ],
          "carpet": [
           {
            "aaxis": {
             "endlinecolor": "#2a3f5f",
             "gridcolor": "white",
             "linecolor": "white",
             "minorgridcolor": "white",
             "startlinecolor": "#2a3f5f"
            },
            "baxis": {
             "endlinecolor": "#2a3f5f",
             "gridcolor": "white",
             "linecolor": "white",
             "minorgridcolor": "white",
             "startlinecolor": "#2a3f5f"
            },
            "type": "carpet"
           }
          ],
          "choropleth": [
           {
            "colorbar": {
             "outlinewidth": 0,
             "ticks": ""
            },
            "type": "choropleth"
           }
          ],
          "contour": [
           {
            "colorbar": {
             "outlinewidth": 0,
             "ticks": ""
            },
            "colorscale": [
             [
              0,
              "#0d0887"
             ],
             [
              0.1111111111111111,
              "#46039f"
             ],
             [
              0.2222222222222222,
              "#7201a8"
             ],
             [
              0.3333333333333333,
              "#9c179e"
             ],
             [
              0.4444444444444444,
              "#bd3786"
             ],
             [
              0.5555555555555556,
              "#d8576b"
             ],
             [
              0.6666666666666666,
              "#ed7953"
             ],
             [
              0.7777777777777778,
              "#fb9f3a"
             ],
             [
              0.8888888888888888,
              "#fdca26"
             ],
             [
              1,
              "#f0f921"
             ]
            ],
            "type": "contour"
           }
          ],
          "contourcarpet": [
           {
            "colorbar": {
             "outlinewidth": 0,
             "ticks": ""
            },
            "type": "contourcarpet"
           }
          ],
          "heatmap": [
           {
            "colorbar": {
             "outlinewidth": 0,
             "ticks": ""
            },
            "colorscale": [
             [
              0,
              "#0d0887"
             ],
             [
              0.1111111111111111,
              "#46039f"
             ],
             [
              0.2222222222222222,
              "#7201a8"
             ],
             [
              0.3333333333333333,
              "#9c179e"
             ],
             [
              0.4444444444444444,
              "#bd3786"
             ],
             [
              0.5555555555555556,
              "#d8576b"
             ],
             [
              0.6666666666666666,
              "#ed7953"
             ],
             [
              0.7777777777777778,
              "#fb9f3a"
             ],
             [
              0.8888888888888888,
              "#fdca26"
             ],
             [
              1,
              "#f0f921"
             ]
            ],
            "type": "heatmap"
           }
          ],
          "heatmapgl": [
           {
            "colorbar": {
             "outlinewidth": 0,
             "ticks": ""
            },
            "colorscale": [
             [
              0,
              "#0d0887"
             ],
             [
              0.1111111111111111,
              "#46039f"
             ],
             [
              0.2222222222222222,
              "#7201a8"
             ],
             [
              0.3333333333333333,
              "#9c179e"
             ],
             [
              0.4444444444444444,
              "#bd3786"
             ],
             [
              0.5555555555555556,
              "#d8576b"
             ],
             [
              0.6666666666666666,
              "#ed7953"
             ],
             [
              0.7777777777777778,
              "#fb9f3a"
             ],
             [
              0.8888888888888888,
              "#fdca26"
             ],
             [
              1,
              "#f0f921"
             ]
            ],
            "type": "heatmapgl"
           }
          ],
          "histogram": [
           {
            "marker": {
             "pattern": {
              "fillmode": "overlay",
              "size": 10,
              "solidity": 0.2
             }
            },
            "type": "histogram"
           }
          ],
          "histogram2d": [
           {
            "colorbar": {
             "outlinewidth": 0,
             "ticks": ""
            },
            "colorscale": [
             [
              0,
              "#0d0887"
             ],
             [
              0.1111111111111111,
              "#46039f"
             ],
             [
              0.2222222222222222,
              "#7201a8"
             ],
             [
              0.3333333333333333,
              "#9c179e"
             ],
             [
              0.4444444444444444,
              "#bd3786"
             ],
             [
              0.5555555555555556,
              "#d8576b"
             ],
             [
              0.6666666666666666,
              "#ed7953"
             ],
             [
              0.7777777777777778,
              "#fb9f3a"
             ],
             [
              0.8888888888888888,
              "#fdca26"
             ],
             [
              1,
              "#f0f921"
             ]
            ],
            "type": "histogram2d"
           }
          ],
          "histogram2dcontour": [
           {
            "colorbar": {
             "outlinewidth": 0,
             "ticks": ""
            },
            "colorscale": [
             [
              0,
              "#0d0887"
             ],
             [
              0.1111111111111111,
              "#46039f"
             ],
             [
              0.2222222222222222,
              "#7201a8"
             ],
             [
              0.3333333333333333,
              "#9c179e"
             ],
             [
              0.4444444444444444,
              "#bd3786"
             ],
             [
              0.5555555555555556,
              "#d8576b"
             ],
             [
              0.6666666666666666,
              "#ed7953"
             ],
             [
              0.7777777777777778,
              "#fb9f3a"
             ],
             [
              0.8888888888888888,
              "#fdca26"
             ],
             [
              1,
              "#f0f921"
             ]
            ],
            "type": "histogram2dcontour"
           }
          ],
          "mesh3d": [
           {
            "colorbar": {
             "outlinewidth": 0,
             "ticks": ""
            },
            "type": "mesh3d"
           }
          ],
          "parcoords": [
           {
            "line": {
             "colorbar": {
              "outlinewidth": 0,
              "ticks": ""
             }
            },
            "type": "parcoords"
           }
          ],
          "pie": [
           {
            "automargin": true,
            "type": "pie"
           }
          ],
          "scatter": [
           {
            "marker": {
             "colorbar": {
              "outlinewidth": 0,
              "ticks": ""
             }
            },
            "type": "scatter"
           }
          ],
          "scatter3d": [
           {
            "line": {
             "colorbar": {
              "outlinewidth": 0,
              "ticks": ""
             }
            },
            "marker": {
             "colorbar": {
              "outlinewidth": 0,
              "ticks": ""
             }
            },
            "type": "scatter3d"
           }
          ],
          "scattercarpet": [
           {
            "marker": {
             "colorbar": {
              "outlinewidth": 0,
              "ticks": ""
             }
            },
            "type": "scattercarpet"
           }
          ],
          "scattergeo": [
           {
            "marker": {
             "colorbar": {
              "outlinewidth": 0,
              "ticks": ""
             }
            },
            "type": "scattergeo"
           }
          ],
          "scattergl": [
           {
            "marker": {
             "colorbar": {
              "outlinewidth": 0,
              "ticks": ""
             }
            },
            "type": "scattergl"
           }
          ],
          "scattermapbox": [
           {
            "marker": {
             "colorbar": {
              "outlinewidth": 0,
              "ticks": ""
             }
            },
            "type": "scattermapbox"
           }
          ],
          "scatterpolar": [
           {
            "marker": {
             "colorbar": {
              "outlinewidth": 0,
              "ticks": ""
             }
            },
            "type": "scatterpolar"
           }
          ],
          "scatterpolargl": [
           {
            "marker": {
             "colorbar": {
              "outlinewidth": 0,
              "ticks": ""
             }
            },
            "type": "scatterpolargl"
           }
          ],
          "scatterternary": [
           {
            "marker": {
             "colorbar": {
              "outlinewidth": 0,
              "ticks": ""
             }
            },
            "type": "scatterternary"
           }
          ],
          "surface": [
           {
            "colorbar": {
             "outlinewidth": 0,
             "ticks": ""
            },
            "colorscale": [
             [
              0,
              "#0d0887"
             ],
             [
              0.1111111111111111,
              "#46039f"
             ],
             [
              0.2222222222222222,
              "#7201a8"
             ],
             [
              0.3333333333333333,
              "#9c179e"
             ],
             [
              0.4444444444444444,
              "#bd3786"
             ],
             [
              0.5555555555555556,
              "#d8576b"
             ],
             [
              0.6666666666666666,
              "#ed7953"
             ],
             [
              0.7777777777777778,
              "#fb9f3a"
             ],
             [
              0.8888888888888888,
              "#fdca26"
             ],
             [
              1,
              "#f0f921"
             ]
            ],
            "type": "surface"
           }
          ],
          "table": [
           {
            "cells": {
             "fill": {
              "color": "#EBF0F8"
             },
             "line": {
              "color": "white"
             }
            },
            "header": {
             "fill": {
              "color": "#C8D4E3"
             },
             "line": {
              "color": "white"
             }
            },
            "type": "table"
           }
          ]
         },
         "layout": {
          "annotationdefaults": {
           "arrowcolor": "#2a3f5f",
           "arrowhead": 0,
           "arrowwidth": 1
          },
          "autotypenumbers": "strict",
          "coloraxis": {
           "colorbar": {
            "outlinewidth": 0,
            "ticks": ""
           }
          },
          "colorscale": {
           "diverging": [
            [
             0,
             "#8e0152"
            ],
            [
             0.1,
             "#c51b7d"
            ],
            [
             0.2,
             "#de77ae"
            ],
            [
             0.3,
             "#f1b6da"
            ],
            [
             0.4,
             "#fde0ef"
            ],
            [
             0.5,
             "#f7f7f7"
            ],
            [
             0.6,
             "#e6f5d0"
            ],
            [
             0.7,
             "#b8e186"
            ],
            [
             0.8,
             "#7fbc41"
            ],
            [
             0.9,
             "#4d9221"
            ],
            [
             1,
             "#276419"
            ]
           ],
           "sequential": [
            [
             0,
             "#0d0887"
            ],
            [
             0.1111111111111111,
             "#46039f"
            ],
            [
             0.2222222222222222,
             "#7201a8"
            ],
            [
             0.3333333333333333,
             "#9c179e"
            ],
            [
             0.4444444444444444,
             "#bd3786"
            ],
            [
             0.5555555555555556,
             "#d8576b"
            ],
            [
             0.6666666666666666,
             "#ed7953"
            ],
            [
             0.7777777777777778,
             "#fb9f3a"
            ],
            [
             0.8888888888888888,
             "#fdca26"
            ],
            [
             1,
             "#f0f921"
            ]
           ],
           "sequentialminus": [
            [
             0,
             "#0d0887"
            ],
            [
             0.1111111111111111,
             "#46039f"
            ],
            [
             0.2222222222222222,
             "#7201a8"
            ],
            [
             0.3333333333333333,
             "#9c179e"
            ],
            [
             0.4444444444444444,
             "#bd3786"
            ],
            [
             0.5555555555555556,
             "#d8576b"
            ],
            [
             0.6666666666666666,
             "#ed7953"
            ],
            [
             0.7777777777777778,
             "#fb9f3a"
            ],
            [
             0.8888888888888888,
             "#fdca26"
            ],
            [
             1,
             "#f0f921"
            ]
           ]
          },
          "colorway": [
           "#636efa",
           "#EF553B",
           "#00cc96",
           "#ab63fa",
           "#FFA15A",
           "#19d3f3",
           "#FF6692",
           "#B6E880",
           "#FF97FF",
           "#FECB52"
          ],
          "font": {
           "color": "#2a3f5f"
          },
          "geo": {
           "bgcolor": "white",
           "lakecolor": "white",
           "landcolor": "#E5ECF6",
           "showlakes": true,
           "showland": true,
           "subunitcolor": "white"
          },
          "hoverlabel": {
           "align": "left"
          },
          "hovermode": "closest",
          "mapbox": {
           "style": "light"
          },
          "paper_bgcolor": "white",
          "plot_bgcolor": "#E5ECF6",
          "polar": {
           "angularaxis": {
            "gridcolor": "white",
            "linecolor": "white",
            "ticks": ""
           },
           "bgcolor": "#E5ECF6",
           "radialaxis": {
            "gridcolor": "white",
            "linecolor": "white",
            "ticks": ""
           }
          },
          "scene": {
           "xaxis": {
            "backgroundcolor": "#E5ECF6",
            "gridcolor": "white",
            "gridwidth": 2,
            "linecolor": "white",
            "showbackground": true,
            "ticks": "",
            "zerolinecolor": "white"
           },
           "yaxis": {
            "backgroundcolor": "#E5ECF6",
            "gridcolor": "white",
            "gridwidth": 2,
            "linecolor": "white",
            "showbackground": true,
            "ticks": "",
            "zerolinecolor": "white"
           },
           "zaxis": {
            "backgroundcolor": "#E5ECF6",
            "gridcolor": "white",
            "gridwidth": 2,
            "linecolor": "white",
            "showbackground": true,
            "ticks": "",
            "zerolinecolor": "white"
           }
          },
          "shapedefaults": {
           "line": {
            "color": "#2a3f5f"
           }
          },
          "ternary": {
           "aaxis": {
            "gridcolor": "white",
            "linecolor": "white",
            "ticks": ""
           },
           "baxis": {
            "gridcolor": "white",
            "linecolor": "white",
            "ticks": ""
           },
           "bgcolor": "#E5ECF6",
           "caxis": {
            "gridcolor": "white",
            "linecolor": "white",
            "ticks": ""
           }
          },
          "title": {
           "x": 0.05
          },
          "xaxis": {
           "automargin": true,
           "gridcolor": "white",
           "linecolor": "white",
           "ticks": "",
           "title": {
            "standoff": 15
           },
           "zerolinecolor": "white",
           "zerolinewidth": 2
          },
          "yaxis": {
           "automargin": true,
           "gridcolor": "white",
           "linecolor": "white",
           "ticks": "",
           "title": {
            "standoff": 15
           },
           "zerolinecolor": "white",
           "zerolinewidth": 2
          }
         }
        }
       }
      },
      "text/html": [
       "<div>                            <div id=\"9cb11b3f-c997-4efa-8cc2-2f23f79b0845\" class=\"plotly-graph-div\" style=\"height:525px; width:100%;\"></div>            <script type=\"text/javascript\">                require([\"plotly\"], function(Plotly) {                    window.PLOTLYENV=window.PLOTLYENV || {};                                    if (document.getElementById(\"9cb11b3f-c997-4efa-8cc2-2f23f79b0845\")) {                    Plotly.newPlot(                        \"9cb11b3f-c997-4efa-8cc2-2f23f79b0845\",                        [{\"x\":[2700000,1850000,3025000,2350000,2200000,1930000,2604000,2967000,2482000,1805000,2630000,2700000,2765000,2275000,1100000,2000000,2535000,2280000,1490000,2498000,2300000,2275000,1310000,1510000,2650000,2560000,2489000,2075000,4000000,2680000,2100000,2720000,2600000,2000000,2300000,1851000,1805000,1650000,1300000,3060000,2400000,2010000,2960000,2050000,4500000,2900000,2750000,2300000,2450000,1700000,1870000,2612888,1710000],\"type\":\"histogram\",\"opacity\":0.75},{\"x\":[1500000,1637000,1307000,1625000,2010000,960000,1660000,1545000,1835000,1590000,970000,1850000,1802000,835000,1805000,1480000,1280000,1550000,2003000,1830000,1312500,1665000],\"type\":\"histogram\",\"opacity\":0.75}],                        {\"template\":{\"data\":{\"bar\":[{\"error_x\":{\"color\":\"#2a3f5f\"},\"error_y\":{\"color\":\"#2a3f5f\"},\"marker\":{\"line\":{\"color\":\"#E5ECF6\",\"width\":0.5},\"pattern\":{\"fillmode\":\"overlay\",\"size\":10,\"solidity\":0.2}},\"type\":\"bar\"}],\"barpolar\":[{\"marker\":{\"line\":{\"color\":\"#E5ECF6\",\"width\":0.5},\"pattern\":{\"fillmode\":\"overlay\",\"size\":10,\"solidity\":0.2}},\"type\":\"barpolar\"}],\"carpet\":[{\"aaxis\":{\"endlinecolor\":\"#2a3f5f\",\"gridcolor\":\"white\",\"linecolor\":\"white\",\"minorgridcolor\":\"white\",\"startlinecolor\":\"#2a3f5f\"},\"baxis\":{\"endlinecolor\":\"#2a3f5f\",\"gridcolor\":\"white\",\"linecolor\":\"white\",\"minorgridcolor\":\"white\",\"startlinecolor\":\"#2a3f5f\"},\"type\":\"carpet\"}],\"choropleth\":[{\"colorbar\":{\"outlinewidth\":0,\"ticks\":\"\"},\"type\":\"choropleth\"}],\"contour\":[{\"colorbar\":{\"outlinewidth\":0,\"ticks\":\"\"},\"colorscale\":[[0.0,\"#0d0887\"],[0.1111111111111111,\"#46039f\"],[0.2222222222222222,\"#7201a8\"],[0.3333333333333333,\"#9c179e\"],[0.4444444444444444,\"#bd3786\"],[0.5555555555555556,\"#d8576b\"],[0.6666666666666666,\"#ed7953\"],[0.7777777777777778,\"#fb9f3a\"],[0.8888888888888888,\"#fdca26\"],[1.0,\"#f0f921\"]],\"type\":\"contour\"}],\"contourcarpet\":[{\"colorbar\":{\"outlinewidth\":0,\"ticks\":\"\"},\"type\":\"contourcarpet\"}],\"heatmap\":[{\"colorbar\":{\"outlinewidth\":0,\"ticks\":\"\"},\"colorscale\":[[0.0,\"#0d0887\"],[0.1111111111111111,\"#46039f\"],[0.2222222222222222,\"#7201a8\"],[0.3333333333333333,\"#9c179e\"],[0.4444444444444444,\"#bd3786\"],[0.5555555555555556,\"#d8576b\"],[0.6666666666666666,\"#ed7953\"],[0.7777777777777778,\"#fb9f3a\"],[0.8888888888888888,\"#fdca26\"],[1.0,\"#f0f921\"]],\"type\":\"heatmap\"}],\"heatmapgl\":[{\"colorbar\":{\"outlinewidth\":0,\"ticks\":\"\"},\"colorscale\":[[0.0,\"#0d0887\"],[0.1111111111111111,\"#46039f\"],[0.2222222222222222,\"#7201a8\"],[0.3333333333333333,\"#9c179e\"],[0.4444444444444444,\"#bd3786\"],[0.5555555555555556,\"#d8576b\"],[0.6666666666666666,\"#ed7953\"],[0.7777777777777778,\"#fb9f3a\"],[0.8888888888888888,\"#fdca26\"],[1.0,\"#f0f921\"]],\"type\":\"heatmapgl\"}],\"histogram\":[{\"marker\":{\"pattern\":{\"fillmode\":\"overlay\",\"size\":10,\"solidity\":0.2}},\"type\":\"histogram\"}],\"histogram2d\":[{\"colorbar\":{\"outlinewidth\":0,\"ticks\":\"\"},\"colorscale\":[[0.0,\"#0d0887\"],[0.1111111111111111,\"#46039f\"],[0.2222222222222222,\"#7201a8\"],[0.3333333333333333,\"#9c179e\"],[0.4444444444444444,\"#bd3786\"],[0.5555555555555556,\"#d8576b\"],[0.6666666666666666,\"#ed7953\"],[0.7777777777777778,\"#fb9f3a\"],[0.8888888888888888,\"#fdca26\"],[1.0,\"#f0f921\"]],\"type\":\"histogram2d\"}],\"histogram2dcontour\":[{\"colorbar\":{\"outlinewidth\":0,\"ticks\":\"\"},\"colorscale\":[[0.0,\"#0d0887\"],[0.1111111111111111,\"#46039f\"],[0.2222222222222222,\"#7201a8\"],[0.3333333333333333,\"#9c179e\"],[0.4444444444444444,\"#bd3786\"],[0.5555555555555556,\"#d8576b\"],[0.6666666666666666,\"#ed7953\"],[0.7777777777777778,\"#fb9f3a\"],[0.8888888888888888,\"#fdca26\"],[1.0,\"#f0f921\"]],\"type\":\"histogram2dcontour\"}],\"mesh3d\":[{\"colorbar\":{\"outlinewidth\":0,\"ticks\":\"\"},\"type\":\"mesh3d\"}],\"parcoords\":[{\"line\":{\"colorbar\":{\"outlinewidth\":0,\"ticks\":\"\"}},\"type\":\"parcoords\"}],\"pie\":[{\"automargin\":true,\"type\":\"pie\"}],\"scatter\":[{\"marker\":{\"colorbar\":{\"outlinewidth\":0,\"ticks\":\"\"}},\"type\":\"scatter\"}],\"scatter3d\":[{\"line\":{\"colorbar\":{\"outlinewidth\":0,\"ticks\":\"\"}},\"marker\":{\"colorbar\":{\"outlinewidth\":0,\"ticks\":\"\"}},\"type\":\"scatter3d\"}],\"scattercarpet\":[{\"marker\":{\"colorbar\":{\"outlinewidth\":0,\"ticks\":\"\"}},\"type\":\"scattercarpet\"}],\"scattergeo\":[{\"marker\":{\"colorbar\":{\"outlinewidth\":0,\"ticks\":\"\"}},\"type\":\"scattergeo\"}],\"scattergl\":[{\"marker\":{\"colorbar\":{\"outlinewidth\":0,\"ticks\":\"\"}},\"type\":\"scattergl\"}],\"scattermapbox\":[{\"marker\":{\"colorbar\":{\"outlinewidth\":0,\"ticks\":\"\"}},\"type\":\"scattermapbox\"}],\"scatterpolar\":[{\"marker\":{\"colorbar\":{\"outlinewidth\":0,\"ticks\":\"\"}},\"type\":\"scatterpolar\"}],\"scatterpolargl\":[{\"marker\":{\"colorbar\":{\"outlinewidth\":0,\"ticks\":\"\"}},\"type\":\"scatterpolargl\"}],\"scatterternary\":[{\"marker\":{\"colorbar\":{\"outlinewidth\":0,\"ticks\":\"\"}},\"type\":\"scatterternary\"}],\"surface\":[{\"colorbar\":{\"outlinewidth\":0,\"ticks\":\"\"},\"colorscale\":[[0.0,\"#0d0887\"],[0.1111111111111111,\"#46039f\"],[0.2222222222222222,\"#7201a8\"],[0.3333333333333333,\"#9c179e\"],[0.4444444444444444,\"#bd3786\"],[0.5555555555555556,\"#d8576b\"],[0.6666666666666666,\"#ed7953\"],[0.7777777777777778,\"#fb9f3a\"],[0.8888888888888888,\"#fdca26\"],[1.0,\"#f0f921\"]],\"type\":\"surface\"}],\"table\":[{\"cells\":{\"fill\":{\"color\":\"#EBF0F8\"},\"line\":{\"color\":\"white\"}},\"header\":{\"fill\":{\"color\":\"#C8D4E3\"},\"line\":{\"color\":\"white\"}},\"type\":\"table\"}]},\"layout\":{\"annotationdefaults\":{\"arrowcolor\":\"#2a3f5f\",\"arrowhead\":0,\"arrowwidth\":1},\"autotypenumbers\":\"strict\",\"coloraxis\":{\"colorbar\":{\"outlinewidth\":0,\"ticks\":\"\"}},\"colorscale\":{\"diverging\":[[0,\"#8e0152\"],[0.1,\"#c51b7d\"],[0.2,\"#de77ae\"],[0.3,\"#f1b6da\"],[0.4,\"#fde0ef\"],[0.5,\"#f7f7f7\"],[0.6,\"#e6f5d0\"],[0.7,\"#b8e186\"],[0.8,\"#7fbc41\"],[0.9,\"#4d9221\"],[1,\"#276419\"]],\"sequential\":[[0.0,\"#0d0887\"],[0.1111111111111111,\"#46039f\"],[0.2222222222222222,\"#7201a8\"],[0.3333333333333333,\"#9c179e\"],[0.4444444444444444,\"#bd3786\"],[0.5555555555555556,\"#d8576b\"],[0.6666666666666666,\"#ed7953\"],[0.7777777777777778,\"#fb9f3a\"],[0.8888888888888888,\"#fdca26\"],[1.0,\"#f0f921\"]],\"sequentialminus\":[[0.0,\"#0d0887\"],[0.1111111111111111,\"#46039f\"],[0.2222222222222222,\"#7201a8\"],[0.3333333333333333,\"#9c179e\"],[0.4444444444444444,\"#bd3786\"],[0.5555555555555556,\"#d8576b\"],[0.6666666666666666,\"#ed7953\"],[0.7777777777777778,\"#fb9f3a\"],[0.8888888888888888,\"#fdca26\"],[1.0,\"#f0f921\"]]},\"colorway\":[\"#636efa\",\"#EF553B\",\"#00cc96\",\"#ab63fa\",\"#FFA15A\",\"#19d3f3\",\"#FF6692\",\"#B6E880\",\"#FF97FF\",\"#FECB52\"],\"font\":{\"color\":\"#2a3f5f\"},\"geo\":{\"bgcolor\":\"white\",\"lakecolor\":\"white\",\"landcolor\":\"#E5ECF6\",\"showlakes\":true,\"showland\":true,\"subunitcolor\":\"white\"},\"hoverlabel\":{\"align\":\"left\"},\"hovermode\":\"closest\",\"mapbox\":{\"style\":\"light\"},\"paper_bgcolor\":\"white\",\"plot_bgcolor\":\"#E5ECF6\",\"polar\":{\"angularaxis\":{\"gridcolor\":\"white\",\"linecolor\":\"white\",\"ticks\":\"\"},\"bgcolor\":\"#E5ECF6\",\"radialaxis\":{\"gridcolor\":\"white\",\"linecolor\":\"white\",\"ticks\":\"\"}},\"scene\":{\"xaxis\":{\"backgroundcolor\":\"#E5ECF6\",\"gridcolor\":\"white\",\"gridwidth\":2,\"linecolor\":\"white\",\"showbackground\":true,\"ticks\":\"\",\"zerolinecolor\":\"white\"},\"yaxis\":{\"backgroundcolor\":\"#E5ECF6\",\"gridcolor\":\"white\",\"gridwidth\":2,\"linecolor\":\"white\",\"showbackground\":true,\"ticks\":\"\",\"zerolinecolor\":\"white\"},\"zaxis\":{\"backgroundcolor\":\"#E5ECF6\",\"gridcolor\":\"white\",\"gridwidth\":2,\"linecolor\":\"white\",\"showbackground\":true,\"ticks\":\"\",\"zerolinecolor\":\"white\"}},\"shapedefaults\":{\"line\":{\"color\":\"#2a3f5f\"}},\"ternary\":{\"aaxis\":{\"gridcolor\":\"white\",\"linecolor\":\"white\",\"ticks\":\"\"},\"baxis\":{\"gridcolor\":\"white\",\"linecolor\":\"white\",\"ticks\":\"\"},\"bgcolor\":\"#E5ECF6\",\"caxis\":{\"gridcolor\":\"white\",\"linecolor\":\"white\",\"ticks\":\"\"}},\"title\":{\"x\":0.05},\"xaxis\":{\"automargin\":true,\"gridcolor\":\"white\",\"linecolor\":\"white\",\"ticks\":\"\",\"title\":{\"standoff\":15},\"zerolinecolor\":\"white\",\"zerolinewidth\":2},\"yaxis\":{\"automargin\":true,\"gridcolor\":\"white\",\"linecolor\":\"white\",\"ticks\":\"\",\"title\":{\"standoff\":15},\"zerolinecolor\":\"white\",\"zerolinewidth\":2}}},\"barmode\":\"overlay\"},                        {\"responsive\": true}                    ).then(function(){\n",
       "                            \n",
       "var gd = document.getElementById('9cb11b3f-c997-4efa-8cc2-2f23f79b0845');\n",
       "var x = new MutationObserver(function (mutations, observer) {{\n",
       "        var display = window.getComputedStyle(gd).display;\n",
       "        if (!display || display === 'none') {{\n",
       "            console.log([gd, 'removed!']);\n",
       "            Plotly.purge(gd);\n",
       "            observer.disconnect();\n",
       "        }}\n",
       "}});\n",
       "\n",
       "// Listen for the removal of the full notebook cells\n",
       "var notebookContainer = gd.closest('#notebook-container');\n",
       "if (notebookContainer) {{\n",
       "    x.observe(notebookContainer, {childList: true});\n",
       "}}\n",
       "\n",
       "// Listen for the clearing of the current output cell\n",
       "var outputEl = gd.closest('.output');\n",
       "if (outputEl) {{\n",
       "    x.observe(outputEl, {childList: true});\n",
       "}}\n",
       "\n",
       "                        })                };                });            </script>        </div>"
      ]
     },
     "metadata": {},
     "output_type": "display_data"
    }
   ],
   "source": [
    "fig = go.Figure()\n",
    "fig.add_trace(go.Histogram(x=epping))\n",
    "fig.add_trace(go.Histogram(x=northrocks))\n",
    "\n",
    "# Overlay both histograms\n",
    "fig.update_layout(barmode='overlay')\n",
    "# Reduce opacity to see both histograms\n",
    "fig.update_traces(opacity=0.75)\n",
    "fig.show()"
   ]
  },
  {
   "cell_type": "code",
   "execution_count": null,
   "id": "2109601d",
   "metadata": {},
   "outputs": [],
   "source": []
  },
  {
   "cell_type": "code",
   "execution_count": 46,
   "id": "ac831086",
   "metadata": {},
   "outputs": [
    {
     "data": {
      "application/vnd.plotly.v1+json": {
       "config": {
        "plotlyServerURL": "https://plot.ly"
       },
       "data": [
        {
         "alignmentgroup": "True",
         "bingroup": "x",
         "hovertemplate": "x=%{x}<br>count=%{y}<extra></extra>",
         "legendgroup": "",
         "marker": {
          "color": "#636efa",
          "pattern": {
           "shape": ""
          }
         },
         "name": "",
         "offsetgroup": "",
         "orientation": "v",
         "showlegend": false,
         "type": "histogram",
         "x": [
          4,
          3,
          4,
          5,
          6,
          3,
          4,
          3,
          4,
          4,
          3,
          6,
          4,
          2,
          3,
          6,
          3,
          3,
          4,
          3,
          3,
          4,
          null,
          5,
          4,
          2,
          4,
          3,
          3,
          2,
          3,
          8,
          3,
          3,
          4,
          3,
          4,
          3,
          4,
          3,
          4,
          4,
          3,
          3,
          4,
          4,
          3,
          4,
          3,
          3,
          3,
          3,
          1,
          4,
          3,
          5,
          3,
          3,
          4,
          3,
          5,
          3,
          5,
          3,
          3,
          3,
          3,
          3,
          3,
          3,
          3,
          4,
          4,
          3,
          2,
          4,
          3,
          5,
          3,
          5,
          3,
          3,
          3,
          4,
          4,
          6,
          4,
          2,
          3,
          4,
          3,
          3,
          3,
          2,
          4,
          4,
          6,
          3,
          4,
          6,
          3,
          4,
          3,
          3,
          3,
          4,
          4,
          3,
          4,
          3,
          3,
          5,
          2,
          3,
          4,
          3,
          4,
          3,
          5,
          4,
          3,
          3,
          6,
          4,
          4,
          5,
          5,
          3,
          4,
          4,
          3,
          5,
          3,
          3,
          4,
          3,
          3,
          4,
          3,
          null,
          3,
          3,
          3,
          3,
          4,
          3,
          3,
          2,
          4,
          4,
          3,
          4,
          5,
          4,
          3,
          4,
          3,
          5,
          3,
          3,
          4,
          3,
          3,
          3,
          3,
          4,
          5,
          3,
          4,
          3,
          3,
          3,
          3,
          3,
          3,
          3,
          4,
          3,
          3,
          4,
          3,
          3,
          3,
          4,
          3,
          3,
          3,
          5,
          2,
          4,
          3,
          3,
          4,
          4,
          4,
          3,
          4,
          3,
          5,
          4,
          3,
          4,
          3,
          3,
          4,
          3,
          4,
          3,
          3,
          3,
          3,
          3,
          3,
          4,
          3,
          3,
          4,
          3,
          3,
          3,
          3,
          4,
          3,
          3,
          3,
          5,
          3,
          4,
          4,
          5,
          4,
          4,
          3,
          3,
          3,
          5,
          4,
          3,
          3,
          3,
          4,
          4,
          3,
          2,
          3,
          5,
          3,
          2,
          3,
          3,
          4,
          3,
          4,
          3,
          4,
          3,
          3,
          3,
          4,
          4,
          2,
          3,
          3,
          3,
          3,
          3,
          3,
          4,
          3,
          3,
          3,
          4,
          2,
          3,
          4,
          4,
          3,
          3,
          3,
          3,
          3,
          4,
          5,
          4,
          3,
          4,
          4,
          3,
          4,
          3,
          5,
          5,
          4,
          4,
          3,
          4,
          3,
          3,
          4,
          3,
          4,
          3,
          3,
          6,
          3,
          4,
          4,
          2,
          5,
          3,
          4,
          3,
          5,
          3,
          4,
          4,
          4,
          5,
          4,
          5,
          4,
          3,
          3,
          3,
          4,
          3,
          4,
          3,
          4,
          5,
          4,
          4,
          3,
          4,
          3,
          3,
          4,
          4,
          3,
          3,
          4,
          4,
          4,
          3,
          4,
          4,
          4,
          3,
          4,
          3,
          4,
          3,
          3,
          4,
          3,
          4,
          3,
          3,
          4,
          4,
          4,
          2,
          2,
          3,
          2,
          3,
          5,
          3,
          4,
          3,
          4,
          4,
          4,
          2,
          5,
          3,
          3,
          5,
          3,
          4,
          7,
          3,
          4,
          3,
          5,
          2,
          4,
          3,
          4,
          4,
          3,
          4,
          3,
          4,
          5,
          4,
          3,
          4,
          3,
          4,
          3,
          4,
          4,
          3,
          4,
          4,
          3,
          2,
          3,
          4,
          4,
          3,
          4,
          4,
          3,
          4,
          5,
          3,
          5,
          4,
          4,
          3,
          5,
          3,
          3,
          5,
          3,
          2,
          4,
          4,
          3,
          4,
          3,
          3,
          2,
          3,
          4,
          3,
          3,
          3,
          3,
          3,
          3,
          3,
          4,
          4,
          5,
          4,
          3,
          2,
          2,
          4,
          3,
          4,
          4,
          3,
          4,
          4,
          4,
          4,
          5,
          4,
          4,
          7,
          4,
          3,
          5,
          3,
          4,
          3,
          8,
          3,
          5,
          4,
          4,
          4,
          4,
          4,
          3,
          3,
          3,
          5,
          4,
          3,
          4,
          4,
          4,
          4,
          3,
          4,
          3,
          3,
          3,
          3,
          4,
          4,
          5,
          3,
          4,
          5,
          3,
          4,
          3,
          4,
          3,
          3,
          4,
          3,
          4,
          3,
          3,
          4,
          4,
          4,
          3,
          7,
          4,
          3,
          3,
          3,
          4,
          2,
          1,
          4,
          3,
          3,
          2,
          3,
          3,
          3,
          3,
          4,
          3,
          3,
          3,
          3,
          4,
          3,
          3,
          4,
          5,
          3,
          5,
          3,
          4,
          4,
          4,
          5,
          4,
          3,
          4,
          6,
          4,
          4,
          3,
          3,
          3,
          4,
          4,
          5,
          4,
          2,
          5,
          4,
          3,
          4,
          5,
          3,
          5,
          3,
          3,
          2,
          4,
          5,
          3,
          3,
          3,
          3,
          5,
          3,
          1,
          3,
          4,
          3,
          3,
          3,
          3,
          3,
          4,
          3,
          4,
          5,
          3,
          3,
          4,
          5,
          4,
          5,
          5,
          3,
          7,
          3,
          3,
          5,
          3,
          3,
          3,
          3,
          3,
          3,
          3,
          3,
          2,
          6,
          3,
          2,
          4,
          3,
          3,
          4,
          2,
          2,
          3,
          3,
          3,
          3,
          4,
          3,
          4,
          3,
          4,
          3,
          3,
          4,
          4,
          4,
          2,
          5,
          2,
          3,
          4,
          5,
          4,
          3,
          4,
          3,
          3,
          4,
          3,
          3,
          4,
          3,
          4,
          5,
          3,
          3,
          3,
          3
         ],
         "xaxis": "x",
         "yaxis": "y"
        }
       ],
       "layout": {
        "barmode": "relative",
        "legend": {
         "tracegroupgap": 0
        },
        "margin": {
         "t": 60
        },
        "template": {
         "data": {
          "bar": [
           {
            "error_x": {
             "color": "#2a3f5f"
            },
            "error_y": {
             "color": "#2a3f5f"
            },
            "marker": {
             "line": {
              "color": "#E5ECF6",
              "width": 0.5
             },
             "pattern": {
              "fillmode": "overlay",
              "size": 10,
              "solidity": 0.2
             }
            },
            "type": "bar"
           }
          ],
          "barpolar": [
           {
            "marker": {
             "line": {
              "color": "#E5ECF6",
              "width": 0.5
             },
             "pattern": {
              "fillmode": "overlay",
              "size": 10,
              "solidity": 0.2
             }
            },
            "type": "barpolar"
           }
          ],
          "carpet": [
           {
            "aaxis": {
             "endlinecolor": "#2a3f5f",
             "gridcolor": "white",
             "linecolor": "white",
             "minorgridcolor": "white",
             "startlinecolor": "#2a3f5f"
            },
            "baxis": {
             "endlinecolor": "#2a3f5f",
             "gridcolor": "white",
             "linecolor": "white",
             "minorgridcolor": "white",
             "startlinecolor": "#2a3f5f"
            },
            "type": "carpet"
           }
          ],
          "choropleth": [
           {
            "colorbar": {
             "outlinewidth": 0,
             "ticks": ""
            },
            "type": "choropleth"
           }
          ],
          "contour": [
           {
            "colorbar": {
             "outlinewidth": 0,
             "ticks": ""
            },
            "colorscale": [
             [
              0,
              "#0d0887"
             ],
             [
              0.1111111111111111,
              "#46039f"
             ],
             [
              0.2222222222222222,
              "#7201a8"
             ],
             [
              0.3333333333333333,
              "#9c179e"
             ],
             [
              0.4444444444444444,
              "#bd3786"
             ],
             [
              0.5555555555555556,
              "#d8576b"
             ],
             [
              0.6666666666666666,
              "#ed7953"
             ],
             [
              0.7777777777777778,
              "#fb9f3a"
             ],
             [
              0.8888888888888888,
              "#fdca26"
             ],
             [
              1,
              "#f0f921"
             ]
            ],
            "type": "contour"
           }
          ],
          "contourcarpet": [
           {
            "colorbar": {
             "outlinewidth": 0,
             "ticks": ""
            },
            "type": "contourcarpet"
           }
          ],
          "heatmap": [
           {
            "colorbar": {
             "outlinewidth": 0,
             "ticks": ""
            },
            "colorscale": [
             [
              0,
              "#0d0887"
             ],
             [
              0.1111111111111111,
              "#46039f"
             ],
             [
              0.2222222222222222,
              "#7201a8"
             ],
             [
              0.3333333333333333,
              "#9c179e"
             ],
             [
              0.4444444444444444,
              "#bd3786"
             ],
             [
              0.5555555555555556,
              "#d8576b"
             ],
             [
              0.6666666666666666,
              "#ed7953"
             ],
             [
              0.7777777777777778,
              "#fb9f3a"
             ],
             [
              0.8888888888888888,
              "#fdca26"
             ],
             [
              1,
              "#f0f921"
             ]
            ],
            "type": "heatmap"
           }
          ],
          "heatmapgl": [
           {
            "colorbar": {
             "outlinewidth": 0,
             "ticks": ""
            },
            "colorscale": [
             [
              0,
              "#0d0887"
             ],
             [
              0.1111111111111111,
              "#46039f"
             ],
             [
              0.2222222222222222,
              "#7201a8"
             ],
             [
              0.3333333333333333,
              "#9c179e"
             ],
             [
              0.4444444444444444,
              "#bd3786"
             ],
             [
              0.5555555555555556,
              "#d8576b"
             ],
             [
              0.6666666666666666,
              "#ed7953"
             ],
             [
              0.7777777777777778,
              "#fb9f3a"
             ],
             [
              0.8888888888888888,
              "#fdca26"
             ],
             [
              1,
              "#f0f921"
             ]
            ],
            "type": "heatmapgl"
           }
          ],
          "histogram": [
           {
            "marker": {
             "pattern": {
              "fillmode": "overlay",
              "size": 10,
              "solidity": 0.2
             }
            },
            "type": "histogram"
           }
          ],
          "histogram2d": [
           {
            "colorbar": {
             "outlinewidth": 0,
             "ticks": ""
            },
            "colorscale": [
             [
              0,
              "#0d0887"
             ],
             [
              0.1111111111111111,
              "#46039f"
             ],
             [
              0.2222222222222222,
              "#7201a8"
             ],
             [
              0.3333333333333333,
              "#9c179e"
             ],
             [
              0.4444444444444444,
              "#bd3786"
             ],
             [
              0.5555555555555556,
              "#d8576b"
             ],
             [
              0.6666666666666666,
              "#ed7953"
             ],
             [
              0.7777777777777778,
              "#fb9f3a"
             ],
             [
              0.8888888888888888,
              "#fdca26"
             ],
             [
              1,
              "#f0f921"
             ]
            ],
            "type": "histogram2d"
           }
          ],
          "histogram2dcontour": [
           {
            "colorbar": {
             "outlinewidth": 0,
             "ticks": ""
            },
            "colorscale": [
             [
              0,
              "#0d0887"
             ],
             [
              0.1111111111111111,
              "#46039f"
             ],
             [
              0.2222222222222222,
              "#7201a8"
             ],
             [
              0.3333333333333333,
              "#9c179e"
             ],
             [
              0.4444444444444444,
              "#bd3786"
             ],
             [
              0.5555555555555556,
              "#d8576b"
             ],
             [
              0.6666666666666666,
              "#ed7953"
             ],
             [
              0.7777777777777778,
              "#fb9f3a"
             ],
             [
              0.8888888888888888,
              "#fdca26"
             ],
             [
              1,
              "#f0f921"
             ]
            ],
            "type": "histogram2dcontour"
           }
          ],
          "mesh3d": [
           {
            "colorbar": {
             "outlinewidth": 0,
             "ticks": ""
            },
            "type": "mesh3d"
           }
          ],
          "parcoords": [
           {
            "line": {
             "colorbar": {
              "outlinewidth": 0,
              "ticks": ""
             }
            },
            "type": "parcoords"
           }
          ],
          "pie": [
           {
            "automargin": true,
            "type": "pie"
           }
          ],
          "scatter": [
           {
            "marker": {
             "colorbar": {
              "outlinewidth": 0,
              "ticks": ""
             }
            },
            "type": "scatter"
           }
          ],
          "scatter3d": [
           {
            "line": {
             "colorbar": {
              "outlinewidth": 0,
              "ticks": ""
             }
            },
            "marker": {
             "colorbar": {
              "outlinewidth": 0,
              "ticks": ""
             }
            },
            "type": "scatter3d"
           }
          ],
          "scattercarpet": [
           {
            "marker": {
             "colorbar": {
              "outlinewidth": 0,
              "ticks": ""
             }
            },
            "type": "scattercarpet"
           }
          ],
          "scattergeo": [
           {
            "marker": {
             "colorbar": {
              "outlinewidth": 0,
              "ticks": ""
             }
            },
            "type": "scattergeo"
           }
          ],
          "scattergl": [
           {
            "marker": {
             "colorbar": {
              "outlinewidth": 0,
              "ticks": ""
             }
            },
            "type": "scattergl"
           }
          ],
          "scattermapbox": [
           {
            "marker": {
             "colorbar": {
              "outlinewidth": 0,
              "ticks": ""
             }
            },
            "type": "scattermapbox"
           }
          ],
          "scatterpolar": [
           {
            "marker": {
             "colorbar": {
              "outlinewidth": 0,
              "ticks": ""
             }
            },
            "type": "scatterpolar"
           }
          ],
          "scatterpolargl": [
           {
            "marker": {
             "colorbar": {
              "outlinewidth": 0,
              "ticks": ""
             }
            },
            "type": "scatterpolargl"
           }
          ],
          "scatterternary": [
           {
            "marker": {
             "colorbar": {
              "outlinewidth": 0,
              "ticks": ""
             }
            },
            "type": "scatterternary"
           }
          ],
          "surface": [
           {
            "colorbar": {
             "outlinewidth": 0,
             "ticks": ""
            },
            "colorscale": [
             [
              0,
              "#0d0887"
             ],
             [
              0.1111111111111111,
              "#46039f"
             ],
             [
              0.2222222222222222,
              "#7201a8"
             ],
             [
              0.3333333333333333,
              "#9c179e"
             ],
             [
              0.4444444444444444,
              "#bd3786"
             ],
             [
              0.5555555555555556,
              "#d8576b"
             ],
             [
              0.6666666666666666,
              "#ed7953"
             ],
             [
              0.7777777777777778,
              "#fb9f3a"
             ],
             [
              0.8888888888888888,
              "#fdca26"
             ],
             [
              1,
              "#f0f921"
             ]
            ],
            "type": "surface"
           }
          ],
          "table": [
           {
            "cells": {
             "fill": {
              "color": "#EBF0F8"
             },
             "line": {
              "color": "white"
             }
            },
            "header": {
             "fill": {
              "color": "#C8D4E3"
             },
             "line": {
              "color": "white"
             }
            },
            "type": "table"
           }
          ]
         },
         "layout": {
          "annotationdefaults": {
           "arrowcolor": "#2a3f5f",
           "arrowhead": 0,
           "arrowwidth": 1
          },
          "autotypenumbers": "strict",
          "coloraxis": {
           "colorbar": {
            "outlinewidth": 0,
            "ticks": ""
           }
          },
          "colorscale": {
           "diverging": [
            [
             0,
             "#8e0152"
            ],
            [
             0.1,
             "#c51b7d"
            ],
            [
             0.2,
             "#de77ae"
            ],
            [
             0.3,
             "#f1b6da"
            ],
            [
             0.4,
             "#fde0ef"
            ],
            [
             0.5,
             "#f7f7f7"
            ],
            [
             0.6,
             "#e6f5d0"
            ],
            [
             0.7,
             "#b8e186"
            ],
            [
             0.8,
             "#7fbc41"
            ],
            [
             0.9,
             "#4d9221"
            ],
            [
             1,
             "#276419"
            ]
           ],
           "sequential": [
            [
             0,
             "#0d0887"
            ],
            [
             0.1111111111111111,
             "#46039f"
            ],
            [
             0.2222222222222222,
             "#7201a8"
            ],
            [
             0.3333333333333333,
             "#9c179e"
            ],
            [
             0.4444444444444444,
             "#bd3786"
            ],
            [
             0.5555555555555556,
             "#d8576b"
            ],
            [
             0.6666666666666666,
             "#ed7953"
            ],
            [
             0.7777777777777778,
             "#fb9f3a"
            ],
            [
             0.8888888888888888,
             "#fdca26"
            ],
            [
             1,
             "#f0f921"
            ]
           ],
           "sequentialminus": [
            [
             0,
             "#0d0887"
            ],
            [
             0.1111111111111111,
             "#46039f"
            ],
            [
             0.2222222222222222,
             "#7201a8"
            ],
            [
             0.3333333333333333,
             "#9c179e"
            ],
            [
             0.4444444444444444,
             "#bd3786"
            ],
            [
             0.5555555555555556,
             "#d8576b"
            ],
            [
             0.6666666666666666,
             "#ed7953"
            ],
            [
             0.7777777777777778,
             "#fb9f3a"
            ],
            [
             0.8888888888888888,
             "#fdca26"
            ],
            [
             1,
             "#f0f921"
            ]
           ]
          },
          "colorway": [
           "#636efa",
           "#EF553B",
           "#00cc96",
           "#ab63fa",
           "#FFA15A",
           "#19d3f3",
           "#FF6692",
           "#B6E880",
           "#FF97FF",
           "#FECB52"
          ],
          "font": {
           "color": "#2a3f5f"
          },
          "geo": {
           "bgcolor": "white",
           "lakecolor": "white",
           "landcolor": "#E5ECF6",
           "showlakes": true,
           "showland": true,
           "subunitcolor": "white"
          },
          "hoverlabel": {
           "align": "left"
          },
          "hovermode": "closest",
          "mapbox": {
           "style": "light"
          },
          "paper_bgcolor": "white",
          "plot_bgcolor": "#E5ECF6",
          "polar": {
           "angularaxis": {
            "gridcolor": "white",
            "linecolor": "white",
            "ticks": ""
           },
           "bgcolor": "#E5ECF6",
           "radialaxis": {
            "gridcolor": "white",
            "linecolor": "white",
            "ticks": ""
           }
          },
          "scene": {
           "xaxis": {
            "backgroundcolor": "#E5ECF6",
            "gridcolor": "white",
            "gridwidth": 2,
            "linecolor": "white",
            "showbackground": true,
            "ticks": "",
            "zerolinecolor": "white"
           },
           "yaxis": {
            "backgroundcolor": "#E5ECF6",
            "gridcolor": "white",
            "gridwidth": 2,
            "linecolor": "white",
            "showbackground": true,
            "ticks": "",
            "zerolinecolor": "white"
           },
           "zaxis": {
            "backgroundcolor": "#E5ECF6",
            "gridcolor": "white",
            "gridwidth": 2,
            "linecolor": "white",
            "showbackground": true,
            "ticks": "",
            "zerolinecolor": "white"
           }
          },
          "shapedefaults": {
           "line": {
            "color": "#2a3f5f"
           }
          },
          "ternary": {
           "aaxis": {
            "gridcolor": "white",
            "linecolor": "white",
            "ticks": ""
           },
           "baxis": {
            "gridcolor": "white",
            "linecolor": "white",
            "ticks": ""
           },
           "bgcolor": "#E5ECF6",
           "caxis": {
            "gridcolor": "white",
            "linecolor": "white",
            "ticks": ""
           }
          },
          "title": {
           "x": 0.05
          },
          "xaxis": {
           "automargin": true,
           "gridcolor": "white",
           "linecolor": "white",
           "ticks": "",
           "title": {
            "standoff": 15
           },
           "zerolinecolor": "white",
           "zerolinewidth": 2
          },
          "yaxis": {
           "automargin": true,
           "gridcolor": "white",
           "linecolor": "white",
           "ticks": "",
           "title": {
            "standoff": 15
           },
           "zerolinecolor": "white",
           "zerolinewidth": 2
          }
         }
        },
        "xaxis": {
         "anchor": "y",
         "domain": [
          0,
          1
         ],
         "title": {
          "text": "x"
         }
        },
        "yaxis": {
         "anchor": "x",
         "domain": [
          0,
          1
         ],
         "title": {
          "text": "count"
         }
        }
       }
      },
      "text/html": [
       "<div>                            <div id=\"17085fe3-fae6-48cf-9d21-97ff3dcff15c\" class=\"plotly-graph-div\" style=\"height:525px; width:100%;\"></div>            <script type=\"text/javascript\">                require([\"plotly\"], function(Plotly) {                    window.PLOTLYENV=window.PLOTLYENV || {};                                    if (document.getElementById(\"17085fe3-fae6-48cf-9d21-97ff3dcff15c\")) {                    Plotly.newPlot(                        \"17085fe3-fae6-48cf-9d21-97ff3dcff15c\",                        [{\"alignmentgroup\":\"True\",\"bingroup\":\"x\",\"hovertemplate\":\"x=%{x}<br>count=%{y}<extra></extra>\",\"legendgroup\":\"\",\"marker\":{\"color\":\"#636efa\",\"pattern\":{\"shape\":\"\"}},\"name\":\"\",\"offsetgroup\":\"\",\"orientation\":\"v\",\"showlegend\":false,\"x\":[4.0,3.0,4.0,5.0,6.0,3.0,4.0,3.0,4.0,4.0,3.0,6.0,4.0,2.0,3.0,6.0,3.0,3.0,4.0,3.0,3.0,4.0,null,5.0,4.0,2.0,4.0,3.0,3.0,2.0,3.0,8.0,3.0,3.0,4.0,3.0,4.0,3.0,4.0,3.0,4.0,4.0,3.0,3.0,4.0,4.0,3.0,4.0,3.0,3.0,3.0,3.0,1.0,4.0,3.0,5.0,3.0,3.0,4.0,3.0,5.0,3.0,5.0,3.0,3.0,3.0,3.0,3.0,3.0,3.0,3.0,4.0,4.0,3.0,2.0,4.0,3.0,5.0,3.0,5.0,3.0,3.0,3.0,4.0,4.0,6.0,4.0,2.0,3.0,4.0,3.0,3.0,3.0,2.0,4.0,4.0,6.0,3.0,4.0,6.0,3.0,4.0,3.0,3.0,3.0,4.0,4.0,3.0,4.0,3.0,3.0,5.0,2.0,3.0,4.0,3.0,4.0,3.0,5.0,4.0,3.0,3.0,6.0,4.0,4.0,5.0,5.0,3.0,4.0,4.0,3.0,5.0,3.0,3.0,4.0,3.0,3.0,4.0,3.0,null,3.0,3.0,3.0,3.0,4.0,3.0,3.0,2.0,4.0,4.0,3.0,4.0,5.0,4.0,3.0,4.0,3.0,5.0,3.0,3.0,4.0,3.0,3.0,3.0,3.0,4.0,5.0,3.0,4.0,3.0,3.0,3.0,3.0,3.0,3.0,3.0,4.0,3.0,3.0,4.0,3.0,3.0,3.0,4.0,3.0,3.0,3.0,5.0,2.0,4.0,3.0,3.0,4.0,4.0,4.0,3.0,4.0,3.0,5.0,4.0,3.0,4.0,3.0,3.0,4.0,3.0,4.0,3.0,3.0,3.0,3.0,3.0,3.0,4.0,3.0,3.0,4.0,3.0,3.0,3.0,3.0,4.0,3.0,3.0,3.0,5.0,3.0,4.0,4.0,5.0,4.0,4.0,3.0,3.0,3.0,5.0,4.0,3.0,3.0,3.0,4.0,4.0,3.0,2.0,3.0,5.0,3.0,2.0,3.0,3.0,4.0,3.0,4.0,3.0,4.0,3.0,3.0,3.0,4.0,4.0,2.0,3.0,3.0,3.0,3.0,3.0,3.0,4.0,3.0,3.0,3.0,4.0,2.0,3.0,4.0,4.0,3.0,3.0,3.0,3.0,3.0,4.0,5.0,4.0,3.0,4.0,4.0,3.0,4.0,3.0,5.0,5.0,4.0,4.0,3.0,4.0,3.0,3.0,4.0,3.0,4.0,3.0,3.0,6.0,3.0,4.0,4.0,2.0,5.0,3.0,4.0,3.0,5.0,3.0,4.0,4.0,4.0,5.0,4.0,5.0,4.0,3.0,3.0,3.0,4.0,3.0,4.0,3.0,4.0,5.0,4.0,4.0,3.0,4.0,3.0,3.0,4.0,4.0,3.0,3.0,4.0,4.0,4.0,3.0,4.0,4.0,4.0,3.0,4.0,3.0,4.0,3.0,3.0,4.0,3.0,4.0,3.0,3.0,4.0,4.0,4.0,2.0,2.0,3.0,2.0,3.0,5.0,3.0,4.0,3.0,4.0,4.0,4.0,2.0,5.0,3.0,3.0,5.0,3.0,4.0,7.0,3.0,4.0,3.0,5.0,2.0,4.0,3.0,4.0,4.0,3.0,4.0,3.0,4.0,5.0,4.0,3.0,4.0,3.0,4.0,3.0,4.0,4.0,3.0,4.0,4.0,3.0,2.0,3.0,4.0,4.0,3.0,4.0,4.0,3.0,4.0,5.0,3.0,5.0,4.0,4.0,3.0,5.0,3.0,3.0,5.0,3.0,2.0,4.0,4.0,3.0,4.0,3.0,3.0,2.0,3.0,4.0,3.0,3.0,3.0,3.0,3.0,3.0,3.0,4.0,4.0,5.0,4.0,3.0,2.0,2.0,4.0,3.0,4.0,4.0,3.0,4.0,4.0,4.0,4.0,5.0,4.0,4.0,7.0,4.0,3.0,5.0,3.0,4.0,3.0,8.0,3.0,5.0,4.0,4.0,4.0,4.0,4.0,3.0,3.0,3.0,5.0,4.0,3.0,4.0,4.0,4.0,4.0,3.0,4.0,3.0,3.0,3.0,3.0,4.0,4.0,5.0,3.0,4.0,5.0,3.0,4.0,3.0,4.0,3.0,3.0,4.0,3.0,4.0,3.0,3.0,4.0,4.0,4.0,3.0,7.0,4.0,3.0,3.0,3.0,4.0,2.0,1.0,4.0,3.0,3.0,2.0,3.0,3.0,3.0,3.0,4.0,3.0,3.0,3.0,3.0,4.0,3.0,3.0,4.0,5.0,3.0,5.0,3.0,4.0,4.0,4.0,5.0,4.0,3.0,4.0,6.0,4.0,4.0,3.0,3.0,3.0,4.0,4.0,5.0,4.0,2.0,5.0,4.0,3.0,4.0,5.0,3.0,5.0,3.0,3.0,2.0,4.0,5.0,3.0,3.0,3.0,3.0,5.0,3.0,1.0,3.0,4.0,3.0,3.0,3.0,3.0,3.0,4.0,3.0,4.0,5.0,3.0,3.0,4.0,5.0,4.0,5.0,5.0,3.0,7.0,3.0,3.0,5.0,3.0,3.0,3.0,3.0,3.0,3.0,3.0,3.0,2.0,6.0,3.0,2.0,4.0,3.0,3.0,4.0,2.0,2.0,3.0,3.0,3.0,3.0,4.0,3.0,4.0,3.0,4.0,3.0,3.0,4.0,4.0,4.0,2.0,5.0,2.0,3.0,4.0,5.0,4.0,3.0,4.0,3.0,3.0,4.0,3.0,3.0,4.0,3.0,4.0,5.0,3.0,3.0,3.0,3.0],\"xaxis\":\"x\",\"yaxis\":\"y\",\"type\":\"histogram\"}],                        {\"template\":{\"data\":{\"bar\":[{\"error_x\":{\"color\":\"#2a3f5f\"},\"error_y\":{\"color\":\"#2a3f5f\"},\"marker\":{\"line\":{\"color\":\"#E5ECF6\",\"width\":0.5},\"pattern\":{\"fillmode\":\"overlay\",\"size\":10,\"solidity\":0.2}},\"type\":\"bar\"}],\"barpolar\":[{\"marker\":{\"line\":{\"color\":\"#E5ECF6\",\"width\":0.5},\"pattern\":{\"fillmode\":\"overlay\",\"size\":10,\"solidity\":0.2}},\"type\":\"barpolar\"}],\"carpet\":[{\"aaxis\":{\"endlinecolor\":\"#2a3f5f\",\"gridcolor\":\"white\",\"linecolor\":\"white\",\"minorgridcolor\":\"white\",\"startlinecolor\":\"#2a3f5f\"},\"baxis\":{\"endlinecolor\":\"#2a3f5f\",\"gridcolor\":\"white\",\"linecolor\":\"white\",\"minorgridcolor\":\"white\",\"startlinecolor\":\"#2a3f5f\"},\"type\":\"carpet\"}],\"choropleth\":[{\"colorbar\":{\"outlinewidth\":0,\"ticks\":\"\"},\"type\":\"choropleth\"}],\"contour\":[{\"colorbar\":{\"outlinewidth\":0,\"ticks\":\"\"},\"colorscale\":[[0.0,\"#0d0887\"],[0.1111111111111111,\"#46039f\"],[0.2222222222222222,\"#7201a8\"],[0.3333333333333333,\"#9c179e\"],[0.4444444444444444,\"#bd3786\"],[0.5555555555555556,\"#d8576b\"],[0.6666666666666666,\"#ed7953\"],[0.7777777777777778,\"#fb9f3a\"],[0.8888888888888888,\"#fdca26\"],[1.0,\"#f0f921\"]],\"type\":\"contour\"}],\"contourcarpet\":[{\"colorbar\":{\"outlinewidth\":0,\"ticks\":\"\"},\"type\":\"contourcarpet\"}],\"heatmap\":[{\"colorbar\":{\"outlinewidth\":0,\"ticks\":\"\"},\"colorscale\":[[0.0,\"#0d0887\"],[0.1111111111111111,\"#46039f\"],[0.2222222222222222,\"#7201a8\"],[0.3333333333333333,\"#9c179e\"],[0.4444444444444444,\"#bd3786\"],[0.5555555555555556,\"#d8576b\"],[0.6666666666666666,\"#ed7953\"],[0.7777777777777778,\"#fb9f3a\"],[0.8888888888888888,\"#fdca26\"],[1.0,\"#f0f921\"]],\"type\":\"heatmap\"}],\"heatmapgl\":[{\"colorbar\":{\"outlinewidth\":0,\"ticks\":\"\"},\"colorscale\":[[0.0,\"#0d0887\"],[0.1111111111111111,\"#46039f\"],[0.2222222222222222,\"#7201a8\"],[0.3333333333333333,\"#9c179e\"],[0.4444444444444444,\"#bd3786\"],[0.5555555555555556,\"#d8576b\"],[0.6666666666666666,\"#ed7953\"],[0.7777777777777778,\"#fb9f3a\"],[0.8888888888888888,\"#fdca26\"],[1.0,\"#f0f921\"]],\"type\":\"heatmapgl\"}],\"histogram\":[{\"marker\":{\"pattern\":{\"fillmode\":\"overlay\",\"size\":10,\"solidity\":0.2}},\"type\":\"histogram\"}],\"histogram2d\":[{\"colorbar\":{\"outlinewidth\":0,\"ticks\":\"\"},\"colorscale\":[[0.0,\"#0d0887\"],[0.1111111111111111,\"#46039f\"],[0.2222222222222222,\"#7201a8\"],[0.3333333333333333,\"#9c179e\"],[0.4444444444444444,\"#bd3786\"],[0.5555555555555556,\"#d8576b\"],[0.6666666666666666,\"#ed7953\"],[0.7777777777777778,\"#fb9f3a\"],[0.8888888888888888,\"#fdca26\"],[1.0,\"#f0f921\"]],\"type\":\"histogram2d\"}],\"histogram2dcontour\":[{\"colorbar\":{\"outlinewidth\":0,\"ticks\":\"\"},\"colorscale\":[[0.0,\"#0d0887\"],[0.1111111111111111,\"#46039f\"],[0.2222222222222222,\"#7201a8\"],[0.3333333333333333,\"#9c179e\"],[0.4444444444444444,\"#bd3786\"],[0.5555555555555556,\"#d8576b\"],[0.6666666666666666,\"#ed7953\"],[0.7777777777777778,\"#fb9f3a\"],[0.8888888888888888,\"#fdca26\"],[1.0,\"#f0f921\"]],\"type\":\"histogram2dcontour\"}],\"mesh3d\":[{\"colorbar\":{\"outlinewidth\":0,\"ticks\":\"\"},\"type\":\"mesh3d\"}],\"parcoords\":[{\"line\":{\"colorbar\":{\"outlinewidth\":0,\"ticks\":\"\"}},\"type\":\"parcoords\"}],\"pie\":[{\"automargin\":true,\"type\":\"pie\"}],\"scatter\":[{\"marker\":{\"colorbar\":{\"outlinewidth\":0,\"ticks\":\"\"}},\"type\":\"scatter\"}],\"scatter3d\":[{\"line\":{\"colorbar\":{\"outlinewidth\":0,\"ticks\":\"\"}},\"marker\":{\"colorbar\":{\"outlinewidth\":0,\"ticks\":\"\"}},\"type\":\"scatter3d\"}],\"scattercarpet\":[{\"marker\":{\"colorbar\":{\"outlinewidth\":0,\"ticks\":\"\"}},\"type\":\"scattercarpet\"}],\"scattergeo\":[{\"marker\":{\"colorbar\":{\"outlinewidth\":0,\"ticks\":\"\"}},\"type\":\"scattergeo\"}],\"scattergl\":[{\"marker\":{\"colorbar\":{\"outlinewidth\":0,\"ticks\":\"\"}},\"type\":\"scattergl\"}],\"scattermapbox\":[{\"marker\":{\"colorbar\":{\"outlinewidth\":0,\"ticks\":\"\"}},\"type\":\"scattermapbox\"}],\"scatterpolar\":[{\"marker\":{\"colorbar\":{\"outlinewidth\":0,\"ticks\":\"\"}},\"type\":\"scatterpolar\"}],\"scatterpolargl\":[{\"marker\":{\"colorbar\":{\"outlinewidth\":0,\"ticks\":\"\"}},\"type\":\"scatterpolargl\"}],\"scatterternary\":[{\"marker\":{\"colorbar\":{\"outlinewidth\":0,\"ticks\":\"\"}},\"type\":\"scatterternary\"}],\"surface\":[{\"colorbar\":{\"outlinewidth\":0,\"ticks\":\"\"},\"colorscale\":[[0.0,\"#0d0887\"],[0.1111111111111111,\"#46039f\"],[0.2222222222222222,\"#7201a8\"],[0.3333333333333333,\"#9c179e\"],[0.4444444444444444,\"#bd3786\"],[0.5555555555555556,\"#d8576b\"],[0.6666666666666666,\"#ed7953\"],[0.7777777777777778,\"#fb9f3a\"],[0.8888888888888888,\"#fdca26\"],[1.0,\"#f0f921\"]],\"type\":\"surface\"}],\"table\":[{\"cells\":{\"fill\":{\"color\":\"#EBF0F8\"},\"line\":{\"color\":\"white\"}},\"header\":{\"fill\":{\"color\":\"#C8D4E3\"},\"line\":{\"color\":\"white\"}},\"type\":\"table\"}]},\"layout\":{\"annotationdefaults\":{\"arrowcolor\":\"#2a3f5f\",\"arrowhead\":0,\"arrowwidth\":1},\"autotypenumbers\":\"strict\",\"coloraxis\":{\"colorbar\":{\"outlinewidth\":0,\"ticks\":\"\"}},\"colorscale\":{\"diverging\":[[0,\"#8e0152\"],[0.1,\"#c51b7d\"],[0.2,\"#de77ae\"],[0.3,\"#f1b6da\"],[0.4,\"#fde0ef\"],[0.5,\"#f7f7f7\"],[0.6,\"#e6f5d0\"],[0.7,\"#b8e186\"],[0.8,\"#7fbc41\"],[0.9,\"#4d9221\"],[1,\"#276419\"]],\"sequential\":[[0.0,\"#0d0887\"],[0.1111111111111111,\"#46039f\"],[0.2222222222222222,\"#7201a8\"],[0.3333333333333333,\"#9c179e\"],[0.4444444444444444,\"#bd3786\"],[0.5555555555555556,\"#d8576b\"],[0.6666666666666666,\"#ed7953\"],[0.7777777777777778,\"#fb9f3a\"],[0.8888888888888888,\"#fdca26\"],[1.0,\"#f0f921\"]],\"sequentialminus\":[[0.0,\"#0d0887\"],[0.1111111111111111,\"#46039f\"],[0.2222222222222222,\"#7201a8\"],[0.3333333333333333,\"#9c179e\"],[0.4444444444444444,\"#bd3786\"],[0.5555555555555556,\"#d8576b\"],[0.6666666666666666,\"#ed7953\"],[0.7777777777777778,\"#fb9f3a\"],[0.8888888888888888,\"#fdca26\"],[1.0,\"#f0f921\"]]},\"colorway\":[\"#636efa\",\"#EF553B\",\"#00cc96\",\"#ab63fa\",\"#FFA15A\",\"#19d3f3\",\"#FF6692\",\"#B6E880\",\"#FF97FF\",\"#FECB52\"],\"font\":{\"color\":\"#2a3f5f\"},\"geo\":{\"bgcolor\":\"white\",\"lakecolor\":\"white\",\"landcolor\":\"#E5ECF6\",\"showlakes\":true,\"showland\":true,\"subunitcolor\":\"white\"},\"hoverlabel\":{\"align\":\"left\"},\"hovermode\":\"closest\",\"mapbox\":{\"style\":\"light\"},\"paper_bgcolor\":\"white\",\"plot_bgcolor\":\"#E5ECF6\",\"polar\":{\"angularaxis\":{\"gridcolor\":\"white\",\"linecolor\":\"white\",\"ticks\":\"\"},\"bgcolor\":\"#E5ECF6\",\"radialaxis\":{\"gridcolor\":\"white\",\"linecolor\":\"white\",\"ticks\":\"\"}},\"scene\":{\"xaxis\":{\"backgroundcolor\":\"#E5ECF6\",\"gridcolor\":\"white\",\"gridwidth\":2,\"linecolor\":\"white\",\"showbackground\":true,\"ticks\":\"\",\"zerolinecolor\":\"white\"},\"yaxis\":{\"backgroundcolor\":\"#E5ECF6\",\"gridcolor\":\"white\",\"gridwidth\":2,\"linecolor\":\"white\",\"showbackground\":true,\"ticks\":\"\",\"zerolinecolor\":\"white\"},\"zaxis\":{\"backgroundcolor\":\"#E5ECF6\",\"gridcolor\":\"white\",\"gridwidth\":2,\"linecolor\":\"white\",\"showbackground\":true,\"ticks\":\"\",\"zerolinecolor\":\"white\"}},\"shapedefaults\":{\"line\":{\"color\":\"#2a3f5f\"}},\"ternary\":{\"aaxis\":{\"gridcolor\":\"white\",\"linecolor\":\"white\",\"ticks\":\"\"},\"baxis\":{\"gridcolor\":\"white\",\"linecolor\":\"white\",\"ticks\":\"\"},\"bgcolor\":\"#E5ECF6\",\"caxis\":{\"gridcolor\":\"white\",\"linecolor\":\"white\",\"ticks\":\"\"}},\"title\":{\"x\":0.05},\"xaxis\":{\"automargin\":true,\"gridcolor\":\"white\",\"linecolor\":\"white\",\"ticks\":\"\",\"title\":{\"standoff\":15},\"zerolinecolor\":\"white\",\"zerolinewidth\":2},\"yaxis\":{\"automargin\":true,\"gridcolor\":\"white\",\"linecolor\":\"white\",\"ticks\":\"\",\"title\":{\"standoff\":15},\"zerolinecolor\":\"white\",\"zerolinewidth\":2}}},\"xaxis\":{\"anchor\":\"y\",\"domain\":[0.0,1.0],\"title\":{\"text\":\"x\"}},\"yaxis\":{\"anchor\":\"x\",\"domain\":[0.0,1.0],\"title\":{\"text\":\"count\"}},\"legend\":{\"tracegroupgap\":0},\"margin\":{\"t\":60},\"barmode\":\"relative\"},                        {\"responsive\": true}                    ).then(function(){\n",
       "                            \n",
       "var gd = document.getElementById('17085fe3-fae6-48cf-9d21-97ff3dcff15c');\n",
       "var x = new MutationObserver(function (mutations, observer) {{\n",
       "        var display = window.getComputedStyle(gd).display;\n",
       "        if (!display || display === 'none') {{\n",
       "            console.log([gd, 'removed!']);\n",
       "            Plotly.purge(gd);\n",
       "            observer.disconnect();\n",
       "        }}\n",
       "}});\n",
       "\n",
       "// Listen for the removal of the full notebook cells\n",
       "var notebookContainer = gd.closest('#notebook-container');\n",
       "if (notebookContainer) {{\n",
       "    x.observe(notebookContainer, {childList: true});\n",
       "}}\n",
       "\n",
       "// Listen for the clearing of the current output cell\n",
       "var outputEl = gd.closest('.output');\n",
       "if (outputEl) {{\n",
       "    x.observe(outputEl, {childList: true});\n",
       "}}\n",
       "\n",
       "                        })                };                });            </script>        </div>"
      ]
     },
     "metadata": {},
     "output_type": "display_data"
    }
   ],
   "source": [
    "#price = df[\"bedrooms\"].values\n",
    "# Histograms\n",
    "bedrooms = px.histogram(\n",
    "    x=df[\"bedrooms\"],\n",
    ")\n",
    "\n",
    "bedrooms.show()"
   ]
  },
  {
   "cell_type": "code",
   "execution_count": 79,
   "id": "dc9bbd4a",
   "metadata": {},
   "outputs": [
    {
     "data": {
      "application/vnd.plotly.v1+json": {
       "config": {
        "plotlyServerURL": "https://plot.ly"
       },
       "data": [
        {
         "alignmentgroup": "True",
         "bingroup": "x",
         "hovertemplate": "x=%{x}<br>count=%{y}<extra></extra>",
         "legendgroup": "",
         "marker": {
          "color": "#636efa",
          "pattern": {
           "shape": ""
          }
         },
         "name": "",
         "offsetgroup": "",
         "orientation": "v",
         "showlegend": false,
         "type": "histogram",
         "x": [
          1087.6,
          -1,
          715,
          721,
          -1,
          294,
          901.3,
          831,
          696,
          695.6,
          -1,
          -1,
          696,
          -1,
          696,
          325,
          739.5,
          -1,
          696,
          695,
          356,
          818,
          720,
          -1,
          -1,
          -1,
          708,
          695.6,
          -1,
          -1,
          -1,
          -1,
          696,
          695,
          797,
          -1,
          957,
          -1,
          695,
          -1,
          696,
          815,
          1296,
          708,
          695,
          721,
          242,
          -1,
          1676,
          1012,
          917,
          708,
          -1,
          717,
          768,
          789,
          -1,
          -1,
          885,
          -1,
          696,
          695,
          898,
          696,
          696,
          695,
          752,
          739,
          828.3,
          -1,
          -1,
          696,
          -1,
          1296,
          -1,
          1100,
          -1,
          706,
          765,
          695,
          -1,
          -1,
          -1,
          978,
          709,
          1393,
          753,
          834,
          695,
          695,
          715,
          697,
          -1,
          -1,
          -1,
          753,
          701,
          696,
          696,
          739.8,
          776.5,
          1309,
          -1,
          1384,
          708,
          767,
          695,
          -1,
          -1,
          -1,
          814,
          695.6,
          -1,
          -1,
          1082,
          696,
          900,
          695,
          900,
          695,
          -1,
          -1,
          787.1,
          -1,
          -1,
          714,
          -1,
          -1,
          -1,
          708,
          739.8,
          695.6,
          788,
          -1,
          783,
          -1,
          -1,
          695.6,
          -1,
          -1,
          -1,
          822,
          -1,
          904,
          746,
          -1,
          -1,
          708.2,
          847.3,
          936.2,
          -1,
          695.6,
          712,
          -1,
          720,
          695,
          -1,
          702.9,
          -1,
          1456.4,
          700,
          -1,
          889,
          -1,
          702,
          701.9,
          843,
          -1,
          695,
          -1,
          766,
          -1,
          739,
          -1,
          -1,
          733,
          696,
          769,
          820.3,
          707,
          766,
          733.5,
          695,
          695.6,
          727.2,
          -1,
          752,
          696,
          -1,
          -1,
          701,
          714,
          758,
          700,
          752,
          824,
          1048,
          -1,
          789,
          695,
          841,
          721,
          1296,
          701.9,
          695,
          -1,
          695.6,
          -1,
          -1,
          -1,
          -1,
          702,
          -1,
          -1,
          -1,
          695,
          1177,
          696,
          670,
          696,
          -1,
          787,
          767,
          1170,
          -1,
          1037,
          -1,
          875,
          900,
          891,
          717,
          847,
          404,
          873,
          -1,
          797,
          695,
          -1,
          696,
          -1,
          715,
          703,
          769,
          -1,
          696,
          -1,
          -1,
          858,
          -1,
          -1,
          696,
          -1,
          695,
          -1,
          695,
          -1,
          701,
          -1,
          696,
          765,
          727,
          701,
          -1,
          714,
          -1,
          695,
          789,
          950,
          -1,
          752,
          -1,
          695,
          708,
          696,
          806,
          695,
          253,
          695,
          -1,
          702,
          695.6,
          -1,
          739,
          696,
          695.6,
          720,
          720,
          710,
          904,
          900,
          -1,
          746,
          784,
          -1,
          -1,
          697,
          -1,
          -1,
          1170,
          695,
          772,
          695.6,
          695,
          -1,
          696,
          734,
          -1,
          734,
          720,
          695,
          -1,
          -1,
          1004,
          865,
          1303,
          708,
          734,
          695.6,
          815,
          714,
          910,
          -1,
          767,
          -1,
          695,
          -1,
          738,
          -1,
          784,
          -1,
          -1,
          698,
          729.2,
          696,
          -1,
          -1,
          776,
          -1,
          696,
          696,
          696,
          765,
          696,
          -1,
          710,
          830,
          696,
          900,
          776,
          -1,
          701.9,
          -1,
          1081,
          714,
          696,
          888,
          734,
          766.6,
          715,
          891.6,
          901,
          727,
          735.8,
          766.4,
          695,
          -1,
          714.5,
          695,
          695,
          -1,
          696,
          -1,
          752,
          727,
          822,
          695.6,
          -1,
          -1,
          231,
          -1,
          1349,
          695,
          708,
          701,
          787,
          1005,
          695,
          543,
          695.6,
          695.6,
          708,
          721,
          -1,
          1296,
          752,
          701,
          -1,
          721,
          696,
          1393,
          696,
          708,
          -1,
          721,
          695,
          519.1,
          -1,
          -1,
          -1,
          770,
          917,
          -1,
          902,
          696,
          -1,
          -1,
          746,
          -1,
          -1,
          440,
          727,
          695,
          911,
          202,
          -1,
          -1,
          696,
          163,
          900,
          -1,
          767,
          695,
          690,
          -1,
          -1,
          -1,
          700,
          -1,
          695,
          766,
          714,
          766,
          -1,
          708.2,
          -1,
          -1,
          922,
          -1,
          695,
          796,
          714,
          695,
          -1,
          -1,
          -1,
          999,
          956.9,
          -1,
          -1,
          708,
          901.3,
          -1,
          753,
          -1,
          695,
          720,
          695.6,
          -1,
          771,
          218,
          -1,
          695,
          1018,
          -1,
          -1,
          771,
          961.1,
          -1,
          -1,
          738,
          853.6,
          769,
          -1,
          -1,
          901,
          746.1,
          904.2,
          -1,
          -1,
          1182,
          714,
          1012,
          -1,
          798,
          -1,
          872.6,
          695.6,
          -1,
          -1,
          -1,
          -1,
          696,
          -1,
          741,
          -1,
          708,
          696,
          769,
          696,
          769,
          -1,
          -1,
          739.8,
          -1,
          733,
          -1,
          739,
          -1,
          -1,
          695,
          955,
          326,
          -1,
          771.4,
          866,
          -1,
          -1,
          -1,
          -1,
          -1,
          -1,
          -1,
          550,
          -1,
          816,
          -1,
          733,
          -1,
          -1,
          828,
          -1,
          -1,
          708,
          420,
          696,
          -1,
          -1,
          777,
          765,
          767,
          -1,
          -1,
          948,
          725,
          -1,
          -1,
          700,
          -1,
          746,
          -1,
          -1,
          -1,
          740,
          714,
          733,
          -1,
          -1,
          -1,
          -1,
          696,
          -1,
          -1,
          -1,
          695,
          -1,
          -1,
          854,
          1170,
          -1,
          746,
          1486,
          900,
          -1,
          -1,
          -1,
          -1,
          -1,
          -1,
          -1,
          696,
          695,
          1021,
          708,
          -1,
          1385,
          -1,
          843,
          -1,
          894,
          720,
          696,
          695.5,
          -1,
          -1,
          199,
          -1,
          769,
          696,
          -1,
          -1,
          695.6,
          -1,
          32,
          828,
          -1,
          -1,
          904,
          -1,
          -1,
          708,
          -1,
          727,
          701.9,
          -1,
          696,
          752.5,
          695,
          696,
          695.6,
          745,
          -1,
          757,
          970,
          854,
          900,
          -1,
          189,
          706.7,
          187,
          -1,
          -1,
          701,
          923,
          696,
          -1,
          1842,
          -1,
          708,
          828,
          739,
          -1,
          -1,
          -1,
          695.6,
          -1,
          695,
          269,
          696
         ],
         "xaxis": "x",
         "yaxis": "y"
        }
       ],
       "layout": {
        "barmode": "relative",
        "legend": {
         "tracegroupgap": 0
        },
        "margin": {
         "t": 60
        },
        "template": {
         "data": {
          "bar": [
           {
            "error_x": {
             "color": "#2a3f5f"
            },
            "error_y": {
             "color": "#2a3f5f"
            },
            "marker": {
             "line": {
              "color": "#E5ECF6",
              "width": 0.5
             },
             "pattern": {
              "fillmode": "overlay",
              "size": 10,
              "solidity": 0.2
             }
            },
            "type": "bar"
           }
          ],
          "barpolar": [
           {
            "marker": {
             "line": {
              "color": "#E5ECF6",
              "width": 0.5
             },
             "pattern": {
              "fillmode": "overlay",
              "size": 10,
              "solidity": 0.2
             }
            },
            "type": "barpolar"
           }
          ],
          "carpet": [
           {
            "aaxis": {
             "endlinecolor": "#2a3f5f",
             "gridcolor": "white",
             "linecolor": "white",
             "minorgridcolor": "white",
             "startlinecolor": "#2a3f5f"
            },
            "baxis": {
             "endlinecolor": "#2a3f5f",
             "gridcolor": "white",
             "linecolor": "white",
             "minorgridcolor": "white",
             "startlinecolor": "#2a3f5f"
            },
            "type": "carpet"
           }
          ],
          "choropleth": [
           {
            "colorbar": {
             "outlinewidth": 0,
             "ticks": ""
            },
            "type": "choropleth"
           }
          ],
          "contour": [
           {
            "colorbar": {
             "outlinewidth": 0,
             "ticks": ""
            },
            "colorscale": [
             [
              0,
              "#0d0887"
             ],
             [
              0.1111111111111111,
              "#46039f"
             ],
             [
              0.2222222222222222,
              "#7201a8"
             ],
             [
              0.3333333333333333,
              "#9c179e"
             ],
             [
              0.4444444444444444,
              "#bd3786"
             ],
             [
              0.5555555555555556,
              "#d8576b"
             ],
             [
              0.6666666666666666,
              "#ed7953"
             ],
             [
              0.7777777777777778,
              "#fb9f3a"
             ],
             [
              0.8888888888888888,
              "#fdca26"
             ],
             [
              1,
              "#f0f921"
             ]
            ],
            "type": "contour"
           }
          ],
          "contourcarpet": [
           {
            "colorbar": {
             "outlinewidth": 0,
             "ticks": ""
            },
            "type": "contourcarpet"
           }
          ],
          "heatmap": [
           {
            "colorbar": {
             "outlinewidth": 0,
             "ticks": ""
            },
            "colorscale": [
             [
              0,
              "#0d0887"
             ],
             [
              0.1111111111111111,
              "#46039f"
             ],
             [
              0.2222222222222222,
              "#7201a8"
             ],
             [
              0.3333333333333333,
              "#9c179e"
             ],
             [
              0.4444444444444444,
              "#bd3786"
             ],
             [
              0.5555555555555556,
              "#d8576b"
             ],
             [
              0.6666666666666666,
              "#ed7953"
             ],
             [
              0.7777777777777778,
              "#fb9f3a"
             ],
             [
              0.8888888888888888,
              "#fdca26"
             ],
             [
              1,
              "#f0f921"
             ]
            ],
            "type": "heatmap"
           }
          ],
          "heatmapgl": [
           {
            "colorbar": {
             "outlinewidth": 0,
             "ticks": ""
            },
            "colorscale": [
             [
              0,
              "#0d0887"
             ],
             [
              0.1111111111111111,
              "#46039f"
             ],
             [
              0.2222222222222222,
              "#7201a8"
             ],
             [
              0.3333333333333333,
              "#9c179e"
             ],
             [
              0.4444444444444444,
              "#bd3786"
             ],
             [
              0.5555555555555556,
              "#d8576b"
             ],
             [
              0.6666666666666666,
              "#ed7953"
             ],
             [
              0.7777777777777778,
              "#fb9f3a"
             ],
             [
              0.8888888888888888,
              "#fdca26"
             ],
             [
              1,
              "#f0f921"
             ]
            ],
            "type": "heatmapgl"
           }
          ],
          "histogram": [
           {
            "marker": {
             "pattern": {
              "fillmode": "overlay",
              "size": 10,
              "solidity": 0.2
             }
            },
            "type": "histogram"
           }
          ],
          "histogram2d": [
           {
            "colorbar": {
             "outlinewidth": 0,
             "ticks": ""
            },
            "colorscale": [
             [
              0,
              "#0d0887"
             ],
             [
              0.1111111111111111,
              "#46039f"
             ],
             [
              0.2222222222222222,
              "#7201a8"
             ],
             [
              0.3333333333333333,
              "#9c179e"
             ],
             [
              0.4444444444444444,
              "#bd3786"
             ],
             [
              0.5555555555555556,
              "#d8576b"
             ],
             [
              0.6666666666666666,
              "#ed7953"
             ],
             [
              0.7777777777777778,
              "#fb9f3a"
             ],
             [
              0.8888888888888888,
              "#fdca26"
             ],
             [
              1,
              "#f0f921"
             ]
            ],
            "type": "histogram2d"
           }
          ],
          "histogram2dcontour": [
           {
            "colorbar": {
             "outlinewidth": 0,
             "ticks": ""
            },
            "colorscale": [
             [
              0,
              "#0d0887"
             ],
             [
              0.1111111111111111,
              "#46039f"
             ],
             [
              0.2222222222222222,
              "#7201a8"
             ],
             [
              0.3333333333333333,
              "#9c179e"
             ],
             [
              0.4444444444444444,
              "#bd3786"
             ],
             [
              0.5555555555555556,
              "#d8576b"
             ],
             [
              0.6666666666666666,
              "#ed7953"
             ],
             [
              0.7777777777777778,
              "#fb9f3a"
             ],
             [
              0.8888888888888888,
              "#fdca26"
             ],
             [
              1,
              "#f0f921"
             ]
            ],
            "type": "histogram2dcontour"
           }
          ],
          "mesh3d": [
           {
            "colorbar": {
             "outlinewidth": 0,
             "ticks": ""
            },
            "type": "mesh3d"
           }
          ],
          "parcoords": [
           {
            "line": {
             "colorbar": {
              "outlinewidth": 0,
              "ticks": ""
             }
            },
            "type": "parcoords"
           }
          ],
          "pie": [
           {
            "automargin": true,
            "type": "pie"
           }
          ],
          "scatter": [
           {
            "marker": {
             "colorbar": {
              "outlinewidth": 0,
              "ticks": ""
             }
            },
            "type": "scatter"
           }
          ],
          "scatter3d": [
           {
            "line": {
             "colorbar": {
              "outlinewidth": 0,
              "ticks": ""
             }
            },
            "marker": {
             "colorbar": {
              "outlinewidth": 0,
              "ticks": ""
             }
            },
            "type": "scatter3d"
           }
          ],
          "scattercarpet": [
           {
            "marker": {
             "colorbar": {
              "outlinewidth": 0,
              "ticks": ""
             }
            },
            "type": "scattercarpet"
           }
          ],
          "scattergeo": [
           {
            "marker": {
             "colorbar": {
              "outlinewidth": 0,
              "ticks": ""
             }
            },
            "type": "scattergeo"
           }
          ],
          "scattergl": [
           {
            "marker": {
             "colorbar": {
              "outlinewidth": 0,
              "ticks": ""
             }
            },
            "type": "scattergl"
           }
          ],
          "scattermapbox": [
           {
            "marker": {
             "colorbar": {
              "outlinewidth": 0,
              "ticks": ""
             }
            },
            "type": "scattermapbox"
           }
          ],
          "scatterpolar": [
           {
            "marker": {
             "colorbar": {
              "outlinewidth": 0,
              "ticks": ""
             }
            },
            "type": "scatterpolar"
           }
          ],
          "scatterpolargl": [
           {
            "marker": {
             "colorbar": {
              "outlinewidth": 0,
              "ticks": ""
             }
            },
            "type": "scatterpolargl"
           }
          ],
          "scatterternary": [
           {
            "marker": {
             "colorbar": {
              "outlinewidth": 0,
              "ticks": ""
             }
            },
            "type": "scatterternary"
           }
          ],
          "surface": [
           {
            "colorbar": {
             "outlinewidth": 0,
             "ticks": ""
            },
            "colorscale": [
             [
              0,
              "#0d0887"
             ],
             [
              0.1111111111111111,
              "#46039f"
             ],
             [
              0.2222222222222222,
              "#7201a8"
             ],
             [
              0.3333333333333333,
              "#9c179e"
             ],
             [
              0.4444444444444444,
              "#bd3786"
             ],
             [
              0.5555555555555556,
              "#d8576b"
             ],
             [
              0.6666666666666666,
              "#ed7953"
             ],
             [
              0.7777777777777778,
              "#fb9f3a"
             ],
             [
              0.8888888888888888,
              "#fdca26"
             ],
             [
              1,
              "#f0f921"
             ]
            ],
            "type": "surface"
           }
          ],
          "table": [
           {
            "cells": {
             "fill": {
              "color": "#EBF0F8"
             },
             "line": {
              "color": "white"
             }
            },
            "header": {
             "fill": {
              "color": "#C8D4E3"
             },
             "line": {
              "color": "white"
             }
            },
            "type": "table"
           }
          ]
         },
         "layout": {
          "annotationdefaults": {
           "arrowcolor": "#2a3f5f",
           "arrowhead": 0,
           "arrowwidth": 1
          },
          "autotypenumbers": "strict",
          "coloraxis": {
           "colorbar": {
            "outlinewidth": 0,
            "ticks": ""
           }
          },
          "colorscale": {
           "diverging": [
            [
             0,
             "#8e0152"
            ],
            [
             0.1,
             "#c51b7d"
            ],
            [
             0.2,
             "#de77ae"
            ],
            [
             0.3,
             "#f1b6da"
            ],
            [
             0.4,
             "#fde0ef"
            ],
            [
             0.5,
             "#f7f7f7"
            ],
            [
             0.6,
             "#e6f5d0"
            ],
            [
             0.7,
             "#b8e186"
            ],
            [
             0.8,
             "#7fbc41"
            ],
            [
             0.9,
             "#4d9221"
            ],
            [
             1,
             "#276419"
            ]
           ],
           "sequential": [
            [
             0,
             "#0d0887"
            ],
            [
             0.1111111111111111,
             "#46039f"
            ],
            [
             0.2222222222222222,
             "#7201a8"
            ],
            [
             0.3333333333333333,
             "#9c179e"
            ],
            [
             0.4444444444444444,
             "#bd3786"
            ],
            [
             0.5555555555555556,
             "#d8576b"
            ],
            [
             0.6666666666666666,
             "#ed7953"
            ],
            [
             0.7777777777777778,
             "#fb9f3a"
            ],
            [
             0.8888888888888888,
             "#fdca26"
            ],
            [
             1,
             "#f0f921"
            ]
           ],
           "sequentialminus": [
            [
             0,
             "#0d0887"
            ],
            [
             0.1111111111111111,
             "#46039f"
            ],
            [
             0.2222222222222222,
             "#7201a8"
            ],
            [
             0.3333333333333333,
             "#9c179e"
            ],
            [
             0.4444444444444444,
             "#bd3786"
            ],
            [
             0.5555555555555556,
             "#d8576b"
            ],
            [
             0.6666666666666666,
             "#ed7953"
            ],
            [
             0.7777777777777778,
             "#fb9f3a"
            ],
            [
             0.8888888888888888,
             "#fdca26"
            ],
            [
             1,
             "#f0f921"
            ]
           ]
          },
          "colorway": [
           "#636efa",
           "#EF553B",
           "#00cc96",
           "#ab63fa",
           "#FFA15A",
           "#19d3f3",
           "#FF6692",
           "#B6E880",
           "#FF97FF",
           "#FECB52"
          ],
          "font": {
           "color": "#2a3f5f"
          },
          "geo": {
           "bgcolor": "white",
           "lakecolor": "white",
           "landcolor": "#E5ECF6",
           "showlakes": true,
           "showland": true,
           "subunitcolor": "white"
          },
          "hoverlabel": {
           "align": "left"
          },
          "hovermode": "closest",
          "mapbox": {
           "style": "light"
          },
          "paper_bgcolor": "white",
          "plot_bgcolor": "#E5ECF6",
          "polar": {
           "angularaxis": {
            "gridcolor": "white",
            "linecolor": "white",
            "ticks": ""
           },
           "bgcolor": "#E5ECF6",
           "radialaxis": {
            "gridcolor": "white",
            "linecolor": "white",
            "ticks": ""
           }
          },
          "scene": {
           "xaxis": {
            "backgroundcolor": "#E5ECF6",
            "gridcolor": "white",
            "gridwidth": 2,
            "linecolor": "white",
            "showbackground": true,
            "ticks": "",
            "zerolinecolor": "white"
           },
           "yaxis": {
            "backgroundcolor": "#E5ECF6",
            "gridcolor": "white",
            "gridwidth": 2,
            "linecolor": "white",
            "showbackground": true,
            "ticks": "",
            "zerolinecolor": "white"
           },
           "zaxis": {
            "backgroundcolor": "#E5ECF6",
            "gridcolor": "white",
            "gridwidth": 2,
            "linecolor": "white",
            "showbackground": true,
            "ticks": "",
            "zerolinecolor": "white"
           }
          },
          "shapedefaults": {
           "line": {
            "color": "#2a3f5f"
           }
          },
          "ternary": {
           "aaxis": {
            "gridcolor": "white",
            "linecolor": "white",
            "ticks": ""
           },
           "baxis": {
            "gridcolor": "white",
            "linecolor": "white",
            "ticks": ""
           },
           "bgcolor": "#E5ECF6",
           "caxis": {
            "gridcolor": "white",
            "linecolor": "white",
            "ticks": ""
           }
          },
          "title": {
           "x": 0.05
          },
          "xaxis": {
           "automargin": true,
           "gridcolor": "white",
           "linecolor": "white",
           "ticks": "",
           "title": {
            "standoff": 15
           },
           "zerolinecolor": "white",
           "zerolinewidth": 2
          },
          "yaxis": {
           "automargin": true,
           "gridcolor": "white",
           "linecolor": "white",
           "ticks": "",
           "title": {
            "standoff": 15
           },
           "zerolinecolor": "white",
           "zerolinewidth": 2
          }
         }
        },
        "xaxis": {
         "anchor": "y",
         "domain": [
          0,
          1
         ],
         "title": {
          "text": "x"
         }
        },
        "yaxis": {
         "anchor": "x",
         "domain": [
          0,
          1
         ],
         "title": {
          "text": "count"
         }
        }
       }
      },
      "text/html": [
       "<div>                            <div id=\"d27f59ae-90d6-4f8e-8e12-5555e8f86625\" class=\"plotly-graph-div\" style=\"height:525px; width:100%;\"></div>            <script type=\"text/javascript\">                require([\"plotly\"], function(Plotly) {                    window.PLOTLYENV=window.PLOTLYENV || {};                                    if (document.getElementById(\"d27f59ae-90d6-4f8e-8e12-5555e8f86625\")) {                    Plotly.newPlot(                        \"d27f59ae-90d6-4f8e-8e12-5555e8f86625\",                        [{\"alignmentgroup\":\"True\",\"bingroup\":\"x\",\"hovertemplate\":\"x=%{x}<br>count=%{y}<extra></extra>\",\"legendgroup\":\"\",\"marker\":{\"color\":\"#636efa\",\"pattern\":{\"shape\":\"\"}},\"name\":\"\",\"offsetgroup\":\"\",\"orientation\":\"v\",\"showlegend\":false,\"x\":[1087.6,-1.0,715.0,721.0,-1.0,294.0,901.3,831.0,696.0,695.6,-1.0,-1.0,696.0,-1.0,696.0,325.0,739.5,-1.0,696.0,695.0,356.0,818.0,720.0,-1.0,-1.0,-1.0,708.0,695.6,-1.0,-1.0,-1.0,-1.0,696.0,695.0,797.0,-1.0,957.0,-1.0,695.0,-1.0,696.0,815.0,1296.0,708.0,695.0,721.0,242.0,-1.0,1676.0,1012.0,917.0,708.0,-1.0,717.0,768.0,789.0,-1.0,-1.0,885.0,-1.0,696.0,695.0,898.0,696.0,696.0,695.0,752.0,739.0,828.3,-1.0,-1.0,696.0,-1.0,1296.0,-1.0,1100.0,-1.0,706.0,765.0,695.0,-1.0,-1.0,-1.0,978.0,709.0,1393.0,753.0,834.0,695.0,695.0,715.0,697.0,-1.0,-1.0,-1.0,753.0,701.0,696.0,696.0,739.8,776.5,1309.0,-1.0,1384.0,708.0,767.0,695.0,-1.0,-1.0,-1.0,814.0,695.6,-1.0,-1.0,1082.0,696.0,900.0,695.0,900.0,695.0,-1.0,-1.0,787.1,-1.0,-1.0,714.0,-1.0,-1.0,-1.0,708.0,739.8,695.6,788.0,-1.0,783.0,-1.0,-1.0,695.6,-1.0,-1.0,-1.0,822.0,-1.0,904.0,746.0,-1.0,-1.0,708.2,847.3,936.2,-1.0,695.6,712.0,-1.0,720.0,695.0,-1.0,702.9,-1.0,1456.4,700.0,-1.0,889.0,-1.0,702.0,701.9,843.0,-1.0,695.0,-1.0,766.0,-1.0,739.0,-1.0,-1.0,733.0,696.0,769.0,820.3,707.0,766.0,733.5,695.0,695.6,727.2,-1.0,752.0,696.0,-1.0,-1.0,701.0,714.0,758.0,700.0,752.0,824.0,1048.0,-1.0,789.0,695.0,841.0,721.0,1296.0,701.9,695.0,-1.0,695.6,-1.0,-1.0,-1.0,-1.0,702.0,-1.0,-1.0,-1.0,695.0,1177.0,696.0,670.0,696.0,-1.0,787.0,767.0,1170.0,-1.0,1037.0,-1.0,875.0,900.0,891.0,717.0,847.0,404.0,873.0,-1.0,797.0,695.0,-1.0,696.0,-1.0,715.0,703.0,769.0,-1.0,696.0,-1.0,-1.0,858.0,-1.0,-1.0,696.0,-1.0,695.0,-1.0,695.0,-1.0,701.0,-1.0,696.0,765.0,727.0,701.0,-1.0,714.0,-1.0,695.0,789.0,950.0,-1.0,752.0,-1.0,695.0,708.0,696.0,806.0,695.0,253.0,695.0,-1.0,702.0,695.6,-1.0,739.0,696.0,695.6,720.0,720.0,710.0,904.0,900.0,-1.0,746.0,784.0,-1.0,-1.0,697.0,-1.0,-1.0,1170.0,695.0,772.0,695.6,695.0,-1.0,696.0,734.0,-1.0,734.0,720.0,695.0,-1.0,-1.0,1004.0,865.0,1303.0,708.0,734.0,695.6,815.0,714.0,910.0,-1.0,767.0,-1.0,695.0,-1.0,738.0,-1.0,784.0,-1.0,-1.0,698.0,729.2,696.0,-1.0,-1.0,776.0,-1.0,696.0,696.0,696.0,765.0,696.0,-1.0,710.0,830.0,696.0,900.0,776.0,-1.0,701.9,-1.0,1081.0,714.0,696.0,888.0,734.0,766.6,715.0,891.6,901.0,727.0,735.8,766.4,695.0,-1.0,714.5,695.0,695.0,-1.0,696.0,-1.0,752.0,727.0,822.0,695.6,-1.0,-1.0,231.0,-1.0,1349.0,695.0,708.0,701.0,787.0,1005.0,695.0,543.0,695.6,695.6,708.0,721.0,-1.0,1296.0,752.0,701.0,-1.0,721.0,696.0,1393.0,696.0,708.0,-1.0,721.0,695.0,519.1,-1.0,-1.0,-1.0,770.0,917.0,-1.0,902.0,696.0,-1.0,-1.0,746.0,-1.0,-1.0,440.0,727.0,695.0,911.0,202.0,-1.0,-1.0,696.0,163.0,900.0,-1.0,767.0,695.0,690.0,-1.0,-1.0,-1.0,700.0,-1.0,695.0,766.0,714.0,766.0,-1.0,708.2,-1.0,-1.0,922.0,-1.0,695.0,796.0,714.0,695.0,-1.0,-1.0,-1.0,999.0,956.9,-1.0,-1.0,708.0,901.3,-1.0,753.0,-1.0,695.0,720.0,695.6,-1.0,771.0,218.0,-1.0,695.0,1018.0,-1.0,-1.0,771.0,961.1,-1.0,-1.0,738.0,853.6,769.0,-1.0,-1.0,901.0,746.1,904.2,-1.0,-1.0,1182.0,714.0,1012.0,-1.0,798.0,-1.0,872.6,695.6,-1.0,-1.0,-1.0,-1.0,696.0,-1.0,741.0,-1.0,708.0,696.0,769.0,696.0,769.0,-1.0,-1.0,739.8,-1.0,733.0,-1.0,739.0,-1.0,-1.0,695.0,955.0,326.0,-1.0,771.4,866.0,-1.0,-1.0,-1.0,-1.0,-1.0,-1.0,-1.0,550.0,-1.0,816.0,-1.0,733.0,-1.0,-1.0,828.0,-1.0,-1.0,708.0,420.0,696.0,-1.0,-1.0,777.0,765.0,767.0,-1.0,-1.0,948.0,725.0,-1.0,-1.0,700.0,-1.0,746.0,-1.0,-1.0,-1.0,740.0,714.0,733.0,-1.0,-1.0,-1.0,-1.0,696.0,-1.0,-1.0,-1.0,695.0,-1.0,-1.0,854.0,1170.0,-1.0,746.0,1486.0,900.0,-1.0,-1.0,-1.0,-1.0,-1.0,-1.0,-1.0,696.0,695.0,1021.0,708.0,-1.0,1385.0,-1.0,843.0,-1.0,894.0,720.0,696.0,695.5,-1.0,-1.0,199.0,-1.0,769.0,696.0,-1.0,-1.0,695.6,-1.0,32.0,828.0,-1.0,-1.0,904.0,-1.0,-1.0,708.0,-1.0,727.0,701.9,-1.0,696.0,752.5,695.0,696.0,695.6,745.0,-1.0,757.0,970.0,854.0,900.0,-1.0,189.0,706.7,187.0,-1.0,-1.0,701.0,923.0,696.0,-1.0,1842.0,-1.0,708.0,828.0,739.0,-1.0,-1.0,-1.0,695.6,-1.0,695.0,269.0,696.0],\"xaxis\":\"x\",\"yaxis\":\"y\",\"type\":\"histogram\"}],                        {\"template\":{\"data\":{\"bar\":[{\"error_x\":{\"color\":\"#2a3f5f\"},\"error_y\":{\"color\":\"#2a3f5f\"},\"marker\":{\"line\":{\"color\":\"#E5ECF6\",\"width\":0.5},\"pattern\":{\"fillmode\":\"overlay\",\"size\":10,\"solidity\":0.2}},\"type\":\"bar\"}],\"barpolar\":[{\"marker\":{\"line\":{\"color\":\"#E5ECF6\",\"width\":0.5},\"pattern\":{\"fillmode\":\"overlay\",\"size\":10,\"solidity\":0.2}},\"type\":\"barpolar\"}],\"carpet\":[{\"aaxis\":{\"endlinecolor\":\"#2a3f5f\",\"gridcolor\":\"white\",\"linecolor\":\"white\",\"minorgridcolor\":\"white\",\"startlinecolor\":\"#2a3f5f\"},\"baxis\":{\"endlinecolor\":\"#2a3f5f\",\"gridcolor\":\"white\",\"linecolor\":\"white\",\"minorgridcolor\":\"white\",\"startlinecolor\":\"#2a3f5f\"},\"type\":\"carpet\"}],\"choropleth\":[{\"colorbar\":{\"outlinewidth\":0,\"ticks\":\"\"},\"type\":\"choropleth\"}],\"contour\":[{\"colorbar\":{\"outlinewidth\":0,\"ticks\":\"\"},\"colorscale\":[[0.0,\"#0d0887\"],[0.1111111111111111,\"#46039f\"],[0.2222222222222222,\"#7201a8\"],[0.3333333333333333,\"#9c179e\"],[0.4444444444444444,\"#bd3786\"],[0.5555555555555556,\"#d8576b\"],[0.6666666666666666,\"#ed7953\"],[0.7777777777777778,\"#fb9f3a\"],[0.8888888888888888,\"#fdca26\"],[1.0,\"#f0f921\"]],\"type\":\"contour\"}],\"contourcarpet\":[{\"colorbar\":{\"outlinewidth\":0,\"ticks\":\"\"},\"type\":\"contourcarpet\"}],\"heatmap\":[{\"colorbar\":{\"outlinewidth\":0,\"ticks\":\"\"},\"colorscale\":[[0.0,\"#0d0887\"],[0.1111111111111111,\"#46039f\"],[0.2222222222222222,\"#7201a8\"],[0.3333333333333333,\"#9c179e\"],[0.4444444444444444,\"#bd3786\"],[0.5555555555555556,\"#d8576b\"],[0.6666666666666666,\"#ed7953\"],[0.7777777777777778,\"#fb9f3a\"],[0.8888888888888888,\"#fdca26\"],[1.0,\"#f0f921\"]],\"type\":\"heatmap\"}],\"heatmapgl\":[{\"colorbar\":{\"outlinewidth\":0,\"ticks\":\"\"},\"colorscale\":[[0.0,\"#0d0887\"],[0.1111111111111111,\"#46039f\"],[0.2222222222222222,\"#7201a8\"],[0.3333333333333333,\"#9c179e\"],[0.4444444444444444,\"#bd3786\"],[0.5555555555555556,\"#d8576b\"],[0.6666666666666666,\"#ed7953\"],[0.7777777777777778,\"#fb9f3a\"],[0.8888888888888888,\"#fdca26\"],[1.0,\"#f0f921\"]],\"type\":\"heatmapgl\"}],\"histogram\":[{\"marker\":{\"pattern\":{\"fillmode\":\"overlay\",\"size\":10,\"solidity\":0.2}},\"type\":\"histogram\"}],\"histogram2d\":[{\"colorbar\":{\"outlinewidth\":0,\"ticks\":\"\"},\"colorscale\":[[0.0,\"#0d0887\"],[0.1111111111111111,\"#46039f\"],[0.2222222222222222,\"#7201a8\"],[0.3333333333333333,\"#9c179e\"],[0.4444444444444444,\"#bd3786\"],[0.5555555555555556,\"#d8576b\"],[0.6666666666666666,\"#ed7953\"],[0.7777777777777778,\"#fb9f3a\"],[0.8888888888888888,\"#fdca26\"],[1.0,\"#f0f921\"]],\"type\":\"histogram2d\"}],\"histogram2dcontour\":[{\"colorbar\":{\"outlinewidth\":0,\"ticks\":\"\"},\"colorscale\":[[0.0,\"#0d0887\"],[0.1111111111111111,\"#46039f\"],[0.2222222222222222,\"#7201a8\"],[0.3333333333333333,\"#9c179e\"],[0.4444444444444444,\"#bd3786\"],[0.5555555555555556,\"#d8576b\"],[0.6666666666666666,\"#ed7953\"],[0.7777777777777778,\"#fb9f3a\"],[0.8888888888888888,\"#fdca26\"],[1.0,\"#f0f921\"]],\"type\":\"histogram2dcontour\"}],\"mesh3d\":[{\"colorbar\":{\"outlinewidth\":0,\"ticks\":\"\"},\"type\":\"mesh3d\"}],\"parcoords\":[{\"line\":{\"colorbar\":{\"outlinewidth\":0,\"ticks\":\"\"}},\"type\":\"parcoords\"}],\"pie\":[{\"automargin\":true,\"type\":\"pie\"}],\"scatter\":[{\"marker\":{\"colorbar\":{\"outlinewidth\":0,\"ticks\":\"\"}},\"type\":\"scatter\"}],\"scatter3d\":[{\"line\":{\"colorbar\":{\"outlinewidth\":0,\"ticks\":\"\"}},\"marker\":{\"colorbar\":{\"outlinewidth\":0,\"ticks\":\"\"}},\"type\":\"scatter3d\"}],\"scattercarpet\":[{\"marker\":{\"colorbar\":{\"outlinewidth\":0,\"ticks\":\"\"}},\"type\":\"scattercarpet\"}],\"scattergeo\":[{\"marker\":{\"colorbar\":{\"outlinewidth\":0,\"ticks\":\"\"}},\"type\":\"scattergeo\"}],\"scattergl\":[{\"marker\":{\"colorbar\":{\"outlinewidth\":0,\"ticks\":\"\"}},\"type\":\"scattergl\"}],\"scattermapbox\":[{\"marker\":{\"colorbar\":{\"outlinewidth\":0,\"ticks\":\"\"}},\"type\":\"scattermapbox\"}],\"scatterpolar\":[{\"marker\":{\"colorbar\":{\"outlinewidth\":0,\"ticks\":\"\"}},\"type\":\"scatterpolar\"}],\"scatterpolargl\":[{\"marker\":{\"colorbar\":{\"outlinewidth\":0,\"ticks\":\"\"}},\"type\":\"scatterpolargl\"}],\"scatterternary\":[{\"marker\":{\"colorbar\":{\"outlinewidth\":0,\"ticks\":\"\"}},\"type\":\"scatterternary\"}],\"surface\":[{\"colorbar\":{\"outlinewidth\":0,\"ticks\":\"\"},\"colorscale\":[[0.0,\"#0d0887\"],[0.1111111111111111,\"#46039f\"],[0.2222222222222222,\"#7201a8\"],[0.3333333333333333,\"#9c179e\"],[0.4444444444444444,\"#bd3786\"],[0.5555555555555556,\"#d8576b\"],[0.6666666666666666,\"#ed7953\"],[0.7777777777777778,\"#fb9f3a\"],[0.8888888888888888,\"#fdca26\"],[1.0,\"#f0f921\"]],\"type\":\"surface\"}],\"table\":[{\"cells\":{\"fill\":{\"color\":\"#EBF0F8\"},\"line\":{\"color\":\"white\"}},\"header\":{\"fill\":{\"color\":\"#C8D4E3\"},\"line\":{\"color\":\"white\"}},\"type\":\"table\"}]},\"layout\":{\"annotationdefaults\":{\"arrowcolor\":\"#2a3f5f\",\"arrowhead\":0,\"arrowwidth\":1},\"autotypenumbers\":\"strict\",\"coloraxis\":{\"colorbar\":{\"outlinewidth\":0,\"ticks\":\"\"}},\"colorscale\":{\"diverging\":[[0,\"#8e0152\"],[0.1,\"#c51b7d\"],[0.2,\"#de77ae\"],[0.3,\"#f1b6da\"],[0.4,\"#fde0ef\"],[0.5,\"#f7f7f7\"],[0.6,\"#e6f5d0\"],[0.7,\"#b8e186\"],[0.8,\"#7fbc41\"],[0.9,\"#4d9221\"],[1,\"#276419\"]],\"sequential\":[[0.0,\"#0d0887\"],[0.1111111111111111,\"#46039f\"],[0.2222222222222222,\"#7201a8\"],[0.3333333333333333,\"#9c179e\"],[0.4444444444444444,\"#bd3786\"],[0.5555555555555556,\"#d8576b\"],[0.6666666666666666,\"#ed7953\"],[0.7777777777777778,\"#fb9f3a\"],[0.8888888888888888,\"#fdca26\"],[1.0,\"#f0f921\"]],\"sequentialminus\":[[0.0,\"#0d0887\"],[0.1111111111111111,\"#46039f\"],[0.2222222222222222,\"#7201a8\"],[0.3333333333333333,\"#9c179e\"],[0.4444444444444444,\"#bd3786\"],[0.5555555555555556,\"#d8576b\"],[0.6666666666666666,\"#ed7953\"],[0.7777777777777778,\"#fb9f3a\"],[0.8888888888888888,\"#fdca26\"],[1.0,\"#f0f921\"]]},\"colorway\":[\"#636efa\",\"#EF553B\",\"#00cc96\",\"#ab63fa\",\"#FFA15A\",\"#19d3f3\",\"#FF6692\",\"#B6E880\",\"#FF97FF\",\"#FECB52\"],\"font\":{\"color\":\"#2a3f5f\"},\"geo\":{\"bgcolor\":\"white\",\"lakecolor\":\"white\",\"landcolor\":\"#E5ECF6\",\"showlakes\":true,\"showland\":true,\"subunitcolor\":\"white\"},\"hoverlabel\":{\"align\":\"left\"},\"hovermode\":\"closest\",\"mapbox\":{\"style\":\"light\"},\"paper_bgcolor\":\"white\",\"plot_bgcolor\":\"#E5ECF6\",\"polar\":{\"angularaxis\":{\"gridcolor\":\"white\",\"linecolor\":\"white\",\"ticks\":\"\"},\"bgcolor\":\"#E5ECF6\",\"radialaxis\":{\"gridcolor\":\"white\",\"linecolor\":\"white\",\"ticks\":\"\"}},\"scene\":{\"xaxis\":{\"backgroundcolor\":\"#E5ECF6\",\"gridcolor\":\"white\",\"gridwidth\":2,\"linecolor\":\"white\",\"showbackground\":true,\"ticks\":\"\",\"zerolinecolor\":\"white\"},\"yaxis\":{\"backgroundcolor\":\"#E5ECF6\",\"gridcolor\":\"white\",\"gridwidth\":2,\"linecolor\":\"white\",\"showbackground\":true,\"ticks\":\"\",\"zerolinecolor\":\"white\"},\"zaxis\":{\"backgroundcolor\":\"#E5ECF6\",\"gridcolor\":\"white\",\"gridwidth\":2,\"linecolor\":\"white\",\"showbackground\":true,\"ticks\":\"\",\"zerolinecolor\":\"white\"}},\"shapedefaults\":{\"line\":{\"color\":\"#2a3f5f\"}},\"ternary\":{\"aaxis\":{\"gridcolor\":\"white\",\"linecolor\":\"white\",\"ticks\":\"\"},\"baxis\":{\"gridcolor\":\"white\",\"linecolor\":\"white\",\"ticks\":\"\"},\"bgcolor\":\"#E5ECF6\",\"caxis\":{\"gridcolor\":\"white\",\"linecolor\":\"white\",\"ticks\":\"\"}},\"title\":{\"x\":0.05},\"xaxis\":{\"automargin\":true,\"gridcolor\":\"white\",\"linecolor\":\"white\",\"ticks\":\"\",\"title\":{\"standoff\":15},\"zerolinecolor\":\"white\",\"zerolinewidth\":2},\"yaxis\":{\"automargin\":true,\"gridcolor\":\"white\",\"linecolor\":\"white\",\"ticks\":\"\",\"title\":{\"standoff\":15},\"zerolinecolor\":\"white\",\"zerolinewidth\":2}}},\"xaxis\":{\"anchor\":\"y\",\"domain\":[0.0,1.0],\"title\":{\"text\":\"x\"}},\"yaxis\":{\"anchor\":\"x\",\"domain\":[0.0,1.0],\"title\":{\"text\":\"count\"}},\"legend\":{\"tracegroupgap\":0},\"margin\":{\"t\":60},\"barmode\":\"relative\"},                        {\"responsive\": true}                    ).then(function(){\n",
       "                            \n",
       "var gd = document.getElementById('d27f59ae-90d6-4f8e-8e12-5555e8f86625');\n",
       "var x = new MutationObserver(function (mutations, observer) {{\n",
       "        var display = window.getComputedStyle(gd).display;\n",
       "        if (!display || display === 'none') {{\n",
       "            console.log([gd, 'removed!']);\n",
       "            Plotly.purge(gd);\n",
       "            observer.disconnect();\n",
       "        }}\n",
       "}});\n",
       "\n",
       "// Listen for the removal of the full notebook cells\n",
       "var notebookContainer = gd.closest('#notebook-container');\n",
       "if (notebookContainer) {{\n",
       "    x.observe(notebookContainer, {childList: true});\n",
       "}}\n",
       "\n",
       "// Listen for the clearing of the current output cell\n",
       "var outputEl = gd.closest('.output');\n",
       "if (outputEl) {{\n",
       "    x.observe(outputEl, {childList: true});\n",
       "}}\n",
       "\n",
       "                        })                };                });            </script>        </div>"
      ]
     },
     "metadata": {},
     "output_type": "display_data"
    }
   ],
   "source": [
    "bedrooms = px.histogram(\n",
    "    x=df[\"land_size\"],\n",
    ")\n",
    "\n",
    "bedrooms.show()"
   ]
  },
  {
   "cell_type": "code",
   "execution_count": 81,
   "id": "c74578ee",
   "metadata": {},
   "outputs": [
    {
     "data": {
      "application/vnd.plotly.v1+json": {
       "config": {
        "plotlyServerURL": "https://plot.ly"
       },
       "data": [
        {
         "alignmentgroup": "True",
         "bingroup": "x",
         "hovertemplate": "x=%{x}<br>count=%{y}<extra></extra>",
         "legendgroup": "",
         "marker": {
          "color": "#636efa",
          "pattern": {
           "shape": ""
          }
         },
         "name": "",
         "offsetgroup": "",
         "orientation": "v",
         "showlegend": false,
         "type": "histogram",
         "x": [
          "2022-05-20T00:00:00",
          "2022-05-17T00:00:00",
          "2022-05-14T00:00:00",
          "2022-05-08T00:00:00",
          "2022-05-07T00:00:00",
          "2022-04-29T00:00:00",
          "2022-04-14T00:00:00",
          "2022-04-11T00:00:00",
          "2022-04-09T00:00:00",
          "2022-04-09T00:00:00",
          "2022-04-09T00:00:00",
          "2022-04-02T00:00:00",
          "2022-03-26T00:00:00",
          "2022-03-26T00:00:00",
          "2022-03-18T00:00:00",
          "2022-03-17T00:00:00",
          "2022-03-05T00:00:00",
          "2022-03-03T00:00:00",
          "2022-02-26T00:00:00",
          "2022-02-26T00:00:00",
          "2022-02-05T00:00:00",
          "2022-02-04T00:00:00",
          "2021-12-17T00:00:00",
          "2021-12-11T00:00:00",
          "2021-12-08T00:00:00",
          "2021-11-30T00:00:00",
          "2021-11-29T00:00:00",
          "2021-11-27T00:00:00",
          "2021-11-26T00:00:00",
          "2021-11-17T00:00:00",
          "2021-11-11T00:00:00",
          "2021-11-05T00:00:00",
          "2021-11-04T00:00:00",
          "2021-11-03T00:00:00",
          "2021-10-28T00:00:00",
          "2021-10-27T00:00:00",
          "2021-10-22T00:00:00",
          "2021-10-15T00:00:00",
          "2021-10-13T00:00:00",
          "2021-09-13T00:00:00",
          "2021-08-30T00:00:00",
          "2021-08-27T00:00:00",
          "2021-08-07T00:00:00",
          "2021-08-03T00:00:00",
          "2021-07-30T00:00:00",
          "2021-07-27T00:00:00",
          "2021-07-24T00:00:00",
          "2021-07-15T00:00:00",
          "2021-07-01T00:00:00",
          "2021-07-01T00:00:00",
          "2021-07-01T00:00:00",
          "2021-07-01T00:00:00",
          "2021-06-29T00:00:00",
          "2021-06-26T00:00:00",
          "2021-06-26T00:00:00",
          "2021-06-16T00:00:00",
          "2021-06-12T00:00:00",
          "2021-06-09T00:00:00",
          "2021-05-29T00:00:00",
          "2021-05-22T00:00:00",
          "2021-05-15T00:00:00",
          "2021-05-08T00:00:00",
          "2021-04-24T00:00:00",
          "2021-04-03T00:00:00",
          "2021-03-20T00:00:00",
          "2021-03-19T00:00:00",
          "2021-03-18T00:00:00",
          "2021-03-15T00:00:00",
          "2021-03-13T00:00:00",
          "2021-03-13T00:00:00",
          "2021-03-11T00:00:00",
          "2021-02-27T00:00:00",
          "2021-02-20T00:00:00",
          "2021-02-13T00:00:00",
          "2021-02-08T00:00:00",
          "2021-02-06T00:00:00",
          "2021-01-21T00:00:00",
          "2020-12-19T00:00:00",
          "2020-12-12T00:00:00",
          "2020-12-08T00:00:00",
          "2020-12-05T00:00:00",
          "2020-12-02T00:00:00",
          "2020-11-18T00:00:00",
          "2020-11-17T00:00:00",
          "2020-11-16T00:00:00",
          "2020-11-08T00:00:00",
          "2020-11-07T00:00:00",
          "2020-11-03T00:00:00",
          "2020-10-25T00:00:00",
          "2020-10-24T00:00:00",
          "2020-10-17T00:00:00",
          "2020-10-17T00:00:00",
          "2020-10-17T00:00:00",
          "2020-10-14T00:00:00",
          "2020-10-13T00:00:00",
          "2020-10-10T00:00:00",
          "2020-10-06T00:00:00",
          "2020-10-03T00:00:00",
          "2020-09-20T00:00:00",
          "2020-09-18T00:00:00",
          "2020-09-14T00:00:00",
          "2020-09-05T00:00:00",
          "2020-08-29T00:00:00",
          "2020-07-25T00:00:00",
          "2020-07-11T00:00:00",
          "2020-06-20T00:00:00",
          "2020-06-10T00:00:00",
          "2020-05-30T00:00:00",
          "2020-05-23T00:00:00",
          "2020-05-22T00:00:00",
          "2020-05-02T00:00:00",
          "2020-04-29T00:00:00",
          "2020-03-19T00:00:00",
          "2020-03-10T00:00:00",
          "2020-03-07T00:00:00",
          "2020-03-07T00:00:00",
          "2020-02-22T00:00:00",
          "2020-02-17T00:00:00",
          "2020-02-15T00:00:00",
          "2020-02-10T00:00:00",
          "2020-01-06T00:00:00",
          "2019-12-14T00:00:00",
          "2019-12-10T00:00:00",
          "2019-12-07T00:00:00",
          "2019-12-03T00:00:00",
          "2019-11-30T00:00:00",
          "2019-11-30T00:00:00",
          "2019-11-30T00:00:00",
          "2019-11-16T00:00:00",
          "2019-11-13T00:00:00",
          "2019-11-09T00:00:00",
          "2019-10-28T00:00:00",
          "2019-10-05T00:00:00",
          "2019-09-28T00:00:00",
          "2019-09-06T00:00:00",
          "2019-09-06T00:00:00",
          "2019-09-03T00:00:00",
          "2019-08-24T00:00:00",
          "2019-08-23T00:00:00",
          "2019-08-01T00:00:00",
          "2019-07-31T00:00:00",
          "2019-07-27T00:00:00",
          "2019-07-26T00:00:00",
          "2019-07-20T00:00:00",
          "2019-07-13T00:00:00",
          "2019-07-12T00:00:00",
          "2019-06-21T00:00:00",
          "2019-06-04T00:00:00",
          "2019-05-20T00:00:00",
          "2019-05-01T00:00:00",
          "2019-04-18T00:00:00",
          "2019-04-04T00:00:00",
          "2019-03-25T00:00:00",
          "2019-03-22T00:00:00",
          "2019-03-20T00:00:00",
          "2019-03-07T00:00:00",
          "2019-02-19T00:00:00",
          "2019-02-11T00:00:00",
          "2019-01-21T00:00:00",
          "2019-01-09T00:00:00",
          "2019-01-07T00:00:00",
          "2018-12-05T00:00:00",
          "2018-11-30T00:00:00",
          "2018-11-16T00:00:00",
          "2018-11-10T00:00:00",
          "2018-11-05T00:00:00",
          "2018-11-03T00:00:00",
          "2018-10-29T00:00:00",
          "2018-10-27T00:00:00",
          "2018-10-25T00:00:00",
          "2018-10-18T00:00:00",
          "2018-09-28T00:00:00",
          "2018-09-21T00:00:00",
          "2018-09-08T00:00:00",
          "2018-08-02T00:00:00",
          "2018-07-28T00:00:00",
          "2018-07-07T00:00:00",
          "2018-06-25T00:00:00",
          "2018-06-19T00:00:00",
          "2018-05-26T00:00:00",
          "2018-05-26T00:00:00",
          "2018-05-12T00:00:00",
          "2018-05-01T00:00:00",
          "2018-04-28T00:00:00",
          "2018-04-28T00:00:00",
          "2018-04-06T00:00:00",
          "2018-03-31T00:00:00",
          "2018-03-27T00:00:00",
          "2018-03-24T00:00:00",
          "2018-03-20T00:00:00",
          "2018-03-15T00:00:00",
          "2018-03-10T00:00:00",
          "2018-02-24T00:00:00",
          "2018-02-24T00:00:00",
          "2018-02-05T00:00:00",
          "2018-02-03T00:00:00",
          "2018-01-28T00:00:00",
          "2017-12-21T00:00:00",
          "2017-12-16T00:00:00",
          "2017-12-05T00:00:00",
          "2017-12-02T00:00:00",
          "2017-12-02T00:00:00",
          "2017-11-25T00:00:00",
          "2017-11-18T00:00:00",
          "2017-11-17T00:00:00",
          "2017-11-11T00:00:00",
          "2017-10-31T00:00:00",
          "2017-10-28T00:00:00",
          "2017-10-26T00:00:00",
          "2017-10-20T00:00:00",
          "2017-10-17T00:00:00",
          "2017-09-23T00:00:00",
          "2017-09-04T00:00:00",
          "2017-09-02T00:00:00",
          "2017-09-02T00:00:00",
          "2017-08-12T00:00:00",
          "2017-08-05T00:00:00",
          "2017-07-22T00:00:00",
          "2017-07-22T00:00:00",
          "2017-07-08T00:00:00",
          "2017-07-07T00:00:00",
          "2017-05-27T00:00:00",
          "2017-05-18T00:00:00",
          "2017-05-15T00:00:00",
          "2017-05-12T00:00:00",
          "2017-04-29T00:00:00",
          "2017-04-29T00:00:00",
          "2017-04-06T00:00:00",
          "2017-04-01T00:00:00",
          "2017-03-28T00:00:00",
          "2017-03-25T00:00:00",
          "2017-03-25T00:00:00",
          "2017-02-24T00:00:00",
          "2017-02-23T00:00:00",
          "2017-02-18T00:00:00",
          "2017-02-14T00:00:00",
          "2017-02-13T00:00:00",
          "2017-02-11T00:00:00",
          "2017-02-08T00:00:00",
          "2017-02-06T00:00:00",
          "2017-02-04T00:00:00",
          "2016-12-10T00:00:00",
          "2016-12-10T00:00:00",
          "2016-12-05T00:00:00",
          "2016-11-21T00:00:00",
          "2016-11-07T00:00:00",
          "2016-11-04T00:00:00",
          "2016-11-02T00:00:00",
          "2016-11-02T00:00:00",
          "2016-10-18T00:00:00",
          "2016-10-14T00:00:00",
          "2016-10-06T00:00:00",
          "2016-09-10T00:00:00",
          "2016-09-05T00:00:00",
          "2016-08-16T00:00:00",
          "2016-08-02T00:00:00",
          "2016-07-16T00:00:00",
          "2016-07-09T00:00:00",
          "2016-07-02T00:00:00",
          "2016-06-25T00:00:00",
          "2016-06-25T00:00:00",
          "2016-06-20T00:00:00",
          "2016-06-20T00:00:00",
          "2016-06-10T00:00:00",
          "2016-06-10T00:00:00",
          "2016-06-04T00:00:00",
          "2016-05-21T00:00:00",
          "2016-05-14T00:00:00",
          "2016-05-11T00:00:00",
          "2016-04-28T00:00:00",
          "2016-04-18T00:00:00",
          "2016-04-09T00:00:00",
          "2016-03-21T00:00:00",
          "2016-03-13T00:00:00",
          "2016-03-12T00:00:00",
          "2016-03-12T00:00:00",
          "2016-03-10T00:00:00",
          "2016-03-07T00:00:00",
          "2016-03-03T00:00:00",
          "2016-02-25T00:00:00",
          "2016-02-22T00:00:00",
          "2016-02-19T00:00:00",
          "2016-02-17T00:00:00",
          "2016-02-06T00:00:00",
          "2016-02-05T00:00:00",
          "2016-02-04T00:00:00",
          "2016-02-01T00:00:00",
          "2016-01-30T00:00:00",
          "2016-01-28T00:00:00",
          "2016-01-22T00:00:00",
          "2015-12-24T00:00:00",
          "2015-12-12T00:00:00",
          "2015-12-07T00:00:00",
          "2015-12-02T00:00:00",
          "2015-11-27T00:00:00",
          "2015-11-21T00:00:00",
          "2015-11-20T00:00:00",
          "2015-11-15T00:00:00",
          "2015-11-12T00:00:00",
          "2015-11-02T00:00:00",
          "2015-10-26T00:00:00",
          "2015-10-14T00:00:00",
          "2015-09-26T00:00:00",
          "2015-09-21T00:00:00",
          "2015-09-19T00:00:00",
          "2015-08-29T00:00:00",
          "2015-08-17T00:00:00",
          "2015-08-15T00:00:00",
          "2015-08-08T00:00:00",
          "2015-08-03T00:00:00",
          "2015-07-11T00:00:00",
          "2015-06-29T00:00:00",
          "2015-05-09T00:00:00",
          "2015-04-27T00:00:00",
          "2015-03-14T00:00:00",
          "2015-02-28T00:00:00",
          "2014-12-11T00:00:00",
          "2014-11-26T00:00:00",
          "2014-11-22T00:00:00",
          "2014-11-15T00:00:00",
          "2014-07-02T00:00:00",
          "2014-06-14T00:00:00",
          "2014-05-31T00:00:00",
          "2014-04-16T00:00:00",
          "2014-03-14T00:00:00",
          "2014-03-06T00:00:00",
          "2014-02-22T00:00:00",
          "2013-12-21T00:00:00",
          "2013-11-27T00:00:00",
          "2013-09-11T00:00:00",
          "2012-11-21T00:00:00",
          "2021-12-22T00:00:00",
          "2021-12-17T00:00:00",
          "2021-11-29T00:00:00",
          "2021-11-26T00:00:00",
          "2021-10-14T00:00:00",
          "2021-08-25T00:00:00",
          "2021-07-30T00:00:00",
          "2021-02-22T00:00:00",
          "2021-01-15T00:00:00",
          "2021-01-15T00:00:00",
          "2020-12-09T00:00:00",
          "2020-12-08T00:00:00",
          "2020-11-27T00:00:00",
          "2020-11-26T00:00:00",
          "2020-11-04T00:00:00",
          "2020-10-14T00:00:00",
          "2020-08-07T00:00:00",
          "2020-08-04T00:00:00",
          "2019-12-13T00:00:00",
          "2019-11-15T00:00:00",
          "2019-10-04T00:00:00",
          "2019-09-13T00:00:00",
          "2019-07-31T00:00:00",
          "2019-07-31T00:00:00",
          "2019-07-11T00:00:00",
          "2019-06-13T00:00:00",
          "2019-02-08T00:00:00",
          "2018-07-20T00:00:00",
          "2018-06-08T00:00:00",
          "2018-06-07T00:00:00",
          "2018-04-21T00:00:00",
          "2017-12-05T00:00:00",
          "2017-05-08T00:00:00",
          "2017-05-04T00:00:00",
          "2017-03-06T00:00:00",
          "2017-02-23T00:00:00",
          "2016-10-14T00:00:00",
          "2016-09-10T00:00:00",
          "2016-07-11T00:00:00",
          "2016-06-25T00:00:00",
          "2016-04-28T00:00:00",
          "2016-03-26T00:00:00",
          "2016-02-12T00:00:00",
          "2015-11-23T00:00:00",
          "2015-10-19T00:00:00",
          "2015-10-09T00:00:00",
          "2015-09-19T00:00:00",
          "2015-07-31T00:00:00",
          "2015-07-24T00:00:00",
          "2015-07-18T00:00:00",
          "2015-07-18T00:00:00",
          "2015-07-11T00:00:00",
          "2015-07-11T00:00:00",
          "2015-06-23T00:00:00",
          "2015-06-20T00:00:00",
          "2015-06-14T00:00:00",
          "2015-06-13T00:00:00",
          "2015-05-25T00:00:00",
          "2015-05-20T00:00:00",
          "2015-05-08T00:00:00",
          "2015-05-04T00:00:00",
          "2015-05-02T00:00:00",
          "2015-04-18T00:00:00",
          "2015-04-15T00:00:00",
          "2015-04-14T00:00:00",
          "2015-03-30T00:00:00",
          "2015-03-17T00:00:00",
          "2015-03-14T00:00:00",
          "2015-03-07T00:00:00",
          "2015-03-07T00:00:00",
          "2015-03-07T00:00:00",
          "2015-03-06T00:00:00",
          "2015-03-03T00:00:00",
          "2015-02-07T00:00:00",
          "2015-02-05T00:00:00",
          "2014-12-22T00:00:00",
          "2014-12-10T00:00:00",
          "2014-12-08T00:00:00",
          "2014-12-04T00:00:00",
          "2014-11-29T00:00:00",
          "2014-11-26T00:00:00",
          "2014-11-22T00:00:00",
          "2014-11-17T00:00:00",
          "2014-11-15T00:00:00",
          "2014-11-15T00:00:00",
          "2014-11-12T00:00:00",
          "2014-11-07T00:00:00",
          "2014-10-29T00:00:00",
          "2014-10-14T00:00:00",
          "2014-09-06T00:00:00",
          "2014-09-03T00:00:00",
          "2014-08-22T00:00:00",
          "2014-08-07T00:00:00",
          "2014-08-02T00:00:00",
          "2014-07-22T00:00:00",
          "2014-07-07T00:00:00",
          "2014-07-03T00:00:00",
          "2014-06-27T00:00:00",
          "2014-06-14T00:00:00",
          "2014-06-14T00:00:00",
          "2014-06-08T00:00:00",
          "2014-06-04T00:00:00",
          "2014-06-04T00:00:00",
          "2014-05-31T00:00:00",
          "2014-05-31T00:00:00",
          "2014-05-24T00:00:00",
          "2014-05-22T00:00:00",
          "2014-05-02T00:00:00",
          "2014-04-14T00:00:00",
          "2014-04-08T00:00:00",
          "2014-04-05T00:00:00",
          "2014-03-31T00:00:00",
          "2014-03-11T00:00:00",
          "2014-03-05T00:00:00",
          "2014-03-03T00:00:00",
          "2014-02-19T00:00:00",
          "2014-02-19T00:00:00",
          "2014-02-15T00:00:00",
          "2014-02-08T00:00:00",
          "2013-12-20T00:00:00",
          "2013-12-09T00:00:00",
          "2013-12-03T00:00:00",
          "2013-11-28T00:00:00",
          "2013-11-25T00:00:00",
          "2013-11-21T00:00:00",
          "2013-11-14T00:00:00",
          "2013-09-28T00:00:00",
          "2013-09-26T00:00:00",
          "2013-09-14T00:00:00",
          "2013-09-11T00:00:00",
          "2013-09-10T00:00:00",
          "2013-09-07T00:00:00",
          "2013-08-28T00:00:00",
          "2013-08-24T00:00:00",
          "2013-08-03T00:00:00",
          "2013-08-02T00:00:00",
          "2013-07-31T00:00:00",
          "2013-07-27T00:00:00",
          "2013-07-22T00:00:00",
          "2013-07-13T00:00:00",
          "2013-07-06T00:00:00",
          "2013-07-05T00:00:00",
          "2013-06-29T00:00:00",
          "2013-06-29T00:00:00",
          "2013-06-28T00:00:00",
          "2013-06-28T00:00:00",
          "2013-06-22T00:00:00",
          "2013-06-15T00:00:00",
          "2013-06-12T00:00:00",
          "2013-05-30T00:00:00",
          "2013-04-26T00:00:00",
          "2013-04-19T00:00:00",
          "2013-04-15T00:00:00",
          "2013-04-13T00:00:00",
          "2013-04-12T00:00:00",
          "2013-04-05T00:00:00",
          "2013-04-03T00:00:00",
          "2013-03-27T00:00:00",
          "2013-03-18T00:00:00",
          "2013-03-09T00:00:00",
          "2013-02-28T00:00:00",
          "2013-02-01T00:00:00",
          "2013-01-09T00:00:00",
          "2012-12-15T00:00:00",
          "2012-12-06T00:00:00",
          "2012-11-19T00:00:00",
          "2012-11-16T00:00:00",
          "2012-11-14T00:00:00",
          "2012-11-13T00:00:00",
          "2012-11-12T00:00:00",
          "2012-10-31T00:00:00",
          "2012-10-30T00:00:00",
          "2012-10-26T00:00:00",
          "2012-10-16T00:00:00",
          "2012-10-06T00:00:00",
          "2012-10-04T00:00:00",
          "2012-09-28T00:00:00",
          "2012-09-26T00:00:00",
          "2012-09-22T00:00:00",
          "2012-09-15T00:00:00",
          "2012-08-22T00:00:00",
          "2012-08-21T00:00:00",
          "2012-08-07T00:00:00",
          "2012-08-04T00:00:00",
          "2012-07-28T00:00:00",
          "2012-07-21T00:00:00",
          "2012-07-03T00:00:00",
          "2012-06-27T00:00:00",
          "2012-06-01T00:00:00",
          "2012-05-18T00:00:00",
          "2012-05-11T00:00:00",
          "2012-05-05T00:00:00",
          "2012-04-16T00:00:00",
          "2012-04-13T00:00:00",
          "2012-03-31T00:00:00",
          "2012-03-30T00:00:00",
          "2012-03-16T00:00:00",
          "2012-02-25T00:00:00",
          "2012-02-20T00:00:00",
          "2012-02-10T00:00:00",
          "2011-12-22T00:00:00",
          "2011-12-20T00:00:00",
          "2011-12-13T00:00:00",
          "2011-12-06T00:00:00",
          "2011-11-10T00:00:00",
          "2011-09-14T00:00:00",
          "2011-07-05T00:00:00",
          "2011-07-02T00:00:00",
          "2011-06-10T00:00:00",
          "2011-06-03T00:00:00",
          "2011-05-17T00:00:00",
          "2011-05-14T00:00:00",
          "2011-05-13T00:00:00",
          "2011-05-03T00:00:00",
          "2011-03-25T00:00:00",
          "2011-02-09T00:00:00",
          "2011-01-14T00:00:00",
          "2010-11-02T00:00:00",
          "2010-10-19T00:00:00",
          "2010-09-12T00:00:00",
          "2010-08-23T00:00:00",
          "2010-07-29T00:00:00",
          "2010-07-08T00:00:00",
          "2010-06-21T00:00:00",
          "2010-05-15T00:00:00",
          "2010-02-12T00:00:00",
          "2010-02-08T00:00:00",
          "2010-02-08T00:00:00",
          "2009-12-19T00:00:00",
          "2009-12-19T00:00:00",
          "2009-10-26T00:00:00",
          "2009-10-23T00:00:00",
          "2009-10-23T00:00:00",
          "2009-09-08T00:00:00",
          "2009-09-05T00:00:00",
          "2009-07-09T00:00:00",
          "2009-06-19T00:00:00",
          "2009-03-16T00:00:00",
          "2009-03-08T00:00:00",
          "2009-01-30T00:00:00",
          "2008-12-13T00:00:00",
          "2008-08-04T00:00:00",
          "2008-08-02T00:00:00",
          "2008-07-16T00:00:00",
          "2008-07-16T00:00:00",
          "2008-07-03T00:00:00",
          "2008-05-12T00:00:00",
          "2008-04-09T00:00:00",
          "2008-04-09T00:00:00",
          "2008-04-09T00:00:00",
          "2007-12-08T00:00:00",
          "2005-10-13T00:00:00",
          "2011-08-23T00:00:00",
          "2011-03-17T00:00:00",
          "2010-02-15T00:00:00",
          "2009-10-03T00:00:00",
          "2009-03-20T00:00:00",
          "2022-04-19T00:00:00",
          "2022-04-14T00:00:00",
          "2022-04-09T00:00:00",
          "2022-04-09T00:00:00",
          "2022-03-08T00:00:00",
          "2022-03-04T00:00:00",
          "2022-02-01T00:00:00",
          "2022-01-27T00:00:00",
          "2022-01-25T00:00:00",
          "2022-01-17T00:00:00",
          "2021-12-18T00:00:00",
          "2021-11-29T00:00:00",
          "2021-11-25T00:00:00",
          "2021-10-26T00:00:00",
          "2021-10-23T00:00:00",
          "2021-10-20T00:00:00",
          "2021-10-19T00:00:00",
          "2021-10-05T00:00:00",
          "2021-08-17T00:00:00",
          "2021-08-12T00:00:00",
          "2021-07-23T00:00:00",
          "2021-07-20T00:00:00",
          "2021-07-05T00:00:00",
          "2021-06-04T00:00:00",
          "2021-06-03T00:00:00",
          "2021-05-29T00:00:00",
          "2021-04-30T00:00:00",
          "2021-04-09T00:00:00",
          "2021-02-08T00:00:00",
          "2021-01-20T00:00:00",
          "2020-12-01T00:00:00",
          "2020-11-23T00:00:00",
          "2020-11-12T00:00:00",
          "2020-10-28T00:00:00",
          "2020-10-07T00:00:00",
          "2020-09-10T00:00:00",
          "2020-05-08T00:00:00",
          "2020-03-14T00:00:00",
          "2020-02-14T00:00:00",
          "2019-11-28T00:00:00",
          "2019-11-19T00:00:00",
          "2019-09-27T00:00:00",
          "2019-07-15T00:00:00",
          "2019-07-10T00:00:00",
          "2019-06-07T00:00:00",
          "2019-05-07T00:00:00",
          "2019-03-26T00:00:00",
          "2018-12-08T00:00:00",
          "2018-12-08T00:00:00",
          "2018-12-06T00:00:00",
          "2018-10-26T00:00:00",
          "2018-09-03T00:00:00",
          "2018-07-28T00:00:00",
          "2018-06-22T00:00:00",
          "2018-02-28T00:00:00",
          "2018-02-17T00:00:00",
          "2018-02-02T00:00:00",
          "2017-11-11T00:00:00",
          "2017-10-31T00:00:00",
          "2017-10-05T00:00:00",
          "2017-07-12T00:00:00",
          "2016-12-22T00:00:00",
          "2016-12-12T00:00:00",
          "2016-11-03T00:00:00",
          "2016-10-27T00:00:00",
          "2016-08-15T00:00:00",
          "2016-08-03T00:00:00",
          "2016-06-09T00:00:00",
          "2016-04-27T00:00:00",
          "2016-02-22T00:00:00"
         ],
         "xaxis": "x",
         "yaxis": "y"
        }
       ],
       "layout": {
        "barmode": "relative",
        "legend": {
         "tracegroupgap": 0
        },
        "margin": {
         "t": 60
        },
        "template": {
         "data": {
          "bar": [
           {
            "error_x": {
             "color": "#2a3f5f"
            },
            "error_y": {
             "color": "#2a3f5f"
            },
            "marker": {
             "line": {
              "color": "#E5ECF6",
              "width": 0.5
             },
             "pattern": {
              "fillmode": "overlay",
              "size": 10,
              "solidity": 0.2
             }
            },
            "type": "bar"
           }
          ],
          "barpolar": [
           {
            "marker": {
             "line": {
              "color": "#E5ECF6",
              "width": 0.5
             },
             "pattern": {
              "fillmode": "overlay",
              "size": 10,
              "solidity": 0.2
             }
            },
            "type": "barpolar"
           }
          ],
          "carpet": [
           {
            "aaxis": {
             "endlinecolor": "#2a3f5f",
             "gridcolor": "white",
             "linecolor": "white",
             "minorgridcolor": "white",
             "startlinecolor": "#2a3f5f"
            },
            "baxis": {
             "endlinecolor": "#2a3f5f",
             "gridcolor": "white",
             "linecolor": "white",
             "minorgridcolor": "white",
             "startlinecolor": "#2a3f5f"
            },
            "type": "carpet"
           }
          ],
          "choropleth": [
           {
            "colorbar": {
             "outlinewidth": 0,
             "ticks": ""
            },
            "type": "choropleth"
           }
          ],
          "contour": [
           {
            "colorbar": {
             "outlinewidth": 0,
             "ticks": ""
            },
            "colorscale": [
             [
              0,
              "#0d0887"
             ],
             [
              0.1111111111111111,
              "#46039f"
             ],
             [
              0.2222222222222222,
              "#7201a8"
             ],
             [
              0.3333333333333333,
              "#9c179e"
             ],
             [
              0.4444444444444444,
              "#bd3786"
             ],
             [
              0.5555555555555556,
              "#d8576b"
             ],
             [
              0.6666666666666666,
              "#ed7953"
             ],
             [
              0.7777777777777778,
              "#fb9f3a"
             ],
             [
              0.8888888888888888,
              "#fdca26"
             ],
             [
              1,
              "#f0f921"
             ]
            ],
            "type": "contour"
           }
          ],
          "contourcarpet": [
           {
            "colorbar": {
             "outlinewidth": 0,
             "ticks": ""
            },
            "type": "contourcarpet"
           }
          ],
          "heatmap": [
           {
            "colorbar": {
             "outlinewidth": 0,
             "ticks": ""
            },
            "colorscale": [
             [
              0,
              "#0d0887"
             ],
             [
              0.1111111111111111,
              "#46039f"
             ],
             [
              0.2222222222222222,
              "#7201a8"
             ],
             [
              0.3333333333333333,
              "#9c179e"
             ],
             [
              0.4444444444444444,
              "#bd3786"
             ],
             [
              0.5555555555555556,
              "#d8576b"
             ],
             [
              0.6666666666666666,
              "#ed7953"
             ],
             [
              0.7777777777777778,
              "#fb9f3a"
             ],
             [
              0.8888888888888888,
              "#fdca26"
             ],
             [
              1,
              "#f0f921"
             ]
            ],
            "type": "heatmap"
           }
          ],
          "heatmapgl": [
           {
            "colorbar": {
             "outlinewidth": 0,
             "ticks": ""
            },
            "colorscale": [
             [
              0,
              "#0d0887"
             ],
             [
              0.1111111111111111,
              "#46039f"
             ],
             [
              0.2222222222222222,
              "#7201a8"
             ],
             [
              0.3333333333333333,
              "#9c179e"
             ],
             [
              0.4444444444444444,
              "#bd3786"
             ],
             [
              0.5555555555555556,
              "#d8576b"
             ],
             [
              0.6666666666666666,
              "#ed7953"
             ],
             [
              0.7777777777777778,
              "#fb9f3a"
             ],
             [
              0.8888888888888888,
              "#fdca26"
             ],
             [
              1,
              "#f0f921"
             ]
            ],
            "type": "heatmapgl"
           }
          ],
          "histogram": [
           {
            "marker": {
             "pattern": {
              "fillmode": "overlay",
              "size": 10,
              "solidity": 0.2
             }
            },
            "type": "histogram"
           }
          ],
          "histogram2d": [
           {
            "colorbar": {
             "outlinewidth": 0,
             "ticks": ""
            },
            "colorscale": [
             [
              0,
              "#0d0887"
             ],
             [
              0.1111111111111111,
              "#46039f"
             ],
             [
              0.2222222222222222,
              "#7201a8"
             ],
             [
              0.3333333333333333,
              "#9c179e"
             ],
             [
              0.4444444444444444,
              "#bd3786"
             ],
             [
              0.5555555555555556,
              "#d8576b"
             ],
             [
              0.6666666666666666,
              "#ed7953"
             ],
             [
              0.7777777777777778,
              "#fb9f3a"
             ],
             [
              0.8888888888888888,
              "#fdca26"
             ],
             [
              1,
              "#f0f921"
             ]
            ],
            "type": "histogram2d"
           }
          ],
          "histogram2dcontour": [
           {
            "colorbar": {
             "outlinewidth": 0,
             "ticks": ""
            },
            "colorscale": [
             [
              0,
              "#0d0887"
             ],
             [
              0.1111111111111111,
              "#46039f"
             ],
             [
              0.2222222222222222,
              "#7201a8"
             ],
             [
              0.3333333333333333,
              "#9c179e"
             ],
             [
              0.4444444444444444,
              "#bd3786"
             ],
             [
              0.5555555555555556,
              "#d8576b"
             ],
             [
              0.6666666666666666,
              "#ed7953"
             ],
             [
              0.7777777777777778,
              "#fb9f3a"
             ],
             [
              0.8888888888888888,
              "#fdca26"
             ],
             [
              1,
              "#f0f921"
             ]
            ],
            "type": "histogram2dcontour"
           }
          ],
          "mesh3d": [
           {
            "colorbar": {
             "outlinewidth": 0,
             "ticks": ""
            },
            "type": "mesh3d"
           }
          ],
          "parcoords": [
           {
            "line": {
             "colorbar": {
              "outlinewidth": 0,
              "ticks": ""
             }
            },
            "type": "parcoords"
           }
          ],
          "pie": [
           {
            "automargin": true,
            "type": "pie"
           }
          ],
          "scatter": [
           {
            "marker": {
             "colorbar": {
              "outlinewidth": 0,
              "ticks": ""
             }
            },
            "type": "scatter"
           }
          ],
          "scatter3d": [
           {
            "line": {
             "colorbar": {
              "outlinewidth": 0,
              "ticks": ""
             }
            },
            "marker": {
             "colorbar": {
              "outlinewidth": 0,
              "ticks": ""
             }
            },
            "type": "scatter3d"
           }
          ],
          "scattercarpet": [
           {
            "marker": {
             "colorbar": {
              "outlinewidth": 0,
              "ticks": ""
             }
            },
            "type": "scattercarpet"
           }
          ],
          "scattergeo": [
           {
            "marker": {
             "colorbar": {
              "outlinewidth": 0,
              "ticks": ""
             }
            },
            "type": "scattergeo"
           }
          ],
          "scattergl": [
           {
            "marker": {
             "colorbar": {
              "outlinewidth": 0,
              "ticks": ""
             }
            },
            "type": "scattergl"
           }
          ],
          "scattermapbox": [
           {
            "marker": {
             "colorbar": {
              "outlinewidth": 0,
              "ticks": ""
             }
            },
            "type": "scattermapbox"
           }
          ],
          "scatterpolar": [
           {
            "marker": {
             "colorbar": {
              "outlinewidth": 0,
              "ticks": ""
             }
            },
            "type": "scatterpolar"
           }
          ],
          "scatterpolargl": [
           {
            "marker": {
             "colorbar": {
              "outlinewidth": 0,
              "ticks": ""
             }
            },
            "type": "scatterpolargl"
           }
          ],
          "scatterternary": [
           {
            "marker": {
             "colorbar": {
              "outlinewidth": 0,
              "ticks": ""
             }
            },
            "type": "scatterternary"
           }
          ],
          "surface": [
           {
            "colorbar": {
             "outlinewidth": 0,
             "ticks": ""
            },
            "colorscale": [
             [
              0,
              "#0d0887"
             ],
             [
              0.1111111111111111,
              "#46039f"
             ],
             [
              0.2222222222222222,
              "#7201a8"
             ],
             [
              0.3333333333333333,
              "#9c179e"
             ],
             [
              0.4444444444444444,
              "#bd3786"
             ],
             [
              0.5555555555555556,
              "#d8576b"
             ],
             [
              0.6666666666666666,
              "#ed7953"
             ],
             [
              0.7777777777777778,
              "#fb9f3a"
             ],
             [
              0.8888888888888888,
              "#fdca26"
             ],
             [
              1,
              "#f0f921"
             ]
            ],
            "type": "surface"
           }
          ],
          "table": [
           {
            "cells": {
             "fill": {
              "color": "#EBF0F8"
             },
             "line": {
              "color": "white"
             }
            },
            "header": {
             "fill": {
              "color": "#C8D4E3"
             },
             "line": {
              "color": "white"
             }
            },
            "type": "table"
           }
          ]
         },
         "layout": {
          "annotationdefaults": {
           "arrowcolor": "#2a3f5f",
           "arrowhead": 0,
           "arrowwidth": 1
          },
          "autotypenumbers": "strict",
          "coloraxis": {
           "colorbar": {
            "outlinewidth": 0,
            "ticks": ""
           }
          },
          "colorscale": {
           "diverging": [
            [
             0,
             "#8e0152"
            ],
            [
             0.1,
             "#c51b7d"
            ],
            [
             0.2,
             "#de77ae"
            ],
            [
             0.3,
             "#f1b6da"
            ],
            [
             0.4,
             "#fde0ef"
            ],
            [
             0.5,
             "#f7f7f7"
            ],
            [
             0.6,
             "#e6f5d0"
            ],
            [
             0.7,
             "#b8e186"
            ],
            [
             0.8,
             "#7fbc41"
            ],
            [
             0.9,
             "#4d9221"
            ],
            [
             1,
             "#276419"
            ]
           ],
           "sequential": [
            [
             0,
             "#0d0887"
            ],
            [
             0.1111111111111111,
             "#46039f"
            ],
            [
             0.2222222222222222,
             "#7201a8"
            ],
            [
             0.3333333333333333,
             "#9c179e"
            ],
            [
             0.4444444444444444,
             "#bd3786"
            ],
            [
             0.5555555555555556,
             "#d8576b"
            ],
            [
             0.6666666666666666,
             "#ed7953"
            ],
            [
             0.7777777777777778,
             "#fb9f3a"
            ],
            [
             0.8888888888888888,
             "#fdca26"
            ],
            [
             1,
             "#f0f921"
            ]
           ],
           "sequentialminus": [
            [
             0,
             "#0d0887"
            ],
            [
             0.1111111111111111,
             "#46039f"
            ],
            [
             0.2222222222222222,
             "#7201a8"
            ],
            [
             0.3333333333333333,
             "#9c179e"
            ],
            [
             0.4444444444444444,
             "#bd3786"
            ],
            [
             0.5555555555555556,
             "#d8576b"
            ],
            [
             0.6666666666666666,
             "#ed7953"
            ],
            [
             0.7777777777777778,
             "#fb9f3a"
            ],
            [
             0.8888888888888888,
             "#fdca26"
            ],
            [
             1,
             "#f0f921"
            ]
           ]
          },
          "colorway": [
           "#636efa",
           "#EF553B",
           "#00cc96",
           "#ab63fa",
           "#FFA15A",
           "#19d3f3",
           "#FF6692",
           "#B6E880",
           "#FF97FF",
           "#FECB52"
          ],
          "font": {
           "color": "#2a3f5f"
          },
          "geo": {
           "bgcolor": "white",
           "lakecolor": "white",
           "landcolor": "#E5ECF6",
           "showlakes": true,
           "showland": true,
           "subunitcolor": "white"
          },
          "hoverlabel": {
           "align": "left"
          },
          "hovermode": "closest",
          "mapbox": {
           "style": "light"
          },
          "paper_bgcolor": "white",
          "plot_bgcolor": "#E5ECF6",
          "polar": {
           "angularaxis": {
            "gridcolor": "white",
            "linecolor": "white",
            "ticks": ""
           },
           "bgcolor": "#E5ECF6",
           "radialaxis": {
            "gridcolor": "white",
            "linecolor": "white",
            "ticks": ""
           }
          },
          "scene": {
           "xaxis": {
            "backgroundcolor": "#E5ECF6",
            "gridcolor": "white",
            "gridwidth": 2,
            "linecolor": "white",
            "showbackground": true,
            "ticks": "",
            "zerolinecolor": "white"
           },
           "yaxis": {
            "backgroundcolor": "#E5ECF6",
            "gridcolor": "white",
            "gridwidth": 2,
            "linecolor": "white",
            "showbackground": true,
            "ticks": "",
            "zerolinecolor": "white"
           },
           "zaxis": {
            "backgroundcolor": "#E5ECF6",
            "gridcolor": "white",
            "gridwidth": 2,
            "linecolor": "white",
            "showbackground": true,
            "ticks": "",
            "zerolinecolor": "white"
           }
          },
          "shapedefaults": {
           "line": {
            "color": "#2a3f5f"
           }
          },
          "ternary": {
           "aaxis": {
            "gridcolor": "white",
            "linecolor": "white",
            "ticks": ""
           },
           "baxis": {
            "gridcolor": "white",
            "linecolor": "white",
            "ticks": ""
           },
           "bgcolor": "#E5ECF6",
           "caxis": {
            "gridcolor": "white",
            "linecolor": "white",
            "ticks": ""
           }
          },
          "title": {
           "x": 0.05
          },
          "xaxis": {
           "automargin": true,
           "gridcolor": "white",
           "linecolor": "white",
           "ticks": "",
           "title": {
            "standoff": 15
           },
           "zerolinecolor": "white",
           "zerolinewidth": 2
          },
          "yaxis": {
           "automargin": true,
           "gridcolor": "white",
           "linecolor": "white",
           "ticks": "",
           "title": {
            "standoff": 15
           },
           "zerolinecolor": "white",
           "zerolinewidth": 2
          }
         }
        },
        "xaxis": {
         "anchor": "y",
         "domain": [
          0,
          1
         ],
         "title": {
          "text": "x"
         }
        },
        "yaxis": {
         "anchor": "x",
         "domain": [
          0,
          1
         ],
         "title": {
          "text": "count"
         }
        }
       }
      },
      "text/html": [
       "<div>                            <div id=\"c2908aca-4af4-4953-9e0f-286cc3a6689b\" class=\"plotly-graph-div\" style=\"height:525px; width:100%;\"></div>            <script type=\"text/javascript\">                require([\"plotly\"], function(Plotly) {                    window.PLOTLYENV=window.PLOTLYENV || {};                                    if (document.getElementById(\"c2908aca-4af4-4953-9e0f-286cc3a6689b\")) {                    Plotly.newPlot(                        \"c2908aca-4af4-4953-9e0f-286cc3a6689b\",                        [{\"alignmentgroup\":\"True\",\"bingroup\":\"x\",\"hovertemplate\":\"x=%{x}<br>count=%{y}<extra></extra>\",\"legendgroup\":\"\",\"marker\":{\"color\":\"#636efa\",\"pattern\":{\"shape\":\"\"}},\"name\":\"\",\"offsetgroup\":\"\",\"orientation\":\"v\",\"showlegend\":false,\"x\":[\"2022-05-20T00:00:00\",\"2022-05-17T00:00:00\",\"2022-05-14T00:00:00\",\"2022-05-08T00:00:00\",\"2022-05-07T00:00:00\",\"2022-04-29T00:00:00\",\"2022-04-14T00:00:00\",\"2022-04-11T00:00:00\",\"2022-04-09T00:00:00\",\"2022-04-09T00:00:00\",\"2022-04-09T00:00:00\",\"2022-04-02T00:00:00\",\"2022-03-26T00:00:00\",\"2022-03-26T00:00:00\",\"2022-03-18T00:00:00\",\"2022-03-17T00:00:00\",\"2022-03-05T00:00:00\",\"2022-03-03T00:00:00\",\"2022-02-26T00:00:00\",\"2022-02-26T00:00:00\",\"2022-02-05T00:00:00\",\"2022-02-04T00:00:00\",\"2021-12-17T00:00:00\",\"2021-12-11T00:00:00\",\"2021-12-08T00:00:00\",\"2021-11-30T00:00:00\",\"2021-11-29T00:00:00\",\"2021-11-27T00:00:00\",\"2021-11-26T00:00:00\",\"2021-11-17T00:00:00\",\"2021-11-11T00:00:00\",\"2021-11-05T00:00:00\",\"2021-11-04T00:00:00\",\"2021-11-03T00:00:00\",\"2021-10-28T00:00:00\",\"2021-10-27T00:00:00\",\"2021-10-22T00:00:00\",\"2021-10-15T00:00:00\",\"2021-10-13T00:00:00\",\"2021-09-13T00:00:00\",\"2021-08-30T00:00:00\",\"2021-08-27T00:00:00\",\"2021-08-07T00:00:00\",\"2021-08-03T00:00:00\",\"2021-07-30T00:00:00\",\"2021-07-27T00:00:00\",\"2021-07-24T00:00:00\",\"2021-07-15T00:00:00\",\"2021-07-01T00:00:00\",\"2021-07-01T00:00:00\",\"2021-07-01T00:00:00\",\"2021-07-01T00:00:00\",\"2021-06-29T00:00:00\",\"2021-06-26T00:00:00\",\"2021-06-26T00:00:00\",\"2021-06-16T00:00:00\",\"2021-06-12T00:00:00\",\"2021-06-09T00:00:00\",\"2021-05-29T00:00:00\",\"2021-05-22T00:00:00\",\"2021-05-15T00:00:00\",\"2021-05-08T00:00:00\",\"2021-04-24T00:00:00\",\"2021-04-03T00:00:00\",\"2021-03-20T00:00:00\",\"2021-03-19T00:00:00\",\"2021-03-18T00:00:00\",\"2021-03-15T00:00:00\",\"2021-03-13T00:00:00\",\"2021-03-13T00:00:00\",\"2021-03-11T00:00:00\",\"2021-02-27T00:00:00\",\"2021-02-20T00:00:00\",\"2021-02-13T00:00:00\",\"2021-02-08T00:00:00\",\"2021-02-06T00:00:00\",\"2021-01-21T00:00:00\",\"2020-12-19T00:00:00\",\"2020-12-12T00:00:00\",\"2020-12-08T00:00:00\",\"2020-12-05T00:00:00\",\"2020-12-02T00:00:00\",\"2020-11-18T00:00:00\",\"2020-11-17T00:00:00\",\"2020-11-16T00:00:00\",\"2020-11-08T00:00:00\",\"2020-11-07T00:00:00\",\"2020-11-03T00:00:00\",\"2020-10-25T00:00:00\",\"2020-10-24T00:00:00\",\"2020-10-17T00:00:00\",\"2020-10-17T00:00:00\",\"2020-10-17T00:00:00\",\"2020-10-14T00:00:00\",\"2020-10-13T00:00:00\",\"2020-10-10T00:00:00\",\"2020-10-06T00:00:00\",\"2020-10-03T00:00:00\",\"2020-09-20T00:00:00\",\"2020-09-18T00:00:00\",\"2020-09-14T00:00:00\",\"2020-09-05T00:00:00\",\"2020-08-29T00:00:00\",\"2020-07-25T00:00:00\",\"2020-07-11T00:00:00\",\"2020-06-20T00:00:00\",\"2020-06-10T00:00:00\",\"2020-05-30T00:00:00\",\"2020-05-23T00:00:00\",\"2020-05-22T00:00:00\",\"2020-05-02T00:00:00\",\"2020-04-29T00:00:00\",\"2020-03-19T00:00:00\",\"2020-03-10T00:00:00\",\"2020-03-07T00:00:00\",\"2020-03-07T00:00:00\",\"2020-02-22T00:00:00\",\"2020-02-17T00:00:00\",\"2020-02-15T00:00:00\",\"2020-02-10T00:00:00\",\"2020-01-06T00:00:00\",\"2019-12-14T00:00:00\",\"2019-12-10T00:00:00\",\"2019-12-07T00:00:00\",\"2019-12-03T00:00:00\",\"2019-11-30T00:00:00\",\"2019-11-30T00:00:00\",\"2019-11-30T00:00:00\",\"2019-11-16T00:00:00\",\"2019-11-13T00:00:00\",\"2019-11-09T00:00:00\",\"2019-10-28T00:00:00\",\"2019-10-05T00:00:00\",\"2019-09-28T00:00:00\",\"2019-09-06T00:00:00\",\"2019-09-06T00:00:00\",\"2019-09-03T00:00:00\",\"2019-08-24T00:00:00\",\"2019-08-23T00:00:00\",\"2019-08-01T00:00:00\",\"2019-07-31T00:00:00\",\"2019-07-27T00:00:00\",\"2019-07-26T00:00:00\",\"2019-07-20T00:00:00\",\"2019-07-13T00:00:00\",\"2019-07-12T00:00:00\",\"2019-06-21T00:00:00\",\"2019-06-04T00:00:00\",\"2019-05-20T00:00:00\",\"2019-05-01T00:00:00\",\"2019-04-18T00:00:00\",\"2019-04-04T00:00:00\",\"2019-03-25T00:00:00\",\"2019-03-22T00:00:00\",\"2019-03-20T00:00:00\",\"2019-03-07T00:00:00\",\"2019-02-19T00:00:00\",\"2019-02-11T00:00:00\",\"2019-01-21T00:00:00\",\"2019-01-09T00:00:00\",\"2019-01-07T00:00:00\",\"2018-12-05T00:00:00\",\"2018-11-30T00:00:00\",\"2018-11-16T00:00:00\",\"2018-11-10T00:00:00\",\"2018-11-05T00:00:00\",\"2018-11-03T00:00:00\",\"2018-10-29T00:00:00\",\"2018-10-27T00:00:00\",\"2018-10-25T00:00:00\",\"2018-10-18T00:00:00\",\"2018-09-28T00:00:00\",\"2018-09-21T00:00:00\",\"2018-09-08T00:00:00\",\"2018-08-02T00:00:00\",\"2018-07-28T00:00:00\",\"2018-07-07T00:00:00\",\"2018-06-25T00:00:00\",\"2018-06-19T00:00:00\",\"2018-05-26T00:00:00\",\"2018-05-26T00:00:00\",\"2018-05-12T00:00:00\",\"2018-05-01T00:00:00\",\"2018-04-28T00:00:00\",\"2018-04-28T00:00:00\",\"2018-04-06T00:00:00\",\"2018-03-31T00:00:00\",\"2018-03-27T00:00:00\",\"2018-03-24T00:00:00\",\"2018-03-20T00:00:00\",\"2018-03-15T00:00:00\",\"2018-03-10T00:00:00\",\"2018-02-24T00:00:00\",\"2018-02-24T00:00:00\",\"2018-02-05T00:00:00\",\"2018-02-03T00:00:00\",\"2018-01-28T00:00:00\",\"2017-12-21T00:00:00\",\"2017-12-16T00:00:00\",\"2017-12-05T00:00:00\",\"2017-12-02T00:00:00\",\"2017-12-02T00:00:00\",\"2017-11-25T00:00:00\",\"2017-11-18T00:00:00\",\"2017-11-17T00:00:00\",\"2017-11-11T00:00:00\",\"2017-10-31T00:00:00\",\"2017-10-28T00:00:00\",\"2017-10-26T00:00:00\",\"2017-10-20T00:00:00\",\"2017-10-17T00:00:00\",\"2017-09-23T00:00:00\",\"2017-09-04T00:00:00\",\"2017-09-02T00:00:00\",\"2017-09-02T00:00:00\",\"2017-08-12T00:00:00\",\"2017-08-05T00:00:00\",\"2017-07-22T00:00:00\",\"2017-07-22T00:00:00\",\"2017-07-08T00:00:00\",\"2017-07-07T00:00:00\",\"2017-05-27T00:00:00\",\"2017-05-18T00:00:00\",\"2017-05-15T00:00:00\",\"2017-05-12T00:00:00\",\"2017-04-29T00:00:00\",\"2017-04-29T00:00:00\",\"2017-04-06T00:00:00\",\"2017-04-01T00:00:00\",\"2017-03-28T00:00:00\",\"2017-03-25T00:00:00\",\"2017-03-25T00:00:00\",\"2017-02-24T00:00:00\",\"2017-02-23T00:00:00\",\"2017-02-18T00:00:00\",\"2017-02-14T00:00:00\",\"2017-02-13T00:00:00\",\"2017-02-11T00:00:00\",\"2017-02-08T00:00:00\",\"2017-02-06T00:00:00\",\"2017-02-04T00:00:00\",\"2016-12-10T00:00:00\",\"2016-12-10T00:00:00\",\"2016-12-05T00:00:00\",\"2016-11-21T00:00:00\",\"2016-11-07T00:00:00\",\"2016-11-04T00:00:00\",\"2016-11-02T00:00:00\",\"2016-11-02T00:00:00\",\"2016-10-18T00:00:00\",\"2016-10-14T00:00:00\",\"2016-10-06T00:00:00\",\"2016-09-10T00:00:00\",\"2016-09-05T00:00:00\",\"2016-08-16T00:00:00\",\"2016-08-02T00:00:00\",\"2016-07-16T00:00:00\",\"2016-07-09T00:00:00\",\"2016-07-02T00:00:00\",\"2016-06-25T00:00:00\",\"2016-06-25T00:00:00\",\"2016-06-20T00:00:00\",\"2016-06-20T00:00:00\",\"2016-06-10T00:00:00\",\"2016-06-10T00:00:00\",\"2016-06-04T00:00:00\",\"2016-05-21T00:00:00\",\"2016-05-14T00:00:00\",\"2016-05-11T00:00:00\",\"2016-04-28T00:00:00\",\"2016-04-18T00:00:00\",\"2016-04-09T00:00:00\",\"2016-03-21T00:00:00\",\"2016-03-13T00:00:00\",\"2016-03-12T00:00:00\",\"2016-03-12T00:00:00\",\"2016-03-10T00:00:00\",\"2016-03-07T00:00:00\",\"2016-03-03T00:00:00\",\"2016-02-25T00:00:00\",\"2016-02-22T00:00:00\",\"2016-02-19T00:00:00\",\"2016-02-17T00:00:00\",\"2016-02-06T00:00:00\",\"2016-02-05T00:00:00\",\"2016-02-04T00:00:00\",\"2016-02-01T00:00:00\",\"2016-01-30T00:00:00\",\"2016-01-28T00:00:00\",\"2016-01-22T00:00:00\",\"2015-12-24T00:00:00\",\"2015-12-12T00:00:00\",\"2015-12-07T00:00:00\",\"2015-12-02T00:00:00\",\"2015-11-27T00:00:00\",\"2015-11-21T00:00:00\",\"2015-11-20T00:00:00\",\"2015-11-15T00:00:00\",\"2015-11-12T00:00:00\",\"2015-11-02T00:00:00\",\"2015-10-26T00:00:00\",\"2015-10-14T00:00:00\",\"2015-09-26T00:00:00\",\"2015-09-21T00:00:00\",\"2015-09-19T00:00:00\",\"2015-08-29T00:00:00\",\"2015-08-17T00:00:00\",\"2015-08-15T00:00:00\",\"2015-08-08T00:00:00\",\"2015-08-03T00:00:00\",\"2015-07-11T00:00:00\",\"2015-06-29T00:00:00\",\"2015-05-09T00:00:00\",\"2015-04-27T00:00:00\",\"2015-03-14T00:00:00\",\"2015-02-28T00:00:00\",\"2014-12-11T00:00:00\",\"2014-11-26T00:00:00\",\"2014-11-22T00:00:00\",\"2014-11-15T00:00:00\",\"2014-07-02T00:00:00\",\"2014-06-14T00:00:00\",\"2014-05-31T00:00:00\",\"2014-04-16T00:00:00\",\"2014-03-14T00:00:00\",\"2014-03-06T00:00:00\",\"2014-02-22T00:00:00\",\"2013-12-21T00:00:00\",\"2013-11-27T00:00:00\",\"2013-09-11T00:00:00\",\"2012-11-21T00:00:00\",\"2021-12-22T00:00:00\",\"2021-12-17T00:00:00\",\"2021-11-29T00:00:00\",\"2021-11-26T00:00:00\",\"2021-10-14T00:00:00\",\"2021-08-25T00:00:00\",\"2021-07-30T00:00:00\",\"2021-02-22T00:00:00\",\"2021-01-15T00:00:00\",\"2021-01-15T00:00:00\",\"2020-12-09T00:00:00\",\"2020-12-08T00:00:00\",\"2020-11-27T00:00:00\",\"2020-11-26T00:00:00\",\"2020-11-04T00:00:00\",\"2020-10-14T00:00:00\",\"2020-08-07T00:00:00\",\"2020-08-04T00:00:00\",\"2019-12-13T00:00:00\",\"2019-11-15T00:00:00\",\"2019-10-04T00:00:00\",\"2019-09-13T00:00:00\",\"2019-07-31T00:00:00\",\"2019-07-31T00:00:00\",\"2019-07-11T00:00:00\",\"2019-06-13T00:00:00\",\"2019-02-08T00:00:00\",\"2018-07-20T00:00:00\",\"2018-06-08T00:00:00\",\"2018-06-07T00:00:00\",\"2018-04-21T00:00:00\",\"2017-12-05T00:00:00\",\"2017-05-08T00:00:00\",\"2017-05-04T00:00:00\",\"2017-03-06T00:00:00\",\"2017-02-23T00:00:00\",\"2016-10-14T00:00:00\",\"2016-09-10T00:00:00\",\"2016-07-11T00:00:00\",\"2016-06-25T00:00:00\",\"2016-04-28T00:00:00\",\"2016-03-26T00:00:00\",\"2016-02-12T00:00:00\",\"2015-11-23T00:00:00\",\"2015-10-19T00:00:00\",\"2015-10-09T00:00:00\",\"2015-09-19T00:00:00\",\"2015-07-31T00:00:00\",\"2015-07-24T00:00:00\",\"2015-07-18T00:00:00\",\"2015-07-18T00:00:00\",\"2015-07-11T00:00:00\",\"2015-07-11T00:00:00\",\"2015-06-23T00:00:00\",\"2015-06-20T00:00:00\",\"2015-06-14T00:00:00\",\"2015-06-13T00:00:00\",\"2015-05-25T00:00:00\",\"2015-05-20T00:00:00\",\"2015-05-08T00:00:00\",\"2015-05-04T00:00:00\",\"2015-05-02T00:00:00\",\"2015-04-18T00:00:00\",\"2015-04-15T00:00:00\",\"2015-04-14T00:00:00\",\"2015-03-30T00:00:00\",\"2015-03-17T00:00:00\",\"2015-03-14T00:00:00\",\"2015-03-07T00:00:00\",\"2015-03-07T00:00:00\",\"2015-03-07T00:00:00\",\"2015-03-06T00:00:00\",\"2015-03-03T00:00:00\",\"2015-02-07T00:00:00\",\"2015-02-05T00:00:00\",\"2014-12-22T00:00:00\",\"2014-12-10T00:00:00\",\"2014-12-08T00:00:00\",\"2014-12-04T00:00:00\",\"2014-11-29T00:00:00\",\"2014-11-26T00:00:00\",\"2014-11-22T00:00:00\",\"2014-11-17T00:00:00\",\"2014-11-15T00:00:00\",\"2014-11-15T00:00:00\",\"2014-11-12T00:00:00\",\"2014-11-07T00:00:00\",\"2014-10-29T00:00:00\",\"2014-10-14T00:00:00\",\"2014-09-06T00:00:00\",\"2014-09-03T00:00:00\",\"2014-08-22T00:00:00\",\"2014-08-07T00:00:00\",\"2014-08-02T00:00:00\",\"2014-07-22T00:00:00\",\"2014-07-07T00:00:00\",\"2014-07-03T00:00:00\",\"2014-06-27T00:00:00\",\"2014-06-14T00:00:00\",\"2014-06-14T00:00:00\",\"2014-06-08T00:00:00\",\"2014-06-04T00:00:00\",\"2014-06-04T00:00:00\",\"2014-05-31T00:00:00\",\"2014-05-31T00:00:00\",\"2014-05-24T00:00:00\",\"2014-05-22T00:00:00\",\"2014-05-02T00:00:00\",\"2014-04-14T00:00:00\",\"2014-04-08T00:00:00\",\"2014-04-05T00:00:00\",\"2014-03-31T00:00:00\",\"2014-03-11T00:00:00\",\"2014-03-05T00:00:00\",\"2014-03-03T00:00:00\",\"2014-02-19T00:00:00\",\"2014-02-19T00:00:00\",\"2014-02-15T00:00:00\",\"2014-02-08T00:00:00\",\"2013-12-20T00:00:00\",\"2013-12-09T00:00:00\",\"2013-12-03T00:00:00\",\"2013-11-28T00:00:00\",\"2013-11-25T00:00:00\",\"2013-11-21T00:00:00\",\"2013-11-14T00:00:00\",\"2013-09-28T00:00:00\",\"2013-09-26T00:00:00\",\"2013-09-14T00:00:00\",\"2013-09-11T00:00:00\",\"2013-09-10T00:00:00\",\"2013-09-07T00:00:00\",\"2013-08-28T00:00:00\",\"2013-08-24T00:00:00\",\"2013-08-03T00:00:00\",\"2013-08-02T00:00:00\",\"2013-07-31T00:00:00\",\"2013-07-27T00:00:00\",\"2013-07-22T00:00:00\",\"2013-07-13T00:00:00\",\"2013-07-06T00:00:00\",\"2013-07-05T00:00:00\",\"2013-06-29T00:00:00\",\"2013-06-29T00:00:00\",\"2013-06-28T00:00:00\",\"2013-06-28T00:00:00\",\"2013-06-22T00:00:00\",\"2013-06-15T00:00:00\",\"2013-06-12T00:00:00\",\"2013-05-30T00:00:00\",\"2013-04-26T00:00:00\",\"2013-04-19T00:00:00\",\"2013-04-15T00:00:00\",\"2013-04-13T00:00:00\",\"2013-04-12T00:00:00\",\"2013-04-05T00:00:00\",\"2013-04-03T00:00:00\",\"2013-03-27T00:00:00\",\"2013-03-18T00:00:00\",\"2013-03-09T00:00:00\",\"2013-02-28T00:00:00\",\"2013-02-01T00:00:00\",\"2013-01-09T00:00:00\",\"2012-12-15T00:00:00\",\"2012-12-06T00:00:00\",\"2012-11-19T00:00:00\",\"2012-11-16T00:00:00\",\"2012-11-14T00:00:00\",\"2012-11-13T00:00:00\",\"2012-11-12T00:00:00\",\"2012-10-31T00:00:00\",\"2012-10-30T00:00:00\",\"2012-10-26T00:00:00\",\"2012-10-16T00:00:00\",\"2012-10-06T00:00:00\",\"2012-10-04T00:00:00\",\"2012-09-28T00:00:00\",\"2012-09-26T00:00:00\",\"2012-09-22T00:00:00\",\"2012-09-15T00:00:00\",\"2012-08-22T00:00:00\",\"2012-08-21T00:00:00\",\"2012-08-07T00:00:00\",\"2012-08-04T00:00:00\",\"2012-07-28T00:00:00\",\"2012-07-21T00:00:00\",\"2012-07-03T00:00:00\",\"2012-06-27T00:00:00\",\"2012-06-01T00:00:00\",\"2012-05-18T00:00:00\",\"2012-05-11T00:00:00\",\"2012-05-05T00:00:00\",\"2012-04-16T00:00:00\",\"2012-04-13T00:00:00\",\"2012-03-31T00:00:00\",\"2012-03-30T00:00:00\",\"2012-03-16T00:00:00\",\"2012-02-25T00:00:00\",\"2012-02-20T00:00:00\",\"2012-02-10T00:00:00\",\"2011-12-22T00:00:00\",\"2011-12-20T00:00:00\",\"2011-12-13T00:00:00\",\"2011-12-06T00:00:00\",\"2011-11-10T00:00:00\",\"2011-09-14T00:00:00\",\"2011-07-05T00:00:00\",\"2011-07-02T00:00:00\",\"2011-06-10T00:00:00\",\"2011-06-03T00:00:00\",\"2011-05-17T00:00:00\",\"2011-05-14T00:00:00\",\"2011-05-13T00:00:00\",\"2011-05-03T00:00:00\",\"2011-03-25T00:00:00\",\"2011-02-09T00:00:00\",\"2011-01-14T00:00:00\",\"2010-11-02T00:00:00\",\"2010-10-19T00:00:00\",\"2010-09-12T00:00:00\",\"2010-08-23T00:00:00\",\"2010-07-29T00:00:00\",\"2010-07-08T00:00:00\",\"2010-06-21T00:00:00\",\"2010-05-15T00:00:00\",\"2010-02-12T00:00:00\",\"2010-02-08T00:00:00\",\"2010-02-08T00:00:00\",\"2009-12-19T00:00:00\",\"2009-12-19T00:00:00\",\"2009-10-26T00:00:00\",\"2009-10-23T00:00:00\",\"2009-10-23T00:00:00\",\"2009-09-08T00:00:00\",\"2009-09-05T00:00:00\",\"2009-07-09T00:00:00\",\"2009-06-19T00:00:00\",\"2009-03-16T00:00:00\",\"2009-03-08T00:00:00\",\"2009-01-30T00:00:00\",\"2008-12-13T00:00:00\",\"2008-08-04T00:00:00\",\"2008-08-02T00:00:00\",\"2008-07-16T00:00:00\",\"2008-07-16T00:00:00\",\"2008-07-03T00:00:00\",\"2008-05-12T00:00:00\",\"2008-04-09T00:00:00\",\"2008-04-09T00:00:00\",\"2008-04-09T00:00:00\",\"2007-12-08T00:00:00\",\"2005-10-13T00:00:00\",\"2011-08-23T00:00:00\",\"2011-03-17T00:00:00\",\"2010-02-15T00:00:00\",\"2009-10-03T00:00:00\",\"2009-03-20T00:00:00\",\"2022-04-19T00:00:00\",\"2022-04-14T00:00:00\",\"2022-04-09T00:00:00\",\"2022-04-09T00:00:00\",\"2022-03-08T00:00:00\",\"2022-03-04T00:00:00\",\"2022-02-01T00:00:00\",\"2022-01-27T00:00:00\",\"2022-01-25T00:00:00\",\"2022-01-17T00:00:00\",\"2021-12-18T00:00:00\",\"2021-11-29T00:00:00\",\"2021-11-25T00:00:00\",\"2021-10-26T00:00:00\",\"2021-10-23T00:00:00\",\"2021-10-20T00:00:00\",\"2021-10-19T00:00:00\",\"2021-10-05T00:00:00\",\"2021-08-17T00:00:00\",\"2021-08-12T00:00:00\",\"2021-07-23T00:00:00\",\"2021-07-20T00:00:00\",\"2021-07-05T00:00:00\",\"2021-06-04T00:00:00\",\"2021-06-03T00:00:00\",\"2021-05-29T00:00:00\",\"2021-04-30T00:00:00\",\"2021-04-09T00:00:00\",\"2021-02-08T00:00:00\",\"2021-01-20T00:00:00\",\"2020-12-01T00:00:00\",\"2020-11-23T00:00:00\",\"2020-11-12T00:00:00\",\"2020-10-28T00:00:00\",\"2020-10-07T00:00:00\",\"2020-09-10T00:00:00\",\"2020-05-08T00:00:00\",\"2020-03-14T00:00:00\",\"2020-02-14T00:00:00\",\"2019-11-28T00:00:00\",\"2019-11-19T00:00:00\",\"2019-09-27T00:00:00\",\"2019-07-15T00:00:00\",\"2019-07-10T00:00:00\",\"2019-06-07T00:00:00\",\"2019-05-07T00:00:00\",\"2019-03-26T00:00:00\",\"2018-12-08T00:00:00\",\"2018-12-08T00:00:00\",\"2018-12-06T00:00:00\",\"2018-10-26T00:00:00\",\"2018-09-03T00:00:00\",\"2018-07-28T00:00:00\",\"2018-06-22T00:00:00\",\"2018-02-28T00:00:00\",\"2018-02-17T00:00:00\",\"2018-02-02T00:00:00\",\"2017-11-11T00:00:00\",\"2017-10-31T00:00:00\",\"2017-10-05T00:00:00\",\"2017-07-12T00:00:00\",\"2016-12-22T00:00:00\",\"2016-12-12T00:00:00\",\"2016-11-03T00:00:00\",\"2016-10-27T00:00:00\",\"2016-08-15T00:00:00\",\"2016-08-03T00:00:00\",\"2016-06-09T00:00:00\",\"2016-04-27T00:00:00\",\"2016-02-22T00:00:00\"],\"xaxis\":\"x\",\"yaxis\":\"y\",\"type\":\"histogram\"}],                        {\"template\":{\"data\":{\"bar\":[{\"error_x\":{\"color\":\"#2a3f5f\"},\"error_y\":{\"color\":\"#2a3f5f\"},\"marker\":{\"line\":{\"color\":\"#E5ECF6\",\"width\":0.5},\"pattern\":{\"fillmode\":\"overlay\",\"size\":10,\"solidity\":0.2}},\"type\":\"bar\"}],\"barpolar\":[{\"marker\":{\"line\":{\"color\":\"#E5ECF6\",\"width\":0.5},\"pattern\":{\"fillmode\":\"overlay\",\"size\":10,\"solidity\":0.2}},\"type\":\"barpolar\"}],\"carpet\":[{\"aaxis\":{\"endlinecolor\":\"#2a3f5f\",\"gridcolor\":\"white\",\"linecolor\":\"white\",\"minorgridcolor\":\"white\",\"startlinecolor\":\"#2a3f5f\"},\"baxis\":{\"endlinecolor\":\"#2a3f5f\",\"gridcolor\":\"white\",\"linecolor\":\"white\",\"minorgridcolor\":\"white\",\"startlinecolor\":\"#2a3f5f\"},\"type\":\"carpet\"}],\"choropleth\":[{\"colorbar\":{\"outlinewidth\":0,\"ticks\":\"\"},\"type\":\"choropleth\"}],\"contour\":[{\"colorbar\":{\"outlinewidth\":0,\"ticks\":\"\"},\"colorscale\":[[0.0,\"#0d0887\"],[0.1111111111111111,\"#46039f\"],[0.2222222222222222,\"#7201a8\"],[0.3333333333333333,\"#9c179e\"],[0.4444444444444444,\"#bd3786\"],[0.5555555555555556,\"#d8576b\"],[0.6666666666666666,\"#ed7953\"],[0.7777777777777778,\"#fb9f3a\"],[0.8888888888888888,\"#fdca26\"],[1.0,\"#f0f921\"]],\"type\":\"contour\"}],\"contourcarpet\":[{\"colorbar\":{\"outlinewidth\":0,\"ticks\":\"\"},\"type\":\"contourcarpet\"}],\"heatmap\":[{\"colorbar\":{\"outlinewidth\":0,\"ticks\":\"\"},\"colorscale\":[[0.0,\"#0d0887\"],[0.1111111111111111,\"#46039f\"],[0.2222222222222222,\"#7201a8\"],[0.3333333333333333,\"#9c179e\"],[0.4444444444444444,\"#bd3786\"],[0.5555555555555556,\"#d8576b\"],[0.6666666666666666,\"#ed7953\"],[0.7777777777777778,\"#fb9f3a\"],[0.8888888888888888,\"#fdca26\"],[1.0,\"#f0f921\"]],\"type\":\"heatmap\"}],\"heatmapgl\":[{\"colorbar\":{\"outlinewidth\":0,\"ticks\":\"\"},\"colorscale\":[[0.0,\"#0d0887\"],[0.1111111111111111,\"#46039f\"],[0.2222222222222222,\"#7201a8\"],[0.3333333333333333,\"#9c179e\"],[0.4444444444444444,\"#bd3786\"],[0.5555555555555556,\"#d8576b\"],[0.6666666666666666,\"#ed7953\"],[0.7777777777777778,\"#fb9f3a\"],[0.8888888888888888,\"#fdca26\"],[1.0,\"#f0f921\"]],\"type\":\"heatmapgl\"}],\"histogram\":[{\"marker\":{\"pattern\":{\"fillmode\":\"overlay\",\"size\":10,\"solidity\":0.2}},\"type\":\"histogram\"}],\"histogram2d\":[{\"colorbar\":{\"outlinewidth\":0,\"ticks\":\"\"},\"colorscale\":[[0.0,\"#0d0887\"],[0.1111111111111111,\"#46039f\"],[0.2222222222222222,\"#7201a8\"],[0.3333333333333333,\"#9c179e\"],[0.4444444444444444,\"#bd3786\"],[0.5555555555555556,\"#d8576b\"],[0.6666666666666666,\"#ed7953\"],[0.7777777777777778,\"#fb9f3a\"],[0.8888888888888888,\"#fdca26\"],[1.0,\"#f0f921\"]],\"type\":\"histogram2d\"}],\"histogram2dcontour\":[{\"colorbar\":{\"outlinewidth\":0,\"ticks\":\"\"},\"colorscale\":[[0.0,\"#0d0887\"],[0.1111111111111111,\"#46039f\"],[0.2222222222222222,\"#7201a8\"],[0.3333333333333333,\"#9c179e\"],[0.4444444444444444,\"#bd3786\"],[0.5555555555555556,\"#d8576b\"],[0.6666666666666666,\"#ed7953\"],[0.7777777777777778,\"#fb9f3a\"],[0.8888888888888888,\"#fdca26\"],[1.0,\"#f0f921\"]],\"type\":\"histogram2dcontour\"}],\"mesh3d\":[{\"colorbar\":{\"outlinewidth\":0,\"ticks\":\"\"},\"type\":\"mesh3d\"}],\"parcoords\":[{\"line\":{\"colorbar\":{\"outlinewidth\":0,\"ticks\":\"\"}},\"type\":\"parcoords\"}],\"pie\":[{\"automargin\":true,\"type\":\"pie\"}],\"scatter\":[{\"marker\":{\"colorbar\":{\"outlinewidth\":0,\"ticks\":\"\"}},\"type\":\"scatter\"}],\"scatter3d\":[{\"line\":{\"colorbar\":{\"outlinewidth\":0,\"ticks\":\"\"}},\"marker\":{\"colorbar\":{\"outlinewidth\":0,\"ticks\":\"\"}},\"type\":\"scatter3d\"}],\"scattercarpet\":[{\"marker\":{\"colorbar\":{\"outlinewidth\":0,\"ticks\":\"\"}},\"type\":\"scattercarpet\"}],\"scattergeo\":[{\"marker\":{\"colorbar\":{\"outlinewidth\":0,\"ticks\":\"\"}},\"type\":\"scattergeo\"}],\"scattergl\":[{\"marker\":{\"colorbar\":{\"outlinewidth\":0,\"ticks\":\"\"}},\"type\":\"scattergl\"}],\"scattermapbox\":[{\"marker\":{\"colorbar\":{\"outlinewidth\":0,\"ticks\":\"\"}},\"type\":\"scattermapbox\"}],\"scatterpolar\":[{\"marker\":{\"colorbar\":{\"outlinewidth\":0,\"ticks\":\"\"}},\"type\":\"scatterpolar\"}],\"scatterpolargl\":[{\"marker\":{\"colorbar\":{\"outlinewidth\":0,\"ticks\":\"\"}},\"type\":\"scatterpolargl\"}],\"scatterternary\":[{\"marker\":{\"colorbar\":{\"outlinewidth\":0,\"ticks\":\"\"}},\"type\":\"scatterternary\"}],\"surface\":[{\"colorbar\":{\"outlinewidth\":0,\"ticks\":\"\"},\"colorscale\":[[0.0,\"#0d0887\"],[0.1111111111111111,\"#46039f\"],[0.2222222222222222,\"#7201a8\"],[0.3333333333333333,\"#9c179e\"],[0.4444444444444444,\"#bd3786\"],[0.5555555555555556,\"#d8576b\"],[0.6666666666666666,\"#ed7953\"],[0.7777777777777778,\"#fb9f3a\"],[0.8888888888888888,\"#fdca26\"],[1.0,\"#f0f921\"]],\"type\":\"surface\"}],\"table\":[{\"cells\":{\"fill\":{\"color\":\"#EBF0F8\"},\"line\":{\"color\":\"white\"}},\"header\":{\"fill\":{\"color\":\"#C8D4E3\"},\"line\":{\"color\":\"white\"}},\"type\":\"table\"}]},\"layout\":{\"annotationdefaults\":{\"arrowcolor\":\"#2a3f5f\",\"arrowhead\":0,\"arrowwidth\":1},\"autotypenumbers\":\"strict\",\"coloraxis\":{\"colorbar\":{\"outlinewidth\":0,\"ticks\":\"\"}},\"colorscale\":{\"diverging\":[[0,\"#8e0152\"],[0.1,\"#c51b7d\"],[0.2,\"#de77ae\"],[0.3,\"#f1b6da\"],[0.4,\"#fde0ef\"],[0.5,\"#f7f7f7\"],[0.6,\"#e6f5d0\"],[0.7,\"#b8e186\"],[0.8,\"#7fbc41\"],[0.9,\"#4d9221\"],[1,\"#276419\"]],\"sequential\":[[0.0,\"#0d0887\"],[0.1111111111111111,\"#46039f\"],[0.2222222222222222,\"#7201a8\"],[0.3333333333333333,\"#9c179e\"],[0.4444444444444444,\"#bd3786\"],[0.5555555555555556,\"#d8576b\"],[0.6666666666666666,\"#ed7953\"],[0.7777777777777778,\"#fb9f3a\"],[0.8888888888888888,\"#fdca26\"],[1.0,\"#f0f921\"]],\"sequentialminus\":[[0.0,\"#0d0887\"],[0.1111111111111111,\"#46039f\"],[0.2222222222222222,\"#7201a8\"],[0.3333333333333333,\"#9c179e\"],[0.4444444444444444,\"#bd3786\"],[0.5555555555555556,\"#d8576b\"],[0.6666666666666666,\"#ed7953\"],[0.7777777777777778,\"#fb9f3a\"],[0.8888888888888888,\"#fdca26\"],[1.0,\"#f0f921\"]]},\"colorway\":[\"#636efa\",\"#EF553B\",\"#00cc96\",\"#ab63fa\",\"#FFA15A\",\"#19d3f3\",\"#FF6692\",\"#B6E880\",\"#FF97FF\",\"#FECB52\"],\"font\":{\"color\":\"#2a3f5f\"},\"geo\":{\"bgcolor\":\"white\",\"lakecolor\":\"white\",\"landcolor\":\"#E5ECF6\",\"showlakes\":true,\"showland\":true,\"subunitcolor\":\"white\"},\"hoverlabel\":{\"align\":\"left\"},\"hovermode\":\"closest\",\"mapbox\":{\"style\":\"light\"},\"paper_bgcolor\":\"white\",\"plot_bgcolor\":\"#E5ECF6\",\"polar\":{\"angularaxis\":{\"gridcolor\":\"white\",\"linecolor\":\"white\",\"ticks\":\"\"},\"bgcolor\":\"#E5ECF6\",\"radialaxis\":{\"gridcolor\":\"white\",\"linecolor\":\"white\",\"ticks\":\"\"}},\"scene\":{\"xaxis\":{\"backgroundcolor\":\"#E5ECF6\",\"gridcolor\":\"white\",\"gridwidth\":2,\"linecolor\":\"white\",\"showbackground\":true,\"ticks\":\"\",\"zerolinecolor\":\"white\"},\"yaxis\":{\"backgroundcolor\":\"#E5ECF6\",\"gridcolor\":\"white\",\"gridwidth\":2,\"linecolor\":\"white\",\"showbackground\":true,\"ticks\":\"\",\"zerolinecolor\":\"white\"},\"zaxis\":{\"backgroundcolor\":\"#E5ECF6\",\"gridcolor\":\"white\",\"gridwidth\":2,\"linecolor\":\"white\",\"showbackground\":true,\"ticks\":\"\",\"zerolinecolor\":\"white\"}},\"shapedefaults\":{\"line\":{\"color\":\"#2a3f5f\"}},\"ternary\":{\"aaxis\":{\"gridcolor\":\"white\",\"linecolor\":\"white\",\"ticks\":\"\"},\"baxis\":{\"gridcolor\":\"white\",\"linecolor\":\"white\",\"ticks\":\"\"},\"bgcolor\":\"#E5ECF6\",\"caxis\":{\"gridcolor\":\"white\",\"linecolor\":\"white\",\"ticks\":\"\"}},\"title\":{\"x\":0.05},\"xaxis\":{\"automargin\":true,\"gridcolor\":\"white\",\"linecolor\":\"white\",\"ticks\":\"\",\"title\":{\"standoff\":15},\"zerolinecolor\":\"white\",\"zerolinewidth\":2},\"yaxis\":{\"automargin\":true,\"gridcolor\":\"white\",\"linecolor\":\"white\",\"ticks\":\"\",\"title\":{\"standoff\":15},\"zerolinecolor\":\"white\",\"zerolinewidth\":2}}},\"xaxis\":{\"anchor\":\"y\",\"domain\":[0.0,1.0],\"title\":{\"text\":\"x\"}},\"yaxis\":{\"anchor\":\"x\",\"domain\":[0.0,1.0],\"title\":{\"text\":\"count\"}},\"legend\":{\"tracegroupgap\":0},\"margin\":{\"t\":60},\"barmode\":\"relative\"},                        {\"responsive\": true}                    ).then(function(){\n",
       "                            \n",
       "var gd = document.getElementById('c2908aca-4af4-4953-9e0f-286cc3a6689b');\n",
       "var x = new MutationObserver(function (mutations, observer) {{\n",
       "        var display = window.getComputedStyle(gd).display;\n",
       "        if (!display || display === 'none') {{\n",
       "            console.log([gd, 'removed!']);\n",
       "            Plotly.purge(gd);\n",
       "            observer.disconnect();\n",
       "        }}\n",
       "}});\n",
       "\n",
       "// Listen for the removal of the full notebook cells\n",
       "var notebookContainer = gd.closest('#notebook-container');\n",
       "if (notebookContainer) {{\n",
       "    x.observe(notebookContainer, {childList: true});\n",
       "}}\n",
       "\n",
       "// Listen for the clearing of the current output cell\n",
       "var outputEl = gd.closest('.output');\n",
       "if (outputEl) {{\n",
       "    x.observe(outputEl, {childList: true});\n",
       "}}\n",
       "\n",
       "                        })                };                });            </script>        </div>"
      ]
     },
     "metadata": {},
     "output_type": "display_data"
    }
   ],
   "source": [
    "sold_date = px.histogram(\n",
    "    x=df[\"sold_date_dt\"],\n",
    ")\n",
    "\n",
    "sold_date.show()"
   ]
  },
  {
   "cell_type": "code",
   "execution_count": 78,
   "id": "295d2472",
   "metadata": {},
   "outputs": [
    {
     "data": {
      "application/vnd.plotly.v1+json": {
       "config": {
        "plotlyServerURL": "https://plot.ly"
       },
       "data": [
        {
         "alignmentgroup": "True",
         "bingroup": "x",
         "hovertemplate": "x=%{x}<br>count=%{y}<extra></extra>",
         "legendgroup": "",
         "marker": {
          "color": "#636efa",
          "pattern": {
           "shape": ""
          }
         },
         "name": "",
         "offsetgroup": "",
         "orientation": "v",
         "showlegend": false,
         "type": "histogram",
         "x": [
          960000,
          962000,
          1100000,
          770000,
          635000,
          562500,
          630000,
          855000,
          750000,
          770000,
          680000
         ],
         "xaxis": "x",
         "yaxis": "y"
        }
       ],
       "layout": {
        "barmode": "relative",
        "legend": {
         "tracegroupgap": 0
        },
        "margin": {
         "t": 60
        },
        "template": {
         "data": {
          "bar": [
           {
            "error_x": {
             "color": "#2a3f5f"
            },
            "error_y": {
             "color": "#2a3f5f"
            },
            "marker": {
             "line": {
              "color": "#E5ECF6",
              "width": 0.5
             },
             "pattern": {
              "fillmode": "overlay",
              "size": 10,
              "solidity": 0.2
             }
            },
            "type": "bar"
           }
          ],
          "barpolar": [
           {
            "marker": {
             "line": {
              "color": "#E5ECF6",
              "width": 0.5
             },
             "pattern": {
              "fillmode": "overlay",
              "size": 10,
              "solidity": 0.2
             }
            },
            "type": "barpolar"
           }
          ],
          "carpet": [
           {
            "aaxis": {
             "endlinecolor": "#2a3f5f",
             "gridcolor": "white",
             "linecolor": "white",
             "minorgridcolor": "white",
             "startlinecolor": "#2a3f5f"
            },
            "baxis": {
             "endlinecolor": "#2a3f5f",
             "gridcolor": "white",
             "linecolor": "white",
             "minorgridcolor": "white",
             "startlinecolor": "#2a3f5f"
            },
            "type": "carpet"
           }
          ],
          "choropleth": [
           {
            "colorbar": {
             "outlinewidth": 0,
             "ticks": ""
            },
            "type": "choropleth"
           }
          ],
          "contour": [
           {
            "colorbar": {
             "outlinewidth": 0,
             "ticks": ""
            },
            "colorscale": [
             [
              0,
              "#0d0887"
             ],
             [
              0.1111111111111111,
              "#46039f"
             ],
             [
              0.2222222222222222,
              "#7201a8"
             ],
             [
              0.3333333333333333,
              "#9c179e"
             ],
             [
              0.4444444444444444,
              "#bd3786"
             ],
             [
              0.5555555555555556,
              "#d8576b"
             ],
             [
              0.6666666666666666,
              "#ed7953"
             ],
             [
              0.7777777777777778,
              "#fb9f3a"
             ],
             [
              0.8888888888888888,
              "#fdca26"
             ],
             [
              1,
              "#f0f921"
             ]
            ],
            "type": "contour"
           }
          ],
          "contourcarpet": [
           {
            "colorbar": {
             "outlinewidth": 0,
             "ticks": ""
            },
            "type": "contourcarpet"
           }
          ],
          "heatmap": [
           {
            "colorbar": {
             "outlinewidth": 0,
             "ticks": ""
            },
            "colorscale": [
             [
              0,
              "#0d0887"
             ],
             [
              0.1111111111111111,
              "#46039f"
             ],
             [
              0.2222222222222222,
              "#7201a8"
             ],
             [
              0.3333333333333333,
              "#9c179e"
             ],
             [
              0.4444444444444444,
              "#bd3786"
             ],
             [
              0.5555555555555556,
              "#d8576b"
             ],
             [
              0.6666666666666666,
              "#ed7953"
             ],
             [
              0.7777777777777778,
              "#fb9f3a"
             ],
             [
              0.8888888888888888,
              "#fdca26"
             ],
             [
              1,
              "#f0f921"
             ]
            ],
            "type": "heatmap"
           }
          ],
          "heatmapgl": [
           {
            "colorbar": {
             "outlinewidth": 0,
             "ticks": ""
            },
            "colorscale": [
             [
              0,
              "#0d0887"
             ],
             [
              0.1111111111111111,
              "#46039f"
             ],
             [
              0.2222222222222222,
              "#7201a8"
             ],
             [
              0.3333333333333333,
              "#9c179e"
             ],
             [
              0.4444444444444444,
              "#bd3786"
             ],
             [
              0.5555555555555556,
              "#d8576b"
             ],
             [
              0.6666666666666666,
              "#ed7953"
             ],
             [
              0.7777777777777778,
              "#fb9f3a"
             ],
             [
              0.8888888888888888,
              "#fdca26"
             ],
             [
              1,
              "#f0f921"
             ]
            ],
            "type": "heatmapgl"
           }
          ],
          "histogram": [
           {
            "marker": {
             "pattern": {
              "fillmode": "overlay",
              "size": 10,
              "solidity": 0.2
             }
            },
            "type": "histogram"
           }
          ],
          "histogram2d": [
           {
            "colorbar": {
             "outlinewidth": 0,
             "ticks": ""
            },
            "colorscale": [
             [
              0,
              "#0d0887"
             ],
             [
              0.1111111111111111,
              "#46039f"
             ],
             [
              0.2222222222222222,
              "#7201a8"
             ],
             [
              0.3333333333333333,
              "#9c179e"
             ],
             [
              0.4444444444444444,
              "#bd3786"
             ],
             [
              0.5555555555555556,
              "#d8576b"
             ],
             [
              0.6666666666666666,
              "#ed7953"
             ],
             [
              0.7777777777777778,
              "#fb9f3a"
             ],
             [
              0.8888888888888888,
              "#fdca26"
             ],
             [
              1,
              "#f0f921"
             ]
            ],
            "type": "histogram2d"
           }
          ],
          "histogram2dcontour": [
           {
            "colorbar": {
             "outlinewidth": 0,
             "ticks": ""
            },
            "colorscale": [
             [
              0,
              "#0d0887"
             ],
             [
              0.1111111111111111,
              "#46039f"
             ],
             [
              0.2222222222222222,
              "#7201a8"
             ],
             [
              0.3333333333333333,
              "#9c179e"
             ],
             [
              0.4444444444444444,
              "#bd3786"
             ],
             [
              0.5555555555555556,
              "#d8576b"
             ],
             [
              0.6666666666666666,
              "#ed7953"
             ],
             [
              0.7777777777777778,
              "#fb9f3a"
             ],
             [
              0.8888888888888888,
              "#fdca26"
             ],
             [
              1,
              "#f0f921"
             ]
            ],
            "type": "histogram2dcontour"
           }
          ],
          "mesh3d": [
           {
            "colorbar": {
             "outlinewidth": 0,
             "ticks": ""
            },
            "type": "mesh3d"
           }
          ],
          "parcoords": [
           {
            "line": {
             "colorbar": {
              "outlinewidth": 0,
              "ticks": ""
             }
            },
            "type": "parcoords"
           }
          ],
          "pie": [
           {
            "automargin": true,
            "type": "pie"
           }
          ],
          "scatter": [
           {
            "marker": {
             "colorbar": {
              "outlinewidth": 0,
              "ticks": ""
             }
            },
            "type": "scatter"
           }
          ],
          "scatter3d": [
           {
            "line": {
             "colorbar": {
              "outlinewidth": 0,
              "ticks": ""
             }
            },
            "marker": {
             "colorbar": {
              "outlinewidth": 0,
              "ticks": ""
             }
            },
            "type": "scatter3d"
           }
          ],
          "scattercarpet": [
           {
            "marker": {
             "colorbar": {
              "outlinewidth": 0,
              "ticks": ""
             }
            },
            "type": "scattercarpet"
           }
          ],
          "scattergeo": [
           {
            "marker": {
             "colorbar": {
              "outlinewidth": 0,
              "ticks": ""
             }
            },
            "type": "scattergeo"
           }
          ],
          "scattergl": [
           {
            "marker": {
             "colorbar": {
              "outlinewidth": 0,
              "ticks": ""
             }
            },
            "type": "scattergl"
           }
          ],
          "scattermapbox": [
           {
            "marker": {
             "colorbar": {
              "outlinewidth": 0,
              "ticks": ""
             }
            },
            "type": "scattermapbox"
           }
          ],
          "scatterpolar": [
           {
            "marker": {
             "colorbar": {
              "outlinewidth": 0,
              "ticks": ""
             }
            },
            "type": "scatterpolar"
           }
          ],
          "scatterpolargl": [
           {
            "marker": {
             "colorbar": {
              "outlinewidth": 0,
              "ticks": ""
             }
            },
            "type": "scatterpolargl"
           }
          ],
          "scatterternary": [
           {
            "marker": {
             "colorbar": {
              "outlinewidth": 0,
              "ticks": ""
             }
            },
            "type": "scatterternary"
           }
          ],
          "surface": [
           {
            "colorbar": {
             "outlinewidth": 0,
             "ticks": ""
            },
            "colorscale": [
             [
              0,
              "#0d0887"
             ],
             [
              0.1111111111111111,
              "#46039f"
             ],
             [
              0.2222222222222222,
              "#7201a8"
             ],
             [
              0.3333333333333333,
              "#9c179e"
             ],
             [
              0.4444444444444444,
              "#bd3786"
             ],
             [
              0.5555555555555556,
              "#d8576b"
             ],
             [
              0.6666666666666666,
              "#ed7953"
             ],
             [
              0.7777777777777778,
              "#fb9f3a"
             ],
             [
              0.8888888888888888,
              "#fdca26"
             ],
             [
              1,
              "#f0f921"
             ]
            ],
            "type": "surface"
           }
          ],
          "table": [
           {
            "cells": {
             "fill": {
              "color": "#EBF0F8"
             },
             "line": {
              "color": "white"
             }
            },
            "header": {
             "fill": {
              "color": "#C8D4E3"
             },
             "line": {
              "color": "white"
             }
            },
            "type": "table"
           }
          ]
         },
         "layout": {
          "annotationdefaults": {
           "arrowcolor": "#2a3f5f",
           "arrowhead": 0,
           "arrowwidth": 1
          },
          "autotypenumbers": "strict",
          "coloraxis": {
           "colorbar": {
            "outlinewidth": 0,
            "ticks": ""
           }
          },
          "colorscale": {
           "diverging": [
            [
             0,
             "#8e0152"
            ],
            [
             0.1,
             "#c51b7d"
            ],
            [
             0.2,
             "#de77ae"
            ],
            [
             0.3,
             "#f1b6da"
            ],
            [
             0.4,
             "#fde0ef"
            ],
            [
             0.5,
             "#f7f7f7"
            ],
            [
             0.6,
             "#e6f5d0"
            ],
            [
             0.7,
             "#b8e186"
            ],
            [
             0.8,
             "#7fbc41"
            ],
            [
             0.9,
             "#4d9221"
            ],
            [
             1,
             "#276419"
            ]
           ],
           "sequential": [
            [
             0,
             "#0d0887"
            ],
            [
             0.1111111111111111,
             "#46039f"
            ],
            [
             0.2222222222222222,
             "#7201a8"
            ],
            [
             0.3333333333333333,
             "#9c179e"
            ],
            [
             0.4444444444444444,
             "#bd3786"
            ],
            [
             0.5555555555555556,
             "#d8576b"
            ],
            [
             0.6666666666666666,
             "#ed7953"
            ],
            [
             0.7777777777777778,
             "#fb9f3a"
            ],
            [
             0.8888888888888888,
             "#fdca26"
            ],
            [
             1,
             "#f0f921"
            ]
           ],
           "sequentialminus": [
            [
             0,
             "#0d0887"
            ],
            [
             0.1111111111111111,
             "#46039f"
            ],
            [
             0.2222222222222222,
             "#7201a8"
            ],
            [
             0.3333333333333333,
             "#9c179e"
            ],
            [
             0.4444444444444444,
             "#bd3786"
            ],
            [
             0.5555555555555556,
             "#d8576b"
            ],
            [
             0.6666666666666666,
             "#ed7953"
            ],
            [
             0.7777777777777778,
             "#fb9f3a"
            ],
            [
             0.8888888888888888,
             "#fdca26"
            ],
            [
             1,
             "#f0f921"
            ]
           ]
          },
          "colorway": [
           "#636efa",
           "#EF553B",
           "#00cc96",
           "#ab63fa",
           "#FFA15A",
           "#19d3f3",
           "#FF6692",
           "#B6E880",
           "#FF97FF",
           "#FECB52"
          ],
          "font": {
           "color": "#2a3f5f"
          },
          "geo": {
           "bgcolor": "white",
           "lakecolor": "white",
           "landcolor": "#E5ECF6",
           "showlakes": true,
           "showland": true,
           "subunitcolor": "white"
          },
          "hoverlabel": {
           "align": "left"
          },
          "hovermode": "closest",
          "mapbox": {
           "style": "light"
          },
          "paper_bgcolor": "white",
          "plot_bgcolor": "#E5ECF6",
          "polar": {
           "angularaxis": {
            "gridcolor": "white",
            "linecolor": "white",
            "ticks": ""
           },
           "bgcolor": "#E5ECF6",
           "radialaxis": {
            "gridcolor": "white",
            "linecolor": "white",
            "ticks": ""
           }
          },
          "scene": {
           "xaxis": {
            "backgroundcolor": "#E5ECF6",
            "gridcolor": "white",
            "gridwidth": 2,
            "linecolor": "white",
            "showbackground": true,
            "ticks": "",
            "zerolinecolor": "white"
           },
           "yaxis": {
            "backgroundcolor": "#E5ECF6",
            "gridcolor": "white",
            "gridwidth": 2,
            "linecolor": "white",
            "showbackground": true,
            "ticks": "",
            "zerolinecolor": "white"
           },
           "zaxis": {
            "backgroundcolor": "#E5ECF6",
            "gridcolor": "white",
            "gridwidth": 2,
            "linecolor": "white",
            "showbackground": true,
            "ticks": "",
            "zerolinecolor": "white"
           }
          },
          "shapedefaults": {
           "line": {
            "color": "#2a3f5f"
           }
          },
          "ternary": {
           "aaxis": {
            "gridcolor": "white",
            "linecolor": "white",
            "ticks": ""
           },
           "baxis": {
            "gridcolor": "white",
            "linecolor": "white",
            "ticks": ""
           },
           "bgcolor": "#E5ECF6",
           "caxis": {
            "gridcolor": "white",
            "linecolor": "white",
            "ticks": ""
           }
          },
          "title": {
           "x": 0.05
          },
          "xaxis": {
           "automargin": true,
           "gridcolor": "white",
           "linecolor": "white",
           "ticks": "",
           "title": {
            "standoff": 15
           },
           "zerolinecolor": "white",
           "zerolinewidth": 2
          },
          "yaxis": {
           "automargin": true,
           "gridcolor": "white",
           "linecolor": "white",
           "ticks": "",
           "title": {
            "standoff": 15
           },
           "zerolinecolor": "white",
           "zerolinewidth": 2
          }
         }
        },
        "xaxis": {
         "anchor": "y",
         "domain": [
          0,
          1
         ],
         "title": {
          "text": "x"
         }
        },
        "yaxis": {
         "anchor": "x",
         "domain": [
          0,
          1
         ],
         "title": {
          "text": "count"
         }
        }
       }
      },
      "text/html": [
       "<div>                            <div id=\"7704fec6-3f31-4b19-93f3-e93b15e54290\" class=\"plotly-graph-div\" style=\"height:525px; width:100%;\"></div>            <script type=\"text/javascript\">                require([\"plotly\"], function(Plotly) {                    window.PLOTLYENV=window.PLOTLYENV || {};                                    if (document.getElementById(\"7704fec6-3f31-4b19-93f3-e93b15e54290\")) {                    Plotly.newPlot(                        \"7704fec6-3f31-4b19-93f3-e93b15e54290\",                        [{\"alignmentgroup\":\"True\",\"bingroup\":\"x\",\"hovertemplate\":\"x=%{x}<br>count=%{y}<extra></extra>\",\"legendgroup\":\"\",\"marker\":{\"color\":\"#636efa\",\"pattern\":{\"shape\":\"\"}},\"name\":\"\",\"offsetgroup\":\"\",\"orientation\":\"v\",\"showlegend\":false,\"x\":[960000.0,962000.0,1100000.0,770000.0,635000.0,562500.0,630000.0,855000.0,750000.0,770000.0,680000.0],\"xaxis\":\"x\",\"yaxis\":\"y\",\"type\":\"histogram\"}],                        {\"template\":{\"data\":{\"bar\":[{\"error_x\":{\"color\":\"#2a3f5f\"},\"error_y\":{\"color\":\"#2a3f5f\"},\"marker\":{\"line\":{\"color\":\"#E5ECF6\",\"width\":0.5},\"pattern\":{\"fillmode\":\"overlay\",\"size\":10,\"solidity\":0.2}},\"type\":\"bar\"}],\"barpolar\":[{\"marker\":{\"line\":{\"color\":\"#E5ECF6\",\"width\":0.5},\"pattern\":{\"fillmode\":\"overlay\",\"size\":10,\"solidity\":0.2}},\"type\":\"barpolar\"}],\"carpet\":[{\"aaxis\":{\"endlinecolor\":\"#2a3f5f\",\"gridcolor\":\"white\",\"linecolor\":\"white\",\"minorgridcolor\":\"white\",\"startlinecolor\":\"#2a3f5f\"},\"baxis\":{\"endlinecolor\":\"#2a3f5f\",\"gridcolor\":\"white\",\"linecolor\":\"white\",\"minorgridcolor\":\"white\",\"startlinecolor\":\"#2a3f5f\"},\"type\":\"carpet\"}],\"choropleth\":[{\"colorbar\":{\"outlinewidth\":0,\"ticks\":\"\"},\"type\":\"choropleth\"}],\"contour\":[{\"colorbar\":{\"outlinewidth\":0,\"ticks\":\"\"},\"colorscale\":[[0.0,\"#0d0887\"],[0.1111111111111111,\"#46039f\"],[0.2222222222222222,\"#7201a8\"],[0.3333333333333333,\"#9c179e\"],[0.4444444444444444,\"#bd3786\"],[0.5555555555555556,\"#d8576b\"],[0.6666666666666666,\"#ed7953\"],[0.7777777777777778,\"#fb9f3a\"],[0.8888888888888888,\"#fdca26\"],[1.0,\"#f0f921\"]],\"type\":\"contour\"}],\"contourcarpet\":[{\"colorbar\":{\"outlinewidth\":0,\"ticks\":\"\"},\"type\":\"contourcarpet\"}],\"heatmap\":[{\"colorbar\":{\"outlinewidth\":0,\"ticks\":\"\"},\"colorscale\":[[0.0,\"#0d0887\"],[0.1111111111111111,\"#46039f\"],[0.2222222222222222,\"#7201a8\"],[0.3333333333333333,\"#9c179e\"],[0.4444444444444444,\"#bd3786\"],[0.5555555555555556,\"#d8576b\"],[0.6666666666666666,\"#ed7953\"],[0.7777777777777778,\"#fb9f3a\"],[0.8888888888888888,\"#fdca26\"],[1.0,\"#f0f921\"]],\"type\":\"heatmap\"}],\"heatmapgl\":[{\"colorbar\":{\"outlinewidth\":0,\"ticks\":\"\"},\"colorscale\":[[0.0,\"#0d0887\"],[0.1111111111111111,\"#46039f\"],[0.2222222222222222,\"#7201a8\"],[0.3333333333333333,\"#9c179e\"],[0.4444444444444444,\"#bd3786\"],[0.5555555555555556,\"#d8576b\"],[0.6666666666666666,\"#ed7953\"],[0.7777777777777778,\"#fb9f3a\"],[0.8888888888888888,\"#fdca26\"],[1.0,\"#f0f921\"]],\"type\":\"heatmapgl\"}],\"histogram\":[{\"marker\":{\"pattern\":{\"fillmode\":\"overlay\",\"size\":10,\"solidity\":0.2}},\"type\":\"histogram\"}],\"histogram2d\":[{\"colorbar\":{\"outlinewidth\":0,\"ticks\":\"\"},\"colorscale\":[[0.0,\"#0d0887\"],[0.1111111111111111,\"#46039f\"],[0.2222222222222222,\"#7201a8\"],[0.3333333333333333,\"#9c179e\"],[0.4444444444444444,\"#bd3786\"],[0.5555555555555556,\"#d8576b\"],[0.6666666666666666,\"#ed7953\"],[0.7777777777777778,\"#fb9f3a\"],[0.8888888888888888,\"#fdca26\"],[1.0,\"#f0f921\"]],\"type\":\"histogram2d\"}],\"histogram2dcontour\":[{\"colorbar\":{\"outlinewidth\":0,\"ticks\":\"\"},\"colorscale\":[[0.0,\"#0d0887\"],[0.1111111111111111,\"#46039f\"],[0.2222222222222222,\"#7201a8\"],[0.3333333333333333,\"#9c179e\"],[0.4444444444444444,\"#bd3786\"],[0.5555555555555556,\"#d8576b\"],[0.6666666666666666,\"#ed7953\"],[0.7777777777777778,\"#fb9f3a\"],[0.8888888888888888,\"#fdca26\"],[1.0,\"#f0f921\"]],\"type\":\"histogram2dcontour\"}],\"mesh3d\":[{\"colorbar\":{\"outlinewidth\":0,\"ticks\":\"\"},\"type\":\"mesh3d\"}],\"parcoords\":[{\"line\":{\"colorbar\":{\"outlinewidth\":0,\"ticks\":\"\"}},\"type\":\"parcoords\"}],\"pie\":[{\"automargin\":true,\"type\":\"pie\"}],\"scatter\":[{\"marker\":{\"colorbar\":{\"outlinewidth\":0,\"ticks\":\"\"}},\"type\":\"scatter\"}],\"scatter3d\":[{\"line\":{\"colorbar\":{\"outlinewidth\":0,\"ticks\":\"\"}},\"marker\":{\"colorbar\":{\"outlinewidth\":0,\"ticks\":\"\"}},\"type\":\"scatter3d\"}],\"scattercarpet\":[{\"marker\":{\"colorbar\":{\"outlinewidth\":0,\"ticks\":\"\"}},\"type\":\"scattercarpet\"}],\"scattergeo\":[{\"marker\":{\"colorbar\":{\"outlinewidth\":0,\"ticks\":\"\"}},\"type\":\"scattergeo\"}],\"scattergl\":[{\"marker\":{\"colorbar\":{\"outlinewidth\":0,\"ticks\":\"\"}},\"type\":\"scattergl\"}],\"scattermapbox\":[{\"marker\":{\"colorbar\":{\"outlinewidth\":0,\"ticks\":\"\"}},\"type\":\"scattermapbox\"}],\"scatterpolar\":[{\"marker\":{\"colorbar\":{\"outlinewidth\":0,\"ticks\":\"\"}},\"type\":\"scatterpolar\"}],\"scatterpolargl\":[{\"marker\":{\"colorbar\":{\"outlinewidth\":0,\"ticks\":\"\"}},\"type\":\"scatterpolargl\"}],\"scatterternary\":[{\"marker\":{\"colorbar\":{\"outlinewidth\":0,\"ticks\":\"\"}},\"type\":\"scatterternary\"}],\"surface\":[{\"colorbar\":{\"outlinewidth\":0,\"ticks\":\"\"},\"colorscale\":[[0.0,\"#0d0887\"],[0.1111111111111111,\"#46039f\"],[0.2222222222222222,\"#7201a8\"],[0.3333333333333333,\"#9c179e\"],[0.4444444444444444,\"#bd3786\"],[0.5555555555555556,\"#d8576b\"],[0.6666666666666666,\"#ed7953\"],[0.7777777777777778,\"#fb9f3a\"],[0.8888888888888888,\"#fdca26\"],[1.0,\"#f0f921\"]],\"type\":\"surface\"}],\"table\":[{\"cells\":{\"fill\":{\"color\":\"#EBF0F8\"},\"line\":{\"color\":\"white\"}},\"header\":{\"fill\":{\"color\":\"#C8D4E3\"},\"line\":{\"color\":\"white\"}},\"type\":\"table\"}]},\"layout\":{\"annotationdefaults\":{\"arrowcolor\":\"#2a3f5f\",\"arrowhead\":0,\"arrowwidth\":1},\"autotypenumbers\":\"strict\",\"coloraxis\":{\"colorbar\":{\"outlinewidth\":0,\"ticks\":\"\"}},\"colorscale\":{\"diverging\":[[0,\"#8e0152\"],[0.1,\"#c51b7d\"],[0.2,\"#de77ae\"],[0.3,\"#f1b6da\"],[0.4,\"#fde0ef\"],[0.5,\"#f7f7f7\"],[0.6,\"#e6f5d0\"],[0.7,\"#b8e186\"],[0.8,\"#7fbc41\"],[0.9,\"#4d9221\"],[1,\"#276419\"]],\"sequential\":[[0.0,\"#0d0887\"],[0.1111111111111111,\"#46039f\"],[0.2222222222222222,\"#7201a8\"],[0.3333333333333333,\"#9c179e\"],[0.4444444444444444,\"#bd3786\"],[0.5555555555555556,\"#d8576b\"],[0.6666666666666666,\"#ed7953\"],[0.7777777777777778,\"#fb9f3a\"],[0.8888888888888888,\"#fdca26\"],[1.0,\"#f0f921\"]],\"sequentialminus\":[[0.0,\"#0d0887\"],[0.1111111111111111,\"#46039f\"],[0.2222222222222222,\"#7201a8\"],[0.3333333333333333,\"#9c179e\"],[0.4444444444444444,\"#bd3786\"],[0.5555555555555556,\"#d8576b\"],[0.6666666666666666,\"#ed7953\"],[0.7777777777777778,\"#fb9f3a\"],[0.8888888888888888,\"#fdca26\"],[1.0,\"#f0f921\"]]},\"colorway\":[\"#636efa\",\"#EF553B\",\"#00cc96\",\"#ab63fa\",\"#FFA15A\",\"#19d3f3\",\"#FF6692\",\"#B6E880\",\"#FF97FF\",\"#FECB52\"],\"font\":{\"color\":\"#2a3f5f\"},\"geo\":{\"bgcolor\":\"white\",\"lakecolor\":\"white\",\"landcolor\":\"#E5ECF6\",\"showlakes\":true,\"showland\":true,\"subunitcolor\":\"white\"},\"hoverlabel\":{\"align\":\"left\"},\"hovermode\":\"closest\",\"mapbox\":{\"style\":\"light\"},\"paper_bgcolor\":\"white\",\"plot_bgcolor\":\"#E5ECF6\",\"polar\":{\"angularaxis\":{\"gridcolor\":\"white\",\"linecolor\":\"white\",\"ticks\":\"\"},\"bgcolor\":\"#E5ECF6\",\"radialaxis\":{\"gridcolor\":\"white\",\"linecolor\":\"white\",\"ticks\":\"\"}},\"scene\":{\"xaxis\":{\"backgroundcolor\":\"#E5ECF6\",\"gridcolor\":\"white\",\"gridwidth\":2,\"linecolor\":\"white\",\"showbackground\":true,\"ticks\":\"\",\"zerolinecolor\":\"white\"},\"yaxis\":{\"backgroundcolor\":\"#E5ECF6\",\"gridcolor\":\"white\",\"gridwidth\":2,\"linecolor\":\"white\",\"showbackground\":true,\"ticks\":\"\",\"zerolinecolor\":\"white\"},\"zaxis\":{\"backgroundcolor\":\"#E5ECF6\",\"gridcolor\":\"white\",\"gridwidth\":2,\"linecolor\":\"white\",\"showbackground\":true,\"ticks\":\"\",\"zerolinecolor\":\"white\"}},\"shapedefaults\":{\"line\":{\"color\":\"#2a3f5f\"}},\"ternary\":{\"aaxis\":{\"gridcolor\":\"white\",\"linecolor\":\"white\",\"ticks\":\"\"},\"baxis\":{\"gridcolor\":\"white\",\"linecolor\":\"white\",\"ticks\":\"\"},\"bgcolor\":\"#E5ECF6\",\"caxis\":{\"gridcolor\":\"white\",\"linecolor\":\"white\",\"ticks\":\"\"}},\"title\":{\"x\":0.05},\"xaxis\":{\"automargin\":true,\"gridcolor\":\"white\",\"linecolor\":\"white\",\"ticks\":\"\",\"title\":{\"standoff\":15},\"zerolinecolor\":\"white\",\"zerolinewidth\":2},\"yaxis\":{\"automargin\":true,\"gridcolor\":\"white\",\"linecolor\":\"white\",\"ticks\":\"\",\"title\":{\"standoff\":15},\"zerolinecolor\":\"white\",\"zerolinewidth\":2}}},\"xaxis\":{\"anchor\":\"y\",\"domain\":[0.0,1.0],\"title\":{\"text\":\"x\"}},\"yaxis\":{\"anchor\":\"x\",\"domain\":[0.0,1.0],\"title\":{\"text\":\"count\"}},\"legend\":{\"tracegroupgap\":0},\"margin\":{\"t\":60},\"barmode\":\"relative\"},                        {\"responsive\": true}                    ).then(function(){\n",
       "                            \n",
       "var gd = document.getElementById('7704fec6-3f31-4b19-93f3-e93b15e54290');\n",
       "var x = new MutationObserver(function (mutations, observer) {{\n",
       "        var display = window.getComputedStyle(gd).display;\n",
       "        if (!display || display === 'none') {{\n",
       "            console.log([gd, 'removed!']);\n",
       "            Plotly.purge(gd);\n",
       "            observer.disconnect();\n",
       "        }}\n",
       "}});\n",
       "\n",
       "// Listen for the removal of the full notebook cells\n",
       "var notebookContainer = gd.closest('#notebook-container');\n",
       "if (notebookContainer) {{\n",
       "    x.observe(notebookContainer, {childList: true});\n",
       "}}\n",
       "\n",
       "// Listen for the clearing of the current output cell\n",
       "var outputEl = gd.closest('.output');\n",
       "if (outputEl) {{\n",
       "    x.observe(outputEl, {childList: true});\n",
       "}}\n",
       "\n",
       "                        })                };                });            </script>        </div>"
      ]
     },
     "metadata": {},
     "output_type": "display_data"
    }
   ],
   "source": [
    "#Land size = -1 are missing land sizes\n",
    "#df[df[\"land_size\"] < 100][\"url\"][4]\n",
    "\n",
    "pd.set_option('display.max_colwidth', None)\n",
    "small_land = df[(df[\"land_size\"] > 100) & (df[\"land_size\"] < 300)]\n",
    "px.histogram(\n",
    "    x=small_land[\"price\"],\n",
    ").show()"
   ]
  },
  {
   "cell_type": "code",
   "execution_count": null,
   "id": "1e57fe04",
   "metadata": {},
   "outputs": [],
   "source": [
    "1. Identify suburbs in the north-west (Baulkhim hills/north rocks, Epping), nothern beaches, straithfield regions, and ??inner west.\n",
    "2. What are the suburbs with most affordable houses in the small land category (300-500)?\n",
    "3. What are the comparable price points for the same bedrooms but with bigger land i.e. 700-800?"
   ]
  }
 ],
 "metadata": {
  "kernelspec": {
   "display_name": "Python 3 (ipykernel)",
   "language": "python",
   "name": "python3"
  },
  "language_info": {
   "codemirror_mode": {
    "name": "ipython",
    "version": 3
   },
   "file_extension": ".py",
   "mimetype": "text/x-python",
   "name": "python",
   "nbconvert_exporter": "python",
   "pygments_lexer": "ipython3",
   "version": "3.9.7"
  }
 },
 "nbformat": 4,
 "nbformat_minor": 5
}
