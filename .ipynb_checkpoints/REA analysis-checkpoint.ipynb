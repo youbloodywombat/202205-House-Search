{
 "cells": [
  {
   "cell_type": "code",
   "execution_count": 8,
   "id": "15359e4b",
   "metadata": {},
   "outputs": [
    {
     "ename": "ImportError",
     "evalue": "cannot import name 'tools' from 'chart_studio.plotly' (/home/youwombat/miniconda3/lib/python3.9/site-packages/chart_studio/plotly/__init__.py)",
     "output_type": "error",
     "traceback": [
      "\u001b[0;31m---------------------------------------------------------------------------\u001b[0m",
      "\u001b[0;31mImportError\u001b[0m                               Traceback (most recent call last)",
      "Input \u001b[0;32mIn [8]\u001b[0m, in \u001b[0;36m<cell line: 8>\u001b[0;34m()\u001b[0m\n\u001b[1;32m      6\u001b[0m \u001b[38;5;66;03m#import chart_studio.plotly.figure_factory as FF\u001b[39;00m\n\u001b[1;32m      7\u001b[0m \u001b[38;5;28;01mimport\u001b[39;00m \u001b[38;5;21;01mchart_studio\u001b[39;00m\u001b[38;5;21;01m.\u001b[39;00m\u001b[38;5;21;01mplotly\u001b[39;00m\u001b[38;5;21;01m.\u001b[39;00m\u001b[38;5;21;01mplotly\u001b[39;00m \u001b[38;5;28;01mas\u001b[39;00m \u001b[38;5;21;01mpy\u001b[39;00m\n\u001b[0;32m----> 8\u001b[0m \u001b[38;5;28;01mfrom\u001b[39;00m \u001b[38;5;21;01mchart_studio\u001b[39;00m\u001b[38;5;21;01m.\u001b[39;00m\u001b[38;5;21;01mplotly\u001b[39;00m \u001b[38;5;28;01mimport\u001b[39;00m tools\n\u001b[1;32m      9\u001b[0m \u001b[38;5;28;01mimport\u001b[39;00m \u001b[38;5;21;01mchart_studio\u001b[39;00m\u001b[38;5;21;01m.\u001b[39;00m\u001b[38;5;21;01mplotly\u001b[39;00m\u001b[38;5;21;01m.\u001b[39;00m\u001b[38;5;21;01mgraph_objs\u001b[39;00m \u001b[38;5;28;01mas\u001b[39;00m \u001b[38;5;21;01mgo\u001b[39;00m\n\u001b[1;32m     10\u001b[0m \u001b[38;5;28;01mimport\u001b[39;00m \u001b[38;5;21;01mmatplotlib\u001b[39;00m\u001b[38;5;21;01m.\u001b[39;00m\u001b[38;5;21;01mpyplot\u001b[39;00m \u001b[38;5;28;01mas\u001b[39;00m \u001b[38;5;21;01mplt\u001b[39;00m\n",
      "\u001b[0;31mImportError\u001b[0m: cannot import name 'tools' from 'chart_studio.plotly' (/home/youwombat/miniconda3/lib/python3.9/site-packages/chart_studio/plotly/__init__.py)"
     ]
    }
   ],
   "source": [
    "import numpy as np \n",
    "import pandas as pd \n",
    "import os\n",
    "#from chart_studio.plotly.offline import init_notebook_mode, iplot\n",
    "import chart_studio.plotly.plotly as py\n",
    "#import chart_studio.plotly.figure_factory as FF\n",
    "import chart_studio.plotly.plotly as py\n",
    "#from chart_studio.plotly import tools\n",
    "import chart_studio.plotly.graph_objs as go\n",
    "import matplotlib.pyplot as plt\n",
    "import seaborn as sns\n",
    "import folium\n",
    "from folium.features import DivIcon\n",
    "from folium.plugins import HeatMap\n",
    "import warnings\n",
    "import datetime\n",
    "import squarify\n",
    "warnings.filterwarnings(\"ignore\")\n",
    "init_notebook_mode(connected=True)"
   ]
  },
  {
   "cell_type": "code",
   "execution_count": 2,
   "id": "a57f62bd",
   "metadata": {},
   "outputs": [],
   "source": [
    "from realestate_com_au import RealestateComAu\n",
    "\n",
    "api = RealestateComAu()\n",
    "\n",
    "# Get property listings\n",
    "listings = api.search(locations=[\"seventeen seventy, qld 4677\"], channel=\"buy\", keywords=[\"tenant\"], exclude_keywords=[\"pool\"])"
   ]
  },
  {
   "cell_type": "code",
   "execution_count": 3,
   "id": "5882d1cb",
   "metadata": {},
   "outputs": [
    {
     "name": "stdout",
     "output_type": "stream",
     "text": [
      "Help on method search in module realestate_com_au.realestate_com_au:\n",
      "\n",
      "search(limit=-1, channel='buy', locations=[], surrounding_suburbs=True, exclude_no_sale_price=False, furnished=False, pets_allowed=False, ex_under_contract=False, min_price=0, max_price=-1, min_bedrooms=0, max_bedrooms=-1, property_types=[], min_bathrooms=0, min_carspaces=0, min_land_size=0, construction_status=None, keywords=[], exclude_keywords=[]) method of realestate_com_au.realestate_com_au.RealestateComAu instance\n",
      "\n"
     ]
    }
   ],
   "source": [
    "#listings = api.search(locations=[\"north rocks\"], channel=\"sold\",bedrooms=4, exclude_keywords=[\"pool\"])\n",
    "\n",
    "help(api.search)\n"
   ]
  },
  {
   "cell_type": "code",
   "execution_count": 32,
   "id": "7633f51a",
   "metadata": {},
   "outputs": [],
   "source": [
    "#listings = api.search(locations=[\"north rocks\"], channel=\"sold\",min_bedrooms=3, max_bedrooms=4, exclude_keywords=[\"pool\"])\n",
    "#listings = api.search(locations=[\"north rocks\"], channel=\"sold\", exclude_keywords=[\"pool\"])\n",
    "listings = api.search(locations=[\"north rocks, nsw 2155\"], channel=\"sold\", exclude_keywords=[\"pool\"])"
   ]
  },
  {
   "cell_type": "code",
   "execution_count": 14,
   "id": "8d850a3d",
   "metadata": {},
   "outputs": [
    {
     "data": {
      "text/html": [
       "<div>\n",
       "<style scoped>\n",
       "    .dataframe tbody tr th:only-of-type {\n",
       "        vertical-align: middle;\n",
       "    }\n",
       "\n",
       "    .dataframe tbody tr th {\n",
       "        vertical-align: top;\n",
       "    }\n",
       "\n",
       "    .dataframe thead th {\n",
       "        text-align: right;\n",
       "    }\n",
       "</style>\n",
       "<table border=\"1\" class=\"dataframe\">\n",
       "  <thead>\n",
       "    <tr style=\"text-align: right;\">\n",
       "      <th></th>\n",
       "      <th>id</th>\n",
       "      <th>url</th>\n",
       "      <th>suburb</th>\n",
       "      <th>state</th>\n",
       "      <th>postcode</th>\n",
       "      <th>short_address</th>\n",
       "      <th>full_address</th>\n",
       "      <th>property_type</th>\n",
       "      <th>price</th>\n",
       "      <th>bedrooms</th>\n",
       "      <th>...</th>\n",
       "      <th>building_size_unit</th>\n",
       "      <th>land_size</th>\n",
       "      <th>land_size_unit</th>\n",
       "      <th>listing_company_id</th>\n",
       "      <th>listing_company_name</th>\n",
       "      <th>listing_company_phone</th>\n",
       "      <th>auction_date</th>\n",
       "      <th>sold_date</th>\n",
       "      <th>description</th>\n",
       "      <th>listers</th>\n",
       "    </tr>\n",
       "  </thead>\n",
       "  <tbody>\n",
       "    <tr>\n",
       "      <th>0</th>\n",
       "      <td>138947531</td>\n",
       "      <td>https://www.realestate.com.au/sold/property-ho...</td>\n",
       "      <td>North Rocks</td>\n",
       "      <td>NSW</td>\n",
       "      <td>2151</td>\n",
       "      <td>30 Speers Road</td>\n",
       "      <td>30 Speers Road, North Rocks, NSW 2151</td>\n",
       "      <td>house</td>\n",
       "      <td>1500000.0</td>\n",
       "      <td>4</td>\n",
       "      <td>...</td>\n",
       "      <td>None</td>\n",
       "      <td>1087.6</td>\n",
       "      <td>m²</td>\n",
       "      <td>STANOR</td>\n",
       "      <td>Stone Real Estate - Parramatta</td>\n",
       "      <td>0296308899</td>\n",
       "      <td>None</td>\n",
       "      <td>20 May 2022</td>\n",
       "      <td>Superbly positioned four-bedroom family oasis,...</td>\n",
       "      <td>[{'id': '2453562', 'name': 'Ashton Beukers', '...</td>\n",
       "    </tr>\n",
       "    <tr>\n",
       "      <th>1</th>\n",
       "      <td>139112471</td>\n",
       "      <td>https://www.realestate.com.au/sold/property-ho...</td>\n",
       "      <td>North Rocks</td>\n",
       "      <td>NSW</td>\n",
       "      <td>2151</td>\n",
       "      <td>9 Ebony Avenue</td>\n",
       "      <td>9 Ebony Avenue, North Rocks, NSW 2151</td>\n",
       "      <td>house</td>\n",
       "      <td>1637000.0</td>\n",
       "      <td>3</td>\n",
       "      <td>...</td>\n",
       "      <td>None</td>\n",
       "      <td>-1.0</td>\n",
       "      <td>None</td>\n",
       "      <td>JIYHLG</td>\n",
       "      <td>Harcourts Exclusive</td>\n",
       "      <td>0298726111</td>\n",
       "      <td>None</td>\n",
       "      <td>17 May 2022</td>\n",
       "      <td>When they say \"opportunity only knocks once\", ...</td>\n",
       "      <td>[{'id': '1202739', 'name': 'Andrew Magro', 'ag...</td>\n",
       "    </tr>\n",
       "  </tbody>\n",
       "</table>\n",
       "<p>2 rows × 23 columns</p>\n",
       "</div>"
      ],
      "text/plain": [
       "          id                                                url       suburb  \\\n",
       "0  138947531  https://www.realestate.com.au/sold/property-ho...  North Rocks   \n",
       "1  139112471  https://www.realestate.com.au/sold/property-ho...  North Rocks   \n",
       "\n",
       "  state postcode   short_address                           full_address  \\\n",
       "0   NSW     2151  30 Speers Road  30 Speers Road, North Rocks, NSW 2151   \n",
       "1   NSW     2151  9 Ebony Avenue  9 Ebony Avenue, North Rocks, NSW 2151   \n",
       "\n",
       "  property_type      price  bedrooms  ...  building_size_unit  land_size  \\\n",
       "0         house  1500000.0         4  ...                None     1087.6   \n",
       "1         house  1637000.0         3  ...                None       -1.0   \n",
       "\n",
       "  land_size_unit listing_company_id            listing_company_name  \\\n",
       "0             m²             STANOR  Stone Real Estate - Parramatta   \n",
       "1           None             JIYHLG             Harcourts Exclusive   \n",
       "\n",
       "  listing_company_phone auction_date    sold_date  \\\n",
       "0            0296308899         None  20 May 2022   \n",
       "1            0298726111         None  17 May 2022   \n",
       "\n",
       "                                         description  \\\n",
       "0  Superbly positioned four-bedroom family oasis,...   \n",
       "1  When they say \"opportunity only knocks once\", ...   \n",
       "\n",
       "                                             listers  \n",
       "0  [{'id': '2453562', 'name': 'Ashton Beukers', '...  \n",
       "1  [{'id': '1202739', 'name': 'Andrew Magro', 'ag...  \n",
       "\n",
       "[2 rows x 23 columns]"
      ]
     },
     "execution_count": 14,
     "metadata": {},
     "output_type": "execute_result"
    }
   ],
   "source": [
    "import pandas as pd\n",
    "df = pd.DataFrame(listings)\n",
    "df.head(2)"
   ]
  },
  {
   "cell_type": "code",
   "execution_count": 29,
   "id": "a87d5fba",
   "metadata": {},
   "outputs": [
    {
     "data": {
      "text/html": [
       "<div>\n",
       "<style scoped>\n",
       "    .dataframe tbody tr th:only-of-type {\n",
       "        vertical-align: middle;\n",
       "    }\n",
       "\n",
       "    .dataframe tbody tr th {\n",
       "        vertical-align: top;\n",
       "    }\n",
       "\n",
       "    .dataframe thead th {\n",
       "        text-align: right;\n",
       "    }\n",
       "</style>\n",
       "<table border=\"1\" class=\"dataframe\">\n",
       "  <thead>\n",
       "    <tr style=\"text-align: right;\">\n",
       "      <th></th>\n",
       "      <th>price</th>\n",
       "      <th>bedrooms</th>\n",
       "      <th>bathrooms</th>\n",
       "      <th>parking_spaces</th>\n",
       "      <th>land_size</th>\n",
       "    </tr>\n",
       "  </thead>\n",
       "  <tbody>\n",
       "    <tr>\n",
       "      <th>count</th>\n",
       "      <td>6.070000e+02</td>\n",
       "      <td>700.000000</td>\n",
       "      <td>700.000000</td>\n",
       "      <td>700.000000</td>\n",
       "      <td>700.000000</td>\n",
       "    </tr>\n",
       "    <tr>\n",
       "      <th>mean</th>\n",
       "      <td>1.018253e+06</td>\n",
       "      <td>3.402857</td>\n",
       "      <td>1.821429</td>\n",
       "      <td>1.968571</td>\n",
       "      <td>448.561857</td>\n",
       "    </tr>\n",
       "    <tr>\n",
       "      <th>std</th>\n",
       "      <td>3.456966e+05</td>\n",
       "      <td>0.490823</td>\n",
       "      <td>0.603612</td>\n",
       "      <td>0.810613</td>\n",
       "      <td>406.400755</td>\n",
       "    </tr>\n",
       "    <tr>\n",
       "      <th>min</th>\n",
       "      <td>4.550000e+05</td>\n",
       "      <td>3.000000</td>\n",
       "      <td>1.000000</td>\n",
       "      <td>0.000000</td>\n",
       "      <td>-1.000000</td>\n",
       "    </tr>\n",
       "    <tr>\n",
       "      <th>25%</th>\n",
       "      <td>7.500000e+05</td>\n",
       "      <td>3.000000</td>\n",
       "      <td>1.000000</td>\n",
       "      <td>2.000000</td>\n",
       "      <td>-1.000000</td>\n",
       "    </tr>\n",
       "    <tr>\n",
       "      <th>50%</th>\n",
       "      <td>9.700000e+05</td>\n",
       "      <td>3.000000</td>\n",
       "      <td>2.000000</td>\n",
       "      <td>2.000000</td>\n",
       "      <td>695.000000</td>\n",
       "    </tr>\n",
       "    <tr>\n",
       "      <th>75%</th>\n",
       "      <td>1.238250e+06</td>\n",
       "      <td>4.000000</td>\n",
       "      <td>2.000000</td>\n",
       "      <td>2.000000</td>\n",
       "      <td>735.000000</td>\n",
       "    </tr>\n",
       "    <tr>\n",
       "      <th>max</th>\n",
       "      <td>2.407000e+06</td>\n",
       "      <td>4.000000</td>\n",
       "      <td>4.000000</td>\n",
       "      <td>10.000000</td>\n",
       "      <td>1842.000000</td>\n",
       "    </tr>\n",
       "  </tbody>\n",
       "</table>\n",
       "</div>"
      ],
      "text/plain": [
       "              price    bedrooms   bathrooms  parking_spaces    land_size\n",
       "count  6.070000e+02  700.000000  700.000000      700.000000   700.000000\n",
       "mean   1.018253e+06    3.402857    1.821429        1.968571   448.561857\n",
       "std    3.456966e+05    0.490823    0.603612        0.810613   406.400755\n",
       "min    4.550000e+05    3.000000    1.000000        0.000000    -1.000000\n",
       "25%    7.500000e+05    3.000000    1.000000        2.000000    -1.000000\n",
       "50%    9.700000e+05    3.000000    2.000000        2.000000   695.000000\n",
       "75%    1.238250e+06    4.000000    2.000000        2.000000   735.000000\n",
       "max    2.407000e+06    4.000000    4.000000       10.000000  1842.000000"
      ]
     },
     "execution_count": 29,
     "metadata": {},
     "output_type": "execute_result"
    }
   ],
   "source": [
    "#average(listings.bedrooms)\n",
    "#average(listings.bedrooms)\n",
    "\n",
    "df.describe()\n",
    "#df.info()"
   ]
  },
  {
   "cell_type": "code",
   "execution_count": 27,
   "id": "6c95555d",
   "metadata": {},
   "outputs": [
    {
     "data": {
      "text/plain": [
       "0     2022-05-20\n",
       "1     2022-05-17\n",
       "2     2022-05-14\n",
       "3     2022-04-29\n",
       "4     2022-04-14\n",
       "         ...    \n",
       "695   2009-12-23\n",
       "696   2009-12-18\n",
       "697   2009-12-10\n",
       "698   2009-11-10\n",
       "699   2009-11-04\n",
       "Name: sold_date_dt, Length: 700, dtype: datetime64[ns]"
      ]
     },
     "execution_count": 27,
     "metadata": {},
     "output_type": "execute_result"
    }
   ],
   "source": [
    "df[\"sold_date_dt\"] = pd.to_datetime(df[\"sold_date\"])\n",
    "df[\"sold_date_dt\"]"
   ]
  },
  {
   "cell_type": "code",
   "execution_count": 30,
   "id": "4d458cd8",
   "metadata": {},
   "outputs": [
    {
     "data": {
      "text/plain": [
       "auction_date             700\n",
       "building_size            673\n",
       "building_size_unit       673\n",
       "land_size_unit           290\n",
       "listing_company_phone    103\n",
       "listing_company_name     103\n",
       "listing_company_id       103\n",
       "price                     93\n",
       "short_address             24\n",
       "full_address              24\n",
       "land_size                  0\n",
       "listers                    0\n",
       "description                0\n",
       "sold_date                  0\n",
       "id                         0\n",
       "url                        0\n",
       "parking_spaces             0\n",
       "bathrooms                  0\n",
       "bedrooms                   0\n",
       "property_type              0\n",
       "postcode                   0\n",
       "state                      0\n",
       "suburb                     0\n",
       "sold_date_dt               0\n",
       "dtype: int64"
      ]
     },
     "execution_count": 30,
     "metadata": {},
     "output_type": "execute_result"
    }
   ],
   "source": [
    "df.isnull().sum().sort_values(ascending=False)"
   ]
  },
  {
   "cell_type": "code",
   "execution_count": 33,
   "id": "5f145dfd",
   "metadata": {},
   "outputs": [
    {
     "data": {
      "text/plain": [
       "array(['2151', '2125'], dtype=object)"
      ]
     },
     "execution_count": 33,
     "metadata": {},
     "output_type": "execute_result"
    }
   ],
   "source": [
    "df[\"postcode\"].unique()"
   ]
  },
  {
   "cell_type": "code",
   "execution_count": 37,
   "id": "5d9e206b",
   "metadata": {},
   "outputs": [
    {
     "ename": "NameError",
     "evalue": "name 'go' is not defined",
     "output_type": "error",
     "traceback": [
      "\u001b[0;31m---------------------------------------------------------------------------\u001b[0m",
      "\u001b[0;31mNameError\u001b[0m                                 Traceback (most recent call last)",
      "Input \u001b[0;32mIn [37]\u001b[0m, in \u001b[0;36m<cell line: 3>\u001b[0;34m()\u001b[0m\n\u001b[1;32m      1\u001b[0m price \u001b[38;5;241m=\u001b[39m df[\u001b[38;5;124m\"\u001b[39m\u001b[38;5;124mprice\u001b[39m\u001b[38;5;124m\"\u001b[39m]\u001b[38;5;241m.\u001b[39mvalues\n\u001b[1;32m      2\u001b[0m \u001b[38;5;66;03m# Histograms\u001b[39;00m\n\u001b[0;32m----> 3\u001b[0m overall_price_plot \u001b[38;5;241m=\u001b[39m \u001b[43mgo\u001b[49m\u001b[38;5;241m.\u001b[39mHistogram(\n\u001b[1;32m      4\u001b[0m     x\u001b[38;5;241m=\u001b[39mprice,\n\u001b[1;32m      5\u001b[0m     histnorm\u001b[38;5;241m=\u001b[39m\u001b[38;5;124m'\u001b[39m\u001b[38;5;124mcount\u001b[39m\u001b[38;5;124m'\u001b[39m, \n\u001b[1;32m      6\u001b[0m     name\u001b[38;5;241m=\u001b[39m\u001b[38;5;124m'\u001b[39m\u001b[38;5;124mAll Regions\u001b[39m\u001b[38;5;124m'\u001b[39m,\n\u001b[1;32m      7\u001b[0m     marker\u001b[38;5;241m=\u001b[39m\u001b[38;5;28mdict\u001b[39m(\n\u001b[1;32m      8\u001b[0m         color\u001b[38;5;241m=\u001b[39m\u001b[38;5;124m'\u001b[39m\u001b[38;5;124m#6E6E6E\u001b[39m\u001b[38;5;124m'\u001b[39m\n\u001b[1;32m      9\u001b[0m     )\n\u001b[1;32m     10\u001b[0m )\n",
      "\u001b[0;31mNameError\u001b[0m: name 'go' is not defined"
     ]
    }
   ],
   "source": [
    "price = df[\"price\"].values\n",
    "# Histograms\n",
    "overall_price_plot = go.Histogram(\n",
    "    x=price,\n",
    "    histnorm='count', \n",
    "    name='All Regions',\n",
    "    marker=dict(\n",
    "        color='#6E6E6E'\n",
    "    )\n",
    ")\n"
   ]
  }
 ],
 "metadata": {
  "kernelspec": {
   "display_name": "Python 3 (ipykernel)",
   "language": "python",
   "name": "python3"
  },
  "language_info": {
   "codemirror_mode": {
    "name": "ipython",
    "version": 3
   },
   "file_extension": ".py",
   "mimetype": "text/x-python",
   "name": "python",
   "nbconvert_exporter": "python",
   "pygments_lexer": "ipython3",
   "version": "3.9.7"
  }
 },
 "nbformat": 4,
 "nbformat_minor": 5
}
