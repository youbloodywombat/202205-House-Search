{
 "cells": [
  {
   "cell_type": "code",
   "execution_count": 1,
   "id": "4536f51e",
   "metadata": {},
   "outputs": [],
   "source": [
    "import numpy as np \n",
    "import pandas as pd \n",
    "import os\n",
    "#from chart_studio.plotly.offline import init_notebook_mode, iplot\n",
    "#import chart_studio.plotly.plotly as py\n",
    "#import chart_studio.plotly.figure_factory as FF\n",
    "#import chart_studio.plotly.plotly as py\n",
    "#from chart_studio.plotly import tools\n",
    "#from chart_studio.plotly import tools\n",
    "#import chart_studio.plotly.graph_objs as go\n",
    "\n",
    "import chart_studio.plotly as py\n",
    "\n",
    "import plotly.graph_objects as go\n",
    "import plotly.express as px\n",
    "from plotly.subplots import make_subplots\n",
    "\n",
    "import matplotlib.pyplot as plt\n",
    "import seaborn as sns\n",
    "import folium\n",
    "from folium.features import DivIcon\n",
    "from folium.plugins import HeatMap\n",
    "import warnings\n",
    "import datetime\n",
    "import squarify\n",
    "warnings.filterwarnings(\"ignore\")\n",
    "# init_notebook_mode(connected=True)\n",
    "\n",
    "from datetime import date\n",
    "dtm = datetime.datetime(2021, 1, 1, 0, 0, 0, 000000)\n",
    "\n",
    "pd.set_option('display.max_colwidth', 100)"
   ]
  },
  {
   "cell_type": "code",
   "execution_count": null,
   "id": "b54af0b4",
   "metadata": {},
   "outputs": [],
   "source": [
    "listings = api.search(locations=[\"ryde\"], channel=\"buy\",bedrooms=4, exclude_keywords=[\"pool\"])\n",
    "final2 = pd.DataFrame(listings)\n",
    "final2[\"sold_date_dt\"] = pd.to_datetime(final2[\"sold_date\"])\n",
    "final3 = final2[final2[\"sold_date_dt\"] >= dtm]"
   ]
  }
 ],
 "metadata": {
  "kernelspec": {
   "display_name": "Python 3 (ipykernel)",
   "language": "python",
   "name": "python3"
  },
  "language_info": {
   "codemirror_mode": {
    "name": "ipython",
    "version": 3
   },
   "file_extension": ".py",
   "mimetype": "text/x-python",
   "name": "python",
   "nbconvert_exporter": "python",
   "pygments_lexer": "ipython3",
   "version": "3.9.7"
  }
 },
 "nbformat": 4,
 "nbformat_minor": 5
}
